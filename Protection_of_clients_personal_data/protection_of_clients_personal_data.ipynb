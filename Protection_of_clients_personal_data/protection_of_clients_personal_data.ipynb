{
 "cells": [
  {
   "cell_type": "markdown",
   "metadata": {},
   "source": [
    "# Защита персональных данных клиентов"
   ]
  },
  {
   "cell_type": "markdown",
   "metadata": {},
   "source": [
    "# Задача"
   ]
  },
  {
   "cell_type": "markdown",
   "metadata": {},
   "source": [
    "Нужно защитить данные клиентов страховой компании. Разработать такой метод преобразования данных, чтобы по ним было сложно восстановить персональную информацию. Обосновать корректность его работы.\n",
    "\n",
    "Нужно защитить данные, чтобы при преобразовании качество моделей машинного обучения не ухудшилось."
   ]
  },
  {
   "cell_type": "markdown",
   "metadata": {},
   "source": [
    "# План"
   ]
  },
  {
   "cell_type": "markdown",
   "metadata": {},
   "source": [
    "**1. Загрузка данных.**\n",
    "\n",
    "    1.1. Проверка данных на наличие дубликатов.\n",
    "    1.2. Анализ распределений признаков.\n",
    "    1.3. Проверка данных на аномальность.\n",
    "    \n",
    "**2. Умножение матриц.**\n",
    "\n",
    "**3. Алгоритм преобразования.**\n",
    "**4. Проверка алгоритма.**\n",
    "    \n",
    "    4.1. Написание функции для нашего алгоритма преобразования.\n",
    "    4.2. Обучение модели без алгоритма.\n",
    "    4.3. Обучение модели с применением алгоритма.\n",
    "    \n",
    "**5. Выводы.**"
   ]
  },
  {
   "cell_type": "markdown",
   "metadata": {},
   "source": [
    "## Загрузка данных"
   ]
  },
  {
   "cell_type": "code",
   "execution_count": 1,
   "metadata": {},
   "outputs": [],
   "source": [
    "import pandas as pd\n",
    "import matplotlib.pyplot as plt\n",
    "import seaborn as sns\n",
    "import numpy as np\n",
    "from sklearn.linear_model import LinearRegression\n",
    "from sklearn.metrics import r2_score\n",
    "from sklearn.model_selection import train_test_split"
   ]
  },
  {
   "cell_type": "code",
   "execution_count": 2,
   "metadata": {},
   "outputs": [
    {
     "data": {
      "text/html": [
       "<div>\n",
       "<style scoped>\n",
       "    .dataframe tbody tr th:only-of-type {\n",
       "        vertical-align: middle;\n",
       "    }\n",
       "\n",
       "    .dataframe tbody tr th {\n",
       "        vertical-align: top;\n",
       "    }\n",
       "\n",
       "    .dataframe thead th {\n",
       "        text-align: right;\n",
       "    }\n",
       "</style>\n",
       "<table border=\"1\" class=\"dataframe\">\n",
       "  <thead>\n",
       "    <tr style=\"text-align: right;\">\n",
       "      <th></th>\n",
       "      <th>Пол</th>\n",
       "      <th>Возраст</th>\n",
       "      <th>Зарплата</th>\n",
       "      <th>Члены семьи</th>\n",
       "      <th>Страховые выплаты</th>\n",
       "    </tr>\n",
       "  </thead>\n",
       "  <tbody>\n",
       "    <tr>\n",
       "      <th>0</th>\n",
       "      <td>1</td>\n",
       "      <td>41.0</td>\n",
       "      <td>49600.0</td>\n",
       "      <td>1</td>\n",
       "      <td>0</td>\n",
       "    </tr>\n",
       "    <tr>\n",
       "      <th>1</th>\n",
       "      <td>0</td>\n",
       "      <td>46.0</td>\n",
       "      <td>38000.0</td>\n",
       "      <td>1</td>\n",
       "      <td>1</td>\n",
       "    </tr>\n",
       "    <tr>\n",
       "      <th>2</th>\n",
       "      <td>0</td>\n",
       "      <td>29.0</td>\n",
       "      <td>21000.0</td>\n",
       "      <td>0</td>\n",
       "      <td>0</td>\n",
       "    </tr>\n",
       "    <tr>\n",
       "      <th>3</th>\n",
       "      <td>0</td>\n",
       "      <td>21.0</td>\n",
       "      <td>41700.0</td>\n",
       "      <td>2</td>\n",
       "      <td>0</td>\n",
       "    </tr>\n",
       "    <tr>\n",
       "      <th>4</th>\n",
       "      <td>1</td>\n",
       "      <td>28.0</td>\n",
       "      <td>26100.0</td>\n",
       "      <td>0</td>\n",
       "      <td>0</td>\n",
       "    </tr>\n",
       "  </tbody>\n",
       "</table>\n",
       "</div>"
      ],
      "text/plain": [
       "   Пол  Возраст  Зарплата  Члены семьи  Страховые выплаты\n",
       "0    1     41.0   49600.0            1                  0\n",
       "1    0     46.0   38000.0            1                  1\n",
       "2    0     29.0   21000.0            0                  0\n",
       "3    0     21.0   41700.0            2                  0\n",
       "4    1     28.0   26100.0            0                  0"
      ]
     },
     "execution_count": 2,
     "metadata": {},
     "output_type": "execute_result"
    }
   ],
   "source": [
    "insur_data = pd.read_csv('/datasets/insurance.csv')\n",
    "insur_data.head()"
   ]
  },
  {
   "cell_type": "code",
   "execution_count": 3,
   "metadata": {},
   "outputs": [
    {
     "name": "stdout",
     "output_type": "stream",
     "text": [
      "<class 'pandas.core.frame.DataFrame'>\n",
      "RangeIndex: 5000 entries, 0 to 4999\n",
      "Data columns (total 5 columns):\n",
      " #   Column             Non-Null Count  Dtype  \n",
      "---  ------             --------------  -----  \n",
      " 0   Пол                5000 non-null   int64  \n",
      " 1   Возраст            5000 non-null   float64\n",
      " 2   Зарплата           5000 non-null   float64\n",
      " 3   Члены семьи        5000 non-null   int64  \n",
      " 4   Страховые выплаты  5000 non-null   int64  \n",
      "dtypes: float64(2), int64(3)\n",
      "memory usage: 195.4 KB\n"
     ]
    }
   ],
   "source": [
    "insur_data.info()"
   ]
  },
  {
   "cell_type": "markdown",
   "metadata": {},
   "source": [
    "Пропусков в данных нет."
   ]
  },
  {
   "cell_type": "markdown",
   "metadata": {},
   "source": [
    "### Провеим данные на наличие дубликатов"
   ]
  },
  {
   "cell_type": "code",
   "execution_count": 4,
   "metadata": {},
   "outputs": [
    {
     "data": {
      "text/plain": [
       "153"
      ]
     },
     "execution_count": 4,
     "metadata": {},
     "output_type": "execute_result"
    }
   ],
   "source": [
    "insur_data.duplicated().sum()"
   ]
  },
  {
   "cell_type": "code",
   "execution_count": 5,
   "metadata": {},
   "outputs": [
    {
     "data": {
      "text/html": [
       "<div>\n",
       "<style scoped>\n",
       "    .dataframe tbody tr th:only-of-type {\n",
       "        vertical-align: middle;\n",
       "    }\n",
       "\n",
       "    .dataframe tbody tr th {\n",
       "        vertical-align: top;\n",
       "    }\n",
       "\n",
       "    .dataframe thead th {\n",
       "        text-align: right;\n",
       "    }\n",
       "</style>\n",
       "<table border=\"1\" class=\"dataframe\">\n",
       "  <thead>\n",
       "    <tr style=\"text-align: right;\">\n",
       "      <th></th>\n",
       "      <th>Пол</th>\n",
       "      <th>Возраст</th>\n",
       "      <th>Зарплата</th>\n",
       "      <th>Члены семьи</th>\n",
       "      <th>Страховые выплаты</th>\n",
       "    </tr>\n",
       "  </thead>\n",
       "  <tbody>\n",
       "    <tr>\n",
       "      <th>281</th>\n",
       "      <td>1</td>\n",
       "      <td>39.0</td>\n",
       "      <td>48100.0</td>\n",
       "      <td>1</td>\n",
       "      <td>0</td>\n",
       "    </tr>\n",
       "    <tr>\n",
       "      <th>488</th>\n",
       "      <td>1</td>\n",
       "      <td>24.0</td>\n",
       "      <td>32900.0</td>\n",
       "      <td>1</td>\n",
       "      <td>0</td>\n",
       "    </tr>\n",
       "    <tr>\n",
       "      <th>513</th>\n",
       "      <td>0</td>\n",
       "      <td>31.0</td>\n",
       "      <td>37400.0</td>\n",
       "      <td>2</td>\n",
       "      <td>0</td>\n",
       "    </tr>\n",
       "    <tr>\n",
       "      <th>718</th>\n",
       "      <td>1</td>\n",
       "      <td>22.0</td>\n",
       "      <td>32600.0</td>\n",
       "      <td>1</td>\n",
       "      <td>0</td>\n",
       "    </tr>\n",
       "    <tr>\n",
       "      <th>785</th>\n",
       "      <td>0</td>\n",
       "      <td>20.0</td>\n",
       "      <td>35800.0</td>\n",
       "      <td>0</td>\n",
       "      <td>0</td>\n",
       "    </tr>\n",
       "    <tr>\n",
       "      <th>...</th>\n",
       "      <td>...</td>\n",
       "      <td>...</td>\n",
       "      <td>...</td>\n",
       "      <td>...</td>\n",
       "      <td>...</td>\n",
       "    </tr>\n",
       "    <tr>\n",
       "      <th>4793</th>\n",
       "      <td>1</td>\n",
       "      <td>24.0</td>\n",
       "      <td>37800.0</td>\n",
       "      <td>0</td>\n",
       "      <td>0</td>\n",
       "    </tr>\n",
       "    <tr>\n",
       "      <th>4902</th>\n",
       "      <td>1</td>\n",
       "      <td>35.0</td>\n",
       "      <td>38700.0</td>\n",
       "      <td>1</td>\n",
       "      <td>0</td>\n",
       "    </tr>\n",
       "    <tr>\n",
       "      <th>4935</th>\n",
       "      <td>1</td>\n",
       "      <td>19.0</td>\n",
       "      <td>32700.0</td>\n",
       "      <td>0</td>\n",
       "      <td>0</td>\n",
       "    </tr>\n",
       "    <tr>\n",
       "      <th>4945</th>\n",
       "      <td>1</td>\n",
       "      <td>21.0</td>\n",
       "      <td>45800.0</td>\n",
       "      <td>0</td>\n",
       "      <td>0</td>\n",
       "    </tr>\n",
       "    <tr>\n",
       "      <th>4965</th>\n",
       "      <td>0</td>\n",
       "      <td>22.0</td>\n",
       "      <td>40100.0</td>\n",
       "      <td>1</td>\n",
       "      <td>0</td>\n",
       "    </tr>\n",
       "  </tbody>\n",
       "</table>\n",
       "<p>153 rows × 5 columns</p>\n",
       "</div>"
      ],
      "text/plain": [
       "      Пол  Возраст  Зарплата  Члены семьи  Страховые выплаты\n",
       "281     1     39.0   48100.0            1                  0\n",
       "488     1     24.0   32900.0            1                  0\n",
       "513     0     31.0   37400.0            2                  0\n",
       "718     1     22.0   32600.0            1                  0\n",
       "785     0     20.0   35800.0            0                  0\n",
       "...   ...      ...       ...          ...                ...\n",
       "4793    1     24.0   37800.0            0                  0\n",
       "4902    1     35.0   38700.0            1                  0\n",
       "4935    1     19.0   32700.0            0                  0\n",
       "4945    1     21.0   45800.0            0                  0\n",
       "4965    0     22.0   40100.0            1                  0\n",
       "\n",
       "[153 rows x 5 columns]"
      ]
     },
     "execution_count": 5,
     "metadata": {},
     "output_type": "execute_result"
    }
   ],
   "source": [
    "insur_data.loc[insur_data.duplicated() == True]"
   ]
  },
  {
   "cell_type": "markdown",
   "metadata": {},
   "source": [
    "В данных есть 153 дубликата, но они естстественны, т.к. могут встречаться 2 человека с одинаковыми параметрами. Оставим эти строки."
   ]
  },
  {
   "cell_type": "markdown",
   "metadata": {},
   "source": [
    "### Посмотрим на распределения признаков."
   ]
  },
  {
   "cell_type": "code",
   "execution_count": 6,
   "metadata": {},
   "outputs": [
    {
     "data": {
      "image/png": "[encoded data removed]",
      "text/plain": [
       "<Figure size 1080x720 with 6 Axes>"
      ]
     },
     "metadata": {
      "needs_background": "light"
     },
     "output_type": "display_data"
    }
   ],
   "source": [
    "insur_data.hist(figsize=(15,10), bins=100);"
   ]
  },
  {
   "cell_type": "markdown",
   "metadata": {},
   "source": [
    "У признака \"Пол\" всего два значения 1 и 0, и они примерон равны, по 2500 примеров.\n",
    "\n",
    "Самый распространенный \"Возраст\" в наших данных от 18 до 32 лет, далее идет спад.\n",
    "\n",
    "\"Зарплата\" имеет нормальное распределение от 0 до 80 тыс., самое распространенное значение 40 тыс.\n",
    "\n",
    "Самое распространенное кол-во \"Членов семьи\" 0 и 1, затем 2, совсем редко 3 и 4, и крайне редко 5 и 6.\n",
    "\n",
    "Самое распространенное кол-во страховых выплат 0, более 4000 примеров, затем 1, около 500 примеров, и совсем немного примеров с 2, 3, 4 и 5 выплатами. "
   ]
  },
  {
   "cell_type": "markdown",
   "metadata": {},
   "source": [
    "### Посмотрим на аномальные значения"
   ]
  },
  {
   "cell_type": "code",
   "execution_count": 7,
   "metadata": {},
   "outputs": [
    {
     "data": {
      "text/html": [
       "<div>\n",
       "<style scoped>\n",
       "    .dataframe tbody tr th:only-of-type {\n",
       "        vertical-align: middle;\n",
       "    }\n",
       "\n",
       "    .dataframe tbody tr th {\n",
       "        vertical-align: top;\n",
       "    }\n",
       "\n",
       "    .dataframe thead th {\n",
       "        text-align: right;\n",
       "    }\n",
       "</style>\n",
       "<table border=\"1\" class=\"dataframe\">\n",
       "  <thead>\n",
       "    <tr style=\"text-align: right;\">\n",
       "      <th></th>\n",
       "      <th>Пол</th>\n",
       "      <th>Возраст</th>\n",
       "      <th>Зарплата</th>\n",
       "      <th>Члены семьи</th>\n",
       "      <th>Страховые выплаты</th>\n",
       "    </tr>\n",
       "  </thead>\n",
       "  <tbody>\n",
       "    <tr>\n",
       "      <th>count</th>\n",
       "      <td>5000.000000</td>\n",
       "      <td>5000.000000</td>\n",
       "      <td>5000.000000</td>\n",
       "      <td>5000.000000</td>\n",
       "      <td>5000.000000</td>\n",
       "    </tr>\n",
       "    <tr>\n",
       "      <th>mean</th>\n",
       "      <td>0.499000</td>\n",
       "      <td>30.952800</td>\n",
       "      <td>39916.360000</td>\n",
       "      <td>1.194200</td>\n",
       "      <td>0.148000</td>\n",
       "    </tr>\n",
       "    <tr>\n",
       "      <th>std</th>\n",
       "      <td>0.500049</td>\n",
       "      <td>8.440807</td>\n",
       "      <td>9900.083569</td>\n",
       "      <td>1.091387</td>\n",
       "      <td>0.463183</td>\n",
       "    </tr>\n",
       "    <tr>\n",
       "      <th>min</th>\n",
       "      <td>0.000000</td>\n",
       "      <td>18.000000</td>\n",
       "      <td>5300.000000</td>\n",
       "      <td>0.000000</td>\n",
       "      <td>0.000000</td>\n",
       "    </tr>\n",
       "    <tr>\n",
       "      <th>25%</th>\n",
       "      <td>0.000000</td>\n",
       "      <td>24.000000</td>\n",
       "      <td>33300.000000</td>\n",
       "      <td>0.000000</td>\n",
       "      <td>0.000000</td>\n",
       "    </tr>\n",
       "    <tr>\n",
       "      <th>50%</th>\n",
       "      <td>0.000000</td>\n",
       "      <td>30.000000</td>\n",
       "      <td>40200.000000</td>\n",
       "      <td>1.000000</td>\n",
       "      <td>0.000000</td>\n",
       "    </tr>\n",
       "    <tr>\n",
       "      <th>75%</th>\n",
       "      <td>1.000000</td>\n",
       "      <td>37.000000</td>\n",
       "      <td>46600.000000</td>\n",
       "      <td>2.000000</td>\n",
       "      <td>0.000000</td>\n",
       "    </tr>\n",
       "    <tr>\n",
       "      <th>max</th>\n",
       "      <td>1.000000</td>\n",
       "      <td>65.000000</td>\n",
       "      <td>79000.000000</td>\n",
       "      <td>6.000000</td>\n",
       "      <td>5.000000</td>\n",
       "    </tr>\n",
       "  </tbody>\n",
       "</table>\n",
       "</div>"
      ],
      "text/plain": [
       "               Пол      Возраст      Зарплата  Члены семьи  Страховые выплаты\n",
       "count  5000.000000  5000.000000   5000.000000  5000.000000        5000.000000\n",
       "mean      0.499000    30.952800  39916.360000     1.194200           0.148000\n",
       "std       0.500049     8.440807   9900.083569     1.091387           0.463183\n",
       "min       0.000000    18.000000   5300.000000     0.000000           0.000000\n",
       "25%       0.000000    24.000000  33300.000000     0.000000           0.000000\n",
       "50%       0.000000    30.000000  40200.000000     1.000000           0.000000\n",
       "75%       1.000000    37.000000  46600.000000     2.000000           0.000000\n",
       "max       1.000000    65.000000  79000.000000     6.000000           5.000000"
      ]
     },
     "execution_count": 7,
     "metadata": {},
     "output_type": "execute_result"
    }
   ],
   "source": [
    "insur_data.describe()"
   ]
  },
  {
   "cell_type": "code",
   "execution_count": 8,
   "metadata": {},
   "outputs": [],
   "source": [
    "clear_insur_data = insur_data"
   ]
  },
  {
   "cell_type": "markdown",
   "metadata": {},
   "source": [
    "**Промежуточные выводы**\n",
    "\n",
    "Мы провели предобработку данных. Проверили налачие аномалий.\n"
   ]
  },
  {
   "cell_type": "markdown",
   "metadata": {},
   "source": [
    "## Умножение матриц"
   ]
  },
  {
   "cell_type": "markdown",
   "metadata": {},
   "source": [
    "Признаки умножают на обратимую матрицу. Изменится ли качество линейной регрессии?"
   ]
  },
  {
   "cell_type": "markdown",
   "metadata": {},
   "source": [
    "Обозначения:\n",
    "\n",
    "- $X$ — матрица признаков (нулевой столбец состоит из единиц)\n",
    "\n",
    "- $y$ — вектор целевого признака\n",
    "\n",
    "- $P$ — матрица, на которую умножаются признаки\n",
    "\n",
    "- $w$ — вектор весов линейной регрессии (нулевой элемент равен сдвигу)"
   ]
  },
  {
   "cell_type": "markdown",
   "metadata": {},
   "source": [
    "Предсказания:\n",
    "\n",
    "$$\n",
    "a = Xw\n",
    "$$\n",
    "\n",
    "Задача обучения:\n",
    "\n",
    "$$\n",
    "w = \\arg\\min_w MSE(Xw, y)\n",
    "$$\n",
    "\n",
    "Формула обучения:\n",
    "\n",
    "$$\n",
    "w = (X^T X)^{-1} X^T y\n",
    "$$"
   ]
  },
  {
   "cell_type": "markdown",
   "metadata": {},
   "source": [
    "**Ответ:** качество линейной регрессии не изменится.\n",
    "\n",
    "**Обоснование:** \n",
    "\n",
    "Исходная задача: $$ a = Xw,  w = (X^T X)^{-1} X^T y $$\n",
    "Преобразованная задача: $$ a' = XPw', w' = ((XP)^T XP)^{-1} (XP)^T y$$\n",
    "Доказательство: $$w' = ((XP)^T XP)^{-1} (XP)^T = (P^T X^T XP)^{-1} P^T X^T y = P^{-1} (P^T X^T X)^{-1} P^T X^T y = P^{-1} (X^T X)^{-1} (P^T)^{-1} P^T X^T y = P^{-1} (X^T X)^{-1} E X^T y = P^{-1} (X^T X)^{-1} X^T y = P^{-1} w $$\n",
    "Получили: $$ w' = P^{-1} w $$\n",
    "Тогда: $$ a' = XPw' = XPP^{-1} w = Xw $$\n",
    "Таким образом: $$ a' = a $$\n",
    "Это значит, что при умножении признаков на обратимую матрицу качество линейное регресии не изменится."
   ]
  },
  {
   "cell_type": "markdown",
   "metadata": {},
   "source": [
    "## Алгоритм преобразования"
   ]
  },
  {
   "cell_type": "markdown",
   "metadata": {},
   "source": [
    "**Алгоритм**\n",
    "\n",
    "Создадим случайную обратимую квадратную матрицу **P** -> Умножим матрицу признаков **X** на случайную матрицу **P** -> Обучим модель -> Расшифруем полученный вектор **a** с предсказаниями"
   ]
  },
  {
   "cell_type": "markdown",
   "metadata": {},
   "source": [
    "**Обоснование**\n",
    "\n",
    "$$ a = XPw' = XPP^{-1} w = Xw $$"
   ]
  },
  {
   "cell_type": "markdown",
   "metadata": {},
   "source": [
    "## Проверка алгоритма"
   ]
  },
  {
   "cell_type": "markdown",
   "metadata": {},
   "source": [
    "### Напишем функцию для нашего алгоритма преобразования"
   ]
  },
  {
   "cell_type": "code",
   "execution_count": 9,
   "metadata": {},
   "outputs": [],
   "source": [
    "def matrix_transformation(features):\n",
    "    size_matr = features.shape[1]\n",
    "    cipher_matr = np.random.normal(size=(size_matr,size_matr))\n",
    "    inverse = np.linalg.inv(cipher_matr)\n",
    "    return features.dot(cipher_matr), inverse"
   ]
  },
  {
   "cell_type": "markdown",
   "metadata": {},
   "source": [
    "### Обучим модель без алгоритма"
   ]
  },
  {
   "cell_type": "code",
   "execution_count": 10,
   "metadata": {},
   "outputs": [
    {
     "data": {
      "text/plain": [
       "0.43522757127026546"
      ]
     },
     "execution_count": 10,
     "metadata": {},
     "output_type": "execute_result"
    }
   ],
   "source": [
    "features1 = clear_insur_data.drop('Страховые выплаты', axis=1)\n",
    "target = clear_insur_data['Страховые выплаты']\n",
    "\n",
    "features_train1, features_test1, target_train1, target_test1 = train_test_split(features1, target,\n",
    "                                                                            test_size=0.25, random_state=12345)\n",
    "\n",
    "model1 = LinearRegression()\n",
    "model1.fit(features_train1, target_train1)\n",
    "predictions1 = model1.predict(features_test1)\n",
    "\n",
    "r2_1 = r2_score(target_test1, predictions1)\n",
    "r2_1"
   ]
  },
  {
   "cell_type": "markdown",
   "metadata": {},
   "source": [
    "Итак, до преобразования метрика R2 составляет 0.44."
   ]
  },
  {
   "cell_type": "markdown",
   "metadata": {},
   "source": [
    "### Обучим модель с применением алгоритма\n",
    "\n"
   ]
  },
  {
   "cell_type": "code",
   "execution_count": 11,
   "metadata": {},
   "outputs": [
    {
     "data": {
      "text/plain": [
       "0.43522757127047185"
      ]
     },
     "execution_count": 11,
     "metadata": {},
     "output_type": "execute_result"
    }
   ],
   "source": [
    "features2 = clear_insur_data.drop('Страховые выплаты', axis=1)\n",
    "target = clear_insur_data['Страховые выплаты']\n",
    "\n",
    "features, inverse_matr = matrix_transformation(features2.values)\n",
    "\n",
    "features_train2, features_test2, target_train2, target_test2 = train_test_split(features, target,\n",
    "                                                                            test_size=0.25, random_state=12345)\n",
    "\n",
    "model2 = LinearRegression()\n",
    "model2.fit(features_train2, target_train2)\n",
    "predictions2 = model2.predict(features_test2)\n",
    "\n",
    "r2_1 = r2_score(target_test2, predictions2)\n",
    "r2_1"
   ]
  },
  {
   "cell_type": "markdown",
   "metadata": {},
   "source": [
    "После преобразования метрика R2 по прежнему составляет 0.44."
   ]
  },
  {
   "cell_type": "markdown",
   "metadata": {},
   "source": [
    "## Выводы"
   ]
  },
  {
   "cell_type": "markdown",
   "metadata": {},
   "source": [
    "Мы провели предобработку данных, проверили дубликаты и аномалии.\n",
    "\n",
    "Мы также подтвердили гипотезу о том, что при умножении признаков на обратимую матриц качество линейной регрессии не изменится.\n",
    "\n",
    "Для защиты персональных данных мы использовали умножение признаков на обратимую матрицу, осоновываясь на доказанной гипотезе.\n",
    "\n",
    "Сравнив показатели метрики R2 до и после преобразования данных, мы убедились, что качество модели от преобразования не поменялось. Метрика составила 0.44."
   ]
  }
 ],
 "metadata": {
  "ExecuteTimeLog": [
   {
    "duration": 468,
    "start_time": "2023-06-29T07:03:52.779Z"
   },
   {
    "duration": 70,
    "start_time": "2023-06-29T07:05:22.875Z"
   },
   {
    "duration": 102,
    "start_time": "2023-06-29T07:05:34.140Z"
   },
   {
    "duration": 16,
    "start_time": "2023-06-29T07:05:55.174Z"
   },
   {
    "duration": 12,
    "start_time": "2023-06-29T07:10:27.951Z"
   },
   {
    "duration": 8,
    "start_time": "2023-06-29T07:11:03.110Z"
   },
   {
    "duration": 8,
    "start_time": "2023-06-29T07:11:10.569Z"
   },
   {
    "duration": 18,
    "start_time": "2023-06-29T07:11:50.081Z"
   },
   {
    "duration": 993,
    "start_time": "2023-06-29T07:15:23.596Z"
   },
   {
    "duration": 718,
    "start_time": "2023-06-29T07:15:41.539Z"
   },
   {
    "duration": 340,
    "start_time": "2023-07-01T04:48:45.531Z"
   },
   {
    "duration": 100,
    "start_time": "2023-07-01T04:48:45.872Z"
   },
   {
    "duration": 19,
    "start_time": "2023-07-01T04:48:45.974Z"
   },
   {
    "duration": 8,
    "start_time": "2023-07-01T04:48:45.995Z"
   },
   {
    "duration": 19,
    "start_time": "2023-07-01T04:48:46.005Z"
   },
   {
    "duration": 929,
    "start_time": "2023-07-01T04:48:46.025Z"
   },
   {
    "duration": 70,
    "start_time": "2023-07-01T04:48:55.104Z"
   },
   {
    "duration": 7,
    "start_time": "2023-07-01T04:50:06.063Z"
   },
   {
    "duration": 4,
    "start_time": "2023-07-01T04:50:31.662Z"
   },
   {
    "duration": 143,
    "start_time": "2023-07-01T04:50:35.983Z"
   },
   {
    "duration": 125,
    "start_time": "2023-07-01T04:51:21.302Z"
   },
   {
    "duration": 127,
    "start_time": "2023-07-01T04:51:35.594Z"
   },
   {
    "duration": 140,
    "start_time": "2023-07-01T04:51:39.693Z"
   },
   {
    "duration": 111,
    "start_time": "2023-07-01T04:51:44.132Z"
   },
   {
    "duration": 114,
    "start_time": "2023-07-01T04:52:00.191Z"
   },
   {
    "duration": 124,
    "start_time": "2023-07-01T04:54:11.770Z"
   },
   {
    "duration": 524,
    "start_time": "2023-07-01T04:54:18.570Z"
   },
   {
    "duration": 171,
    "start_time": "2023-07-01T04:54:22.714Z"
   },
   {
    "duration": 93,
    "start_time": "2023-07-01T04:54:32.409Z"
   },
   {
    "duration": 135,
    "start_time": "2023-07-01T04:55:56.320Z"
   },
   {
    "duration": 99,
    "start_time": "2023-07-01T04:57:23.717Z"
   },
   {
    "duration": 99,
    "start_time": "2023-07-01T04:57:41.933Z"
   },
   {
    "duration": 95,
    "start_time": "2023-07-01T04:57:46.021Z"
   },
   {
    "duration": 9,
    "start_time": "2023-07-01T05:01:28.112Z"
   },
   {
    "duration": 10,
    "start_time": "2023-07-01T05:01:50.492Z"
   },
   {
    "duration": 110,
    "start_time": "2023-07-01T05:02:23.809Z"
   },
   {
    "duration": 94,
    "start_time": "2023-07-01T05:02:33.639Z"
   },
   {
    "duration": 92,
    "start_time": "2023-07-01T05:04:02.630Z"
   },
   {
    "duration": 23,
    "start_time": "2023-07-01T05:04:34.605Z"
   },
   {
    "duration": 22,
    "start_time": "2023-07-01T05:04:59.589Z"
   },
   {
    "duration": 28,
    "start_time": "2023-07-01T05:05:07.990Z"
   },
   {
    "duration": 5,
    "start_time": "2023-07-01T05:05:31.557Z"
   },
   {
    "duration": 174,
    "start_time": "2023-07-01T05:06:23.068Z"
   },
   {
    "duration": 112,
    "start_time": "2023-07-01T05:06:50.826Z"
   },
   {
    "duration": 108,
    "start_time": "2023-07-01T05:07:40.994Z"
   },
   {
    "duration": 101,
    "start_time": "2023-07-01T05:07:52.457Z"
   },
   {
    "duration": 115,
    "start_time": "2023-07-01T05:08:04.493Z"
   },
   {
    "duration": 106,
    "start_time": "2023-07-01T05:08:27.168Z"
   },
   {
    "duration": 111,
    "start_time": "2023-07-01T05:08:44.041Z"
   },
   {
    "duration": 95,
    "start_time": "2023-07-01T05:08:52.817Z"
   },
   {
    "duration": 184,
    "start_time": "2023-07-01T05:09:01.729Z"
   },
   {
    "duration": 112,
    "start_time": "2023-07-01T05:09:16.889Z"
   },
   {
    "duration": 149,
    "start_time": "2023-07-01T05:09:34.664Z"
   },
   {
    "duration": 148,
    "start_time": "2023-07-01T05:09:40.063Z"
   },
   {
    "duration": 204,
    "start_time": "2023-07-01T05:09:56.623Z"
   },
   {
    "duration": 116,
    "start_time": "2023-07-01T05:10:08.799Z"
   },
   {
    "duration": 5,
    "start_time": "2023-07-01T05:12:37.436Z"
   },
   {
    "duration": 114,
    "start_time": "2023-07-01T05:14:13.507Z"
   },
   {
    "duration": 5,
    "start_time": "2023-07-01T05:16:02.520Z"
   },
   {
    "duration": 119,
    "start_time": "2023-07-01T05:17:07.896Z"
   },
   {
    "duration": 12,
    "start_time": "2023-07-01T05:18:25.600Z"
   },
   {
    "duration": 1955,
    "start_time": "2023-07-01T05:18:37.927Z"
   },
   {
    "duration": 20,
    "start_time": "2023-07-01T05:18:44.351Z"
   },
   {
    "duration": 27,
    "start_time": "2023-07-01T05:18:59.870Z"
   },
   {
    "duration": 8,
    "start_time": "2023-07-01T11:03:17.597Z"
   },
   {
    "duration": 2,
    "start_time": "2023-07-01T11:03:39.565Z"
   },
   {
    "duration": 8,
    "start_time": "2023-07-01T11:03:49.820Z"
   },
   {
    "duration": 64,
    "start_time": "2023-07-01T11:04:18.611Z"
   },
   {
    "duration": 8,
    "start_time": "2023-07-01T11:04:40.187Z"
   },
   {
    "duration": 8,
    "start_time": "2023-07-01T11:07:22.223Z"
   },
   {
    "duration": 9,
    "start_time": "2023-07-01T11:07:33.143Z"
   },
   {
    "duration": 8,
    "start_time": "2023-07-01T11:08:18.255Z"
   },
   {
    "duration": 8,
    "start_time": "2023-07-01T11:08:21.967Z"
   },
   {
    "duration": 8,
    "start_time": "2023-07-01T11:08:27.143Z"
   },
   {
    "duration": 6,
    "start_time": "2023-07-01T11:09:03.958Z"
   },
   {
    "duration": 14,
    "start_time": "2023-07-01T11:10:36.652Z"
   },
   {
    "duration": 6,
    "start_time": "2023-07-01T11:19:55.580Z"
   },
   {
    "duration": 432,
    "start_time": "2023-07-01T11:23:45.688Z"
   },
   {
    "duration": 20,
    "start_time": "2023-07-01T11:23:57.948Z"
   },
   {
    "duration": 4,
    "start_time": "2023-07-01T11:24:14.003Z"
   },
   {
    "duration": 12,
    "start_time": "2023-07-01T11:24:18.028Z"
   },
   {
    "duration": 12,
    "start_time": "2023-07-01T11:26:18.225Z"
   },
   {
    "duration": 17,
    "start_time": "2023-07-01T11:28:28.558Z"
   },
   {
    "duration": 121,
    "start_time": "2023-07-01T11:31:44.163Z"
   },
   {
    "duration": 15,
    "start_time": "2023-07-01T11:31:54.715Z"
   },
   {
    "duration": 13,
    "start_time": "2023-07-01T11:34:39.287Z"
   },
   {
    "duration": 16,
    "start_time": "2023-07-01T11:35:44.811Z"
   },
   {
    "duration": 13,
    "start_time": "2023-07-01T11:36:09.949Z"
   },
   {
    "duration": 12,
    "start_time": "2023-07-01T11:36:19.798Z"
   },
   {
    "duration": 14,
    "start_time": "2023-07-01T11:37:41.188Z"
   },
   {
    "duration": 10,
    "start_time": "2023-07-01T11:40:02.401Z"
   },
   {
    "duration": 1473,
    "start_time": "2023-07-01T11:48:03.894Z"
   },
   {
    "duration": 91,
    "start_time": "2023-07-01T11:48:05.369Z"
   },
   {
    "duration": 20,
    "start_time": "2023-07-01T11:48:05.462Z"
   },
   {
    "duration": 64,
    "start_time": "2023-07-01T11:48:05.484Z"
   },
   {
    "duration": 45,
    "start_time": "2023-07-01T11:48:05.551Z"
   },
   {
    "duration": 560,
    "start_time": "2023-07-01T11:48:05.598Z"
   },
   {
    "duration": 29,
    "start_time": "2023-07-01T11:48:06.160Z"
   },
   {
    "duration": 126,
    "start_time": "2023-07-01T11:48:06.191Z"
   },
   {
    "duration": 6,
    "start_time": "2023-07-01T11:48:06.319Z"
   },
   {
    "duration": 260,
    "start_time": "2023-07-01T11:48:06.327Z"
   },
   {
    "duration": 6,
    "start_time": "2023-07-01T11:48:06.589Z"
   },
   {
    "duration": 116,
    "start_time": "2023-07-01T11:48:06.596Z"
   },
   {
    "duration": 4,
    "start_time": "2023-07-01T11:48:06.714Z"
   },
   {
    "duration": 34,
    "start_time": "2023-07-01T11:48:06.720Z"
   },
   {
    "duration": 3,
    "start_time": "2023-07-01T11:48:06.756Z"
   },
   {
    "duration": 31,
    "start_time": "2023-07-01T11:48:06.760Z"
   },
   {
    "duration": 11,
    "start_time": "2023-07-01T11:48:31.047Z"
   },
   {
    "duration": 2213,
    "start_time": "2023-07-02T10:46:00.449Z"
   },
   {
    "duration": 108,
    "start_time": "2023-07-02T10:46:02.669Z"
   },
   {
    "duration": 22,
    "start_time": "2023-07-02T10:46:02.780Z"
   },
   {
    "duration": 11,
    "start_time": "2023-07-02T10:46:02.805Z"
   },
   {
    "duration": 26,
    "start_time": "2023-07-02T10:46:02.819Z"
   },
   {
    "duration": 672,
    "start_time": "2023-07-02T10:46:02.847Z"
   },
   {
    "duration": 48,
    "start_time": "2023-07-02T10:46:54.337Z"
   },
   {
    "duration": 3,
    "start_time": "2023-07-02T10:50:53.115Z"
   },
   {
    "duration": 1608,
    "start_time": "2023-07-02T10:52:11.112Z"
   },
   {
    "duration": 48,
    "start_time": "2023-07-02T10:52:12.723Z"
   },
   {
    "duration": 14,
    "start_time": "2023-07-02T10:52:12.775Z"
   },
   {
    "duration": 10,
    "start_time": "2023-07-02T10:52:12.791Z"
   },
   {
    "duration": 17,
    "start_time": "2023-07-02T10:52:12.803Z"
   },
   {
    "duration": 690,
    "start_time": "2023-07-02T10:52:12.821Z"
   },
   {
    "duration": 41,
    "start_time": "2023-07-02T10:52:13.512Z"
   },
   {
    "duration": 5,
    "start_time": "2023-07-02T10:52:13.555Z"
   },
   {
    "duration": 16,
    "start_time": "2023-07-02T10:52:13.564Z"
   },
   {
    "duration": 21,
    "start_time": "2023-07-02T10:52:13.582Z"
   },
   {
    "duration": 14,
    "start_time": "2023-07-02T10:52:43.809Z"
   },
   {
    "duration": 1670,
    "start_time": "2024-05-24T10:40:20.202Z"
   },
   {
    "duration": 93,
    "start_time": "2024-05-24T10:40:29.138Z"
   },
   {
    "duration": 15,
    "start_time": "2024-05-24T10:40:31.979Z"
   },
   {
    "duration": 5,
    "start_time": "2024-05-24T10:40:40.746Z"
   },
   {
    "duration": 16,
    "start_time": "2024-05-24T10:40:41.546Z"
   },
   {
    "duration": 586,
    "start_time": "2024-05-24T10:41:09.675Z"
   },
   {
    "duration": 1290,
    "start_time": "2024-05-24T10:41:29.027Z"
   },
   {
    "duration": 26,
    "start_time": "2024-05-24T10:42:52.831Z"
   },
   {
    "duration": 3,
    "start_time": "2024-05-24T10:43:01.636Z"
   },
   {
    "duration": 3,
    "start_time": "2024-05-24T10:47:46.418Z"
   },
   {
    "duration": 14,
    "start_time": "2024-05-24T10:47:50.193Z"
   },
   {
    "duration": 42,
    "start_time": "2024-05-24T10:47:58.523Z"
   },
   {
    "duration": 1510,
    "start_time": "2024-05-24T10:49:36.448Z"
   },
   {
    "duration": 41,
    "start_time": "2024-05-24T10:49:37.960Z"
   },
   {
    "duration": 16,
    "start_time": "2024-05-24T10:49:38.002Z"
   },
   {
    "duration": 37,
    "start_time": "2024-05-24T10:49:38.019Z"
   },
   {
    "duration": 56,
    "start_time": "2024-05-24T10:49:38.058Z"
   },
   {
    "duration": 1305,
    "start_time": "2024-05-24T10:49:38.115Z"
   },
   {
    "duration": 23,
    "start_time": "2024-05-24T10:49:39.422Z"
   },
   {
    "duration": 14,
    "start_time": "2024-05-24T10:49:39.447Z"
   },
   {
    "duration": 50,
    "start_time": "2024-05-24T10:49:39.463Z"
   },
   {
    "duration": 38,
    "start_time": "2024-05-24T10:49:39.515Z"
   },
   {
    "duration": 45,
    "start_time": "2024-05-24T10:49:39.556Z"
   }
  ],
  "kernelspec": {
   "display_name": "Python 3 (ipykernel)",
   "language": "python",
   "name": "python3"
  },
  "language_info": {
   "codemirror_mode": {
    "name": "ipython",
    "version": 3
   },
   "file_extension": ".py",
   "mimetype": "text/x-python",
   "name": "python",
   "nbconvert_exporter": "python",
   "pygments_lexer": "ipython3",
   "version": "3.9.5"
  },
  "toc": {
   "base_numbering": 1,
   "nav_menu": {},
   "number_sections": true,
   "sideBar": true,
   "skip_h1_title": true,
   "title_cell": "Содержание",
   "title_sidebar": "Contents",
   "toc_cell": true,
   "toc_position": {
    "height": "calc(100% - 180px)",
    "left": "10px",
    "top": "150px",
    "width": "165px"
   },
   "toc_section_display": true,
   "toc_window_display": true
  }
 },
 "nbformat": 4,
 "nbformat_minor": 2
}
