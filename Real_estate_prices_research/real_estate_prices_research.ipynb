{
 "cells": [
  {
   "cell_type": "markdown",
   "id": "10d6911d",
   "metadata": {},
   "source": [
    "# Исследование объявлений о продаже квартир"
   ]
  },
  {
   "cell_type": "markdown",
   "id": "213afed0",
   "metadata": {},
   "source": [
    "# Задача"
   ]
  },
  {
   "cell_type": "markdown",
   "id": "30c68507",
   "metadata": {},
   "source": [
    "Используя данные сервиса Яндекс.Недвижимость, определить рыночную стоимость объектов недвижимости и параметры, влияющие на цену квартир."
   ]
  },
  {
   "cell_type": "markdown",
   "id": "1362c749",
   "metadata": {},
   "source": [
    "# План"
   ]
  },
  {
   "cell_type": "markdown",
   "id": "5c57d866",
   "metadata": {},
   "source": [
    "**1. Проведение обзора данных.** \n",
    "- Изучить общую информацию о полученном датафрейме;\n",
    "- Построить гистограмму для всех числовых столбцов таблицы.\n",
    "\n",
    "**2. Проведение предобработки данных.**\n",
    "- Найти и заполнить пропущенные значения в столбцах;\n",
    "- Найти столбцы, в которых нужно изменить тип данных;\n",
    "- Устранить дубликаты;\n",
    "- Устранить аномалии.\n",
    "\n",
    "**3. Добавление в таблицу новых столбцов со следующими параметрами:**\n",
    "- Цена одного квадратного метра;\n",
    "- День недели публикации объявления (0 — понедельник, 1 — вторник и так далее);\n",
    "- Месяц публикации объявления;\n",
    "- Год публикации объявления;\n",
    "- Тип этажа квартиры (значения — «первый», «последний», «другой»);\n",
    "- Расстояние до центра города в километрах.\n",
    "\n",
    "**4. Проведение исследовательского анализа данных:**\n",
    "- Изучить, как быстро продавались квартиры. Построить гистограмму. Посчитать среднее и медиану.\n",
    "- Определить факторы, которые больше всего влияют на общую (полную) стоимость объекта. Изучить, зависит ли цена от:\n",
    "    - общей площади;\n",
    "    - жилой площади;\n",
    "    - площади кухни;\n",
    "    - количества комнат;\n",
    "    - даты размещения (день недели, месяц, год).\n",
    "  \n",
    "  Построить графики, которые покажут зависимость цены от указанных выше параметров.\n",
    "  \n",
    "\n",
    "- Посчитать среднюю цену одного квадратного метра в 10 населённых пунктах с наибольшим числом объявлений — построить сводную таблицу с количеством объявлений и средней ценой квадратного метра для этих населенных пунктов. Выделить населённые пункты с самой высокой и низкой стоимостью квадратного метра.\n",
    "- Вычислить среднюю стоимость квартир в Санкт-Петербурге на разном удалении от центра. Учитывать каждый километр расстояния. Описать, как стоимость объектов зависит от расстояния до центра города — построить график изменения средней цены для каждого километра от центра Петербурга.\n",
    "\n",
    "**5. Выводы.**"
   ]
  },
  {
   "cell_type": "markdown",
   "id": "fbc36c45",
   "metadata": {},
   "source": [
    "## Обзор данных"
   ]
  },
  {
   "cell_type": "code",
   "execution_count": 1,
   "id": "1d209ba4",
   "metadata": {},
   "outputs": [],
   "source": [
    "import pandas as pd\n",
    "import matplotlib.pyplot as plt\n",
    "import seaborn as sns"
   ]
  },
  {
   "cell_type": "code",
   "execution_count": 2,
   "id": "79550391",
   "metadata": {},
   "outputs": [
    {
     "data": {
      "text/html": [
       "<div>\n",
       "<style scoped>\n",
       "    .dataframe tbody tr th:only-of-type {\n",
       "        vertical-align: middle;\n",
       "    }\n",
       "\n",
       "    .dataframe tbody tr th {\n",
       "        vertical-align: top;\n",
       "    }\n",
       "\n",
       "    .dataframe thead th {\n",
       "        text-align: right;\n",
       "    }\n",
       "</style>\n",
       "<table border=\"1\" class=\"dataframe\">\n",
       "  <thead>\n",
       "    <tr style=\"text-align: right;\">\n",
       "      <th></th>\n",
       "      <th>total_images</th>\n",
       "      <th>last_price</th>\n",
       "      <th>total_area</th>\n",
       "      <th>first_day_exposition</th>\n",
       "      <th>rooms</th>\n",
       "      <th>ceiling_height</th>\n",
       "      <th>floors_total</th>\n",
       "      <th>living_area</th>\n",
       "      <th>floor</th>\n",
       "      <th>is_apartment</th>\n",
       "      <th>...</th>\n",
       "      <th>kitchen_area</th>\n",
       "      <th>balcony</th>\n",
       "      <th>locality_name</th>\n",
       "      <th>airports_nearest</th>\n",
       "      <th>cityCenters_nearest</th>\n",
       "      <th>parks_around3000</th>\n",
       "      <th>parks_nearest</th>\n",
       "      <th>ponds_around3000</th>\n",
       "      <th>ponds_nearest</th>\n",
       "      <th>days_exposition</th>\n",
       "    </tr>\n",
       "  </thead>\n",
       "  <tbody>\n",
       "    <tr>\n",
       "      <th>0</th>\n",
       "      <td>20</td>\n",
       "      <td>13000000.0</td>\n",
       "      <td>108.0</td>\n",
       "      <td>2019-03-07T00:00:00</td>\n",
       "      <td>3</td>\n",
       "      <td>2.70</td>\n",
       "      <td>16.0</td>\n",
       "      <td>51.0</td>\n",
       "      <td>8</td>\n",
       "      <td>NaN</td>\n",
       "      <td>...</td>\n",
       "      <td>25.0</td>\n",
       "      <td>NaN</td>\n",
       "      <td>Санкт-Петербург</td>\n",
       "      <td>18863.0</td>\n",
       "      <td>16028.0</td>\n",
       "      <td>1.0</td>\n",
       "      <td>482.0</td>\n",
       "      <td>2.0</td>\n",
       "      <td>755.0</td>\n",
       "      <td>NaN</td>\n",
       "    </tr>\n",
       "    <tr>\n",
       "      <th>1</th>\n",
       "      <td>7</td>\n",
       "      <td>3350000.0</td>\n",
       "      <td>40.4</td>\n",
       "      <td>2018-12-04T00:00:00</td>\n",
       "      <td>1</td>\n",
       "      <td>NaN</td>\n",
       "      <td>11.0</td>\n",
       "      <td>18.6</td>\n",
       "      <td>1</td>\n",
       "      <td>NaN</td>\n",
       "      <td>...</td>\n",
       "      <td>11.0</td>\n",
       "      <td>2.0</td>\n",
       "      <td>посёлок Шушары</td>\n",
       "      <td>12817.0</td>\n",
       "      <td>18603.0</td>\n",
       "      <td>0.0</td>\n",
       "      <td>NaN</td>\n",
       "      <td>0.0</td>\n",
       "      <td>NaN</td>\n",
       "      <td>81.0</td>\n",
       "    </tr>\n",
       "    <tr>\n",
       "      <th>2</th>\n",
       "      <td>10</td>\n",
       "      <td>5196000.0</td>\n",
       "      <td>56.0</td>\n",
       "      <td>2015-08-20T00:00:00</td>\n",
       "      <td>2</td>\n",
       "      <td>NaN</td>\n",
       "      <td>5.0</td>\n",
       "      <td>34.3</td>\n",
       "      <td>4</td>\n",
       "      <td>NaN</td>\n",
       "      <td>...</td>\n",
       "      <td>8.3</td>\n",
       "      <td>0.0</td>\n",
       "      <td>Санкт-Петербург</td>\n",
       "      <td>21741.0</td>\n",
       "      <td>13933.0</td>\n",
       "      <td>1.0</td>\n",
       "      <td>90.0</td>\n",
       "      <td>2.0</td>\n",
       "      <td>574.0</td>\n",
       "      <td>558.0</td>\n",
       "    </tr>\n",
       "    <tr>\n",
       "      <th>3</th>\n",
       "      <td>0</td>\n",
       "      <td>64900000.0</td>\n",
       "      <td>159.0</td>\n",
       "      <td>2015-07-24T00:00:00</td>\n",
       "      <td>3</td>\n",
       "      <td>NaN</td>\n",
       "      <td>14.0</td>\n",
       "      <td>NaN</td>\n",
       "      <td>9</td>\n",
       "      <td>NaN</td>\n",
       "      <td>...</td>\n",
       "      <td>NaN</td>\n",
       "      <td>0.0</td>\n",
       "      <td>Санкт-Петербург</td>\n",
       "      <td>28098.0</td>\n",
       "      <td>6800.0</td>\n",
       "      <td>2.0</td>\n",
       "      <td>84.0</td>\n",
       "      <td>3.0</td>\n",
       "      <td>234.0</td>\n",
       "      <td>424.0</td>\n",
       "    </tr>\n",
       "    <tr>\n",
       "      <th>4</th>\n",
       "      <td>2</td>\n",
       "      <td>10000000.0</td>\n",
       "      <td>100.0</td>\n",
       "      <td>2018-06-19T00:00:00</td>\n",
       "      <td>2</td>\n",
       "      <td>3.03</td>\n",
       "      <td>14.0</td>\n",
       "      <td>32.0</td>\n",
       "      <td>13</td>\n",
       "      <td>NaN</td>\n",
       "      <td>...</td>\n",
       "      <td>41.0</td>\n",
       "      <td>NaN</td>\n",
       "      <td>Санкт-Петербург</td>\n",
       "      <td>31856.0</td>\n",
       "      <td>8098.0</td>\n",
       "      <td>2.0</td>\n",
       "      <td>112.0</td>\n",
       "      <td>1.0</td>\n",
       "      <td>48.0</td>\n",
       "      <td>121.0</td>\n",
       "    </tr>\n",
       "  </tbody>\n",
       "</table>\n",
       "<p>5 rows × 22 columns</p>\n",
       "</div>"
      ],
      "text/plain": [
       "   total_images  last_price  total_area first_day_exposition  rooms  \\\n",
       "0            20  13000000.0       108.0  2019-03-07T00:00:00      3   \n",
       "1             7   3350000.0        40.4  2018-12-04T00:00:00      1   \n",
       "2            10   5196000.0        56.0  2015-08-20T00:00:00      2   \n",
       "3             0  64900000.0       159.0  2015-07-24T00:00:00      3   \n",
       "4             2  10000000.0       100.0  2018-06-19T00:00:00      2   \n",
       "\n",
       "   ceiling_height  floors_total  living_area  floor is_apartment  ...  \\\n",
       "0            2.70          16.0         51.0      8          NaN  ...   \n",
       "1             NaN          11.0         18.6      1          NaN  ...   \n",
       "2             NaN           5.0         34.3      4          NaN  ...   \n",
       "3             NaN          14.0          NaN      9          NaN  ...   \n",
       "4            3.03          14.0         32.0     13          NaN  ...   \n",
       "\n",
       "   kitchen_area  balcony    locality_name  airports_nearest  \\\n",
       "0          25.0      NaN  Санкт-Петербург           18863.0   \n",
       "1          11.0      2.0   посёлок Шушары           12817.0   \n",
       "2           8.3      0.0  Санкт-Петербург           21741.0   \n",
       "3           NaN      0.0  Санкт-Петербург           28098.0   \n",
       "4          41.0      NaN  Санкт-Петербург           31856.0   \n",
       "\n",
       "  cityCenters_nearest  parks_around3000  parks_nearest  ponds_around3000  \\\n",
       "0             16028.0               1.0          482.0               2.0   \n",
       "1             18603.0               0.0            NaN               0.0   \n",
       "2             13933.0               1.0           90.0               2.0   \n",
       "3              6800.0               2.0           84.0               3.0   \n",
       "4              8098.0               2.0          112.0               1.0   \n",
       "\n",
       "   ponds_nearest  days_exposition  \n",
       "0          755.0              NaN  \n",
       "1            NaN             81.0  \n",
       "2          574.0            558.0  \n",
       "3          234.0            424.0  \n",
       "4           48.0            121.0  \n",
       "\n",
       "[5 rows x 22 columns]"
      ]
     },
     "execution_count": 2,
     "metadata": {},
     "output_type": "execute_result"
    }
   ],
   "source": [
    "# Загружаем данные из файла в датафрейм\n",
    "estate_data = pd.read_csv('/datasets/real_estate_data.csv', sep='\\t')\n",
    "estate_data.head()"
   ]
  },
  {
   "cell_type": "code",
   "execution_count": 3,
   "id": "44bda528",
   "metadata": {},
   "outputs": [
    {
     "name": "stdout",
     "output_type": "stream",
     "text": [
      "<class 'pandas.core.frame.DataFrame'>\n",
      "RangeIndex: 23699 entries, 0 to 23698\n",
      "Data columns (total 22 columns):\n",
      " #   Column                Non-Null Count  Dtype  \n",
      "---  ------                --------------  -----  \n",
      " 0   total_images          23699 non-null  int64  \n",
      " 1   last_price            23699 non-null  float64\n",
      " 2   total_area            23699 non-null  float64\n",
      " 3   first_day_exposition  23699 non-null  object \n",
      " 4   rooms                 23699 non-null  int64  \n",
      " 5   ceiling_height        14504 non-null  float64\n",
      " 6   floors_total          23613 non-null  float64\n",
      " 7   living_area           21796 non-null  float64\n",
      " 8   floor                 23699 non-null  int64  \n",
      " 9   is_apartment          2775 non-null   object \n",
      " 10  studio                23699 non-null  bool   \n",
      " 11  open_plan             23699 non-null  bool   \n",
      " 12  kitchen_area          21421 non-null  float64\n",
      " 13  balcony               12180 non-null  float64\n",
      " 14  locality_name         23650 non-null  object \n",
      " 15  airports_nearest      18157 non-null  float64\n",
      " 16  cityCenters_nearest   18180 non-null  float64\n",
      " 17  parks_around3000      18181 non-null  float64\n",
      " 18  parks_nearest         8079 non-null   float64\n",
      " 19  ponds_around3000      18181 non-null  float64\n",
      " 20  ponds_nearest         9110 non-null   float64\n",
      " 21  days_exposition       20518 non-null  float64\n",
      "dtypes: bool(2), float64(14), int64(3), object(3)\n",
      "memory usage: 3.7+ MB\n"
     ]
    }
   ],
   "source": [
    "estate_data.info()"
   ]
  },
  {
   "cell_type": "code",
   "execution_count": 4,
   "id": "b54d959d",
   "metadata": {},
   "outputs": [
    {
     "data": {
      "image/png": "[encoded data removed]",
      "text/plain": [
       "<Figure size 1080x1440 with 20 Axes>"
      ]
     },
     "metadata": {
      "needs_background": "light"
     },
     "output_type": "display_data"
    }
   ],
   "source": [
    "# Построим общую гистограмму для всех числовых столбцов таблицы\n",
    "estate_data.hist(figsize=(15,20));"
   ]
  },
  {
   "cell_type": "markdown",
   "id": "72956246",
   "metadata": {},
   "source": [
    "## Предобработка данных"
   ]
  },
  {
   "cell_type": "markdown",
   "id": "fd5920a9",
   "metadata": {},
   "source": [
    "### Обработка пропусков"
   ]
  },
  {
   "cell_type": "code",
   "execution_count": 5,
   "id": "16632c76",
   "metadata": {},
   "outputs": [
    {
     "data": {
      "text/plain": [
       "total_images                0\n",
       "last_price                  0\n",
       "total_area                  0\n",
       "first_day_exposition        0\n",
       "rooms                       0\n",
       "ceiling_height           9195\n",
       "floors_total               86\n",
       "living_area              1903\n",
       "floor                       0\n",
       "is_apartment            20924\n",
       "studio                      0\n",
       "open_plan                   0\n",
       "kitchen_area             2278\n",
       "balcony                 11519\n",
       "locality_name              49\n",
       "airports_nearest         5542\n",
       "cityCenters_nearest      5519\n",
       "parks_around3000         5518\n",
       "parks_nearest           15620\n",
       "ponds_around3000         5518\n",
       "ponds_nearest           14589\n",
       "days_exposition          3181\n",
       "dtype: int64"
      ]
     },
     "execution_count": 5,
     "metadata": {},
     "output_type": "execute_result"
    }
   ],
   "source": [
    "# Определим, в каких столбцах есть пропуски\n",
    "estate_data.isna().sum()"
   ]
  },
  {
   "cell_type": "code",
   "execution_count": 6,
   "id": "53492f35",
   "metadata": {},
   "outputs": [
    {
     "data": {
      "text/plain": [
       "total_images            0.000000\n",
       "last_price              0.000000\n",
       "total_area              0.000000\n",
       "first_day_exposition    0.000000\n",
       "rooms                   0.000000\n",
       "ceiling_height          0.387991\n",
       "floors_total            0.003629\n",
       "living_area             0.080299\n",
       "floor                   0.000000\n",
       "is_apartment            0.882906\n",
       "studio                  0.000000\n",
       "open_plan               0.000000\n",
       "kitchen_area            0.096122\n",
       "balcony                 0.486054\n",
       "locality_name           0.002068\n",
       "airports_nearest        0.233850\n",
       "cityCenters_nearest     0.232879\n",
       "parks_around3000        0.232837\n",
       "parks_nearest           0.659100\n",
       "ponds_around3000        0.232837\n",
       "ponds_nearest           0.615596\n",
       "days_exposition         0.134225\n",
       "dtype: float64"
      ]
     },
     "execution_count": 6,
     "metadata": {},
     "output_type": "execute_result"
    }
   ],
   "source": [
    "# Посчитаем долю пропусков по столбцам\n",
    "estate_data.isna().sum() / 23699"
   ]
  },
  {
   "cell_type": "markdown",
   "id": "be500350",
   "metadata": {},
   "source": [
    "В столбцах ceiling_height, is_apartment, balcony, parks_nearest, ponds_nearest высокая доля пропусков - от 40 до 90%."
   ]
  },
  {
   "cell_type": "markdown",
   "id": "e910dec1",
   "metadata": {},
   "source": [
    "#### Заполним пропущенные значения там, где это возможно."
   ]
  },
  {
   "cell_type": "markdown",
   "id": "e74a50a6",
   "metadata": {},
   "source": [
    "- **ceiling_height - высота потолков (м).** Т.к. это количественная переменная, и потолок есть в любой квартире, а значит и высота потолка должна быть в любом случае, мы заменим пропущенные значения медианным.\n",
    "\n",
    "- **living_area - жилая площадь в квадратных метрах (м²).** Заменим пропущенные значения медианным.\n",
    "\n",
    "- **kitchen_area - площадь кухни в квадратных метрах (м²).** Заменим пропуски медианным значением.\n",
    "\n",
    "- **airports_nearest - расстояние до ближайшего аэропорта в метрах (м).** Строк с такими пропусками много, удалить их нельзя, заменим их медианным значением.\n",
    "\n",
    "- **cityCenters_nearest - расстояние до центра города (м).** Строк с такими пропусками много, удалить их нельзя, заменим их медианным значением.\n",
    "\n",
    "- **parks_nearest - расстояние до ближайшего парка (м).** Пропусков много, больше половины данных. Заменим медианным значением, но при анализе будем учитывать, что данные искажены.\n",
    "\n",
    "- **ponds_nearest - расстояние до ближайшего водоёма (м).** Пропусков много, больше половины данных. Заменим медианным значением, но при анализе будем учитывать, что данные искажены.\n",
    "\n",
    "- **days_exposition - сколько дней было размещено объявление (от публикации до снятия).** Заменим пропуски медианным значением.\n",
    "\n",
    "- **floors_total - всего этажей в доме.** Возмжно количество этажей не указали, т.к. этаж всего один. В любом случае, таких пропусков всего 86, так что заменим пропуски на 1.\n",
    "\n",
    "- **is_apartment - апартаменты (логический тип).** Пропусков очень много - практически все данные, поэтому удалить такие строки мы не можем. Заменим пропущенные значения на False, но при анализе данных этот столбец нельзя будет учитывать.\n",
    "\n",
    "- **balcony - число балконов.** Скорее всего, пустые значения там, где балконов в квартире нет. Поэтому заменим пропуски на 0.\n",
    "\n",
    "- **locality_name - название населённого пункта.** Строк с такими пропусками всего 49, укажем название \"Неизвестно\".\n",
    "\n",
    "- **parks_around3000 - число парков в радиусе 3 км.** Скорее всего, число парковов не указано, потому что их нет. Заменим пропуски на 0.\n",
    "\n",
    "- **ponds_around3000 - число водоёмов в радиусе 3 км.** Скорее всего, число водоемов не указано, потому что их нет. Заменим пропуски на 0."
   ]
  },
  {
   "cell_type": "code",
   "execution_count": 7,
   "id": "dff79466",
   "metadata": {},
   "outputs": [],
   "source": [
    "median_value = ['ceiling_height', 'living_area', 'kitchen_area', 'airports_nearest', 'cityCenters_nearest', 'parks_nearest',\\\n",
    "                'ponds_nearest', 'days_exposition']\n",
    "\n",
    "for v in median_value:\n",
    "    estate_data[v] = estate_data[v].fillna(value=estate_data[v].median())"
   ]
  },
  {
   "cell_type": "code",
   "execution_count": 8,
   "id": "112f3a90",
   "metadata": {},
   "outputs": [],
   "source": [
    "zero_value = ['balcony', 'parks_around3000', 'ponds_around3000']\n",
    "\n",
    "for v in zero_value:\n",
    "    estate_data[v] = estate_data[v].fillna(value=0)"
   ]
  },
  {
   "cell_type": "code",
   "execution_count": 9,
   "id": "e7ddd9f0",
   "metadata": {},
   "outputs": [],
   "source": [
    "estate_data['floors_total'] = estate_data['floors_total'].fillna(value=1)"
   ]
  },
  {
   "cell_type": "code",
   "execution_count": 10,
   "id": "7e13cbd8",
   "metadata": {},
   "outputs": [],
   "source": [
    "estate_data['is_apartment'] = estate_data['is_apartment'].fillna(value=False)"
   ]
  },
  {
   "cell_type": "code",
   "execution_count": 11,
   "id": "58f18b19",
   "metadata": {},
   "outputs": [],
   "source": [
    "estate_data['locality_name'] = estate_data['locality_name'].fillna(value='Неизвестно')"
   ]
  },
  {
   "cell_type": "code",
   "execution_count": 12,
   "id": "35a68438",
   "metadata": {},
   "outputs": [
    {
     "data": {
      "text/plain": [
       "total_images            0\n",
       "last_price              0\n",
       "total_area              0\n",
       "first_day_exposition    0\n",
       "rooms                   0\n",
       "ceiling_height          0\n",
       "floors_total            0\n",
       "living_area             0\n",
       "floor                   0\n",
       "is_apartment            0\n",
       "studio                  0\n",
       "open_plan               0\n",
       "kitchen_area            0\n",
       "balcony                 0\n",
       "locality_name           0\n",
       "airports_nearest        0\n",
       "cityCenters_nearest     0\n",
       "parks_around3000        0\n",
       "parks_nearest           0\n",
       "ponds_around3000        0\n",
       "ponds_nearest           0\n",
       "days_exposition         0\n",
       "dtype: int64"
      ]
     },
     "execution_count": 12,
     "metadata": {},
     "output_type": "execute_result"
    }
   ],
   "source": [
    "# Проверим, что пропусков не осталось\n",
    "estate_data.isna().sum()"
   ]
  },
  {
   "cell_type": "markdown",
   "id": "43a16c19",
   "metadata": {},
   "source": [
    "### Обработка типов данных"
   ]
  },
  {
   "cell_type": "markdown",
   "id": "b5af0c6a",
   "metadata": {},
   "source": [
    "- В столбце last_price находятся целые числа, приведем столбец к типу int.\n",
    "- Приведем столбец first_day_exposition к типу datetime.\n",
    "- В столбце floors_total находятся целые числа, приведем столбец к типу int.\n",
    "- В столбце balcony находятся целые числа, приведем столбец к типу int.\n",
    "- В столбце airports_nearest находятся целые числа, приведем столбец к типу int.\n",
    "- В столбце parks_around3000 находятся целые числа, приведем столбец к типу int.\n",
    "- В столбце ponds_around3000 находятся целые числа, приведем столбец к типу int.\n",
    "- В столбце days_exposition находятся целые числа, приведем столбец к типу int."
   ]
  },
  {
   "cell_type": "code",
   "execution_count": 13,
   "id": "e1814d04",
   "metadata": {},
   "outputs": [],
   "source": [
    "estate_data = estate_data.astype({ \"last_price\": \"int\", \"floors_total\": \"int\", \"balcony\": \"int\", \"airports_nearest\": \"int\",\\\n",
    "                                   \"parks_around3000\": \"int\", \"ponds_around3000\": \"int\", \"days_exposition\": \"int\"})"
   ]
  },
  {
   "cell_type": "code",
   "execution_count": 14,
   "id": "28c39bf9",
   "metadata": {},
   "outputs": [
    {
     "name": "stdout",
     "output_type": "stream",
     "text": [
      "<class 'pandas.core.frame.DataFrame'>\n",
      "RangeIndex: 23699 entries, 0 to 23698\n",
      "Data columns (total 22 columns):\n",
      " #   Column                Non-Null Count  Dtype         \n",
      "---  ------                --------------  -----         \n",
      " 0   total_images          23699 non-null  int64         \n",
      " 1   last_price            23699 non-null  int64         \n",
      " 2   total_area            23699 non-null  float64       \n",
      " 3   first_day_exposition  23699 non-null  datetime64[ns]\n",
      " 4   rooms                 23699 non-null  int64         \n",
      " 5   ceiling_height        23699 non-null  float64       \n",
      " 6   floors_total          23699 non-null  int64         \n",
      " 7   living_area           23699 non-null  float64       \n",
      " 8   floor                 23699 non-null  int64         \n",
      " 9   is_apartment          23699 non-null  bool          \n",
      " 10  studio                23699 non-null  bool          \n",
      " 11  open_plan             23699 non-null  bool          \n",
      " 12  kitchen_area          23699 non-null  float64       \n",
      " 13  balcony               23699 non-null  int64         \n",
      " 14  locality_name         23699 non-null  object        \n",
      " 15  airports_nearest      23699 non-null  int64         \n",
      " 16  cityCenters_nearest   23699 non-null  float64       \n",
      " 17  parks_around3000      23699 non-null  int64         \n",
      " 18  parks_nearest         23699 non-null  float64       \n",
      " 19  ponds_around3000      23699 non-null  int64         \n",
      " 20  ponds_nearest         23699 non-null  float64       \n",
      " 21  days_exposition       23699 non-null  int64         \n",
      "dtypes: bool(3), datetime64[ns](1), float64(7), int64(10), object(1)\n",
      "memory usage: 3.5+ MB\n"
     ]
    }
   ],
   "source": [
    "estate_data['first_day_exposition'] = pd.to_datetime(estate_data['first_day_exposition'], format='%Y-%m-%dT%H:%M:%S')\n",
    "estate_data.info()"
   ]
  },
  {
   "cell_type": "markdown",
   "id": "3728f0a2",
   "metadata": {},
   "source": [
    "Типы данных поправили. Это нужно было сделать для удобства дальнейшей работы с данными."
   ]
  },
  {
   "cell_type": "markdown",
   "id": "6d96d0b8",
   "metadata": {},
   "source": [
    "### Обработка дубликатов"
   ]
  },
  {
   "cell_type": "code",
   "execution_count": 15,
   "id": "595eb9f0",
   "metadata": {},
   "outputs": [
    {
     "data": {
      "text/plain": [
       "0"
      ]
     },
     "execution_count": 15,
     "metadata": {},
     "output_type": "execute_result"
    }
   ],
   "source": [
    "estate_data.duplicated().sum()"
   ]
  },
  {
   "cell_type": "markdown",
   "id": "ee1db02d",
   "metadata": {},
   "source": [
    "Явных дубликатов в данных нет. будем искать неявные."
   ]
  },
  {
   "cell_type": "code",
   "execution_count": 16,
   "id": "b9fe5f1d",
   "metadata": {},
   "outputs": [
    {
     "data": {
      "text/plain": [
       "array(['Бокситогорск', 'Волосово', 'Волхов', 'Всеволожск', 'Выборг',\n",
       "       'Высоцк', 'Гатчина', 'Зеленогорск', 'Ивангород', 'Каменногорск',\n",
       "       'Кингисепп', 'Кириши', 'Кировск', 'Колпино', 'Коммунар',\n",
       "       'Красное Село', 'Кронштадт', 'Кудрово', 'Лодейное Поле',\n",
       "       'Ломоносов', 'Луга', 'Любань', 'Мурино', 'Неизвестно',\n",
       "       'Никольское', 'Новая Ладога', 'Отрадное', 'Павловск', 'Петергоф',\n",
       "       'Пикалёво', 'Подпорожье', 'Приморск', 'Приозерск', 'Пушкин',\n",
       "       'Санкт-Петербург', 'Светогорск', 'Сертолово', 'Сестрорецк',\n",
       "       'Сланцы', 'Сосновый Бор', 'Сясьстрой', 'Тихвин', 'Тосно',\n",
       "       'Шлиссельбург', 'городской поселок Большая Ижора',\n",
       "       'городской поселок Янино-1', 'городской посёлок Будогощь',\n",
       "       'городской посёлок Виллози', 'городской посёлок Лесогорский',\n",
       "       'городской посёлок Мга', 'городской посёлок Назия',\n",
       "       'городской посёлок Новоселье', 'городской посёлок Павлово',\n",
       "       'городской посёлок Рощино', 'городской посёлок Свирьстрой',\n",
       "       'городской посёлок Советский', 'городской посёлок Фёдоровское',\n",
       "       'городской посёлок Янино-1', 'деревня Агалатово', 'деревня Аро',\n",
       "       'деревня Батово', 'деревня Бегуницы', 'деревня Белогорка',\n",
       "       'деревня Большая Вруда', 'деревня Большая Пустомержа',\n",
       "       'деревня Большие Колпаны', 'деревня Большое Рейзино',\n",
       "       'деревня Большой Сабск', 'деревня Бор', 'деревня Борисова Грива',\n",
       "       'деревня Ваганово', 'деревня Вартемяги', 'деревня Вахнова Кара',\n",
       "       'деревня Выскатка', 'деревня Гарболово', 'деревня Глинка',\n",
       "       'деревня Горбунки', 'деревня Гостилицы', 'деревня Заклинье',\n",
       "       'деревня Заневка', 'деревня Зимитицы', 'деревня Извара',\n",
       "       'деревня Иссад', 'деревня Калитино', 'деревня Кальтино',\n",
       "       'деревня Камышовка', 'деревня Каськово', 'деревня Келози',\n",
       "       'деревня Кипень', 'деревня Кисельня', 'деревня Колтуши',\n",
       "       'деревня Коркино', 'деревня Котлы', 'деревня Кривко',\n",
       "       'деревня Кудрово', 'деревня Кузьмолово', 'деревня Курковицы',\n",
       "       'деревня Куровицы', 'деревня Куттузи', 'деревня Лаврики',\n",
       "       'деревня Лаголово', 'деревня Лампово', 'деревня Лесколово',\n",
       "       'деревня Лопухинка', 'деревня Лупполово',\n",
       "       'деревня Малая Романовка', 'деревня Малое Верево',\n",
       "       'деревня Малое Карлино', 'деревня Малые Колпаны',\n",
       "       'деревня Мануйлово', 'деревня Меньково', 'деревня Мины',\n",
       "       'деревня Мистолово', 'деревня Ненимяки', 'деревня Нижние Осельки',\n",
       "       'деревня Нижняя', 'деревня Низино', 'деревня Новое Девяткино',\n",
       "       'деревня Новолисино', 'деревня Нурма', 'деревня Оржицы',\n",
       "       'деревня Парицы', 'деревня Пельгора', 'деревня Пеники',\n",
       "       'деревня Пижма', 'деревня Пикколово', 'деревня Пудомяги',\n",
       "       'деревня Пустынка', 'деревня Пчева', 'деревня Рабитицы',\n",
       "       'деревня Разбегаево', 'деревня Раздолье', 'деревня Разметелево',\n",
       "       'деревня Рапполово', 'деревня Реброво', 'деревня Русско',\n",
       "       'деревня Сижно', 'деревня Снегирёвка', 'деревня Старая',\n",
       "       'деревня Старая Пустошь', 'деревня Старое Хинколово',\n",
       "       'деревня Старополье', 'деревня Старосиверская',\n",
       "       'деревня Старые Бегуницы', 'деревня Суоранда',\n",
       "       'деревня Сяськелево', 'деревня Тарасово', 'деревня Терпилицы',\n",
       "       'деревня Тихковицы', 'деревня Тойворово', 'деревня Торосово',\n",
       "       'деревня Торошковичи', 'деревня Трубников Бор',\n",
       "       'деревня Фалилеево', 'деревня Фёдоровское', 'деревня Хапо-Ое',\n",
       "       'деревня Хязельки', 'деревня Чудской Бор', 'деревня Шпаньково',\n",
       "       'деревня Щеглово', 'деревня Юкки', 'деревня Ялгино',\n",
       "       'деревня Яльгелево', 'деревня Ям-Тесово',\n",
       "       'коттеджный поселок Кивеннапа Север', 'коттеджный поселок Счастье',\n",
       "       'коттеджный посёлок Лесное', 'поселок Аннино', 'поселок Барышево',\n",
       "       'поселок Бугры', 'поселок Возрождение', 'поселок Войсковицы',\n",
       "       'поселок Володарское', 'поселок Гаврилово', 'поселок Гарболово',\n",
       "       'поселок Гладкое', 'поселок Глажево', 'поселок Глебычево',\n",
       "       'поселок Гончарово', 'поселок Громово', 'поселок Дружноселье',\n",
       "       'поселок Елизаветино', 'поселок Жилгородок', 'поселок Жилпосёлок',\n",
       "       'поселок Житково', 'поселок Заводской', 'поселок Запорожское',\n",
       "       'поселок Зимитицы', 'поселок Ильичёво', 'поселок Калитино',\n",
       "       'поселок Каложицы', 'поселок Кингисеппский', 'поселок Кирпичное',\n",
       "       'поселок Кобралово', 'поселок Кобринское', 'поселок Коммунары',\n",
       "       'поселок Коробицыно', 'поселок Котельский',\n",
       "       'поселок Красная Долина', 'поселок Красносельское',\n",
       "       'поселок Лесное', 'поселок Лисий Нос', 'поселок Лукаши',\n",
       "       'поселок Любань', 'поселок Мельниково', 'поселок Мичуринское',\n",
       "       'поселок Молодцово', 'поселок Мурино', 'поселок Новый Свет',\n",
       "       'поселок Новый Учхоз', 'поселок Оредеж',\n",
       "       'поселок Пансионат Зелёный Бор', 'поселок Первомайское',\n",
       "       'поселок Перово', 'поселок Петровское', 'поселок Победа',\n",
       "       'поселок Поляны', 'поселок Почап', 'поселок Починок',\n",
       "       'поселок Пушное', 'поселок Пчевжа', 'поселок Рабитицы',\n",
       "       'поселок Романовка', 'поселок Ромашки', 'поселок Рябово',\n",
       "       'поселок Севастьяново', 'поселок Селезнёво', 'поселок Сельцо',\n",
       "       'поселок Семиозерье', 'поселок Семрино', 'поселок Серебрянский',\n",
       "       'поселок Совхозный', 'поселок Старая Малукса',\n",
       "       'поселок Стеклянный', 'поселок Сумино', 'поселок Суходолье',\n",
       "       'поселок Тельмана', 'поселок Терволово', 'поселок Торковичи',\n",
       "       'поселок Тёсово-4', 'поселок Углово', 'поселок Усть-Луга',\n",
       "       'поселок Ушаки', 'поселок Цвелодубово', 'поселок Цвылёво',\n",
       "       'поселок городского типа Большая Ижора',\n",
       "       'поселок городского типа Вырица',\n",
       "       'поселок городского типа Дружная Горка',\n",
       "       'поселок городского типа Дубровка',\n",
       "       'поселок городского типа Ефимовский',\n",
       "       'поселок городского типа Кондратьево',\n",
       "       'поселок городского типа Красный Бор',\n",
       "       'поселок городского типа Кузьмоловский',\n",
       "       'поселок городского типа Лебяжье',\n",
       "       'поселок городского типа Лесогорский',\n",
       "       'поселок городского типа Назия',\n",
       "       'поселок городского типа Никольский',\n",
       "       'поселок городского типа Приладожский',\n",
       "       'поселок городского типа Рахья', 'поселок городского типа Рощино',\n",
       "       'поселок городского типа Рябово',\n",
       "       'поселок городского типа Синявино',\n",
       "       'поселок городского типа Советский',\n",
       "       'поселок городского типа Токсово',\n",
       "       'поселок городского типа Форносово',\n",
       "       'поселок городского типа имени Свердлова',\n",
       "       'поселок станции Вещево', 'поселок станции Корнево',\n",
       "       'поселок станции Лужайка', 'поселок станции Приветнинское',\n",
       "       'посёлок Александровская', 'посёлок Алексеевка', 'посёлок Аннино',\n",
       "       'посёлок Белоостров', 'посёлок Бугры', 'посёлок Возрождение',\n",
       "       'посёлок Войскорово', 'посёлок Высокоключевой',\n",
       "       'посёлок Гаврилово', 'посёлок Дзержинского', 'посёлок Жилгородок',\n",
       "       'посёлок Ильичёво', 'посёлок Кикерино', 'посёлок Кобралово',\n",
       "       'посёлок Коробицыно', 'посёлок Левашово', 'посёлок Ленинское',\n",
       "       'посёлок Лисий Нос', 'посёлок Мельниково', 'посёлок Металлострой',\n",
       "       'посёлок Мичуринское', 'посёлок Молодёжное', 'посёлок Мурино',\n",
       "       'посёлок Мыза-Ивановка', 'посёлок Новогорелово',\n",
       "       'посёлок Новый Свет', 'посёлок Пансионат Зелёный Бор',\n",
       "       'посёлок Парголово', 'посёлок Перово', 'посёлок Песочный',\n",
       "       'посёлок Петро-Славянка', 'посёлок Петровское',\n",
       "       'посёлок Платформа 69-й километр', 'посёлок Плодовое',\n",
       "       'посёлок Плоское', 'посёлок Победа', 'посёлок Поляны',\n",
       "       'посёлок Понтонный', 'посёлок Пригородный', 'посёлок Пудость',\n",
       "       'посёлок Репино', 'посёлок Ропша', 'посёлок Сапёрное',\n",
       "       'посёлок Сапёрный', 'посёлок Сосново', 'посёлок Старая Малукса',\n",
       "       'посёлок Стеклянный', 'посёлок Стрельна', 'посёлок Суйда',\n",
       "       'посёлок Сумино', 'посёлок Тельмана', 'посёлок Терволово',\n",
       "       'посёлок Торфяное', 'посёлок Усть-Ижора', 'посёлок Усть-Луга',\n",
       "       'посёлок Форт Красная Горка', 'посёлок Шугозеро', 'посёлок Шушары',\n",
       "       'посёлок Щеглово', 'посёлок городского типа Важины',\n",
       "       'посёлок городского типа Вознесенье',\n",
       "       'посёлок городского типа Вырица',\n",
       "       'посёлок городского типа Красный Бор',\n",
       "       'посёлок городского типа Кузнечное',\n",
       "       'посёлок городского типа Кузьмоловский',\n",
       "       'посёлок городского типа Лебяжье', 'посёлок городского типа Мга',\n",
       "       'посёлок городского типа Павлово',\n",
       "       'посёлок городского типа Рощино', 'посёлок городского типа Рябово',\n",
       "       'посёлок городского типа Сиверский',\n",
       "       'посёлок городского типа Тайцы', 'посёлок городского типа Токсово',\n",
       "       'посёлок городского типа Ульяновка',\n",
       "       'посёлок городского типа Форносово',\n",
       "       'посёлок городского типа имени Морозова',\n",
       "       'посёлок городского типа имени Свердлова',\n",
       "       'посёлок при железнодорожной станции Вещево',\n",
       "       'посёлок при железнодорожной станции Приветнинское',\n",
       "       'посёлок станции Громово', 'посёлок станции Свирь',\n",
       "       'садоводческое некоммерческое товарищество Лесная Поляна',\n",
       "       'садовое товарищество Новая Ропша',\n",
       "       'садовое товарищество Приладожский', 'садовое товарищество Рахья',\n",
       "       'садовое товарищество Садко', 'село Копорье', 'село Никольское',\n",
       "       'село Павлово', 'село Паша', 'село Путилово', 'село Рождествено',\n",
       "       'село Русско-Высоцкое', 'село Старая Ладога', 'село Шум'],\n",
       "      dtype=object)"
      ]
     },
     "execution_count": 16,
     "metadata": {},
     "output_type": "execute_result"
    }
   ],
   "source": [
    "# Изучим столбец locality_name\n",
    "estate_data['locality_name'].sort_values().unique()"
   ]
  },
  {
   "cell_type": "markdown",
   "id": "5a28c73a",
   "metadata": {},
   "source": [
    "Скорее всего, нам не важно точное название населенного пункта. Поэтому для сокращения числа дубликатов, заменим все поселки городского типа на поселки."
   ]
  },
  {
   "cell_type": "code",
   "execution_count": 17,
   "id": "a892f00d",
   "metadata": {},
   "outputs": [],
   "source": [
    "estate_data.loc[estate_data['locality_name'].str.find('посёлок') != -1, 'locality_name'] = estate_data.loc[estate_data['locality_name'].str.find('посёлок') != -1, 'locality_name'].str.replace('посёлок', 'поселок')\n",
    "estate_data.loc[estate_data['locality_name'].str.find('городской поселок') != -1, 'locality_name'] = estate_data.loc[estate_data['locality_name'].str.find('городской поселок') != -1, 'locality_name'].str.replace('городской поселок', 'поселок')\n",
    "estate_data.loc[estate_data['locality_name'].str.find('поселок городского типа') != -1, 'locality_name'] = estate_data.loc[estate_data['locality_name'].str.find('поселок городского типа') != -1, 'locality_name'].str.replace('поселок городского типа', 'поселок')\n",
    "estate_data.loc[estate_data['locality_name'].str.find('деревня') != -1, 'locality_name'] = estate_data.loc[estate_data['locality_name'].str.find('деревня') != -1, 'locality_name'].str.replace('деревня', 'поселок')\n",
    "estate_data.loc[estate_data['locality_name'].str.find('село ') != -1, 'locality_name'] = estate_data.loc[estate_data['locality_name'].str.find('село ') != -1, 'locality_name'].str.replace('село ', 'поселок ')"
   ]
  },
  {
   "cell_type": "code",
   "execution_count": 18,
   "id": "d7dd1173",
   "metadata": {},
   "outputs": [
    {
     "data": {
      "text/plain": [
       "array(['Санкт-Петербург', 'поселок Шушары', 'поселок Янино-1',\n",
       "       'поселок Парголово', 'поселок Мурино', 'Ломоносов', 'Сертолово',\n",
       "       'Петергоф', 'Пушкин', 'поселок Кудрово', 'Коммунар', 'Колпино',\n",
       "       'поселок Красный Бор', 'Гатчина', 'поселок Фёдоровское', 'Выборг',\n",
       "       'Кронштадт', 'Кировск', 'поселок Новое Девяткино',\n",
       "       'поселок Металлострой', 'поселок Лебяжье', 'поселок Сиверский',\n",
       "       'поселок Молодцово', 'поселок Кузьмоловский',\n",
       "       'садовое товарищество Новая Ропша', 'Павловск',\n",
       "       'поселок Пикколово', 'Всеволожск', 'Волхов', 'Кингисепп',\n",
       "       'Приозерск', 'Сестрорецк', 'поселок Куттузи', 'поселок Аннино',\n",
       "       'поселок Ефимовский', 'поселок Плодовое', 'поселок Заклинье',\n",
       "       'поселок Торковичи', 'поселок Первомайское', 'Красное Село',\n",
       "       'поселок Понтонный', 'Сясьстрой', 'поселок Старая',\n",
       "       'поселок Лесколово', 'поселок Новый Свет', 'Сланцы',\n",
       "       'поселок Путилово', 'Ивангород', 'Мурино', 'Шлиссельбург',\n",
       "       'Никольское', 'Зеленогорск', 'Сосновый Бор', 'поселок Оржицы',\n",
       "       'поселок Кальтино', 'Кудрово', 'поселок Романовка',\n",
       "       'поселок Бугры', 'поселок Рощино', 'Кириши', 'Луга', 'Волосово',\n",
       "       'Отрадное', 'поселок Павлово', 'поселок Оредеж', 'поселок Копорье',\n",
       "       'поселок Молодёжное', 'Тихвин', 'поселок Победа', 'поселок Нурма',\n",
       "       'поселок Синявино', 'Тосно', 'поселок Стрельна', 'Бокситогорск',\n",
       "       'поселок Александровская', 'поселок Лопухинка', 'Пикалёво',\n",
       "       'поселок Терволово', 'поселок Советский', 'Подпорожье',\n",
       "       'поселок Петровское', 'поселок Токсово', 'поселок Сельцо',\n",
       "       'поселок Вырица', 'поселок Кипень', 'поселок Келози',\n",
       "       'поселок Вартемяги', 'поселок Тельмана', 'поселок Севастьяново',\n",
       "       'поселок Большая Ижора', 'Неизвестно', 'поселок Агалатово',\n",
       "       'поселок Новогорелово', 'поселок Лесогорский', 'поселок Лаголово',\n",
       "       'поселок Цвелодубово', 'поселок Рахья', 'поселок Белогорка',\n",
       "       'поселок Заводской', 'поселок Новоселье',\n",
       "       'поселок Большие Колпаны', 'поселок Горбунки', 'поселок Батово',\n",
       "       'поселок Заневка', 'поселок Иссад', 'Приморск',\n",
       "       'поселок Мистолово', 'Новая Ладога', 'поселок Зимитицы',\n",
       "       'поселок Барышево', 'поселок Разметелево',\n",
       "       'поселок имени Свердлова', 'поселок Пеники', 'поселок Рябово',\n",
       "       'поселок Пудомяги', 'поселок станции Корнево', 'поселок Низино',\n",
       "       'поселок Бегуницы', 'поселок Поляны', 'поселок Мга',\n",
       "       'поселок Елизаветино', 'поселок Кузнечное', 'поселок Колтуши',\n",
       "       'поселок Запорожское', 'поселок Гостилицы',\n",
       "       'поселок Малое Карлино', 'поселок Мичуринское',\n",
       "       'поселок имени Морозова', 'поселок Песочный', 'поселок Сосново',\n",
       "       'поселок Аро', 'поселок Ильичёво', 'поселок Тайцы',\n",
       "       'поселок Малое Верево', 'поселок Извара', 'поселок станции Вещево',\n",
       "       'поселок Паша', 'поселок Калитино', 'поселок Ульяновка',\n",
       "       'поселок Чудской Бор', 'поселок Дубровка', 'поселок Мины',\n",
       "       'поселок Войсковицы', 'поселок Коркино', 'поселок Ропша',\n",
       "       'поселок Приладожский', 'поселок Щеглово', 'поселок Гаврилово',\n",
       "       'Лодейное Поле', 'поселок Рабитицы', 'поселок Никольский',\n",
       "       'поселок Кузьмолово', 'поселок Малые Колпаны',\n",
       "       'поселок Петро-Славянка', 'поселок Назия', 'поселок Репино',\n",
       "       'поселок Углово', 'поселок Старая Малукса',\n",
       "       'садовое товарищество Рахья', 'поселок Меньково',\n",
       "       'поселок Старые Бегуницы', 'поселок Сапёрный', 'поселок Семрино',\n",
       "       'поселок Глажево', 'поселок Кобринское', 'поселок Гарболово',\n",
       "       'поселок Юкки', 'поселок станции Приветнинское',\n",
       "       'поселок Мануйлово', 'поселок Пчева', 'поселок Цвылёво',\n",
       "       'поселок Мельниково', 'поселок Пудость', 'поселок Усть-Луга',\n",
       "       'Светогорск', 'Любань', 'поселок Селезнёво', 'Каменногорск',\n",
       "       'поселок Кривко', 'поселок Глебычево', 'поселок Парицы',\n",
       "       'поселок Жилпоселок', 'поселок Войскорово', 'поселок Никольское',\n",
       "       'поселок Стеклянный', 'поселок Важины', 'поселок Мыза-Ивановка',\n",
       "       'поселок Русско-Высоцкое', 'поселок Форносово',\n",
       "       'поселок Старая Ладога', 'поселок Житково', 'поселок Виллози',\n",
       "       'поселок Лампово', 'поселок Шпаньково', 'поселок Лаврики',\n",
       "       'поселок Сумино', 'поселок Возрождение', 'поселок Старосиверская',\n",
       "       'поселок Кикерино', 'поселок Старое Хинколово',\n",
       "       'поселок Пригородный', 'поселок Торфяное', 'поселок Будогощь',\n",
       "       'поселок Суходолье', 'поселок Красная Долина', 'поселок Хапо-Ое',\n",
       "       'поселок Дружная Горка', 'поселок Лисий Нос', 'поселок Яльгелево',\n",
       "       'поселок Рождествено', 'поселок Старополье', 'поселок Левашово',\n",
       "       'поселок Сяськелево', 'поселок Камышовка',\n",
       "       'садоводческое некоммерческое товарищество Лесная Поляна',\n",
       "       'поселок Хязельки', 'поселок Жилгородок', 'поселок Ялгино',\n",
       "       'поселок Новый Учхоз', 'поселок Гончарово', 'поселок Почап',\n",
       "       'поселок Сапёрное', 'поселок Платформа 69-й километр',\n",
       "       'поселок Каложицы', 'поселок Фалилеево', 'поселок Пельгора',\n",
       "       'поселок Торошковичи', 'поселок Белоостров', 'поселок Алексеевка',\n",
       "       'поселок Серебрянский', 'поселок Лукаши', 'поселок Тарасово',\n",
       "       'поселок Кингисеппский',\n",
       "       'поселок при железнодорожной станции Вещево', 'поселок Ушаки',\n",
       "       'поселок Котлы', 'поселок Сижно', 'поселок Торосово',\n",
       "       'поселок Форт Красная Горка', 'поселок Новолисино',\n",
       "       'поселок станции Громово', 'поселок Глинка',\n",
       "       'поселок Старая Пустошь', 'поселок Коммунары', 'поселок Починок',\n",
       "       'поселок Вознесенье', 'поселок Разбегаево', 'поселок Гладкое',\n",
       "       'поселок при железнодорожной станции Приветнинское',\n",
       "       'поселок Тёсово-4', 'поселок Бор', 'поселок Коробицыно',\n",
       "       'поселок Большая Вруда', 'поселок Курковицы', 'поселок Кобралово',\n",
       "       'поселок Суоранда', 'поселок Кондратьево',\n",
       "       'коттеджный поселок Счастье', 'поселок Любань', 'поселок Реброво',\n",
       "       'поселок Тойворово', 'поселок Семиозерье', 'поселок Лесное',\n",
       "       'поселок Совхозный', 'поселок Ленинское', 'поселок Суйда',\n",
       "       'поселок Нижние Осельки', 'поселок станции Свирь',\n",
       "       'поселок Перово', 'Высоцк', 'поселок Шум', 'поселок Котельский',\n",
       "       'поселок станции Лужайка', 'поселок Большая Пустомержа',\n",
       "       'поселок Красносельское', 'поселок Вахнова Кара', 'поселок Пижма',\n",
       "       'коттеджный поселок Кивеннапа Север', 'поселок Ромашки',\n",
       "       'поселок Каськово', 'поселок Куровицы', 'поселок Плоское',\n",
       "       'поселок Кирпичное', 'поселок Ям-Тесово', 'поселок Раздолье',\n",
       "       'поселок Терпилицы', 'поселок Шугозеро', 'поселок Ваганово',\n",
       "       'поселок Пушное', 'садовое товарищество Садко',\n",
       "       'поселок Усть-Ижора', 'поселок Выскатка', 'поселок Свирьстрой',\n",
       "       'поселок Громово', 'поселок Кисельня', 'поселок Трубников Бор',\n",
       "       'поселок Высокоключевой', 'садовое товарищество Приладожский',\n",
       "       'поселок Пансионат Зелёный Бор', 'поселок Ненимяки',\n",
       "       'поселок Снегирёвка', 'поселок Рапполово', 'поселок Пустынка',\n",
       "       'поселок Большой Сабск', 'поселок Русско', 'поселок Лупполово',\n",
       "       'поселок Большое Рейзино', 'поселок Малая Романовка',\n",
       "       'поселок Дружноселье', 'поселок Пчевжа', 'поселок Володарское',\n",
       "       'поселок Нижняя', 'коттеджный поселок Лесное', 'поселок Тихковицы',\n",
       "       'поселок Борисова Грива', 'поселок Дзержинского'], dtype=object)"
      ]
     },
     "execution_count": 18,
     "metadata": {},
     "output_type": "execute_result"
    }
   ],
   "source": [
    "estate_data['locality_name'].unique()"
   ]
  },
  {
   "cell_type": "markdown",
   "id": "23e51316",
   "metadata": {},
   "source": [
    "### Обработка аномалий."
   ]
  },
  {
   "cell_type": "code",
   "execution_count": 19,
   "id": "9461785a",
   "metadata": {},
   "outputs": [
    {
     "name": "stdout",
     "output_type": "stream",
     "text": [
      "count    23699.000000\n",
      "mean         6.541549\n",
      "std         10.887013\n",
      "min          0.012190\n",
      "25%          3.400000\n",
      "50%          4.650000\n",
      "75%          6.800000\n",
      "max        763.000000\n",
      "Name: last_price, dtype: float64\n"
     ]
    },
    {
     "data": {
      "image/png": "[encoded data removed]",
      "text/plain": [
       "<Figure size 720x432 with 1 Axes>"
      ]
     },
     "metadata": {
      "needs_background": "light"
     },
     "output_type": "display_data"
    }
   ],
   "source": [
    "print((estate_data['last_price']/1000000).describe())\n",
    "plt.title('Цена на момент снятия с публикации (в млн)');\n",
    "# Переведем цену в миллионы\n",
    "(estate_data['last_price']/1000000).hist(bins=100, figsize=(10,6));"
   ]
  },
  {
   "cell_type": "code",
   "execution_count": 20,
   "id": "6dd05020",
   "metadata": {},
   "outputs": [
    {
     "data": {
      "text/plain": [
       "37"
      ]
     },
     "execution_count": 20,
     "metadata": {},
     "output_type": "execute_result"
    }
   ],
   "source": [
    "estate_data.loc[estate_data['last_price']/1000000 >= 100, 'last_price'].count()"
   ]
  },
  {
   "cell_type": "markdown",
   "id": "7eda108e",
   "metadata": {},
   "source": [
    "По графику видно, что основная часть значений распределена от 0 млн (от 0.5) до 20 млн. Особо экстремальных значений (выше 100 млн) всего 37. Оставим цены до 100 млн включительно."
   ]
  },
  {
   "cell_type": "code",
   "execution_count": 21,
   "id": "d14e6bc4",
   "metadata": {},
   "outputs": [
    {
     "name": "stdout",
     "output_type": "stream",
     "text": [
      "count    23662.000000\n",
      "mean         6.251508\n",
      "std          6.424390\n",
      "min          0.012190\n",
      "25%          3.400000\n",
      "50%          4.633500\n",
      "75%          6.750000\n",
      "max         99.000000\n",
      "Name: last_price, dtype: float64\n"
     ]
    },
    {
     "data": {
      "image/png": "[encoded data removed]",
      "text/plain": [
       "<Figure size 720x432 with 1 Axes>"
      ]
     },
     "metadata": {
      "needs_background": "light"
     },
     "output_type": "display_data"
    }
   ],
   "source": [
    "clean_estate_data = estate_data.query('last_price <= 100000000')\n",
    "print((clean_estate_data['last_price']/1000000).describe())\n",
    "plt.title('Цена на момент снятия с публикации (в млн)');\n",
    "(clean_estate_data['last_price']/1000000).hist(bins=100, figsize=(10,6));"
   ]
  },
  {
   "cell_type": "markdown",
   "id": "da7e56be",
   "metadata": {},
   "source": [
    "Обработаем аномалии в столбце total_area."
   ]
  },
  {
   "cell_type": "code",
   "execution_count": 22,
   "id": "8380c37f",
   "metadata": {},
   "outputs": [
    {
     "name": "stdout",
     "output_type": "stream",
     "text": [
      "count    23699.000000\n",
      "mean        60.348651\n",
      "std         35.654083\n",
      "min         12.000000\n",
      "25%         40.000000\n",
      "50%         52.000000\n",
      "75%         69.900000\n",
      "max        900.000000\n",
      "Name: total_area, dtype: float64\n"
     ]
    },
    {
     "data": {
      "image/png": "[encoded data removed]",
      "text/plain": [
       "<Figure size 576x360 with 1 Axes>"
      ]
     },
     "metadata": {
      "needs_background": "light"
     },
     "output_type": "display_data"
    }
   ],
   "source": [
    "print(estate_data['total_area'].describe())\n",
    "plt.title('Общая площадь квартиры в квадратных метрах (м²)')\n",
    "estate_data['total_area'].hist(bins=100, figsize=(8,5));"
   ]
  },
  {
   "cell_type": "markdown",
   "id": "0bb706c6",
   "metadata": {},
   "source": [
    "По гистограмме видно, что есть очень мало значений примерно от 200 до 900. И это логично, площадь квартиры в 200 кв м и выше слишком большая.\n",
    "\n",
    "Подсчитаем сколько таких выбивающихся значений."
   ]
  },
  {
   "cell_type": "code",
   "execution_count": 23,
   "id": "57597bed",
   "metadata": {},
   "outputs": [
    {
     "data": {
      "text/plain": [
       "231"
      ]
     },
     "execution_count": 23,
     "metadata": {},
     "output_type": "execute_result"
    }
   ],
   "source": [
    "estate_data.loc[estate_data['total_area'] >=200, 'total_area'].count()"
   ]
  },
  {
   "cell_type": "markdown",
   "id": "35d8ea3d",
   "metadata": {},
   "source": [
    "Таких значений всего 231. Удалим их."
   ]
  },
  {
   "cell_type": "code",
   "execution_count": 24,
   "id": "0c07ec32",
   "metadata": {},
   "outputs": [
    {
     "name": "stdout",
     "output_type": "stream",
     "text": [
      "count    23472.000000\n",
      "mean        58.179801\n",
      "std         26.531909\n",
      "min         12.000000\n",
      "25%         40.000000\n",
      "50%         51.900000\n",
      "75%         68.925000\n",
      "max        200.000000\n",
      "Name: total_area, dtype: float64\n"
     ]
    },
    {
     "data": {
      "image/png": "[encoded data removed]",
      "text/plain": [
       "<Figure size 576x360 with 1 Axes>"
      ]
     },
     "metadata": {
      "needs_background": "light"
     },
     "output_type": "display_data"
    }
   ],
   "source": [
    "clean_estate_data = estate_data.query('total_area <= 200')\n",
    "print(clean_estate_data['total_area'].describe())\n",
    "plt.title('Общая площадь квартиры в квадратных метрах (м²)')\n",
    "clean_estate_data['total_area'].hist(bins=100, figsize=(8,5));"
   ]
  },
  {
   "cell_type": "markdown",
   "id": "5dca5437",
   "metadata": {},
   "source": [
    "Обработаем аномалии в столбце rooms."
   ]
  },
  {
   "cell_type": "code",
   "execution_count": 25,
   "id": "c165ff6a",
   "metadata": {},
   "outputs": [
    {
     "name": "stdout",
     "output_type": "stream",
     "text": [
      "count    23699.000000\n",
      "mean         2.070636\n",
      "std          1.078405\n",
      "min          0.000000\n",
      "25%          1.000000\n",
      "50%          2.000000\n",
      "75%          3.000000\n",
      "max         19.000000\n",
      "Name: rooms, dtype: float64\n",
      "[ 3  1  2  4  5  6  0  7 11  8 14 10 15  9 19 16 12]\n"
     ]
    },
    {
     "data": {
      "image/png": "[encoded data removed]",
      "text/plain": [
       "<Figure size 576x360 with 1 Axes>"
      ]
     },
     "metadata": {
      "needs_background": "light"
     },
     "output_type": "display_data"
    }
   ],
   "source": [
    "print(estate_data['rooms'].describe())\n",
    "print(estate_data['rooms'].unique())\n",
    "plt.title('Число комнат')\n",
    "estate_data['rooms'].hist(bins=50, figsize=(8,5));"
   ]
  },
  {
   "cell_type": "markdown",
   "id": "c8d5c0f0",
   "metadata": {},
   "source": [
    "Во-первых, есть значение 0.\n",
    "\n",
    "Во-вторых, есть очень высокие значения, и их не много, это 7-19 комнат. Такое встречается очень редко, так что уберем эти строки."
   ]
  },
  {
   "cell_type": "code",
   "execution_count": 26,
   "id": "594a18f3",
   "metadata": {},
   "outputs": [
    {
     "name": "stdout",
     "output_type": "stream",
     "text": [
      "count    23272.000000\n",
      "mean         2.050533\n",
      "std          0.977214\n",
      "min          1.000000\n",
      "25%          1.000000\n",
      "50%          2.000000\n",
      "75%          3.000000\n",
      "max          7.000000\n",
      "Name: rooms, dtype: float64\n",
      "[3 1 2 4 5 6 7]\n"
     ]
    },
    {
     "data": {
      "text/plain": [
       "<AxesSubplot:title={'center':'Число комнат'}>"
      ]
     },
     "execution_count": 26,
     "metadata": {},
     "output_type": "execute_result"
    },
    {
     "data": {
      "image/png": "[encoded data removed]",
      "text/plain": [
       "<Figure size 576x360 with 1 Axes>"
      ]
     },
     "metadata": {
      "needs_background": "light"
     },
     "output_type": "display_data"
    }
   ],
   "source": [
    "clean_estate_data = clean_estate_data.loc[(clean_estate_data['rooms'] > 0) & (clean_estate_data['rooms'] <= 7)]\n",
    "print(clean_estate_data['rooms'].describe())\n",
    "print(clean_estate_data['rooms'].unique())\n",
    "plt.title('Число комнат')\n",
    "clean_estate_data['rooms'].hist(bins=50, figsize=(8,5))"
   ]
  },
  {
   "cell_type": "markdown",
   "id": "bbc6a861",
   "metadata": {},
   "source": [
    "Обработаем аномалии в столбце ceiling_height."
   ]
  },
  {
   "cell_type": "code",
   "execution_count": 27,
   "id": "c5724ba2",
   "metadata": {},
   "outputs": [
    {
     "name": "stdout",
     "output_type": "stream",
     "text": [
      "count    23699.000000\n",
      "mean         2.724358\n",
      "std          0.988298\n",
      "min          1.000000\n",
      "25%          2.600000\n",
      "50%          2.650000\n",
      "75%          2.700000\n",
      "max        100.000000\n",
      "Name: ceiling_height, dtype: float64\n",
      "3\n",
      "304\n"
     ]
    },
    {
     "data": {
      "image/png": "[encoded data removed]",
      "text/plain": [
       "<Figure size 576x360 with 1 Axes>"
      ]
     },
     "metadata": {
      "needs_background": "light"
     },
     "output_type": "display_data"
    }
   ],
   "source": [
    "print(estate_data['ceiling_height'].describe())\n",
    "print(estate_data.loc[estate_data['ceiling_height'] <2, 'rooms'].count())\n",
    "print(estate_data.loc[estate_data['ceiling_height'] > 3.5, 'rooms'].count())\n",
    "plt.title('Высота потолков (м)')\n",
    "estate_data['ceiling_height'].hist(bins=100, figsize=(8,5));"
   ]
  },
  {
   "cell_type": "markdown",
   "id": "d76ea26e",
   "metadata": {},
   "source": [
    "Значения меньше 2 м и выше 3.5 м будем считать аномальными."
   ]
  },
  {
   "cell_type": "code",
   "execution_count": 28,
   "id": "7770b5b9",
   "metadata": {},
   "outputs": [
    {
     "name": "stdout",
     "output_type": "stream",
     "text": [
      "count    23013.000000\n",
      "mean         2.680957\n",
      "std          0.173716\n",
      "min          2.000000\n",
      "25%          2.600000\n",
      "50%          2.650000\n",
      "75%          2.700000\n",
      "max          3.500000\n",
      "Name: ceiling_height, dtype: float64\n"
     ]
    },
    {
     "data": {
      "image/png": "[encoded data removed]",
      "text/plain": [
       "<Figure size 576x360 with 1 Axes>"
      ]
     },
     "metadata": {
      "needs_background": "light"
     },
     "output_type": "display_data"
    }
   ],
   "source": [
    "clean_estate_data = clean_estate_data.loc[(clean_estate_data['ceiling_height'] >= 2) & ((clean_estate_data['ceiling_height'] <= 3.5))]\n",
    "print(clean_estate_data['ceiling_height'].describe())\n",
    "plt.title('Высота потолков (м)')\n",
    "clean_estate_data['ceiling_height'].hist(bins=50, figsize=(8,5));"
   ]
  },
  {
   "cell_type": "markdown",
   "id": "00dd9c0f",
   "metadata": {},
   "source": [
    "Обработаем аномалии в столбце floors_total."
   ]
  },
  {
   "cell_type": "code",
   "execution_count": 29,
   "id": "5e500b28",
   "metadata": {},
   "outputs": [
    {
     "name": "stdout",
     "output_type": "stream",
     "text": [
      "count    23699.000000\n",
      "mean        10.638719\n",
      "std          6.610834\n",
      "min          1.000000\n",
      "25%          5.000000\n",
      "50%          9.000000\n",
      "75%         16.000000\n",
      "max         60.000000\n",
      "Name: floors_total, dtype: float64\n"
     ]
    },
    {
     "data": {
      "image/png": "[encoded data removed]",
      "text/plain": [
       "<Figure size 576x360 with 1 Axes>"
      ]
     },
     "metadata": {
      "needs_background": "light"
     },
     "output_type": "display_data"
    }
   ],
   "source": [
    "print(estate_data['floors_total'].describe())\n",
    "plt.title('Всего этажей в доме')\n",
    "estate_data['floors_total'].hist(bins=100, figsize=(8,5));"
   ]
  },
  {
   "cell_type": "markdown",
   "id": "a30302bd",
   "metadata": {},
   "source": [
    "Возьмем данные от 1 до 35 этажей, т.к. google утверждает, что самое высокое здание в Санкт-Петербурге имеет 35 этажей."
   ]
  },
  {
   "cell_type": "code",
   "execution_count": 30,
   "id": "ff22115b",
   "metadata": {},
   "outputs": [
    {
     "name": "stdout",
     "output_type": "stream",
     "text": [
      "count    23009.00000\n",
      "mean        10.67830\n",
      "std          6.57676\n",
      "min          1.00000\n",
      "25%          5.00000\n",
      "50%          9.00000\n",
      "75%         16.00000\n",
      "max         35.00000\n",
      "Name: floors_total, dtype: float64\n"
     ]
    },
    {
     "data": {
      "image/png": "[encoded data removed]",
      "text/plain": [
       "<Figure size 576x360 with 1 Axes>"
      ]
     },
     "metadata": {
      "needs_background": "light"
     },
     "output_type": "display_data"
    }
   ],
   "source": [
    "clean_estate_data = clean_estate_data.query('floors_total <= 35')\n",
    "print(clean_estate_data['floors_total'].describe())\n",
    "plt.title('Всего этажей в доме')\n",
    "clean_estate_data['floors_total'].hist(bins=50, figsize=(8,5));"
   ]
  },
  {
   "cell_type": "markdown",
   "id": "c2de022f",
   "metadata": {},
   "source": [
    "Обработаем аномалии в столбце living_area."
   ]
  },
  {
   "cell_type": "code",
   "execution_count": 31,
   "id": "a4f1c595",
   "metadata": {},
   "outputs": [
    {
     "name": "stdout",
     "output_type": "stream",
     "text": [
      "count    23699.000000\n",
      "mean        34.099892\n",
      "std         21.162096\n",
      "min          2.000000\n",
      "25%         19.000000\n",
      "50%         30.000000\n",
      "75%         41.100000\n",
      "max        409.700000\n",
      "Name: living_area, dtype: float64\n",
      "25\n",
      "33\n"
     ]
    },
    {
     "data": {
      "image/png": "[encoded data removed]",
      "text/plain": [
       "<Figure size 576x360 with 1 Axes>"
      ]
     },
     "metadata": {
      "needs_background": "light"
     },
     "output_type": "display_data"
    }
   ],
   "source": [
    "print(estate_data['living_area'].describe())\n",
    "print(estate_data.loc[estate_data['living_area'] < 10, 'living_area'].count())\n",
    "print(estate_data.loc[estate_data['living_area'] >=200, 'living_area'].count())\n",
    "plt.title('Жилая площадь в квадратных метрах (м²)')\n",
    "estate_data['living_area'].hist(bins=100, figsize=(8,5));"
   ]
  },
  {
   "cell_type": "markdown",
   "id": "5f0e67ee",
   "metadata": {},
   "source": [
    "Оставим значения больше 10 и меньше 200."
   ]
  },
  {
   "cell_type": "code",
   "execution_count": 32,
   "id": "92b65d02",
   "metadata": {},
   "outputs": [
    {
     "name": "stdout",
     "output_type": "stream",
     "text": [
      "count    22954.000000\n",
      "mean        32.916619\n",
      "std         16.319945\n",
      "min         10.080000\n",
      "25%         19.000000\n",
      "50%         30.000000\n",
      "75%         40.700000\n",
      "max        164.700000\n",
      "Name: living_area, dtype: float64\n"
     ]
    },
    {
     "data": {
      "image/png": "[encoded data removed]",
      "text/plain": [
       "<Figure size 576x360 with 1 Axes>"
      ]
     },
     "metadata": {
      "needs_background": "light"
     },
     "output_type": "display_data"
    }
   ],
   "source": [
    "clean_estate_data = clean_estate_data.query('10 < living_area <= 200')\n",
    "print(clean_estate_data['living_area'].describe())\n",
    "plt.title('Жилая площадь в квадратных метрах (м²)')\n",
    "clean_estate_data['living_area'].hist(bins=50, figsize=(8,5));"
   ]
  },
  {
   "cell_type": "markdown",
   "id": "e6d200f9",
   "metadata": {},
   "source": [
    "Обработаем аномалии в столбце kitchen_area."
   ]
  },
  {
   "cell_type": "code",
   "execution_count": 33,
   "id": "3c1bfac7",
   "metadata": {},
   "outputs": [
    {
     "name": "stdout",
     "output_type": "stream",
     "text": [
      "count    23699.000000\n",
      "mean        10.428526\n",
      "std          5.631126\n",
      "min          1.300000\n",
      "25%          7.400000\n",
      "50%          9.100000\n",
      "75%         11.440000\n",
      "max        112.000000\n",
      "Name: kitchen_area, dtype: float64\n"
     ]
    },
    {
     "data": {
      "image/png": "[encoded data removed]",
      "text/plain": [
       "<Figure size 576x360 with 1 Axes>"
      ]
     },
     "metadata": {
      "needs_background": "light"
     },
     "output_type": "display_data"
    }
   ],
   "source": [
    "print(estate_data['kitchen_area'].describe())\n",
    "plt.title('Площадь кухни в квадратных метрах (м²)')\n",
    "estate_data['kitchen_area'].hist(bins=100, figsize=(8,5));"
   ]
  },
  {
   "cell_type": "markdown",
   "id": "a516266a",
   "metadata": {},
   "source": [
    "Оставим значенния, которые меньше 50."
   ]
  },
  {
   "cell_type": "code",
   "execution_count": 34,
   "id": "a4c0f155",
   "metadata": {},
   "outputs": [
    {
     "name": "stdout",
     "output_type": "stream",
     "text": [
      "count    22930.000000\n",
      "mean        10.163024\n",
      "std          4.747792\n",
      "min          1.300000\n",
      "25%          7.200000\n",
      "50%          9.100000\n",
      "75%         11.240000\n",
      "max         50.000000\n",
      "Name: kitchen_area, dtype: float64\n"
     ]
    },
    {
     "data": {
      "image/png": "[encoded data removed]",
      "text/plain": [
       "<Figure size 576x360 with 1 Axes>"
      ]
     },
     "metadata": {
      "needs_background": "light"
     },
     "output_type": "display_data"
    }
   ],
   "source": [
    "clean_estate_data = clean_estate_data.query('kitchen_area <= 50')\n",
    "print(clean_estate_data['kitchen_area'].describe())\n",
    "plt.title('Площадь кухни в квадратных метрах (м²)')\n",
    "clean_estate_data['kitchen_area'].hist(bins=50, figsize=(8,5));"
   ]
  },
  {
   "cell_type": "markdown",
   "id": "88a49f40",
   "metadata": {},
   "source": [
    "Обработаем аномалии в столбце airports_nearest."
   ]
  },
  {
   "cell_type": "code",
   "execution_count": 35,
   "id": "8c20fa6a",
   "metadata": {},
   "outputs": [
    {
     "name": "stdout",
     "output_type": "stream",
     "text": [
      "count    23699.000000\n",
      "mean     28310.148023\n",
      "std      11090.330161\n",
      "min          0.000000\n",
      "25%      21183.000000\n",
      "50%      26726.000000\n",
      "75%      34327.000000\n",
      "max      84869.000000\n",
      "Name: airports_nearest, dtype: float64\n"
     ]
    },
    {
     "data": {
      "image/png": "[encoded data removed]",
      "text/plain": [
       "<Figure size 576x360 with 1 Axes>"
      ]
     },
     "metadata": {
      "needs_background": "light"
     },
     "output_type": "display_data"
    }
   ],
   "source": [
    "print(estate_data['airports_nearest'].describe())\n",
    "plt.title('Расстояние до ближайшего аэропорта в метрах (м)')\n",
    "estate_data['airports_nearest'].hist(bins=100, figsize=(8,5));"
   ]
  },
  {
   "cell_type": "markdown",
   "id": "1cb986ff",
   "metadata": {},
   "source": [
    "Есть одно значение равное 0 и несколько выбивающихся значений превышающих 70000 м. Уберем их."
   ]
  },
  {
   "cell_type": "code",
   "execution_count": 36,
   "id": "20ce7acf",
   "metadata": {},
   "outputs": [
    {
     "name": "stdout",
     "output_type": "stream",
     "text": [
      "count    22900.000000\n",
      "mean     28316.599039\n",
      "std      11025.482934\n",
      "min       6450.000000\n",
      "25%      21032.500000\n",
      "50%      26726.000000\n",
      "75%      34530.000000\n",
      "max      69785.000000\n",
      "Name: airports_nearest, dtype: float64\n"
     ]
    },
    {
     "data": {
      "image/png": "[encoded data removed]",
      "text/plain": [
       "<Figure size 576x360 with 1 Axes>"
      ]
     },
     "metadata": {
      "needs_background": "light"
     },
     "output_type": "display_data"
    }
   ],
   "source": [
    "clean_estate_data = clean_estate_data.query('0 < airports_nearest < 70000')\n",
    "print(clean_estate_data['airports_nearest'].describe())\n",
    "plt.title('Расстояние до ближайшего аэропорта в метрах (м)')\n",
    "clean_estate_data['airports_nearest'].hist(bins=50, figsize=(8,5));"
   ]
  },
  {
   "cell_type": "markdown",
   "id": "f547af0b",
   "metadata": {},
   "source": [
    "Обработаем аномалии в столбце parks_nearest."
   ]
  },
  {
   "cell_type": "code",
   "execution_count": 37,
   "id": "1d010aec",
   "metadata": {},
   "outputs": [
    {
     "name": "stdout",
     "output_type": "stream",
     "text": [
      "count    23699.000000\n",
      "mean       467.205789\n",
      "std        200.579309\n",
      "min          1.000000\n",
      "25%        455.000000\n",
      "50%        455.000000\n",
      "75%        455.000000\n",
      "max       3190.000000\n",
      "Name: parks_nearest, dtype: float64\n"
     ]
    },
    {
     "data": {
      "image/png": "[encoded data removed]",
      "text/plain": [
       "<Figure size 576x360 with 1 Axes>"
      ]
     },
     "metadata": {
      "needs_background": "light"
     },
     "output_type": "display_data"
    }
   ],
   "source": [
    "print(estate_data['parks_nearest'].describe())\n",
    "plt.title('Расстояние до ближайшего парка (м)')\n",
    "estate_data['parks_nearest'].hist(bins=100, figsize=(8,5));"
   ]
  },
  {
   "cell_type": "markdown",
   "id": "5d4b79e9",
   "metadata": {},
   "source": [
    "Уберем значения превышающие 2500 и те, которые меньше 10."
   ]
  },
  {
   "cell_type": "code",
   "execution_count": 38,
   "id": "cf85e4cb",
   "metadata": {},
   "outputs": [
    {
     "name": "stdout",
     "output_type": "stream",
     "text": [
      "count    22872.000000\n",
      "mean       466.421257\n",
      "std        189.741360\n",
      "min         11.000000\n",
      "25%        455.000000\n",
      "50%        455.000000\n",
      "75%        455.000000\n",
      "max       2489.000000\n",
      "Name: parks_nearest, dtype: float64\n"
     ]
    },
    {
     "data": {
      "image/png": "[encoded data removed]",
      "text/plain": [
       "<Figure size 576x360 with 1 Axes>"
      ]
     },
     "metadata": {
      "needs_background": "light"
     },
     "output_type": "display_data"
    }
   ],
   "source": [
    "clean_estate_data = clean_estate_data.query('10 < parks_nearest < 2500')\n",
    "print(clean_estate_data['parks_nearest'].describe())\n",
    "plt.title('Расстояние до ближайшего парка (м)')\n",
    "clean_estate_data['parks_nearest'].hist(bins=50, figsize=(8,5));"
   ]
  },
  {
   "cell_type": "markdown",
   "id": "dddd1a98",
   "metadata": {},
   "source": [
    "### Переименуем некоторые столбцы"
   ]
  },
  {
   "cell_type": "code",
   "execution_count": 39,
   "id": "5bdeaed0",
   "metadata": {},
   "outputs": [
    {
     "name": "stdout",
     "output_type": "stream",
     "text": [
      "<class 'pandas.core.frame.DataFrame'>\n",
      "Int64Index: 22872 entries, 0 to 23698\n",
      "Data columns (total 22 columns):\n",
      " #   Column                Non-Null Count  Dtype         \n",
      "---  ------                --------------  -----         \n",
      " 0   total_images          22872 non-null  int64         \n",
      " 1   last_price            22872 non-null  int64         \n",
      " 2   total_area            22872 non-null  float64       \n",
      " 3   first_day_exposition  22872 non-null  datetime64[ns]\n",
      " 4   rooms                 22872 non-null  int64         \n",
      " 5   ceiling_height        22872 non-null  float64       \n",
      " 6   floors_total          22872 non-null  int64         \n",
      " 7   living_area           22872 non-null  float64       \n",
      " 8   floor                 22872 non-null  int64         \n",
      " 9   is_apartment          22872 non-null  bool          \n",
      " 10  studio                22872 non-null  bool          \n",
      " 11  open_plan             22872 non-null  bool          \n",
      " 12  kitchen_area          22872 non-null  float64       \n",
      " 13  balcony               22872 non-null  int64         \n",
      " 14  locality_name         22872 non-null  object        \n",
      " 15  airports_nearest      22872 non-null  int64         \n",
      " 16  city_centers_nearest  22872 non-null  float64       \n",
      " 17  parks_around_3000     22872 non-null  int64         \n",
      " 18  parks_nearest         22872 non-null  float64       \n",
      " 19  ponds_around_3000     22872 non-null  int64         \n",
      " 20  ponds_nearest         22872 non-null  float64       \n",
      " 21  days_exposition       22872 non-null  int64         \n",
      "dtypes: bool(3), datetime64[ns](1), float64(7), int64(10), object(1)\n",
      "memory usage: 3.6+ MB\n"
     ]
    }
   ],
   "source": [
    "clean_estate_data = clean_estate_data.rename(columns={'cityCenters_nearest': 'city_centers_nearest', 'parks_around3000': 'parks_around_3000', 'ponds_around3000': 'ponds_around_3000'})\n",
    "clean_estate_data.info()"
   ]
  },
  {
   "cell_type": "markdown",
   "id": "812d0a04",
   "metadata": {},
   "source": [
    "## Добавление в таблицу новых столбцов"
   ]
  },
  {
   "cell_type": "code",
   "execution_count": 40,
   "id": "770faaaf",
   "metadata": {},
   "outputs": [
    {
     "data": {
      "text/html": [
       "<div>\n",
       "<style scoped>\n",
       "    .dataframe tbody tr th:only-of-type {\n",
       "        vertical-align: middle;\n",
       "    }\n",
       "\n",
       "    .dataframe tbody tr th {\n",
       "        vertical-align: top;\n",
       "    }\n",
       "\n",
       "    .dataframe thead th {\n",
       "        text-align: right;\n",
       "    }\n",
       "</style>\n",
       "<table border=\"1\" class=\"dataframe\">\n",
       "  <thead>\n",
       "    <tr style=\"text-align: right;\">\n",
       "      <th></th>\n",
       "      <th>total_images</th>\n",
       "      <th>last_price</th>\n",
       "      <th>total_area</th>\n",
       "      <th>first_day_exposition</th>\n",
       "      <th>rooms</th>\n",
       "      <th>ceiling_height</th>\n",
       "      <th>floors_total</th>\n",
       "      <th>living_area</th>\n",
       "      <th>floor</th>\n",
       "      <th>is_apartment</th>\n",
       "      <th>...</th>\n",
       "      <th>balcony</th>\n",
       "      <th>locality_name</th>\n",
       "      <th>airports_nearest</th>\n",
       "      <th>city_centers_nearest</th>\n",
       "      <th>parks_around_3000</th>\n",
       "      <th>parks_nearest</th>\n",
       "      <th>ponds_around_3000</th>\n",
       "      <th>ponds_nearest</th>\n",
       "      <th>days_exposition</th>\n",
       "      <th>price_per_meter</th>\n",
       "    </tr>\n",
       "  </thead>\n",
       "  <tbody>\n",
       "    <tr>\n",
       "      <th>0</th>\n",
       "      <td>20</td>\n",
       "      <td>13000000</td>\n",
       "      <td>108.0</td>\n",
       "      <td>2019-03-07</td>\n",
       "      <td>3</td>\n",
       "      <td>2.70</td>\n",
       "      <td>16</td>\n",
       "      <td>51.0</td>\n",
       "      <td>8</td>\n",
       "      <td>False</td>\n",
       "      <td>...</td>\n",
       "      <td>0</td>\n",
       "      <td>Санкт-Петербург</td>\n",
       "      <td>18863</td>\n",
       "      <td>16028.0</td>\n",
       "      <td>1</td>\n",
       "      <td>482.0</td>\n",
       "      <td>2</td>\n",
       "      <td>755.0</td>\n",
       "      <td>95</td>\n",
       "      <td>120370.370370</td>\n",
       "    </tr>\n",
       "    <tr>\n",
       "      <th>1</th>\n",
       "      <td>7</td>\n",
       "      <td>3350000</td>\n",
       "      <td>40.4</td>\n",
       "      <td>2018-12-04</td>\n",
       "      <td>1</td>\n",
       "      <td>2.65</td>\n",
       "      <td>11</td>\n",
       "      <td>18.6</td>\n",
       "      <td>1</td>\n",
       "      <td>False</td>\n",
       "      <td>...</td>\n",
       "      <td>2</td>\n",
       "      <td>поселок Шушары</td>\n",
       "      <td>12817</td>\n",
       "      <td>18603.0</td>\n",
       "      <td>0</td>\n",
       "      <td>455.0</td>\n",
       "      <td>0</td>\n",
       "      <td>502.0</td>\n",
       "      <td>81</td>\n",
       "      <td>82920.792079</td>\n",
       "    </tr>\n",
       "    <tr>\n",
       "      <th>2</th>\n",
       "      <td>10</td>\n",
       "      <td>5196000</td>\n",
       "      <td>56.0</td>\n",
       "      <td>2015-08-20</td>\n",
       "      <td>2</td>\n",
       "      <td>2.65</td>\n",
       "      <td>5</td>\n",
       "      <td>34.3</td>\n",
       "      <td>4</td>\n",
       "      <td>False</td>\n",
       "      <td>...</td>\n",
       "      <td>0</td>\n",
       "      <td>Санкт-Петербург</td>\n",
       "      <td>21741</td>\n",
       "      <td>13933.0</td>\n",
       "      <td>1</td>\n",
       "      <td>90.0</td>\n",
       "      <td>2</td>\n",
       "      <td>574.0</td>\n",
       "      <td>558</td>\n",
       "      <td>92785.714286</td>\n",
       "    </tr>\n",
       "    <tr>\n",
       "      <th>3</th>\n",
       "      <td>0</td>\n",
       "      <td>64900000</td>\n",
       "      <td>159.0</td>\n",
       "      <td>2015-07-24</td>\n",
       "      <td>3</td>\n",
       "      <td>2.65</td>\n",
       "      <td>14</td>\n",
       "      <td>30.0</td>\n",
       "      <td>9</td>\n",
       "      <td>False</td>\n",
       "      <td>...</td>\n",
       "      <td>0</td>\n",
       "      <td>Санкт-Петербург</td>\n",
       "      <td>28098</td>\n",
       "      <td>6800.0</td>\n",
       "      <td>2</td>\n",
       "      <td>84.0</td>\n",
       "      <td>3</td>\n",
       "      <td>234.0</td>\n",
       "      <td>424</td>\n",
       "      <td>408176.100629</td>\n",
       "    </tr>\n",
       "    <tr>\n",
       "      <th>4</th>\n",
       "      <td>2</td>\n",
       "      <td>10000000</td>\n",
       "      <td>100.0</td>\n",
       "      <td>2018-06-19</td>\n",
       "      <td>2</td>\n",
       "      <td>3.03</td>\n",
       "      <td>14</td>\n",
       "      <td>32.0</td>\n",
       "      <td>13</td>\n",
       "      <td>False</td>\n",
       "      <td>...</td>\n",
       "      <td>0</td>\n",
       "      <td>Санкт-Петербург</td>\n",
       "      <td>31856</td>\n",
       "      <td>8098.0</td>\n",
       "      <td>2</td>\n",
       "      <td>112.0</td>\n",
       "      <td>1</td>\n",
       "      <td>48.0</td>\n",
       "      <td>121</td>\n",
       "      <td>100000.000000</td>\n",
       "    </tr>\n",
       "  </tbody>\n",
       "</table>\n",
       "<p>5 rows × 23 columns</p>\n",
       "</div>"
      ],
      "text/plain": [
       "   total_images  last_price  total_area first_day_exposition  rooms  \\\n",
       "0            20    13000000       108.0           2019-03-07      3   \n",
       "1             7     3350000        40.4           2018-12-04      1   \n",
       "2            10     5196000        56.0           2015-08-20      2   \n",
       "3             0    64900000       159.0           2015-07-24      3   \n",
       "4             2    10000000       100.0           2018-06-19      2   \n",
       "\n",
       "   ceiling_height  floors_total  living_area  floor  is_apartment  ...  \\\n",
       "0            2.70            16         51.0      8         False  ...   \n",
       "1            2.65            11         18.6      1         False  ...   \n",
       "2            2.65             5         34.3      4         False  ...   \n",
       "3            2.65            14         30.0      9         False  ...   \n",
       "4            3.03            14         32.0     13         False  ...   \n",
       "\n",
       "   balcony    locality_name  airports_nearest  city_centers_nearest  \\\n",
       "0        0  Санкт-Петербург             18863               16028.0   \n",
       "1        2   поселок Шушары             12817               18603.0   \n",
       "2        0  Санкт-Петербург             21741               13933.0   \n",
       "3        0  Санкт-Петербург             28098                6800.0   \n",
       "4        0  Санкт-Петербург             31856                8098.0   \n",
       "\n",
       "  parks_around_3000  parks_nearest  ponds_around_3000  ponds_nearest  \\\n",
       "0                 1          482.0                  2          755.0   \n",
       "1                 0          455.0                  0          502.0   \n",
       "2                 1           90.0                  2          574.0   \n",
       "3                 2           84.0                  3          234.0   \n",
       "4                 2          112.0                  1           48.0   \n",
       "\n",
       "   days_exposition  price_per_meter  \n",
       "0               95    120370.370370  \n",
       "1               81     82920.792079  \n",
       "2              558     92785.714286  \n",
       "3              424    408176.100629  \n",
       "4              121    100000.000000  \n",
       "\n",
       "[5 rows x 23 columns]"
      ]
     },
     "execution_count": 40,
     "metadata": {},
     "output_type": "execute_result"
    }
   ],
   "source": [
    "# цена одного квадратного метра\n",
    "clean_estate_data['price_per_meter'] = clean_estate_data['last_price'] / clean_estate_data['total_area']\n",
    "clean_estate_data.head()"
   ]
  },
  {
   "cell_type": "code",
   "execution_count": 41,
   "id": "d2e6290a",
   "metadata": {},
   "outputs": [
    {
     "data": {
      "text/plain": [
       "0        3\n",
       "1        1\n",
       "2        3\n",
       "3        4\n",
       "4        1\n",
       "        ..\n",
       "23693    4\n",
       "23695    0\n",
       "23696    6\n",
       "23697    1\n",
       "23698    4\n",
       "Name: weekday, Length: 22872, dtype: int64"
      ]
     },
     "execution_count": 41,
     "metadata": {},
     "output_type": "execute_result"
    }
   ],
   "source": [
    "# день недели публикации объявления (0 — понедельник, 1 — вторник и так далее)\n",
    "clean_estate_data['weekday'] = pd.DatetimeIndex(clean_estate_data['first_day_exposition']).weekday\n",
    "clean_estate_data['weekday']"
   ]
  },
  {
   "cell_type": "code",
   "execution_count": 42,
   "id": "64ff5a23",
   "metadata": {},
   "outputs": [
    {
     "data": {
      "text/plain": [
       "0         3\n",
       "1        12\n",
       "2         8\n",
       "3         7\n",
       "4         6\n",
       "         ..\n",
       "23693     8\n",
       "23695     1\n",
       "23696     2\n",
       "23697     3\n",
       "23698     7\n",
       "Name: month, Length: 22872, dtype: int64"
      ]
     },
     "execution_count": 42,
     "metadata": {},
     "output_type": "execute_result"
    }
   ],
   "source": [
    "# месяц публикации объявления\n",
    "clean_estate_data['month'] = pd.DatetimeIndex(clean_estate_data['first_day_exposition']).month\n",
    "clean_estate_data['month']"
   ]
  },
  {
   "cell_type": "code",
   "execution_count": 43,
   "id": "0de6a55b",
   "metadata": {},
   "outputs": [
    {
     "data": {
      "text/plain": [
       "0        2019\n",
       "1        2018\n",
       "2        2015\n",
       "3        2015\n",
       "4        2018\n",
       "         ... \n",
       "23693    2016\n",
       "23695    2018\n",
       "23696    2018\n",
       "23697    2017\n",
       "23698    2017\n",
       "Name: year, Length: 22872, dtype: int64"
      ]
     },
     "execution_count": 43,
     "metadata": {},
     "output_type": "execute_result"
    }
   ],
   "source": [
    "# год публикации объявления\n",
    "clean_estate_data['year'] = pd.DatetimeIndex(clean_estate_data['first_day_exposition']).year\n",
    "clean_estate_data['year']"
   ]
  },
  {
   "cell_type": "code",
   "execution_count": 44,
   "id": "8413a828",
   "metadata": {},
   "outputs": [
    {
     "data": {
      "text/html": [
       "<div>\n",
       "<style scoped>\n",
       "    .dataframe tbody tr th:only-of-type {\n",
       "        vertical-align: middle;\n",
       "    }\n",
       "\n",
       "    .dataframe tbody tr th {\n",
       "        vertical-align: top;\n",
       "    }\n",
       "\n",
       "    .dataframe thead th {\n",
       "        text-align: right;\n",
       "    }\n",
       "</style>\n",
       "<table border=\"1\" class=\"dataframe\">\n",
       "  <thead>\n",
       "    <tr style=\"text-align: right;\">\n",
       "      <th></th>\n",
       "      <th>total_images</th>\n",
       "      <th>last_price</th>\n",
       "      <th>total_area</th>\n",
       "      <th>first_day_exposition</th>\n",
       "      <th>rooms</th>\n",
       "      <th>ceiling_height</th>\n",
       "      <th>floors_total</th>\n",
       "      <th>living_area</th>\n",
       "      <th>floor</th>\n",
       "      <th>is_apartment</th>\n",
       "      <th>...</th>\n",
       "      <th>parks_around_3000</th>\n",
       "      <th>parks_nearest</th>\n",
       "      <th>ponds_around_3000</th>\n",
       "      <th>ponds_nearest</th>\n",
       "      <th>days_exposition</th>\n",
       "      <th>price_per_meter</th>\n",
       "      <th>weekday</th>\n",
       "      <th>month</th>\n",
       "      <th>year</th>\n",
       "      <th>type_floor</th>\n",
       "    </tr>\n",
       "  </thead>\n",
       "  <tbody>\n",
       "    <tr>\n",
       "      <th>0</th>\n",
       "      <td>20</td>\n",
       "      <td>13000000</td>\n",
       "      <td>108.0</td>\n",
       "      <td>2019-03-07</td>\n",
       "      <td>3</td>\n",
       "      <td>2.70</td>\n",
       "      <td>16</td>\n",
       "      <td>51.0</td>\n",
       "      <td>8</td>\n",
       "      <td>False</td>\n",
       "      <td>...</td>\n",
       "      <td>1</td>\n",
       "      <td>482.0</td>\n",
       "      <td>2</td>\n",
       "      <td>755.0</td>\n",
       "      <td>95</td>\n",
       "      <td>120370.370370</td>\n",
       "      <td>3</td>\n",
       "      <td>3</td>\n",
       "      <td>2019</td>\n",
       "      <td>другой</td>\n",
       "    </tr>\n",
       "    <tr>\n",
       "      <th>1</th>\n",
       "      <td>7</td>\n",
       "      <td>3350000</td>\n",
       "      <td>40.4</td>\n",
       "      <td>2018-12-04</td>\n",
       "      <td>1</td>\n",
       "      <td>2.65</td>\n",
       "      <td>11</td>\n",
       "      <td>18.6</td>\n",
       "      <td>1</td>\n",
       "      <td>False</td>\n",
       "      <td>...</td>\n",
       "      <td>0</td>\n",
       "      <td>455.0</td>\n",
       "      <td>0</td>\n",
       "      <td>502.0</td>\n",
       "      <td>81</td>\n",
       "      <td>82920.792079</td>\n",
       "      <td>1</td>\n",
       "      <td>12</td>\n",
       "      <td>2018</td>\n",
       "      <td>первый</td>\n",
       "    </tr>\n",
       "    <tr>\n",
       "      <th>2</th>\n",
       "      <td>10</td>\n",
       "      <td>5196000</td>\n",
       "      <td>56.0</td>\n",
       "      <td>2015-08-20</td>\n",
       "      <td>2</td>\n",
       "      <td>2.65</td>\n",
       "      <td>5</td>\n",
       "      <td>34.3</td>\n",
       "      <td>4</td>\n",
       "      <td>False</td>\n",
       "      <td>...</td>\n",
       "      <td>1</td>\n",
       "      <td>90.0</td>\n",
       "      <td>2</td>\n",
       "      <td>574.0</td>\n",
       "      <td>558</td>\n",
       "      <td>92785.714286</td>\n",
       "      <td>3</td>\n",
       "      <td>8</td>\n",
       "      <td>2015</td>\n",
       "      <td>другой</td>\n",
       "    </tr>\n",
       "    <tr>\n",
       "      <th>3</th>\n",
       "      <td>0</td>\n",
       "      <td>64900000</td>\n",
       "      <td>159.0</td>\n",
       "      <td>2015-07-24</td>\n",
       "      <td>3</td>\n",
       "      <td>2.65</td>\n",
       "      <td>14</td>\n",
       "      <td>30.0</td>\n",
       "      <td>9</td>\n",
       "      <td>False</td>\n",
       "      <td>...</td>\n",
       "      <td>2</td>\n",
       "      <td>84.0</td>\n",
       "      <td>3</td>\n",
       "      <td>234.0</td>\n",
       "      <td>424</td>\n",
       "      <td>408176.100629</td>\n",
       "      <td>4</td>\n",
       "      <td>7</td>\n",
       "      <td>2015</td>\n",
       "      <td>другой</td>\n",
       "    </tr>\n",
       "    <tr>\n",
       "      <th>4</th>\n",
       "      <td>2</td>\n",
       "      <td>10000000</td>\n",
       "      <td>100.0</td>\n",
       "      <td>2018-06-19</td>\n",
       "      <td>2</td>\n",
       "      <td>3.03</td>\n",
       "      <td>14</td>\n",
       "      <td>32.0</td>\n",
       "      <td>13</td>\n",
       "      <td>False</td>\n",
       "      <td>...</td>\n",
       "      <td>2</td>\n",
       "      <td>112.0</td>\n",
       "      <td>1</td>\n",
       "      <td>48.0</td>\n",
       "      <td>121</td>\n",
       "      <td>100000.000000</td>\n",
       "      <td>1</td>\n",
       "      <td>6</td>\n",
       "      <td>2018</td>\n",
       "      <td>другой</td>\n",
       "    </tr>\n",
       "  </tbody>\n",
       "</table>\n",
       "<p>5 rows × 27 columns</p>\n",
       "</div>"
      ],
      "text/plain": [
       "   total_images  last_price  total_area first_day_exposition  rooms  \\\n",
       "0            20    13000000       108.0           2019-03-07      3   \n",
       "1             7     3350000        40.4           2018-12-04      1   \n",
       "2            10     5196000        56.0           2015-08-20      2   \n",
       "3             0    64900000       159.0           2015-07-24      3   \n",
       "4             2    10000000       100.0           2018-06-19      2   \n",
       "\n",
       "   ceiling_height  floors_total  living_area  floor  is_apartment  ...  \\\n",
       "0            2.70            16         51.0      8         False  ...   \n",
       "1            2.65            11         18.6      1         False  ...   \n",
       "2            2.65             5         34.3      4         False  ...   \n",
       "3            2.65            14         30.0      9         False  ...   \n",
       "4            3.03            14         32.0     13         False  ...   \n",
       "\n",
       "   parks_around_3000  parks_nearest  ponds_around_3000  ponds_nearest  \\\n",
       "0                  1          482.0                  2          755.0   \n",
       "1                  0          455.0                  0          502.0   \n",
       "2                  1           90.0                  2          574.0   \n",
       "3                  2           84.0                  3          234.0   \n",
       "4                  2          112.0                  1           48.0   \n",
       "\n",
       "  days_exposition  price_per_meter  weekday  month  year  type_floor  \n",
       "0              95    120370.370370        3      3  2019      другой  \n",
       "1              81     82920.792079        1     12  2018      первый  \n",
       "2             558     92785.714286        3      8  2015      другой  \n",
       "3             424    408176.100629        4      7  2015      другой  \n",
       "4             121    100000.000000        1      6  2018      другой  \n",
       "\n",
       "[5 rows x 27 columns]"
      ]
     },
     "execution_count": 44,
     "metadata": {},
     "output_type": "execute_result"
    }
   ],
   "source": [
    "# тип этажа квартиры (значения — «первый», «последний», «другой»)\n",
    "def type_floor(row):\n",
    "    if row['floor'] == 1:\n",
    "        return 'первый'\n",
    "    elif row['floor'] == row['floors_total']:\n",
    "         return 'последний'\n",
    "    return 'другой'\n",
    "\n",
    "clean_estate_data['type_floor'] = clean_estate_data.apply(type_floor, axis=1)\n",
    "clean_estate_data.head()"
   ]
  },
  {
   "cell_type": "code",
   "execution_count": 45,
   "id": "67fcd6bb",
   "metadata": {},
   "outputs": [
    {
     "data": {
      "text/html": [
       "<div>\n",
       "<style scoped>\n",
       "    .dataframe tbody tr th:only-of-type {\n",
       "        vertical-align: middle;\n",
       "    }\n",
       "\n",
       "    .dataframe tbody tr th {\n",
       "        vertical-align: top;\n",
       "    }\n",
       "\n",
       "    .dataframe thead th {\n",
       "        text-align: right;\n",
       "    }\n",
       "</style>\n",
       "<table border=\"1\" class=\"dataframe\">\n",
       "  <thead>\n",
       "    <tr style=\"text-align: right;\">\n",
       "      <th></th>\n",
       "      <th>total_images</th>\n",
       "      <th>last_price</th>\n",
       "      <th>total_area</th>\n",
       "      <th>first_day_exposition</th>\n",
       "      <th>rooms</th>\n",
       "      <th>ceiling_height</th>\n",
       "      <th>floors_total</th>\n",
       "      <th>living_area</th>\n",
       "      <th>floor</th>\n",
       "      <th>is_apartment</th>\n",
       "      <th>...</th>\n",
       "      <th>parks_nearest</th>\n",
       "      <th>ponds_around_3000</th>\n",
       "      <th>ponds_nearest</th>\n",
       "      <th>days_exposition</th>\n",
       "      <th>price_per_meter</th>\n",
       "      <th>weekday</th>\n",
       "      <th>month</th>\n",
       "      <th>year</th>\n",
       "      <th>type_floor</th>\n",
       "      <th>city_centers_nearest_km</th>\n",
       "    </tr>\n",
       "  </thead>\n",
       "  <tbody>\n",
       "    <tr>\n",
       "      <th>0</th>\n",
       "      <td>20</td>\n",
       "      <td>13000000</td>\n",
       "      <td>108.0</td>\n",
       "      <td>2019-03-07</td>\n",
       "      <td>3</td>\n",
       "      <td>2.70</td>\n",
       "      <td>16</td>\n",
       "      <td>51.0</td>\n",
       "      <td>8</td>\n",
       "      <td>False</td>\n",
       "      <td>...</td>\n",
       "      <td>482.0</td>\n",
       "      <td>2</td>\n",
       "      <td>755.0</td>\n",
       "      <td>95</td>\n",
       "      <td>120370.370370</td>\n",
       "      <td>3</td>\n",
       "      <td>3</td>\n",
       "      <td>2019</td>\n",
       "      <td>другой</td>\n",
       "      <td>16</td>\n",
       "    </tr>\n",
       "    <tr>\n",
       "      <th>1</th>\n",
       "      <td>7</td>\n",
       "      <td>3350000</td>\n",
       "      <td>40.4</td>\n",
       "      <td>2018-12-04</td>\n",
       "      <td>1</td>\n",
       "      <td>2.65</td>\n",
       "      <td>11</td>\n",
       "      <td>18.6</td>\n",
       "      <td>1</td>\n",
       "      <td>False</td>\n",
       "      <td>...</td>\n",
       "      <td>455.0</td>\n",
       "      <td>0</td>\n",
       "      <td>502.0</td>\n",
       "      <td>81</td>\n",
       "      <td>82920.792079</td>\n",
       "      <td>1</td>\n",
       "      <td>12</td>\n",
       "      <td>2018</td>\n",
       "      <td>первый</td>\n",
       "      <td>18</td>\n",
       "    </tr>\n",
       "    <tr>\n",
       "      <th>2</th>\n",
       "      <td>10</td>\n",
       "      <td>5196000</td>\n",
       "      <td>56.0</td>\n",
       "      <td>2015-08-20</td>\n",
       "      <td>2</td>\n",
       "      <td>2.65</td>\n",
       "      <td>5</td>\n",
       "      <td>34.3</td>\n",
       "      <td>4</td>\n",
       "      <td>False</td>\n",
       "      <td>...</td>\n",
       "      <td>90.0</td>\n",
       "      <td>2</td>\n",
       "      <td>574.0</td>\n",
       "      <td>558</td>\n",
       "      <td>92785.714286</td>\n",
       "      <td>3</td>\n",
       "      <td>8</td>\n",
       "      <td>2015</td>\n",
       "      <td>другой</td>\n",
       "      <td>13</td>\n",
       "    </tr>\n",
       "    <tr>\n",
       "      <th>3</th>\n",
       "      <td>0</td>\n",
       "      <td>64900000</td>\n",
       "      <td>159.0</td>\n",
       "      <td>2015-07-24</td>\n",
       "      <td>3</td>\n",
       "      <td>2.65</td>\n",
       "      <td>14</td>\n",
       "      <td>30.0</td>\n",
       "      <td>9</td>\n",
       "      <td>False</td>\n",
       "      <td>...</td>\n",
       "      <td>84.0</td>\n",
       "      <td>3</td>\n",
       "      <td>234.0</td>\n",
       "      <td>424</td>\n",
       "      <td>408176.100629</td>\n",
       "      <td>4</td>\n",
       "      <td>7</td>\n",
       "      <td>2015</td>\n",
       "      <td>другой</td>\n",
       "      <td>6</td>\n",
       "    </tr>\n",
       "    <tr>\n",
       "      <th>4</th>\n",
       "      <td>2</td>\n",
       "      <td>10000000</td>\n",
       "      <td>100.0</td>\n",
       "      <td>2018-06-19</td>\n",
       "      <td>2</td>\n",
       "      <td>3.03</td>\n",
       "      <td>14</td>\n",
       "      <td>32.0</td>\n",
       "      <td>13</td>\n",
       "      <td>False</td>\n",
       "      <td>...</td>\n",
       "      <td>112.0</td>\n",
       "      <td>1</td>\n",
       "      <td>48.0</td>\n",
       "      <td>121</td>\n",
       "      <td>100000.000000</td>\n",
       "      <td>1</td>\n",
       "      <td>6</td>\n",
       "      <td>2018</td>\n",
       "      <td>другой</td>\n",
       "      <td>8</td>\n",
       "    </tr>\n",
       "  </tbody>\n",
       "</table>\n",
       "<p>5 rows × 28 columns</p>\n",
       "</div>"
      ],
      "text/plain": [
       "   total_images  last_price  total_area first_day_exposition  rooms  \\\n",
       "0            20    13000000       108.0           2019-03-07      3   \n",
       "1             7     3350000        40.4           2018-12-04      1   \n",
       "2            10     5196000        56.0           2015-08-20      2   \n",
       "3             0    64900000       159.0           2015-07-24      3   \n",
       "4             2    10000000       100.0           2018-06-19      2   \n",
       "\n",
       "   ceiling_height  floors_total  living_area  floor  is_apartment  ...  \\\n",
       "0            2.70            16         51.0      8         False  ...   \n",
       "1            2.65            11         18.6      1         False  ...   \n",
       "2            2.65             5         34.3      4         False  ...   \n",
       "3            2.65            14         30.0      9         False  ...   \n",
       "4            3.03            14         32.0     13         False  ...   \n",
       "\n",
       "   parks_nearest  ponds_around_3000  ponds_nearest  days_exposition  \\\n",
       "0          482.0                  2          755.0               95   \n",
       "1          455.0                  0          502.0               81   \n",
       "2           90.0                  2          574.0              558   \n",
       "3           84.0                  3          234.0              424   \n",
       "4          112.0                  1           48.0              121   \n",
       "\n",
       "  price_per_meter  weekday  month  year  type_floor  city_centers_nearest_km  \n",
       "0   120370.370370        3      3  2019      другой                       16  \n",
       "1    82920.792079        1     12  2018      первый                       18  \n",
       "2    92785.714286        3      8  2015      другой                       13  \n",
       "3   408176.100629        4      7  2015      другой                        6  \n",
       "4   100000.000000        1      6  2018      другой                        8  \n",
       "\n",
       "[5 rows x 28 columns]"
      ]
     },
     "execution_count": 45,
     "metadata": {},
     "output_type": "execute_result"
    }
   ],
   "source": [
    "# расстояние до центра города в километрах (переведите из м в км и округлите до целых значений)\n",
    "clean_estate_data['city_centers_nearest_km'] = (clean_estate_data['city_centers_nearest'] / 1000).astype('int')\n",
    "clean_estate_data.head()"
   ]
  },
  {
   "cell_type": "markdown",
   "id": "6d5c8af7",
   "metadata": {},
   "source": [
    "## Проведение исследовательского анализа данных"
   ]
  },
  {
   "cell_type": "markdown",
   "id": "296e7a22",
   "metadata": {},
   "source": [
    "### Изучим следующие параметры:\n",
    "- общая площадь;\n",
    "- жилая площадь;\n",
    "- площадь кухни;\n",
    "- цена объекта;\n",
    "- количество комнат;\n",
    "- высота потолков;\n",
    "- этаж квартиры;\n",
    "- тип этажа квартиры («первый», «последний», «другой»);\n",
    "- общее количество этажей в доме;\n",
    "- расстояние до центра города в метрах;\n",
    "- расстояние до ближайшего аэропорта;\n",
    "- расстояние до ближайшего парка;\n",
    "- день и месяц публикации объявления."
   ]
  },
  {
   "cell_type": "code",
   "execution_count": 46,
   "id": "f15549e4",
   "metadata": {},
   "outputs": [],
   "source": [
    "def create_hist(data, name):\n",
    "    print('Медиана:', data.median())\n",
    "    print('Среднее:', data.mean())\n",
    "    plt.title(name)\n",
    "    data.hist(bins=100, figsize=(8,5));\n",
    "    "
   ]
  },
  {
   "cell_type": "code",
   "execution_count": 47,
   "id": "15446516",
   "metadata": {},
   "outputs": [
    {
     "name": "stdout",
     "output_type": "stream",
     "text": [
      "Медиана: 52.0\n",
      "Среднее: 58.019459601259186\n"
     ]
    },
    {
     "data": {
      "image/png": "[encoded data removed]",
      "text/plain": [
       "<Figure size 576x360 with 1 Axes>"
      ]
     },
     "metadata": {
      "needs_background": "light"
     },
     "output_type": "display_data"
    }
   ],
   "source": [
    "create_hist(clean_estate_data['total_area'], 'Общая площадь квартиры в квадратных метрах (м²)')"
   ]
  },
  {
   "cell_type": "code",
   "execution_count": 48,
   "id": "ca593226",
   "metadata": {},
   "outputs": [
    {
     "name": "stdout",
     "output_type": "stream",
     "text": [
      "Медиана: 30.0\n",
      "Среднее: 32.89384144421126\n"
     ]
    },
    {
     "data": {
      "image/png": "[encoded data removed]",
      "text/plain": [
       "<Figure size 576x360 with 1 Axes>"
      ]
     },
     "metadata": {
      "needs_background": "light"
     },
     "output_type": "display_data"
    }
   ],
   "source": [
    "create_hist(clean_estate_data['living_area'], 'Жилая площадь в квадратных метрах (м²)')"
   ]
  },
  {
   "cell_type": "code",
   "execution_count": 49,
   "id": "5d015b7f",
   "metadata": {},
   "outputs": [
    {
     "name": "stdout",
     "output_type": "stream",
     "text": [
      "Медиана: 9.1\n",
      "Среднее: 10.164836044071352\n"
     ]
    },
    {
     "data": {
      "image/png": "[encoded data removed]",
      "text/plain": [
       "<Figure size 576x360 with 1 Axes>"
      ]
     },
     "metadata": {
      "needs_background": "light"
     },
     "output_type": "display_data"
    }
   ],
   "source": [
    "create_hist(clean_estate_data['kitchen_area'], 'Площадь кухни в квадратных метрах (м²)')"
   ]
  },
  {
   "cell_type": "code",
   "execution_count": 50,
   "id": "d1c326a8",
   "metadata": {},
   "outputs": [
    {
     "name": "stdout",
     "output_type": "stream",
     "text": [
      "Медиана: 4.6\n",
      "Среднее: 5.9423386371546005\n"
     ]
    },
    {
     "data": {
      "image/png": "[encoded data removed]",
      "text/plain": [
       "<Figure size 576x360 with 1 Axes>"
      ]
     },
     "metadata": {
      "needs_background": "light"
     },
     "output_type": "display_data"
    }
   ],
   "source": [
    "create_hist(clean_estate_data['last_price']/1000000, 'Цена на момент снятия с публикации (в млн)')"
   ]
  },
  {
   "cell_type": "code",
   "execution_count": 51,
   "id": "8f023b14",
   "metadata": {},
   "outputs": [
    {
     "name": "stdout",
     "output_type": "stream",
     "text": [
      "Медиана: 2.0\n",
      "Среднее: 2.043240643581672\n"
     ]
    },
    {
     "data": {
      "image/png": "[encoded data removed]",
      "text/plain": [
       "<Figure size 576x360 with 1 Axes>"
      ]
     },
     "metadata": {
      "needs_background": "light"
     },
     "output_type": "display_data"
    }
   ],
   "source": [
    "create_hist(clean_estate_data['rooms'], 'Число комнат')"
   ]
  },
  {
   "cell_type": "code",
   "execution_count": 52,
   "id": "31e404d2",
   "metadata": {},
   "outputs": [
    {
     "name": "stdout",
     "output_type": "stream",
     "text": [
      "Медиана: 2.65\n",
      "Среднее: 2.680623469744666\n"
     ]
    },
    {
     "data": {
      "image/png": "[encoded data removed]",
      "text/plain": [
       "<Figure size 576x360 with 1 Axes>"
      ]
     },
     "metadata": {
      "needs_background": "light"
     },
     "output_type": "display_data"
    }
   ],
   "source": [
    "create_hist(clean_estate_data['ceiling_height'], 'Высота потолков (м)')"
   ]
  },
  {
   "cell_type": "code",
   "execution_count": 53,
   "id": "759db55a",
   "metadata": {},
   "outputs": [
    {
     "name": "stdout",
     "output_type": "stream",
     "text": [
      "Медиана: 4.0\n",
      "Среднее: 5.908884225253585\n"
     ]
    },
    {
     "data": {
      "image/png": "[encoded data removed]",
      "text/plain": [
       "<Figure size 576x360 with 1 Axes>"
      ]
     },
     "metadata": {
      "needs_background": "light"
     },
     "output_type": "display_data"
    }
   ],
   "source": [
    "create_hist(clean_estate_data['floor'], 'Этаж')"
   ]
  },
  {
   "cell_type": "code",
   "execution_count": 54,
   "id": "8a2c3524",
   "metadata": {},
   "outputs": [
    {
     "data": {
      "image/png": "[encoded data removed]",
      "text/plain": [
       "<Figure size 576x360 with 1 Axes>"
      ]
     },
     "metadata": {
      "needs_background": "light"
     },
     "output_type": "display_data"
    }
   ],
   "source": [
    "plt.title('Тип этажа')\n",
    "clean_estate_data['type_floor'].hist(bins=3, figsize=(8,5));"
   ]
  },
  {
   "cell_type": "code",
   "execution_count": 55,
   "id": "b60198f5",
   "metadata": {},
   "outputs": [
    {
     "name": "stdout",
     "output_type": "stream",
     "text": [
      "Медиана: 9.0\n",
      "Среднее: 10.691719132563833\n"
     ]
    },
    {
     "data": {
      "image/png": "[encoded data removed]",
      "text/plain": [
       "<Figure size 576x360 with 1 Axes>"
      ]
     },
     "metadata": {
      "needs_background": "light"
     },
     "output_type": "display_data"
    }
   ],
   "source": [
    "create_hist(clean_estate_data['floors_total'], 'Всего этажей в доме')"
   ]
  },
  {
   "cell_type": "code",
   "execution_count": 56,
   "id": "ce024b36",
   "metadata": {},
   "outputs": [
    {
     "name": "stdout",
     "output_type": "stream",
     "text": [
      "Медиана: 13098.5\n",
      "Среднее: 14035.360440713535\n"
     ]
    },
    {
     "data": {
      "image/png": "[encoded data removed]",
      "text/plain": [
       "<Figure size 576x360 with 1 Axes>"
      ]
     },
     "metadata": {
      "needs_background": "light"
     },
     "output_type": "display_data"
    }
   ],
   "source": [
    "create_hist(clean_estate_data['city_centers_nearest'], 'Расстояние до центра города (м)')"
   ]
  },
  {
   "cell_type": "code",
   "execution_count": 57,
   "id": "83a19a08",
   "metadata": {},
   "outputs": [
    {
     "name": "stdout",
     "output_type": "stream",
     "text": [
      "Медиана: 26726.0\n",
      "Среднее: 28312.077999300454\n"
     ]
    },
    {
     "data": {
      "image/png": "[encoded data removed]",
      "text/plain": [
       "<Figure size 576x360 with 1 Axes>"
      ]
     },
     "metadata": {
      "needs_background": "light"
     },
     "output_type": "display_data"
    }
   ],
   "source": [
    "create_hist(clean_estate_data['airports_nearest'], 'Расстояние до ближайшего аэропорта в метрах (м)')"
   ]
  },
  {
   "cell_type": "code",
   "execution_count": 58,
   "id": "152b6818",
   "metadata": {},
   "outputs": [
    {
     "name": "stdout",
     "output_type": "stream",
     "text": [
      "Медиана: 455.0\n",
      "Среднее: 466.42125743266877\n"
     ]
    },
    {
     "data": {
      "image/png": "[encoded data removed]",
      "text/plain": [
       "<Figure size 576x360 with 1 Axes>"
      ]
     },
     "metadata": {
      "needs_background": "light"
     },
     "output_type": "display_data"
    }
   ],
   "source": [
    "create_hist(clean_estate_data['parks_nearest'], 'расстояние до ближайшего парка (м)')"
   ]
  },
  {
   "cell_type": "code",
   "execution_count": 59,
   "id": "e1293bda",
   "metadata": {},
   "outputs": [
    {
     "data": {
      "image/png": "[encoded data removed]",
      "text/plain": [
       "<Figure size 576x360 with 1 Axes>"
      ]
     },
     "metadata": {
      "needs_background": "light"
     },
     "output_type": "display_data"
    }
   ],
   "source": [
    "plt.title('День публикации объявления')\n",
    "clean_estate_data['weekday'].hist(bins=7, figsize=(8,5));"
   ]
  },
  {
   "cell_type": "code",
   "execution_count": 60,
   "id": "4bec40fb",
   "metadata": {},
   "outputs": [
    {
     "data": {
      "image/png": "[encoded data removed]",
      "text/plain": [
       "<Figure size 576x360 with 1 Axes>"
      ]
     },
     "metadata": {
      "needs_background": "light"
     },
     "output_type": "display_data"
    }
   ],
   "source": [
    "plt.title('месяц публикации объявления')\n",
    "clean_estate_data['month'].hist(bins=12, figsize=(8,5));"
   ]
  },
  {
   "cell_type": "markdown",
   "id": "db327ce9",
   "metadata": {},
   "source": [
    "**Промежуточные выводы:**\n",
    "1. Общая площадь - самые распространенные значения общей площади находятся в промежутке примерно от 30 кв.м до 100 кв.м.\n",
    "2. Жилая площадь - самые распространенные значения от 16 до 20 кв.м и от 25 д 50 кв.м, есть пик около 20 кв.м и пик 30 кв.м (медиана, мы заполнили пропуски медианным значением, поэтому получили такой пик).\n",
    "3. Площадь кухни - основная масса значений находится в промежутки от 5 до 20 кв.м. Также есть пик 9 кв.м., который получился за счет заполнения пропусков медианным значением.\n",
    "4. Цена объекта - столбец last_price по прежнему выдает неадекватные значения, не соответствующие реальным данным в столбце.\n",
    "5. Количество комнат - больше всего комнат в количестве 1, 2 и 3.\n",
    "6. Высота потолков - самые распространенные значения примерно от 2.5 до 3 м.\n",
    "7. Этаж квартиры - самые распространенные значения от 1 до 17 этажа.\n",
    "8. Тип этажа квартиры - самый распространненый тип \"другой\".\n",
    "9. Общее количество этажей в доме - больше всего 4, 5, 9, 10, 12, 16 и 25 этажей.\n",
    "10. Расстояние до центра города в метрах - самые распространенные значения от 3000 до 20000 м. Есть пик - заполненные пропуски.\n",
    "11. Расстояние до ближайшего аэропорта - самые распространенные значения от 10000 до 40000 м. Есть пик - заполненные пропуски.\n",
    "12. Расстояние до ближайшего парка - основная масса значений находится в диапазоне от 0 до 800 м. Есть пик (больше всего значений это пропуски) - медиана.\n",
    "13. День публикации объявления - с пн по пт выкладывают больше всего объявлений.\n",
    "14. Месяц публикации объявления - февраль, март, апрель, ноябрь - месяцы, в которые выкладывают больше всего объявлений."
   ]
  },
  {
   "cell_type": "markdown",
   "id": "42380066",
   "metadata": {},
   "source": [
    "### Изучим, как быстро продавались квартиры. Построим гистограмму. Посчитаем среднее и медиану."
   ]
  },
  {
   "cell_type": "code",
   "execution_count": 61,
   "id": "d25e1492",
   "metadata": {},
   "outputs": [
    {
     "data": {
      "image/png": "[encoded data removed]",
      "text/plain": [
       "<Figure size 576x360 with 1 Axes>"
      ]
     },
     "metadata": {
      "needs_background": "light"
     },
     "output_type": "display_data"
    }
   ],
   "source": [
    "# Построим гистограмму\n",
    "plt.title('Сколько дней было размещено объявление (от публикации до снятия)')\n",
    "clean_estate_data['days_exposition'].hist(bins=100, figsize=(8,5));"
   ]
  },
  {
   "cell_type": "code",
   "execution_count": 62,
   "id": "3204a504",
   "metadata": {},
   "outputs": [
    {
     "name": "stdout",
     "output_type": "stream",
     "text": [
      "count    22872.00000\n",
      "mean       168.42187\n",
      "std        205.29808\n",
      "min          1.00000\n",
      "25%         45.00000\n",
      "50%         95.00000\n",
      "75%        197.00000\n",
      "max       1580.00000\n",
      "Name: days_exposition, dtype: float64\n"
     ]
    },
    {
     "data": {
      "image/png": "[encoded data removed]",
      "text/plain": [
       "<Figure size 720x504 with 1 Axes>"
      ]
     },
     "metadata": {
      "needs_background": "light"
     },
     "output_type": "display_data"
    }
   ],
   "source": [
    "# Посчитаем среднее и медиану\n",
    "print(clean_estate_data['days_exposition'].describe())\n",
    "plt.figure(figsize=(10,7))\n",
    "plt.ylim(0, 500)\n",
    "plt.title('Диаграмма размаха количества дней, которое было размещено объявление (от публикации до снятия)')\n",
    "pd.DataFrame(data=clean_estate_data['days_exposition']).boxplot();"
   ]
  },
  {
   "cell_type": "markdown",
   "id": "fa6d13e1",
   "metadata": {},
   "source": [
    "В среднем продажи занимают 95 дней.\n",
    "\n",
    "Быстрыми можно считать продажи от 0 до 200 дней.\n",
    "\n",
    "Необычно долгими можно считать продажи превышающие 420 дней."
   ]
  },
  {
   "cell_type": "markdown",
   "id": "9716580a",
   "metadata": {},
   "source": [
    "### Определм факторы, которые больше всего влияют на общую (полную) стоимость объекта"
   ]
  },
  {
   "cell_type": "markdown",
   "id": "4abd11f8",
   "metadata": {},
   "source": [
    "Изучим, зависит ли цена от:\n",
    "- общей площади;\n",
    "- жилой площади;\n",
    "- площади кухни;\n",
    "- количества комнат;\n",
    "- даты размещения (день недели, месяц, год)."
   ]
  },
  {
   "cell_type": "code",
   "execution_count": 63,
   "id": "510aa800",
   "metadata": {},
   "outputs": [
    {
     "name": "stdout",
     "output_type": "stream",
     "text": [
      "0.6596410348047066\n"
     ]
    }
   ],
   "source": [
    "# Изучим зависимость стоимости объекта от общей площади, посчитаем корреляцию\n",
    "print(clean_estate_data['last_price'].corr(clean_estate_data['total_area']))"
   ]
  },
  {
   "cell_type": "code",
   "execution_count": 64,
   "id": "fa822488",
   "metadata": {},
   "outputs": [
    {
     "name": "stdout",
     "output_type": "stream",
     "text": [
      "0.5190230172726973\n"
     ]
    }
   ],
   "source": [
    "# Изучим зависимость стоимости объекта от жилой площади\n",
    "print(clean_estate_data['last_price'].corr(clean_estate_data['living_area']))"
   ]
  },
  {
   "cell_type": "code",
   "execution_count": 65,
   "id": "ef8d16ac",
   "metadata": {},
   "outputs": [
    {
     "name": "stdout",
     "output_type": "stream",
     "text": [
      "0.4771795575839346\n"
     ]
    }
   ],
   "source": [
    "# Изучим зависимость стоимости объекта от площади кухни\n",
    "print(clean_estate_data['last_price'].corr(clean_estate_data['kitchen_area']))"
   ]
  },
  {
   "cell_type": "code",
   "execution_count": 66,
   "id": "caa788b2",
   "metadata": {},
   "outputs": [
    {
     "name": "stdout",
     "output_type": "stream",
     "text": [
      "0.38146124439137985\n"
     ]
    }
   ],
   "source": [
    "# Изучим зависимость стоимости объекта от количества комнат\n",
    "print(clean_estate_data['last_price'].corr(clean_estate_data['rooms']))"
   ]
  },
  {
   "cell_type": "code",
   "execution_count": 67,
   "id": "3ad47a9b",
   "metadata": {},
   "outputs": [
    {
     "name": "stdout",
     "output_type": "stream",
     "text": [
      "-0.011020126217460053\n",
      "0.0048791598080377245\n",
      "-0.03489970531777741\n"
     ]
    }
   ],
   "source": [
    "# Изучим зависимость стоимости объекта от дат размещения (день недели, месяц, год)\n",
    "print(clean_estate_data['last_price'].corr(clean_estate_data['weekday']))\n",
    "print(clean_estate_data['last_price'].corr(clean_estate_data['month']))\n",
    "print(clean_estate_data['last_price'].corr(clean_estate_data['year']))"
   ]
  },
  {
   "cell_type": "markdown",
   "id": "1070a288",
   "metadata": {},
   "source": [
    "Если оценивать корреляцию, то есть прямая зависимость между стоимостью объекта и общей площадью - чем выше стоимость, тем выше общая площадь. То же самое для жилой площади и площади кухни, и количества комнат, но там зависимость не такая сильная.\n",
    "\n",
    "Корреляции между стоимостью объекта и датами размещения (день недели, месяц, год) нет."
   ]
  },
  {
   "cell_type": "markdown",
   "id": "06115cda",
   "metadata": {},
   "source": [
    "### Посчитаем среднюю цену одного квадратного метра в 10 населённых пунктах с наибольшим числом объявлений. Выделим населённые пункты с самой высокой и низкой стоимостью квадратного метра."
   ]
  },
  {
   "cell_type": "code",
   "execution_count": 68,
   "id": "a8665015",
   "metadata": {},
   "outputs": [
    {
     "data": {
      "text/html": [
       "<div>\n",
       "<style scoped>\n",
       "    .dataframe tbody tr th:only-of-type {\n",
       "        vertical-align: middle;\n",
       "    }\n",
       "\n",
       "    .dataframe tbody tr th {\n",
       "        vertical-align: top;\n",
       "    }\n",
       "\n",
       "    .dataframe thead th {\n",
       "        text-align: right;\n",
       "    }\n",
       "</style>\n",
       "<table border=\"1\" class=\"dataframe\">\n",
       "  <thead>\n",
       "    <tr style=\"text-align: right;\">\n",
       "      <th></th>\n",
       "      <th>count</th>\n",
       "      <th>mean_price_per_meter</th>\n",
       "    </tr>\n",
       "    <tr>\n",
       "      <th>locality_name</th>\n",
       "      <th></th>\n",
       "      <th></th>\n",
       "    </tr>\n",
       "  </thead>\n",
       "  <tbody>\n",
       "    <tr>\n",
       "      <th>Выборг</th>\n",
       "      <td>231</td>\n",
       "      <td>58097.213552</td>\n",
       "    </tr>\n",
       "    <tr>\n",
       "      <th>Всеволожск</th>\n",
       "      <td>390</td>\n",
       "      <td>68513.921574</td>\n",
       "    </tr>\n",
       "    <tr>\n",
       "      <th>Гатчина</th>\n",
       "      <td>305</td>\n",
       "      <td>68811.372828</td>\n",
       "    </tr>\n",
       "    <tr>\n",
       "      <th>Колпино</th>\n",
       "      <td>337</td>\n",
       "      <td>75333.295801</td>\n",
       "    </tr>\n",
       "    <tr>\n",
       "      <th>поселок Шушары</th>\n",
       "      <td>434</td>\n",
       "      <td>78408.166495</td>\n",
       "    </tr>\n",
       "    <tr>\n",
       "      <th>поселок Мурино</th>\n",
       "      <td>525</td>\n",
       "      <td>84903.706998</td>\n",
       "    </tr>\n",
       "    <tr>\n",
       "      <th>поселок Парголово</th>\n",
       "      <td>322</td>\n",
       "      <td>90448.423806</td>\n",
       "    </tr>\n",
       "    <tr>\n",
       "      <th>поселок Кудрово</th>\n",
       "      <td>282</td>\n",
       "      <td>92286.397505</td>\n",
       "    </tr>\n",
       "    <tr>\n",
       "      <th>Пушкин</th>\n",
       "      <td>356</td>\n",
       "      <td>102672.275384</td>\n",
       "    </tr>\n",
       "    <tr>\n",
       "      <th>Санкт-Петербург</th>\n",
       "      <td>15079</td>\n",
       "      <td>112729.108296</td>\n",
       "    </tr>\n",
       "  </tbody>\n",
       "</table>\n",
       "</div>"
      ],
      "text/plain": [
       "                   count  mean_price_per_meter\n",
       "locality_name                                 \n",
       "Выборг               231          58097.213552\n",
       "Всеволожск           390          68513.921574\n",
       "Гатчина              305          68811.372828\n",
       "Колпино              337          75333.295801\n",
       "поселок Шушары       434          78408.166495\n",
       "поселок Мурино       525          84903.706998\n",
       "поселок Парголово    322          90448.423806\n",
       "поселок Кудрово      282          92286.397505\n",
       "Пушкин               356         102672.275384\n",
       "Санкт-Петербург    15079         112729.108296"
      ]
     },
     "execution_count": 68,
     "metadata": {},
     "output_type": "execute_result"
    }
   ],
   "source": [
    "rating_settlements1 = clean_estate_data.pivot_table(index='locality_name', values='price_per_meter', aggfunc='count').sort_values('price_per_meter',ascending=False).head(10)\n",
    "rating_settlements2 = clean_estate_data.pivot_table(index='locality_name', values='price_per_meter', aggfunc='mean')\n",
    "rating_settlements = rating_settlements1.merge(rating_settlements2, on='locality_name', how='left')\n",
    "rating_settlements.columns = ['count', 'mean_price_per_meter']\n",
    "rating_settlements.sort_values('mean_price_per_meter')"
   ]
  },
  {
   "cell_type": "markdown",
   "id": "bf7918ee",
   "metadata": {},
   "source": [
    "Самая высокая стоимость за кв.м в Санкт-Петербурге.\n",
    "\n",
    "Самая низкая стоимость за кв.м в Выборге."
   ]
  },
  {
   "cell_type": "markdown",
   "id": "a80f762c",
   "metadata": {},
   "source": [
    "### Выделим квартиры в Санкт-Петербурге с помощью столбца locality_name и вычислим среднюю цену каждого километра. Опишем, как стоимость объектов зависит от расстояния до центра города."
   ]
  },
  {
   "cell_type": "code",
   "execution_count": 69,
   "id": "50b90746",
   "metadata": {},
   "outputs": [
    {
     "data": {
      "image/png": "[encoded data removed]",
      "text/plain": [
       "<Figure size 576x360 with 1 Axes>"
      ]
     },
     "metadata": {
      "needs_background": "light"
     },
     "output_type": "display_data"
    }
   ],
   "source": [
    "spb_price_km = clean_estate_data.query('locality_name == \"Санкт-Петербург\"')\n",
    "spb_price_km = spb_price_km.pivot_table(index='city_centers_nearest_km', values='price_per_meter', aggfunc='mean')\n",
    "spb_price_km.plot(style='o-', figsize=(8,5), grid=True, title='Зависимость стоимости объекта от расстояния до центра города');"
   ]
  },
  {
   "cell_type": "markdown",
   "id": "2c2aac12",
   "metadata": {},
   "source": [
    "По графику видно, что чем ближе к центру, тем доороже стоимость помещения. хотя есть некоторые выбивающиеся значения (пики на графике), но возможно они связаны с другими факторами."
   ]
  },
  {
   "cell_type": "markdown",
   "id": "4cbcc682",
   "metadata": {},
   "source": [
    "## Выводы"
   ]
  },
  {
   "cell_type": "markdown",
   "id": "71b10862",
   "metadata": {},
   "source": [
    "Мы получили данные о недвижимости. В них было очень много пропусков, которые мы заполняли медианным значением, что в значительной степени могло повлиять на анализ данных.\n",
    "\n",
    "Мы выяснили что в среднем продажи занимают 95 дней. Быстрыми можно считать продажи от 0 до 200 дней. Необычно долгими можно считать продажи превышающие 420 дней.\n",
    "\n",
    "Также было выяснено, что больше всего на цену жилья влияет его общая площадь.\n",
    "\n",
    "Из городов с наибольшим числом объявлений самая высокая стоимость за кв.м в Санкт-Петербурге, самая низкая стоимость за кв.м в Выборге.\n",
    "\n",
    "Чем ближе помещение расположено к центру города, тем оно дороже."
   ]
  }
 ],
 "metadata": {
  "ExecuteTimeLog": [
   {
    "duration": 374,
    "start_time": "2024-04-27T09:13:34.177Z"
   },
   {
    "duration": 271,
    "start_time": "2024-04-27T09:13:45.824Z"
   },
   {
    "duration": 15,
    "start_time": "2024-04-27T09:14:03.856Z"
   },
   {
    "duration": 2547,
    "start_time": "2024-04-27T09:14:25.857Z"
   },
   {
    "duration": 2182,
    "start_time": "2024-04-27T09:14:40.641Z"
   },
   {
    "duration": 12,
    "start_time": "2024-04-27T09:15:30.082Z"
   },
   {
    "duration": 12,
    "start_time": "2024-04-27T09:16:07.394Z"
   },
   {
    "duration": 10,
    "start_time": "2024-04-27T09:18:00.048Z"
   },
   {
    "duration": 7,
    "start_time": "2024-04-27T09:18:28.372Z"
   },
   {
    "duration": 8,
    "start_time": "2024-04-27T09:18:41.933Z"
   },
   {
    "duration": 13,
    "start_time": "2024-04-27T09:19:12.893Z"
   },
   {
    "duration": 9,
    "start_time": "2024-04-27T09:19:24.901Z"
   },
   {
    "duration": 7,
    "start_time": "2024-04-27T09:19:40.151Z"
   },
   {
    "duration": 8,
    "start_time": "2024-04-27T09:19:53.390Z"
   },
   {
    "duration": 8,
    "start_time": "2024-04-27T09:20:05.606Z"
   },
   {
    "duration": 8,
    "start_time": "2024-04-27T09:20:23.150Z"
   },
   {
    "duration": 7,
    "start_time": "2024-04-27T09:20:34.864Z"
   },
   {
    "duration": 8,
    "start_time": "2024-04-27T09:20:47.334Z"
   },
   {
    "duration": 7,
    "start_time": "2024-04-27T09:20:59.046Z"
   },
   {
    "duration": 8,
    "start_time": "2024-04-27T09:21:09.071Z"
   },
   {
    "duration": 8,
    "start_time": "2024-04-27T09:21:21.871Z"
   },
   {
    "duration": 10,
    "start_time": "2024-04-27T09:21:29.679Z"
   },
   {
    "duration": 25,
    "start_time": "2024-04-27T10:03:45.203Z"
   },
   {
    "duration": 12,
    "start_time": "2024-04-27T10:04:25.421Z"
   },
   {
    "duration": 5,
    "start_time": "2024-04-27T10:06:28.260Z"
   },
   {
    "duration": 386,
    "start_time": "2024-04-27T10:07:31.276Z"
   },
   {
    "duration": 138,
    "start_time": "2024-04-27T10:07:31.664Z"
   },
   {
    "duration": 35,
    "start_time": "2024-04-27T10:07:31.804Z"
   },
   {
    "duration": 2407,
    "start_time": "2024-04-27T10:07:31.841Z"
   },
   {
    "duration": 9,
    "start_time": "2024-04-27T10:07:34.251Z"
   },
   {
    "duration": 23,
    "start_time": "2024-04-27T10:07:34.261Z"
   },
   {
    "duration": 13,
    "start_time": "2024-04-27T10:07:34.285Z"
   },
   {
    "duration": 5,
    "start_time": "2024-04-27T10:07:34.299Z"
   },
   {
    "duration": 9,
    "start_time": "2024-04-27T10:07:34.305Z"
   },
   {
    "duration": 10,
    "start_time": "2024-04-27T10:07:34.315Z"
   },
   {
    "duration": 9,
    "start_time": "2024-04-27T10:07:34.334Z"
   },
   {
    "duration": 374,
    "start_time": "2024-04-27T10:08:12.968Z"
   },
   {
    "duration": 134,
    "start_time": "2024-04-27T10:08:13.343Z"
   },
   {
    "duration": 17,
    "start_time": "2024-04-27T10:08:13.478Z"
   },
   {
    "duration": 2280,
    "start_time": "2024-04-27T10:08:13.496Z"
   },
   {
    "duration": 10,
    "start_time": "2024-04-27T10:08:15.779Z"
   },
   {
    "duration": 17,
    "start_time": "2024-04-27T10:08:15.790Z"
   },
   {
    "duration": 23,
    "start_time": "2024-04-27T10:08:15.809Z"
   },
   {
    "duration": 4,
    "start_time": "2024-04-27T10:08:15.834Z"
   },
   {
    "duration": 19,
    "start_time": "2024-04-27T10:08:15.839Z"
   },
   {
    "duration": 9,
    "start_time": "2024-04-27T10:08:15.859Z"
   },
   {
    "duration": 9,
    "start_time": "2024-04-27T10:08:15.870Z"
   },
   {
    "duration": 9,
    "start_time": "2024-04-27T10:08:19.032Z"
   },
   {
    "duration": 15,
    "start_time": "2024-04-27T10:09:32.791Z"
   },
   {
    "duration": 13,
    "start_time": "2024-04-27T10:16:10.966Z"
   },
   {
    "duration": 8,
    "start_time": "2024-04-27T10:16:21.567Z"
   },
   {
    "duration": 23,
    "start_time": "2024-04-27T10:16:28.605Z"
   },
   {
    "duration": 20,
    "start_time": "2024-04-27T10:18:24.727Z"
   },
   {
    "duration": 20,
    "start_time": "2024-04-27T10:19:24.256Z"
   },
   {
    "duration": 157,
    "start_time": "2024-04-27T10:20:43.682Z"
   },
   {
    "duration": 7,
    "start_time": "2024-04-27T10:20:51.722Z"
   },
   {
    "duration": 140,
    "start_time": "2024-04-27T10:50:33.808Z"
   },
   {
    "duration": 273,
    "start_time": "2024-04-27T10:51:11.616Z"
   },
   {
    "duration": 301,
    "start_time": "2024-04-27T10:51:39.425Z"
   },
   {
    "duration": 385,
    "start_time": "2024-04-27T10:51:49.898Z"
   },
   {
    "duration": 271,
    "start_time": "2024-04-27T10:56:14.574Z"
   },
   {
    "duration": 244,
    "start_time": "2024-04-27T10:56:32.302Z"
   },
   {
    "duration": 259,
    "start_time": "2024-04-27T10:56:41.742Z"
   },
   {
    "duration": 5,
    "start_time": "2024-04-27T10:58:56.402Z"
   },
   {
    "duration": 276,
    "start_time": "2024-04-27T10:59:02.106Z"
   },
   {
    "duration": 343,
    "start_time": "2024-04-27T10:59:39.142Z"
   },
   {
    "duration": 268,
    "start_time": "2024-04-27T10:59:56.657Z"
   },
   {
    "duration": 377,
    "start_time": "2024-04-27T11:00:09.761Z"
   },
   {
    "duration": 261,
    "start_time": "2024-04-27T11:00:15.745Z"
   },
   {
    "duration": 3,
    "start_time": "2024-04-27T11:00:42.018Z"
   },
   {
    "duration": 140,
    "start_time": "2024-04-27T11:01:23.435Z"
   },
   {
    "duration": 139,
    "start_time": "2024-04-27T11:01:45.102Z"
   },
   {
    "duration": 122,
    "start_time": "2024-04-27T11:02:12.467Z"
   },
   {
    "duration": 232,
    "start_time": "2024-04-27T11:02:17.060Z"
   },
   {
    "duration": 145,
    "start_time": "2024-04-27T11:02:26.923Z"
   },
   {
    "duration": 118,
    "start_time": "2024-04-27T11:03:02.503Z"
   },
   {
    "duration": 113,
    "start_time": "2024-04-27T11:03:08.252Z"
   },
   {
    "duration": 12,
    "start_time": "2024-04-27T11:05:49.599Z"
   },
   {
    "duration": 5,
    "start_time": "2024-04-27T11:06:03.256Z"
   },
   {
    "duration": 74,
    "start_time": "2024-04-27T11:06:17.960Z"
   },
   {
    "duration": 5,
    "start_time": "2024-04-27T11:06:21.112Z"
   },
   {
    "duration": 6,
    "start_time": "2024-04-27T11:06:32.440Z"
   },
   {
    "duration": 6,
    "start_time": "2024-04-27T11:06:36.480Z"
   },
   {
    "duration": 6,
    "start_time": "2024-04-27T11:06:39.032Z"
   },
   {
    "duration": 5,
    "start_time": "2024-04-27T11:06:41.496Z"
   },
   {
    "duration": 6,
    "start_time": "2024-04-27T11:06:44.080Z"
   },
   {
    "duration": 5,
    "start_time": "2024-04-27T11:06:47.312Z"
   },
   {
    "duration": 5,
    "start_time": "2024-04-27T11:07:20.057Z"
   },
   {
    "duration": 73,
    "start_time": "2024-04-27T11:14:12.081Z"
   },
   {
    "duration": 265,
    "start_time": "2024-04-27T11:14:22.792Z"
   },
   {
    "duration": 285,
    "start_time": "2024-04-27T11:15:20.857Z"
   },
   {
    "duration": 288,
    "start_time": "2024-04-27T11:15:38.249Z"
   },
   {
    "duration": 353,
    "start_time": "2024-04-27T11:16:35.378Z"
   },
   {
    "duration": 261,
    "start_time": "2024-04-27T11:17:04.908Z"
   },
   {
    "duration": 245,
    "start_time": "2024-04-27T11:17:58.835Z"
   },
   {
    "duration": 712,
    "start_time": "2024-04-29T07:22:55.891Z"
   },
   {
    "duration": 246,
    "start_time": "2024-04-29T07:22:56.605Z"
   },
   {
    "duration": 13,
    "start_time": "2024-04-29T07:22:56.853Z"
   },
   {
    "duration": 1749,
    "start_time": "2024-04-29T07:22:56.867Z"
   },
   {
    "duration": 9,
    "start_time": "2024-04-29T07:22:58.618Z"
   },
   {
    "duration": 9,
    "start_time": "2024-04-29T07:22:58.629Z"
   },
   {
    "duration": 12,
    "start_time": "2024-04-29T07:22:58.639Z"
   },
   {
    "duration": 4,
    "start_time": "2024-04-29T07:22:58.652Z"
   },
   {
    "duration": 4,
    "start_time": "2024-04-29T07:22:58.657Z"
   },
   {
    "duration": 7,
    "start_time": "2024-04-29T07:22:58.663Z"
   },
   {
    "duration": 11,
    "start_time": "2024-04-29T07:22:58.671Z"
   },
   {
    "duration": 15,
    "start_time": "2024-04-29T07:22:58.683Z"
   },
   {
    "duration": 12,
    "start_time": "2024-04-29T07:22:58.700Z"
   },
   {
    "duration": 16,
    "start_time": "2024-04-29T07:22:58.715Z"
   },
   {
    "duration": 33,
    "start_time": "2024-04-29T07:22:58.732Z"
   },
   {
    "duration": 17,
    "start_time": "2024-04-29T07:22:58.767Z"
   },
   {
    "duration": 152,
    "start_time": "2024-04-29T07:22:58.785Z"
   },
   {
    "duration": 8,
    "start_time": "2024-04-29T07:22:58.938Z"
   },
   {
    "duration": 248,
    "start_time": "2024-04-29T07:22:58.948Z"
   },
   {
    "duration": 5,
    "start_time": "2024-04-29T07:22:59.198Z"
   },
   {
    "duration": 224,
    "start_time": "2024-04-29T07:22:59.434Z"
   },
   {
    "duration": 213,
    "start_time": "2024-04-29T07:24:16.401Z"
   },
   {
    "duration": 334,
    "start_time": "2024-04-29T07:24:21.369Z"
   },
   {
    "duration": 5,
    "start_time": "2024-04-29T07:25:02.674Z"
   },
   {
    "duration": 6,
    "start_time": "2024-04-29T07:25:07.369Z"
   },
   {
    "duration": 228,
    "start_time": "2024-04-29T07:25:26.786Z"
   },
   {
    "duration": 169,
    "start_time": "2024-04-29T07:25:50.874Z"
   },
   {
    "duration": 193,
    "start_time": "2024-04-29T07:26:25.683Z"
   },
   {
    "duration": 175,
    "start_time": "2024-04-29T07:26:58.199Z"
   },
   {
    "duration": 317,
    "start_time": "2024-04-29T07:27:39.012Z"
   },
   {
    "duration": 190,
    "start_time": "2024-04-29T07:28:21.232Z"
   },
   {
    "duration": 217,
    "start_time": "2024-04-29T07:28:47.512Z"
   },
   {
    "duration": 178,
    "start_time": "2024-04-29T07:29:41.272Z"
   },
   {
    "duration": 230,
    "start_time": "2024-04-29T07:30:09.119Z"
   },
   {
    "duration": 171,
    "start_time": "2024-04-29T07:30:50.552Z"
   },
   {
    "duration": 207,
    "start_time": "2024-04-29T07:31:20.032Z"
   },
   {
    "duration": 169,
    "start_time": "2024-04-29T07:31:43.576Z"
   },
   {
    "duration": 295,
    "start_time": "2024-04-29T07:32:01.673Z"
   },
   {
    "duration": 48,
    "start_time": "2024-04-29T07:32:15.745Z"
   },
   {
    "duration": 183,
    "start_time": "2024-04-29T07:32:37.682Z"
   },
   {
    "duration": 238,
    "start_time": "2024-04-29T07:33:05.354Z"
   },
   {
    "duration": 185,
    "start_time": "2024-04-29T07:33:38.387Z"
   },
   {
    "duration": 13,
    "start_time": "2024-04-29T07:34:45.204Z"
   },
   {
    "duration": 23,
    "start_time": "2024-04-29T07:48:22.447Z"
   },
   {
    "duration": 8,
    "start_time": "2024-04-29T07:48:44.289Z"
   },
   {
    "duration": 7,
    "start_time": "2024-04-29T07:48:54.642Z"
   },
   {
    "duration": 7,
    "start_time": "2024-04-29T07:49:05.380Z"
   },
   {
    "duration": 303,
    "start_time": "2024-04-29T07:49:21.235Z"
   },
   {
    "duration": 23,
    "start_time": "2024-04-29T07:49:38.508Z"
   },
   {
    "duration": 3,
    "start_time": "2024-04-29T07:55:08.392Z"
   },
   {
    "duration": 243,
    "start_time": "2024-04-29T07:55:09.664Z"
   },
   {
    "duration": 3,
    "start_time": "2024-04-29T07:56:31.830Z"
   },
   {
    "duration": 298,
    "start_time": "2024-04-29T07:56:34.313Z"
   },
   {
    "duration": 232,
    "start_time": "2024-04-29T07:57:37.762Z"
   },
   {
    "duration": 226,
    "start_time": "2024-04-29T08:11:57.948Z"
   },
   {
    "duration": 228,
    "start_time": "2024-04-29T08:12:30.842Z"
   },
   {
    "duration": 210,
    "start_time": "2024-04-29T08:12:45.510Z"
   },
   {
    "duration": 296,
    "start_time": "2024-04-29T08:13:01.777Z"
   },
   {
    "duration": 219,
    "start_time": "2024-04-29T08:13:33.355Z"
   },
   {
    "duration": 217,
    "start_time": "2024-04-29T08:13:58.443Z"
   },
   {
    "duration": 223,
    "start_time": "2024-04-29T08:14:26.580Z"
   },
   {
    "duration": 72,
    "start_time": "2024-04-29T08:14:49.028Z"
   },
   {
    "duration": 109,
    "start_time": "2024-04-29T08:15:19.476Z"
   },
   {
    "duration": 203,
    "start_time": "2024-04-29T08:15:51.413Z"
   },
   {
    "duration": 296,
    "start_time": "2024-04-29T08:16:44.773Z"
   },
   {
    "duration": 224,
    "start_time": "2024-04-29T08:17:17.030Z"
   },
   {
    "duration": 241,
    "start_time": "2024-04-29T08:18:08.072Z"
   },
   {
    "duration": 119,
    "start_time": "2024-04-29T08:18:13.104Z"
   },
   {
    "duration": 118,
    "start_time": "2024-04-29T08:18:47.536Z"
   },
   {
    "duration": 254,
    "start_time": "2024-04-29T08:21:39.707Z"
   },
   {
    "duration": 116,
    "start_time": "2024-04-29T08:21:54.763Z"
   },
   {
    "duration": 110,
    "start_time": "2024-04-29T08:22:10.108Z"
   },
   {
    "duration": 197,
    "start_time": "2024-04-29T08:22:19.179Z"
   },
   {
    "duration": 213,
    "start_time": "2024-04-29T08:22:45.540Z"
   },
   {
    "duration": 113,
    "start_time": "2024-04-29T08:23:06.301Z"
   },
   {
    "duration": 156,
    "start_time": "2024-04-29T08:23:15.725Z"
   },
   {
    "duration": 55,
    "start_time": "2024-04-29T08:27:37.946Z"
   },
   {
    "duration": 218,
    "start_time": "2024-04-29T08:27:42.081Z"
   },
   {
    "duration": 11,
    "start_time": "2024-04-29T08:28:28.802Z"
   },
   {
    "duration": 10,
    "start_time": "2024-04-29T08:28:41.299Z"
   },
   {
    "duration": 212,
    "start_time": "2024-04-29T08:28:48.106Z"
   },
   {
    "duration": 3,
    "start_time": "2024-04-29T08:29:29.547Z"
   },
   {
    "duration": 6,
    "start_time": "2024-04-29T08:29:35.699Z"
   },
   {
    "duration": 570,
    "start_time": "2024-04-29T08:30:56.483Z"
   },
   {
    "duration": 122,
    "start_time": "2024-04-29T08:30:57.055Z"
   },
   {
    "duration": 15,
    "start_time": "2024-04-29T08:30:57.179Z"
   },
   {
    "duration": 1773,
    "start_time": "2024-04-29T08:30:57.195Z"
   },
   {
    "duration": 11,
    "start_time": "2024-04-29T08:30:58.971Z"
   },
   {
    "duration": 16,
    "start_time": "2024-04-29T08:30:58.983Z"
   },
   {
    "duration": 10,
    "start_time": "2024-04-29T08:30:59.000Z"
   },
   {
    "duration": 4,
    "start_time": "2024-04-29T08:30:59.011Z"
   },
   {
    "duration": 19,
    "start_time": "2024-04-29T08:30:59.016Z"
   },
   {
    "duration": 8,
    "start_time": "2024-04-29T08:30:59.036Z"
   },
   {
    "duration": 4,
    "start_time": "2024-04-29T08:30:59.045Z"
   },
   {
    "duration": 14,
    "start_time": "2024-04-29T08:30:59.051Z"
   },
   {
    "duration": 11,
    "start_time": "2024-04-29T08:30:59.067Z"
   },
   {
    "duration": 15,
    "start_time": "2024-04-29T08:30:59.080Z"
   },
   {
    "duration": 16,
    "start_time": "2024-04-29T08:30:59.096Z"
   },
   {
    "duration": 16,
    "start_time": "2024-04-29T08:30:59.113Z"
   },
   {
    "duration": 142,
    "start_time": "2024-04-29T08:30:59.130Z"
   },
   {
    "duration": 6,
    "start_time": "2024-04-29T08:30:59.273Z"
   },
   {
    "duration": 252,
    "start_time": "2024-04-29T08:30:59.280Z"
   },
   {
    "duration": 5,
    "start_time": "2024-04-29T08:30:59.533Z"
   },
   {
    "duration": 240,
    "start_time": "2024-04-29T08:30:59.539Z"
   },
   {
    "duration": 235,
    "start_time": "2024-04-29T08:30:59.781Z"
   },
   {
    "duration": 4,
    "start_time": "2024-04-29T08:31:00.018Z"
   },
   {
    "duration": 358,
    "start_time": "2024-04-29T08:31:00.024Z"
   },
   {
    "duration": 177,
    "start_time": "2024-04-29T08:31:00.383Z"
   },
   {
    "duration": 184,
    "start_time": "2024-04-29T08:31:00.564Z"
   },
   {
    "duration": 232,
    "start_time": "2024-04-29T08:31:00.749Z"
   },
   {
    "duration": 185,
    "start_time": "2024-04-29T08:31:00.982Z"
   },
   {
    "duration": 242,
    "start_time": "2024-04-29T08:31:01.169Z"
   },
   {
    "duration": 260,
    "start_time": "2024-04-29T08:31:01.413Z"
   },
   {
    "duration": 241,
    "start_time": "2024-04-29T08:31:01.674Z"
   },
   {
    "duration": 186,
    "start_time": "2024-04-29T08:31:01.916Z"
   },
   {
    "duration": 223,
    "start_time": "2024-04-29T08:31:02.103Z"
   },
   {
    "duration": 186,
    "start_time": "2024-04-29T08:31:02.327Z"
   },
   {
    "duration": 245,
    "start_time": "2024-04-29T08:31:02.514Z"
   },
   {
    "duration": 205,
    "start_time": "2024-04-29T08:31:02.760Z"
   },
   {
    "duration": 321,
    "start_time": "2024-04-29T08:31:02.966Z"
   },
   {
    "duration": 185,
    "start_time": "2024-04-29T08:31:03.289Z"
   },
   {
    "duration": 13,
    "start_time": "2024-04-29T08:31:03.476Z"
   },
   {
    "duration": 22,
    "start_time": "2024-04-29T08:31:03.491Z"
   },
   {
    "duration": 6,
    "start_time": "2024-04-29T08:31:03.517Z"
   },
   {
    "duration": 6,
    "start_time": "2024-04-29T08:31:03.525Z"
   },
   {
    "duration": 37,
    "start_time": "2024-04-29T08:31:03.532Z"
   },
   {
    "duration": 309,
    "start_time": "2024-04-29T08:31:03.571Z"
   },
   {
    "duration": 21,
    "start_time": "2024-04-29T08:31:03.882Z"
   },
   {
    "duration": 3,
    "start_time": "2024-04-29T08:31:03.905Z"
   },
   {
    "duration": 243,
    "start_time": "2024-04-29T08:31:03.909Z"
   },
   {
    "duration": 237,
    "start_time": "2024-04-29T08:31:04.154Z"
   },
   {
    "duration": 234,
    "start_time": "2024-04-29T08:31:04.393Z"
   },
   {
    "duration": 308,
    "start_time": "2024-04-29T08:31:04.629Z"
   },
   {
    "duration": 229,
    "start_time": "2024-04-29T08:31:04.938Z"
   },
   {
    "duration": 223,
    "start_time": "2024-04-29T08:31:05.168Z"
   },
   {
    "duration": 226,
    "start_time": "2024-04-29T08:31:05.393Z"
   },
   {
    "duration": 118,
    "start_time": "2024-04-29T08:31:05.620Z"
   },
   {
    "duration": 250,
    "start_time": "2024-04-29T08:31:05.740Z"
   },
   {
    "duration": 287,
    "start_time": "2024-04-29T08:31:05.991Z"
   },
   {
    "duration": 228,
    "start_time": "2024-04-29T08:31:06.279Z"
   },
   {
    "duration": 225,
    "start_time": "2024-04-29T08:31:06.508Z"
   },
   {
    "duration": 133,
    "start_time": "2024-04-29T08:31:06.734Z"
   },
   {
    "duration": 129,
    "start_time": "2024-04-29T08:31:06.869Z"
   },
   {
    "duration": 238,
    "start_time": "2024-04-29T08:31:06.999Z"
   },
   {
    "duration": 144,
    "start_time": "2024-04-29T08:31:07.239Z"
   },
   {
    "duration": 4,
    "start_time": "2024-04-29T08:31:10.718Z"
   },
   {
    "duration": 7,
    "start_time": "2024-04-29T08:32:04.709Z"
   },
   {
    "duration": 288,
    "start_time": "2024-04-29T08:32:14.791Z"
   },
   {
    "duration": 213,
    "start_time": "2024-04-29T08:33:03.590Z"
   },
   {
    "duration": 621,
    "start_time": "2024-04-29T08:33:35.288Z"
   },
   {
    "duration": 119,
    "start_time": "2024-04-29T08:33:35.911Z"
   },
   {
    "duration": 14,
    "start_time": "2024-04-29T08:33:36.031Z"
   },
   {
    "duration": 1730,
    "start_time": "2024-04-29T08:33:36.046Z"
   },
   {
    "duration": 9,
    "start_time": "2024-04-29T08:33:37.778Z"
   },
   {
    "duration": 9,
    "start_time": "2024-04-29T08:33:37.788Z"
   },
   {
    "duration": 13,
    "start_time": "2024-04-29T08:33:37.799Z"
   },
   {
    "duration": 4,
    "start_time": "2024-04-29T08:33:37.813Z"
   },
   {
    "duration": 4,
    "start_time": "2024-04-29T08:33:37.818Z"
   },
   {
    "duration": 8,
    "start_time": "2024-04-29T08:33:37.823Z"
   },
   {
    "duration": 10,
    "start_time": "2024-04-29T08:33:37.832Z"
   },
   {
    "duration": 22,
    "start_time": "2024-04-29T08:33:37.843Z"
   },
   {
    "duration": 12,
    "start_time": "2024-04-29T08:33:37.867Z"
   },
   {
    "duration": 22,
    "start_time": "2024-04-29T08:33:37.881Z"
   },
   {
    "duration": 20,
    "start_time": "2024-04-29T08:33:37.904Z"
   },
   {
    "duration": 17,
    "start_time": "2024-04-29T08:33:37.925Z"
   },
   {
    "duration": 136,
    "start_time": "2024-04-29T08:33:37.943Z"
   },
   {
    "duration": 6,
    "start_time": "2024-04-29T08:33:38.081Z"
   },
   {
    "duration": 254,
    "start_time": "2024-04-29T08:33:38.088Z"
   },
   {
    "duration": 4,
    "start_time": "2024-04-29T08:33:38.344Z"
   },
   {
    "duration": 239,
    "start_time": "2024-04-29T08:33:38.350Z"
   },
   {
    "duration": 226,
    "start_time": "2024-04-29T08:33:38.590Z"
   },
   {
    "duration": 4,
    "start_time": "2024-04-29T08:33:38.818Z"
   },
   {
    "duration": 349,
    "start_time": "2024-04-29T08:33:38.824Z"
   },
   {
    "duration": 179,
    "start_time": "2024-04-29T08:33:39.175Z"
   },
   {
    "duration": 194,
    "start_time": "2024-04-29T08:33:39.356Z"
   },
   {
    "duration": 249,
    "start_time": "2024-04-29T08:33:39.552Z"
   },
   {
    "duration": 179,
    "start_time": "2024-04-29T08:33:39.803Z"
   },
   {
    "duration": 233,
    "start_time": "2024-04-29T08:33:39.984Z"
   },
   {
    "duration": 253,
    "start_time": "2024-04-29T08:33:40.219Z"
   },
   {
    "duration": 230,
    "start_time": "2024-04-29T08:33:40.474Z"
   },
   {
    "duration": 178,
    "start_time": "2024-04-29T08:33:40.705Z"
   },
   {
    "duration": 212,
    "start_time": "2024-04-29T08:33:40.884Z"
   },
   {
    "duration": 171,
    "start_time": "2024-04-29T08:33:41.098Z"
   },
   {
    "duration": 236,
    "start_time": "2024-04-29T08:33:41.271Z"
   },
   {
    "duration": 188,
    "start_time": "2024-04-29T08:33:41.508Z"
   },
   {
    "duration": 343,
    "start_time": "2024-04-29T08:33:41.698Z"
   },
   {
    "duration": 176,
    "start_time": "2024-04-29T08:33:42.042Z"
   },
   {
    "duration": 12,
    "start_time": "2024-04-29T08:33:42.219Z"
   },
   {
    "duration": 34,
    "start_time": "2024-04-29T08:33:42.233Z"
   },
   {
    "duration": 7,
    "start_time": "2024-04-29T08:33:42.272Z"
   },
   {
    "duration": 17,
    "start_time": "2024-04-29T08:33:42.280Z"
   },
   {
    "duration": 8,
    "start_time": "2024-04-29T08:33:42.298Z"
   },
   {
    "duration": 307,
    "start_time": "2024-04-29T08:33:42.307Z"
   },
   {
    "duration": 20,
    "start_time": "2024-04-29T08:33:42.616Z"
   },
   {
    "duration": 6,
    "start_time": "2024-04-29T08:33:42.638Z"
   },
   {
    "duration": 247,
    "start_time": "2024-04-29T08:33:42.646Z"
   },
   {
    "duration": 225,
    "start_time": "2024-04-29T08:33:42.895Z"
   },
   {
    "duration": 225,
    "start_time": "2024-04-29T08:33:43.122Z"
   },
   {
    "duration": 288,
    "start_time": "2024-04-29T08:33:43.349Z"
   },
   {
    "duration": 234,
    "start_time": "2024-04-29T08:33:43.639Z"
   },
   {
    "duration": 259,
    "start_time": "2024-04-29T08:33:43.875Z"
   },
   {
    "duration": 224,
    "start_time": "2024-04-29T08:33:44.136Z"
   },
   {
    "duration": 116,
    "start_time": "2024-04-29T08:33:44.365Z"
   },
   {
    "duration": 225,
    "start_time": "2024-04-29T08:33:44.483Z"
   },
   {
    "duration": 293,
    "start_time": "2024-04-29T08:33:44.710Z"
   },
   {
    "duration": 219,
    "start_time": "2024-04-29T08:33:45.004Z"
   },
   {
    "duration": 232,
    "start_time": "2024-04-29T08:33:45.225Z"
   },
   {
    "duration": 132,
    "start_time": "2024-04-29T08:33:45.458Z"
   },
   {
    "duration": 125,
    "start_time": "2024-04-29T08:33:45.591Z"
   },
   {
    "duration": 251,
    "start_time": "2024-04-29T08:33:45.717Z"
   },
   {
    "duration": 134,
    "start_time": "2024-04-29T08:33:45.969Z"
   },
   {
    "duration": 4,
    "start_time": "2024-04-29T08:33:46.105Z"
   },
   {
    "duration": 19,
    "start_time": "2024-04-29T08:33:46.111Z"
   },
   {
    "duration": 864,
    "start_time": "2024-04-29T12:13:24.369Z"
   },
   {
    "duration": 315,
    "start_time": "2024-04-29T12:13:25.235Z"
   },
   {
    "duration": 17,
    "start_time": "2024-04-29T12:13:25.551Z"
   },
   {
    "duration": 2032,
    "start_time": "2024-04-29T12:13:25.570Z"
   },
   {
    "duration": 10,
    "start_time": "2024-04-29T12:13:27.604Z"
   },
   {
    "duration": 12,
    "start_time": "2024-04-29T12:13:27.615Z"
   },
   {
    "duration": 14,
    "start_time": "2024-04-29T12:13:27.629Z"
   },
   {
    "duration": 6,
    "start_time": "2024-04-29T12:13:27.644Z"
   },
   {
    "duration": 4,
    "start_time": "2024-04-29T12:13:27.651Z"
   },
   {
    "duration": 25,
    "start_time": "2024-04-29T12:13:27.657Z"
   },
   {
    "duration": 6,
    "start_time": "2024-04-29T12:13:27.684Z"
   },
   {
    "duration": 10,
    "start_time": "2024-04-29T12:13:27.691Z"
   },
   {
    "duration": 14,
    "start_time": "2024-04-29T12:13:27.702Z"
   },
   {
    "duration": 19,
    "start_time": "2024-04-29T12:13:27.719Z"
   },
   {
    "duration": 48,
    "start_time": "2024-04-29T12:13:27.740Z"
   },
   {
    "duration": 21,
    "start_time": "2024-04-29T12:13:27.791Z"
   },
   {
    "duration": 168,
    "start_time": "2024-04-29T12:13:27.814Z"
   },
   {
    "duration": 9,
    "start_time": "2024-04-29T12:13:27.983Z"
   },
   {
    "duration": 299,
    "start_time": "2024-04-29T12:13:27.994Z"
   },
   {
    "duration": 6,
    "start_time": "2024-04-29T12:13:28.295Z"
   },
   {
    "duration": 284,
    "start_time": "2024-04-29T12:13:28.303Z"
   },
   {
    "duration": 319,
    "start_time": "2024-04-29T12:13:28.589Z"
   },
   {
    "duration": 5,
    "start_time": "2024-04-29T12:13:28.910Z"
   },
   {
    "duration": 392,
    "start_time": "2024-04-29T12:13:28.916Z"
   },
   {
    "duration": 218,
    "start_time": "2024-04-29T12:13:29.310Z"
   },
   {
    "duration": 225,
    "start_time": "2024-04-29T12:13:29.529Z"
   },
   {
    "duration": 275,
    "start_time": "2024-04-29T12:13:29.755Z"
   },
   {
    "duration": 212,
    "start_time": "2024-04-29T12:13:30.032Z"
   },
   {
    "duration": 273,
    "start_time": "2024-04-29T12:13:30.246Z"
   },
   {
    "duration": 317,
    "start_time": "2024-04-29T12:13:30.521Z"
   },
   {
    "duration": 284,
    "start_time": "2024-04-29T12:13:30.839Z"
   },
   {
    "duration": 204,
    "start_time": "2024-04-29T12:13:31.125Z"
   },
   {
    "duration": 251,
    "start_time": "2024-04-29T12:13:31.330Z"
   },
   {
    "duration": 199,
    "start_time": "2024-04-29T12:13:31.583Z"
   },
   {
    "duration": 257,
    "start_time": "2024-04-29T12:13:31.784Z"
   },
   {
    "duration": 250,
    "start_time": "2024-04-29T12:13:32.043Z"
   },
   {
    "duration": 367,
    "start_time": "2024-04-29T12:13:32.295Z"
   },
   {
    "duration": 220,
    "start_time": "2024-04-29T12:13:32.664Z"
   },
   {
    "duration": 15,
    "start_time": "2024-04-29T12:13:32.887Z"
   },
   {
    "duration": 30,
    "start_time": "2024-04-29T12:13:32.904Z"
   },
   {
    "duration": 8,
    "start_time": "2024-04-29T12:13:32.940Z"
   },
   {
    "duration": 39,
    "start_time": "2024-04-29T12:13:32.950Z"
   },
   {
    "duration": 9,
    "start_time": "2024-04-29T12:13:32.991Z"
   },
   {
    "duration": 356,
    "start_time": "2024-04-29T12:13:33.002Z"
   },
   {
    "duration": 33,
    "start_time": "2024-04-29T12:13:33.361Z"
   },
   {
    "duration": 8,
    "start_time": "2024-04-29T12:13:33.396Z"
   },
   {
    "duration": 284,
    "start_time": "2024-04-29T12:13:33.405Z"
   },
   {
    "duration": 283,
    "start_time": "2024-04-29T12:13:33.691Z"
   },
   {
    "duration": 274,
    "start_time": "2024-04-29T12:13:33.980Z"
   },
   {
    "duration": 359,
    "start_time": "2024-04-29T12:13:34.256Z"
   },
   {
    "duration": 273,
    "start_time": "2024-04-29T12:13:34.616Z"
   },
   {
    "duration": 265,
    "start_time": "2024-04-29T12:13:34.891Z"
   },
   {
    "duration": 282,
    "start_time": "2024-04-29T12:13:35.158Z"
   },
   {
    "duration": 142,
    "start_time": "2024-04-29T12:13:35.442Z"
   },
   {
    "duration": 249,
    "start_time": "2024-04-29T12:13:35.586Z"
   },
   {
    "duration": 374,
    "start_time": "2024-04-29T12:13:35.836Z"
   },
   {
    "duration": 263,
    "start_time": "2024-04-29T12:13:36.212Z"
   },
   {
    "duration": 272,
    "start_time": "2024-04-29T12:13:36.480Z"
   },
   {
    "duration": 157,
    "start_time": "2024-04-29T12:13:36.754Z"
   },
   {
    "duration": 155,
    "start_time": "2024-04-29T12:13:36.913Z"
   },
   {
    "duration": 304,
    "start_time": "2024-04-29T12:13:37.070Z"
   },
   {
    "duration": 160,
    "start_time": "2024-04-29T12:13:37.376Z"
   },
   {
    "duration": 5,
    "start_time": "2024-04-29T12:13:37.538Z"
   },
   {
    "duration": 4,
    "start_time": "2024-04-29T12:13:37.545Z"
   },
   {
    "duration": 4,
    "start_time": "2024-04-29T12:15:20.750Z"
   },
   {
    "duration": 5,
    "start_time": "2024-04-29T12:15:38.846Z"
   },
   {
    "duration": 7,
    "start_time": "2024-04-29T12:18:23.529Z"
   },
   {
    "duration": 30,
    "start_time": "2024-04-29T12:20:42.131Z"
   },
   {
    "duration": 362,
    "start_time": "2024-04-29T12:21:25.642Z"
   },
   {
    "duration": 509,
    "start_time": "2024-04-29T12:25:28.543Z"
   },
   {
    "duration": 114,
    "start_time": "2024-04-29T12:27:54.979Z"
   },
   {
    "duration": 21,
    "start_time": "2024-04-29T12:28:39.110Z"
   },
   {
    "duration": 16,
    "start_time": "2024-04-29T12:28:43.633Z"
   },
   {
    "duration": 285,
    "start_time": "2024-04-29T12:28:47.922Z"
   },
   {
    "duration": 206,
    "start_time": "2024-04-29T12:28:52.322Z"
   },
   {
    "duration": 11,
    "start_time": "2024-04-29T12:30:06.571Z"
   },
   {
    "duration": 183,
    "start_time": "2024-04-29T12:31:41.852Z"
   },
   {
    "duration": 1284,
    "start_time": "2024-04-29T12:33:49.584Z"
   },
   {
    "duration": 135,
    "start_time": "2024-04-29T12:33:50.870Z"
   },
   {
    "duration": 15,
    "start_time": "2024-04-29T12:33:51.007Z"
   },
   {
    "duration": 2214,
    "start_time": "2024-04-29T12:33:51.024Z"
   },
   {
    "duration": 10,
    "start_time": "2024-04-29T12:33:53.240Z"
   },
   {
    "duration": 14,
    "start_time": "2024-04-29T12:33:53.251Z"
   },
   {
    "duration": 26,
    "start_time": "2024-04-29T12:33:53.266Z"
   },
   {
    "duration": 6,
    "start_time": "2024-04-29T12:33:53.294Z"
   },
   {
    "duration": 9,
    "start_time": "2024-04-29T12:33:53.302Z"
   },
   {
    "duration": 9,
    "start_time": "2024-04-29T12:33:53.312Z"
   },
   {
    "duration": 18,
    "start_time": "2024-04-29T12:33:53.323Z"
   },
   {
    "duration": 27,
    "start_time": "2024-04-29T12:33:53.343Z"
   },
   {
    "duration": 25,
    "start_time": "2024-04-29T12:33:53.372Z"
   },
   {
    "duration": 23,
    "start_time": "2024-04-29T12:33:53.402Z"
   },
   {
    "duration": 22,
    "start_time": "2024-04-29T12:33:53.427Z"
   },
   {
    "duration": 50,
    "start_time": "2024-04-29T12:33:53.450Z"
   },
   {
    "duration": 180,
    "start_time": "2024-04-29T12:33:53.502Z"
   },
   {
    "duration": 8,
    "start_time": "2024-04-29T12:33:53.684Z"
   },
   {
    "duration": 324,
    "start_time": "2024-04-29T12:33:53.694Z"
   },
   {
    "duration": 6,
    "start_time": "2024-04-29T12:33:54.020Z"
   },
   {
    "duration": 283,
    "start_time": "2024-04-29T12:33:54.027Z"
   },
   {
    "duration": 273,
    "start_time": "2024-04-29T12:33:54.312Z"
   },
   {
    "duration": 7,
    "start_time": "2024-04-29T12:33:54.587Z"
   },
   {
    "duration": 303,
    "start_time": "2024-04-29T12:33:54.595Z"
   },
   {
    "duration": 238,
    "start_time": "2024-04-29T12:33:54.900Z"
   },
   {
    "duration": 230,
    "start_time": "2024-04-29T12:33:55.139Z"
   },
   {
    "duration": 477,
    "start_time": "2024-04-29T12:33:55.371Z"
   },
   {
    "duration": 217,
    "start_time": "2024-04-29T12:33:55.849Z"
   },
   {
    "duration": 277,
    "start_time": "2024-04-29T12:33:56.068Z"
   },
   {
    "duration": 233,
    "start_time": "2024-04-29T12:33:56.347Z"
   },
   {
    "duration": 288,
    "start_time": "2024-04-29T12:33:56.582Z"
   },
   {
    "duration": 213,
    "start_time": "2024-04-29T12:33:56.880Z"
   },
   {
    "duration": 280,
    "start_time": "2024-04-29T12:33:57.094Z"
   },
   {
    "duration": 318,
    "start_time": "2024-04-29T12:33:57.380Z"
   },
   {
    "duration": 272,
    "start_time": "2024-04-29T12:33:57.700Z"
   },
   {
    "duration": 221,
    "start_time": "2024-04-29T12:33:57.981Z"
   },
   {
    "duration": 287,
    "start_time": "2024-04-29T12:33:58.204Z"
   },
   {
    "duration": 242,
    "start_time": "2024-04-29T12:33:58.493Z"
   },
   {
    "duration": 17,
    "start_time": "2024-04-29T12:33:58.737Z"
   },
   {
    "duration": 51,
    "start_time": "2024-04-29T12:33:58.756Z"
   },
   {
    "duration": 10,
    "start_time": "2024-04-29T12:33:58.814Z"
   },
   {
    "duration": 11,
    "start_time": "2024-04-29T12:33:58.826Z"
   },
   {
    "duration": 11,
    "start_time": "2024-04-29T12:33:58.839Z"
   },
   {
    "duration": 381,
    "start_time": "2024-04-29T12:33:58.852Z"
   },
   {
    "duration": 26,
    "start_time": "2024-04-29T12:33:59.235Z"
   },
   {
    "duration": 17,
    "start_time": "2024-04-29T12:33:59.263Z"
   },
   {
    "duration": 367,
    "start_time": "2024-04-29T12:33:59.282Z"
   },
   {
    "duration": 278,
    "start_time": "2024-04-29T12:33:59.651Z"
   },
   {
    "duration": 274,
    "start_time": "2024-04-29T12:33:59.930Z"
   },
   {
    "duration": 287,
    "start_time": "2024-04-29T12:34:00.206Z"
   },
   {
    "duration": 306,
    "start_time": "2024-04-29T12:34:00.495Z"
   },
   {
    "duration": 278,
    "start_time": "2024-04-29T12:34:00.804Z"
   },
   {
    "duration": 399,
    "start_time": "2024-04-29T12:34:01.084Z"
   },
   {
    "duration": 137,
    "start_time": "2024-04-29T12:34:01.485Z"
   },
   {
    "duration": 273,
    "start_time": "2024-04-29T12:34:01.624Z"
   },
   {
    "duration": 322,
    "start_time": "2024-04-29T12:34:01.899Z"
   },
   {
    "duration": 290,
    "start_time": "2024-04-29T12:34:02.223Z"
   },
   {
    "duration": 326,
    "start_time": "2024-04-29T12:34:02.514Z"
   },
   {
    "duration": 281,
    "start_time": "2024-04-29T12:34:02.842Z"
   },
   {
    "duration": 158,
    "start_time": "2024-04-29T12:34:03.125Z"
   },
   {
    "duration": 303,
    "start_time": "2024-04-29T12:34:03.285Z"
   },
   {
    "duration": 163,
    "start_time": "2024-04-29T12:34:03.589Z"
   },
   {
    "duration": 6,
    "start_time": "2024-04-29T12:34:03.753Z"
   },
   {
    "duration": 22,
    "start_time": "2024-04-29T12:34:03.760Z"
   },
   {
    "duration": 5,
    "start_time": "2024-04-29T12:34:03.783Z"
   },
   {
    "duration": 6,
    "start_time": "2024-04-29T12:34:03.790Z"
   },
   {
    "duration": 9,
    "start_time": "2024-04-29T12:34:03.798Z"
   },
   {
    "duration": 41,
    "start_time": "2024-04-29T12:34:03.809Z"
   },
   {
    "duration": 188,
    "start_time": "2024-04-29T12:34:03.880Z"
   }
  ],
  "kernelspec": {
   "display_name": "Python 3 (ipykernel)",
   "language": "python",
   "name": "python3"
  },
  "language_info": {
   "codemirror_mode": {
    "name": "ipython",
    "version": 3
   },
   "file_extension": ".py",
   "mimetype": "text/x-python",
   "name": "python",
   "nbconvert_exporter": "python",
   "pygments_lexer": "ipython3",
   "version": "3.9.5"
  },
  "toc": {
   "base_numbering": 1,
   "nav_menu": {},
   "number_sections": true,
   "sideBar": true,
   "skip_h1_title": true,
   "title_cell": "Table of Contents",
   "title_sidebar": "Contents",
   "toc_cell": false,
   "toc_position": {},
   "toc_section_display": true,
   "toc_window_display": false
  }
 },
 "nbformat": 4,
 "nbformat_minor": 5
}
