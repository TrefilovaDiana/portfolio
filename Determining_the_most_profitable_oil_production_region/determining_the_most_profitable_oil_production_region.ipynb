{
 "cells": [
  {
   "cell_type": "markdown",
   "metadata": {},
   "source": [
    "# Определение наиболее выгодного региона нефтедобычи"
   ]
  },
  {
   "cell_type": "markdown",
   "metadata": {},
   "source": [
    "Нам предоставлены пробы нефти в трёх регионах: в каждом 10 000 месторождений, где измерили качество нефти и объём её запасов. Нужно построить модель машинного обучения, которая поможет определить регион, где добыча принесёт наибольшую прибыль. Проанализировать возможную прибыль и риски техникой *Bootstrap.*\n",
    "\n",
    "Шаги для выбора локации:\n",
    "\n",
    "- В избранном регионе ищут месторождения, для каждого определяют значения признаков;\n",
    "- Строят модель и оценивают объём запасов;\n",
    "- Выбирают месторождения с самым высокими оценками значений. Количество месторождений зависит от бюджета компании и стоимости разработки одной скважины;\n",
    "- Прибыль равна суммарной прибыли отобранных месторождений."
   ]
  },
  {
   "cell_type": "markdown",
   "metadata": {},
   "source": [
    "# План"
   ]
  },
  {
   "cell_type": "markdown",
   "metadata": {},
   "source": [
    "**1. Загрузка и подготовка данных.**\n",
    "\n",
    "**2. Обучение и проверка модели.**\n",
    "\n",
    "**3. Подготовка к расчёту прибыли.**\n",
    "\n",
    "**4. Расчёт прибыли и рисков.**\n",
    "\n",
    "**5. Выводы.**"
   ]
  },
  {
   "cell_type": "markdown",
   "metadata": {},
   "source": [
    "## Загрузка и подготовка данных"
   ]
  },
  {
   "cell_type": "markdown",
   "metadata": {},
   "source": [
    "### Загрузим данные"
   ]
  },
  {
   "cell_type": "code",
   "execution_count": 1,
   "metadata": {},
   "outputs": [],
   "source": [
    "import pandas as pd\n",
    "from sklearn.model_selection import train_test_split\n",
    "from sklearn.preprocessing import StandardScaler\n",
    "from sklearn.linear_model import LinearRegression\n",
    "from sklearn.metrics import mean_squared_error\n",
    "import numpy as np"
   ]
  },
  {
   "cell_type": "code",
   "execution_count": 2,
   "metadata": {},
   "outputs": [],
   "source": [
    "geo_data_0 = pd.read_csv('/datasets/geo_data_0.csv')\n",
    "geo_data_1 = pd.read_csv('/datasets/geo_data_1.csv')\n",
    "geo_data_2 = pd.read_csv('/datasets/geo_data_2.csv')"
   ]
  },
  {
   "cell_type": "code",
   "execution_count": 3,
   "metadata": {},
   "outputs": [
    {
     "data": {
      "text/html": [
       "<div>\n",
       "<style scoped>\n",
       "    .dataframe tbody tr th:only-of-type {\n",
       "        vertical-align: middle;\n",
       "    }\n",
       "\n",
       "    .dataframe tbody tr th {\n",
       "        vertical-align: top;\n",
       "    }\n",
       "\n",
       "    .dataframe thead th {\n",
       "        text-align: right;\n",
       "    }\n",
       "</style>\n",
       "<table border=\"1\" class=\"dataframe\">\n",
       "  <thead>\n",
       "    <tr style=\"text-align: right;\">\n",
       "      <th></th>\n",
       "      <th>id</th>\n",
       "      <th>f0</th>\n",
       "      <th>f1</th>\n",
       "      <th>f2</th>\n",
       "      <th>product</th>\n",
       "    </tr>\n",
       "  </thead>\n",
       "  <tbody>\n",
       "    <tr>\n",
       "      <th>0</th>\n",
       "      <td>txEyH</td>\n",
       "      <td>0.705745</td>\n",
       "      <td>-0.497823</td>\n",
       "      <td>1.221170</td>\n",
       "      <td>105.280062</td>\n",
       "    </tr>\n",
       "    <tr>\n",
       "      <th>1</th>\n",
       "      <td>2acmU</td>\n",
       "      <td>1.334711</td>\n",
       "      <td>-0.340164</td>\n",
       "      <td>4.365080</td>\n",
       "      <td>73.037750</td>\n",
       "    </tr>\n",
       "    <tr>\n",
       "      <th>2</th>\n",
       "      <td>409Wp</td>\n",
       "      <td>1.022732</td>\n",
       "      <td>0.151990</td>\n",
       "      <td>1.419926</td>\n",
       "      <td>85.265647</td>\n",
       "    </tr>\n",
       "    <tr>\n",
       "      <th>3</th>\n",
       "      <td>iJLyR</td>\n",
       "      <td>-0.032172</td>\n",
       "      <td>0.139033</td>\n",
       "      <td>2.978566</td>\n",
       "      <td>168.620776</td>\n",
       "    </tr>\n",
       "    <tr>\n",
       "      <th>4</th>\n",
       "      <td>Xdl7t</td>\n",
       "      <td>1.988431</td>\n",
       "      <td>0.155413</td>\n",
       "      <td>4.751769</td>\n",
       "      <td>154.036647</td>\n",
       "    </tr>\n",
       "  </tbody>\n",
       "</table>\n",
       "</div>"
      ],
      "text/plain": [
       "      id        f0        f1        f2     product\n",
       "0  txEyH  0.705745 -0.497823  1.221170  105.280062\n",
       "1  2acmU  1.334711 -0.340164  4.365080   73.037750\n",
       "2  409Wp  1.022732  0.151990  1.419926   85.265647\n",
       "3  iJLyR -0.032172  0.139033  2.978566  168.620776\n",
       "4  Xdl7t  1.988431  0.155413  4.751769  154.036647"
      ]
     },
     "execution_count": 3,
     "metadata": {},
     "output_type": "execute_result"
    }
   ],
   "source": [
    "geo_data_0.head()"
   ]
  },
  {
   "cell_type": "code",
   "execution_count": 4,
   "metadata": {},
   "outputs": [
    {
     "data": {
      "text/html": [
       "<div>\n",
       "<style scoped>\n",
       "    .dataframe tbody tr th:only-of-type {\n",
       "        vertical-align: middle;\n",
       "    }\n",
       "\n",
       "    .dataframe tbody tr th {\n",
       "        vertical-align: top;\n",
       "    }\n",
       "\n",
       "    .dataframe thead th {\n",
       "        text-align: right;\n",
       "    }\n",
       "</style>\n",
       "<table border=\"1\" class=\"dataframe\">\n",
       "  <thead>\n",
       "    <tr style=\"text-align: right;\">\n",
       "      <th></th>\n",
       "      <th>id</th>\n",
       "      <th>f0</th>\n",
       "      <th>f1</th>\n",
       "      <th>f2</th>\n",
       "      <th>product</th>\n",
       "    </tr>\n",
       "  </thead>\n",
       "  <tbody>\n",
       "    <tr>\n",
       "      <th>0</th>\n",
       "      <td>kBEdx</td>\n",
       "      <td>-15.001348</td>\n",
       "      <td>-8.276000</td>\n",
       "      <td>-0.005876</td>\n",
       "      <td>3.179103</td>\n",
       "    </tr>\n",
       "    <tr>\n",
       "      <th>1</th>\n",
       "      <td>62mP7</td>\n",
       "      <td>14.272088</td>\n",
       "      <td>-3.475083</td>\n",
       "      <td>0.999183</td>\n",
       "      <td>26.953261</td>\n",
       "    </tr>\n",
       "    <tr>\n",
       "      <th>2</th>\n",
       "      <td>vyE1P</td>\n",
       "      <td>6.263187</td>\n",
       "      <td>-5.948386</td>\n",
       "      <td>5.001160</td>\n",
       "      <td>134.766305</td>\n",
       "    </tr>\n",
       "    <tr>\n",
       "      <th>3</th>\n",
       "      <td>KcrkZ</td>\n",
       "      <td>-13.081196</td>\n",
       "      <td>-11.506057</td>\n",
       "      <td>4.999415</td>\n",
       "      <td>137.945408</td>\n",
       "    </tr>\n",
       "    <tr>\n",
       "      <th>4</th>\n",
       "      <td>AHL4O</td>\n",
       "      <td>12.702195</td>\n",
       "      <td>-8.147433</td>\n",
       "      <td>5.004363</td>\n",
       "      <td>134.766305</td>\n",
       "    </tr>\n",
       "  </tbody>\n",
       "</table>\n",
       "</div>"
      ],
      "text/plain": [
       "      id         f0         f1        f2     product\n",
       "0  kBEdx -15.001348  -8.276000 -0.005876    3.179103\n",
       "1  62mP7  14.272088  -3.475083  0.999183   26.953261\n",
       "2  vyE1P   6.263187  -5.948386  5.001160  134.766305\n",
       "3  KcrkZ -13.081196 -11.506057  4.999415  137.945408\n",
       "4  AHL4O  12.702195  -8.147433  5.004363  134.766305"
      ]
     },
     "execution_count": 4,
     "metadata": {},
     "output_type": "execute_result"
    }
   ],
   "source": [
    "geo_data_1.head()"
   ]
  },
  {
   "cell_type": "code",
   "execution_count": 5,
   "metadata": {},
   "outputs": [
    {
     "data": {
      "text/html": [
       "<div>\n",
       "<style scoped>\n",
       "    .dataframe tbody tr th:only-of-type {\n",
       "        vertical-align: middle;\n",
       "    }\n",
       "\n",
       "    .dataframe tbody tr th {\n",
       "        vertical-align: top;\n",
       "    }\n",
       "\n",
       "    .dataframe thead th {\n",
       "        text-align: right;\n",
       "    }\n",
       "</style>\n",
       "<table border=\"1\" class=\"dataframe\">\n",
       "  <thead>\n",
       "    <tr style=\"text-align: right;\">\n",
       "      <th></th>\n",
       "      <th>id</th>\n",
       "      <th>f0</th>\n",
       "      <th>f1</th>\n",
       "      <th>f2</th>\n",
       "      <th>product</th>\n",
       "    </tr>\n",
       "  </thead>\n",
       "  <tbody>\n",
       "    <tr>\n",
       "      <th>0</th>\n",
       "      <td>fwXo0</td>\n",
       "      <td>-1.146987</td>\n",
       "      <td>0.963328</td>\n",
       "      <td>-0.828965</td>\n",
       "      <td>27.758673</td>\n",
       "    </tr>\n",
       "    <tr>\n",
       "      <th>1</th>\n",
       "      <td>WJtFt</td>\n",
       "      <td>0.262778</td>\n",
       "      <td>0.269839</td>\n",
       "      <td>-2.530187</td>\n",
       "      <td>56.069697</td>\n",
       "    </tr>\n",
       "    <tr>\n",
       "      <th>2</th>\n",
       "      <td>ovLUW</td>\n",
       "      <td>0.194587</td>\n",
       "      <td>0.289035</td>\n",
       "      <td>-5.586433</td>\n",
       "      <td>62.871910</td>\n",
       "    </tr>\n",
       "    <tr>\n",
       "      <th>3</th>\n",
       "      <td>q6cA6</td>\n",
       "      <td>2.236060</td>\n",
       "      <td>-0.553760</td>\n",
       "      <td>0.930038</td>\n",
       "      <td>114.572842</td>\n",
       "    </tr>\n",
       "    <tr>\n",
       "      <th>4</th>\n",
       "      <td>WPMUX</td>\n",
       "      <td>-0.515993</td>\n",
       "      <td>1.716266</td>\n",
       "      <td>5.899011</td>\n",
       "      <td>149.600746</td>\n",
       "    </tr>\n",
       "  </tbody>\n",
       "</table>\n",
       "</div>"
      ],
      "text/plain": [
       "      id        f0        f1        f2     product\n",
       "0  fwXo0 -1.146987  0.963328 -0.828965   27.758673\n",
       "1  WJtFt  0.262778  0.269839 -2.530187   56.069697\n",
       "2  ovLUW  0.194587  0.289035 -5.586433   62.871910\n",
       "3  q6cA6  2.236060 -0.553760  0.930038  114.572842\n",
       "4  WPMUX -0.515993  1.716266  5.899011  149.600746"
      ]
     },
     "execution_count": 5,
     "metadata": {},
     "output_type": "execute_result"
    }
   ],
   "source": [
    "geo_data_2.head()"
   ]
  },
  {
   "cell_type": "code",
   "execution_count": 6,
   "metadata": {},
   "outputs": [
    {
     "name": "stdout",
     "output_type": "stream",
     "text": [
      "<class 'pandas.core.frame.DataFrame'>\n",
      "RangeIndex: 100000 entries, 0 to 99999\n",
      "Data columns (total 5 columns):\n",
      " #   Column   Non-Null Count   Dtype  \n",
      "---  ------   --------------   -----  \n",
      " 0   id       100000 non-null  object \n",
      " 1   f0       100000 non-null  float64\n",
      " 2   f1       100000 non-null  float64\n",
      " 3   f2       100000 non-null  float64\n",
      " 4   product  100000 non-null  float64\n",
      "dtypes: float64(4), object(1)\n",
      "memory usage: 3.8+ MB\n"
     ]
    }
   ],
   "source": [
    "geo_data_0.info()"
   ]
  },
  {
   "cell_type": "code",
   "execution_count": 7,
   "metadata": {},
   "outputs": [
    {
     "name": "stdout",
     "output_type": "stream",
     "text": [
      "<class 'pandas.core.frame.DataFrame'>\n",
      "RangeIndex: 100000 entries, 0 to 99999\n",
      "Data columns (total 5 columns):\n",
      " #   Column   Non-Null Count   Dtype  \n",
      "---  ------   --------------   -----  \n",
      " 0   id       100000 non-null  object \n",
      " 1   f0       100000 non-null  float64\n",
      " 2   f1       100000 non-null  float64\n",
      " 3   f2       100000 non-null  float64\n",
      " 4   product  100000 non-null  float64\n",
      "dtypes: float64(4), object(1)\n",
      "memory usage: 3.8+ MB\n"
     ]
    }
   ],
   "source": [
    "geo_data_1.info()"
   ]
  },
  {
   "cell_type": "code",
   "execution_count": 8,
   "metadata": {},
   "outputs": [
    {
     "name": "stdout",
     "output_type": "stream",
     "text": [
      "<class 'pandas.core.frame.DataFrame'>\n",
      "RangeIndex: 100000 entries, 0 to 99999\n",
      "Data columns (total 5 columns):\n",
      " #   Column   Non-Null Count   Dtype  \n",
      "---  ------   --------------   -----  \n",
      " 0   id       100000 non-null  object \n",
      " 1   f0       100000 non-null  float64\n",
      " 2   f1       100000 non-null  float64\n",
      " 3   f2       100000 non-null  float64\n",
      " 4   product  100000 non-null  float64\n",
      "dtypes: float64(4), object(1)\n",
      "memory usage: 3.8+ MB\n"
     ]
    }
   ],
   "source": [
    "geo_data_2.info()"
   ]
  },
  {
   "cell_type": "markdown",
   "metadata": {},
   "source": [
    "Пропусков в данных нет."
   ]
  },
  {
   "cell_type": "markdown",
   "metadata": {},
   "source": [
    "### Проверим данные на наличие дубликатов"
   ]
  },
  {
   "cell_type": "code",
   "execution_count": 9,
   "metadata": {},
   "outputs": [
    {
     "name": "stdout",
     "output_type": "stream",
     "text": [
      "0\n",
      "0\n",
      "0\n"
     ]
    }
   ],
   "source": [
    "print(geo_data_0.duplicated().sum())\n",
    "print(geo_data_1.duplicated().sum())\n",
    "print(geo_data_2.duplicated().sum())"
   ]
  },
  {
   "cell_type": "markdown",
   "metadata": {},
   "source": [
    "Явных дубликатов нет."
   ]
  },
  {
   "cell_type": "code",
   "execution_count": 10,
   "metadata": {},
   "outputs": [
    {
     "name": "stdout",
     "output_type": "stream",
     "text": [
      "99990\n",
      "99996\n",
      "99996\n"
     ]
    }
   ],
   "source": [
    "print(len(geo_data_0['id'].unique()))\n",
    "print(len(geo_data_1['id'].unique()))\n",
    "print(len(geo_data_2['id'].unique()))"
   ]
  },
  {
   "cell_type": "markdown",
   "metadata": {},
   "source": [
    "В 1 первом датасете есть 10 неявных дубликатов, во 2 и 3 по 4. Т.е. несколько скважин встречаются несколько раз. Но таких данных немного, всего 0,1% и 0,04% соответсвенно, значит на результаты они влияния не окажут."
   ]
  },
  {
   "cell_type": "code",
   "execution_count": 11,
   "metadata": {},
   "outputs": [
    {
     "data": {
      "image/png": "[encoded data removed]",
      "text/plain": [
       "<Figure size 1080x720 with 4 Axes>"
      ]
     },
     "metadata": {
      "needs_background": "light"
     },
     "output_type": "display_data"
    }
   ],
   "source": [
    "# Построим общую гистограмму для всех числовых столбцов таблицы\n",
    "geo_data_0.hist(figsize=(15,10), bins=100);"
   ]
  },
  {
   "cell_type": "code",
   "execution_count": 12,
   "metadata": {},
   "outputs": [
    {
     "data": {
      "image/png": "[encoded data removed]",
      "text/plain": [
       "<Figure size 1080x720 with 4 Axes>"
      ]
     },
     "metadata": {
      "needs_background": "light"
     },
     "output_type": "display_data"
    }
   ],
   "source": [
    "geo_data_1.hist(figsize=(15,10), bins=100);"
   ]
  },
  {
   "cell_type": "code",
   "execution_count": 13,
   "metadata": {},
   "outputs": [
    {
     "data": {
      "image/png": "[encoded data removed]",
      "text/plain": [
       "<Figure size 1080x720 with 4 Axes>"
      ]
     },
     "metadata": {
      "needs_background": "light"
     },
     "output_type": "display_data"
    }
   ],
   "source": [
    "geo_data_2.hist(figsize=(15,10), bins=100);"
   ]
  },
  {
   "cell_type": "markdown",
   "metadata": {},
   "source": [
    "В каждом датасете данные распределены по-разному: в 3 датасете распределение похоже на нормальное, в 1 датасете распределение тоже похоже на номальное, но есть нкоторые пики, во 2 датасете распределения очень разные, у целевого признака самы распространенные значения - это крайние."
   ]
  },
  {
   "cell_type": "markdown",
   "metadata": {},
   "source": [
    "**Промежуточные выводы**\n",
    "\n",
    "- Прпопусков в данных нет;\n",
    "- Есть несколько неявных дубликатов, которые не влияют на данные так как их не более 0.1%;\n",
    "- В каждом датасете данные распределены по-разному."
   ]
  },
  {
   "cell_type": "markdown",
   "metadata": {},
   "source": [
    "## Обучение и проверка модели"
   ]
  },
  {
   "cell_type": "code",
   "execution_count": 14,
   "metadata": {},
   "outputs": [],
   "source": [
    "def model_training (data):\n",
    "    target = data['product']\n",
    "    features = data.drop('product', axis=1)\n",
    "    features_train, features_valid, target_train, target_valid = train_test_split(features, target, test_size=0.25, random_state=12345)\n",
    "    \n",
    "    #Масштабируем данные\n",
    "    scaler = StandardScaler()\n",
    "    scaler.fit(features_train)\n",
    "    features_train = pd.DataFrame(scaler.transform(features_train))\n",
    "    features_valid = pd.DataFrame(scaler.transform(features_valid))\n",
    "    \n",
    "    model = LinearRegression()\n",
    "    model.fit(features_train, target_train)\n",
    "    predictions_valid = model.predict(features_valid)\n",
    "    mse = mean_squared_error(target_valid, predictions_valid)\n",
    "    rmse = mse ** 0.5\n",
    "    print('средний запас предсказанного сырья:', predictions_valid.mean())\n",
    "    print('RMSE:', rmse)\n",
    "    return predictions_valid.mean(), rmse, pd.Series(predictions_valid, target_valid.index), target_valid, features_valid"
   ]
  },
  {
   "cell_type": "code",
   "execution_count": 15,
   "metadata": {},
   "outputs": [],
   "source": [
    "clear_geo_data_0 = geo_data_0.drop('id', axis=1)\n",
    "clear_geo_data_1 = geo_data_1.drop('id', axis=1)\n",
    "clear_geo_data_2 = geo_data_2.drop('id', axis=1)"
   ]
  },
  {
   "cell_type": "code",
   "execution_count": 16,
   "metadata": {},
   "outputs": [
    {
     "name": "stdout",
     "output_type": "stream",
     "text": [
      "средний запас предсказанного сырья: 92.59256778438035\n",
      "RMSE: 37.5794217150813\n",
      "средний запас предсказанного сырья: 68.728546895446\n",
      "RMSE: 0.893099286775617\n",
      "средний запас предсказанного сырья: 94.96504596800489\n",
      "RMSE: 40.02970873393434\n"
     ]
    }
   ],
   "source": [
    "mean_0, rmse_0, predictions_valid_0, target_valid_0, features_valid_0 = model_training(clear_geo_data_0)\n",
    "mean_1, rmse_1, predictions_valid_1, target_valid_1, features_valid_1 = model_training(clear_geo_data_1)\n",
    "mean_2, rmse_2, predictions_valid_2, target_valid_2, features_valid_2 = model_training(clear_geo_data_2)"
   ]
  },
  {
   "cell_type": "markdown",
   "metadata": {},
   "source": [
    "**Промежуточные выводы**\n",
    "\n",
    "Итак, наша модель предсказала следующий средний запас сырья в скважине для каждого региона:\n",
    "\n",
    "1 - 93 тыс. баррелей\n",
    "\n",
    "2 - 69 тыс. баррелей\n",
    "\n",
    "3 - 95 тыс. баррелей\n",
    "\n",
    "RMSE в первом регионе: 37.58\n",
    "\n",
    "RMSE во втором регионе: 0.89\n",
    "\n",
    "RMSE во втором регионе: 40.03\n",
    "\n",
    "В 1 и 3 регионах ошибка получается очень высокой 37.58 и 40.03 тыс. баррелей соответственно. А вот во втором регионе она очень низкая, всего 0.89 тыс. баррелей."
   ]
  },
  {
   "cell_type": "markdown",
   "metadata": {},
   "source": [
    "## Подготовка к расчёту прибыли"
   ]
  },
  {
   "cell_type": "markdown",
   "metadata": {},
   "source": [
    "### Все ключевые значения для расчётов сохраним в отдельных переменных."
   ]
  },
  {
   "cell_type": "code",
   "execution_count": 17,
   "metadata": {},
   "outputs": [],
   "source": [
    "BUDGET = 10_000_000_000\n",
    "UNIT_COST = 450_000\n",
    "POINTS = 200"
   ]
  },
  {
   "cell_type": "markdown",
   "metadata": {},
   "source": [
    "### Рассчитаем достаточный объём сырья для безубыточной разработки новой скважины. Сравним полученный объём сырья со средним запасом в каждом регионе."
   ]
  },
  {
   "cell_type": "code",
   "execution_count": 18,
   "metadata": {},
   "outputs": [
    {
     "name": "stdout",
     "output_type": "stream",
     "text": [
      "111.11111111111111\n"
     ]
    }
   ],
   "source": [
    "# Т.к. на разработку скважин в регионе выделено 10 млрд. рублей, прибыль должна составить не менее 10 млр. рублей.\n",
    "# рассчитаем необходимый объем сырья\n",
    "dot_raw = BUDGET / UNIT_COST / POINTS\n",
    "print(dot_raw)"
   ]
  },
  {
   "cell_type": "code",
   "execution_count": 19,
   "metadata": {},
   "outputs": [
    {
     "name": "stdout",
     "output_type": "stream",
     "text": [
      "92.59256778438035 68.728546895446 94.96504596800489\n"
     ]
    }
   ],
   "source": [
    "#Сравним достаточный объем сырья со средним значением в каждом регионе\n",
    "print(mean_0, mean_1, mean_2)"
   ]
  },
  {
   "cell_type": "markdown",
   "metadata": {},
   "source": [
    "**Промежуточные выводы**\n",
    "\n",
    "Достаточный объём сырья для безубыточной разработки новой скважины составляет 111 тыс. баррелей.\n",
    "\n",
    "Наша модель предсказывает среднее кол-во для каждого региона 93, 69 и 95 тыс. баррелей соответсвенно. 1 и 3 регион ближе к нужному показателю, но и значение ошибки у них высокое. Зато у второго региона ошибка предсказания очень низкая."
   ]
  },
  {
   "cell_type": "markdown",
   "metadata": {},
   "source": [
    "## Расчёт прибыли и рисков "
   ]
  },
  {
   "cell_type": "markdown",
   "metadata": {},
   "source": [
    "### Выберем скважины с максимальными значениями предсказаний. "
   ]
  },
  {
   "cell_type": "code",
   "execution_count": 20,
   "metadata": {},
   "outputs": [
    {
     "name": "stdout",
     "output_type": "stream",
     "text": [
      "3996048877.4651318\n"
     ]
    }
   ],
   "source": [
    "raw_200_0 = pd.Series(predictions_valid_0).sort_values(ascending = False)\n",
    "raw_200_0 = raw_200_0.reset_index(drop=True)\n",
    "raw_200_0 = raw_200_0.loc[:199]\n",
    "print(raw_200_0.sum() * UNIT_COST - BUDGET)"
   ]
  },
  {
   "cell_type": "code",
   "execution_count": 21,
   "metadata": {},
   "outputs": [
    {
     "name": "stdout",
     "output_type": "stream",
     "text": [
      "2485712051.973543\n"
     ]
    }
   ],
   "source": [
    "raw_200_1 = pd.Series(predictions_valid_1).sort_values(ascending = False)\n",
    "raw_200_1 = raw_200_1.reset_index(drop=True)\n",
    "raw_200_1 = raw_200_1.loc[:199]\n",
    "print(raw_200_1.sum() * UNIT_COST - BUDGET)"
   ]
  },
  {
   "cell_type": "code",
   "execution_count": 22,
   "metadata": {},
   "outputs": [
    {
     "name": "stdout",
     "output_type": "stream",
     "text": [
      "3321754396.2432575\n"
     ]
    }
   ],
   "source": [
    "raw_200_2 = pd.Series(predictions_valid_2).sort_values(ascending = False)\n",
    "raw_200_2 = raw_200_2.reset_index(drop=True)\n",
    "raw_200_2 = raw_200_2.loc[:199]\n",
    "print(raw_200_2.sum() * UNIT_COST - BUDGET)"
   ]
  },
  {
   "cell_type": "markdown",
   "metadata": {},
   "source": [
    "**Промежуточные выводы**\n",
    "\n",
    "Получили прибыль в первом регионе 3,9 млн. рублей, во втором регионе - 2.5 млн. рублей, в третьем - 3,3 млн. рублей."
   ]
  },
  {
   "cell_type": "markdown",
   "metadata": {},
   "source": [
    "### Просуммируем целевое значение объёма сырья, соответствующее этим предсказаниям. Рассчитаем прибыль для полученного объёма сырья."
   ]
  },
  {
   "cell_type": "code",
   "execution_count": 23,
   "metadata": {},
   "outputs": [],
   "source": [
    "def profit(target_valid, predictions_valid):\n",
    "    predict_sorted = predictions_valid.sort_values(ascending = False)\n",
    "    target_sorted = target_valid[predict_sorted.index][:200]\n",
    "    product = target_sorted.sum()\n",
    "    return product * UNIT_COST - BUDGET"
   ]
  },
  {
   "cell_type": "markdown",
   "metadata": {},
   "source": [
    "### Применим технику Bootstrap с 1000 выборок, чтобы найти распределение прибыли."
   ]
  },
  {
   "cell_type": "code",
   "execution_count": 24,
   "metadata": {},
   "outputs": [],
   "source": [
    "def bootstrap(target_valid, predictions_valid):\n",
    "    state = np.random.RandomState(12345)\n",
    "    values = []\n",
    "    for i in range(1000):\n",
    "        target_500 = target_valid.sample(500, replace=True, random_state=state)\n",
    "        predict_500 = predictions_valid[target_500.index]\n",
    "        values.append(profit(target_500, predict_500))\n",
    "    values = pd.Series(values)\n",
    "    return values"
   ]
  },
  {
   "cell_type": "code",
   "execution_count": 25,
   "metadata": {},
   "outputs": [
    {
     "name": "stdout",
     "output_type": "stream",
     "text": [
      "0      5.850890e+08\n",
      "1      5.363934e+08\n",
      "2      2.110794e+08\n",
      "3      2.652803e+08\n",
      "4      2.719929e+08\n",
      "           ...     \n",
      "995    4.740955e+08\n",
      "996    8.559972e+08\n",
      "997    7.859948e+08\n",
      "998    3.542215e+08\n",
      "999    1.988203e+08\n",
      "Length: 1000, dtype: float64\n"
     ]
    }
   ],
   "source": [
    "values_0 = bootstrap(target_valid_0, predictions_valid_0)\n",
    "print(values_0)"
   ]
  },
  {
   "cell_type": "code",
   "execution_count": 26,
   "metadata": {},
   "outputs": [
    {
     "name": "stdout",
     "output_type": "stream",
     "text": [
      "0      2.993594e+08\n",
      "1      3.828315e+08\n",
      "2      3.036512e+08\n",
      "3      6.581902e+08\n",
      "4      3.585736e+08\n",
      "           ...     \n",
      "995    7.559683e+08\n",
      "996    7.667289e+08\n",
      "997    3.585114e+08\n",
      "998    5.098436e+08\n",
      "999    1.745243e+08\n",
      "Length: 1000, dtype: float64\n"
     ]
    }
   ],
   "source": [
    "values_1 = bootstrap(target_valid_1, predictions_valid_1)\n",
    "print(values_1)"
   ]
  },
  {
   "cell_type": "code",
   "execution_count": 27,
   "metadata": {},
   "outputs": [
    {
     "name": "stdout",
     "output_type": "stream",
     "text": [
      "0     -9.504418e+07\n",
      "1      7.282106e+08\n",
      "2      6.112178e+08\n",
      "3      5.827541e+08\n",
      "4      2.501458e+07\n",
      "           ...     \n",
      "995    5.668660e+08\n",
      "996   -1.164806e+07\n",
      "997    6.455952e+08\n",
      "998    5.367360e+08\n",
      "999    1.212702e+08\n",
      "Length: 1000, dtype: float64\n"
     ]
    }
   ],
   "source": [
    "values_2 = bootstrap(target_valid_2, predictions_valid_2)\n",
    "print(values_2)"
   ]
  },
  {
   "cell_type": "markdown",
   "metadata": {},
   "source": [
    "### Найдем среднюю прибыль, 95%-й доверительный интервал и риск убытков."
   ]
  },
  {
   "cell_type": "code",
   "execution_count": 28,
   "metadata": {},
   "outputs": [
    {
     "name": "stdout",
     "output_type": "stream",
     "text": [
      "425938526.91059244\n",
      "-102090094.83793654 947976353.3583689\n",
      "6.0\n"
     ]
    }
   ],
   "source": [
    "mean_profit_0 = values_0.mean()\n",
    "lower_0 = values_0.quantile(0.025)\n",
    "upper_0 = values_0.quantile(0.975)\n",
    "lesion_0 = values_0[values_0 < 0].count() / 1000\n",
    "print(mean_profit_0)\n",
    "print(lower_0, upper_0)\n",
    "print(lesion_0 * 100)"
   ]
  },
  {
   "cell_type": "code",
   "execution_count": 29,
   "metadata": {},
   "outputs": [
    {
     "name": "stdout",
     "output_type": "stream",
     "text": [
      "515222773.4432899\n",
      "68873225.37050176 931547591.2570494\n",
      "1.0\n"
     ]
    }
   ],
   "source": [
    "mean_profit_1 = values_1.mean()\n",
    "lower_1 = values_1.quantile(0.025)\n",
    "upper_1 = values_1.quantile(0.975)\n",
    "lesion_1 = values_1[values_1 < 0].count() / 1000\n",
    "print(mean_profit_1)\n",
    "print(lower_1, upper_1)\n",
    "print(lesion_1 * 100)"
   ]
  },
  {
   "cell_type": "code",
   "execution_count": 30,
   "metadata": {},
   "outputs": [
    {
     "name": "stdout",
     "output_type": "stream",
     "text": [
      "435008362.7827556\n",
      "-128880547.32978901 969706954.1802661\n",
      "6.4\n"
     ]
    }
   ],
   "source": [
    "mean_profit_2 = values_2.mean()\n",
    "lower_2 = values_2.quantile(0.025)\n",
    "upper_2 = values_2.quantile(0.975)\n",
    "lesion_2 = values_2[values_2 < 0].count() / 1000\n",
    "print(mean_profit_2)\n",
    "print(lower_2, upper_2)\n",
    "print(lesion_2 * 100)"
   ]
  },
  {
   "cell_type": "markdown",
   "metadata": {},
   "source": [
    "## Выводы"
   ]
  },
  {
   "cell_type": "markdown",
   "metadata": {},
   "source": [
    "В ходе исследования была проделана следующая работа:\n",
    "1. Мы проверили даннын на пропуски и дубликаты. Обнаружились некоторые дубликаты, но они составляли не более 0.1% и не влияли на данные.\n",
    "2. Обучили модель линейной регрессии, провели масштабирование данных.\n",
    "- Средний запас предсказанного сырья в первом регионе составил 92.59 тыс. баррелей. RMSE: 37.58.\n",
    "- Во втором регионе средний запас предсказанного сырья: 68.73, RMSE: 0.89.\n",
    "- В третьем регионе средний запас предсказанного сырья: 94.97, RMSE: 40.03.\n",
    "\n",
    "3. Достаточный объём сырья для безубыточной разработки новой скважины составляет 111.11 тыс. баррелей.\n",
    "- Наша модель предсказывает прибыль в первом регион 3,9 млн. рублей, во втором регионе - 2.5 млн. рублей, в третьем - 3,3 млн. рублей.\n",
    "\n",
    "4. Нашли среднюю прибыль, 95%-й доверительный интервал и риск убытков  вкаждом регионе.\n",
    "\n",
    "   1 регион\n",
    "- Среднее: 425 938 526.\n",
    "- Доверительный интервал: (-102 090 095; 947 976 353)\n",
    "- Риск убытков: 6.0%\n",
    "\n",
    "\n",
    "   2 регион\n",
    "- Среднее: 515 222 773\n",
    "- Доверительный интервал: (68 873 225; 931 547 591)\n",
    "- Риск убытков: 1.0%\n",
    "\n",
    "\n",
    "   3 регион\n",
    "- Среднее: 435 008 363\n",
    "- Доверительный интервал: (128 880 547; 969 706 954)\n",
    "- Риск убытков: 6.4%\n",
    "\n",
    "Мы рекомендуем 2 регион для разработки скважин. Ошибка модели в этом регионе очень низкая: 0.89. Самый высокий средний показатель по технике Bootstrap, безубыточный 95%-й доверительный интервал. Риск убытков 1%.\n"
   ]
  }
 ],
 "metadata": {
  "ExecuteTimeLog": [
   {
    "duration": 47,
    "start_time": "2023-06-05T04:34:20.842Z"
   },
   {
    "duration": 419,
    "start_time": "2023-06-05T04:34:26.039Z"
   },
   {
    "duration": 754,
    "start_time": "2023-06-05T04:34:28.350Z"
   },
   {
    "duration": 17,
    "start_time": "2023-06-05T04:34:42.909Z"
   },
   {
    "duration": 13,
    "start_time": "2023-06-05T04:35:32.069Z"
   },
   {
    "duration": 11,
    "start_time": "2023-06-05T04:35:47.261Z"
   },
   {
    "duration": 9,
    "start_time": "2023-06-05T04:36:26.340Z"
   },
   {
    "duration": 15,
    "start_time": "2023-06-05T04:38:00.882Z"
   },
   {
    "duration": 14,
    "start_time": "2023-06-05T04:38:15.561Z"
   },
   {
    "duration": 13,
    "start_time": "2023-06-05T04:38:28.601Z"
   },
   {
    "duration": 56,
    "start_time": "2023-06-05T04:43:34.948Z"
   },
   {
    "duration": 113,
    "start_time": "2023-06-05T04:44:16.963Z"
   },
   {
    "duration": 61,
    "start_time": "2023-06-05T04:46:19.314Z"
   },
   {
    "duration": 42,
    "start_time": "2023-06-05T04:46:32.983Z"
   },
   {
    "duration": 95,
    "start_time": "2023-06-05T04:46:50.511Z"
   },
   {
    "duration": 48,
    "start_time": "2023-06-05T04:46:55.794Z"
   },
   {
    "duration": 51,
    "start_time": "2023-06-05T04:47:09.360Z"
   },
   {
    "duration": 1011,
    "start_time": "2023-06-05T04:59:16.440Z"
   },
   {
    "duration": 669,
    "start_time": "2023-06-05T04:59:57.457Z"
   },
   {
    "duration": 616,
    "start_time": "2023-06-05T05:00:18.360Z"
   },
   {
    "duration": 8,
    "start_time": "2023-06-05T05:34:06.017Z"
   },
   {
    "duration": 3,
    "start_time": "2023-06-05T05:38:37.299Z"
   },
   {
    "duration": 714,
    "start_time": "2023-06-05T05:45:40.042Z"
   },
   {
    "duration": 3,
    "start_time": "2023-06-05T05:46:41.745Z"
   },
   {
    "duration": 10,
    "start_time": "2023-06-05T05:46:46.600Z"
   },
   {
    "duration": 70,
    "start_time": "2023-06-05T05:46:48.200Z"
   },
   {
    "duration": 4,
    "start_time": "2023-06-05T05:47:13.656Z"
   },
   {
    "duration": 31,
    "start_time": "2023-06-05T05:47:15.888Z"
   },
   {
    "duration": 4,
    "start_time": "2023-06-05T05:47:36.864Z"
   },
   {
    "duration": 30,
    "start_time": "2023-06-05T05:47:40.904Z"
   },
   {
    "duration": 4,
    "start_time": "2023-06-05T05:48:56.870Z"
   },
   {
    "duration": 3,
    "start_time": "2023-06-05T05:49:03.502Z"
   },
   {
    "duration": 16,
    "start_time": "2023-06-05T05:49:08.511Z"
   },
   {
    "duration": 3,
    "start_time": "2023-06-05T05:51:21.547Z"
   },
   {
    "duration": 16,
    "start_time": "2023-06-05T05:52:23.082Z"
   },
   {
    "duration": 7,
    "start_time": "2023-06-05T05:52:30.425Z"
   },
   {
    "duration": 28,
    "start_time": "2023-06-05T05:52:32.401Z"
   },
   {
    "duration": 4,
    "start_time": "2023-06-05T05:56:12.526Z"
   },
   {
    "duration": 32,
    "start_time": "2023-06-05T05:56:15.501Z"
   },
   {
    "duration": 4,
    "start_time": "2023-06-05T05:56:29.893Z"
   },
   {
    "duration": 26,
    "start_time": "2023-06-05T05:56:32.132Z"
   },
   {
    "duration": 4,
    "start_time": "2023-06-05T05:56:56.157Z"
   },
   {
    "duration": 22,
    "start_time": "2023-06-05T05:57:00.172Z"
   },
   {
    "duration": 4,
    "start_time": "2023-06-05T05:57:22.413Z"
   },
   {
    "duration": 22,
    "start_time": "2023-06-05T05:57:24.420Z"
   },
   {
    "duration": 4,
    "start_time": "2023-06-05T05:57:33.076Z"
   },
   {
    "duration": 22,
    "start_time": "2023-06-05T05:57:34.756Z"
   },
   {
    "duration": 5,
    "start_time": "2023-06-05T05:57:56.213Z"
   },
   {
    "duration": 26,
    "start_time": "2023-06-05T05:57:58.188Z"
   },
   {
    "duration": 3,
    "start_time": "2023-06-05T06:00:38.005Z"
   },
   {
    "duration": 24,
    "start_time": "2023-06-05T06:00:41.529Z"
   },
   {
    "duration": 5,
    "start_time": "2023-06-05T06:02:47.910Z"
   },
   {
    "duration": 33,
    "start_time": "2023-06-05T06:02:50.805Z"
   },
   {
    "duration": 3,
    "start_time": "2023-06-05T06:04:03.044Z"
   },
   {
    "duration": 6,
    "start_time": "2023-06-05T06:07:40.552Z"
   },
   {
    "duration": 116,
    "start_time": "2023-06-05T06:07:42.327Z"
   },
   {
    "duration": 5,
    "start_time": "2023-06-05T06:07:59.527Z"
   },
   {
    "duration": 31,
    "start_time": "2023-06-05T06:08:01.071Z"
   },
   {
    "duration": 5,
    "start_time": "2023-06-05T06:09:15.782Z"
   },
   {
    "duration": 28,
    "start_time": "2023-06-05T06:09:16.764Z"
   },
   {
    "duration": 41,
    "start_time": "2023-06-05T06:13:56.216Z"
   },
   {
    "duration": 5,
    "start_time": "2023-06-05T06:14:00.695Z"
   },
   {
    "duration": 420,
    "start_time": "2023-06-05T06:14:02.832Z"
   },
   {
    "duration": 3,
    "start_time": "2023-06-05T08:07:29.761Z"
   },
   {
    "duration": 5,
    "start_time": "2023-06-05T08:14:29.041Z"
   },
   {
    "duration": 11,
    "start_time": "2023-06-05T08:21:13.781Z"
   },
   {
    "duration": 9,
    "start_time": "2023-06-05T08:21:25.767Z"
   },
   {
    "duration": 10,
    "start_time": "2023-06-05T08:22:23.622Z"
   },
   {
    "duration": 13,
    "start_time": "2023-06-05T08:22:52.021Z"
   },
   {
    "duration": 11,
    "start_time": "2023-06-05T08:22:57.990Z"
   },
   {
    "duration": 87,
    "start_time": "2023-06-05T08:24:06.039Z"
   },
   {
    "duration": 6,
    "start_time": "2023-06-05T08:24:10.444Z"
   },
   {
    "duration": 7,
    "start_time": "2023-06-05T08:24:13.220Z"
   },
   {
    "duration": 8,
    "start_time": "2023-06-05T08:24:28.178Z"
   },
   {
    "duration": 9,
    "start_time": "2023-06-05T08:24:57.284Z"
   },
   {
    "duration": 9,
    "start_time": "2023-06-05T08:25:15.107Z"
   },
   {
    "duration": 10,
    "start_time": "2023-06-05T08:29:13.478Z"
   },
   {
    "duration": 9,
    "start_time": "2023-06-05T08:29:30.656Z"
   },
   {
    "duration": 10,
    "start_time": "2023-06-05T08:29:58.942Z"
   },
   {
    "duration": 9,
    "start_time": "2023-06-05T08:30:25.733Z"
   },
   {
    "duration": 9,
    "start_time": "2023-06-05T08:32:09.412Z"
   },
   {
    "duration": 7,
    "start_time": "2023-06-05T08:32:16.339Z"
   },
   {
    "duration": 7,
    "start_time": "2023-06-05T08:32:20.067Z"
   },
   {
    "duration": 4,
    "start_time": "2023-06-05T08:32:37.990Z"
   },
   {
    "duration": 4,
    "start_time": "2023-06-05T08:34:03.090Z"
   },
   {
    "duration": 5,
    "start_time": "2023-06-05T08:35:13.809Z"
   },
   {
    "duration": 227,
    "start_time": "2023-06-05T08:46:11.803Z"
   },
   {
    "duration": 4,
    "start_time": "2023-06-05T08:46:54.978Z"
   },
   {
    "duration": 11,
    "start_time": "2023-06-05T08:47:37.033Z"
   },
   {
    "duration": 24,
    "start_time": "2023-06-05T08:48:20.186Z"
   },
   {
    "duration": 3,
    "start_time": "2023-06-05T08:48:36.952Z"
   },
   {
    "duration": 3,
    "start_time": "2023-06-05T08:48:40.672Z"
   },
   {
    "duration": 22,
    "start_time": "2023-06-05T08:48:44.951Z"
   },
   {
    "duration": 21,
    "start_time": "2023-06-05T08:49:42.392Z"
   },
   {
    "duration": 26,
    "start_time": "2023-06-05T08:50:07.902Z"
   },
   {
    "duration": 22,
    "start_time": "2023-06-05T08:50:16.694Z"
   },
   {
    "duration": 6,
    "start_time": "2023-06-05T08:50:32.630Z"
   },
   {
    "duration": 27,
    "start_time": "2023-06-05T08:50:35.438Z"
   },
   {
    "duration": 4,
    "start_time": "2023-06-05T08:55:06.760Z"
   },
   {
    "duration": 20,
    "start_time": "2023-06-05T08:55:10.503Z"
   },
   {
    "duration": 6,
    "start_time": "2023-06-05T08:55:31.567Z"
   },
   {
    "duration": 22,
    "start_time": "2023-06-05T08:55:32.535Z"
   },
   {
    "duration": 5,
    "start_time": "2023-06-05T08:55:59.616Z"
   },
   {
    "duration": 21,
    "start_time": "2023-06-05T08:56:02.358Z"
   },
   {
    "duration": 5,
    "start_time": "2023-06-05T08:57:07.053Z"
   },
   {
    "duration": 17,
    "start_time": "2023-06-05T08:57:41.165Z"
   },
   {
    "duration": 17,
    "start_time": "2023-06-05T09:01:06.426Z"
   },
   {
    "duration": 24,
    "start_time": "2023-06-05T09:01:15.474Z"
   },
   {
    "duration": 23,
    "start_time": "2023-06-05T09:01:37.505Z"
   },
   {
    "duration": 31,
    "start_time": "2023-06-05T09:01:43.706Z"
   },
   {
    "duration": 7,
    "start_time": "2023-06-05T09:02:42.751Z"
   },
   {
    "duration": 23,
    "start_time": "2023-06-05T09:02:44.759Z"
   },
   {
    "duration": 5,
    "start_time": "2023-06-05T09:10:51.797Z"
   },
   {
    "duration": 18,
    "start_time": "2023-06-05T09:10:53.860Z"
   },
   {
    "duration": 6,
    "start_time": "2023-06-05T09:12:32.867Z"
   },
   {
    "duration": 34,
    "start_time": "2023-06-05T09:12:35.010Z"
   },
   {
    "duration": 6,
    "start_time": "2023-06-05T09:12:45.154Z"
   },
   {
    "duration": 38,
    "start_time": "2023-06-05T09:12:47.170Z"
   },
   {
    "duration": 1364,
    "start_time": "2023-06-05T09:13:07.376Z"
   },
   {
    "duration": 435,
    "start_time": "2023-06-05T09:13:08.742Z"
   },
   {
    "duration": 23,
    "start_time": "2023-06-05T09:13:09.179Z"
   },
   {
    "duration": 45,
    "start_time": "2023-06-05T09:13:09.204Z"
   },
   {
    "duration": 43,
    "start_time": "2023-06-05T09:13:09.252Z"
   },
   {
    "duration": 32,
    "start_time": "2023-06-05T09:13:09.296Z"
   },
   {
    "duration": 17,
    "start_time": "2023-06-05T09:13:09.330Z"
   },
   {
    "duration": 59,
    "start_time": "2023-06-05T09:13:09.349Z"
   },
   {
    "duration": 194,
    "start_time": "2023-06-05T09:13:09.410Z"
   },
   {
    "duration": 75,
    "start_time": "2023-06-05T09:13:09.606Z"
   },
   {
    "duration": 985,
    "start_time": "2023-06-05T09:13:09.683Z"
   },
   {
    "duration": 660,
    "start_time": "2023-06-05T09:13:10.670Z"
   },
   {
    "duration": 798,
    "start_time": "2023-06-05T09:13:11.332Z"
   },
   {
    "duration": 7,
    "start_time": "2023-06-05T09:13:12.141Z"
   },
   {
    "duration": 108,
    "start_time": "2023-06-05T09:13:12.149Z"
   },
   {
    "duration": 491,
    "start_time": "2023-06-05T09:13:12.260Z"
   },
   {
    "duration": 92,
    "start_time": "2023-06-05T09:13:12.753Z"
   },
   {
    "duration": 188,
    "start_time": "2023-06-05T09:13:12.847Z"
   },
   {
    "duration": 78,
    "start_time": "2023-06-05T09:13:13.037Z"
   },
   {
    "duration": 99,
    "start_time": "2023-06-05T09:13:13.117Z"
   },
   {
    "duration": 47,
    "start_time": "2023-06-05T09:13:13.217Z"
   },
   {
    "duration": 40,
    "start_time": "2023-06-05T09:13:13.267Z"
   },
   {
    "duration": 70,
    "start_time": "2023-06-05T09:13:13.309Z"
   },
   {
    "duration": 5,
    "start_time": "2023-06-05T09:13:39.281Z"
   },
   {
    "duration": 128,
    "start_time": "2023-06-05T09:13:41.658Z"
   },
   {
    "duration": 4,
    "start_time": "2023-06-05T09:14:04.977Z"
   },
   {
    "duration": 134,
    "start_time": "2023-06-05T09:14:06.075Z"
   },
   {
    "duration": 6,
    "start_time": "2023-06-05T09:47:08.425Z"
   },
   {
    "duration": 4,
    "start_time": "2023-06-05T09:47:34.600Z"
   },
   {
    "duration": 5,
    "start_time": "2023-06-05T09:48:29.120Z"
   },
   {
    "duration": 6,
    "start_time": "2023-06-05T09:49:20.103Z"
   },
   {
    "duration": 4,
    "start_time": "2023-06-05T09:51:55.491Z"
   },
   {
    "duration": 4,
    "start_time": "2023-06-05T09:53:08.114Z"
   },
   {
    "duration": 6,
    "start_time": "2023-06-05T09:53:13.234Z"
   },
   {
    "duration": 18,
    "start_time": "2023-06-05T09:53:14.371Z"
   },
   {
    "duration": 5,
    "start_time": "2023-06-05T09:53:32.762Z"
   },
   {
    "duration": 19,
    "start_time": "2023-06-05T09:53:34.802Z"
   },
   {
    "duration": 5,
    "start_time": "2023-06-05T09:55:27.351Z"
   },
   {
    "duration": 5,
    "start_time": "2023-06-05T09:55:30.567Z"
   },
   {
    "duration": 3343,
    "start_time": "2023-06-05T09:55:33.543Z"
   },
   {
    "duration": 3420,
    "start_time": "2023-06-05T09:55:43.375Z"
   },
   {
    "duration": 4,
    "start_time": "2023-06-05T10:01:56.719Z"
   },
   {
    "duration": 3,
    "start_time": "2023-06-05T10:01:58.168Z"
   },
   {
    "duration": 615,
    "start_time": "2023-06-05T10:01:59.407Z"
   },
   {
    "duration": 649,
    "start_time": "2023-06-05T10:03:45.085Z"
   },
   {
    "duration": 603,
    "start_time": "2023-06-05T10:03:54.789Z"
   },
   {
    "duration": 638,
    "start_time": "2023-06-05T10:50:45.476Z"
   },
   {
    "duration": 693,
    "start_time": "2023-06-05T10:50:48.012Z"
   },
   {
    "duration": 651,
    "start_time": "2023-06-05T10:50:50.411Z"
   },
   {
    "duration": 5,
    "start_time": "2023-06-05T10:51:07.796Z"
   },
   {
    "duration": 12,
    "start_time": "2023-06-05T10:52:50.786Z"
   },
   {
    "duration": 8,
    "start_time": "2023-06-05T10:52:56.756Z"
   },
   {
    "duration": 8,
    "start_time": "2023-06-05T10:54:40.025Z"
   },
   {
    "duration": 6,
    "start_time": "2023-06-05T10:54:59.664Z"
   },
   {
    "duration": 9,
    "start_time": "2023-06-05T10:57:14.365Z"
   },
   {
    "duration": 8,
    "start_time": "2023-06-05T10:57:25.525Z"
   },
   {
    "duration": 8,
    "start_time": "2023-06-05T10:58:05.236Z"
   },
   {
    "duration": 7,
    "start_time": "2023-06-05T10:58:44.587Z"
   },
   {
    "duration": 1166,
    "start_time": "2023-06-05T11:18:34.078Z"
   },
   {
    "duration": 388,
    "start_time": "2023-06-05T11:18:35.247Z"
   },
   {
    "duration": 22,
    "start_time": "2023-06-05T11:18:35.637Z"
   },
   {
    "duration": 10,
    "start_time": "2023-06-05T11:18:35.663Z"
   },
   {
    "duration": 13,
    "start_time": "2023-06-05T11:18:35.674Z"
   },
   {
    "duration": 18,
    "start_time": "2023-06-05T11:18:35.689Z"
   },
   {
    "duration": 36,
    "start_time": "2023-06-05T11:18:35.709Z"
   },
   {
    "duration": 14,
    "start_time": "2023-06-05T11:18:35.747Z"
   },
   {
    "duration": 137,
    "start_time": "2023-06-05T11:18:35.763Z"
   },
   {
    "duration": 59,
    "start_time": "2023-06-05T11:18:35.903Z"
   },
   {
    "duration": 892,
    "start_time": "2023-06-05T11:18:35.964Z"
   },
   {
    "duration": 579,
    "start_time": "2023-06-05T11:18:36.859Z"
   },
   {
    "duration": 695,
    "start_time": "2023-06-05T11:18:37.441Z"
   },
   {
    "duration": 12,
    "start_time": "2023-06-05T11:18:38.138Z"
   },
   {
    "duration": 12,
    "start_time": "2023-06-05T11:18:38.152Z"
   },
   {
    "duration": 378,
    "start_time": "2023-06-05T11:18:38.166Z"
   },
   {
    "duration": 4,
    "start_time": "2023-06-05T11:18:38.546Z"
   },
   {
    "duration": 97,
    "start_time": "2023-06-05T11:18:38.552Z"
   },
   {
    "duration": 9,
    "start_time": "2023-06-05T11:18:38.653Z"
   },
   {
    "duration": 6,
    "start_time": "2023-06-05T11:18:38.664Z"
   },
   {
    "duration": 15,
    "start_time": "2023-06-05T11:18:38.672Z"
   },
   {
    "duration": 8,
    "start_time": "2023-06-05T11:18:38.689Z"
   },
   {
    "duration": 17,
    "start_time": "2023-06-05T11:18:38.698Z"
   },
   {
    "duration": 775,
    "start_time": "2023-06-05T11:18:38.717Z"
   },
   {
    "duration": 0,
    "start_time": "2023-06-05T11:18:39.494Z"
   },
   {
    "duration": 0,
    "start_time": "2023-06-05T11:18:39.495Z"
   },
   {
    "duration": 1,
    "start_time": "2023-06-05T11:18:39.496Z"
   },
   {
    "duration": 0,
    "start_time": "2023-06-05T11:18:39.498Z"
   },
   {
    "duration": 549,
    "start_time": "2023-06-05T11:18:49.348Z"
   },
   {
    "duration": 501,
    "start_time": "2023-06-05T11:19:02.339Z"
   },
   {
    "duration": 561,
    "start_time": "2023-06-05T11:19:14.314Z"
   },
   {
    "duration": 656,
    "start_time": "2023-06-05T11:19:21.122Z"
   },
   {
    "duration": 1693,
    "start_time": "2023-06-05T11:20:01.879Z"
   },
   {
    "duration": 396,
    "start_time": "2023-06-05T11:20:03.574Z"
   },
   {
    "duration": 16,
    "start_time": "2023-06-05T11:20:03.971Z"
   },
   {
    "duration": 8,
    "start_time": "2023-06-05T11:20:03.989Z"
   },
   {
    "duration": 34,
    "start_time": "2023-06-05T11:20:03.998Z"
   },
   {
    "duration": 23,
    "start_time": "2023-06-05T11:20:04.034Z"
   },
   {
    "duration": 28,
    "start_time": "2023-06-05T11:20:04.058Z"
   },
   {
    "duration": 20,
    "start_time": "2023-06-05T11:20:04.088Z"
   },
   {
    "duration": 159,
    "start_time": "2023-06-05T11:20:04.110Z"
   },
   {
    "duration": 41,
    "start_time": "2023-06-05T11:20:04.272Z"
   },
   {
    "duration": 1118,
    "start_time": "2023-06-05T11:20:04.314Z"
   },
   {
    "duration": 523,
    "start_time": "2023-06-05T11:20:05.433Z"
   },
   {
    "duration": 635,
    "start_time": "2023-06-05T11:20:05.958Z"
   },
   {
    "duration": 5,
    "start_time": "2023-06-05T11:20:06.595Z"
   },
   {
    "duration": 28,
    "start_time": "2023-06-05T11:20:06.601Z"
   },
   {
    "duration": 414,
    "start_time": "2023-06-05T11:20:06.631Z"
   },
   {
    "duration": 14,
    "start_time": "2023-06-05T11:20:07.047Z"
   },
   {
    "duration": 80,
    "start_time": "2023-06-05T11:20:07.063Z"
   },
   {
    "duration": 34,
    "start_time": "2023-06-05T11:20:07.145Z"
   },
   {
    "duration": 15,
    "start_time": "2023-06-05T11:20:07.181Z"
   },
   {
    "duration": 23,
    "start_time": "2023-06-05T11:20:07.198Z"
   },
   {
    "duration": 7,
    "start_time": "2023-06-05T11:20:07.222Z"
   },
   {
    "duration": 7,
    "start_time": "2023-06-05T11:20:07.230Z"
   },
   {
    "duration": 653,
    "start_time": "2023-06-05T11:20:07.238Z"
   },
   {
    "duration": 681,
    "start_time": "2023-06-05T11:20:07.893Z"
   },
   {
    "duration": 642,
    "start_time": "2023-06-05T11:20:08.575Z"
   },
   {
    "duration": 9,
    "start_time": "2023-06-05T11:20:09.219Z"
   },
   {
    "duration": 13,
    "start_time": "2023-06-05T11:20:09.242Z"
   },
   {
    "duration": 10,
    "start_time": "2023-06-05T11:20:50.041Z"
   },
   {
    "duration": 1864,
    "start_time": "2023-06-05T11:44:07.602Z"
   },
   {
    "duration": 715,
    "start_time": "2023-06-05T11:44:09.468Z"
   },
   {
    "duration": 14,
    "start_time": "2023-06-05T11:44:10.185Z"
   },
   {
    "duration": 48,
    "start_time": "2023-06-05T11:44:10.202Z"
   },
   {
    "duration": 11,
    "start_time": "2023-06-05T11:44:10.251Z"
   },
   {
    "duration": 19,
    "start_time": "2023-06-05T11:44:10.263Z"
   },
   {
    "duration": 12,
    "start_time": "2023-06-05T11:44:10.283Z"
   },
   {
    "duration": 13,
    "start_time": "2023-06-05T11:44:10.297Z"
   },
   {
    "duration": 114,
    "start_time": "2023-06-05T11:44:10.311Z"
   },
   {
    "duration": 35,
    "start_time": "2023-06-05T11:44:10.427Z"
   },
   {
    "duration": 891,
    "start_time": "2023-06-05T11:44:10.463Z"
   },
   {
    "duration": 436,
    "start_time": "2023-06-05T11:44:11.356Z"
   },
   {
    "duration": 506,
    "start_time": "2023-06-05T11:44:11.794Z"
   },
   {
    "duration": 4,
    "start_time": "2023-06-05T11:44:12.302Z"
   },
   {
    "duration": 22,
    "start_time": "2023-06-05T11:44:12.308Z"
   },
   {
    "duration": 495,
    "start_time": "2023-06-05T11:44:12.332Z"
   },
   {
    "duration": 4,
    "start_time": "2023-06-05T11:44:12.828Z"
   },
   {
    "duration": 4,
    "start_time": "2023-06-05T11:44:12.918Z"
   },
   {
    "duration": 107,
    "start_time": "2023-06-05T11:44:12.924Z"
   },
   {
    "duration": 23,
    "start_time": "2023-06-05T11:44:13.032Z"
   },
   {
    "duration": 6,
    "start_time": "2023-06-05T11:44:13.057Z"
   },
   {
    "duration": 4,
    "start_time": "2023-06-05T11:44:13.064Z"
   },
   {
    "duration": 7,
    "start_time": "2023-06-05T11:44:13.070Z"
   },
   {
    "duration": 476,
    "start_time": "2023-06-05T11:44:13.078Z"
   },
   {
    "duration": 462,
    "start_time": "2023-06-05T11:44:13.555Z"
   },
   {
    "duration": 472,
    "start_time": "2023-06-05T11:44:14.018Z"
   },
   {
    "duration": 8,
    "start_time": "2023-06-05T11:44:14.491Z"
   },
   {
    "duration": 17,
    "start_time": "2023-06-05T11:44:14.501Z"
   },
   {
    "duration": 7,
    "start_time": "2023-06-05T11:44:14.519Z"
   },
   {
    "duration": 1804,
    "start_time": "2023-06-05T11:56:18.953Z"
   },
   {
    "duration": 381,
    "start_time": "2023-06-05T11:56:20.759Z"
   },
   {
    "duration": 14,
    "start_time": "2023-06-05T11:56:21.141Z"
   },
   {
    "duration": 7,
    "start_time": "2023-06-05T11:56:21.157Z"
   },
   {
    "duration": 12,
    "start_time": "2023-06-05T11:56:21.165Z"
   },
   {
    "duration": 26,
    "start_time": "2023-06-05T11:56:21.178Z"
   },
   {
    "duration": 17,
    "start_time": "2023-06-05T11:56:21.205Z"
   },
   {
    "duration": 12,
    "start_time": "2023-06-05T11:56:21.223Z"
   },
   {
    "duration": 129,
    "start_time": "2023-06-05T11:56:21.236Z"
   },
   {
    "duration": 37,
    "start_time": "2023-06-05T11:56:21.367Z"
   },
   {
    "duration": 661,
    "start_time": "2023-06-05T11:56:21.417Z"
   },
   {
    "duration": 434,
    "start_time": "2023-06-05T11:56:22.079Z"
   },
   {
    "duration": 485,
    "start_time": "2023-06-05T11:56:22.514Z"
   },
   {
    "duration": 4,
    "start_time": "2023-06-05T11:56:23.001Z"
   },
   {
    "duration": 23,
    "start_time": "2023-06-05T11:56:23.006Z"
   },
   {
    "duration": 396,
    "start_time": "2023-06-05T11:56:23.030Z"
   },
   {
    "duration": 4,
    "start_time": "2023-06-05T11:56:23.428Z"
   },
   {
    "duration": 5,
    "start_time": "2023-06-05T11:56:23.518Z"
   },
   {
    "duration": 112,
    "start_time": "2023-06-05T11:56:23.525Z"
   },
   {
    "duration": 6,
    "start_time": "2023-06-05T11:56:23.638Z"
   },
   {
    "duration": 22,
    "start_time": "2023-06-05T11:56:23.646Z"
   },
   {
    "duration": 11,
    "start_time": "2023-06-05T11:56:23.669Z"
   },
   {
    "duration": 20,
    "start_time": "2023-06-05T11:56:23.682Z"
   },
   {
    "duration": 500,
    "start_time": "2023-06-05T11:56:23.703Z"
   },
   {
    "duration": 519,
    "start_time": "2023-06-05T11:56:24.205Z"
   },
   {
    "duration": 463,
    "start_time": "2023-06-05T11:56:24.726Z"
   },
   {
    "duration": 8,
    "start_time": "2023-06-05T11:56:25.191Z"
   },
   {
    "duration": 17,
    "start_time": "2023-06-05T11:56:25.201Z"
   },
   {
    "duration": 11,
    "start_time": "2023-06-05T11:56:25.219Z"
   },
   {
    "duration": 1056,
    "start_time": "2023-06-06T04:22:25.377Z"
   },
   {
    "duration": 1903,
    "start_time": "2023-06-06T04:22:26.435Z"
   },
   {
    "duration": 17,
    "start_time": "2023-06-06T04:22:28.340Z"
   },
   {
    "duration": 9,
    "start_time": "2023-06-06T04:22:28.359Z"
   },
   {
    "duration": 15,
    "start_time": "2023-06-06T04:22:28.369Z"
   },
   {
    "duration": 16,
    "start_time": "2023-06-06T04:22:28.386Z"
   },
   {
    "duration": 14,
    "start_time": "2023-06-06T04:22:28.404Z"
   },
   {
    "duration": 38,
    "start_time": "2023-06-06T04:22:28.419Z"
   },
   {
    "duration": 133,
    "start_time": "2023-06-06T04:22:28.459Z"
   },
   {
    "duration": 41,
    "start_time": "2023-06-06T04:22:28.594Z"
   },
   {
    "duration": 941,
    "start_time": "2023-06-06T04:22:28.637Z"
   },
   {
    "duration": 519,
    "start_time": "2023-06-06T04:22:29.580Z"
   },
   {
    "duration": 578,
    "start_time": "2023-06-06T04:22:30.101Z"
   },
   {
    "duration": 5,
    "start_time": "2023-06-06T04:22:30.681Z"
   },
   {
    "duration": 66,
    "start_time": "2023-06-06T04:22:30.688Z"
   },
   {
    "duration": 431,
    "start_time": "2023-06-06T04:22:54.641Z"
   },
   {
    "duration": 3,
    "start_time": "2023-06-06T04:27:16.468Z"
   },
   {
    "duration": 4,
    "start_time": "2023-06-06T04:29:56.016Z"
   },
   {
    "duration": 4,
    "start_time": "2023-06-06T04:30:44.959Z"
   },
   {
    "duration": 5,
    "start_time": "2023-06-06T04:32:01.214Z"
   },
   {
    "duration": 7,
    "start_time": "2023-06-06T04:33:28.013Z"
   },
   {
    "duration": 6,
    "start_time": "2023-06-06T04:33:32.292Z"
   },
   {
    "duration": 6,
    "start_time": "2023-06-06T04:33:34.036Z"
   },
   {
    "duration": 3,
    "start_time": "2023-06-06T04:42:01.146Z"
   },
   {
    "duration": 8,
    "start_time": "2023-06-06T04:42:52.649Z"
   },
   {
    "duration": 8,
    "start_time": "2023-06-06T04:43:00.777Z"
   },
   {
    "duration": 9,
    "start_time": "2023-06-06T04:43:03.232Z"
   },
   {
    "duration": 3,
    "start_time": "2023-06-06T04:43:07.288Z"
   },
   {
    "duration": 44,
    "start_time": "2023-06-06T04:47:02.692Z"
   },
   {
    "duration": 4,
    "start_time": "2023-06-06T04:48:26.226Z"
   },
   {
    "duration": 5,
    "start_time": "2023-06-06T04:48:28.410Z"
   },
   {
    "duration": 112,
    "start_time": "2023-06-06T04:48:46.458Z"
   },
   {
    "duration": 20,
    "start_time": "2023-06-06T04:49:26.841Z"
   },
   {
    "duration": 3,
    "start_time": "2023-06-06T04:58:39.886Z"
   },
   {
    "duration": 1373,
    "start_time": "2023-06-06T04:58:45.206Z"
   },
   {
    "duration": 1392,
    "start_time": "2023-06-06T04:59:25.109Z"
   },
   {
    "duration": 1365,
    "start_time": "2023-06-06T04:59:31.652Z"
   },
   {
    "duration": 11,
    "start_time": "2023-06-06T05:00:27.547Z"
   },
   {
    "duration": 7,
    "start_time": "2023-06-06T05:00:43.035Z"
   },
   {
    "duration": 8,
    "start_time": "2023-06-06T05:00:52.544Z"
   },
   {
    "duration": 1066,
    "start_time": "2023-06-06T05:09:10.481Z"
   },
   {
    "duration": 390,
    "start_time": "2023-06-06T05:09:11.549Z"
   },
   {
    "duration": 21,
    "start_time": "2023-06-06T05:09:11.941Z"
   },
   {
    "duration": 10,
    "start_time": "2023-06-06T05:09:11.965Z"
   },
   {
    "duration": 9,
    "start_time": "2023-06-06T05:09:11.977Z"
   },
   {
    "duration": 16,
    "start_time": "2023-06-06T05:09:11.988Z"
   },
   {
    "duration": 13,
    "start_time": "2023-06-06T05:09:12.006Z"
   },
   {
    "duration": 51,
    "start_time": "2023-06-06T05:09:12.021Z"
   },
   {
    "duration": 151,
    "start_time": "2023-06-06T05:09:12.073Z"
   },
   {
    "duration": 58,
    "start_time": "2023-06-06T05:09:12.226Z"
   },
   {
    "duration": 758,
    "start_time": "2023-06-06T05:09:12.285Z"
   },
   {
    "duration": 514,
    "start_time": "2023-06-06T05:09:13.045Z"
   },
   {
    "duration": 606,
    "start_time": "2023-06-06T05:09:13.561Z"
   },
   {
    "duration": 6,
    "start_time": "2023-06-06T05:09:14.169Z"
   },
   {
    "duration": 17,
    "start_time": "2023-06-06T05:09:14.177Z"
   },
   {
    "duration": 571,
    "start_time": "2023-06-06T05:09:14.197Z"
   },
   {
    "duration": 4,
    "start_time": "2023-06-06T05:09:14.774Z"
   },
   {
    "duration": 91,
    "start_time": "2023-06-06T05:09:14.780Z"
   },
   {
    "duration": 6,
    "start_time": "2023-06-06T05:09:14.873Z"
   },
   {
    "duration": 10,
    "start_time": "2023-06-06T05:09:14.880Z"
   },
   {
    "duration": 10,
    "start_time": "2023-06-06T05:09:14.892Z"
   },
   {
    "duration": 9,
    "start_time": "2023-06-06T05:09:14.904Z"
   },
   {
    "duration": 3,
    "start_time": "2023-06-06T05:09:14.914Z"
   },
   {
    "duration": 7,
    "start_time": "2023-06-06T05:09:14.919Z"
   },
   {
    "duration": 1371,
    "start_time": "2023-06-06T05:09:14.928Z"
   },
   {
    "duration": 1350,
    "start_time": "2023-06-06T05:09:16.301Z"
   },
   {
    "duration": 1336,
    "start_time": "2023-06-06T05:09:17.656Z"
   },
   {
    "duration": 12,
    "start_time": "2023-06-06T05:09:18.995Z"
   },
   {
    "duration": 14,
    "start_time": "2023-06-06T05:09:19.009Z"
   },
   {
    "duration": 2914,
    "start_time": "2023-06-06T11:39:19.259Z"
   },
   {
    "duration": 333,
    "start_time": "2023-06-06T11:39:22.175Z"
   },
   {
    "duration": 17,
    "start_time": "2023-06-06T11:39:22.510Z"
   },
   {
    "duration": 63,
    "start_time": "2023-06-06T11:39:22.529Z"
   },
   {
    "duration": 12,
    "start_time": "2023-06-06T11:39:22.593Z"
   },
   {
    "duration": 27,
    "start_time": "2023-06-06T11:39:22.607Z"
   },
   {
    "duration": 26,
    "start_time": "2023-06-06T11:39:22.636Z"
   },
   {
    "duration": 12,
    "start_time": "2023-06-06T11:39:22.664Z"
   },
   {
    "duration": 117,
    "start_time": "2023-06-06T11:39:22.678Z"
   },
   {
    "duration": 36,
    "start_time": "2023-06-06T11:39:22.797Z"
   },
   {
    "duration": 709,
    "start_time": "2023-06-06T11:39:22.834Z"
   },
   {
    "duration": 457,
    "start_time": "2023-06-06T11:39:23.544Z"
   },
   {
    "duration": 471,
    "start_time": "2023-06-06T11:39:24.003Z"
   },
   {
    "duration": 6,
    "start_time": "2023-06-06T11:39:24.476Z"
   },
   {
    "duration": 12,
    "start_time": "2023-06-06T11:39:24.484Z"
   },
   {
    "duration": 517,
    "start_time": "2023-06-06T11:39:24.498Z"
   },
   {
    "duration": 3,
    "start_time": "2023-06-06T11:39:25.017Z"
   },
   {
    "duration": 106,
    "start_time": "2023-06-06T11:39:25.022Z"
   },
   {
    "duration": 7,
    "start_time": "2023-06-06T11:39:25.129Z"
   },
   {
    "duration": 8,
    "start_time": "2023-06-06T11:39:25.138Z"
   },
   {
    "duration": 13,
    "start_time": "2023-06-06T11:39:25.147Z"
   },
   {
    "duration": 19,
    "start_time": "2023-06-06T11:39:25.162Z"
   },
   {
    "duration": 5,
    "start_time": "2023-06-06T11:39:25.183Z"
   },
   {
    "duration": 21,
    "start_time": "2023-06-06T11:39:25.190Z"
   },
   {
    "duration": 1154,
    "start_time": "2023-06-06T11:39:25.213Z"
   },
   {
    "duration": 1082,
    "start_time": "2023-06-06T11:39:26.369Z"
   },
   {
    "duration": 1062,
    "start_time": "2023-06-06T11:39:27.453Z"
   },
   {
    "duration": 7,
    "start_time": "2023-06-06T11:39:28.518Z"
   },
   {
    "duration": 10,
    "start_time": "2023-06-06T11:39:28.526Z"
   },
   {
    "duration": 7,
    "start_time": "2023-06-06T11:39:28.537Z"
   },
   {
    "duration": 1198,
    "start_time": "2024-05-23T05:27:17.866Z"
   },
   {
    "duration": 745,
    "start_time": "2024-05-23T05:27:23.165Z"
   },
   {
    "duration": 20,
    "start_time": "2024-05-23T05:27:25.046Z"
   },
   {
    "duration": 12,
    "start_time": "2024-05-23T05:27:27.556Z"
   },
   {
    "duration": 13,
    "start_time": "2024-05-23T05:27:33.102Z"
   },
   {
    "duration": 23,
    "start_time": "2024-05-23T05:27:35.843Z"
   },
   {
    "duration": 21,
    "start_time": "2024-05-23T05:27:39.486Z"
   },
   {
    "duration": 19,
    "start_time": "2024-05-23T05:27:40.277Z"
   },
   {
    "duration": 203,
    "start_time": "2024-05-23T05:27:52.366Z"
   },
   {
    "duration": 47,
    "start_time": "2024-05-23T05:27:55.576Z"
   },
   {
    "duration": 1147,
    "start_time": "2024-05-23T05:28:19.062Z"
   },
   {
    "duration": 659,
    "start_time": "2024-05-23T05:28:26.038Z"
   },
   {
    "duration": 737,
    "start_time": "2024-05-23T05:28:40.862Z"
   },
   {
    "duration": 762,
    "start_time": "2024-05-23T05:28:57.864Z"
   },
   {
    "duration": 1202,
    "start_time": "2024-05-23T05:29:02.903Z"
   },
   {
    "duration": 1118,
    "start_time": "2024-05-23T05:30:14.514Z"
   },
   {
    "duration": 1213,
    "start_time": "2024-05-23T05:30:25.712Z"
   },
   {
    "duration": 7,
    "start_time": "2024-05-23T05:32:35.327Z"
   },
   {
    "duration": 11,
    "start_time": "2024-05-23T05:32:48.986Z"
   },
   {
    "duration": 409,
    "start_time": "2024-05-23T05:32:54.930Z"
   },
   {
    "duration": 3,
    "start_time": "2024-05-23T05:34:08.788Z"
   },
   {
    "duration": 4,
    "start_time": "2024-05-23T05:34:16.706Z"
   },
   {
    "duration": 4,
    "start_time": "2024-05-23T05:34:28.516Z"
   },
   {
    "duration": 8,
    "start_time": "2024-05-23T05:35:08.813Z"
   },
   {
    "duration": 10,
    "start_time": "2024-05-23T05:35:10.093Z"
   },
   {
    "duration": 7,
    "start_time": "2024-05-23T05:35:11.094Z"
   },
   {
    "duration": 4,
    "start_time": "2024-05-23T05:35:18.765Z"
   },
   {
    "duration": 4,
    "start_time": "2024-05-23T05:35:25.605Z"
   },
   {
    "duration": 1589,
    "start_time": "2024-05-23T05:35:34.120Z"
   },
   {
    "duration": 1492,
    "start_time": "2024-05-23T05:35:41.669Z"
   },
   {
    "duration": 1527,
    "start_time": "2024-05-23T05:35:43.943Z"
   },
   {
    "duration": 8,
    "start_time": "2024-05-23T05:35:48.317Z"
   },
   {
    "duration": 8,
    "start_time": "2024-05-23T05:36:02.414Z"
   },
   {
    "duration": 8,
    "start_time": "2024-05-23T05:36:05.870Z"
   },
   {
    "duration": 1245,
    "start_time": "2024-05-23T05:41:48.234Z"
   },
   {
    "duration": 453,
    "start_time": "2024-05-23T05:41:49.481Z"
   },
   {
    "duration": 17,
    "start_time": "2024-05-23T05:41:49.936Z"
   },
   {
    "duration": 37,
    "start_time": "2024-05-23T05:41:49.955Z"
   },
   {
    "duration": 42,
    "start_time": "2024-05-23T05:41:49.995Z"
   },
   {
    "duration": 41,
    "start_time": "2024-05-23T05:41:50.039Z"
   },
   {
    "duration": 38,
    "start_time": "2024-05-23T05:41:50.083Z"
   },
   {
    "duration": 16,
    "start_time": "2024-05-23T05:41:50.123Z"
   },
   {
    "duration": 158,
    "start_time": "2024-05-23T05:41:50.140Z"
   },
   {
    "duration": 68,
    "start_time": "2024-05-23T05:41:50.300Z"
   },
   {
    "duration": 1484,
    "start_time": "2024-05-23T05:41:50.369Z"
   },
   {
    "duration": 1063,
    "start_time": "2024-05-23T05:41:51.854Z"
   },
   {
    "duration": 1268,
    "start_time": "2024-05-23T05:41:52.919Z"
   },
   {
    "duration": 6,
    "start_time": "2024-05-23T05:41:54.190Z"
   },
   {
    "duration": 29,
    "start_time": "2024-05-23T05:41:54.197Z"
   },
   {
    "duration": 419,
    "start_time": "2024-05-23T05:41:54.228Z"
   },
   {
    "duration": 80,
    "start_time": "2024-05-23T05:41:54.649Z"
   },
   {
    "duration": 5,
    "start_time": "2024-05-23T05:41:54.732Z"
   },
   {
    "duration": 94,
    "start_time": "2024-05-23T05:41:54.739Z"
   },
   {
    "duration": 14,
    "start_time": "2024-05-23T05:41:54.835Z"
   },
   {
    "duration": 13,
    "start_time": "2024-05-23T05:41:54.850Z"
   },
   {
    "duration": 9,
    "start_time": "2024-05-23T05:41:54.865Z"
   },
   {
    "duration": 9,
    "start_time": "2024-05-23T05:41:54.876Z"
   },
   {
    "duration": 12,
    "start_time": "2024-05-23T05:41:54.887Z"
   },
   {
    "duration": 1610,
    "start_time": "2024-05-23T05:41:54.902Z"
   },
   {
    "duration": 1534,
    "start_time": "2024-05-23T05:41:56.514Z"
   },
   {
    "duration": 1497,
    "start_time": "2024-05-23T05:41:58.051Z"
   },
   {
    "duration": 11,
    "start_time": "2024-05-23T05:41:59.550Z"
   },
   {
    "duration": 13,
    "start_time": "2024-05-23T05:41:59.563Z"
   },
   {
    "duration": 9,
    "start_time": "2024-05-23T05:41:59.578Z"
   }
  ],
  "kernelspec": {
   "display_name": "Python 3 (ipykernel)",
   "language": "python",
   "name": "python3"
  },
  "language_info": {
   "codemirror_mode": {
    "name": "ipython",
    "version": 3
   },
   "file_extension": ".py",
   "mimetype": "text/x-python",
   "name": "python",
   "nbconvert_exporter": "python",
   "pygments_lexer": "ipython3",
   "version": "3.9.5"
  },
  "toc": {
   "base_numbering": 1,
   "nav_menu": {},
   "number_sections": true,
   "sideBar": true,
   "skip_h1_title": true,
   "title_cell": "Table of Contents",
   "title_sidebar": "Contents",
   "toc_cell": false,
   "toc_position": {
    "height": "calc(100% - 180px)",
    "left": "10px",
    "top": "150px",
    "width": "165px"
   },
   "toc_section_display": true,
   "toc_window_display": true
  }
 },
 "nbformat": 4,
 "nbformat_minor": 2
}
