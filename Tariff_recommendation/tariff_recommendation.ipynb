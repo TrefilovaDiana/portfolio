{
 "cells": [
  {
   "cell_type": "markdown",
   "metadata": {},
   "source": [
    "# Рекомендация тарифов"
   ]
  },
  {
   "cell_type": "markdown",
   "metadata": {},
   "source": [
    "# Задача\n",
    "\n",
    "Нужно построить модель для задачи классификации способную проанализировать поведение клиентов и предложить пользователям новый тариф: «Смарт» или «Ультра»).\n",
    "\n",
    "Доля правильных ответов должна быть не менее 75%.\n",
    "\n",
    "Предобработка данных не требуется (она проведена в предыдущей работе)."
   ]
  },
  {
   "cell_type": "markdown",
   "metadata": {},
   "source": [
    "# План\n",
    "\n",
    "**1. Обзор данных.**\n",
    "\n",
    "**2. Разделение данных по выборкам.**\n",
    "\n",
    "**3. Исследование моделей.**\n",
    "- Решающее дерево;\n",
    "- Случайный лес;\n",
    "- Логистическая регрессия.\n",
    "\n",
    "**4. Проверка лучшей модели на тестовой выборке.**\n",
    "\n",
    "**5. Проверка модели на адекватность.**\n",
    "\n",
    "**6. Выводы.**"
   ]
  },
  {
   "cell_type": "markdown",
   "metadata": {},
   "source": [
    "## Обзор данных"
   ]
  },
  {
   "cell_type": "code",
   "execution_count": 1,
   "metadata": {},
   "outputs": [],
   "source": [
    "import pandas as pd\n",
    "from sklearn.model_selection import train_test_split\n",
    "from sklearn.tree import DecisionTreeClassifier\n",
    "from sklearn.metrics import accuracy_score\n",
    "from sklearn.ensemble import RandomForestClassifier\n",
    "from sklearn.linear_model import LogisticRegression\n",
    "from sklearn.dummy import DummyClassifier"
   ]
  },
  {
   "cell_type": "code",
   "execution_count": 2,
   "metadata": {},
   "outputs": [
    {
     "name": "stdout",
     "output_type": "stream",
     "text": [
      "<class 'pandas.core.frame.DataFrame'>\n",
      "RangeIndex: 3214 entries, 0 to 3213\n",
      "Data columns (total 5 columns):\n",
      " #   Column    Non-Null Count  Dtype  \n",
      "---  ------    --------------  -----  \n",
      " 0   calls     3214 non-null   float64\n",
      " 1   minutes   3214 non-null   float64\n",
      " 2   messages  3214 non-null   float64\n",
      " 3   mb_used   3214 non-null   float64\n",
      " 4   is_ultra  3214 non-null   int64  \n",
      "dtypes: float64(4), int64(1)\n",
      "memory usage: 125.7 KB\n"
     ]
    }
   ],
   "source": [
    "df = pd.read_csv('/datasets/users_behavior.csv')\n",
    "df.info()"
   ]
  },
  {
   "cell_type": "code",
   "execution_count": 3,
   "metadata": {},
   "outputs": [
    {
     "name": "stdout",
     "output_type": "stream",
     "text": [
      "30.647168637212197\n"
     ]
    }
   ],
   "source": [
    "print(df.loc[df['is_ultra'] == 1, 'is_ultra'].count() / len(df) * 100)"
   ]
  },
  {
   "cell_type": "markdown",
   "metadata": {},
   "source": [
    "Пропусков в данных нет.\n",
    "\n",
    "Из всего набора данных только 30% отоносятся к тарифу \"Ультра\", а значит нашим моделям будет сложнее научиться определять, когда предлагать этот тариф."
   ]
  },
  {
   "cell_type": "markdown",
   "metadata": {},
   "source": [
    "## Разделение данных на выборки"
   ]
  },
  {
   "cell_type": "code",
   "execution_count": 4,
   "metadata": {},
   "outputs": [
    {
     "name": "stdout",
     "output_type": "stream",
     "text": [
      "(1928, 4)\n",
      "(1928,)\n",
      "(643, 4)\n",
      "(643,)\n",
      "(643, 4)\n",
      "(643,)\n"
     ]
    }
   ],
   "source": [
    "features = df.drop(['is_ultra'], axis=1)\n",
    "target = df['is_ultra']\n",
    "\n",
    "# Разобьем данные на обучающую, валидационную и тестовую выборки\n",
    "features_train, features_ost, target_train, target_ost = train_test_split(\n",
    "   features, target, test_size=0.4, random_state=12345, stratify=target)\n",
    "features_valid, features_test, target_valid, target_test = train_test_split(\n",
    "   features_ost, target_ost, test_size=0.5, random_state=12345, stratify=target_ost)\n",
    "\n",
    "print(features_train.shape)\n",
    "print(target_train.shape)\n",
    "print(features_valid.shape)\n",
    "print(target_valid.shape)\n",
    "print(features_test.shape)\n",
    "print(target_test.shape)"
   ]
  },
  {
   "cell_type": "markdown",
   "metadata": {},
   "source": [
    "## Исследование моделей"
   ]
  },
  {
   "cell_type": "markdown",
   "metadata": {},
   "source": [
    "### Решающее дерево"
   ]
  },
  {
   "cell_type": "code",
   "execution_count": 5,
   "metadata": {},
   "outputs": [
    {
     "name": "stdout",
     "output_type": "stream",
     "text": [
      "Глубина: 8\n",
      "Accuracy наилучшей модели на валидационной выборке: 0.80248833592535\n"
     ]
    }
   ],
   "source": [
    "tree_model = None\n",
    "best_result = 0\n",
    "best_depth = 0\n",
    "\n",
    "for depth in range(1, 10):\n",
    "    model = DecisionTreeClassifier(random_state=12345, max_depth=depth)\n",
    "    model.fit(features_train, target_train)\n",
    "\n",
    "    predictions_valid = model.predict(features_valid)\n",
    "    result = accuracy_score(target_valid, predictions_valid)\n",
    "    if result > best_result:\n",
    "            tree_model = model\n",
    "            best_result = result\n",
    "            best_depth = depth\n",
    "\n",
    "print(\"Глубина:\", best_depth)\n",
    "print(\"Accuracy наилучшей модели на валидационной выборке:\", best_result)"
   ]
  },
  {
   "cell_type": "markdown",
   "metadata": {},
   "source": [
    "Лучший показатель accuracy для решающего дерева 0.8 при глубине 8."
   ]
  },
  {
   "cell_type": "markdown",
   "metadata": {},
   "source": [
    "### Случайный лес"
   ]
  },
  {
   "cell_type": "code",
   "execution_count": 6,
   "metadata": {},
   "outputs": [
    {
     "name": "stdout",
     "output_type": "stream",
     "text": [
      "Кол-во деревьев: 22\n",
      "Глубина: 8\n",
      "Accuracy наилучшей модели на валидационной выборке: 0.8149300155520995\n"
     ]
    }
   ],
   "source": [
    "random_forest_model = None\n",
    "best_result = 0\n",
    "best_est = 0\n",
    "best_depth = 0\n",
    "\n",
    "for depth in range(1, 10):\n",
    "    for est in range(1, 25):\n",
    "        model = RandomForestClassifier(n_estimators=est, max_depth=depth, random_state=12345)\n",
    "        model.fit(features_train, target_train)\n",
    "        result = model.score(features_valid, target_valid)\n",
    "        if result > best_result:\n",
    "            random_forest_model = model\n",
    "            best_result = result\n",
    "            best_est = est\n",
    "            best_depth = depth\n",
    "\n",
    "print('Кол-во деревьев:', best_est)\n",
    "print('Глубина:', best_depth)\n",
    "print(\"Accuracy наилучшей модели на валидационной выборке:\", best_result)"
   ]
  },
  {
   "cell_type": "markdown",
   "metadata": {},
   "source": [
    "Лучший показатель accuracy для случайного леса 0.82 при кол-ве деревьев 22 и глубине 8."
   ]
  },
  {
   "cell_type": "markdown",
   "metadata": {},
   "source": [
    "### Логистическая регрессия"
   ]
  },
  {
   "cell_type": "code",
   "execution_count": 7,
   "metadata": {},
   "outputs": [
    {
     "name": "stdout",
     "output_type": "stream",
     "text": [
      "Кол-во итераций: 100\n",
      "Accuracy наилучшей модели на валидационной выборке: 0.7387247278382582\n"
     ]
    }
   ],
   "source": [
    "regression_model = None\n",
    "best_result = 0\n",
    "best_iter = 0\n",
    "\n",
    "for i in range(100, 1000, 100):\n",
    "    model = LogisticRegression(random_state=12345, solver='lbfgs', max_iter=i) \n",
    "    model.fit(features_train, target_train)\n",
    "    result = model.score(features_valid, target_valid)\n",
    "    if result > best_result:\n",
    "            regression_model = model\n",
    "            best_result = result\n",
    "            best_iter = i\n",
    "            \n",
    "print('Кол-во итераций:', best_iter)\n",
    "print(\"Accuracy наилучшей модели на валидационной выборке:\", best_result)"
   ]
  },
  {
   "cell_type": "markdown",
   "metadata": {},
   "source": [
    "Лучший показатель accuracy для логистической регресии 0.73 с количеством итераций 100."
   ]
  },
  {
   "cell_type": "markdown",
   "metadata": {},
   "source": [
    "Лучший результат на валидационной выборке показал случайный лес с accuracy 0.82, количеством деревьев 22 и глубиной 8."
   ]
  },
  {
   "cell_type": "markdown",
   "metadata": {},
   "source": [
    "## Проверка лучшей модели на тестовой выборке"
   ]
  },
  {
   "cell_type": "code",
   "execution_count": 8,
   "metadata": {},
   "outputs": [
    {
     "name": "stdout",
     "output_type": "stream",
     "text": [
      "Случайный лес: 0.8009331259720062\n"
     ]
    }
   ],
   "source": [
    "#Проверим модель на тестовой выборке.\n",
    "final_features_train = pd.concat([features_train, features_valid])\n",
    "final_target_train = pd.concat([target_train, target_valid])\n",
    "model = RandomForestClassifier(random_state=12345, n_estimators=22, max_depth=8)\n",
    "model.fit(final_features_train, final_target_train)\n",
    "random_forest_model_result = random_forest_model.score(features_test, target_test)\n",
    "\n",
    "print('Случайный лес:', random_forest_model_result)"
   ]
  },
  {
   "cell_type": "markdown",
   "metadata": {},
   "source": [
    "На тестовой выборке модель случайного леса показала точность в 0.8."
   ]
  },
  {
   "cell_type": "markdown",
   "metadata": {},
   "source": [
    "## Проверка модели на адекватность"
   ]
  },
  {
   "cell_type": "code",
   "execution_count": 9,
   "metadata": {},
   "outputs": [
    {
     "name": "stdout",
     "output_type": "stream",
     "text": [
      "Точность константной модели: 0.6936236391912908\n"
     ]
    }
   ],
   "source": [
    "dummy_cl = DummyClassifier(strategy='most_frequent', random_state=1)\n",
    "dummy_cl.fit(features_train, target_train)\n",
    "dummy_cl.predict(features_test)\n",
    "print('Точность константной модели:', dummy_cl.score(features_test, target_test))"
   ]
  },
  {
   "cell_type": "markdown",
   "metadata": {},
   "source": [
    "## Выводы"
   ]
  },
  {
   "cell_type": "markdown",
   "metadata": {},
   "source": [
    "В ходе работы мы построили 3 различных модели для решения задачи классификации:\n",
    "1. Модель решающего дерева показала точность 0,8 при глубине 8.\n",
    "2. Модель случайного леса показала точность 0,82 при кол-ве деревьев 22 и глубине 8.\n",
    "3. Модель логистической регрессии показала точность  0,73 с количеством итераций 100.\n",
    "\n",
    "Для проверки на тестовой выборке мы выбрали лучшую модель: модель случайного леса. Ее точность на тестовой выборке составила 0,8. Для нас требовалось построить модель с точность не менее 0,78. Наша модель соответствует этому требованию.\n",
    "\n",
    "Также мы проверили нашу модель на адекватность, построив константную модель, которая показала точность 0,69. Наша модель случайного леса показывает лучший результат."
   ]
  }
 ],
 "metadata": {
  "ExecuteTimeLog": [
   {
    "duration": 434,
    "start_time": "2023-04-29T05:16:41.321Z"
   },
   {
    "duration": 93,
    "start_time": "2023-04-29T05:20:52.686Z"
   },
   {
    "duration": 669,
    "start_time": "2023-04-29T05:21:11.792Z"
   },
   {
    "duration": 22,
    "start_time": "2023-04-29T05:22:02.560Z"
   },
   {
    "duration": 100,
    "start_time": "2023-04-29T05:27:56.008Z"
   },
   {
    "duration": 171,
    "start_time": "2023-04-29T05:28:08.360Z"
   },
   {
    "duration": 185,
    "start_time": "2023-04-29T05:28:26.736Z"
   },
   {
    "duration": 62,
    "start_time": "2023-04-29T05:28:44.967Z"
   },
   {
    "duration": 79,
    "start_time": "2023-04-29T05:34:53.489Z"
   },
   {
    "duration": 40,
    "start_time": "2023-04-29T05:35:51.449Z"
   },
   {
    "duration": 4801,
    "start_time": "2023-04-29T05:36:49.646Z"
   },
   {
    "duration": 49,
    "start_time": "2023-04-29T05:38:17.156Z"
   },
   {
    "duration": 31,
    "start_time": "2023-04-29T05:38:33.570Z"
   },
   {
    "duration": 4411,
    "start_time": "2023-04-29T05:40:10.297Z"
   },
   {
    "duration": 36300,
    "start_time": "2023-04-29T05:40:45.144Z"
   },
   {
    "duration": 0,
    "start_time": "2023-04-29T05:42:32.462Z"
   },
   {
    "duration": 6135,
    "start_time": "2023-04-29T05:42:37.751Z"
   },
   {
    "duration": 7944,
    "start_time": "2023-04-29T05:43:22.125Z"
   },
   {
    "duration": 8116,
    "start_time": "2023-04-29T05:46:05.835Z"
   },
   {
    "duration": 39564,
    "start_time": "2023-04-29T05:46:21.562Z"
   },
   {
    "duration": 38775,
    "start_time": "2023-04-29T05:47:07.392Z"
   },
   {
    "duration": 13631,
    "start_time": "2023-04-29T05:48:18.375Z"
   },
   {
    "duration": 33831,
    "start_time": "2023-04-29T05:48:43.535Z"
   },
   {
    "duration": 6458,
    "start_time": "2023-04-29T05:54:23.502Z"
   },
   {
    "duration": 183,
    "start_time": "2023-04-29T05:54:43.119Z"
   },
   {
    "duration": 195,
    "start_time": "2023-04-29T05:55:57.342Z"
   },
   {
    "duration": 2001,
    "start_time": "2023-04-29T05:56:04.797Z"
   },
   {
    "duration": 240,
    "start_time": "2023-04-29T05:56:30.669Z"
   },
   {
    "duration": 1649,
    "start_time": "2023-04-29T05:56:45.645Z"
   },
   {
    "duration": 712,
    "start_time": "2023-04-29T05:58:29.090Z"
   },
   {
    "duration": 172,
    "start_time": "2023-04-29T05:58:52.833Z"
   },
   {
    "duration": 158,
    "start_time": "2023-04-29T05:58:59.834Z"
   },
   {
    "duration": 217,
    "start_time": "2023-04-29T05:59:21.641Z"
   },
   {
    "duration": 198,
    "start_time": "2023-04-29T05:59:29.082Z"
   },
   {
    "duration": 385,
    "start_time": "2023-04-29T05:59:36.553Z"
   },
   {
    "duration": 589,
    "start_time": "2023-04-29T05:59:41.041Z"
   },
   {
    "duration": 1995,
    "start_time": "2023-04-29T05:59:46.689Z"
   },
   {
    "duration": 2045,
    "start_time": "2023-04-29T05:59:57.089Z"
   },
   {
    "duration": 367,
    "start_time": "2023-04-29T06:00:04.586Z"
   },
   {
    "duration": 69,
    "start_time": "2023-04-29T06:01:47.359Z"
   },
   {
    "duration": 34039,
    "start_time": "2023-04-29T06:02:30.630Z"
   },
   {
    "duration": 11493,
    "start_time": "2023-04-29T06:03:10.273Z"
   },
   {
    "duration": 183,
    "start_time": "2023-04-29T06:03:45.886Z"
   },
   {
    "duration": 77,
    "start_time": "2023-04-29T06:06:26.498Z"
   },
   {
    "duration": 58,
    "start_time": "2023-04-29T06:07:04.604Z"
   },
   {
    "duration": 66,
    "start_time": "2023-04-29T06:07:09.185Z"
   },
   {
    "duration": 62,
    "start_time": "2023-04-29T06:07:18.840Z"
   },
   {
    "duration": 6,
    "start_time": "2023-04-29T06:11:36.170Z"
   },
   {
    "duration": 6,
    "start_time": "2023-04-29T06:12:23.217Z"
   },
   {
    "duration": 15,
    "start_time": "2023-04-29T06:13:45.968Z"
   },
   {
    "duration": 28,
    "start_time": "2023-04-29T06:14:10.414Z"
   },
   {
    "duration": 32,
    "start_time": "2023-04-29T06:14:20.224Z"
   },
   {
    "duration": 17,
    "start_time": "2023-04-29T06:14:47.567Z"
   },
   {
    "duration": 439,
    "start_time": "2023-04-29T06:17:16.517Z"
   },
   {
    "duration": 741,
    "start_time": "2023-04-29T06:17:16.958Z"
   },
   {
    "duration": 146,
    "start_time": "2023-04-29T06:17:17.701Z"
   },
   {
    "duration": 0,
    "start_time": "2023-04-29T06:17:17.849Z"
   },
   {
    "duration": 0,
    "start_time": "2023-04-29T06:17:17.850Z"
   },
   {
    "duration": 59,
    "start_time": "2023-04-29T06:18:34.506Z"
   },
   {
    "duration": 455,
    "start_time": "2023-04-29T06:18:48.205Z"
   },
   {
    "duration": 695,
    "start_time": "2023-04-29T06:18:48.662Z"
   },
   {
    "duration": 135,
    "start_time": "2023-04-29T06:18:49.358Z"
   },
   {
    "duration": 11752,
    "start_time": "2023-04-29T06:18:49.498Z"
   },
   {
    "duration": 207,
    "start_time": "2023-04-29T06:19:01.252Z"
   },
   {
    "duration": 451,
    "start_time": "2023-04-29T06:33:37.029Z"
   },
   {
    "duration": 1940,
    "start_time": "2023-04-29T06:33:37.483Z"
   },
   {
    "duration": 87,
    "start_time": "2023-04-29T06:33:39.425Z"
   },
   {
    "duration": 10711,
    "start_time": "2023-04-29T06:33:39.515Z"
   },
   {
    "duration": 172,
    "start_time": "2023-04-29T06:33:50.237Z"
   },
   {
    "duration": 29,
    "start_time": "2023-04-29T06:33:50.411Z"
   },
   {
    "duration": 1099,
    "start_time": "2023-04-29T10:31:56.325Z"
   },
   {
    "duration": 72,
    "start_time": "2023-04-29T10:35:04.185Z"
   },
   {
    "duration": 13,
    "start_time": "2023-04-29T10:36:09.292Z"
   },
   {
    "duration": 5,
    "start_time": "2023-04-29T10:36:21.533Z"
   },
   {
    "duration": 5,
    "start_time": "2023-04-29T10:36:39.000Z"
   },
   {
    "duration": 48,
    "start_time": "2023-04-29T10:37:16.575Z"
   },
   {
    "duration": 7,
    "start_time": "2023-04-29T10:37:22.819Z"
   },
   {
    "duration": 7,
    "start_time": "2023-04-29T10:37:33.714Z"
   },
   {
    "duration": 1071,
    "start_time": "2023-04-29T10:40:08.599Z"
   },
   {
    "duration": 40,
    "start_time": "2023-04-29T10:40:10.536Z"
   },
   {
    "duration": 7,
    "start_time": "2023-04-29T10:40:13.247Z"
   },
   {
    "duration": 8,
    "start_time": "2023-04-29T10:40:20.127Z"
   },
   {
    "duration": 58,
    "start_time": "2023-04-29T10:41:10.022Z"
   },
   {
    "duration": 58,
    "start_time": "2023-04-29T10:41:32.047Z"
   },
   {
    "duration": 2306,
    "start_time": "2023-04-29T10:48:04.685Z"
   },
   {
    "duration": 293,
    "start_time": "2023-04-29T10:48:24.309Z"
   },
   {
    "duration": 23104,
    "start_time": "2023-04-29T10:49:20.116Z"
   },
   {
    "duration": 97,
    "start_time": "2023-04-29T10:51:11.370Z"
   },
   {
    "duration": 3,
    "start_time": "2023-04-29T10:51:22.825Z"
   },
   {
    "duration": 6759,
    "start_time": "2023-04-29T10:51:35.369Z"
   },
   {
    "duration": 1230,
    "start_time": "2023-04-29T10:51:51.272Z"
   },
   {
    "duration": 187,
    "start_time": "2023-04-29T10:54:20.238Z"
   },
   {
    "duration": 18,
    "start_time": "2023-04-29T10:55:14.933Z"
   },
   {
    "duration": 13,
    "start_time": "2023-04-29T10:57:05.992Z"
   },
   {
    "duration": 11,
    "start_time": "2023-04-29T10:59:00.377Z"
   },
   {
    "duration": 13,
    "start_time": "2023-04-29T10:59:50.584Z"
   },
   {
    "duration": 18,
    "start_time": "2023-04-29T11:00:00.183Z"
   },
   {
    "duration": 120,
    "start_time": "2023-04-29T11:01:31.174Z"
   },
   {
    "duration": 1093,
    "start_time": "2023-04-29T11:06:21.573Z"
   },
   {
    "duration": 37,
    "start_time": "2023-04-29T11:06:22.668Z"
   },
   {
    "duration": 4,
    "start_time": "2023-04-29T11:06:22.707Z"
   },
   {
    "duration": 7,
    "start_time": "2023-04-29T11:06:22.713Z"
   },
   {
    "duration": 57,
    "start_time": "2023-04-29T11:06:22.722Z"
   },
   {
    "duration": 1288,
    "start_time": "2023-04-29T11:06:22.781Z"
   },
   {
    "duration": 223,
    "start_time": "2023-04-29T11:06:24.072Z"
   },
   {
    "duration": 1115,
    "start_time": "2024-05-03T05:02:51.926Z"
   },
   {
    "duration": 103,
    "start_time": "2024-05-03T05:02:53.043Z"
   },
   {
    "duration": 6,
    "start_time": "2024-05-03T05:02:53.148Z"
   },
   {
    "duration": 114,
    "start_time": "2024-05-03T05:02:59.085Z"
   },
   {
    "duration": 11,
    "start_time": "2024-05-03T05:04:18.331Z"
   },
   {
    "duration": 63,
    "start_time": "2024-05-03T05:07:02.663Z"
   },
   {
    "duration": 1351,
    "start_time": "2024-05-03T05:08:11.792Z"
   },
   {
    "duration": 289,
    "start_time": "2024-05-03T05:09:31.646Z"
   },
   {
    "duration": 51,
    "start_time": "2024-05-03T05:13:22.683Z"
   },
   {
    "duration": 64999,
    "start_time": "2024-05-03T05:13:50.207Z"
   },
   {
    "duration": 7560,
    "start_time": "2024-05-03T05:15:24.294Z"
   },
   {
    "duration": 102,
    "start_time": "2024-05-03T05:19:35.834Z"
   },
   {
    "duration": 3,
    "start_time": "2024-05-03T05:25:22.466Z"
   },
   {
    "duration": 53,
    "start_time": "2024-05-03T05:27:42.524Z"
   },
   {
    "duration": 6,
    "start_time": "2024-05-03T05:27:55.084Z"
   },
   {
    "duration": 6,
    "start_time": "2024-05-03T05:28:22.883Z"
   },
   {
    "duration": 1208,
    "start_time": "2024-05-03T05:30:43.342Z"
   },
   {
    "duration": 38,
    "start_time": "2024-05-03T05:30:44.553Z"
   },
   {
    "duration": 19,
    "start_time": "2024-05-03T05:30:44.593Z"
   },
   {
    "duration": 22,
    "start_time": "2024-05-03T05:30:44.614Z"
   },
   {
    "duration": 72,
    "start_time": "2024-05-03T05:30:44.638Z"
   },
   {
    "duration": 7615,
    "start_time": "2024-05-03T05:30:44.712Z"
   },
   {
    "duration": 334,
    "start_time": "2024-05-03T05:30:52.329Z"
   },
   {
    "duration": 96,
    "start_time": "2024-05-03T05:30:52.665Z"
   },
   {
    "duration": 5,
    "start_time": "2024-05-03T05:30:52.763Z"
   }
  ],
  "kernelspec": {
   "display_name": "Python 3 (ipykernel)",
   "language": "python",
   "name": "python3"
  },
  "language_info": {
   "codemirror_mode": {
    "name": "ipython",
    "version": 3
   },
   "file_extension": ".py",
   "mimetype": "text/x-python",
   "name": "python",
   "nbconvert_exporter": "python",
   "pygments_lexer": "ipython3",
   "version": "3.9.5"
  },
  "toc": {
   "base_numbering": 1,
   "nav_menu": {},
   "number_sections": true,
   "sideBar": true,
   "skip_h1_title": true,
   "title_cell": "Table of Contents",
   "title_sidebar": "Contents",
   "toc_cell": false,
   "toc_position": {},
   "toc_section_display": true,
   "toc_window_display": false
  }
 },
 "nbformat": 4,
 "nbformat_minor": 2
}
