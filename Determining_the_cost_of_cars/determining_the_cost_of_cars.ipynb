{
 "cells": [
  {
   "cell_type": "markdown",
   "metadata": {},
   "source": [
    "# Определение стоимости автомобилей"
   ]
  },
  {
   "cell_type": "markdown",
   "metadata": {},
   "source": [
    "# Задача"
   ]
  },
  {
   "cell_type": "markdown",
   "metadata": {},
   "source": [
    "Сервис по продаже автомобилей с пробегом «Не бит, не крашен» разрабатывает приложение для привлечения новых клиентов. В нём можно быстро узнать рыночную стоимость своего автомобиля. В нашем распоряжении исторические данные: технические характеристики, комплектации и цены автомобилей. Нам нужно построить модель для определения стоимости. \n",
    "\n",
    "Заказчику важны:\n",
    "\n",
    "- качество предсказания;\n",
    "- скорость предсказания;\n",
    "- время обучения."
   ]
  },
  {
   "cell_type": "markdown",
   "metadata": {},
   "source": [
    "# План"
   ]
  },
  {
   "cell_type": "markdown",
   "metadata": {},
   "source": [
    "**1. Подготовка данных.**\n",
    "\n",
    "**2. Обучение моделей.**\n",
    "\n",
    "**3. Анализ моделей.**\n",
    "\n",
    "**4. Выводы.**"
   ]
  },
  {
   "cell_type": "markdown",
   "metadata": {},
   "source": [
    "## Подготовка данных"
   ]
  },
  {
   "cell_type": "code",
   "execution_count": 1,
   "metadata": {},
   "outputs": [
    {
     "name": "stdout",
     "output_type": "stream",
     "text": [
      "Requirement already satisfied: scikit-learn==1.1.3 in /opt/conda/lib/python3.9/site-packages (1.1.3)\r\n",
      "Requirement already satisfied: numpy>=1.17.3 in /opt/conda/lib/python3.9/site-packages (from scikit-learn==1.1.3) (1.21.1)\r\n",
      "Requirement already satisfied: joblib>=1.0.0 in /opt/conda/lib/python3.9/site-packages (from scikit-learn==1.1.3) (1.1.0)\r\n",
      "Requirement already satisfied: scipy>=1.3.2 in /opt/conda/lib/python3.9/site-packages (from scikit-learn==1.1.3) (1.9.1)\r\n",
      "Requirement already satisfied: threadpoolctl>=2.0.0 in /opt/conda/lib/python3.9/site-packages (from scikit-learn==1.1.3) (3.1.0)\r\n"
     ]
    }
   ],
   "source": [
    "!pip install scikit-learn==1.1.3"
   ]
  },
  {
   "cell_type": "code",
   "execution_count": 2,
   "metadata": {},
   "outputs": [
    {
     "name": "stdout",
     "output_type": "stream",
     "text": [
      "Requirement already satisfied: lightgbm in /opt/conda/lib/python3.9/site-packages (3.3.1)\n",
      "Requirement already satisfied: scipy in /opt/conda/lib/python3.9/site-packages (from lightgbm) (1.9.1)\n",
      "Requirement already satisfied: numpy in /opt/conda/lib/python3.9/site-packages (from lightgbm) (1.21.1)\n",
      "Requirement already satisfied: scikit-learn!=0.22.0 in /opt/conda/lib/python3.9/site-packages (from lightgbm) (1.1.3)\n",
      "Requirement already satisfied: wheel in /opt/conda/lib/python3.9/site-packages (from lightgbm) (0.36.2)\n",
      "Requirement already satisfied: threadpoolctl>=2.0.0 in /opt/conda/lib/python3.9/site-packages (from scikit-learn!=0.22.0->lightgbm) (3.1.0)\n",
      "Requirement already satisfied: joblib>=1.0.0 in /opt/conda/lib/python3.9/site-packages (from scikit-learn!=0.22.0->lightgbm) (1.1.0)\n"
     ]
    }
   ],
   "source": [
    "!pip install lightgbm"
   ]
  },
  {
   "cell_type": "code",
   "execution_count": 3,
   "metadata": {},
   "outputs": [],
   "source": [
    "import warnings\n",
    "\n",
    "import numpy as np\n",
    "import pandas as pd\n",
    "import matplotlib.pyplot as plt\n",
    "import re\n",
    "\n",
    "from sklearn.ensemble import RandomForestRegressor\n",
    "from sklearn.linear_model import LinearRegression\n",
    "from sklearn.dummy import DummyRegressor\n",
    "import lightgbm\n",
    "from lightgbm import LGBMRegressor\n",
    "from sklearn.metrics import mean_squared_error\n",
    "from sklearn.model_selection import (\n",
    "    GridSearchCV, \n",
    "    RandomizedSearchCV,\n",
    "    train_test_split\n",
    ")\n",
    "from sklearn.pipeline import make_pipeline\n",
    "from sklearn.preprocessing import (\n",
    "    OneHotEncoder,\n",
    "    OrdinalEncoder,\n",
    "    StandardScaler\n",
    ")\n",
    "\n",
    "from sklearn.compose import make_column_transformer\n",
    "\n",
    "# настройки\n",
    "warnings.filterwarnings(\"ignore\")\n",
    "\n",
    "RANDOM_STATE = 42"
   ]
  },
  {
   "cell_type": "code",
   "execution_count": 4,
   "metadata": {},
   "outputs": [],
   "source": [
    "def reduce_mem_usage(df):\n",
    "    \"\"\" iterate through all the columns of a dataframe and modify the data type\n",
    "        to reduce memory usage.        \n",
    "    \"\"\"\n",
    "    start_mem = df.memory_usage().sum() / 1024**2\n",
    "    print('Memory usage of dataframe is {:.2f} MB'.format(start_mem))\n",
    "    \n",
    "    for col in df.columns:\n",
    "        col_type = df[col].dtype\n",
    "        \n",
    "        if col_type != object:\n",
    "            c_min = df[col].min()\n",
    "            c_max = df[col].max()\n",
    "            if str(col_type)[:3] == 'int':\n",
    "                if c_min > np.iinfo(np.int8).min and c_max < np.iinfo(np.int8).max:\n",
    "                    df[col] = df[col].astype(np.int8)\n",
    "                elif c_min > np.iinfo(np.int16).min and c_max < np.iinfo(np.int16).max:\n",
    "                    df[col] = df[col].astype(np.int16)\n",
    "                elif c_min > np.iinfo(np.int32).min and c_max < np.iinfo(np.int32).max:\n",
    "                    df[col] = df[col].astype(np.int32)\n",
    "                elif c_min > np.iinfo(np.int64).min and c_max < np.iinfo(np.int64).max:\n",
    "                    df[col] = df[col].astype(np.int64)  \n",
    "            else:\n",
    "                if c_min > np.finfo(np.float16).min and c_max < np.finfo(np.float16).max:\n",
    "                    df[col] = df[col].astype(np.float16)\n",
    "                elif c_min > np.finfo(np.float32).min and c_max < np.finfo(np.float32).max:\n",
    "                    df[col] = df[col].astype(np.float32)\n",
    "                else:\n",
    "                    df[col] = df[col].astype(np.float64)\n",
    "        else:\n",
    "            df[col] = df[col].astype('object')\n",
    "\n",
    "    end_mem = df.memory_usage().sum() / 1024**2\n",
    "    print('Memory usage after optimization is: {:.2f} MB'.format(end_mem))\n",
    "    print('Decreased by {:.1f}%'.format(100 * (start_mem - end_mem) / start_mem))\n",
    "    \n",
    "    return df\n",
    "\n",
    "\n",
    "def import_data(file):\n",
    "    \"\"\"create a dataframe and optimize its memory usage\"\"\"\n",
    "    df = pd.read_csv(file, parse_dates=True, keep_date_col=True)\n",
    "    df = reduce_mem_usage(df)\n",
    "    return df"
   ]
  },
  {
   "cell_type": "code",
   "execution_count": 5,
   "metadata": {},
   "outputs": [
    {
     "name": "stdout",
     "output_type": "stream",
     "text": [
      "--------------------------------------------------------------------------------\n",
      "auto_data\n",
      "Memory usage of dataframe is 43.26 MB\n",
      "Memory usage after optimization is: 29.74 MB\n",
      "Decreased by 31.2%\n"
     ]
    }
   ],
   "source": [
    "print('-' * 80)\n",
    "print('auto_data')\n",
    "auto_data = import_data('/datasets/autos.csv')"
   ]
  },
  {
   "cell_type": "code",
   "execution_count": 6,
   "metadata": {},
   "outputs": [
    {
     "data": {
      "text/html": [
       "<div>\n",
       "<style scoped>\n",
       "    .dataframe tbody tr th:only-of-type {\n",
       "        vertical-align: middle;\n",
       "    }\n",
       "\n",
       "    .dataframe tbody tr th {\n",
       "        vertical-align: top;\n",
       "    }\n",
       "\n",
       "    .dataframe thead th {\n",
       "        text-align: right;\n",
       "    }\n",
       "</style>\n",
       "<table border=\"1\" class=\"dataframe\">\n",
       "  <thead>\n",
       "    <tr style=\"text-align: right;\">\n",
       "      <th></th>\n",
       "      <th>DateCrawled</th>\n",
       "      <th>Price</th>\n",
       "      <th>VehicleType</th>\n",
       "      <th>RegistrationYear</th>\n",
       "      <th>Gearbox</th>\n",
       "      <th>Power</th>\n",
       "      <th>Model</th>\n",
       "      <th>Kilometer</th>\n",
       "      <th>RegistrationMonth</th>\n",
       "      <th>FuelType</th>\n",
       "      <th>Brand</th>\n",
       "      <th>Repaired</th>\n",
       "      <th>DateCreated</th>\n",
       "      <th>NumberOfPictures</th>\n",
       "      <th>PostalCode</th>\n",
       "      <th>LastSeen</th>\n",
       "    </tr>\n",
       "  </thead>\n",
       "  <tbody>\n",
       "    <tr>\n",
       "      <th>0</th>\n",
       "      <td>2016-03-24 11:52:17</td>\n",
       "      <td>480</td>\n",
       "      <td>NaN</td>\n",
       "      <td>1993</td>\n",
       "      <td>manual</td>\n",
       "      <td>0</td>\n",
       "      <td>golf</td>\n",
       "      <td>150000</td>\n",
       "      <td>0</td>\n",
       "      <td>petrol</td>\n",
       "      <td>volkswagen</td>\n",
       "      <td>NaN</td>\n",
       "      <td>2016-03-24 00:00:00</td>\n",
       "      <td>0</td>\n",
       "      <td>70435</td>\n",
       "      <td>2016-04-07 03:16:57</td>\n",
       "    </tr>\n",
       "    <tr>\n",
       "      <th>1</th>\n",
       "      <td>2016-03-24 10:58:45</td>\n",
       "      <td>18300</td>\n",
       "      <td>coupe</td>\n",
       "      <td>2011</td>\n",
       "      <td>manual</td>\n",
       "      <td>190</td>\n",
       "      <td>NaN</td>\n",
       "      <td>125000</td>\n",
       "      <td>5</td>\n",
       "      <td>gasoline</td>\n",
       "      <td>audi</td>\n",
       "      <td>yes</td>\n",
       "      <td>2016-03-24 00:00:00</td>\n",
       "      <td>0</td>\n",
       "      <td>66954</td>\n",
       "      <td>2016-04-07 01:46:50</td>\n",
       "    </tr>\n",
       "    <tr>\n",
       "      <th>2</th>\n",
       "      <td>2016-03-14 12:52:21</td>\n",
       "      <td>9800</td>\n",
       "      <td>suv</td>\n",
       "      <td>2004</td>\n",
       "      <td>auto</td>\n",
       "      <td>163</td>\n",
       "      <td>grand</td>\n",
       "      <td>125000</td>\n",
       "      <td>8</td>\n",
       "      <td>gasoline</td>\n",
       "      <td>jeep</td>\n",
       "      <td>NaN</td>\n",
       "      <td>2016-03-14 00:00:00</td>\n",
       "      <td>0</td>\n",
       "      <td>90480</td>\n",
       "      <td>2016-04-05 12:47:46</td>\n",
       "    </tr>\n",
       "    <tr>\n",
       "      <th>3</th>\n",
       "      <td>2016-03-17 16:54:04</td>\n",
       "      <td>1500</td>\n",
       "      <td>small</td>\n",
       "      <td>2001</td>\n",
       "      <td>manual</td>\n",
       "      <td>75</td>\n",
       "      <td>golf</td>\n",
       "      <td>150000</td>\n",
       "      <td>6</td>\n",
       "      <td>petrol</td>\n",
       "      <td>volkswagen</td>\n",
       "      <td>no</td>\n",
       "      <td>2016-03-17 00:00:00</td>\n",
       "      <td>0</td>\n",
       "      <td>91074</td>\n",
       "      <td>2016-03-17 17:40:17</td>\n",
       "    </tr>\n",
       "    <tr>\n",
       "      <th>4</th>\n",
       "      <td>2016-03-31 17:25:20</td>\n",
       "      <td>3600</td>\n",
       "      <td>small</td>\n",
       "      <td>2008</td>\n",
       "      <td>manual</td>\n",
       "      <td>69</td>\n",
       "      <td>fabia</td>\n",
       "      <td>90000</td>\n",
       "      <td>7</td>\n",
       "      <td>gasoline</td>\n",
       "      <td>skoda</td>\n",
       "      <td>no</td>\n",
       "      <td>2016-03-31 00:00:00</td>\n",
       "      <td>0</td>\n",
       "      <td>60437</td>\n",
       "      <td>2016-04-06 10:17:21</td>\n",
       "    </tr>\n",
       "  </tbody>\n",
       "</table>\n",
       "</div>"
      ],
      "text/plain": [
       "           DateCrawled  Price VehicleType  RegistrationYear Gearbox  Power  \\\n",
       "0  2016-03-24 11:52:17    480         NaN              1993  manual      0   \n",
       "1  2016-03-24 10:58:45  18300       coupe              2011  manual    190   \n",
       "2  2016-03-14 12:52:21   9800         suv              2004    auto    163   \n",
       "3  2016-03-17 16:54:04   1500       small              2001  manual     75   \n",
       "4  2016-03-31 17:25:20   3600       small              2008  manual     69   \n",
       "\n",
       "   Model  Kilometer  RegistrationMonth  FuelType       Brand Repaired  \\\n",
       "0   golf     150000                  0    petrol  volkswagen      NaN   \n",
       "1    NaN     125000                  5  gasoline        audi      yes   \n",
       "2  grand     125000                  8  gasoline        jeep      NaN   \n",
       "3   golf     150000                  6    petrol  volkswagen       no   \n",
       "4  fabia      90000                  7  gasoline       skoda       no   \n",
       "\n",
       "           DateCreated  NumberOfPictures  PostalCode             LastSeen  \n",
       "0  2016-03-24 00:00:00                 0       70435  2016-04-07 03:16:57  \n",
       "1  2016-03-24 00:00:00                 0       66954  2016-04-07 01:46:50  \n",
       "2  2016-03-14 00:00:00                 0       90480  2016-04-05 12:47:46  \n",
       "3  2016-03-17 00:00:00                 0       91074  2016-03-17 17:40:17  \n",
       "4  2016-03-31 00:00:00                 0       60437  2016-04-06 10:17:21  "
      ]
     },
     "execution_count": 6,
     "metadata": {},
     "output_type": "execute_result"
    }
   ],
   "source": [
    "auto_data.head()"
   ]
  },
  {
   "cell_type": "code",
   "execution_count": 7,
   "metadata": {},
   "outputs": [
    {
     "name": "stdout",
     "output_type": "stream",
     "text": [
      "<class 'pandas.core.frame.DataFrame'>\n",
      "RangeIndex: 354369 entries, 0 to 354368\n",
      "Data columns (total 16 columns):\n",
      " #   Column             Non-Null Count   Dtype \n",
      "---  ------             --------------   ----- \n",
      " 0   DateCrawled        354369 non-null  object\n",
      " 1   Price              354369 non-null  int16 \n",
      " 2   VehicleType        316879 non-null  object\n",
      " 3   RegistrationYear   354369 non-null  int16 \n",
      " 4   Gearbox            334536 non-null  object\n",
      " 5   Power              354369 non-null  int16 \n",
      " 6   Model              334664 non-null  object\n",
      " 7   Kilometer          354369 non-null  int32 \n",
      " 8   RegistrationMonth  354369 non-null  int8  \n",
      " 9   FuelType           321474 non-null  object\n",
      " 10  Brand              354369 non-null  object\n",
      " 11  Repaired           283215 non-null  object\n",
      " 12  DateCreated        354369 non-null  object\n",
      " 13  NumberOfPictures   354369 non-null  int8  \n",
      " 14  PostalCode         354369 non-null  int32 \n",
      " 15  LastSeen           354369 non-null  object\n",
      "dtypes: int16(3), int32(2), int8(2), object(9)\n",
      "memory usage: 29.7+ MB\n"
     ]
    }
   ],
   "source": [
    "auto_data.info()"
   ]
  },
  {
   "cell_type": "markdown",
   "metadata": {},
   "source": [
    "### Поправим названия столбцов"
   ]
  },
  {
   "cell_type": "code",
   "execution_count": 8,
   "metadata": {},
   "outputs": [
    {
     "data": {
      "text/html": [
       "<div>\n",
       "<style scoped>\n",
       "    .dataframe tbody tr th:only-of-type {\n",
       "        vertical-align: middle;\n",
       "    }\n",
       "\n",
       "    .dataframe tbody tr th {\n",
       "        vertical-align: top;\n",
       "    }\n",
       "\n",
       "    .dataframe thead th {\n",
       "        text-align: right;\n",
       "    }\n",
       "</style>\n",
       "<table border=\"1\" class=\"dataframe\">\n",
       "  <thead>\n",
       "    <tr style=\"text-align: right;\">\n",
       "      <th></th>\n",
       "      <th>date_crawled</th>\n",
       "      <th>price</th>\n",
       "      <th>vehicle_type</th>\n",
       "      <th>registration_year</th>\n",
       "      <th>gearbox</th>\n",
       "      <th>power</th>\n",
       "      <th>model</th>\n",
       "      <th>kilometer</th>\n",
       "      <th>registration_month</th>\n",
       "      <th>fuel_type</th>\n",
       "      <th>brand</th>\n",
       "      <th>repaired</th>\n",
       "      <th>date_created</th>\n",
       "      <th>number_of_pictures</th>\n",
       "      <th>postal_code</th>\n",
       "      <th>last_seen</th>\n",
       "    </tr>\n",
       "  </thead>\n",
       "  <tbody>\n",
       "    <tr>\n",
       "      <th>0</th>\n",
       "      <td>2016-03-24 11:52:17</td>\n",
       "      <td>480</td>\n",
       "      <td>NaN</td>\n",
       "      <td>1993</td>\n",
       "      <td>manual</td>\n",
       "      <td>0</td>\n",
       "      <td>golf</td>\n",
       "      <td>150000</td>\n",
       "      <td>0</td>\n",
       "      <td>petrol</td>\n",
       "      <td>volkswagen</td>\n",
       "      <td>NaN</td>\n",
       "      <td>2016-03-24 00:00:00</td>\n",
       "      <td>0</td>\n",
       "      <td>70435</td>\n",
       "      <td>2016-04-07 03:16:57</td>\n",
       "    </tr>\n",
       "    <tr>\n",
       "      <th>1</th>\n",
       "      <td>2016-03-24 10:58:45</td>\n",
       "      <td>18300</td>\n",
       "      <td>coupe</td>\n",
       "      <td>2011</td>\n",
       "      <td>manual</td>\n",
       "      <td>190</td>\n",
       "      <td>NaN</td>\n",
       "      <td>125000</td>\n",
       "      <td>5</td>\n",
       "      <td>gasoline</td>\n",
       "      <td>audi</td>\n",
       "      <td>yes</td>\n",
       "      <td>2016-03-24 00:00:00</td>\n",
       "      <td>0</td>\n",
       "      <td>66954</td>\n",
       "      <td>2016-04-07 01:46:50</td>\n",
       "    </tr>\n",
       "    <tr>\n",
       "      <th>2</th>\n",
       "      <td>2016-03-14 12:52:21</td>\n",
       "      <td>9800</td>\n",
       "      <td>suv</td>\n",
       "      <td>2004</td>\n",
       "      <td>auto</td>\n",
       "      <td>163</td>\n",
       "      <td>grand</td>\n",
       "      <td>125000</td>\n",
       "      <td>8</td>\n",
       "      <td>gasoline</td>\n",
       "      <td>jeep</td>\n",
       "      <td>NaN</td>\n",
       "      <td>2016-03-14 00:00:00</td>\n",
       "      <td>0</td>\n",
       "      <td>90480</td>\n",
       "      <td>2016-04-05 12:47:46</td>\n",
       "    </tr>\n",
       "    <tr>\n",
       "      <th>3</th>\n",
       "      <td>2016-03-17 16:54:04</td>\n",
       "      <td>1500</td>\n",
       "      <td>small</td>\n",
       "      <td>2001</td>\n",
       "      <td>manual</td>\n",
       "      <td>75</td>\n",
       "      <td>golf</td>\n",
       "      <td>150000</td>\n",
       "      <td>6</td>\n",
       "      <td>petrol</td>\n",
       "      <td>volkswagen</td>\n",
       "      <td>no</td>\n",
       "      <td>2016-03-17 00:00:00</td>\n",
       "      <td>0</td>\n",
       "      <td>91074</td>\n",
       "      <td>2016-03-17 17:40:17</td>\n",
       "    </tr>\n",
       "    <tr>\n",
       "      <th>4</th>\n",
       "      <td>2016-03-31 17:25:20</td>\n",
       "      <td>3600</td>\n",
       "      <td>small</td>\n",
       "      <td>2008</td>\n",
       "      <td>manual</td>\n",
       "      <td>69</td>\n",
       "      <td>fabia</td>\n",
       "      <td>90000</td>\n",
       "      <td>7</td>\n",
       "      <td>gasoline</td>\n",
       "      <td>skoda</td>\n",
       "      <td>no</td>\n",
       "      <td>2016-03-31 00:00:00</td>\n",
       "      <td>0</td>\n",
       "      <td>60437</td>\n",
       "      <td>2016-04-06 10:17:21</td>\n",
       "    </tr>\n",
       "  </tbody>\n",
       "</table>\n",
       "</div>"
      ],
      "text/plain": [
       "          date_crawled  price vehicle_type  registration_year gearbox  power  \\\n",
       "0  2016-03-24 11:52:17    480          NaN               1993  manual      0   \n",
       "1  2016-03-24 10:58:45  18300        coupe               2011  manual    190   \n",
       "2  2016-03-14 12:52:21   9800          suv               2004    auto    163   \n",
       "3  2016-03-17 16:54:04   1500        small               2001  manual     75   \n",
       "4  2016-03-31 17:25:20   3600        small               2008  manual     69   \n",
       "\n",
       "   model  kilometer  registration_month fuel_type       brand repaired  \\\n",
       "0   golf     150000                   0    petrol  volkswagen      NaN   \n",
       "1    NaN     125000                   5  gasoline        audi      yes   \n",
       "2  grand     125000                   8  gasoline        jeep      NaN   \n",
       "3   golf     150000                   6    petrol  volkswagen       no   \n",
       "4  fabia      90000                   7  gasoline       skoda       no   \n",
       "\n",
       "          date_created  number_of_pictures  postal_code            last_seen  \n",
       "0  2016-03-24 00:00:00                   0        70435  2016-04-07 03:16:57  \n",
       "1  2016-03-24 00:00:00                   0        66954  2016-04-07 01:46:50  \n",
       "2  2016-03-14 00:00:00                   0        90480  2016-04-05 12:47:46  \n",
       "3  2016-03-17 00:00:00                   0        91074  2016-03-17 17:40:17  \n",
       "4  2016-03-31 00:00:00                   0        60437  2016-04-06 10:17:21  "
      ]
     },
     "execution_count": 8,
     "metadata": {},
     "output_type": "execute_result"
    }
   ],
   "source": [
    "clear_auto_data = auto_data.rename(columns={'DateCrawled': 'Date_Crawled', 'VehicleType': 'Vehicle_Type', \\\n",
    "                                            'RegistrationYear': 'Registration_Year', 'RegistrationMonth': 'Registration_Month', \\\n",
    "                                            'FuelType': 'Fuel_Type', 'DateCreated': 'Date_Created', \\\n",
    "                                            'NumberOfPictures': 'Number_Of_Pictures', 'PostalCode': 'Postal_Code', \\\n",
    "                                            'LastSeen': 'Last_Seen'})\n",
    "clear_auto_data.columns = clear_auto_data.columns.str.lower()\n",
    "clear_auto_data.head()"
   ]
  },
  {
   "cell_type": "markdown",
   "metadata": {},
   "source": [
    "### Обработаем пропуски"
   ]
  },
  {
   "cell_type": "code",
   "execution_count": 9,
   "metadata": {},
   "outputs": [
    {
     "data": {
      "text/plain": [
       "date_crawled           0.000000\n",
       "price                  0.000000\n",
       "vehicle_type          10.579368\n",
       "registration_year      0.000000\n",
       "gearbox                5.596709\n",
       "power                  0.000000\n",
       "model                  5.560588\n",
       "kilometer              0.000000\n",
       "registration_month     0.000000\n",
       "fuel_type              9.282697\n",
       "brand                  0.000000\n",
       "repaired              20.079070\n",
       "date_created           0.000000\n",
       "number_of_pictures     0.000000\n",
       "postal_code            0.000000\n",
       "last_seen              0.000000\n",
       "dtype: float64"
      ]
     },
     "execution_count": 9,
     "metadata": {},
     "output_type": "execute_result"
    }
   ],
   "source": [
    "clear_auto_data.isna().sum() / len(auto_data) * 100"
   ]
  },
  {
   "cell_type": "markdown",
   "metadata": {},
   "source": [
    "Пропуски есть в столбцах 'vehicle_type' - 10,6%, 'gearbox' - 5,6%, 'model' - 5,6%, 'fuel_type' - 9,3%, 'repaired' - 20,1%."
   ]
  },
  {
   "cell_type": "markdown",
   "metadata": {},
   "source": [
    "Столбцы 'vehicle_type', 'gearbox' и 'fuel_type' запоним модй в зависимости от модели."
   ]
  },
  {
   "cell_type": "code",
   "execution_count": 10,
   "metadata": {},
   "outputs": [
    {
     "data": {
      "text/html": [
       "<div>\n",
       "<style scoped>\n",
       "    .dataframe tbody tr th:only-of-type {\n",
       "        vertical-align: middle;\n",
       "    }\n",
       "\n",
       "    .dataframe tbody tr th {\n",
       "        vertical-align: top;\n",
       "    }\n",
       "\n",
       "    .dataframe thead th {\n",
       "        text-align: right;\n",
       "    }\n",
       "</style>\n",
       "<table border=\"1\" class=\"dataframe\">\n",
       "  <thead>\n",
       "    <tr style=\"text-align: right;\">\n",
       "      <th></th>\n",
       "      <th>vehicle_type</th>\n",
       "      <th>gearbox</th>\n",
       "      <th>fuel_type</th>\n",
       "    </tr>\n",
       "    <tr>\n",
       "      <th>model</th>\n",
       "      <th></th>\n",
       "      <th></th>\n",
       "      <th></th>\n",
       "    </tr>\n",
       "  </thead>\n",
       "  <tbody>\n",
       "    <tr>\n",
       "      <th>100</th>\n",
       "      <td>sedan</td>\n",
       "      <td>manual</td>\n",
       "      <td>petrol</td>\n",
       "    </tr>\n",
       "    <tr>\n",
       "      <th>145</th>\n",
       "      <td>small</td>\n",
       "      <td>manual</td>\n",
       "      <td>petrol</td>\n",
       "    </tr>\n",
       "    <tr>\n",
       "      <th>147</th>\n",
       "      <td>sedan</td>\n",
       "      <td>manual</td>\n",
       "      <td>petrol</td>\n",
       "    </tr>\n",
       "    <tr>\n",
       "      <th>156</th>\n",
       "      <td>wagon</td>\n",
       "      <td>manual</td>\n",
       "      <td>petrol</td>\n",
       "    </tr>\n",
       "    <tr>\n",
       "      <th>159</th>\n",
       "      <td>wagon</td>\n",
       "      <td>manual</td>\n",
       "      <td>gasoline</td>\n",
       "    </tr>\n",
       "  </tbody>\n",
       "</table>\n",
       "</div>"
      ],
      "text/plain": [
       "      vehicle_type gearbox fuel_type\n",
       "model                               \n",
       "100          sedan  manual    petrol\n",
       "145          small  manual    petrol\n",
       "147          sedan  manual    petrol\n",
       "156          wagon  manual    petrol\n",
       "159          wagon  manual  gasoline"
      ]
     },
     "execution_count": 10,
     "metadata": {},
     "output_type": "execute_result"
    }
   ],
   "source": [
    "model_auto = clear_auto_data.groupby('model')[['vehicle_type', 'gearbox', 'fuel_type']].agg(pd.Series.mode)\n",
    "model_auto.head()"
   ]
  },
  {
   "cell_type": "code",
   "execution_count": 11,
   "metadata": {},
   "outputs": [],
   "source": [
    "clear_auto_data['vehicle_type'] = clear_auto_data['vehicle_type'].fillna(clear_auto_data['model'].apply(lambda x: model_auto.loc[x][0] if x in model_auto.index else np.nan))"
   ]
  },
  {
   "cell_type": "code",
   "execution_count": 12,
   "metadata": {},
   "outputs": [
    {
     "data": {
      "text/plain": [
       "1.9268051099277872"
      ]
     },
     "execution_count": 12,
     "metadata": {},
     "output_type": "execute_result"
    }
   ],
   "source": [
    "clear_auto_data['vehicle_type'].isna().sum() / len(clear_auto_data) * 100"
   ]
  },
  {
   "cell_type": "markdown",
   "metadata": {},
   "source": [
    "В столбце 'vehicle_type' пропусков осталось около 2%, удалим их."
   ]
  },
  {
   "cell_type": "code",
   "execution_count": 13,
   "metadata": {},
   "outputs": [],
   "source": [
    "clear_auto_data = clear_auto_data.loc[clear_auto_data['vehicle_type'].isna() == False]"
   ]
  },
  {
   "cell_type": "code",
   "execution_count": 14,
   "metadata": {},
   "outputs": [],
   "source": [
    "clear_auto_data['gearbox'] = clear_auto_data['gearbox'].fillna(clear_auto_data['model'].apply(lambda x: model_auto.loc[x][1] if x in model_auto.index else np.nan))"
   ]
  },
  {
   "cell_type": "code",
   "execution_count": 15,
   "metadata": {},
   "outputs": [
    {
     "data": {
      "text/plain": [
       "0.32197639990677357"
      ]
     },
     "execution_count": 15,
     "metadata": {},
     "output_type": "execute_result"
    }
   ],
   "source": [
    "clear_auto_data['gearbox'].isna().sum() / len(clear_auto_data) * 100"
   ]
  },
  {
   "cell_type": "markdown",
   "metadata": {},
   "source": [
    "В столбце 'gearbox' пропусков осталось менее 1%, удалим их."
   ]
  },
  {
   "cell_type": "code",
   "execution_count": 16,
   "metadata": {},
   "outputs": [],
   "source": [
    "clear_auto_data = clear_auto_data.loc[clear_auto_data['gearbox'].isna() == False]"
   ]
  },
  {
   "cell_type": "code",
   "execution_count": 17,
   "metadata": {},
   "outputs": [],
   "source": [
    "clear_auto_data['fuel_type'] = clear_auto_data['fuel_type'].fillna(clear_auto_data['model'].apply(lambda x: model_auto.loc[x][2] if x in model_auto.index else np.nan))"
   ]
  },
  {
   "cell_type": "code",
   "execution_count": 18,
   "metadata": {},
   "outputs": [
    {
     "data": {
      "text/plain": [
       "0.6694147600325614"
      ]
     },
     "execution_count": 18,
     "metadata": {},
     "output_type": "execute_result"
    }
   ],
   "source": [
    "clear_auto_data['fuel_type'].isna().sum() / len(clear_auto_data) * 100"
   ]
  },
  {
   "cell_type": "markdown",
   "metadata": {},
   "source": [
    "В столбце 'fuel_type' пропусков осталось менее 1%, удалим их."
   ]
  },
  {
   "cell_type": "code",
   "execution_count": 19,
   "metadata": {},
   "outputs": [],
   "source": [
    "clear_auto_data = clear_auto_data.loc[clear_auto_data['fuel_type'].isna() == False]"
   ]
  },
  {
   "cell_type": "code",
   "execution_count": 20,
   "metadata": {},
   "outputs": [
    {
     "data": {
      "text/plain": [
       "70.9290532195302"
      ]
     },
     "execution_count": 20,
     "metadata": {},
     "output_type": "execute_result"
    }
   ],
   "source": [
    "clear_auto_data.loc[clear_auto_data['repaired'] == 'no', 'repaired'].count() / len(clear_auto_data) * 100"
   ]
  },
  {
   "cell_type": "code",
   "execution_count": 21,
   "metadata": {},
   "outputs": [
    {
     "data": {
      "text/plain": [
       "10.170210663667564"
      ]
     },
     "execution_count": 21,
     "metadata": {},
     "output_type": "execute_result"
    }
   ],
   "source": [
    "clear_auto_data.loc[clear_auto_data['repaired'] == 'yes', 'repaired'].count() / len(clear_auto_data) * 100"
   ]
  },
  {
   "cell_type": "code",
   "execution_count": 22,
   "metadata": {},
   "outputs": [],
   "source": [
    "clear_auto_data['repaired'] = clear_auto_data['repaired'].fillna(value='no')"
   ]
  },
  {
   "cell_type": "code",
   "execution_count": 23,
   "metadata": {},
   "outputs": [],
   "source": [
    "clear_auto_data = clear_auto_data.loc[clear_auto_data['model'].isna() == False]"
   ]
  },
  {
   "cell_type": "code",
   "execution_count": 24,
   "metadata": {},
   "outputs": [
    {
     "data": {
      "text/plain": [
       "date_crawled          0.0\n",
       "price                 0.0\n",
       "vehicle_type          0.0\n",
       "registration_year     0.0\n",
       "gearbox               0.0\n",
       "power                 0.0\n",
       "model                 0.0\n",
       "kilometer             0.0\n",
       "registration_month    0.0\n",
       "fuel_type             0.0\n",
       "brand                 0.0\n",
       "repaired              0.0\n",
       "date_created          0.0\n",
       "number_of_pictures    0.0\n",
       "postal_code           0.0\n",
       "last_seen             0.0\n",
       "dtype: float64"
      ]
     },
     "execution_count": 24,
     "metadata": {},
     "output_type": "execute_result"
    }
   ],
   "source": [
    "clear_auto_data.isna().sum() / len(auto_data) * 100"
   ]
  },
  {
   "cell_type": "code",
   "execution_count": 25,
   "metadata": {},
   "outputs": [
    {
     "data": {
      "text/plain": [
       "0     False\n",
       "2     False\n",
       "3     False\n",
       "4     False\n",
       "5      True\n",
       "6     False\n",
       "7     False\n",
       "8     False\n",
       "9     False\n",
       "10    False\n",
       "11     True\n",
       "12    False\n",
       "13    False\n",
       "14    False\n",
       "15    False\n",
       "16    False\n",
       "17    False\n",
       "18    False\n",
       "19    False\n",
       "20    False\n",
       "Name: repaired, dtype: bool"
      ]
     },
     "execution_count": 25,
     "metadata": {},
     "output_type": "execute_result"
    }
   ],
   "source": [
    "#Преобразуем столбец repaired в логиеский тип\n",
    "clear_auto_data['repaired'] = np.where(clear_auto_data['repaired'] == 'yes', True, False)\n",
    "clear_auto_data['repaired'].head(20)"
   ]
  },
  {
   "cell_type": "markdown",
   "metadata": {},
   "source": [
    "### Проверим аномалии"
   ]
  },
  {
   "cell_type": "code",
   "execution_count": 26,
   "metadata": {},
   "outputs": [
    {
     "data": {
      "image/png": "[encoded data removed]",
      "text/plain": [
       "<Figure size 720x576 with 1 Axes>"
      ]
     },
     "metadata": {
      "needs_background": "light"
     },
     "output_type": "display_data"
    }
   ],
   "source": [
    "plt.xlim(0, 2500);\n",
    "clear_auto_data['price'].hist(bins=500, figsize=(10, 8));"
   ]
  },
  {
   "cell_type": "markdown",
   "metadata": {},
   "source": [
    "Уберем данные, где цена находится в диапазоне от 0 до 500."
   ]
  },
  {
   "cell_type": "code",
   "execution_count": 27,
   "metadata": {},
   "outputs": [
    {
     "data": {
      "image/png": "[encoded data removed]",
      "text/plain": [
       "<Figure size 720x576 with 1 Axes>"
      ]
     },
     "metadata": {
      "needs_background": "light"
     },
     "output_type": "display_data"
    }
   ],
   "source": [
    "plt.xlim(0, 1000);\n",
    "clear_auto_data['power'].hist(bins=100, figsize=(10, 8));"
   ]
  },
  {
   "cell_type": "markdown",
   "metadata": {},
   "source": [
    "Оставим мощность от 1 л.с. до 1000 л.с."
   ]
  },
  {
   "cell_type": "code",
   "execution_count": 28,
   "metadata": {},
   "outputs": [
    {
     "data": {
      "image/png": "[encoded data removed]",
      "text/plain": [
       "<Figure size 720x576 with 1 Axes>"
      ]
     },
     "metadata": {
      "needs_background": "light"
     },
     "output_type": "display_data"
    }
   ],
   "source": [
    "clear_auto_data['kilometer'].hist(bins=100, figsize=(10, 8));"
   ]
  },
  {
   "cell_type": "markdown",
   "metadata": {},
   "source": [
    "У пробега аномальных значений нет."
   ]
  },
  {
   "cell_type": "code",
   "execution_count": 29,
   "metadata": {},
   "outputs": [
    {
     "data": {
      "image/png": "[encoded data removed]",
      "text/plain": [
       "<Figure size 720x576 with 1 Axes>"
      ]
     },
     "metadata": {
      "needs_background": "light"
     },
     "output_type": "display_data"
    }
   ],
   "source": [
    "plt.xlim(1900, 2023);\n",
    "clear_auto_data['registration_year'].hist(bins=100, figsize=(10, 8));"
   ]
  },
  {
   "cell_type": "markdown",
   "metadata": {},
   "source": [
    "Год выпуска оставим в диапазоне от 1900 до 2023."
   ]
  },
  {
   "cell_type": "code",
   "execution_count": 30,
   "metadata": {},
   "outputs": [
    {
     "data": {
      "image/png": "[encoded data removed]",
      "text/plain": [
       "<Figure size 936x576 with 1 Axes>"
      ]
     },
     "metadata": {
      "needs_background": "light"
     },
     "output_type": "display_data"
    }
   ],
   "source": [
    "clear_auto_data['registration_month'].hist(bins=100, figsize=(13, 8));"
   ]
  },
  {
   "cell_type": "markdown",
   "metadata": {},
   "source": [
    "Также удалим данные, в которых месяц равен 0."
   ]
  },
  {
   "cell_type": "markdown",
   "metadata": {},
   "source": [
    "Теперь избавимся от обнаруженных аномалий."
   ]
  },
  {
   "cell_type": "code",
   "execution_count": 31,
   "metadata": {},
   "outputs": [
    {
     "name": "stdout",
     "output_type": "stream",
     "text": [
      "<class 'pandas.core.frame.DataFrame'>\n",
      "Int64Index: 264221 entries, 2 to 354368\n",
      "Data columns (total 16 columns):\n",
      " #   Column              Non-Null Count   Dtype \n",
      "---  ------              --------------   ----- \n",
      " 0   date_crawled        264221 non-null  object\n",
      " 1   price               264221 non-null  int16 \n",
      " 2   vehicle_type        264221 non-null  object\n",
      " 3   registration_year   264221 non-null  int16 \n",
      " 4   gearbox             264221 non-null  object\n",
      " 5   power               264221 non-null  int16 \n",
      " 6   model               264221 non-null  object\n",
      " 7   kilometer           264221 non-null  int32 \n",
      " 8   registration_month  264221 non-null  int8  \n",
      " 9   fuel_type           264221 non-null  object\n",
      " 10  brand               264221 non-null  object\n",
      " 11  repaired            264221 non-null  bool  \n",
      " 12  date_created        264221 non-null  object\n",
      " 13  number_of_pictures  264221 non-null  int8  \n",
      " 14  postal_code         264221 non-null  int32 \n",
      " 15  last_seen           264221 non-null  object\n",
      "dtypes: bool(1), int16(3), int32(2), int8(2), object(8)\n",
      "memory usage: 22.4+ MB\n"
     ]
    }
   ],
   "source": [
    "clear_auto_data = clear_auto_data.loc[clear_auto_data['price'] >= 500]\n",
    "clear_auto_data = clear_auto_data.loc[(clear_auto_data['power'] <= 1000) & (clear_auto_data['power'] >= 1)]\n",
    "clear_auto_data = clear_auto_data.loc[(clear_auto_data['registration_year'] > 1900) & (clear_auto_data['registration_year'] <= 2023)]\n",
    "clear_auto_data = clear_auto_data.loc[clear_auto_data['registration_month'] > 0]\n",
    "clear_auto_data.info()"
   ]
  },
  {
   "cell_type": "code",
   "execution_count": 32,
   "metadata": {},
   "outputs": [
    {
     "data": {
      "text/html": [
       "<div>\n",
       "<style scoped>\n",
       "    .dataframe tbody tr th:only-of-type {\n",
       "        vertical-align: middle;\n",
       "    }\n",
       "\n",
       "    .dataframe tbody tr th {\n",
       "        vertical-align: top;\n",
       "    }\n",
       "\n",
       "    .dataframe thead th {\n",
       "        text-align: right;\n",
       "    }\n",
       "</style>\n",
       "<table border=\"1\" class=\"dataframe\">\n",
       "  <thead>\n",
       "    <tr style=\"text-align: right;\">\n",
       "      <th></th>\n",
       "      <th>price</th>\n",
       "      <th>registration_year</th>\n",
       "      <th>power</th>\n",
       "      <th>kilometer</th>\n",
       "      <th>registration_month</th>\n",
       "      <th>number_of_pictures</th>\n",
       "      <th>postal_code</th>\n",
       "    </tr>\n",
       "  </thead>\n",
       "  <tbody>\n",
       "    <tr>\n",
       "      <th>count</th>\n",
       "      <td>264221.000000</td>\n",
       "      <td>264221.000000</td>\n",
       "      <td>264221.000000</td>\n",
       "      <td>264221.000000</td>\n",
       "      <td>264221.000000</td>\n",
       "      <td>264221.0</td>\n",
       "      <td>264221.000000</td>\n",
       "    </tr>\n",
       "    <tr>\n",
       "      <th>mean</th>\n",
       "      <td>5237.062069</td>\n",
       "      <td>2003.670041</td>\n",
       "      <td>122.981137</td>\n",
       "      <td>127471.567362</td>\n",
       "      <td>6.398152</td>\n",
       "      <td>0.0</td>\n",
       "      <td>51558.698533</td>\n",
       "    </tr>\n",
       "    <tr>\n",
       "      <th>std</th>\n",
       "      <td>4625.692043</td>\n",
       "      <td>6.529884</td>\n",
       "      <td>54.063813</td>\n",
       "      <td>36843.859437</td>\n",
       "      <td>3.347850</td>\n",
       "      <td>0.0</td>\n",
       "      <td>25686.910565</td>\n",
       "    </tr>\n",
       "    <tr>\n",
       "      <th>min</th>\n",
       "      <td>500.000000</td>\n",
       "      <td>1910.000000</td>\n",
       "      <td>1.000000</td>\n",
       "      <td>5000.000000</td>\n",
       "      <td>1.000000</td>\n",
       "      <td>0.0</td>\n",
       "      <td>1067.000000</td>\n",
       "    </tr>\n",
       "    <tr>\n",
       "      <th>25%</th>\n",
       "      <td>1600.000000</td>\n",
       "      <td>2000.000000</td>\n",
       "      <td>82.000000</td>\n",
       "      <td>125000.000000</td>\n",
       "      <td>4.000000</td>\n",
       "      <td>0.0</td>\n",
       "      <td>31224.000000</td>\n",
       "    </tr>\n",
       "    <tr>\n",
       "      <th>50%</th>\n",
       "      <td>3600.000000</td>\n",
       "      <td>2004.000000</td>\n",
       "      <td>116.000000</td>\n",
       "      <td>150000.000000</td>\n",
       "      <td>6.000000</td>\n",
       "      <td>0.0</td>\n",
       "      <td>50823.000000</td>\n",
       "    </tr>\n",
       "    <tr>\n",
       "      <th>75%</th>\n",
       "      <td>7500.000000</td>\n",
       "      <td>2008.000000</td>\n",
       "      <td>150.000000</td>\n",
       "      <td>150000.000000</td>\n",
       "      <td>9.000000</td>\n",
       "      <td>0.0</td>\n",
       "      <td>72280.000000</td>\n",
       "    </tr>\n",
       "    <tr>\n",
       "      <th>max</th>\n",
       "      <td>20000.000000</td>\n",
       "      <td>2019.000000</td>\n",
       "      <td>1000.000000</td>\n",
       "      <td>150000.000000</td>\n",
       "      <td>12.000000</td>\n",
       "      <td>0.0</td>\n",
       "      <td>99998.000000</td>\n",
       "    </tr>\n",
       "  </tbody>\n",
       "</table>\n",
       "</div>"
      ],
      "text/plain": [
       "               price  registration_year          power      kilometer  \\\n",
       "count  264221.000000      264221.000000  264221.000000  264221.000000   \n",
       "mean     5237.062069        2003.670041     122.981137  127471.567362   \n",
       "std      4625.692043           6.529884      54.063813   36843.859437   \n",
       "min       500.000000        1910.000000       1.000000    5000.000000   \n",
       "25%      1600.000000        2000.000000      82.000000  125000.000000   \n",
       "50%      3600.000000        2004.000000     116.000000  150000.000000   \n",
       "75%      7500.000000        2008.000000     150.000000  150000.000000   \n",
       "max     20000.000000        2019.000000    1000.000000  150000.000000   \n",
       "\n",
       "       registration_month  number_of_pictures    postal_code  \n",
       "count       264221.000000            264221.0  264221.000000  \n",
       "mean             6.398152                 0.0   51558.698533  \n",
       "std              3.347850                 0.0   25686.910565  \n",
       "min              1.000000                 0.0    1067.000000  \n",
       "25%              4.000000                 0.0   31224.000000  \n",
       "50%              6.000000                 0.0   50823.000000  \n",
       "75%              9.000000                 0.0   72280.000000  \n",
       "max             12.000000                 0.0   99998.000000  "
      ]
     },
     "execution_count": 32,
     "metadata": {},
     "output_type": "execute_result"
    }
   ],
   "source": [
    "clear_auto_data.describe()"
   ]
  },
  {
   "cell_type": "markdown",
   "metadata": {},
   "source": [
    "### Проверим зависимости между параметрами"
   ]
  },
  {
   "cell_type": "code",
   "execution_count": 33,
   "metadata": {},
   "outputs": [
    {
     "data": {
      "text/html": [
       "<div>\n",
       "<style scoped>\n",
       "    .dataframe tbody tr th:only-of-type {\n",
       "        vertical-align: middle;\n",
       "    }\n",
       "\n",
       "    .dataframe tbody tr th {\n",
       "        vertical-align: top;\n",
       "    }\n",
       "\n",
       "    .dataframe thead th {\n",
       "        text-align: right;\n",
       "    }\n",
       "</style>\n",
       "<table border=\"1\" class=\"dataframe\">\n",
       "  <thead>\n",
       "    <tr style=\"text-align: right;\">\n",
       "      <th></th>\n",
       "      <th>price</th>\n",
       "      <th>registration_year</th>\n",
       "      <th>power</th>\n",
       "      <th>kilometer</th>\n",
       "      <th>registration_month</th>\n",
       "      <th>repaired</th>\n",
       "      <th>number_of_pictures</th>\n",
       "      <th>postal_code</th>\n",
       "    </tr>\n",
       "  </thead>\n",
       "  <tbody>\n",
       "    <tr>\n",
       "      <th>price</th>\n",
       "      <td>1.000000</td>\n",
       "      <td>0.458730</td>\n",
       "      <td>0.489242</td>\n",
       "      <td>-0.400595</td>\n",
       "      <td>0.007936</td>\n",
       "      <td>-0.160614</td>\n",
       "      <td>NaN</td>\n",
       "      <td>0.059211</td>\n",
       "    </tr>\n",
       "    <tr>\n",
       "      <th>registration_year</th>\n",
       "      <td>0.458730</td>\n",
       "      <td>1.000000</td>\n",
       "      <td>0.094049</td>\n",
       "      <td>-0.306132</td>\n",
       "      <td>0.000612</td>\n",
       "      <td>-0.068296</td>\n",
       "      <td>NaN</td>\n",
       "      <td>0.012870</td>\n",
       "    </tr>\n",
       "    <tr>\n",
       "      <th>power</th>\n",
       "      <td>0.489242</td>\n",
       "      <td>0.094049</td>\n",
       "      <td>1.000000</td>\n",
       "      <td>0.122466</td>\n",
       "      <td>0.020073</td>\n",
       "      <td>-0.011301</td>\n",
       "      <td>NaN</td>\n",
       "      <td>0.048908</td>\n",
       "    </tr>\n",
       "    <tr>\n",
       "      <th>kilometer</th>\n",
       "      <td>-0.400595</td>\n",
       "      <td>-0.306132</td>\n",
       "      <td>0.122466</td>\n",
       "      <td>1.000000</td>\n",
       "      <td>0.007849</td>\n",
       "      <td>0.068550</td>\n",
       "      <td>NaN</td>\n",
       "      <td>-0.009625</td>\n",
       "    </tr>\n",
       "    <tr>\n",
       "      <th>registration_month</th>\n",
       "      <td>0.007936</td>\n",
       "      <td>0.000612</td>\n",
       "      <td>0.020073</td>\n",
       "      <td>0.007849</td>\n",
       "      <td>1.000000</td>\n",
       "      <td>-0.008765</td>\n",
       "      <td>NaN</td>\n",
       "      <td>-0.007503</td>\n",
       "    </tr>\n",
       "    <tr>\n",
       "      <th>repaired</th>\n",
       "      <td>-0.160614</td>\n",
       "      <td>-0.068296</td>\n",
       "      <td>-0.011301</td>\n",
       "      <td>0.068550</td>\n",
       "      <td>-0.008765</td>\n",
       "      <td>1.000000</td>\n",
       "      <td>NaN</td>\n",
       "      <td>0.008135</td>\n",
       "    </tr>\n",
       "    <tr>\n",
       "      <th>number_of_pictures</th>\n",
       "      <td>NaN</td>\n",
       "      <td>NaN</td>\n",
       "      <td>NaN</td>\n",
       "      <td>NaN</td>\n",
       "      <td>NaN</td>\n",
       "      <td>NaN</td>\n",
       "      <td>NaN</td>\n",
       "      <td>NaN</td>\n",
       "    </tr>\n",
       "    <tr>\n",
       "      <th>postal_code</th>\n",
       "      <td>0.059211</td>\n",
       "      <td>0.012870</td>\n",
       "      <td>0.048908</td>\n",
       "      <td>-0.009625</td>\n",
       "      <td>-0.007503</td>\n",
       "      <td>0.008135</td>\n",
       "      <td>NaN</td>\n",
       "      <td>1.000000</td>\n",
       "    </tr>\n",
       "  </tbody>\n",
       "</table>\n",
       "</div>"
      ],
      "text/plain": [
       "                       price  registration_year     power  kilometer  \\\n",
       "price               1.000000           0.458730  0.489242  -0.400595   \n",
       "registration_year   0.458730           1.000000  0.094049  -0.306132   \n",
       "power               0.489242           0.094049  1.000000   0.122466   \n",
       "kilometer          -0.400595          -0.306132  0.122466   1.000000   \n",
       "registration_month  0.007936           0.000612  0.020073   0.007849   \n",
       "repaired           -0.160614          -0.068296 -0.011301   0.068550   \n",
       "number_of_pictures       NaN                NaN       NaN        NaN   \n",
       "postal_code         0.059211           0.012870  0.048908  -0.009625   \n",
       "\n",
       "                    registration_month  repaired  number_of_pictures  \\\n",
       "price                         0.007936 -0.160614                 NaN   \n",
       "registration_year             0.000612 -0.068296                 NaN   \n",
       "power                         0.020073 -0.011301                 NaN   \n",
       "kilometer                     0.007849  0.068550                 NaN   \n",
       "registration_month            1.000000 -0.008765                 NaN   \n",
       "repaired                     -0.008765  1.000000                 NaN   \n",
       "number_of_pictures                 NaN       NaN                 NaN   \n",
       "postal_code                  -0.007503  0.008135                 NaN   \n",
       "\n",
       "                    postal_code  \n",
       "price                  0.059211  \n",
       "registration_year      0.012870  \n",
       "power                  0.048908  \n",
       "kilometer             -0.009625  \n",
       "registration_month    -0.007503  \n",
       "repaired               0.008135  \n",
       "number_of_pictures          NaN  \n",
       "postal_code            1.000000  "
      ]
     },
     "execution_count": 33,
     "metadata": {},
     "output_type": "execute_result"
    }
   ],
   "source": [
    "clear_auto_data.corr()"
   ]
  },
  {
   "cell_type": "markdown",
   "metadata": {},
   "source": [
    "По матрице корреляций мы видим, что есть зависимость цены от мощности, пробега и факта ремонта. с остальными числовыми признаками значимой зависимости нет, поэтому для модели оставим только мощность, пробег и факт ремонта."
   ]
  },
  {
   "cell_type": "markdown",
   "metadata": {},
   "source": [
    "Из набора категориальных признаков оставим тип автомобильного кузова, тип коробки передач, модель автомобиля, тип топлива, марка автомобиля.\n",
    "\n",
    "Уберем дату скачивания анкеты из базы, год регистрации автомобиля, месяц регистрации автомобиля, дата создания анкеты, количество фотографий автомобиля, почтовый индекс владельца анкеты (пользователя), дата последней активности пользователя."
   ]
  },
  {
   "cell_type": "code",
   "execution_count": 34,
   "metadata": {},
   "outputs": [
    {
     "data": {
      "text/html": [
       "<div>\n",
       "<style scoped>\n",
       "    .dataframe tbody tr th:only-of-type {\n",
       "        vertical-align: middle;\n",
       "    }\n",
       "\n",
       "    .dataframe tbody tr th {\n",
       "        vertical-align: top;\n",
       "    }\n",
       "\n",
       "    .dataframe thead th {\n",
       "        text-align: right;\n",
       "    }\n",
       "</style>\n",
       "<table border=\"1\" class=\"dataframe\">\n",
       "  <thead>\n",
       "    <tr style=\"text-align: right;\">\n",
       "      <th></th>\n",
       "      <th>price</th>\n",
       "      <th>vehicle_type</th>\n",
       "      <th>gearbox</th>\n",
       "      <th>power</th>\n",
       "      <th>model</th>\n",
       "      <th>kilometer</th>\n",
       "      <th>fuel_type</th>\n",
       "      <th>brand</th>\n",
       "      <th>repaired</th>\n",
       "    </tr>\n",
       "  </thead>\n",
       "  <tbody>\n",
       "    <tr>\n",
       "      <th>2</th>\n",
       "      <td>9800</td>\n",
       "      <td>suv</td>\n",
       "      <td>auto</td>\n",
       "      <td>163</td>\n",
       "      <td>grand</td>\n",
       "      <td>125000</td>\n",
       "      <td>gasoline</td>\n",
       "      <td>jeep</td>\n",
       "      <td>False</td>\n",
       "    </tr>\n",
       "    <tr>\n",
       "      <th>3</th>\n",
       "      <td>1500</td>\n",
       "      <td>small</td>\n",
       "      <td>manual</td>\n",
       "      <td>75</td>\n",
       "      <td>golf</td>\n",
       "      <td>150000</td>\n",
       "      <td>petrol</td>\n",
       "      <td>volkswagen</td>\n",
       "      <td>False</td>\n",
       "    </tr>\n",
       "    <tr>\n",
       "      <th>4</th>\n",
       "      <td>3600</td>\n",
       "      <td>small</td>\n",
       "      <td>manual</td>\n",
       "      <td>69</td>\n",
       "      <td>fabia</td>\n",
       "      <td>90000</td>\n",
       "      <td>gasoline</td>\n",
       "      <td>skoda</td>\n",
       "      <td>False</td>\n",
       "    </tr>\n",
       "    <tr>\n",
       "      <th>5</th>\n",
       "      <td>650</td>\n",
       "      <td>sedan</td>\n",
       "      <td>manual</td>\n",
       "      <td>102</td>\n",
       "      <td>3er</td>\n",
       "      <td>150000</td>\n",
       "      <td>petrol</td>\n",
       "      <td>bmw</td>\n",
       "      <td>True</td>\n",
       "    </tr>\n",
       "    <tr>\n",
       "      <th>6</th>\n",
       "      <td>2200</td>\n",
       "      <td>convertible</td>\n",
       "      <td>manual</td>\n",
       "      <td>109</td>\n",
       "      <td>2_reihe</td>\n",
       "      <td>150000</td>\n",
       "      <td>petrol</td>\n",
       "      <td>peugeot</td>\n",
       "      <td>False</td>\n",
       "    </tr>\n",
       "  </tbody>\n",
       "</table>\n",
       "</div>"
      ],
      "text/plain": [
       "   price vehicle_type gearbox  power    model  kilometer fuel_type  \\\n",
       "2   9800          suv    auto    163    grand     125000  gasoline   \n",
       "3   1500        small  manual     75     golf     150000    petrol   \n",
       "4   3600        small  manual     69    fabia      90000  gasoline   \n",
       "5    650        sedan  manual    102      3er     150000    petrol   \n",
       "6   2200  convertible  manual    109  2_reihe     150000    petrol   \n",
       "\n",
       "        brand  repaired  \n",
       "2        jeep     False  \n",
       "3  volkswagen     False  \n",
       "4       skoda     False  \n",
       "5         bmw      True  \n",
       "6     peugeot     False  "
      ]
     },
     "execution_count": 34,
     "metadata": {},
     "output_type": "execute_result"
    }
   ],
   "source": [
    "clear_auto_data = clear_auto_data.drop(['date_crawled', 'registration_year', 'registration_month', 'date_created', \\\n",
    "                                        'number_of_pictures', 'postal_code', 'last_seen'], axis=1)\n",
    "clear_auto_data.head()"
   ]
  },
  {
   "cell_type": "markdown",
   "metadata": {},
   "source": [
    "**Промежуточные выводы**\n",
    "\n",
    "Мы исправили названия столбцов, обработали пропуски, избавились от аномальных значений, построили матрицу корреляций для количественных признаков и сотавили для модели только те, которые имеют значимую корреляцию с целевым признаком. Также иы избавились от ненужных категориальных признаков."
   ]
  },
  {
   "cell_type": "markdown",
   "metadata": {},
   "source": [
    "## Обучение моделей"
   ]
  },
  {
   "cell_type": "markdown",
   "metadata": {},
   "source": [
    "### Подготовим выборки для моделей"
   ]
  },
  {
   "cell_type": "code",
   "execution_count": 35,
   "metadata": {},
   "outputs": [
    {
     "data": {
      "text/html": [
       "<div>\n",
       "<style scoped>\n",
       "    .dataframe tbody tr th:only-of-type {\n",
       "        vertical-align: middle;\n",
       "    }\n",
       "\n",
       "    .dataframe tbody tr th {\n",
       "        vertical-align: top;\n",
       "    }\n",
       "\n",
       "    .dataframe thead th {\n",
       "        text-align: right;\n",
       "    }\n",
       "</style>\n",
       "<table border=\"1\" class=\"dataframe\">\n",
       "  <thead>\n",
       "    <tr style=\"text-align: right;\">\n",
       "      <th></th>\n",
       "      <th>price</th>\n",
       "      <th>vehicle_type</th>\n",
       "      <th>gearbox</th>\n",
       "      <th>power</th>\n",
       "      <th>model</th>\n",
       "      <th>kilometer</th>\n",
       "      <th>fuel_type</th>\n",
       "      <th>brand</th>\n",
       "      <th>repaired</th>\n",
       "    </tr>\n",
       "  </thead>\n",
       "  <tbody>\n",
       "    <tr>\n",
       "      <th>2</th>\n",
       "      <td>9800</td>\n",
       "      <td>suv</td>\n",
       "      <td>auto</td>\n",
       "      <td>163</td>\n",
       "      <td>grand</td>\n",
       "      <td>125000</td>\n",
       "      <td>gasoline</td>\n",
       "      <td>jeep</td>\n",
       "      <td>False</td>\n",
       "    </tr>\n",
       "    <tr>\n",
       "      <th>3</th>\n",
       "      <td>1500</td>\n",
       "      <td>small</td>\n",
       "      <td>manual</td>\n",
       "      <td>75</td>\n",
       "      <td>golf</td>\n",
       "      <td>150000</td>\n",
       "      <td>petrol</td>\n",
       "      <td>volkswagen</td>\n",
       "      <td>False</td>\n",
       "    </tr>\n",
       "    <tr>\n",
       "      <th>4</th>\n",
       "      <td>3600</td>\n",
       "      <td>small</td>\n",
       "      <td>manual</td>\n",
       "      <td>69</td>\n",
       "      <td>fabia</td>\n",
       "      <td>90000</td>\n",
       "      <td>gasoline</td>\n",
       "      <td>skoda</td>\n",
       "      <td>False</td>\n",
       "    </tr>\n",
       "    <tr>\n",
       "      <th>5</th>\n",
       "      <td>650</td>\n",
       "      <td>sedan</td>\n",
       "      <td>manual</td>\n",
       "      <td>102</td>\n",
       "      <td>3er</td>\n",
       "      <td>150000</td>\n",
       "      <td>petrol</td>\n",
       "      <td>bmw</td>\n",
       "      <td>True</td>\n",
       "    </tr>\n",
       "    <tr>\n",
       "      <th>6</th>\n",
       "      <td>2200</td>\n",
       "      <td>convertible</td>\n",
       "      <td>manual</td>\n",
       "      <td>109</td>\n",
       "      <td>2_reihe</td>\n",
       "      <td>150000</td>\n",
       "      <td>petrol</td>\n",
       "      <td>peugeot</td>\n",
       "      <td>False</td>\n",
       "    </tr>\n",
       "  </tbody>\n",
       "</table>\n",
       "</div>"
      ],
      "text/plain": [
       "   price vehicle_type gearbox  power    model  kilometer fuel_type  \\\n",
       "2   9800          suv    auto    163    grand     125000  gasoline   \n",
       "3   1500        small  manual     75     golf     150000    petrol   \n",
       "4   3600        small  manual     69    fabia      90000  gasoline   \n",
       "5    650        sedan  manual    102      3er     150000    petrol   \n",
       "6   2200  convertible  manual    109  2_reihe     150000    petrol   \n",
       "\n",
       "        brand  repaired  \n",
       "2        jeep     False  \n",
       "3  volkswagen     False  \n",
       "4       skoda     False  \n",
       "5         bmw      True  \n",
       "6     peugeot     False  "
      ]
     },
     "execution_count": 35,
     "metadata": {},
     "output_type": "execute_result"
    }
   ],
   "source": [
    "clear_auto_data['vehicle_type'] = clear_auto_data['vehicle_type'].astype('str')\n",
    "clear_auto_data['gearbox'] = clear_auto_data['gearbox'].astype('str')\n",
    "clear_auto_data['fuel_type'] = clear_auto_data['fuel_type'].astype('str')\n",
    "clear_auto_data.head()"
   ]
  },
  {
   "cell_type": "code",
   "execution_count": 36,
   "metadata": {},
   "outputs": [
    {
     "name": "stdout",
     "output_type": "stream",
     "text": [
      "(158532, 8)\n",
      "(158532,)\n",
      "(52845, 8)\n",
      "(52845,)\n",
      "(52844, 8)\n",
      "(52844,)\n"
     ]
    }
   ],
   "source": [
    "features = clear_auto_data.drop('price', axis=1)\n",
    "target = clear_auto_data['price']\n",
    "\n",
    "features_train, features_temp, target_train, target_temp = train_test_split(features, target, test_size=0.4, \\\n",
    "                                                                          random_state=RANDOM_STATE)\n",
    "\n",
    "features_valid, features_test, target_valid, target_test = train_test_split(features_temp, target_temp, test_size=0.5, \\\n",
    "                                                                          random_state=RANDOM_STATE)\n",
    "\n",
    "print(features_train.shape)\n",
    "print(target_train.shape)\n",
    "print(features_test.shape)\n",
    "print(target_test.shape)\n",
    "print(features_valid.shape)\n",
    "print(target_valid.shape)"
   ]
  },
  {
   "cell_type": "markdown",
   "metadata": {},
   "source": [
    "### Линейная модель"
   ]
  },
  {
   "cell_type": "code",
   "execution_count": 37,
   "metadata": {},
   "outputs": [
    {
     "name": "stdout",
     "output_type": "stream",
     "text": [
      "['vehicle_type', 'gearbox', 'model', 'fuel_type', 'brand']\n"
     ]
    },
    {
     "data": {
      "text/plain": [
       "['vehicle_type', 'gearbox', 'fuel_type', 'brand']"
      ]
     },
     "execution_count": 37,
     "metadata": {},
     "output_type": "execute_result"
    }
   ],
   "source": [
    "#категориальные признаки для линейной регрессии\n",
    "ohe_features_linear = features_train.select_dtypes(include='object').columns.to_list()\n",
    "print(ohe_features_linear)\n",
    "\n",
    "#категориальные признаки для OHE RandomForestRegressor\n",
    "ohe_features_rf = ohe_features_linear.copy()\n",
    "ohe_features_rf.remove('model')\n",
    "ohe_features_rf"
   ]
  },
  {
   "cell_type": "code",
   "execution_count": 38,
   "metadata": {},
   "outputs": [
    {
     "data": {
      "text/plain": [
       "['power', 'kilometer']"
      ]
     },
     "execution_count": 38,
     "metadata": {},
     "output_type": "execute_result"
    }
   ],
   "source": [
    "#численные признаки\n",
    "num_features = features_train.select_dtypes(exclude='object').columns.to_list()\n",
    "num_features.remove('repaired')\n",
    "num_features"
   ]
  },
  {
   "cell_type": "code",
   "execution_count": 39,
   "metadata": {},
   "outputs": [],
   "source": [
    "features_train_linear = features_train.copy()\n",
    "features_valid_linear = features_valid.copy()\n",
    "features_test_linear = features_test.copy()"
   ]
  },
  {
   "cell_type": "code",
   "execution_count": 40,
   "metadata": {},
   "outputs": [
    {
     "data": {
      "text/html": [
       "<div>\n",
       "<style scoped>\n",
       "    .dataframe tbody tr th:only-of-type {\n",
       "        vertical-align: middle;\n",
       "    }\n",
       "\n",
       "    .dataframe tbody tr th {\n",
       "        vertical-align: top;\n",
       "    }\n",
       "\n",
       "    .dataframe thead th {\n",
       "        text-align: right;\n",
       "    }\n",
       "</style>\n",
       "<table border=\"1\" class=\"dataframe\">\n",
       "  <thead>\n",
       "    <tr style=\"text-align: right;\">\n",
       "      <th></th>\n",
       "      <th>vehicle_type_bus</th>\n",
       "      <th>vehicle_type_convertible</th>\n",
       "      <th>vehicle_type_coupe</th>\n",
       "      <th>vehicle_type_other</th>\n",
       "      <th>vehicle_type_sedan</th>\n",
       "      <th>vehicle_type_small</th>\n",
       "      <th>vehicle_type_suv</th>\n",
       "      <th>vehicle_type_wagon</th>\n",
       "      <th>gearbox_manual</th>\n",
       "      <th>model_145</th>\n",
       "      <th>...</th>\n",
       "      <th>brand_smart</th>\n",
       "      <th>brand_subaru</th>\n",
       "      <th>brand_suzuki</th>\n",
       "      <th>brand_toyota</th>\n",
       "      <th>brand_trabant</th>\n",
       "      <th>brand_volkswagen</th>\n",
       "      <th>brand_volvo</th>\n",
       "      <th>power</th>\n",
       "      <th>kilometer</th>\n",
       "      <th>repaired</th>\n",
       "    </tr>\n",
       "  </thead>\n",
       "  <tbody>\n",
       "    <tr>\n",
       "      <th>0</th>\n",
       "      <td>0.0</td>\n",
       "      <td>0.0</td>\n",
       "      <td>0.0</td>\n",
       "      <td>0.0</td>\n",
       "      <td>0.0</td>\n",
       "      <td>1.0</td>\n",
       "      <td>0.0</td>\n",
       "      <td>0.0</td>\n",
       "      <td>1.0</td>\n",
       "      <td>0.0</td>\n",
       "      <td>...</td>\n",
       "      <td>0.0</td>\n",
       "      <td>0.0</td>\n",
       "      <td>0.0</td>\n",
       "      <td>0.0</td>\n",
       "      <td>0.0</td>\n",
       "      <td>0.0</td>\n",
       "      <td>0.0</td>\n",
       "      <td>-0.408395</td>\n",
       "      <td>0.610974</td>\n",
       "      <td>0.0</td>\n",
       "    </tr>\n",
       "    <tr>\n",
       "      <th>1</th>\n",
       "      <td>0.0</td>\n",
       "      <td>0.0</td>\n",
       "      <td>0.0</td>\n",
       "      <td>0.0</td>\n",
       "      <td>1.0</td>\n",
       "      <td>0.0</td>\n",
       "      <td>0.0</td>\n",
       "      <td>0.0</td>\n",
       "      <td>1.0</td>\n",
       "      <td>0.0</td>\n",
       "      <td>...</td>\n",
       "      <td>0.0</td>\n",
       "      <td>0.0</td>\n",
       "      <td>0.0</td>\n",
       "      <td>0.0</td>\n",
       "      <td>0.0</td>\n",
       "      <td>1.0</td>\n",
       "      <td>0.0</td>\n",
       "      <td>-0.334167</td>\n",
       "      <td>-2.916247</td>\n",
       "      <td>0.0</td>\n",
       "    </tr>\n",
       "    <tr>\n",
       "      <th>2</th>\n",
       "      <td>0.0</td>\n",
       "      <td>0.0</td>\n",
       "      <td>0.0</td>\n",
       "      <td>0.0</td>\n",
       "      <td>0.0</td>\n",
       "      <td>0.0</td>\n",
       "      <td>0.0</td>\n",
       "      <td>1.0</td>\n",
       "      <td>1.0</td>\n",
       "      <td>0.0</td>\n",
       "      <td>...</td>\n",
       "      <td>0.0</td>\n",
       "      <td>0.0</td>\n",
       "      <td>0.0</td>\n",
       "      <td>0.0</td>\n",
       "      <td>0.0</td>\n",
       "      <td>1.0</td>\n",
       "      <td>0.0</td>\n",
       "      <td>0.148318</td>\n",
       "      <td>0.610974</td>\n",
       "      <td>0.0</td>\n",
       "    </tr>\n",
       "    <tr>\n",
       "      <th>3</th>\n",
       "      <td>1.0</td>\n",
       "      <td>0.0</td>\n",
       "      <td>0.0</td>\n",
       "      <td>0.0</td>\n",
       "      <td>0.0</td>\n",
       "      <td>0.0</td>\n",
       "      <td>0.0</td>\n",
       "      <td>0.0</td>\n",
       "      <td>0.0</td>\n",
       "      <td>0.0</td>\n",
       "      <td>...</td>\n",
       "      <td>0.0</td>\n",
       "      <td>0.0</td>\n",
       "      <td>0.0</td>\n",
       "      <td>0.0</td>\n",
       "      <td>0.0</td>\n",
       "      <td>0.0</td>\n",
       "      <td>0.0</td>\n",
       "      <td>0.742145</td>\n",
       "      <td>0.610974</td>\n",
       "      <td>0.0</td>\n",
       "    </tr>\n",
       "    <tr>\n",
       "      <th>4</th>\n",
       "      <td>0.0</td>\n",
       "      <td>0.0</td>\n",
       "      <td>0.0</td>\n",
       "      <td>0.0</td>\n",
       "      <td>1.0</td>\n",
       "      <td>0.0</td>\n",
       "      <td>0.0</td>\n",
       "      <td>0.0</td>\n",
       "      <td>0.0</td>\n",
       "      <td>0.0</td>\n",
       "      <td>...</td>\n",
       "      <td>0.0</td>\n",
       "      <td>0.0</td>\n",
       "      <td>0.0</td>\n",
       "      <td>0.0</td>\n",
       "      <td>0.0</td>\n",
       "      <td>0.0</td>\n",
       "      <td>0.0</td>\n",
       "      <td>3.024669</td>\n",
       "      <td>0.610974</td>\n",
       "      <td>0.0</td>\n",
       "    </tr>\n",
       "  </tbody>\n",
       "</table>\n",
       "<p>5 rows × 305 columns</p>\n",
       "</div>"
      ],
      "text/plain": [
       "   vehicle_type_bus  vehicle_type_convertible  vehicle_type_coupe  \\\n",
       "0               0.0                       0.0                 0.0   \n",
       "1               0.0                       0.0                 0.0   \n",
       "2               0.0                       0.0                 0.0   \n",
       "3               1.0                       0.0                 0.0   \n",
       "4               0.0                       0.0                 0.0   \n",
       "\n",
       "   vehicle_type_other  vehicle_type_sedan  vehicle_type_small  \\\n",
       "0                 0.0                 0.0                 1.0   \n",
       "1                 0.0                 1.0                 0.0   \n",
       "2                 0.0                 0.0                 0.0   \n",
       "3                 0.0                 0.0                 0.0   \n",
       "4                 0.0                 1.0                 0.0   \n",
       "\n",
       "   vehicle_type_suv  vehicle_type_wagon  gearbox_manual  model_145  ...  \\\n",
       "0               0.0                 0.0             1.0        0.0  ...   \n",
       "1               0.0                 0.0             1.0        0.0  ...   \n",
       "2               0.0                 1.0             1.0        0.0  ...   \n",
       "3               0.0                 0.0             0.0        0.0  ...   \n",
       "4               0.0                 0.0             0.0        0.0  ...   \n",
       "\n",
       "   brand_smart  brand_subaru  brand_suzuki  brand_toyota  brand_trabant  \\\n",
       "0          0.0           0.0           0.0           0.0            0.0   \n",
       "1          0.0           0.0           0.0           0.0            0.0   \n",
       "2          0.0           0.0           0.0           0.0            0.0   \n",
       "3          0.0           0.0           0.0           0.0            0.0   \n",
       "4          0.0           0.0           0.0           0.0            0.0   \n",
       "\n",
       "   brand_volkswagen  brand_volvo     power  kilometer  repaired  \n",
       "0               0.0          0.0 -0.408395   0.610974       0.0  \n",
       "1               1.0          0.0 -0.334167  -2.916247       0.0  \n",
       "2               1.0          0.0  0.148318   0.610974       0.0  \n",
       "3               0.0          0.0  0.742145   0.610974       0.0  \n",
       "4               0.0          0.0  3.024669   0.610974       0.0  \n",
       "\n",
       "[5 rows x 305 columns]"
      ]
     },
     "execution_count": 40,
     "metadata": {},
     "output_type": "execute_result"
    }
   ],
   "source": [
    "# признак repaired уже бинарный, его не будем кодировать/масштабировать\n",
    "# добавляем remainder='passthrough, чтобы он не пропал \n",
    "col_transformer_linear = make_column_transformer(\n",
    "    (\n",
    "        OneHotEncoder(drop='first', handle_unknown='ignore'),\n",
    "        ohe_features_linear\n",
    "    ),\n",
    "    (\n",
    "        StandardScaler(), \n",
    "        num_features\n",
    "    ),\n",
    "    remainder='passthrough',\n",
    "    verbose_feature_names_out=False\n",
    ")\n",
    "\n",
    "features_train_linear = pd.DataFrame.sparse.from_spmatrix(\n",
    "    col_transformer_linear.fit_transform(features_train_linear),\n",
    "    columns=col_transformer_linear.get_feature_names_out()\n",
    ")\n",
    "\n",
    "# смотрим на результат\n",
    "features_train_linear.head()"
   ]
  },
  {
   "cell_type": "code",
   "execution_count": 41,
   "metadata": {},
   "outputs": [
    {
     "data": {
      "text/html": [
       "<div>\n",
       "<style scoped>\n",
       "    .dataframe tbody tr th:only-of-type {\n",
       "        vertical-align: middle;\n",
       "    }\n",
       "\n",
       "    .dataframe tbody tr th {\n",
       "        vertical-align: top;\n",
       "    }\n",
       "\n",
       "    .dataframe thead th {\n",
       "        text-align: right;\n",
       "    }\n",
       "</style>\n",
       "<table border=\"1\" class=\"dataframe\">\n",
       "  <thead>\n",
       "    <tr style=\"text-align: right;\">\n",
       "      <th></th>\n",
       "      <th>vehicle_type_bus</th>\n",
       "      <th>vehicle_type_convertible</th>\n",
       "      <th>vehicle_type_coupe</th>\n",
       "      <th>vehicle_type_other</th>\n",
       "      <th>vehicle_type_sedan</th>\n",
       "      <th>vehicle_type_small</th>\n",
       "      <th>vehicle_type_suv</th>\n",
       "      <th>vehicle_type_wagon</th>\n",
       "      <th>gearbox_manual</th>\n",
       "      <th>model_145</th>\n",
       "      <th>...</th>\n",
       "      <th>brand_smart</th>\n",
       "      <th>brand_subaru</th>\n",
       "      <th>brand_suzuki</th>\n",
       "      <th>brand_toyota</th>\n",
       "      <th>brand_trabant</th>\n",
       "      <th>brand_volkswagen</th>\n",
       "      <th>brand_volvo</th>\n",
       "      <th>power</th>\n",
       "      <th>kilometer</th>\n",
       "      <th>repaired</th>\n",
       "    </tr>\n",
       "  </thead>\n",
       "  <tbody>\n",
       "    <tr>\n",
       "      <th>0</th>\n",
       "      <td>0.0</td>\n",
       "      <td>0.0</td>\n",
       "      <td>0.0</td>\n",
       "      <td>0.0</td>\n",
       "      <td>0.0</td>\n",
       "      <td>1.0</td>\n",
       "      <td>0.0</td>\n",
       "      <td>0.0</td>\n",
       "      <td>1.0</td>\n",
       "      <td>0.0</td>\n",
       "      <td>...</td>\n",
       "      <td>0.0</td>\n",
       "      <td>0.0</td>\n",
       "      <td>0.0</td>\n",
       "      <td>0.0</td>\n",
       "      <td>0.0</td>\n",
       "      <td>1.0</td>\n",
       "      <td>0.0</td>\n",
       "      <td>-1.280579</td>\n",
       "      <td>0.610974</td>\n",
       "      <td>0.0</td>\n",
       "    </tr>\n",
       "    <tr>\n",
       "      <th>1</th>\n",
       "      <td>0.0</td>\n",
       "      <td>0.0</td>\n",
       "      <td>0.0</td>\n",
       "      <td>0.0</td>\n",
       "      <td>1.0</td>\n",
       "      <td>0.0</td>\n",
       "      <td>0.0</td>\n",
       "      <td>0.0</td>\n",
       "      <td>1.0</td>\n",
       "      <td>0.0</td>\n",
       "      <td>...</td>\n",
       "      <td>0.0</td>\n",
       "      <td>0.0</td>\n",
       "      <td>0.0</td>\n",
       "      <td>0.0</td>\n",
       "      <td>0.0</td>\n",
       "      <td>0.0</td>\n",
       "      <td>0.0</td>\n",
       "      <td>0.148318</td>\n",
       "      <td>0.610974</td>\n",
       "      <td>1.0</td>\n",
       "    </tr>\n",
       "    <tr>\n",
       "      <th>2</th>\n",
       "      <td>0.0</td>\n",
       "      <td>0.0</td>\n",
       "      <td>0.0</td>\n",
       "      <td>0.0</td>\n",
       "      <td>1.0</td>\n",
       "      <td>0.0</td>\n",
       "      <td>0.0</td>\n",
       "      <td>0.0</td>\n",
       "      <td>1.0</td>\n",
       "      <td>0.0</td>\n",
       "      <td>...</td>\n",
       "      <td>0.0</td>\n",
       "      <td>0.0</td>\n",
       "      <td>0.0</td>\n",
       "      <td>0.0</td>\n",
       "      <td>0.0</td>\n",
       "      <td>0.0</td>\n",
       "      <td>0.0</td>\n",
       "      <td>1.001945</td>\n",
       "      <td>-2.102273</td>\n",
       "      <td>0.0</td>\n",
       "    </tr>\n",
       "    <tr>\n",
       "      <th>3</th>\n",
       "      <td>0.0</td>\n",
       "      <td>0.0</td>\n",
       "      <td>0.0</td>\n",
       "      <td>0.0</td>\n",
       "      <td>0.0</td>\n",
       "      <td>0.0</td>\n",
       "      <td>1.0</td>\n",
       "      <td>0.0</td>\n",
       "      <td>1.0</td>\n",
       "      <td>0.0</td>\n",
       "      <td>...</td>\n",
       "      <td>0.0</td>\n",
       "      <td>0.0</td>\n",
       "      <td>0.0</td>\n",
       "      <td>0.0</td>\n",
       "      <td>0.0</td>\n",
       "      <td>1.0</td>\n",
       "      <td>0.0</td>\n",
       "      <td>0.872045</td>\n",
       "      <td>-1.288299</td>\n",
       "      <td>0.0</td>\n",
       "    </tr>\n",
       "    <tr>\n",
       "      <th>4</th>\n",
       "      <td>0.0</td>\n",
       "      <td>0.0</td>\n",
       "      <td>0.0</td>\n",
       "      <td>0.0</td>\n",
       "      <td>1.0</td>\n",
       "      <td>0.0</td>\n",
       "      <td>0.0</td>\n",
       "      <td>0.0</td>\n",
       "      <td>1.0</td>\n",
       "      <td>0.0</td>\n",
       "      <td>...</td>\n",
       "      <td>0.0</td>\n",
       "      <td>0.0</td>\n",
       "      <td>0.0</td>\n",
       "      <td>0.0</td>\n",
       "      <td>0.0</td>\n",
       "      <td>0.0</td>\n",
       "      <td>0.0</td>\n",
       "      <td>0.872045</td>\n",
       "      <td>0.610974</td>\n",
       "      <td>0.0</td>\n",
       "    </tr>\n",
       "  </tbody>\n",
       "</table>\n",
       "<p>5 rows × 305 columns</p>\n",
       "</div>"
      ],
      "text/plain": [
       "   vehicle_type_bus  vehicle_type_convertible  vehicle_type_coupe  \\\n",
       "0               0.0                       0.0                 0.0   \n",
       "1               0.0                       0.0                 0.0   \n",
       "2               0.0                       0.0                 0.0   \n",
       "3               0.0                       0.0                 0.0   \n",
       "4               0.0                       0.0                 0.0   \n",
       "\n",
       "   vehicle_type_other  vehicle_type_sedan  vehicle_type_small  \\\n",
       "0                 0.0                 0.0                 1.0   \n",
       "1                 0.0                 1.0                 0.0   \n",
       "2                 0.0                 1.0                 0.0   \n",
       "3                 0.0                 0.0                 0.0   \n",
       "4                 0.0                 1.0                 0.0   \n",
       "\n",
       "   vehicle_type_suv  vehicle_type_wagon  gearbox_manual  model_145  ...  \\\n",
       "0               0.0                 0.0             1.0        0.0  ...   \n",
       "1               0.0                 0.0             1.0        0.0  ...   \n",
       "2               0.0                 0.0             1.0        0.0  ...   \n",
       "3               1.0                 0.0             1.0        0.0  ...   \n",
       "4               0.0                 0.0             1.0        0.0  ...   \n",
       "\n",
       "   brand_smart  brand_subaru  brand_suzuki  brand_toyota  brand_trabant  \\\n",
       "0          0.0           0.0           0.0           0.0            0.0   \n",
       "1          0.0           0.0           0.0           0.0            0.0   \n",
       "2          0.0           0.0           0.0           0.0            0.0   \n",
       "3          0.0           0.0           0.0           0.0            0.0   \n",
       "4          0.0           0.0           0.0           0.0            0.0   \n",
       "\n",
       "   brand_volkswagen  brand_volvo     power  kilometer  repaired  \n",
       "0               1.0          0.0 -1.280579   0.610974       0.0  \n",
       "1               0.0          0.0  0.148318   0.610974       1.0  \n",
       "2               0.0          0.0  1.001945  -2.102273       0.0  \n",
       "3               1.0          0.0  0.872045  -1.288299       0.0  \n",
       "4               0.0          0.0  0.872045   0.610974       0.0  \n",
       "\n",
       "[5 rows x 305 columns]"
      ]
     },
     "execution_count": 41,
     "metadata": {},
     "output_type": "execute_result"
    }
   ],
   "source": [
    "# трансформируем валидационную выборку\n",
    "features_valid_linear = pd.DataFrame.sparse.from_spmatrix(\n",
    "    col_transformer_linear.transform(features_valid_linear),\n",
    "    columns=col_transformer_linear.get_feature_names_out()\n",
    ")\n",
    "\n",
    "# смотрим на результат\n",
    "features_valid_linear.head()"
   ]
  },
  {
   "cell_type": "code",
   "execution_count": 42,
   "metadata": {},
   "outputs": [
    {
     "name": "stdout",
     "output_type": "stream",
     "text": [
      "CPU times: user 15.2 s, sys: 17.8 s, total: 32.9 s\n",
      "Wall time: 33.1 s\n",
      "CPU times: user 185 ms, sys: 55.3 ms, total: 240 ms\n",
      "Wall time: 249 ms\n",
      "средняя предсказанная цена: 5264.469949095736\n",
      "RMSE: 2878.3129820467693\n"
     ]
    }
   ],
   "source": [
    "linear_model = LinearRegression()\n",
    "%time linear_model.fit(features_train_linear, target_train)\n",
    "%time linear_predictions = linear_model.predict(features_valid_linear)\n",
    "linear_mse = mean_squared_error(target_valid, linear_predictions)\n",
    "linear_rmse = linear_mse ** 0.5\n",
    "print('средняя предсказанная цена:', linear_predictions.mean())\n",
    "print('RMSE:', linear_rmse)"
   ]
  },
  {
   "cell_type": "markdown",
   "metadata": {},
   "source": [
    "Время обучения: ~52.9 s\n",
    "\n",
    "Время предсказания: ~212 ms\n",
    "\n",
    "RMSE: 2878.3"
   ]
  },
  {
   "cell_type": "markdown",
   "metadata": {},
   "source": [
    "### Константная модель"
   ]
  },
  {
   "cell_type": "code",
   "execution_count": 43,
   "metadata": {},
   "outputs": [
    {
     "name": "stdout",
     "output_type": "stream",
     "text": [
      "CPU times: user 3.6 ms, sys: 0 ns, total: 3.6 ms\n",
      "Wall time: 2.73 ms\n",
      "CPU times: user 511 µs, sys: 109 µs, total: 620 µs\n",
      "Wall time: 439 µs\n",
      "средняя предсказанная цена: 3600.0\n",
      "RMSE: 4959.885883201086\n"
     ]
    }
   ],
   "source": [
    "dummy_model = DummyRegressor(strategy=\"median\")\n",
    "%time dummy_model.fit(features_train_linear, target_train)\n",
    "%time dummy_predict = dummy_model.predict(features_valid_linear)\n",
    "dummy_mse = mean_squared_error(target_valid, dummy_predict)\n",
    "dummy_rmse = dummy_mse ** 0.5\n",
    "print('средняя предсказанная цена:', pd.Series(dummy_predict).median())\n",
    "print('RMSE:', dummy_rmse)"
   ]
  },
  {
   "cell_type": "markdown",
   "metadata": {},
   "source": [
    "Время обучения: ~3.72 ms\n",
    "\n",
    "Время предсказания: ~661 µs\n",
    "\n",
    "RMSE: 4959.8"
   ]
  },
  {
   "cell_type": "markdown",
   "metadata": {},
   "source": [
    "### Модель случайного леса"
   ]
  },
  {
   "cell_type": "code",
   "execution_count": 44,
   "metadata": {
    "scrolled": true
   },
   "outputs": [
    {
     "name": "stdout",
     "output_type": "stream",
     "text": [
      "Время обучения:\n",
      "CPU times: user 8min 22s, sys: 911 ms, total: 8min 23s\n",
      "Wall time: 8min 23s\n",
      "CPU times: user 803 ms, sys: 6.88 ms, total: 810 ms\n",
      "Wall time: 812 ms\n",
      "Время предсказания:\n",
      "est: 50 depth: None rmse: 2100.7310802351194\n",
      "\n",
      "Время обучения:\n",
      "CPU times: user 11.6 s, sys: 21.5 ms, total: 11.6 s\n",
      "Wall time: 11.6 s\n",
      "CPU times: user 140 ms, sys: 13 µs, total: 140 ms\n",
      "Wall time: 141 ms\n",
      "Время предсказания:\n",
      "est: 50 depth: 5 rmse: 2953.2988157276986\n",
      "\n",
      "Время обучения:\n",
      "CPU times: user 18.3 s, sys: 10.4 ms, total: 18.3 s\n",
      "Wall time: 18.3 s\n",
      "CPU times: user 158 ms, sys: 0 ns, total: 158 ms\n",
      "Wall time: 158 ms\n",
      "Время предсказания:\n",
      "est: 50 depth: 6 rmse: 2852.341433861779\n",
      "\n",
      "Время обучения:\n",
      "CPU times: user 16min 43s, sys: 1.19 s, total: 16min 44s\n",
      "Wall time: 16min 44s\n",
      "CPU times: user 1.59 s, sys: 4.01 ms, total: 1.59 s\n",
      "Wall time: 1.59 s\n",
      "Время предсказания:\n",
      "est: 100 depth: None rmse: 2097.14977197043\n",
      "\n",
      "Время обучения:\n",
      "CPU times: user 23.4 s, sys: 4.41 ms, total: 23.4 s\n",
      "Wall time: 23.4 s\n",
      "CPU times: user 238 ms, sys: 28 µs, total: 238 ms\n",
      "Wall time: 237 ms\n",
      "Время предсказания:\n",
      "est: 100 depth: 5 rmse: 2952.0632454700435\n",
      "\n",
      "Время обучения:\n",
      "CPU times: user 36.7 s, sys: 29.6 ms, total: 36.7 s\n",
      "Wall time: 36.8 s\n",
      "CPU times: user 278 ms, sys: 0 ns, total: 278 ms\n",
      "Wall time: 280 ms\n",
      "Время предсказания:\n",
      "est: 100 depth: 6 rmse: 2850.891312352037\n",
      "\n",
      "est: 100 depth: None rmse: 2097.14977197043\n"
     ]
    }
   ],
   "source": [
    "best_rf_model = 0\n",
    "best_est = 0\n",
    "best_depth = 0\n",
    "rf_rmse = 10000\n",
    "\n",
    "i_depth = [None] + [i for i in range(5, 7)]\n",
    "\n",
    "for est in range(50, 101, 50):\n",
    "    for depth in i_depth:\n",
    "        rf_model = RandomForestRegressor(random_state=RANDOM_STATE, n_estimators=est, max_depth=depth)\n",
    "        print('Время обучения:')\n",
    "        %time rf_model.fit(features_train_linear, target_train)\n",
    "        %time rf_predictions = rf_model.predict(features_valid_linear)\n",
    "        print('Время предсказания:')\n",
    "        rf_mse = mean_squared_error(target_valid, rf_predictions)\n",
    "        rmse = rf_mse ** 0.5\n",
    "        print('est:', est, 'depth:', depth, 'rmse:', rmse)\n",
    "        print()\n",
    "        if rmse < rf_rmse:\n",
    "            best_rf_model = rf_model\n",
    "            best_est = est\n",
    "            best_depth = depth\n",
    "            rf_rmse = rmse\n",
    "print('est:', best_est, 'depth:', best_depth, 'rmse:', rf_rmse)"
   ]
  },
  {
   "cell_type": "code",
   "execution_count": 45,
   "metadata": {},
   "outputs": [
    {
     "name": "stdout",
     "output_type": "stream",
     "text": [
      "<class 'pandas.core.frame.DataFrame'>\n",
      "RangeIndex: 158532 entries, 0 to 158531\n",
      "Columns: 305 entries, vehicle_type_bus to repaired\n",
      "dtypes: Sparse[float64, 0](305)\n",
      "memory usage: 12.4 MB\n"
     ]
    }
   ],
   "source": [
    "features_train_linear.info()"
   ]
  },
  {
   "cell_type": "markdown",
   "metadata": {},
   "source": [
    "Время обучения: ~18min 30s\n",
    "\n",
    "Время предсказания: ~1.55 s\n",
    "\n",
    "RMSE: 2097.14"
   ]
  },
  {
   "cell_type": "markdown",
   "metadata": {},
   "source": [
    "### Модель градиентного бустинга LightGBM"
   ]
  },
  {
   "cell_type": "code",
   "execution_count": 46,
   "metadata": {},
   "outputs": [],
   "source": [
    "features_train_linear = features_train_linear.rename(columns = lambda x:re.sub('[^A-Za-z0-9_]+', '', x))\n",
    "features_valid_linear = features_valid_linear.rename(columns = lambda x:re.sub('[^A-Za-z0-9_]+', '', x))"
   ]
  },
  {
   "cell_type": "code",
   "execution_count": 47,
   "metadata": {},
   "outputs": [
    {
     "name": "stdout",
     "output_type": "stream",
     "text": [
      "<class 'pandas.core.frame.DataFrame'>\n",
      "RangeIndex: 158532 entries, 0 to 158531\n",
      "Columns: 305 entries, vehicle_type_bus to repaired\n",
      "dtypes: Sparse[float64, 0](305)\n",
      "memory usage: 12.4 MB\n"
     ]
    }
   ],
   "source": [
    "features_train_linear.info()"
   ]
  },
  {
   "cell_type": "code",
   "execution_count": 48,
   "metadata": {},
   "outputs": [
    {
     "name": "stdout",
     "output_type": "stream",
     "text": [
      "Время обучения:\n",
      "CPU times: user 7.24 s, sys: 309 ms, total: 7.54 s\n",
      "Wall time: 7.58 s\n",
      "Время предсказания:\n",
      "CPU times: user 641 ms, sys: 30.5 ms, total: 672 ms\n",
      "Wall time: 618 ms\n",
      "est: 10 depth: None rmse: 2409.515893501116\n",
      "\n",
      "Время обучения:\n",
      "CPU times: user 5.31 s, sys: 218 ms, total: 5.53 s\n",
      "Wall time: 5.58 s\n",
      "Время предсказания:\n",
      "CPU times: user 388 ms, sys: 35 ms, total: 423 ms\n",
      "Wall time: 410 ms\n",
      "est: 10 depth: 5 rmse: 2548.5631908378764\n",
      "\n",
      "Время обучения:\n",
      "CPU times: user 4.85 s, sys: 238 ms, total: 5.09 s\n",
      "Wall time: 5.1 s\n",
      "Время предсказания:\n",
      "CPU times: user 465 ms, sys: 30.3 ms, total: 495 ms\n",
      "Wall time: 505 ms\n",
      "est: 10 depth: 6 rmse: 2498.4905212350386\n",
      "\n",
      "Время обучения:\n",
      "CPU times: user 6.83 s, sys: 274 ms, total: 7.1 s\n",
      "Wall time: 7.19 s\n",
      "Время предсказания:\n",
      "CPU times: user 658 ms, sys: 38.6 ms, total: 696 ms\n",
      "Wall time: 709 ms\n",
      "est: 20 depth: None rmse: 2409.515893501116\n",
      "\n",
      "Время обучения:\n",
      "CPU times: user 4.55 s, sys: 250 ms, total: 4.8 s\n",
      "Wall time: 4.8 s\n",
      "Время предсказания:\n",
      "CPU times: user 393 ms, sys: 38.9 ms, total: 432 ms\n",
      "Wall time: 493 ms\n",
      "est: 20 depth: 5 rmse: 2548.5631908378764\n",
      "\n",
      "Время обучения:\n",
      "CPU times: user 5.15 s, sys: 223 ms, total: 5.37 s\n",
      "Wall time: 5.4 s\n",
      "Время предсказания:\n",
      "CPU times: user 462 ms, sys: 46.8 ms, total: 509 ms\n",
      "Wall time: 515 ms\n",
      "est: 20 depth: 6 rmse: 2498.4905212350386\n",
      "\n",
      "est: 10 depth: None rmse: 2409.515893501116\n"
     ]
    }
   ],
   "source": [
    "best_lgbm_model = LGBMRegressor()\n",
    "best_lgbm_est = 0\n",
    "best_lgbm_depth = 0\n",
    "lgbm_rmse = 10000\n",
    "\n",
    "i_depth = [None] + [i for i in range(5, 7)]\n",
    "\n",
    "for est in range(10, 21, 10):\n",
    "    for depth in i_depth:\n",
    "        lgbm_model = LGBMRegressor(random_state=RANDOM_STATE, max_depth=depth)\n",
    "        print('Время обучения:')\n",
    "        %time lgbm_model.fit(features_train_linear, target_train)\n",
    "        print('Время предсказания:')\n",
    "        %time lgbm_predictions = lgbm_model.predict(features_valid_linear)\n",
    "        lgbm_mse = mean_squared_error(target_valid, lgbm_predictions)\n",
    "        rmse = lgbm_mse ** 0.5\n",
    "        print('est:', est, 'depth:', depth, 'rmse:', rmse)\n",
    "        print()\n",
    "        if rmse < lgbm_rmse:\n",
    "            best_lgbm_model = lgbm_model\n",
    "            best_lgbm_est = est\n",
    "            best_lgbm_depth = depth\n",
    "            lgbm_rmse = rmse\n",
    "print('est:', best_lgbm_est, 'depth:', best_lgbm_depth, 'rmse:', lgbm_rmse)"
   ]
  },
  {
   "cell_type": "markdown",
   "metadata": {},
   "source": [
    "Время обучения: ~5.69 s\n",
    "\n",
    "Время предсказания: ~704 ms\n",
    "\n",
    "RMSE: 2409.5"
   ]
  },
  {
   "cell_type": "markdown",
   "metadata": {},
   "source": [
    "**Промежуточные выводы**\n",
    "\n",
    "\n",
    "Лучший rmse показала модель случайного леса: 2097.14. Затем модель градиентного бустинга: 2409.5. Модель линейной регрессии: 2878.3.\n",
    "\n",
    "Лучшее время обучения у градиентного бустинга: 5.69 s, Затем у линейной регрессии: 52.9 s. и у случайного леса 18min 30s.\n",
    "\n",
    "Лучшее время предсказания у линейной регрессии: 91.5 ms. Затем у градиентного бустинга 704 ms. И у случайного леса 47.4 s."
   ]
  },
  {
   "cell_type": "markdown",
   "metadata": {},
   "source": [
    "В требованиях заказчика указано, что rmse должна быть меньше 2500. этому требованию удовлетворет модель слуайного леса и градиентного бустинга. Время на предсказание и обучение нужно минимозировать, но при этом оставить качество модели. Поэтому мы выберем модель градиентного бустинга, она дает хороший результат по всем критериям."
   ]
  },
  {
   "cell_type": "markdown",
   "metadata": {},
   "source": [
    "## Анализ моделей"
   ]
  },
  {
   "cell_type": "markdown",
   "metadata": {},
   "source": [
    "Проверим модель градиентного бустинга на тестовой выборке."
   ]
  },
  {
   "cell_type": "code",
   "execution_count": 49,
   "metadata": {},
   "outputs": [
    {
     "data": {
      "text/html": [
       "<div>\n",
       "<style scoped>\n",
       "    .dataframe tbody tr th:only-of-type {\n",
       "        vertical-align: middle;\n",
       "    }\n",
       "\n",
       "    .dataframe tbody tr th {\n",
       "        vertical-align: top;\n",
       "    }\n",
       "\n",
       "    .dataframe thead th {\n",
       "        text-align: right;\n",
       "    }\n",
       "</style>\n",
       "<table border=\"1\" class=\"dataframe\">\n",
       "  <thead>\n",
       "    <tr style=\"text-align: right;\">\n",
       "      <th></th>\n",
       "      <th>vehicle_type_bus</th>\n",
       "      <th>vehicle_type_convertible</th>\n",
       "      <th>vehicle_type_coupe</th>\n",
       "      <th>vehicle_type_other</th>\n",
       "      <th>vehicle_type_sedan</th>\n",
       "      <th>vehicle_type_small</th>\n",
       "      <th>vehicle_type_suv</th>\n",
       "      <th>vehicle_type_wagon</th>\n",
       "      <th>gearbox_manual</th>\n",
       "      <th>model_145</th>\n",
       "      <th>...</th>\n",
       "      <th>brand_smart</th>\n",
       "      <th>brand_subaru</th>\n",
       "      <th>brand_suzuki</th>\n",
       "      <th>brand_toyota</th>\n",
       "      <th>brand_trabant</th>\n",
       "      <th>brand_volkswagen</th>\n",
       "      <th>brand_volvo</th>\n",
       "      <th>power</th>\n",
       "      <th>kilometer</th>\n",
       "      <th>repaired</th>\n",
       "    </tr>\n",
       "  </thead>\n",
       "  <tbody>\n",
       "    <tr>\n",
       "      <th>0</th>\n",
       "      <td>0.0</td>\n",
       "      <td>0.0</td>\n",
       "      <td>0.0</td>\n",
       "      <td>0.0</td>\n",
       "      <td>0.0</td>\n",
       "      <td>0.0</td>\n",
       "      <td>0.0</td>\n",
       "      <td>1.0</td>\n",
       "      <td>0.0</td>\n",
       "      <td>0.0</td>\n",
       "      <td>...</td>\n",
       "      <td>0.0</td>\n",
       "      <td>0.0</td>\n",
       "      <td>0.0</td>\n",
       "      <td>0.0</td>\n",
       "      <td>0.0</td>\n",
       "      <td>1.0</td>\n",
       "      <td>0.0</td>\n",
       "      <td>-0.018696</td>\n",
       "      <td>-2.102273</td>\n",
       "      <td>0.0</td>\n",
       "    </tr>\n",
       "    <tr>\n",
       "      <th>1</th>\n",
       "      <td>0.0</td>\n",
       "      <td>0.0</td>\n",
       "      <td>0.0</td>\n",
       "      <td>0.0</td>\n",
       "      <td>1.0</td>\n",
       "      <td>0.0</td>\n",
       "      <td>0.0</td>\n",
       "      <td>0.0</td>\n",
       "      <td>1.0</td>\n",
       "      <td>0.0</td>\n",
       "      <td>...</td>\n",
       "      <td>0.0</td>\n",
       "      <td>0.0</td>\n",
       "      <td>0.0</td>\n",
       "      <td>0.0</td>\n",
       "      <td>0.0</td>\n",
       "      <td>0.0</td>\n",
       "      <td>0.0</td>\n",
       "      <td>-0.334167</td>\n",
       "      <td>0.610974</td>\n",
       "      <td>1.0</td>\n",
       "    </tr>\n",
       "    <tr>\n",
       "      <th>2</th>\n",
       "      <td>0.0</td>\n",
       "      <td>0.0</td>\n",
       "      <td>0.0</td>\n",
       "      <td>0.0</td>\n",
       "      <td>0.0</td>\n",
       "      <td>1.0</td>\n",
       "      <td>0.0</td>\n",
       "      <td>0.0</td>\n",
       "      <td>1.0</td>\n",
       "      <td>0.0</td>\n",
       "      <td>...</td>\n",
       "      <td>0.0</td>\n",
       "      <td>0.0</td>\n",
       "      <td>0.0</td>\n",
       "      <td>0.0</td>\n",
       "      <td>0.0</td>\n",
       "      <td>0.0</td>\n",
       "      <td>0.0</td>\n",
       "      <td>-0.798094</td>\n",
       "      <td>-1.559623</td>\n",
       "      <td>0.0</td>\n",
       "    </tr>\n",
       "    <tr>\n",
       "      <th>3</th>\n",
       "      <td>0.0</td>\n",
       "      <td>0.0</td>\n",
       "      <td>0.0</td>\n",
       "      <td>0.0</td>\n",
       "      <td>0.0</td>\n",
       "      <td>0.0</td>\n",
       "      <td>0.0</td>\n",
       "      <td>1.0</td>\n",
       "      <td>1.0</td>\n",
       "      <td>0.0</td>\n",
       "      <td>...</td>\n",
       "      <td>0.0</td>\n",
       "      <td>0.0</td>\n",
       "      <td>0.0</td>\n",
       "      <td>0.0</td>\n",
       "      <td>0.0</td>\n",
       "      <td>1.0</td>\n",
       "      <td>0.0</td>\n",
       "      <td>-0.334167</td>\n",
       "      <td>0.610974</td>\n",
       "      <td>0.0</td>\n",
       "    </tr>\n",
       "    <tr>\n",
       "      <th>4</th>\n",
       "      <td>0.0</td>\n",
       "      <td>0.0</td>\n",
       "      <td>0.0</td>\n",
       "      <td>0.0</td>\n",
       "      <td>0.0</td>\n",
       "      <td>0.0</td>\n",
       "      <td>0.0</td>\n",
       "      <td>1.0</td>\n",
       "      <td>1.0</td>\n",
       "      <td>0.0</td>\n",
       "      <td>...</td>\n",
       "      <td>0.0</td>\n",
       "      <td>0.0</td>\n",
       "      <td>0.0</td>\n",
       "      <td>0.0</td>\n",
       "      <td>0.0</td>\n",
       "      <td>0.0</td>\n",
       "      <td>0.0</td>\n",
       "      <td>0.742145</td>\n",
       "      <td>0.610974</td>\n",
       "      <td>0.0</td>\n",
       "    </tr>\n",
       "  </tbody>\n",
       "</table>\n",
       "<p>5 rows × 305 columns</p>\n",
       "</div>"
      ],
      "text/plain": [
       "   vehicle_type_bus  vehicle_type_convertible  vehicle_type_coupe  \\\n",
       "0               0.0                       0.0                 0.0   \n",
       "1               0.0                       0.0                 0.0   \n",
       "2               0.0                       0.0                 0.0   \n",
       "3               0.0                       0.0                 0.0   \n",
       "4               0.0                       0.0                 0.0   \n",
       "\n",
       "   vehicle_type_other  vehicle_type_sedan  vehicle_type_small  \\\n",
       "0                 0.0                 0.0                 0.0   \n",
       "1                 0.0                 1.0                 0.0   \n",
       "2                 0.0                 0.0                 1.0   \n",
       "3                 0.0                 0.0                 0.0   \n",
       "4                 0.0                 0.0                 0.0   \n",
       "\n",
       "   vehicle_type_suv  vehicle_type_wagon  gearbox_manual  model_145  ...  \\\n",
       "0               0.0                 1.0             0.0        0.0  ...   \n",
       "1               0.0                 0.0             1.0        0.0  ...   \n",
       "2               0.0                 0.0             1.0        0.0  ...   \n",
       "3               0.0                 1.0             1.0        0.0  ...   \n",
       "4               0.0                 1.0             1.0        0.0  ...   \n",
       "\n",
       "   brand_smart  brand_subaru  brand_suzuki  brand_toyota  brand_trabant  \\\n",
       "0          0.0           0.0           0.0           0.0            0.0   \n",
       "1          0.0           0.0           0.0           0.0            0.0   \n",
       "2          0.0           0.0           0.0           0.0            0.0   \n",
       "3          0.0           0.0           0.0           0.0            0.0   \n",
       "4          0.0           0.0           0.0           0.0            0.0   \n",
       "\n",
       "   brand_volkswagen  brand_volvo     power  kilometer  repaired  \n",
       "0               1.0          0.0 -0.018696  -2.102273       0.0  \n",
       "1               0.0          0.0 -0.334167   0.610974       1.0  \n",
       "2               0.0          0.0 -0.798094  -1.559623       0.0  \n",
       "3               1.0          0.0 -0.334167   0.610974       0.0  \n",
       "4               0.0          0.0  0.742145   0.610974       0.0  \n",
       "\n",
       "[5 rows x 305 columns]"
      ]
     },
     "execution_count": 49,
     "metadata": {},
     "output_type": "execute_result"
    }
   ],
   "source": [
    "# трансформируем тестовую выборку\n",
    "features_test_linear = pd.DataFrame.sparse.from_spmatrix(\n",
    "    col_transformer_linear.transform(features_test_linear),\n",
    "    columns=col_transformer_linear.get_feature_names_out()\n",
    ")\n",
    "\n",
    "# смотрим на результат\n",
    "features_test_linear.head()"
   ]
  },
  {
   "cell_type": "code",
   "execution_count": 50,
   "metadata": {},
   "outputs": [],
   "source": [
    "features_test_linear = features_test_linear.rename(columns = lambda x:re.sub('[^A-Za-z0-9_]+', '', x))"
   ]
  },
  {
   "cell_type": "code",
   "execution_count": 51,
   "metadata": {},
   "outputs": [
    {
     "data": {
      "text/html": [
       "<div>\n",
       "<style scoped>\n",
       "    .dataframe tbody tr th:only-of-type {\n",
       "        vertical-align: middle;\n",
       "    }\n",
       "\n",
       "    .dataframe tbody tr th {\n",
       "        vertical-align: top;\n",
       "    }\n",
       "\n",
       "    .dataframe thead th {\n",
       "        text-align: right;\n",
       "    }\n",
       "</style>\n",
       "<table border=\"1\" class=\"dataframe\">\n",
       "  <thead>\n",
       "    <tr style=\"text-align: right;\">\n",
       "      <th></th>\n",
       "      <th>vehicle_type_bus</th>\n",
       "      <th>vehicle_type_convertible</th>\n",
       "      <th>vehicle_type_coupe</th>\n",
       "      <th>vehicle_type_other</th>\n",
       "      <th>vehicle_type_sedan</th>\n",
       "      <th>vehicle_type_small</th>\n",
       "      <th>vehicle_type_suv</th>\n",
       "      <th>vehicle_type_wagon</th>\n",
       "      <th>gearbox_manual</th>\n",
       "      <th>model_145</th>\n",
       "      <th>...</th>\n",
       "      <th>brand_smart</th>\n",
       "      <th>brand_subaru</th>\n",
       "      <th>brand_suzuki</th>\n",
       "      <th>brand_toyota</th>\n",
       "      <th>brand_trabant</th>\n",
       "      <th>brand_volkswagen</th>\n",
       "      <th>brand_volvo</th>\n",
       "      <th>power</th>\n",
       "      <th>kilometer</th>\n",
       "      <th>repaired</th>\n",
       "    </tr>\n",
       "  </thead>\n",
       "  <tbody>\n",
       "    <tr>\n",
       "      <th>0</th>\n",
       "      <td>0.0</td>\n",
       "      <td>0.0</td>\n",
       "      <td>0.0</td>\n",
       "      <td>0.0</td>\n",
       "      <td>0.0</td>\n",
       "      <td>0.0</td>\n",
       "      <td>0.0</td>\n",
       "      <td>1.0</td>\n",
       "      <td>0.0</td>\n",
       "      <td>0.0</td>\n",
       "      <td>...</td>\n",
       "      <td>0.0</td>\n",
       "      <td>0.0</td>\n",
       "      <td>0.0</td>\n",
       "      <td>0.0</td>\n",
       "      <td>0.0</td>\n",
       "      <td>1.0</td>\n",
       "      <td>0.0</td>\n",
       "      <td>-0.018696</td>\n",
       "      <td>-2.102273</td>\n",
       "      <td>0.0</td>\n",
       "    </tr>\n",
       "    <tr>\n",
       "      <th>1</th>\n",
       "      <td>0.0</td>\n",
       "      <td>0.0</td>\n",
       "      <td>0.0</td>\n",
       "      <td>0.0</td>\n",
       "      <td>1.0</td>\n",
       "      <td>0.0</td>\n",
       "      <td>0.0</td>\n",
       "      <td>0.0</td>\n",
       "      <td>1.0</td>\n",
       "      <td>0.0</td>\n",
       "      <td>...</td>\n",
       "      <td>0.0</td>\n",
       "      <td>0.0</td>\n",
       "      <td>0.0</td>\n",
       "      <td>0.0</td>\n",
       "      <td>0.0</td>\n",
       "      <td>0.0</td>\n",
       "      <td>0.0</td>\n",
       "      <td>-0.334167</td>\n",
       "      <td>0.610974</td>\n",
       "      <td>1.0</td>\n",
       "    </tr>\n",
       "    <tr>\n",
       "      <th>2</th>\n",
       "      <td>0.0</td>\n",
       "      <td>0.0</td>\n",
       "      <td>0.0</td>\n",
       "      <td>0.0</td>\n",
       "      <td>0.0</td>\n",
       "      <td>1.0</td>\n",
       "      <td>0.0</td>\n",
       "      <td>0.0</td>\n",
       "      <td>1.0</td>\n",
       "      <td>0.0</td>\n",
       "      <td>...</td>\n",
       "      <td>0.0</td>\n",
       "      <td>0.0</td>\n",
       "      <td>0.0</td>\n",
       "      <td>0.0</td>\n",
       "      <td>0.0</td>\n",
       "      <td>0.0</td>\n",
       "      <td>0.0</td>\n",
       "      <td>-0.798094</td>\n",
       "      <td>-1.559623</td>\n",
       "      <td>0.0</td>\n",
       "    </tr>\n",
       "    <tr>\n",
       "      <th>3</th>\n",
       "      <td>0.0</td>\n",
       "      <td>0.0</td>\n",
       "      <td>0.0</td>\n",
       "      <td>0.0</td>\n",
       "      <td>0.0</td>\n",
       "      <td>0.0</td>\n",
       "      <td>0.0</td>\n",
       "      <td>1.0</td>\n",
       "      <td>1.0</td>\n",
       "      <td>0.0</td>\n",
       "      <td>...</td>\n",
       "      <td>0.0</td>\n",
       "      <td>0.0</td>\n",
       "      <td>0.0</td>\n",
       "      <td>0.0</td>\n",
       "      <td>0.0</td>\n",
       "      <td>1.0</td>\n",
       "      <td>0.0</td>\n",
       "      <td>-0.334167</td>\n",
       "      <td>0.610974</td>\n",
       "      <td>0.0</td>\n",
       "    </tr>\n",
       "    <tr>\n",
       "      <th>4</th>\n",
       "      <td>0.0</td>\n",
       "      <td>0.0</td>\n",
       "      <td>0.0</td>\n",
       "      <td>0.0</td>\n",
       "      <td>0.0</td>\n",
       "      <td>0.0</td>\n",
       "      <td>0.0</td>\n",
       "      <td>1.0</td>\n",
       "      <td>1.0</td>\n",
       "      <td>0.0</td>\n",
       "      <td>...</td>\n",
       "      <td>0.0</td>\n",
       "      <td>0.0</td>\n",
       "      <td>0.0</td>\n",
       "      <td>0.0</td>\n",
       "      <td>0.0</td>\n",
       "      <td>0.0</td>\n",
       "      <td>0.0</td>\n",
       "      <td>0.742145</td>\n",
       "      <td>0.610974</td>\n",
       "      <td>0.0</td>\n",
       "    </tr>\n",
       "  </tbody>\n",
       "</table>\n",
       "<p>5 rows × 305 columns</p>\n",
       "</div>"
      ],
      "text/plain": [
       "   vehicle_type_bus  vehicle_type_convertible  vehicle_type_coupe  \\\n",
       "0               0.0                       0.0                 0.0   \n",
       "1               0.0                       0.0                 0.0   \n",
       "2               0.0                       0.0                 0.0   \n",
       "3               0.0                       0.0                 0.0   \n",
       "4               0.0                       0.0                 0.0   \n",
       "\n",
       "   vehicle_type_other  vehicle_type_sedan  vehicle_type_small  \\\n",
       "0                 0.0                 0.0                 0.0   \n",
       "1                 0.0                 1.0                 0.0   \n",
       "2                 0.0                 0.0                 1.0   \n",
       "3                 0.0                 0.0                 0.0   \n",
       "4                 0.0                 0.0                 0.0   \n",
       "\n",
       "   vehicle_type_suv  vehicle_type_wagon  gearbox_manual  model_145  ...  \\\n",
       "0               0.0                 1.0             0.0        0.0  ...   \n",
       "1               0.0                 0.0             1.0        0.0  ...   \n",
       "2               0.0                 0.0             1.0        0.0  ...   \n",
       "3               0.0                 1.0             1.0        0.0  ...   \n",
       "4               0.0                 1.0             1.0        0.0  ...   \n",
       "\n",
       "   brand_smart  brand_subaru  brand_suzuki  brand_toyota  brand_trabant  \\\n",
       "0          0.0           0.0           0.0           0.0            0.0   \n",
       "1          0.0           0.0           0.0           0.0            0.0   \n",
       "2          0.0           0.0           0.0           0.0            0.0   \n",
       "3          0.0           0.0           0.0           0.0            0.0   \n",
       "4          0.0           0.0           0.0           0.0            0.0   \n",
       "\n",
       "   brand_volkswagen  brand_volvo     power  kilometer  repaired  \n",
       "0               1.0          0.0 -0.018696  -2.102273       0.0  \n",
       "1               0.0          0.0 -0.334167   0.610974       1.0  \n",
       "2               0.0          0.0 -0.798094  -1.559623       0.0  \n",
       "3               1.0          0.0 -0.334167   0.610974       0.0  \n",
       "4               0.0          0.0  0.742145   0.610974       0.0  \n",
       "\n",
       "[5 rows x 305 columns]"
      ]
     },
     "execution_count": 51,
     "metadata": {},
     "output_type": "execute_result"
    }
   ],
   "source": [
    "features_test_linear.head()"
   ]
  },
  {
   "cell_type": "code",
   "execution_count": 52,
   "metadata": {},
   "outputs": [
    {
     "name": "stdout",
     "output_type": "stream",
     "text": [
      "2373.216119849325\n"
     ]
    }
   ],
   "source": [
    "lgbm_predictions = best_lgbm_model.predict(features_test_linear)\n",
    "lgbm_mse = mean_squared_error(target_test, lgbm_predictions)\n",
    "rmse = lgbm_mse ** 0.5\n",
    "print(rmse)"
   ]
  },
  {
   "cell_type": "markdown",
   "metadata": {},
   "source": [
    "## Выводы"
   ]
  },
  {
   "cell_type": "markdown",
   "metadata": {},
   "source": [
    "В ходе работы были выполнены следующие этапы:\n",
    "1. Предобработка и анализ данных:\n",
    "- исправлены названия столбцов;\n",
    "- обработаны пропуски;\n",
    "- устранены аномальные значения;\n",
    "- для модели выбраны только те количественные признаки, которые имеют значимую корреляцию с целевым признаком. Также мы избавились от ненужных категориальных признаков.\n",
    "2. Пострение моделей:\n",
    "- Данные были разделены на обучающую и тестовую выборки;\n",
    "- проведено масштабирование и кодирование данных;\n",
    "- построена линейная модель, которая показала rmse - 2878.3, время обучения - 52.9 s, время предсказания: 91.5 ms;\n",
    "- построена модель случайного леса, которая показала rmse - 2097.14, время обучения - 23min 33s, время предсказания: 6.82 s;\n",
    "- построена модель градиентного бустинга, которая показала rmse - 2409.5, время обучения:  5.69 s, время предсказания - 2.73 s;\n",
    "- также была проверена константная модель, которая показала rmse - 4959.8, время обучения: 3.16 ms, время предсказания - 661 µs.\n",
    "3. Выбор модели:\n",
    "- В соответствии с требованиями заказчика, мы рекомендуем выбрать модель градиентного бустинга.\n",
    "4. проверка модели градиентного бустинга на тестовой выборке:\n",
    "- на тестовой выборке модель градиентного бустинга показала rmse - 2373.2."
   ]
  }
 ],
 "metadata": {
  "ExecuteTimeLog": [
   {
    "duration": 441,
    "start_time": "2023-07-08T08:21:02.504Z"
   },
   {
    "duration": 1333,
    "start_time": "2023-07-08T08:21:58.716Z"
   },
   {
    "duration": 125,
    "start_time": "2023-07-08T08:22:21.048Z"
   },
   {
    "duration": 1930,
    "start_time": "2023-07-08T08:25:57.037Z"
   },
   {
    "duration": 1119,
    "start_time": "2023-07-08T08:26:03.557Z"
   },
   {
    "duration": 391,
    "start_time": "2023-07-08T08:27:29.930Z"
   },
   {
    "duration": 207,
    "start_time": "2023-07-08T08:27:42.491Z"
   },
   {
    "duration": 183,
    "start_time": "2023-07-08T08:27:48.434Z"
   },
   {
    "duration": 179,
    "start_time": "2023-07-08T08:27:56.123Z"
   },
   {
    "duration": 452,
    "start_time": "2023-07-08T08:28:10.460Z"
   },
   {
    "duration": 1519,
    "start_time": "2023-07-08T08:28:19.921Z"
   },
   {
    "duration": 1684,
    "start_time": "2023-07-08T08:28:44.292Z"
   },
   {
    "duration": 1334,
    "start_time": "2023-07-08T08:29:44.407Z"
   },
   {
    "duration": 1712,
    "start_time": "2023-07-08T08:29:55.143Z"
   },
   {
    "duration": 437,
    "start_time": "2023-07-10T06:22:20.020Z"
   },
   {
    "duration": 1278,
    "start_time": "2023-07-10T06:22:22.019Z"
   },
   {
    "duration": 125,
    "start_time": "2023-07-10T06:22:25.115Z"
   },
   {
    "duration": 111,
    "start_time": "2023-07-10T06:23:16.946Z"
   },
   {
    "duration": 128,
    "start_time": "2023-07-10T06:25:13.777Z"
   },
   {
    "duration": 102,
    "start_time": "2023-07-10T06:35:34.253Z"
   },
   {
    "duration": 89,
    "start_time": "2023-07-10T06:36:22.738Z"
   },
   {
    "duration": 151,
    "start_time": "2023-07-10T06:37:16.746Z"
   },
   {
    "duration": 116,
    "start_time": "2023-07-10T06:38:03.074Z"
   },
   {
    "duration": 103,
    "start_time": "2023-07-10T06:38:12.193Z"
   },
   {
    "duration": 97,
    "start_time": "2023-07-10T06:38:59.438Z"
   },
   {
    "duration": 115,
    "start_time": "2023-07-10T06:39:05.734Z"
   },
   {
    "duration": 100,
    "start_time": "2023-07-10T06:39:16.665Z"
   },
   {
    "duration": 83,
    "start_time": "2023-07-10T06:39:30.104Z"
   },
   {
    "duration": 91,
    "start_time": "2023-07-10T06:39:46.030Z"
   },
   {
    "duration": 65,
    "start_time": "2023-07-10T06:40:22.097Z"
   },
   {
    "duration": 83,
    "start_time": "2023-07-10T06:40:30.104Z"
   },
   {
    "duration": 130,
    "start_time": "2023-07-10T06:40:45.035Z"
   },
   {
    "duration": 30,
    "start_time": "2023-07-10T06:47:53.440Z"
   },
   {
    "duration": 832,
    "start_time": "2023-07-10T06:50:57.343Z"
   },
   {
    "duration": 21,
    "start_time": "2023-07-10T06:52:33.910Z"
   },
   {
    "duration": 5,
    "start_time": "2023-07-10T06:52:48.387Z"
   },
   {
    "duration": 933,
    "start_time": "2023-07-10T06:53:32.462Z"
   },
   {
    "duration": 163,
    "start_time": "2023-07-10T07:02:16.889Z"
   },
   {
    "duration": 25,
    "start_time": "2023-07-10T07:02:20.938Z"
   },
   {
    "duration": 24,
    "start_time": "2023-07-10T07:02:51.551Z"
   },
   {
    "duration": 23,
    "start_time": "2023-07-10T07:03:12.957Z"
   },
   {
    "duration": 22,
    "start_time": "2023-07-10T07:25:58.154Z"
   },
   {
    "duration": 10,
    "start_time": "2023-07-10T07:27:16.160Z"
   },
   {
    "duration": 10,
    "start_time": "2023-07-10T07:36:44.054Z"
   },
   {
    "duration": 3,
    "start_time": "2023-07-10T07:37:10.084Z"
   },
   {
    "duration": 6,
    "start_time": "2023-07-10T07:37:19.481Z"
   },
   {
    "duration": 4,
    "start_time": "2023-07-10T07:37:27.048Z"
   },
   {
    "duration": 9,
    "start_time": "2023-07-10T07:38:13.685Z"
   },
   {
    "duration": 10,
    "start_time": "2023-07-10T07:38:18.695Z"
   },
   {
    "duration": 109,
    "start_time": "2023-07-10T07:38:29.791Z"
   },
   {
    "duration": 137,
    "start_time": "2023-07-10T07:38:35.858Z"
   },
   {
    "duration": 109,
    "start_time": "2023-07-10T07:38:55.095Z"
   },
   {
    "duration": 761,
    "start_time": "2023-07-10T07:48:23.303Z"
   },
   {
    "duration": 3,
    "start_time": "2023-07-10T07:48:52.458Z"
   },
   {
    "duration": 3870,
    "start_time": "2023-07-10T07:48:57.975Z"
   },
   {
    "duration": 4008,
    "start_time": "2023-07-10T07:49:23.225Z"
   },
   {
    "duration": 3998,
    "start_time": "2023-07-10T07:50:15.064Z"
   },
   {
    "duration": 153,
    "start_time": "2023-07-10T07:50:26.433Z"
   },
   {
    "duration": 40,
    "start_time": "2023-07-10T07:51:10.725Z"
   },
   {
    "duration": 37,
    "start_time": "2023-07-10T07:52:54.536Z"
   },
   {
    "duration": 90,
    "start_time": "2023-07-10T07:53:10.525Z"
   },
   {
    "duration": 112,
    "start_time": "2023-07-10T07:53:29.414Z"
   },
   {
    "duration": 283,
    "start_time": "2023-07-10T07:53:39.976Z"
   },
   {
    "duration": 355,
    "start_time": "2023-07-10T07:55:13.232Z"
   },
   {
    "duration": 484,
    "start_time": "2023-07-10T07:55:33.195Z"
   },
   {
    "duration": 1176,
    "start_time": "2023-07-10T07:55:33.681Z"
   },
   {
    "duration": 168,
    "start_time": "2023-07-10T07:55:34.859Z"
   },
   {
    "duration": 86,
    "start_time": "2023-07-10T07:55:35.029Z"
   },
   {
    "duration": 159,
    "start_time": "2023-07-10T07:55:35.117Z"
   },
   {
    "duration": 379,
    "start_time": "2023-07-10T07:55:35.279Z"
   },
   {
    "duration": 28332,
    "start_time": "2023-07-10T07:55:35.660Z"
   },
   {
    "duration": 24,
    "start_time": "2023-07-10T07:56:03.994Z"
   },
   {
    "duration": 257,
    "start_time": "2023-07-10T07:56:08.641Z"
   },
   {
    "duration": 113,
    "start_time": "2023-07-10T07:56:23.956Z"
   },
   {
    "duration": 26639,
    "start_time": "2023-07-10T07:58:47.451Z"
   },
   {
    "duration": 16,
    "start_time": "2023-07-10T07:59:15.355Z"
   },
   {
    "duration": 232,
    "start_time": "2023-07-10T08:00:17.466Z"
   },
   {
    "duration": 94,
    "start_time": "2023-07-10T08:00:29.362Z"
   },
   {
    "duration": 27224,
    "start_time": "2023-07-10T08:01:07.345Z"
   },
   {
    "duration": 18,
    "start_time": "2023-07-10T08:01:44.288Z"
   },
   {
    "duration": 18,
    "start_time": "2023-07-10T08:01:57.168Z"
   },
   {
    "duration": 83,
    "start_time": "2023-07-10T08:02:47.984Z"
   },
   {
    "duration": 523,
    "start_time": "2023-07-10T08:03:06.168Z"
   },
   {
    "duration": 1388,
    "start_time": "2023-07-10T08:03:06.694Z"
   },
   {
    "duration": 198,
    "start_time": "2023-07-10T08:03:08.084Z"
   },
   {
    "duration": 180,
    "start_time": "2023-07-10T08:03:08.284Z"
   },
   {
    "duration": 165,
    "start_time": "2023-07-10T08:03:08.468Z"
   },
   {
    "duration": 362,
    "start_time": "2023-07-10T08:03:08.638Z"
   },
   {
    "duration": 28780,
    "start_time": "2023-07-10T08:03:09.002Z"
   },
   {
    "duration": 17,
    "start_time": "2023-07-10T08:03:37.784Z"
   },
   {
    "duration": 131,
    "start_time": "2023-07-10T08:03:37.811Z"
   },
   {
    "duration": 29316,
    "start_time": "2023-07-10T08:03:37.944Z"
   },
   {
    "duration": 17,
    "start_time": "2023-07-10T08:04:07.263Z"
   },
   {
    "duration": 163,
    "start_time": "2023-07-10T08:04:07.282Z"
   },
   {
    "duration": 30119,
    "start_time": "2023-07-10T08:04:07.447Z"
   },
   {
    "duration": 18,
    "start_time": "2023-07-10T08:04:37.573Z"
   },
   {
    "duration": 91,
    "start_time": "2023-07-10T08:04:44.959Z"
   },
   {
    "duration": 128,
    "start_time": "2023-07-10T08:11:00.672Z"
   },
   {
    "duration": 14530,
    "start_time": "2023-07-10T08:11:12.243Z"
   },
   {
    "duration": 54,
    "start_time": "2023-07-10T08:13:42.906Z"
   },
   {
    "duration": 41,
    "start_time": "2023-07-10T08:13:49.455Z"
   },
   {
    "duration": 23,
    "start_time": "2023-07-10T08:14:01.267Z"
   },
   {
    "duration": 30,
    "start_time": "2023-07-10T08:14:07.099Z"
   },
   {
    "duration": 22,
    "start_time": "2023-07-10T08:14:11.154Z"
   },
   {
    "duration": 48,
    "start_time": "2023-07-10T08:14:30.110Z"
   },
   {
    "duration": 37,
    "start_time": "2023-07-10T08:14:33.529Z"
   },
   {
    "duration": 30,
    "start_time": "2023-07-10T08:14:38.742Z"
   },
   {
    "duration": 29,
    "start_time": "2023-07-10T08:14:44.163Z"
   },
   {
    "duration": 46,
    "start_time": "2023-07-10T08:15:20.232Z"
   },
   {
    "duration": 32,
    "start_time": "2023-07-10T08:15:26.344Z"
   },
   {
    "duration": 32,
    "start_time": "2023-07-10T08:15:41.929Z"
   },
   {
    "duration": 32,
    "start_time": "2023-07-10T08:15:46.146Z"
   },
   {
    "duration": 2547,
    "start_time": "2023-07-10T08:17:24.413Z"
   },
   {
    "duration": 35,
    "start_time": "2023-07-10T08:17:35.368Z"
   },
   {
    "duration": 40,
    "start_time": "2023-07-10T08:17:50.407Z"
   },
   {
    "duration": 35,
    "start_time": "2023-07-10T08:23:36.345Z"
   },
   {
    "duration": 24,
    "start_time": "2023-07-10T08:23:43.544Z"
   },
   {
    "duration": 21,
    "start_time": "2023-07-10T08:26:47.736Z"
   },
   {
    "duration": 2800,
    "start_time": "2023-07-10T08:27:03.136Z"
   },
   {
    "duration": 1491,
    "start_time": "2023-07-10T08:27:54.661Z"
   },
   {
    "duration": 1323,
    "start_time": "2023-07-10T08:28:09.934Z"
   },
   {
    "duration": 1812,
    "start_time": "2023-07-10T08:29:05.252Z"
   },
   {
    "duration": 431,
    "start_time": "2023-07-10T08:29:49.332Z"
   },
   {
    "duration": 1057,
    "start_time": "2023-07-10T08:29:49.766Z"
   },
   {
    "duration": 133,
    "start_time": "2023-07-10T08:29:50.825Z"
   },
   {
    "duration": 84,
    "start_time": "2023-07-10T08:29:50.961Z"
   },
   {
    "duration": 136,
    "start_time": "2023-07-10T08:29:51.047Z"
   },
   {
    "duration": 354,
    "start_time": "2023-07-10T08:29:51.185Z"
   },
   {
    "duration": 24414,
    "start_time": "2023-07-10T08:29:51.541Z"
   },
   {
    "duration": 26,
    "start_time": "2023-07-10T08:30:15.958Z"
   },
   {
    "duration": 154,
    "start_time": "2023-07-10T08:30:15.986Z"
   },
   {
    "duration": 23580,
    "start_time": "2023-07-10T08:30:16.142Z"
   },
   {
    "duration": 17,
    "start_time": "2023-07-10T08:30:39.724Z"
   },
   {
    "duration": 90,
    "start_time": "2023-07-10T08:30:39.742Z"
   },
   {
    "duration": 23906,
    "start_time": "2023-07-10T08:30:39.834Z"
   },
   {
    "duration": 16,
    "start_time": "2023-07-10T08:31:03.742Z"
   },
   {
    "duration": 93,
    "start_time": "2023-07-10T08:31:03.760Z"
   },
   {
    "duration": 34,
    "start_time": "2023-07-10T08:31:03.856Z"
   },
   {
    "duration": 50,
    "start_time": "2023-07-10T08:31:03.892Z"
   },
   {
    "duration": 150,
    "start_time": "2023-07-10T08:31:08.282Z"
   },
   {
    "duration": 19,
    "start_time": "2023-07-10T08:31:26.249Z"
   },
   {
    "duration": 81,
    "start_time": "2023-07-10T08:31:39.600Z"
   },
   {
    "duration": 114,
    "start_time": "2023-07-10T08:31:42.168Z"
   },
   {
    "duration": 77,
    "start_time": "2023-07-10T10:35:04.947Z"
   },
   {
    "duration": 71,
    "start_time": "2023-07-10T10:38:17.135Z"
   },
   {
    "duration": 10,
    "start_time": "2023-07-10T10:38:20.807Z"
   },
   {
    "duration": 934,
    "start_time": "2023-07-10T10:38:41.992Z"
   },
   {
    "duration": 453,
    "start_time": "2023-07-10T10:39:27.497Z"
   },
   {
    "duration": 1078,
    "start_time": "2023-07-10T10:39:27.953Z"
   },
   {
    "duration": 137,
    "start_time": "2023-07-10T10:39:29.033Z"
   },
   {
    "duration": 95,
    "start_time": "2023-07-10T10:39:29.172Z"
   },
   {
    "duration": 166,
    "start_time": "2023-07-10T10:39:29.270Z"
   },
   {
    "duration": 320,
    "start_time": "2023-07-10T10:39:29.441Z"
   },
   {
    "duration": 24540,
    "start_time": "2023-07-10T10:39:29.763Z"
   },
   {
    "duration": 25,
    "start_time": "2023-07-10T10:39:54.309Z"
   },
   {
    "duration": 93,
    "start_time": "2023-07-10T10:39:54.336Z"
   },
   {
    "duration": 24960,
    "start_time": "2023-07-10T10:39:54.431Z"
   },
   {
    "duration": 20,
    "start_time": "2023-07-10T10:40:19.393Z"
   },
   {
    "duration": 153,
    "start_time": "2023-07-10T10:40:19.415Z"
   },
   {
    "duration": 25249,
    "start_time": "2023-07-10T10:40:19.570Z"
   },
   {
    "duration": 26,
    "start_time": "2023-07-10T10:40:44.823Z"
   },
   {
    "duration": 115,
    "start_time": "2023-07-10T10:40:44.851Z"
   },
   {
    "duration": 58,
    "start_time": "2023-07-10T10:40:44.968Z"
   },
   {
    "duration": 27,
    "start_time": "2023-07-10T10:40:45.028Z"
   },
   {
    "duration": 74,
    "start_time": "2023-07-10T10:40:45.056Z"
   },
   {
    "duration": 85,
    "start_time": "2023-07-10T10:40:45.132Z"
   },
   {
    "duration": 114,
    "start_time": "2023-07-10T10:40:45.228Z"
   },
   {
    "duration": 1423,
    "start_time": "2023-07-10T10:40:51.307Z"
   },
   {
    "duration": 2318,
    "start_time": "2023-07-10T10:45:02.587Z"
   },
   {
    "duration": 1252,
    "start_time": "2023-07-10T10:47:57.348Z"
   },
   {
    "duration": 1097,
    "start_time": "2023-07-10T10:49:38.243Z"
   },
   {
    "duration": 704,
    "start_time": "2023-07-10T11:20:28.655Z"
   },
   {
    "duration": 297,
    "start_time": "2023-07-10T11:20:48.428Z"
   },
   {
    "duration": 527,
    "start_time": "2023-07-10T11:20:56.311Z"
   },
   {
    "duration": 446,
    "start_time": "2023-07-10T11:21:19.494Z"
   },
   {
    "duration": 417,
    "start_time": "2023-07-10T11:21:53.491Z"
   },
   {
    "duration": 444,
    "start_time": "2023-07-10T11:23:45.276Z"
   },
   {
    "duration": 24,
    "start_time": "2023-07-10T11:24:41.995Z"
   },
   {
    "duration": 3,
    "start_time": "2023-07-10T11:26:42.287Z"
   },
   {
    "duration": 4,
    "start_time": "2023-07-10T11:26:45.223Z"
   },
   {
    "duration": 622,
    "start_time": "2023-07-10T11:27:05.051Z"
   },
   {
    "duration": 540,
    "start_time": "2023-07-10T11:27:15.991Z"
   },
   {
    "duration": 632,
    "start_time": "2023-07-10T11:29:22.349Z"
   },
   {
    "duration": 492,
    "start_time": "2023-07-10T11:30:14.724Z"
   },
   {
    "duration": 464,
    "start_time": "2023-07-10T11:30:28.716Z"
   },
   {
    "duration": 481,
    "start_time": "2023-07-10T11:31:33.255Z"
   },
   {
    "duration": 465,
    "start_time": "2023-07-10T11:32:13.834Z"
   },
   {
    "duration": 3080,
    "start_time": "2023-07-10T11:32:26.482Z"
   },
   {
    "duration": 322,
    "start_time": "2023-07-10T11:32:42.954Z"
   },
   {
    "duration": 529,
    "start_time": "2023-07-10T11:32:48.906Z"
   },
   {
    "duration": 300,
    "start_time": "2023-07-10T11:33:00.481Z"
   },
   {
    "duration": 410,
    "start_time": "2023-07-10T11:33:10.640Z"
   },
   {
    "duration": 340,
    "start_time": "2023-07-10T11:33:52.152Z"
   },
   {
    "duration": 329,
    "start_time": "2023-07-10T11:34:07.936Z"
   },
   {
    "duration": 335,
    "start_time": "2023-07-10T11:34:17.193Z"
   },
   {
    "duration": 362,
    "start_time": "2023-07-10T11:37:02.067Z"
   },
   {
    "duration": 354,
    "start_time": "2023-07-10T11:37:10.460Z"
   },
   {
    "duration": 356,
    "start_time": "2023-07-10T11:37:13.572Z"
   },
   {
    "duration": 359,
    "start_time": "2023-07-10T11:37:20.676Z"
   },
   {
    "duration": 295,
    "start_time": "2023-07-10T11:39:12.522Z"
   },
   {
    "duration": 417,
    "start_time": "2023-07-10T11:39:56.633Z"
   },
   {
    "duration": 525,
    "start_time": "2023-07-10T11:40:05.970Z"
   },
   {
    "duration": 492,
    "start_time": "2023-07-10T11:40:19.352Z"
   },
   {
    "duration": 706,
    "start_time": "2023-07-10T11:40:26.449Z"
   },
   {
    "duration": 465,
    "start_time": "2023-07-10T11:40:38.560Z"
   },
   {
    "duration": 763,
    "start_time": "2023-07-10T11:40:50.705Z"
   },
   {
    "duration": 512,
    "start_time": "2023-07-10T11:41:04.936Z"
   },
   {
    "duration": 529,
    "start_time": "2023-07-10T11:41:09.879Z"
   },
   {
    "duration": 518,
    "start_time": "2023-07-10T11:41:16.775Z"
   },
   {
    "duration": 531,
    "start_time": "2023-07-10T11:41:23.855Z"
   },
   {
    "duration": 600,
    "start_time": "2023-07-10T11:41:32.567Z"
   },
   {
    "duration": 609,
    "start_time": "2023-07-10T11:49:15.833Z"
   },
   {
    "duration": 306,
    "start_time": "2023-07-10T11:50:19.838Z"
   },
   {
    "duration": 239,
    "start_time": "2023-07-10T11:50:37.010Z"
   },
   {
    "duration": 186,
    "start_time": "2023-07-10T11:50:49.949Z"
   },
   {
    "duration": 59,
    "start_time": "2023-07-10T11:53:40.890Z"
   },
   {
    "duration": 16,
    "start_time": "2023-07-10T11:53:46.841Z"
   },
   {
    "duration": 366,
    "start_time": "2023-07-10T11:56:11.230Z"
   },
   {
    "duration": 517,
    "start_time": "2023-07-10T11:56:20.126Z"
   },
   {
    "duration": 164,
    "start_time": "2023-07-10T11:58:28.706Z"
   },
   {
    "duration": 1488,
    "start_time": "2023-07-10T12:00:09.999Z"
   },
   {
    "duration": 1108,
    "start_time": "2023-07-10T12:00:11.490Z"
   },
   {
    "duration": 147,
    "start_time": "2023-07-10T12:00:12.600Z"
   },
   {
    "duration": 90,
    "start_time": "2023-07-10T12:00:12.749Z"
   },
   {
    "duration": 133,
    "start_time": "2023-07-10T12:00:12.841Z"
   },
   {
    "duration": 328,
    "start_time": "2023-07-10T12:00:12.976Z"
   },
   {
    "duration": 24445,
    "start_time": "2023-07-10T12:00:13.309Z"
   },
   {
    "duration": 19,
    "start_time": "2023-07-10T12:00:37.756Z"
   },
   {
    "duration": 102,
    "start_time": "2023-07-10T12:00:37.777Z"
   },
   {
    "duration": 23706,
    "start_time": "2023-07-10T12:00:37.881Z"
   },
   {
    "duration": 23,
    "start_time": "2023-07-10T12:01:01.589Z"
   },
   {
    "duration": 182,
    "start_time": "2023-07-10T12:01:01.614Z"
   },
   {
    "duration": 23466,
    "start_time": "2023-07-10T12:01:01.798Z"
   },
   {
    "duration": 17,
    "start_time": "2023-07-10T12:01:25.267Z"
   },
   {
    "duration": 95,
    "start_time": "2023-07-10T12:01:25.285Z"
   },
   {
    "duration": 43,
    "start_time": "2023-07-10T12:01:25.382Z"
   },
   {
    "duration": 25,
    "start_time": "2023-07-10T12:01:25.427Z"
   },
   {
    "duration": 21,
    "start_time": "2023-07-10T12:01:25.454Z"
   },
   {
    "duration": 78,
    "start_time": "2023-07-10T12:01:25.508Z"
   },
   {
    "duration": 126,
    "start_time": "2023-07-10T12:01:25.589Z"
   },
   {
    "duration": 553,
    "start_time": "2023-07-10T12:01:25.717Z"
   },
   {
    "duration": 476,
    "start_time": "2023-07-10T12:01:26.272Z"
   },
   {
    "duration": 315,
    "start_time": "2023-07-10T12:01:26.750Z"
   },
   {
    "duration": 355,
    "start_time": "2023-07-10T12:01:27.067Z"
   },
   {
    "duration": 398,
    "start_time": "2023-07-10T12:01:27.423Z"
   },
   {
    "duration": 479,
    "start_time": "2023-07-10T12:01:27.824Z"
   },
   {
    "duration": 76,
    "start_time": "2023-07-10T12:04:16.668Z"
   },
   {
    "duration": 167,
    "start_time": "2023-07-10T12:04:36.851Z"
   },
   {
    "duration": 221,
    "start_time": "2023-07-10T12:04:49.502Z"
   },
   {
    "duration": 219,
    "start_time": "2023-07-10T12:05:09.451Z"
   },
   {
    "duration": 209,
    "start_time": "2023-07-10T12:05:36.426Z"
   },
   {
    "duration": 280,
    "start_time": "2023-07-10T12:06:01.922Z"
   },
   {
    "duration": 254,
    "start_time": "2023-07-10T12:06:23.625Z"
   },
   {
    "duration": 69,
    "start_time": "2023-07-10T12:07:50.601Z"
   },
   {
    "duration": 1413,
    "start_time": "2023-07-12T06:25:18.455Z"
   },
   {
    "duration": 1396,
    "start_time": "2023-07-12T06:25:19.870Z"
   },
   {
    "duration": 157,
    "start_time": "2023-07-12T06:25:21.268Z"
   },
   {
    "duration": 114,
    "start_time": "2023-07-12T06:25:21.426Z"
   },
   {
    "duration": 196,
    "start_time": "2023-07-12T06:25:21.545Z"
   },
   {
    "duration": 374,
    "start_time": "2023-07-12T06:25:21.748Z"
   },
   {
    "duration": 24419,
    "start_time": "2023-07-12T06:25:22.123Z"
   },
   {
    "duration": 24,
    "start_time": "2023-07-12T06:25:46.546Z"
   },
   {
    "duration": 143,
    "start_time": "2023-07-12T06:25:46.572Z"
   },
   {
    "duration": 24765,
    "start_time": "2023-07-12T06:25:46.717Z"
   },
   {
    "duration": 57,
    "start_time": "2023-07-12T06:26:11.484Z"
   },
   {
    "duration": 86,
    "start_time": "2023-07-12T06:26:11.543Z"
   },
   {
    "duration": 26030,
    "start_time": "2023-07-12T06:26:11.635Z"
   },
   {
    "duration": 12,
    "start_time": "2023-07-12T06:26:37.668Z"
   },
   {
    "duration": 85,
    "start_time": "2023-07-12T06:26:37.681Z"
   },
   {
    "duration": 68,
    "start_time": "2023-07-12T06:26:37.767Z"
   },
   {
    "duration": 25,
    "start_time": "2023-07-12T06:26:37.837Z"
   },
   {
    "duration": 25,
    "start_time": "2023-07-12T06:26:37.866Z"
   },
   {
    "duration": 82,
    "start_time": "2023-07-12T06:26:37.892Z"
   },
   {
    "duration": 118,
    "start_time": "2023-07-12T06:26:37.975Z"
   },
   {
    "duration": 455,
    "start_time": "2023-07-12T06:26:38.099Z"
   },
   {
    "duration": 498,
    "start_time": "2023-07-12T06:26:38.556Z"
   },
   {
    "duration": 283,
    "start_time": "2023-07-12T06:26:39.056Z"
   },
   {
    "duration": 416,
    "start_time": "2023-07-12T06:26:39.341Z"
   },
   {
    "duration": 374,
    "start_time": "2023-07-12T06:26:39.759Z"
   },
   {
    "duration": 443,
    "start_time": "2023-07-12T06:26:40.135Z"
   },
   {
    "duration": 315,
    "start_time": "2023-07-12T06:26:40.579Z"
   },
   {
    "duration": 70,
    "start_time": "2023-07-12T06:27:17.322Z"
   },
   {
    "duration": 58,
    "start_time": "2023-07-12T06:38:26.779Z"
   },
   {
    "duration": 1538,
    "start_time": "2023-07-12T06:44:47.029Z"
   },
   {
    "duration": 923,
    "start_time": "2023-07-12T06:46:51.682Z"
   },
   {
    "duration": 1038,
    "start_time": "2023-07-12T06:47:06.234Z"
   },
   {
    "duration": 1052,
    "start_time": "2023-07-12T06:47:38.239Z"
   },
   {
    "duration": 19,
    "start_time": "2023-07-12T06:47:55.155Z"
   },
   {
    "duration": 79,
    "start_time": "2023-07-12T06:48:13.298Z"
   },
   {
    "duration": 972,
    "start_time": "2023-07-12T06:48:27.733Z"
   },
   {
    "duration": 7,
    "start_time": "2023-07-12T06:49:45.587Z"
   },
   {
    "duration": 785,
    "start_time": "2023-07-12T06:49:48.744Z"
   },
   {
    "duration": 22,
    "start_time": "2023-07-12T06:54:16.659Z"
   },
   {
    "duration": 1552,
    "start_time": "2023-07-12T06:54:45.293Z"
   },
   {
    "duration": 22,
    "start_time": "2023-07-12T06:54:58.964Z"
   },
   {
    "duration": 3568,
    "start_time": "2023-07-12T07:03:51.879Z"
   },
   {
    "duration": 1990,
    "start_time": "2023-07-12T07:11:43.596Z"
   },
   {
    "duration": 1464,
    "start_time": "2023-07-12T07:11:45.587Z"
   },
   {
    "duration": 145,
    "start_time": "2023-07-12T07:11:47.052Z"
   },
   {
    "duration": 68,
    "start_time": "2023-07-12T07:11:47.206Z"
   },
   {
    "duration": 119,
    "start_time": "2023-07-12T07:11:47.276Z"
   },
   {
    "duration": 321,
    "start_time": "2023-07-12T07:11:47.396Z"
   },
   {
    "duration": 24676,
    "start_time": "2023-07-12T07:11:51.998Z"
   },
   {
    "duration": 1251,
    "start_time": "2023-07-12T07:12:42.174Z"
   },
   {
    "duration": 488,
    "start_time": "2023-07-12T07:13:03.668Z"
   },
   {
    "duration": 1214,
    "start_time": "2023-07-12T07:13:26.719Z"
   },
   {
    "duration": 4084,
    "start_time": "2023-07-12T07:14:54.098Z"
   },
   {
    "duration": 1865,
    "start_time": "2023-07-12T07:14:58.184Z"
   },
   {
    "duration": 257,
    "start_time": "2023-07-12T07:15:00.058Z"
   },
   {
    "duration": 146,
    "start_time": "2023-07-12T07:15:00.317Z"
   },
   {
    "duration": 192,
    "start_time": "2023-07-12T07:15:00.465Z"
   },
   {
    "duration": 349,
    "start_time": "2023-07-12T07:15:06.774Z"
   },
   {
    "duration": 26396,
    "start_time": "2023-07-12T07:15:10.786Z"
   },
   {
    "duration": 17,
    "start_time": "2023-07-12T07:15:42.361Z"
   },
   {
    "duration": 72,
    "start_time": "2023-07-12T07:15:45.918Z"
   },
   {
    "duration": 26603,
    "start_time": "2023-07-12T07:15:48.378Z"
   },
   {
    "duration": 24,
    "start_time": "2023-07-12T07:16:16.430Z"
   },
   {
    "duration": 71,
    "start_time": "2023-07-12T07:16:19.329Z"
   },
   {
    "duration": 26530,
    "start_time": "2023-07-12T07:16:21.661Z"
   },
   {
    "duration": 25,
    "start_time": "2023-07-12T07:16:48.194Z"
   },
   {
    "duration": 129,
    "start_time": "2023-07-12T07:16:48.221Z"
   },
   {
    "duration": 45,
    "start_time": "2023-07-12T07:16:48.352Z"
   },
   {
    "duration": 39,
    "start_time": "2023-07-12T07:16:48.399Z"
   },
   {
    "duration": 35,
    "start_time": "2023-07-12T07:16:48.441Z"
   },
   {
    "duration": 99,
    "start_time": "2023-07-12T07:16:48.478Z"
   },
   {
    "duration": 183,
    "start_time": "2023-07-12T07:16:48.580Z"
   },
   {
    "duration": 573,
    "start_time": "2023-07-12T07:16:58.353Z"
   },
   {
    "duration": 529,
    "start_time": "2023-07-12T07:17:01.166Z"
   },
   {
    "duration": 353,
    "start_time": "2023-07-12T07:17:03.789Z"
   },
   {
    "duration": 524,
    "start_time": "2023-07-12T07:17:05.822Z"
   },
   {
    "duration": 449,
    "start_time": "2023-07-12T07:17:09.032Z"
   },
   {
    "duration": 615,
    "start_time": "2023-07-12T07:17:11.194Z"
   },
   {
    "duration": 255,
    "start_time": "2023-07-12T07:17:13.775Z"
   },
   {
    "duration": 82,
    "start_time": "2023-07-12T07:17:17.223Z"
   },
   {
    "duration": 50,
    "start_time": "2023-07-12T07:17:19.177Z"
   },
   {
    "duration": 3954,
    "start_time": "2023-07-12T07:17:27.769Z"
   },
   {
    "duration": 36,
    "start_time": "2023-07-12T07:18:26.050Z"
   },
   {
    "duration": 633,
    "start_time": "2023-07-12T07:18:54.044Z"
   },
   {
    "duration": 81,
    "start_time": "2023-07-12T07:19:03.231Z"
   },
   {
    "duration": 3,
    "start_time": "2023-07-12T07:20:02.690Z"
   },
   {
    "duration": 71,
    "start_time": "2023-07-12T07:20:09.270Z"
   },
   {
    "duration": 31,
    "start_time": "2023-07-12T07:23:48.319Z"
   },
   {
    "duration": 36,
    "start_time": "2023-07-12T07:27:19.616Z"
   },
   {
    "duration": 31,
    "start_time": "2023-07-12T07:27:37.230Z"
   },
   {
    "duration": 61,
    "start_time": "2023-07-12T07:28:03.204Z"
   },
   {
    "duration": 66,
    "start_time": "2023-07-12T07:28:07.523Z"
   },
   {
    "duration": 93,
    "start_time": "2023-07-12T07:28:20.684Z"
   },
   {
    "duration": 1701,
    "start_time": "2023-07-12T09:33:00.003Z"
   },
   {
    "duration": 1196,
    "start_time": "2023-07-12T09:33:01.706Z"
   },
   {
    "duration": 154,
    "start_time": "2023-07-12T09:33:02.904Z"
   },
   {
    "duration": 83,
    "start_time": "2023-07-12T09:33:03.061Z"
   },
   {
    "duration": 138,
    "start_time": "2023-07-12T09:33:03.146Z"
   },
   {
    "duration": 277,
    "start_time": "2023-07-12T09:33:03.286Z"
   },
   {
    "duration": 22380,
    "start_time": "2023-07-12T09:33:03.564Z"
   },
   {
    "duration": 15,
    "start_time": "2023-07-12T09:33:25.946Z"
   },
   {
    "duration": 79,
    "start_time": "2023-07-12T09:33:25.962Z"
   },
   {
    "duration": 22552,
    "start_time": "2023-07-12T09:33:26.045Z"
   },
   {
    "duration": 15,
    "start_time": "2023-07-12T09:33:48.602Z"
   },
   {
    "duration": 97,
    "start_time": "2023-07-12T09:33:48.618Z"
   },
   {
    "duration": 22345,
    "start_time": "2023-07-12T09:33:48.717Z"
   },
   {
    "duration": 16,
    "start_time": "2023-07-12T09:34:11.065Z"
   },
   {
    "duration": 102,
    "start_time": "2023-07-12T09:34:11.083Z"
   },
   {
    "duration": 41,
    "start_time": "2023-07-12T09:34:11.187Z"
   },
   {
    "duration": 40,
    "start_time": "2023-07-12T09:34:11.230Z"
   },
   {
    "duration": 47,
    "start_time": "2023-07-12T09:34:11.272Z"
   },
   {
    "duration": 94,
    "start_time": "2023-07-12T09:34:11.321Z"
   },
   {
    "duration": 115,
    "start_time": "2023-07-12T09:34:11.418Z"
   },
   {
    "duration": 488,
    "start_time": "2023-07-12T09:34:11.534Z"
   },
   {
    "duration": 448,
    "start_time": "2023-07-12T09:34:12.024Z"
   },
   {
    "duration": 387,
    "start_time": "2023-07-12T09:34:12.474Z"
   },
   {
    "duration": 394,
    "start_time": "2023-07-12T09:34:12.863Z"
   },
   {
    "duration": 272,
    "start_time": "2023-07-12T09:34:13.258Z"
   },
   {
    "duration": 480,
    "start_time": "2023-07-12T09:34:13.532Z"
   },
   {
    "duration": 250,
    "start_time": "2023-07-12T09:34:14.014Z"
   },
   {
    "duration": 73,
    "start_time": "2023-07-12T09:34:14.268Z"
   },
   {
    "duration": 34,
    "start_time": "2023-07-12T09:34:14.343Z"
   },
   {
    "duration": 81,
    "start_time": "2023-07-12T09:36:07.270Z"
   },
   {
    "duration": 17,
    "start_time": "2023-07-12T09:40:42.737Z"
   },
   {
    "duration": 15,
    "start_time": "2023-07-12T09:41:24.296Z"
   },
   {
    "duration": 26,
    "start_time": "2023-07-12T10:31:42.847Z"
   },
   {
    "duration": 1698,
    "start_time": "2023-07-12T10:32:15.269Z"
   },
   {
    "duration": 982,
    "start_time": "2023-07-12T10:32:16.970Z"
   },
   {
    "duration": 126,
    "start_time": "2023-07-12T10:32:17.954Z"
   },
   {
    "duration": 75,
    "start_time": "2023-07-12T10:32:18.082Z"
   },
   {
    "duration": 132,
    "start_time": "2023-07-12T10:32:18.160Z"
   },
   {
    "duration": 320,
    "start_time": "2023-07-12T10:32:18.303Z"
   },
   {
    "duration": 22811,
    "start_time": "2023-07-12T10:32:18.625Z"
   },
   {
    "duration": 18,
    "start_time": "2023-07-12T10:32:41.438Z"
   },
   {
    "duration": 201,
    "start_time": "2023-07-12T10:32:41.457Z"
   },
   {
    "duration": 22522,
    "start_time": "2023-07-12T10:32:41.659Z"
   },
   {
    "duration": 19,
    "start_time": "2023-07-12T10:33:04.183Z"
   },
   {
    "duration": 106,
    "start_time": "2023-07-12T10:33:04.204Z"
   },
   {
    "duration": 22030,
    "start_time": "2023-07-12T10:33:04.312Z"
   },
   {
    "duration": 17,
    "start_time": "2023-07-12T10:33:26.345Z"
   },
   {
    "duration": 104,
    "start_time": "2023-07-12T10:33:26.363Z"
   },
   {
    "duration": 40,
    "start_time": "2023-07-12T10:33:26.468Z"
   },
   {
    "duration": 23,
    "start_time": "2023-07-12T10:33:26.509Z"
   },
   {
    "duration": 20,
    "start_time": "2023-07-12T10:33:26.535Z"
   },
   {
    "duration": 100,
    "start_time": "2023-07-12T10:33:26.557Z"
   },
   {
    "duration": 111,
    "start_time": "2023-07-12T10:33:26.659Z"
   },
   {
    "duration": 64,
    "start_time": "2023-07-12T10:33:26.772Z"
   },
   {
    "duration": 420,
    "start_time": "2023-07-12T10:33:26.838Z"
   },
   {
    "duration": 440,
    "start_time": "2023-07-12T10:33:27.259Z"
   },
   {
    "duration": 379,
    "start_time": "2023-07-12T10:33:27.701Z"
   },
   {
    "duration": 344,
    "start_time": "2023-07-12T10:33:28.082Z"
   },
   {
    "duration": 259,
    "start_time": "2023-07-12T10:33:28.427Z"
   },
   {
    "duration": 433,
    "start_time": "2023-07-12T10:33:28.688Z"
   },
   {
    "duration": 247,
    "start_time": "2023-07-12T10:33:29.123Z"
   },
   {
    "duration": 88,
    "start_time": "2023-07-12T10:33:29.372Z"
   },
   {
    "duration": 41,
    "start_time": "2023-07-12T10:33:29.462Z"
   },
   {
    "duration": 69,
    "start_time": "2023-07-12T10:33:29.505Z"
   },
   {
    "duration": 1544,
    "start_time": "2023-07-12T10:46:31.199Z"
   },
   {
    "duration": 964,
    "start_time": "2023-07-12T10:46:32.745Z"
   },
   {
    "duration": 131,
    "start_time": "2023-07-12T10:46:33.712Z"
   },
   {
    "duration": 84,
    "start_time": "2023-07-12T10:46:33.845Z"
   },
   {
    "duration": 129,
    "start_time": "2023-07-12T10:46:33.932Z"
   },
   {
    "duration": 294,
    "start_time": "2023-07-12T10:46:34.062Z"
   },
   {
    "duration": 24496,
    "start_time": "2023-07-12T10:46:34.358Z"
   },
   {
    "duration": 30,
    "start_time": "2023-07-12T10:46:58.856Z"
   },
   {
    "duration": 104,
    "start_time": "2023-07-12T10:46:58.889Z"
   },
   {
    "duration": 23979,
    "start_time": "2023-07-12T10:46:58.995Z"
   },
   {
    "duration": 15,
    "start_time": "2023-07-12T10:47:22.976Z"
   },
   {
    "duration": 94,
    "start_time": "2023-07-12T10:47:23.006Z"
   },
   {
    "duration": 23554,
    "start_time": "2023-07-12T10:47:23.101Z"
   },
   {
    "duration": 15,
    "start_time": "2023-07-12T10:47:46.658Z"
   },
   {
    "duration": 96,
    "start_time": "2023-07-12T10:47:46.675Z"
   },
   {
    "duration": 48,
    "start_time": "2023-07-12T10:47:46.773Z"
   },
   {
    "duration": 23,
    "start_time": "2023-07-12T10:47:46.823Z"
   },
   {
    "duration": 35,
    "start_time": "2023-07-12T10:47:46.848Z"
   },
   {
    "duration": 89,
    "start_time": "2023-07-12T10:47:46.885Z"
   },
   {
    "duration": 134,
    "start_time": "2023-07-12T10:47:46.976Z"
   },
   {
    "duration": 47,
    "start_time": "2023-07-12T10:47:47.118Z"
   },
   {
    "duration": 450,
    "start_time": "2023-07-12T10:47:47.167Z"
   },
   {
    "duration": 438,
    "start_time": "2023-07-12T10:47:47.619Z"
   },
   {
    "duration": 383,
    "start_time": "2023-07-12T10:47:48.059Z"
   },
   {
    "duration": 362,
    "start_time": "2023-07-12T10:47:48.444Z"
   },
   {
    "duration": 277,
    "start_time": "2023-07-12T10:47:48.808Z"
   },
   {
    "duration": 444,
    "start_time": "2023-07-12T10:47:49.087Z"
   },
   {
    "duration": 246,
    "start_time": "2023-07-12T10:47:49.533Z"
   },
   {
    "duration": 80,
    "start_time": "2023-07-12T10:47:49.781Z"
   },
   {
    "duration": 31,
    "start_time": "2023-07-12T10:51:10.856Z"
   },
   {
    "duration": 68,
    "start_time": "2023-07-12T10:51:19.792Z"
   },
   {
    "duration": 16,
    "start_time": "2023-07-12T11:02:39.218Z"
   },
   {
    "duration": 141,
    "start_time": "2023-07-12T11:02:49.900Z"
   },
   {
    "duration": 11,
    "start_time": "2023-07-12T11:03:07.426Z"
   },
   {
    "duration": 9,
    "start_time": "2023-07-12T11:07:24.619Z"
   },
   {
    "duration": 21,
    "start_time": "2023-07-12T11:07:36.637Z"
   },
   {
    "duration": 11,
    "start_time": "2023-07-12T11:07:51.718Z"
   },
   {
    "duration": 3,
    "start_time": "2023-07-12T11:09:14.819Z"
   },
   {
    "duration": 5,
    "start_time": "2023-07-12T11:09:22.239Z"
   },
   {
    "duration": 30,
    "start_time": "2023-07-12T11:10:41.310Z"
   },
   {
    "duration": 27,
    "start_time": "2023-07-12T11:14:49.044Z"
   },
   {
    "duration": 4,
    "start_time": "2023-07-12T11:15:26.598Z"
   },
   {
    "duration": 34,
    "start_time": "2023-07-12T11:15:43.340Z"
   },
   {
    "duration": 5,
    "start_time": "2023-07-12T11:15:58.030Z"
   },
   {
    "duration": 5,
    "start_time": "2023-07-12T11:16:14.409Z"
   },
   {
    "duration": 27,
    "start_time": "2023-07-12T11:16:22.332Z"
   },
   {
    "duration": 1581,
    "start_time": "2023-07-12T11:17:28.212Z"
   },
   {
    "duration": 912,
    "start_time": "2023-07-12T11:17:29.795Z"
   },
   {
    "duration": 184,
    "start_time": "2023-07-12T11:17:30.709Z"
   },
   {
    "duration": 90,
    "start_time": "2023-07-12T11:17:30.903Z"
   },
   {
    "duration": 183,
    "start_time": "2023-07-12T11:17:31.004Z"
   },
   {
    "duration": 315,
    "start_time": "2023-07-12T11:17:31.189Z"
   },
   {
    "duration": 23235,
    "start_time": "2023-07-12T11:17:31.506Z"
   },
   {
    "duration": 15,
    "start_time": "2023-07-12T11:17:54.742Z"
   },
   {
    "duration": 73,
    "start_time": "2023-07-12T11:17:54.759Z"
   },
   {
    "duration": 23172,
    "start_time": "2023-07-12T11:17:54.834Z"
   },
   {
    "duration": 15,
    "start_time": "2023-07-12T11:18:18.008Z"
   },
   {
    "duration": 85,
    "start_time": "2023-07-12T11:18:18.025Z"
   },
   {
    "duration": 24678,
    "start_time": "2023-07-12T11:18:18.112Z"
   },
   {
    "duration": 15,
    "start_time": "2023-07-12T11:18:42.793Z"
   },
   {
    "duration": 94,
    "start_time": "2023-07-12T11:18:42.810Z"
   },
   {
    "duration": 37,
    "start_time": "2023-07-12T11:18:42.906Z"
   },
   {
    "duration": 22,
    "start_time": "2023-07-12T11:18:42.945Z"
   },
   {
    "duration": 42,
    "start_time": "2023-07-12T11:18:42.969Z"
   },
   {
    "duration": 83,
    "start_time": "2023-07-12T11:18:43.013Z"
   },
   {
    "duration": 122,
    "start_time": "2023-07-12T11:18:43.098Z"
   },
   {
    "duration": 56,
    "start_time": "2023-07-12T11:18:43.222Z"
   },
   {
    "duration": 457,
    "start_time": "2023-07-12T11:18:43.280Z"
   },
   {
    "duration": 443,
    "start_time": "2023-07-12T11:18:43.739Z"
   },
   {
    "duration": 402,
    "start_time": "2023-07-12T11:18:44.184Z"
   },
   {
    "duration": 331,
    "start_time": "2023-07-12T11:18:44.588Z"
   },
   {
    "duration": 299,
    "start_time": "2023-07-12T11:18:44.920Z"
   },
   {
    "duration": 415,
    "start_time": "2023-07-12T11:18:45.222Z"
   },
   {
    "duration": 222,
    "start_time": "2023-07-12T11:18:45.639Z"
   },
   {
    "duration": 84,
    "start_time": "2023-07-12T11:18:45.862Z"
   },
   {
    "duration": 36,
    "start_time": "2023-07-12T11:18:45.948Z"
   },
   {
    "duration": 87,
    "start_time": "2023-07-12T11:18:46.001Z"
   },
   {
    "duration": 27,
    "start_time": "2023-07-12T11:18:46.090Z"
   },
   {
    "duration": 13,
    "start_time": "2023-07-12T11:18:46.119Z"
   },
   {
    "duration": 18,
    "start_time": "2023-07-12T11:18:46.134Z"
   },
   {
    "duration": 114,
    "start_time": "2023-07-12T11:19:33.015Z"
   },
   {
    "duration": 3,
    "start_time": "2023-07-12T11:19:59.729Z"
   },
   {
    "duration": 24,
    "start_time": "2023-07-12T11:20:05.711Z"
   },
   {
    "duration": 8352,
    "start_time": "2023-07-12T11:22:10.212Z"
   },
   {
    "duration": 7,
    "start_time": "2023-07-12T11:22:25.759Z"
   },
   {
    "duration": 33,
    "start_time": "2023-07-12T11:22:32.270Z"
   },
   {
    "duration": 2324,
    "start_time": "2023-07-12T11:26:17.292Z"
   },
   {
    "duration": 1369,
    "start_time": "2023-07-12T11:26:19.619Z"
   },
   {
    "duration": 906,
    "start_time": "2023-07-12T11:26:20.991Z"
   },
   {
    "duration": 136,
    "start_time": "2023-07-12T11:26:21.902Z"
   },
   {
    "duration": 77,
    "start_time": "2023-07-12T11:26:22.040Z"
   },
   {
    "duration": 143,
    "start_time": "2023-07-12T11:26:22.120Z"
   },
   {
    "duration": 302,
    "start_time": "2023-07-12T11:26:22.265Z"
   },
   {
    "duration": 23288,
    "start_time": "2023-07-12T11:26:22.569Z"
   },
   {
    "duration": 16,
    "start_time": "2023-07-12T11:26:45.858Z"
   },
   {
    "duration": 74,
    "start_time": "2023-07-12T11:26:45.878Z"
   },
   {
    "duration": 22531,
    "start_time": "2023-07-12T11:26:45.955Z"
   },
   {
    "duration": 19,
    "start_time": "2023-07-12T11:27:08.488Z"
   },
   {
    "duration": 99,
    "start_time": "2023-07-12T11:27:08.509Z"
   },
   {
    "duration": 22492,
    "start_time": "2023-07-12T11:27:08.610Z"
   },
   {
    "duration": 16,
    "start_time": "2023-07-12T11:27:31.104Z"
   },
   {
    "duration": 100,
    "start_time": "2023-07-12T11:27:31.122Z"
   },
   {
    "duration": 43,
    "start_time": "2023-07-12T11:27:31.225Z"
   },
   {
    "duration": 41,
    "start_time": "2023-07-12T11:27:31.270Z"
   },
   {
    "duration": 69,
    "start_time": "2023-07-12T11:27:31.312Z"
   },
   {
    "duration": 97,
    "start_time": "2023-07-12T11:27:31.383Z"
   },
   {
    "duration": 104,
    "start_time": "2023-07-12T11:27:31.482Z"
   },
   {
    "duration": 58,
    "start_time": "2023-07-12T11:27:31.601Z"
   },
   {
    "duration": 444,
    "start_time": "2023-07-12T11:27:31.661Z"
   },
   {
    "duration": 449,
    "start_time": "2023-07-12T11:27:32.107Z"
   },
   {
    "duration": 285,
    "start_time": "2023-07-12T11:27:32.558Z"
   },
   {
    "duration": 438,
    "start_time": "2023-07-12T11:27:32.845Z"
   },
   {
    "duration": 273,
    "start_time": "2023-07-12T11:27:33.285Z"
   },
   {
    "duration": 448,
    "start_time": "2023-07-12T11:27:33.561Z"
   },
   {
    "duration": 223,
    "start_time": "2023-07-12T11:27:34.011Z"
   },
   {
    "duration": 79,
    "start_time": "2023-07-12T11:27:34.236Z"
   },
   {
    "duration": 31,
    "start_time": "2023-07-12T11:27:34.317Z"
   },
   {
    "duration": 85,
    "start_time": "2023-07-12T11:27:34.350Z"
   },
   {
    "duration": 16,
    "start_time": "2023-07-12T11:27:34.437Z"
   },
   {
    "duration": 12,
    "start_time": "2023-07-12T11:27:34.455Z"
   },
   {
    "duration": 20,
    "start_time": "2023-07-12T11:27:34.469Z"
   },
   {
    "duration": 147,
    "start_time": "2023-07-12T11:27:39.317Z"
   },
   {
    "duration": 44,
    "start_time": "2023-07-12T11:28:29.994Z"
   },
   {
    "duration": 83,
    "start_time": "2023-07-12T11:28:46.444Z"
   },
   {
    "duration": 16,
    "start_time": "2023-07-12T11:28:49.040Z"
   },
   {
    "duration": 8,
    "start_time": "2023-07-12T11:28:51.341Z"
   },
   {
    "duration": 11,
    "start_time": "2023-07-12T11:28:52.743Z"
   },
   {
    "duration": 43,
    "start_time": "2023-07-12T11:28:54.803Z"
   },
   {
    "duration": 28,
    "start_time": "2023-07-12T11:33:43.967Z"
   },
   {
    "duration": 82,
    "start_time": "2023-07-12T11:33:57.115Z"
   },
   {
    "duration": 14,
    "start_time": "2023-07-12T11:33:58.862Z"
   },
   {
    "duration": 9,
    "start_time": "2023-07-12T11:34:00.659Z"
   },
   {
    "duration": 13,
    "start_time": "2023-07-12T11:34:02.360Z"
   },
   {
    "duration": 59,
    "start_time": "2023-07-12T11:34:04.025Z"
   },
   {
    "duration": 34,
    "start_time": "2023-07-12T11:34:25.839Z"
   },
   {
    "duration": 33,
    "start_time": "2023-07-12T11:34:46.604Z"
   },
   {
    "duration": 76,
    "start_time": "2023-07-12T11:34:49.508Z"
   },
   {
    "duration": 13,
    "start_time": "2023-07-12T11:34:51.346Z"
   },
   {
    "duration": 8,
    "start_time": "2023-07-12T11:34:52.894Z"
   },
   {
    "duration": 11,
    "start_time": "2023-07-12T11:34:54.552Z"
   },
   {
    "duration": 64,
    "start_time": "2023-07-12T11:34:56.071Z"
   },
   {
    "duration": 53,
    "start_time": "2023-07-12T11:36:58.258Z"
   },
   {
    "duration": 2943,
    "start_time": "2023-07-12T11:38:26.677Z"
   },
   {
    "duration": 3186,
    "start_time": "2023-07-12T11:38:29.623Z"
   },
   {
    "duration": 1263,
    "start_time": "2023-07-12T11:38:32.811Z"
   },
   {
    "duration": 128,
    "start_time": "2023-07-12T11:38:34.076Z"
   },
   {
    "duration": 70,
    "start_time": "2023-07-12T11:38:34.206Z"
   },
   {
    "duration": 149,
    "start_time": "2023-07-12T11:38:34.278Z"
   },
   {
    "duration": 305,
    "start_time": "2023-07-12T11:38:34.429Z"
   },
   {
    "duration": 23932,
    "start_time": "2023-07-12T11:38:34.736Z"
   },
   {
    "duration": 31,
    "start_time": "2023-07-12T11:38:58.670Z"
   },
   {
    "duration": 70,
    "start_time": "2023-07-12T11:38:58.703Z"
   },
   {
    "duration": 25594,
    "start_time": "2023-07-12T11:38:58.775Z"
   },
   {
    "duration": 33,
    "start_time": "2023-07-12T11:39:24.371Z"
   },
   {
    "duration": 109,
    "start_time": "2023-07-12T11:39:24.406Z"
   },
   {
    "duration": 24545,
    "start_time": "2023-07-12T11:39:24.521Z"
   },
   {
    "duration": 17,
    "start_time": "2023-07-12T11:39:49.068Z"
   },
   {
    "duration": 119,
    "start_time": "2023-07-12T11:39:49.103Z"
   },
   {
    "duration": 60,
    "start_time": "2023-07-12T11:39:49.225Z"
   },
   {
    "duration": 43,
    "start_time": "2023-07-12T11:39:49.301Z"
   },
   {
    "duration": 36,
    "start_time": "2023-07-12T11:39:49.346Z"
   },
   {
    "duration": 96,
    "start_time": "2023-07-12T11:39:49.385Z"
   },
   {
    "duration": 131,
    "start_time": "2023-07-12T11:39:49.484Z"
   },
   {
    "duration": 54,
    "start_time": "2023-07-12T11:39:49.617Z"
   },
   {
    "duration": 756,
    "start_time": "2023-07-12T11:39:49.672Z"
   },
   {
    "duration": 118,
    "start_time": "2023-07-12T11:39:50.430Z"
   },
   {
    "duration": 0,
    "start_time": "2023-07-12T11:39:50.552Z"
   },
   {
    "duration": 0,
    "start_time": "2023-07-12T11:39:50.553Z"
   },
   {
    "duration": 0,
    "start_time": "2023-07-12T11:39:50.555Z"
   },
   {
    "duration": 0,
    "start_time": "2023-07-12T11:39:50.556Z"
   },
   {
    "duration": 0,
    "start_time": "2023-07-12T11:39:50.558Z"
   },
   {
    "duration": 0,
    "start_time": "2023-07-12T11:39:50.559Z"
   },
   {
    "duration": 0,
    "start_time": "2023-07-12T11:39:50.562Z"
   },
   {
    "duration": 0,
    "start_time": "2023-07-12T11:39:50.563Z"
   },
   {
    "duration": 0,
    "start_time": "2023-07-12T11:39:50.565Z"
   },
   {
    "duration": 0,
    "start_time": "2023-07-12T11:39:50.566Z"
   },
   {
    "duration": 0,
    "start_time": "2023-07-12T11:39:50.567Z"
   },
   {
    "duration": 0,
    "start_time": "2023-07-12T11:39:50.569Z"
   },
   {
    "duration": 5,
    "start_time": "2023-07-12T11:45:34.213Z"
   },
   {
    "duration": 12,
    "start_time": "2023-07-12T11:45:49.459Z"
   },
   {
    "duration": 7,
    "start_time": "2023-07-12T11:46:39.485Z"
   },
   {
    "duration": 3177,
    "start_time": "2023-07-12T11:46:56.085Z"
   },
   {
    "duration": 1603,
    "start_time": "2023-07-12T11:46:59.266Z"
   },
   {
    "duration": 1161,
    "start_time": "2023-07-12T11:47:00.871Z"
   },
   {
    "duration": 154,
    "start_time": "2023-07-12T11:47:02.034Z"
   },
   {
    "duration": 170,
    "start_time": "2023-07-12T11:47:02.191Z"
   },
   {
    "duration": 213,
    "start_time": "2023-07-12T11:47:02.363Z"
   },
   {
    "duration": 516,
    "start_time": "2023-07-12T11:47:02.578Z"
   },
   {
    "duration": 24206,
    "start_time": "2023-07-12T11:47:03.096Z"
   },
   {
    "duration": 17,
    "start_time": "2023-07-12T11:47:27.303Z"
   },
   {
    "duration": 126,
    "start_time": "2023-07-12T11:47:27.322Z"
   },
   {
    "duration": 24751,
    "start_time": "2023-07-12T11:47:27.451Z"
   },
   {
    "duration": 27,
    "start_time": "2023-07-12T11:47:52.204Z"
   },
   {
    "duration": 114,
    "start_time": "2023-07-12T11:47:52.233Z"
   },
   {
    "duration": 23901,
    "start_time": "2023-07-12T11:47:52.352Z"
   },
   {
    "duration": 16,
    "start_time": "2023-07-12T11:48:16.255Z"
   },
   {
    "duration": 110,
    "start_time": "2023-07-12T11:48:16.272Z"
   },
   {
    "duration": 35,
    "start_time": "2023-07-12T11:48:16.384Z"
   },
   {
    "duration": 22,
    "start_time": "2023-07-12T11:48:16.421Z"
   },
   {
    "duration": 25,
    "start_time": "2023-07-12T11:48:16.445Z"
   },
   {
    "duration": 76,
    "start_time": "2023-07-12T11:48:16.472Z"
   },
   {
    "duration": 123,
    "start_time": "2023-07-12T11:48:16.550Z"
   },
   {
    "duration": 64,
    "start_time": "2023-07-12T11:48:16.675Z"
   },
   {
    "duration": 664,
    "start_time": "2023-07-12T11:48:16.742Z"
   },
   {
    "duration": 453,
    "start_time": "2023-07-12T11:48:17.408Z"
   },
   {
    "duration": 332,
    "start_time": "2023-07-12T11:48:17.864Z"
   },
   {
    "duration": 455,
    "start_time": "2023-07-12T11:48:18.202Z"
   },
   {
    "duration": 298,
    "start_time": "2023-07-12T11:48:18.659Z"
   },
   {
    "duration": 656,
    "start_time": "2023-07-12T11:48:18.959Z"
   },
   {
    "duration": 326,
    "start_time": "2023-07-12T11:48:19.617Z"
   },
   {
    "duration": 86,
    "start_time": "2023-07-12T11:48:19.945Z"
   },
   {
    "duration": 36,
    "start_time": "2023-07-12T11:48:20.033Z"
   },
   {
    "duration": 75,
    "start_time": "2023-07-12T11:48:20.070Z"
   },
   {
    "duration": 130,
    "start_time": "2023-07-12T11:48:20.147Z"
   },
   {
    "duration": 29,
    "start_time": "2023-07-12T11:48:20.280Z"
   },
   {
    "duration": 26,
    "start_time": "2023-07-12T11:48:20.311Z"
   },
   {
    "duration": 260,
    "start_time": "2023-07-12T11:48:20.340Z"
   },
   {
    "duration": 68895,
    "start_time": "2023-07-12T11:55:27.518Z"
   },
   {
    "duration": 67148,
    "start_time": "2023-07-12T11:57:27.743Z"
   },
   {
    "duration": 2,
    "start_time": "2023-07-12T11:59:01.481Z"
   },
   {
    "duration": 67,
    "start_time": "2023-07-12T11:59:22.295Z"
   },
   {
    "duration": 553,
    "start_time": "2023-07-12T11:59:46.548Z"
   },
   {
    "duration": 114,
    "start_time": "2023-07-12T12:29:34.757Z"
   },
   {
    "duration": 13,
    "start_time": "2023-07-12T12:34:06.035Z"
   },
   {
    "duration": 40681,
    "start_time": "2023-07-12T12:34:14.822Z"
   },
   {
    "duration": 40798,
    "start_time": "2023-07-12T12:36:04.705Z"
   },
   {
    "duration": 35775,
    "start_time": "2023-07-12T12:37:08.335Z"
   },
   {
    "duration": 99,
    "start_time": "2023-07-12T12:40:07.507Z"
   },
   {
    "duration": 2990,
    "start_time": "2023-07-12T12:49:38.766Z"
   },
   {
    "duration": 2108,
    "start_time": "2023-07-12T12:49:41.759Z"
   },
   {
    "duration": 1136,
    "start_time": "2023-07-12T12:49:43.870Z"
   },
   {
    "duration": 132,
    "start_time": "2023-07-12T12:49:45.008Z"
   },
   {
    "duration": 92,
    "start_time": "2023-07-12T12:49:45.141Z"
   },
   {
    "duration": 114,
    "start_time": "2023-07-12T12:49:45.234Z"
   },
   {
    "duration": 277,
    "start_time": "2023-07-12T12:49:45.349Z"
   },
   {
    "duration": 22431,
    "start_time": "2023-07-12T12:49:45.629Z"
   },
   {
    "duration": 16,
    "start_time": "2023-07-12T12:50:08.062Z"
   },
   {
    "duration": 82,
    "start_time": "2023-07-12T12:50:08.081Z"
   },
   {
    "duration": 22547,
    "start_time": "2023-07-12T12:50:08.165Z"
   },
   {
    "duration": 15,
    "start_time": "2023-07-12T12:50:30.714Z"
   },
   {
    "duration": 207,
    "start_time": "2023-07-12T12:50:30.730Z"
   },
   {
    "duration": 22613,
    "start_time": "2023-07-12T12:50:30.939Z"
   },
   {
    "duration": 16,
    "start_time": "2023-07-12T12:50:53.554Z"
   },
   {
    "duration": 87,
    "start_time": "2023-07-12T12:50:53.572Z"
   },
   {
    "duration": 47,
    "start_time": "2023-07-12T12:50:53.661Z"
   },
   {
    "duration": 23,
    "start_time": "2023-07-12T12:50:53.711Z"
   },
   {
    "duration": 20,
    "start_time": "2023-07-12T12:50:53.736Z"
   },
   {
    "duration": 93,
    "start_time": "2023-07-12T12:50:53.757Z"
   },
   {
    "duration": 121,
    "start_time": "2023-07-12T12:50:53.852Z"
   },
   {
    "duration": 55,
    "start_time": "2023-07-12T12:50:53.975Z"
   },
   {
    "duration": 417,
    "start_time": "2023-07-12T12:50:54.032Z"
   },
   {
    "duration": 433,
    "start_time": "2023-07-12T12:50:54.451Z"
   },
   {
    "duration": 283,
    "start_time": "2023-07-12T12:50:54.886Z"
   },
   {
    "duration": 422,
    "start_time": "2023-07-12T12:50:55.171Z"
   },
   {
    "duration": 283,
    "start_time": "2023-07-12T12:50:55.595Z"
   },
   {
    "duration": 443,
    "start_time": "2023-07-12T12:50:55.883Z"
   },
   {
    "duration": 230,
    "start_time": "2023-07-12T12:50:56.328Z"
   },
   {
    "duration": 78,
    "start_time": "2023-07-12T12:50:56.560Z"
   },
   {
    "duration": 29,
    "start_time": "2023-07-12T12:50:56.639Z"
   },
   {
    "duration": 54,
    "start_time": "2023-07-12T12:50:56.670Z"
   },
   {
    "duration": 76,
    "start_time": "2023-07-12T12:50:56.726Z"
   },
   {
    "duration": 19,
    "start_time": "2023-07-12T12:50:56.804Z"
   },
   {
    "duration": 9,
    "start_time": "2023-07-12T12:50:56.826Z"
   },
   {
    "duration": 16,
    "start_time": "2023-07-12T12:50:56.845Z"
   },
   {
    "duration": 2497,
    "start_time": "2023-07-12T12:51:54.126Z"
   },
   {
    "duration": 2049,
    "start_time": "2023-07-12T12:51:56.625Z"
   },
   {
    "duration": 1114,
    "start_time": "2023-07-12T12:51:58.676Z"
   },
   {
    "duration": 132,
    "start_time": "2023-07-12T12:51:59.793Z"
   },
   {
    "duration": 89,
    "start_time": "2023-07-12T12:51:59.928Z"
   },
   {
    "duration": 137,
    "start_time": "2023-07-12T12:52:00.019Z"
   },
   {
    "duration": 282,
    "start_time": "2023-07-12T12:52:00.158Z"
   },
   {
    "duration": 22469,
    "start_time": "2023-07-12T12:52:00.442Z"
   },
   {
    "duration": 17,
    "start_time": "2023-07-12T12:52:22.912Z"
   },
   {
    "duration": 98,
    "start_time": "2023-07-12T12:52:22.933Z"
   },
   {
    "duration": 22799,
    "start_time": "2023-07-12T12:52:23.033Z"
   },
   {
    "duration": 15,
    "start_time": "2023-07-12T12:52:45.834Z"
   },
   {
    "duration": 81,
    "start_time": "2023-07-12T12:52:45.851Z"
   },
   {
    "duration": 22434,
    "start_time": "2023-07-12T12:52:45.933Z"
   },
   {
    "duration": 15,
    "start_time": "2023-07-12T12:53:08.369Z"
   },
   {
    "duration": 82,
    "start_time": "2023-07-12T12:53:08.385Z"
   },
   {
    "duration": 43,
    "start_time": "2023-07-12T12:53:08.469Z"
   },
   {
    "duration": 22,
    "start_time": "2023-07-12T12:53:08.514Z"
   },
   {
    "duration": 35,
    "start_time": "2023-07-12T12:53:08.538Z"
   },
   {
    "duration": 80,
    "start_time": "2023-07-12T12:53:08.575Z"
   },
   {
    "duration": 101,
    "start_time": "2023-07-12T12:53:08.657Z"
   },
   {
    "duration": 61,
    "start_time": "2023-07-12T12:53:08.760Z"
   },
   {
    "duration": 422,
    "start_time": "2023-07-12T12:53:08.823Z"
   },
   {
    "duration": 431,
    "start_time": "2023-07-12T12:53:09.247Z"
   },
   {
    "duration": 284,
    "start_time": "2023-07-12T12:53:09.680Z"
   },
   {
    "duration": 436,
    "start_time": "2023-07-12T12:53:09.966Z"
   },
   {
    "duration": 357,
    "start_time": "2023-07-12T12:53:10.404Z"
   },
   {
    "duration": 444,
    "start_time": "2023-07-12T12:53:10.765Z"
   },
   {
    "duration": 232,
    "start_time": "2023-07-12T12:53:11.211Z"
   },
   {
    "duration": 81,
    "start_time": "2023-07-12T12:53:11.445Z"
   },
   {
    "duration": 31,
    "start_time": "2023-07-12T12:53:11.528Z"
   },
   {
    "duration": 53,
    "start_time": "2023-07-12T12:53:11.560Z"
   },
   {
    "duration": 71,
    "start_time": "2023-07-12T12:53:11.614Z"
   },
   {
    "duration": 30,
    "start_time": "2023-07-12T12:53:11.686Z"
   },
   {
    "duration": 21,
    "start_time": "2023-07-12T12:53:11.718Z"
   },
   {
    "duration": 54,
    "start_time": "2023-07-12T12:53:11.741Z"
   },
   {
    "duration": 54,
    "start_time": "2023-07-12T12:53:39.137Z"
   },
   {
    "duration": 2606,
    "start_time": "2023-07-12T12:53:51.641Z"
   },
   {
    "duration": 2308,
    "start_time": "2023-07-12T12:53:54.250Z"
   },
   {
    "duration": 1191,
    "start_time": "2023-07-12T12:53:56.559Z"
   },
   {
    "duration": 124,
    "start_time": "2023-07-12T12:53:57.751Z"
   },
   {
    "duration": 75,
    "start_time": "2023-07-12T12:53:57.877Z"
   },
   {
    "duration": 126,
    "start_time": "2023-07-12T12:53:57.954Z"
   },
   {
    "duration": 270,
    "start_time": "2023-07-12T12:53:58.082Z"
   },
   {
    "duration": 22982,
    "start_time": "2023-07-12T12:53:58.354Z"
   },
   {
    "duration": 15,
    "start_time": "2023-07-12T12:54:21.337Z"
   },
   {
    "duration": 73,
    "start_time": "2023-07-12T12:54:21.354Z"
   },
   {
    "duration": 22615,
    "start_time": "2023-07-12T12:54:21.429Z"
   },
   {
    "duration": 15,
    "start_time": "2023-07-12T12:54:44.045Z"
   },
   {
    "duration": 79,
    "start_time": "2023-07-12T12:54:44.061Z"
   },
   {
    "duration": 23477,
    "start_time": "2023-07-12T12:54:44.143Z"
   },
   {
    "duration": 15,
    "start_time": "2023-07-12T12:55:07.622Z"
   },
   {
    "duration": 118,
    "start_time": "2023-07-12T12:55:07.638Z"
   },
   {
    "duration": 46,
    "start_time": "2023-07-12T12:55:07.757Z"
   },
   {
    "duration": 70,
    "start_time": "2023-07-12T12:55:07.804Z"
   },
   {
    "duration": 80,
    "start_time": "2023-07-12T12:55:07.875Z"
   },
   {
    "duration": 89,
    "start_time": "2023-07-12T12:55:07.957Z"
   },
   {
    "duration": 106,
    "start_time": "2023-07-12T12:55:08.048Z"
   },
   {
    "duration": 62,
    "start_time": "2023-07-12T12:55:08.156Z"
   },
   {
    "duration": 442,
    "start_time": "2023-07-12T12:55:08.219Z"
   },
   {
    "duration": 419,
    "start_time": "2023-07-12T12:55:08.663Z"
   },
   {
    "duration": 298,
    "start_time": "2023-07-12T12:55:09.083Z"
   },
   {
    "duration": 430,
    "start_time": "2023-07-12T12:55:09.383Z"
   },
   {
    "duration": 267,
    "start_time": "2023-07-12T12:55:09.815Z"
   },
   {
    "duration": 428,
    "start_time": "2023-07-12T12:55:10.083Z"
   },
   {
    "duration": 273,
    "start_time": "2023-07-12T12:55:10.513Z"
   },
   {
    "duration": 82,
    "start_time": "2023-07-12T12:55:10.788Z"
   },
   {
    "duration": 41,
    "start_time": "2023-07-12T12:55:10.872Z"
   },
   {
    "duration": 32,
    "start_time": "2023-07-12T12:55:10.915Z"
   },
   {
    "duration": 80,
    "start_time": "2023-07-12T12:55:10.948Z"
   },
   {
    "duration": 14,
    "start_time": "2023-07-12T12:55:11.030Z"
   },
   {
    "duration": 8,
    "start_time": "2023-07-12T12:55:11.045Z"
   },
   {
    "duration": 12,
    "start_time": "2023-07-12T12:55:11.054Z"
   },
   {
    "duration": 2194,
    "start_time": "2023-07-12T13:05:46.403Z"
   },
   {
    "duration": 2526,
    "start_time": "2023-07-12T13:05:48.600Z"
   },
   {
    "duration": 1159,
    "start_time": "2023-07-12T13:05:51.129Z"
   },
   {
    "duration": 125,
    "start_time": "2023-07-12T13:05:52.290Z"
   },
   {
    "duration": 68,
    "start_time": "2023-07-12T13:05:52.418Z"
   },
   {
    "duration": 130,
    "start_time": "2023-07-12T13:05:52.501Z"
   },
   {
    "duration": 320,
    "start_time": "2023-07-12T13:05:52.633Z"
   },
   {
    "duration": 23056,
    "start_time": "2023-07-12T13:05:52.956Z"
   },
   {
    "duration": 17,
    "start_time": "2023-07-12T13:06:16.014Z"
   },
   {
    "duration": 97,
    "start_time": "2023-07-12T13:06:16.033Z"
   },
   {
    "duration": 23114,
    "start_time": "2023-07-12T13:06:16.132Z"
   },
   {
    "duration": 17,
    "start_time": "2023-07-12T13:06:39.248Z"
   },
   {
    "duration": 89,
    "start_time": "2023-07-12T13:06:39.267Z"
   },
   {
    "duration": 23196,
    "start_time": "2023-07-12T13:06:39.360Z"
   },
   {
    "duration": 17,
    "start_time": "2023-07-12T13:07:02.559Z"
   },
   {
    "duration": 102,
    "start_time": "2023-07-12T13:07:02.578Z"
   },
   {
    "duration": 37,
    "start_time": "2023-07-12T13:07:02.682Z"
   },
   {
    "duration": 45,
    "start_time": "2023-07-12T13:07:02.721Z"
   },
   {
    "duration": 45,
    "start_time": "2023-07-12T13:07:02.768Z"
   },
   {
    "duration": 117,
    "start_time": "2023-07-12T13:07:02.815Z"
   },
   {
    "duration": 106,
    "start_time": "2023-07-12T13:07:02.934Z"
   },
   {
    "duration": 61,
    "start_time": "2023-07-12T13:07:03.042Z"
   },
   {
    "duration": 488,
    "start_time": "2023-07-12T13:07:03.105Z"
   },
   {
    "duration": 455,
    "start_time": "2023-07-12T13:07:03.602Z"
   },
   {
    "duration": 296,
    "start_time": "2023-07-12T13:07:04.059Z"
   },
   {
    "duration": 435,
    "start_time": "2023-07-12T13:07:04.357Z"
   },
   {
    "duration": 280,
    "start_time": "2023-07-12T13:07:04.794Z"
   },
   {
    "duration": 417,
    "start_time": "2023-07-12T13:07:05.076Z"
   },
   {
    "duration": 215,
    "start_time": "2023-07-12T13:07:05.495Z"
   },
   {
    "duration": 73,
    "start_time": "2023-07-12T13:07:05.712Z"
   },
   {
    "duration": 34,
    "start_time": "2023-07-12T13:07:05.802Z"
   },
   {
    "duration": 63,
    "start_time": "2023-07-12T13:07:05.839Z"
   },
   {
    "duration": 98,
    "start_time": "2023-07-12T13:07:05.904Z"
   },
   {
    "duration": 17,
    "start_time": "2023-07-12T13:07:06.004Z"
   },
   {
    "duration": 35,
    "start_time": "2023-07-12T13:07:06.022Z"
   },
   {
    "duration": 46,
    "start_time": "2023-07-12T13:07:06.059Z"
   },
   {
    "duration": 2200,
    "start_time": "2023-07-12T13:07:43.770Z"
   },
   {
    "duration": 2077,
    "start_time": "2023-07-12T13:07:45.972Z"
   },
   {
    "duration": 1146,
    "start_time": "2023-07-12T13:07:48.052Z"
   },
   {
    "duration": 130,
    "start_time": "2023-07-12T13:07:49.199Z"
   },
   {
    "duration": 78,
    "start_time": "2023-07-12T13:07:49.331Z"
   },
   {
    "duration": 126,
    "start_time": "2023-07-12T13:07:49.411Z"
   },
   {
    "duration": 287,
    "start_time": "2023-07-12T13:07:49.538Z"
   },
   {
    "duration": 23657,
    "start_time": "2023-07-12T13:07:49.826Z"
   },
   {
    "duration": 34,
    "start_time": "2023-07-12T13:08:13.485Z"
   },
   {
    "duration": 69,
    "start_time": "2023-07-12T13:08:13.521Z"
   },
   {
    "duration": 26301,
    "start_time": "2023-07-12T13:08:13.592Z"
   },
   {
    "duration": 21,
    "start_time": "2023-07-12T13:08:39.895Z"
   },
   {
    "duration": 70,
    "start_time": "2023-07-12T13:08:39.917Z"
   },
   {
    "duration": 23937,
    "start_time": "2023-07-12T13:08:39.990Z"
   },
   {
    "duration": 30,
    "start_time": "2023-07-12T13:09:03.929Z"
   },
   {
    "duration": 101,
    "start_time": "2023-07-12T13:09:03.961Z"
   },
   {
    "duration": 50,
    "start_time": "2023-07-12T13:09:04.064Z"
   },
   {
    "duration": 23,
    "start_time": "2023-07-12T13:09:04.116Z"
   },
   {
    "duration": 31,
    "start_time": "2023-07-12T13:09:04.141Z"
   },
   {
    "duration": 93,
    "start_time": "2023-07-12T13:09:04.174Z"
   },
   {
    "duration": 137,
    "start_time": "2023-07-12T13:09:04.269Z"
   },
   {
    "duration": 50,
    "start_time": "2023-07-12T13:09:04.409Z"
   },
   {
    "duration": 460,
    "start_time": "2023-07-12T13:09:04.461Z"
   },
   {
    "duration": 492,
    "start_time": "2023-07-12T13:09:04.923Z"
   },
   {
    "duration": 302,
    "start_time": "2023-07-12T13:09:05.417Z"
   },
   {
    "duration": 449,
    "start_time": "2023-07-12T13:09:05.721Z"
   },
   {
    "duration": 307,
    "start_time": "2023-07-12T13:09:06.172Z"
   },
   {
    "duration": 527,
    "start_time": "2023-07-12T13:09:06.481Z"
   },
   {
    "duration": 331,
    "start_time": "2023-07-12T13:09:07.010Z"
   },
   {
    "duration": 94,
    "start_time": "2023-07-12T13:09:07.344Z"
   },
   {
    "duration": 32,
    "start_time": "2023-07-12T13:09:07.441Z"
   },
   {
    "duration": 59,
    "start_time": "2023-07-12T13:09:07.474Z"
   },
   {
    "duration": 120,
    "start_time": "2023-07-12T13:09:07.535Z"
   },
   {
    "duration": 19,
    "start_time": "2023-07-12T13:09:07.658Z"
   },
   {
    "duration": 39,
    "start_time": "2023-07-12T13:09:07.679Z"
   },
   {
    "duration": 30,
    "start_time": "2023-07-12T13:09:07.720Z"
   },
   {
    "duration": 7002,
    "start_time": "2023-07-13T05:32:56.544Z"
   },
   {
    "duration": 1374,
    "start_time": "2023-07-13T05:33:03.548Z"
   },
   {
    "duration": 1039,
    "start_time": "2023-07-13T05:33:04.923Z"
   },
   {
    "duration": 130,
    "start_time": "2023-07-13T05:33:05.964Z"
   },
   {
    "duration": 77,
    "start_time": "2023-07-13T05:33:06.096Z"
   },
   {
    "duration": 152,
    "start_time": "2023-07-13T05:33:06.176Z"
   },
   {
    "duration": 273,
    "start_time": "2023-07-13T05:33:06.330Z"
   },
   {
    "duration": 19964,
    "start_time": "2023-07-13T05:33:06.605Z"
   },
   {
    "duration": 19,
    "start_time": "2023-07-13T05:33:26.570Z"
   },
   {
    "duration": 70,
    "start_time": "2023-07-13T05:33:26.590Z"
   },
   {
    "duration": 19613,
    "start_time": "2023-07-13T05:33:26.661Z"
   },
   {
    "duration": 18,
    "start_time": "2023-07-13T05:33:46.276Z"
   },
   {
    "duration": 89,
    "start_time": "2023-07-13T05:33:46.296Z"
   },
   {
    "duration": 19934,
    "start_time": "2023-07-13T05:33:46.388Z"
   },
   {
    "duration": 21,
    "start_time": "2023-07-13T05:34:06.324Z"
   },
   {
    "duration": 122,
    "start_time": "2023-07-13T05:34:06.346Z"
   },
   {
    "duration": 34,
    "start_time": "2023-07-13T05:34:06.470Z"
   },
   {
    "duration": 23,
    "start_time": "2023-07-13T05:34:06.506Z"
   },
   {
    "duration": 45,
    "start_time": "2023-07-13T05:34:06.530Z"
   },
   {
    "duration": 90,
    "start_time": "2023-07-13T05:34:06.577Z"
   },
   {
    "duration": 112,
    "start_time": "2023-07-13T05:34:06.668Z"
   },
   {
    "duration": 51,
    "start_time": "2023-07-13T05:34:06.782Z"
   },
   {
    "duration": 375,
    "start_time": "2023-07-13T05:34:06.835Z"
   },
   {
    "duration": 431,
    "start_time": "2023-07-13T05:34:07.212Z"
   },
   {
    "duration": 332,
    "start_time": "2023-07-13T05:34:07.645Z"
   },
   {
    "duration": 312,
    "start_time": "2023-07-13T05:34:07.979Z"
   },
   {
    "duration": 235,
    "start_time": "2023-07-13T05:34:08.293Z"
   },
   {
    "duration": 405,
    "start_time": "2023-07-13T05:34:08.530Z"
   },
   {
    "duration": 200,
    "start_time": "2023-07-13T05:34:08.937Z"
   },
   {
    "duration": 79,
    "start_time": "2023-07-13T05:34:09.139Z"
   },
   {
    "duration": 29,
    "start_time": "2023-07-13T05:34:09.220Z"
   },
   {
    "duration": 42,
    "start_time": "2023-07-13T05:34:09.251Z"
   },
   {
    "duration": 80,
    "start_time": "2023-07-13T05:34:09.295Z"
   },
   {
    "duration": 15,
    "start_time": "2023-07-13T05:34:09.377Z"
   },
   {
    "duration": 12,
    "start_time": "2023-07-13T05:34:09.393Z"
   },
   {
    "duration": 18,
    "start_time": "2023-07-13T05:36:27.909Z"
   },
   {
    "duration": 69468,
    "start_time": "2023-07-13T05:36:30.302Z"
   },
   {
    "duration": 90,
    "start_time": "2023-07-13T05:37:43.352Z"
   },
   {
    "duration": 57,
    "start_time": "2023-07-13T05:51:42.994Z"
   },
   {
    "duration": 2799,
    "start_time": "2023-07-13T05:51:51.004Z"
   },
   {
    "duration": 2005,
    "start_time": "2023-07-13T05:51:53.805Z"
   },
   {
    "duration": 1315,
    "start_time": "2023-07-13T05:51:55.812Z"
   },
   {
    "duration": 184,
    "start_time": "2023-07-13T05:51:57.128Z"
   },
   {
    "duration": 95,
    "start_time": "2023-07-13T05:51:57.315Z"
   },
   {
    "duration": 167,
    "start_time": "2023-07-13T05:51:57.412Z"
   },
   {
    "duration": 305,
    "start_time": "2023-07-13T05:51:57.581Z"
   },
   {
    "duration": 25721,
    "start_time": "2023-07-13T05:51:57.888Z"
   },
   {
    "duration": 20,
    "start_time": "2023-07-13T05:52:23.611Z"
   },
   {
    "duration": 165,
    "start_time": "2023-07-13T05:52:23.633Z"
   },
   {
    "duration": 28049,
    "start_time": "2023-07-13T05:52:23.800Z"
   },
   {
    "duration": 24,
    "start_time": "2023-07-13T05:52:51.853Z"
   },
   {
    "duration": 100,
    "start_time": "2023-07-13T05:52:51.880Z"
   },
   {
    "duration": 27373,
    "start_time": "2023-07-13T05:52:51.984Z"
   },
   {
    "duration": 22,
    "start_time": "2023-07-13T05:53:19.359Z"
   },
   {
    "duration": 84,
    "start_time": "2023-07-13T05:53:19.383Z"
   },
   {
    "duration": 39,
    "start_time": "2023-07-13T05:53:19.469Z"
   },
   {
    "duration": 22,
    "start_time": "2023-07-13T05:53:19.510Z"
   },
   {
    "duration": 45,
    "start_time": "2023-07-13T05:53:19.534Z"
   },
   {
    "duration": 64,
    "start_time": "2023-07-13T05:53:19.581Z"
   },
   {
    "duration": 130,
    "start_time": "2023-07-13T05:53:19.646Z"
   },
   {
    "duration": 78,
    "start_time": "2023-07-13T05:53:19.778Z"
   },
   {
    "duration": 436,
    "start_time": "2023-07-13T05:53:19.859Z"
   },
   {
    "duration": 447,
    "start_time": "2023-07-13T05:53:20.296Z"
   },
   {
    "duration": 295,
    "start_time": "2023-07-13T05:53:20.745Z"
   },
   {
    "duration": 476,
    "start_time": "2023-07-13T05:53:21.042Z"
   },
   {
    "duration": 337,
    "start_time": "2023-07-13T05:53:21.520Z"
   },
   {
    "duration": 506,
    "start_time": "2023-07-13T05:53:21.859Z"
   },
   {
    "duration": 247,
    "start_time": "2023-07-13T05:53:22.374Z"
   },
   {
    "duration": 77,
    "start_time": "2023-07-13T05:53:22.623Z"
   },
   {
    "duration": 29,
    "start_time": "2023-07-13T05:53:22.702Z"
   },
   {
    "duration": 60,
    "start_time": "2023-07-13T05:53:22.733Z"
   },
   {
    "duration": 65,
    "start_time": "2023-07-13T05:53:22.795Z"
   },
   {
    "duration": 28,
    "start_time": "2023-07-13T05:53:22.861Z"
   },
   {
    "duration": 10,
    "start_time": "2023-07-13T05:53:22.891Z"
   },
   {
    "duration": 16,
    "start_time": "2023-07-13T05:53:22.903Z"
   },
   {
    "duration": 62450,
    "start_time": "2023-07-13T05:53:22.921Z"
   },
   {
    "duration": 116,
    "start_time": "2023-07-13T05:54:25.375Z"
   },
   {
    "duration": 57,
    "start_time": "2023-07-13T06:03:59.084Z"
   },
   {
    "duration": 2283,
    "start_time": "2023-07-13T06:04:02.807Z"
   },
   {
    "duration": 2066,
    "start_time": "2023-07-13T06:04:05.093Z"
   },
   {
    "duration": 1152,
    "start_time": "2023-07-13T06:04:07.161Z"
   },
   {
    "duration": 140,
    "start_time": "2023-07-13T06:04:08.315Z"
   },
   {
    "duration": 67,
    "start_time": "2023-07-13T06:04:08.457Z"
   },
   {
    "duration": 134,
    "start_time": "2023-07-13T06:04:08.525Z"
   },
   {
    "duration": 267,
    "start_time": "2023-07-13T06:04:08.660Z"
   },
   {
    "duration": 20732,
    "start_time": "2023-07-13T06:04:08.929Z"
   },
   {
    "duration": 21,
    "start_time": "2023-07-13T06:04:29.663Z"
   },
   {
    "duration": 82,
    "start_time": "2023-07-13T06:04:29.686Z"
   },
   {
    "duration": 19886,
    "start_time": "2023-07-13T06:04:29.770Z"
   },
   {
    "duration": 18,
    "start_time": "2023-07-13T06:04:49.658Z"
   },
   {
    "duration": 73,
    "start_time": "2023-07-13T06:04:49.678Z"
   },
   {
    "duration": 19725,
    "start_time": "2023-07-13T06:04:49.754Z"
   },
   {
    "duration": 15,
    "start_time": "2023-07-13T06:05:09.481Z"
   },
   {
    "duration": 92,
    "start_time": "2023-07-13T06:05:09.498Z"
   },
   {
    "duration": 41,
    "start_time": "2023-07-13T06:05:09.591Z"
   },
   {
    "duration": 22,
    "start_time": "2023-07-13T06:05:09.634Z"
   },
   {
    "duration": 34,
    "start_time": "2023-07-13T06:05:09.658Z"
   },
   {
    "duration": 84,
    "start_time": "2023-07-13T06:05:09.694Z"
   },
   {
    "duration": 119,
    "start_time": "2023-07-13T06:05:09.780Z"
   },
   {
    "duration": 60,
    "start_time": "2023-07-13T06:05:09.901Z"
   },
   {
    "duration": 401,
    "start_time": "2023-07-13T06:05:09.962Z"
   },
   {
    "duration": 453,
    "start_time": "2023-07-13T06:05:10.364Z"
   },
   {
    "duration": 294,
    "start_time": "2023-07-13T06:05:10.819Z"
   },
   {
    "duration": 434,
    "start_time": "2023-07-13T06:05:11.115Z"
   },
   {
    "duration": 285,
    "start_time": "2023-07-13T06:05:11.550Z"
   },
   {
    "duration": 425,
    "start_time": "2023-07-13T06:05:11.837Z"
   },
   {
    "duration": 215,
    "start_time": "2023-07-13T06:05:12.264Z"
   },
   {
    "duration": 67,
    "start_time": "2023-07-13T06:05:12.481Z"
   },
   {
    "duration": 56,
    "start_time": "2023-07-13T06:05:12.550Z"
   },
   {
    "duration": 35,
    "start_time": "2023-07-13T06:05:12.608Z"
   },
   {
    "duration": 90,
    "start_time": "2023-07-13T06:05:12.644Z"
   },
   {
    "duration": 18,
    "start_time": "2023-07-13T06:05:12.735Z"
   },
   {
    "duration": 28,
    "start_time": "2023-07-13T06:05:12.755Z"
   },
   {
    "duration": 34,
    "start_time": "2023-07-13T06:05:12.785Z"
   },
   {
    "duration": 60516,
    "start_time": "2023-07-13T06:05:12.822Z"
   },
   {
    "duration": 106,
    "start_time": "2023-07-13T06:06:13.340Z"
   },
   {
    "duration": 2629,
    "start_time": "2023-07-13T06:12:09.878Z"
   },
   {
    "duration": 2229,
    "start_time": "2023-07-13T06:12:12.509Z"
   },
   {
    "duration": 1416,
    "start_time": "2023-07-13T06:12:14.740Z"
   },
   {
    "duration": 168,
    "start_time": "2023-07-13T06:12:16.157Z"
   },
   {
    "duration": 87,
    "start_time": "2023-07-13T06:12:16.328Z"
   },
   {
    "duration": 186,
    "start_time": "2023-07-13T06:12:16.417Z"
   },
   {
    "duration": 321,
    "start_time": "2023-07-13T06:12:16.605Z"
   },
   {
    "duration": 22404,
    "start_time": "2023-07-13T06:12:16.932Z"
   },
   {
    "duration": 16,
    "start_time": "2023-07-13T06:12:39.338Z"
   },
   {
    "duration": 83,
    "start_time": "2023-07-13T06:12:39.355Z"
   },
   {
    "duration": 22221,
    "start_time": "2023-07-13T06:12:39.439Z"
   },
   {
    "duration": 27,
    "start_time": "2023-07-13T06:13:01.663Z"
   },
   {
    "duration": 174,
    "start_time": "2023-07-13T06:13:01.692Z"
   },
   {
    "duration": 22054,
    "start_time": "2023-07-13T06:13:01.869Z"
   },
   {
    "duration": 18,
    "start_time": "2023-07-13T06:13:23.925Z"
   },
   {
    "duration": 97,
    "start_time": "2023-07-13T06:13:23.944Z"
   },
   {
    "duration": 44,
    "start_time": "2023-07-13T06:13:24.043Z"
   },
   {
    "duration": 24,
    "start_time": "2023-07-13T06:13:24.095Z"
   },
   {
    "duration": 25,
    "start_time": "2023-07-13T06:13:24.121Z"
   },
   {
    "duration": 76,
    "start_time": "2023-07-13T06:13:24.147Z"
   },
   {
    "duration": 128,
    "start_time": "2023-07-13T06:13:24.225Z"
   },
   {
    "duration": 62,
    "start_time": "2023-07-13T06:13:24.354Z"
   },
   {
    "duration": 402,
    "start_time": "2023-07-13T06:13:24.417Z"
   },
   {
    "duration": 488,
    "start_time": "2023-07-13T06:13:24.821Z"
   },
   {
    "duration": 309,
    "start_time": "2023-07-13T06:13:25.310Z"
   },
   {
    "duration": 497,
    "start_time": "2023-07-13T06:13:25.621Z"
   },
   {
    "duration": 319,
    "start_time": "2023-07-13T06:13:26.119Z"
   },
   {
    "duration": 526,
    "start_time": "2023-07-13T06:13:26.441Z"
   },
   {
    "duration": 282,
    "start_time": "2023-07-13T06:13:26.974Z"
   },
   {
    "duration": 91,
    "start_time": "2023-07-13T06:13:27.258Z"
   },
   {
    "duration": 45,
    "start_time": "2023-07-13T06:13:27.351Z"
   },
   {
    "duration": 35,
    "start_time": "2023-07-13T06:13:27.399Z"
   },
   {
    "duration": 87,
    "start_time": "2023-07-13T06:13:27.436Z"
   },
   {
    "duration": 15,
    "start_time": "2023-07-13T06:13:27.524Z"
   },
   {
    "duration": 7,
    "start_time": "2023-07-13T06:13:27.540Z"
   },
   {
    "duration": 20,
    "start_time": "2023-07-13T06:13:27.548Z"
   },
   {
    "duration": 65447,
    "start_time": "2023-07-13T06:13:27.570Z"
   },
   {
    "duration": 111,
    "start_time": "2023-07-13T06:14:33.019Z"
   },
   {
    "duration": 6738,
    "start_time": "2023-07-13T06:16:20.485Z"
   },
   {
    "duration": 51,
    "start_time": "2023-07-13T06:26:14.620Z"
   },
   {
    "duration": 2281,
    "start_time": "2023-07-13T06:26:22.892Z"
   },
   {
    "duration": 2070,
    "start_time": "2023-07-13T06:26:25.180Z"
   },
   {
    "duration": 1085,
    "start_time": "2023-07-13T06:26:27.252Z"
   },
   {
    "duration": 148,
    "start_time": "2023-07-13T06:26:28.339Z"
   },
   {
    "duration": 60,
    "start_time": "2023-07-13T06:26:28.489Z"
   },
   {
    "duration": 145,
    "start_time": "2023-07-13T06:26:28.551Z"
   },
   {
    "duration": 257,
    "start_time": "2023-07-13T06:26:28.697Z"
   },
   {
    "duration": 20194,
    "start_time": "2023-07-13T06:26:28.956Z"
   },
   {
    "duration": 23,
    "start_time": "2023-07-13T06:26:49.152Z"
   },
   {
    "duration": 80,
    "start_time": "2023-07-13T06:26:49.177Z"
   },
   {
    "duration": 20118,
    "start_time": "2023-07-13T06:26:49.259Z"
   },
   {
    "duration": 22,
    "start_time": "2023-07-13T06:27:09.378Z"
   },
   {
    "duration": 87,
    "start_time": "2023-07-13T06:27:09.401Z"
   },
   {
    "duration": 20890,
    "start_time": "2023-07-13T06:27:09.498Z"
   },
   {
    "duration": 19,
    "start_time": "2023-07-13T06:27:30.389Z"
   },
   {
    "duration": 99,
    "start_time": "2023-07-13T06:27:30.410Z"
   },
   {
    "duration": 36,
    "start_time": "2023-07-13T06:27:30.510Z"
   },
   {
    "duration": 40,
    "start_time": "2023-07-13T06:27:30.548Z"
   },
   {
    "duration": 65,
    "start_time": "2023-07-13T06:27:30.590Z"
   },
   {
    "duration": 120,
    "start_time": "2023-07-13T06:27:30.657Z"
   },
   {
    "duration": 118,
    "start_time": "2023-07-13T06:27:30.788Z"
   },
   {
    "duration": 81,
    "start_time": "2023-07-13T06:27:30.907Z"
   },
   {
    "duration": 397,
    "start_time": "2023-07-13T06:27:30.990Z"
   },
   {
    "duration": 432,
    "start_time": "2023-07-13T06:27:31.389Z"
   },
   {
    "duration": 268,
    "start_time": "2023-07-13T06:27:31.822Z"
   },
   {
    "duration": 434,
    "start_time": "2023-07-13T06:27:32.092Z"
   },
   {
    "duration": 265,
    "start_time": "2023-07-13T06:27:32.528Z"
   },
   {
    "duration": 423,
    "start_time": "2023-07-13T06:27:32.795Z"
   },
   {
    "duration": 222,
    "start_time": "2023-07-13T06:27:33.220Z"
   },
   {
    "duration": 69,
    "start_time": "2023-07-13T06:27:33.444Z"
   },
   {
    "duration": 28,
    "start_time": "2023-07-13T06:27:33.514Z"
   },
   {
    "duration": 54,
    "start_time": "2023-07-13T06:27:33.543Z"
   },
   {
    "duration": 66,
    "start_time": "2023-07-13T06:27:33.599Z"
   },
   {
    "duration": 33,
    "start_time": "2023-07-13T06:27:33.666Z"
   },
   {
    "duration": 18,
    "start_time": "2023-07-13T06:27:33.700Z"
   },
   {
    "duration": 22,
    "start_time": "2023-07-13T06:27:33.720Z"
   },
   {
    "duration": 61501,
    "start_time": "2023-07-13T06:27:33.744Z"
   },
   {
    "duration": 94,
    "start_time": "2023-07-13T06:28:35.247Z"
   },
   {
    "duration": 281829,
    "start_time": "2023-07-13T06:29:14.245Z"
   },
   {
    "duration": 2235,
    "start_time": "2023-07-13T06:42:17.689Z"
   },
   {
    "duration": 1825,
    "start_time": "2023-07-13T06:42:19.927Z"
   },
   {
    "duration": 1278,
    "start_time": "2023-07-13T06:42:21.754Z"
   },
   {
    "duration": 181,
    "start_time": "2023-07-13T06:42:23.034Z"
   },
   {
    "duration": 79,
    "start_time": "2023-07-13T06:42:23.217Z"
   },
   {
    "duration": 194,
    "start_time": "2023-07-13T06:42:23.299Z"
   },
   {
    "duration": 308,
    "start_time": "2023-07-13T06:42:23.495Z"
   },
   {
    "duration": 22555,
    "start_time": "2023-07-13T06:42:23.805Z"
   },
   {
    "duration": 25,
    "start_time": "2023-07-13T06:42:46.362Z"
   },
   {
    "duration": 80,
    "start_time": "2023-07-13T06:42:46.393Z"
   },
   {
    "duration": 21911,
    "start_time": "2023-07-13T06:42:46.475Z"
   },
   {
    "duration": 27,
    "start_time": "2023-07-13T06:43:08.388Z"
   },
   {
    "duration": 78,
    "start_time": "2023-07-13T06:43:08.416Z"
   },
   {
    "duration": 21418,
    "start_time": "2023-07-13T06:43:08.496Z"
   },
   {
    "duration": 17,
    "start_time": "2023-07-13T06:43:29.916Z"
   },
   {
    "duration": 88,
    "start_time": "2023-07-13T06:43:29.934Z"
   },
   {
    "duration": 40,
    "start_time": "2023-07-13T06:43:30.024Z"
   },
   {
    "duration": 49,
    "start_time": "2023-07-13T06:43:30.066Z"
   },
   {
    "duration": 45,
    "start_time": "2023-07-13T06:43:30.116Z"
   },
   {
    "duration": 90,
    "start_time": "2023-07-13T06:43:30.162Z"
   },
   {
    "duration": 129,
    "start_time": "2023-07-13T06:43:30.253Z"
   },
   {
    "duration": 45,
    "start_time": "2023-07-13T06:43:30.385Z"
   },
   {
    "duration": 389,
    "start_time": "2023-07-13T06:43:30.431Z"
   },
   {
    "duration": 443,
    "start_time": "2023-07-13T06:43:30.822Z"
   },
   {
    "duration": 265,
    "start_time": "2023-07-13T06:43:31.267Z"
   },
   {
    "duration": 457,
    "start_time": "2023-07-13T06:43:31.533Z"
   },
   {
    "duration": 251,
    "start_time": "2023-07-13T06:43:31.995Z"
   },
   {
    "duration": 461,
    "start_time": "2023-07-13T06:43:32.250Z"
   },
   {
    "duration": 212,
    "start_time": "2023-07-13T06:43:32.713Z"
   },
   {
    "duration": 79,
    "start_time": "2023-07-13T06:43:32.927Z"
   },
   {
    "duration": 36,
    "start_time": "2023-07-13T06:43:33.008Z"
   },
   {
    "duration": 58,
    "start_time": "2023-07-13T06:43:33.045Z"
   },
   {
    "duration": 81,
    "start_time": "2023-07-13T06:43:33.105Z"
   },
   {
    "duration": 17,
    "start_time": "2023-07-13T06:49:09.390Z"
   },
   {
    "duration": 110,
    "start_time": "2023-07-13T06:49:48.589Z"
   },
   {
    "duration": 75,
    "start_time": "2023-07-13T06:51:59.334Z"
   },
   {
    "duration": 9,
    "start_time": "2023-07-13T06:52:01.239Z"
   },
   {
    "duration": 10,
    "start_time": "2023-07-13T06:52:03.028Z"
   },
   {
    "duration": 13,
    "start_time": "2023-07-13T06:56:58.984Z"
   },
   {
    "duration": 7,
    "start_time": "2023-07-13T06:57:00.560Z"
   },
   {
    "duration": 11,
    "start_time": "2023-07-13T06:57:02.325Z"
   },
   {
    "duration": 58066,
    "start_time": "2023-07-13T06:57:03.784Z"
   },
   {
    "duration": 17,
    "start_time": "2023-07-13T06:58:26.979Z"
   },
   {
    "duration": 1572,
    "start_time": "2023-07-13T06:58:44.143Z"
   },
   {
    "duration": 106,
    "start_time": "2023-07-13T06:59:52.724Z"
   },
   {
    "duration": 11,
    "start_time": "2023-07-13T07:01:03.653Z"
   },
   {
    "duration": 48043,
    "start_time": "2023-07-13T07:01:35.434Z"
   },
   {
    "duration": 12,
    "start_time": "2023-07-13T07:04:48.134Z"
   },
   {
    "duration": 7,
    "start_time": "2023-07-13T07:04:55.843Z"
   },
   {
    "duration": 8,
    "start_time": "2023-07-13T07:05:14.968Z"
   },
   {
    "duration": 10,
    "start_time": "2023-07-13T07:06:14.383Z"
   },
   {
    "duration": 13,
    "start_time": "2023-07-13T07:07:01.330Z"
   },
   {
    "duration": 7,
    "start_time": "2023-07-13T07:07:04.492Z"
   },
   {
    "duration": 2311,
    "start_time": "2023-07-13T07:07:21.216Z"
   },
   {
    "duration": 2225,
    "start_time": "2023-07-13T07:07:23.529Z"
   },
   {
    "duration": 1161,
    "start_time": "2023-07-13T07:07:25.756Z"
   },
   {
    "duration": 134,
    "start_time": "2023-07-13T07:07:26.919Z"
   },
   {
    "duration": 68,
    "start_time": "2023-07-13T07:07:27.055Z"
   },
   {
    "duration": 134,
    "start_time": "2023-07-13T07:07:27.124Z"
   },
   {
    "duration": 272,
    "start_time": "2023-07-13T07:07:27.259Z"
   },
   {
    "duration": 19804,
    "start_time": "2023-07-13T07:07:27.533Z"
   },
   {
    "duration": 16,
    "start_time": "2023-07-13T07:07:47.339Z"
   },
   {
    "duration": 90,
    "start_time": "2023-07-13T07:07:47.357Z"
   },
   {
    "duration": 20723,
    "start_time": "2023-07-13T07:07:47.449Z"
   },
   {
    "duration": 16,
    "start_time": "2023-07-13T07:08:08.175Z"
   },
   {
    "duration": 66,
    "start_time": "2023-07-13T07:08:08.192Z"
   },
   {
    "duration": 19935,
    "start_time": "2023-07-13T07:08:08.261Z"
   },
   {
    "duration": 15,
    "start_time": "2023-07-13T07:08:28.197Z"
   },
   {
    "duration": 95,
    "start_time": "2023-07-13T07:08:28.214Z"
   },
   {
    "duration": 36,
    "start_time": "2023-07-13T07:08:28.311Z"
   },
   {
    "duration": 44,
    "start_time": "2023-07-13T07:08:28.348Z"
   },
   {
    "duration": 24,
    "start_time": "2023-07-13T07:08:28.393Z"
   },
   {
    "duration": 70,
    "start_time": "2023-07-13T07:08:28.418Z"
   },
   {
    "duration": 114,
    "start_time": "2023-07-13T07:08:28.490Z"
   },
   {
    "duration": 41,
    "start_time": "2023-07-13T07:08:28.606Z"
   },
   {
    "duration": 345,
    "start_time": "2023-07-13T07:08:28.648Z"
   },
   {
    "duration": 364,
    "start_time": "2023-07-13T07:08:28.995Z"
   },
   {
    "duration": 239,
    "start_time": "2023-07-13T07:08:29.361Z"
   },
   {
    "duration": 380,
    "start_time": "2023-07-13T07:08:29.601Z"
   },
   {
    "duration": 253,
    "start_time": "2023-07-13T07:08:29.983Z"
   },
   {
    "duration": 402,
    "start_time": "2023-07-13T07:08:30.237Z"
   },
   {
    "duration": 205,
    "start_time": "2023-07-13T07:08:30.641Z"
   },
   {
    "duration": 65,
    "start_time": "2023-07-13T07:08:30.848Z"
   },
   {
    "duration": 36,
    "start_time": "2023-07-13T07:08:30.914Z"
   },
   {
    "duration": 61,
    "start_time": "2023-07-13T07:08:30.951Z"
   },
   {
    "duration": 128,
    "start_time": "2023-07-13T07:08:31.014Z"
   },
   {
    "duration": 187,
    "start_time": "2023-07-13T07:08:31.143Z"
   },
   {
    "duration": 0,
    "start_time": "2023-07-13T07:08:31.332Z"
   },
   {
    "duration": 0,
    "start_time": "2023-07-13T07:08:31.333Z"
   },
   {
    "duration": 12,
    "start_time": "2023-07-13T07:09:11.883Z"
   },
   {
    "duration": 7,
    "start_time": "2023-07-13T07:09:14.886Z"
   },
   {
    "duration": 13,
    "start_time": "2023-07-13T07:09:17.811Z"
   },
   {
    "duration": 57628,
    "start_time": "2023-07-13T07:09:19.585Z"
   },
   {
    "duration": 9,
    "start_time": "2023-07-13T07:10:33.528Z"
   },
   {
    "duration": 77,
    "start_time": "2023-07-13T07:10:54.518Z"
   },
   {
    "duration": 59,
    "start_time": "2023-07-13T07:15:29.678Z"
   },
   {
    "duration": 12,
    "start_time": "2023-07-13T07:15:31.164Z"
   },
   {
    "duration": 7,
    "start_time": "2023-07-13T07:15:32.782Z"
   },
   {
    "duration": 10,
    "start_time": "2023-07-13T07:15:34.333Z"
   },
   {
    "duration": 44,
    "start_time": "2023-07-13T07:15:52.976Z"
   },
   {
    "duration": 2145,
    "start_time": "2023-07-13T07:16:03.505Z"
   },
   {
    "duration": 2105,
    "start_time": "2023-07-13T07:16:05.652Z"
   },
   {
    "duration": 987,
    "start_time": "2023-07-13T07:16:07.759Z"
   },
   {
    "duration": 128,
    "start_time": "2023-07-13T07:16:08.748Z"
   },
   {
    "duration": 60,
    "start_time": "2023-07-13T07:16:08.877Z"
   },
   {
    "duration": 136,
    "start_time": "2023-07-13T07:16:08.939Z"
   },
   {
    "duration": 250,
    "start_time": "2023-07-13T07:16:09.076Z"
   },
   {
    "duration": 19879,
    "start_time": "2023-07-13T07:16:09.328Z"
   },
   {
    "duration": 20,
    "start_time": "2023-07-13T07:16:29.208Z"
   },
   {
    "duration": 116,
    "start_time": "2023-07-13T07:16:29.230Z"
   },
   {
    "duration": 19244,
    "start_time": "2023-07-13T07:16:29.348Z"
   },
   {
    "duration": 17,
    "start_time": "2023-07-13T07:16:48.593Z"
   },
   {
    "duration": 84,
    "start_time": "2023-07-13T07:16:48.612Z"
   },
   {
    "duration": 19663,
    "start_time": "2023-07-13T07:16:48.698Z"
   },
   {
    "duration": 20,
    "start_time": "2023-07-13T07:17:08.362Z"
   },
   {
    "duration": 67,
    "start_time": "2023-07-13T07:17:08.384Z"
   },
   {
    "duration": 43,
    "start_time": "2023-07-13T07:17:08.453Z"
   },
   {
    "duration": 22,
    "start_time": "2023-07-13T07:17:08.498Z"
   },
   {
    "duration": 19,
    "start_time": "2023-07-13T07:17:08.522Z"
   },
   {
    "duration": 81,
    "start_time": "2023-07-13T07:17:08.542Z"
   },
   {
    "duration": 109,
    "start_time": "2023-07-13T07:17:08.625Z"
   },
   {
    "duration": 53,
    "start_time": "2023-07-13T07:17:08.735Z"
   },
   {
    "duration": 351,
    "start_time": "2023-07-13T07:17:08.790Z"
   },
   {
    "duration": 399,
    "start_time": "2023-07-13T07:17:09.144Z"
   },
   {
    "duration": 238,
    "start_time": "2023-07-13T07:17:09.544Z"
   },
   {
    "duration": 383,
    "start_time": "2023-07-13T07:17:09.784Z"
   },
   {
    "duration": 243,
    "start_time": "2023-07-13T07:17:10.168Z"
   },
   {
    "duration": 395,
    "start_time": "2023-07-13T07:17:10.413Z"
   },
   {
    "duration": 215,
    "start_time": "2023-07-13T07:17:10.809Z"
   },
   {
    "duration": 69,
    "start_time": "2023-07-13T07:17:11.025Z"
   },
   {
    "duration": 26,
    "start_time": "2023-07-13T07:17:11.095Z"
   },
   {
    "duration": 33,
    "start_time": "2023-07-13T07:17:11.122Z"
   },
   {
    "duration": 72,
    "start_time": "2023-07-13T07:17:11.157Z"
   },
   {
    "duration": 12,
    "start_time": "2023-07-13T07:17:11.230Z"
   },
   {
    "duration": 21,
    "start_time": "2023-07-13T07:17:11.244Z"
   },
   {
    "duration": 15,
    "start_time": "2023-07-13T07:17:11.267Z"
   },
   {
    "duration": 54997,
    "start_time": "2023-07-13T07:17:11.283Z"
   },
   {
    "duration": 80,
    "start_time": "2023-07-13T07:22:41.661Z"
   },
   {
    "duration": 12,
    "start_time": "2023-07-13T07:23:16.002Z"
   },
   {
    "duration": 7,
    "start_time": "2023-07-13T07:23:18.367Z"
   },
   {
    "duration": 8,
    "start_time": "2023-07-13T07:23:20.629Z"
   },
   {
    "duration": 49,
    "start_time": "2023-07-13T07:23:37.183Z"
   },
   {
    "duration": 2510,
    "start_time": "2023-07-13T07:23:47.601Z"
   },
   {
    "duration": 2121,
    "start_time": "2023-07-13T07:23:50.114Z"
   },
   {
    "duration": 1051,
    "start_time": "2023-07-13T07:23:52.236Z"
   },
   {
    "duration": 132,
    "start_time": "2023-07-13T07:23:53.288Z"
   },
   {
    "duration": 70,
    "start_time": "2023-07-13T07:23:53.422Z"
   },
   {
    "duration": 130,
    "start_time": "2023-07-13T07:23:53.493Z"
   },
   {
    "duration": 252,
    "start_time": "2023-07-13T07:23:53.625Z"
   },
   {
    "duration": 19760,
    "start_time": "2023-07-13T07:23:53.879Z"
   },
   {
    "duration": 17,
    "start_time": "2023-07-13T07:24:13.641Z"
   },
   {
    "duration": 71,
    "start_time": "2023-07-13T07:24:13.661Z"
   },
   {
    "duration": 20152,
    "start_time": "2023-07-13T07:24:13.734Z"
   },
   {
    "duration": 20,
    "start_time": "2023-07-13T07:24:33.888Z"
   },
   {
    "duration": 83,
    "start_time": "2023-07-13T07:24:33.909Z"
   },
   {
    "duration": 19288,
    "start_time": "2023-07-13T07:24:33.994Z"
   },
   {
    "duration": 15,
    "start_time": "2023-07-13T07:24:53.284Z"
   },
   {
    "duration": 79,
    "start_time": "2023-07-13T07:24:53.301Z"
   },
   {
    "duration": 33,
    "start_time": "2023-07-13T07:24:53.382Z"
   },
   {
    "duration": 20,
    "start_time": "2023-07-13T07:24:53.417Z"
   },
   {
    "duration": 39,
    "start_time": "2023-07-13T07:24:53.438Z"
   },
   {
    "duration": 88,
    "start_time": "2023-07-13T07:24:53.479Z"
   },
   {
    "duration": 106,
    "start_time": "2023-07-13T07:24:53.569Z"
   },
   {
    "duration": 44,
    "start_time": "2023-07-13T07:24:53.677Z"
   },
   {
    "duration": 363,
    "start_time": "2023-07-13T07:24:53.722Z"
   },
   {
    "duration": 391,
    "start_time": "2023-07-13T07:24:54.087Z"
   },
   {
    "duration": 241,
    "start_time": "2023-07-13T07:24:54.480Z"
   },
   {
    "duration": 389,
    "start_time": "2023-07-13T07:24:54.722Z"
   },
   {
    "duration": 234,
    "start_time": "2023-07-13T07:24:55.112Z"
   },
   {
    "duration": 398,
    "start_time": "2023-07-13T07:24:55.349Z"
   },
   {
    "duration": 220,
    "start_time": "2023-07-13T07:24:55.748Z"
   },
   {
    "duration": 67,
    "start_time": "2023-07-13T07:24:55.970Z"
   },
   {
    "duration": 39,
    "start_time": "2023-07-13T07:24:56.039Z"
   },
   {
    "duration": 28,
    "start_time": "2023-07-13T07:24:56.080Z"
   },
   {
    "duration": 73,
    "start_time": "2023-07-13T07:24:56.110Z"
   },
   {
    "duration": 11,
    "start_time": "2023-07-13T07:24:56.184Z"
   },
   {
    "duration": 12,
    "start_time": "2023-07-13T07:24:56.197Z"
   },
   {
    "duration": 24,
    "start_time": "2023-07-13T07:24:56.210Z"
   },
   {
    "duration": 66406,
    "start_time": "2023-07-13T07:24:59.227Z"
   },
   {
    "duration": 71,
    "start_time": "2023-07-13T08:46:29.079Z"
   },
   {
    "duration": 4,
    "start_time": "2023-07-13T08:46:35.662Z"
   },
   {
    "duration": 31333,
    "start_time": "2023-07-13T08:46:40.385Z"
   },
   {
    "duration": 34688,
    "start_time": "2023-07-13T08:47:40.937Z"
   },
   {
    "duration": 20,
    "start_time": "2023-07-13T08:49:06.684Z"
   },
   {
    "duration": 32228,
    "start_time": "2023-07-13T08:50:22.660Z"
   },
   {
    "duration": 5,
    "start_time": "2023-07-13T08:57:46.084Z"
   },
   {
    "duration": 7,
    "start_time": "2023-07-13T09:00:23.529Z"
   },
   {
    "duration": 9,
    "start_time": "2023-07-13T09:00:32.286Z"
   },
   {
    "duration": 14,
    "start_time": "2023-07-13T09:00:55.556Z"
   },
   {
    "duration": 12,
    "start_time": "2023-07-13T09:01:20.398Z"
   },
   {
    "duration": 11,
    "start_time": "2023-07-13T09:01:33.097Z"
   },
   {
    "duration": 8,
    "start_time": "2023-07-13T09:22:36.037Z"
   },
   {
    "duration": 17,
    "start_time": "2023-07-13T09:29:57.106Z"
   },
   {
    "duration": 17,
    "start_time": "2023-07-13T09:31:49.051Z"
   },
   {
    "duration": 505809,
    "start_time": "2023-07-13T09:34:19.006Z"
   },
   {
    "duration": 1821350,
    "start_time": "2023-07-13T09:44:02.662Z"
   },
   {
    "duration": 1489608,
    "start_time": "2023-07-13T10:14:29.355Z"
   },
   {
    "duration": 198,
    "start_time": "2023-07-13T10:43:01.656Z"
   },
   {
    "duration": 3644,
    "start_time": "2023-07-13T10:43:09.366Z"
   },
   {
    "duration": 41,
    "start_time": "2023-07-13T10:43:29.730Z"
   },
   {
    "duration": 6,
    "start_time": "2023-07-13T10:43:46.325Z"
   },
   {
    "duration": 13,
    "start_time": "2023-07-13T10:44:37.304Z"
   },
   {
    "duration": 2697,
    "start_time": "2023-07-13T11:40:42.245Z"
   },
   {
    "duration": 2572,
    "start_time": "2023-07-13T11:40:44.944Z"
   },
   {
    "duration": 3145,
    "start_time": "2023-07-13T11:40:47.518Z"
   },
   {
    "duration": 1561,
    "start_time": "2023-07-13T11:40:50.665Z"
   },
   {
    "duration": 164,
    "start_time": "2023-07-13T11:40:52.228Z"
   },
   {
    "duration": 112,
    "start_time": "2023-07-13T11:40:52.394Z"
   },
   {
    "duration": 216,
    "start_time": "2023-07-13T11:40:52.508Z"
   },
   {
    "duration": 341,
    "start_time": "2023-07-13T11:40:52.729Z"
   },
   {
    "duration": 24423,
    "start_time": "2023-07-13T11:40:53.071Z"
   },
   {
    "duration": 38,
    "start_time": "2023-07-13T11:41:17.497Z"
   },
   {
    "duration": 102,
    "start_time": "2023-07-13T11:41:17.540Z"
   },
   {
    "duration": 24509,
    "start_time": "2023-07-13T11:41:17.644Z"
   },
   {
    "duration": 21,
    "start_time": "2023-07-13T11:41:42.155Z"
   },
   {
    "duration": 130,
    "start_time": "2023-07-13T11:41:42.182Z"
   },
   {
    "duration": 24838,
    "start_time": "2023-07-13T11:41:42.313Z"
   },
   {
    "duration": 17,
    "start_time": "2023-07-13T11:42:07.153Z"
   },
   {
    "duration": 151,
    "start_time": "2023-07-13T11:42:07.171Z"
   },
   {
    "duration": 39,
    "start_time": "2023-07-13T11:42:07.324Z"
   },
   {
    "duration": 36,
    "start_time": "2023-07-13T11:42:07.365Z"
   },
   {
    "duration": 46,
    "start_time": "2023-07-13T11:42:07.404Z"
   },
   {
    "duration": 86,
    "start_time": "2023-07-13T11:42:07.452Z"
   },
   {
    "duration": 157,
    "start_time": "2023-07-13T11:42:07.540Z"
   },
   {
    "duration": 87,
    "start_time": "2023-07-13T11:42:07.699Z"
   },
   {
    "duration": 450,
    "start_time": "2023-07-13T11:42:07.788Z"
   },
   {
    "duration": 537,
    "start_time": "2023-07-13T11:42:08.240Z"
   },
   {
    "duration": 297,
    "start_time": "2023-07-13T11:42:08.779Z"
   },
   {
    "duration": 520,
    "start_time": "2023-07-13T11:42:09.084Z"
   },
   {
    "duration": 274,
    "start_time": "2023-07-13T11:42:09.612Z"
   },
   {
    "duration": 565,
    "start_time": "2023-07-13T11:42:09.889Z"
   },
   {
    "duration": 284,
    "start_time": "2023-07-13T11:42:10.456Z"
   },
   {
    "duration": 90,
    "start_time": "2023-07-13T11:42:10.742Z"
   },
   {
    "duration": 27,
    "start_time": "2023-07-13T11:42:10.834Z"
   },
   {
    "duration": 66,
    "start_time": "2023-07-13T11:42:10.863Z"
   },
   {
    "duration": 71,
    "start_time": "2023-07-13T11:42:10.932Z"
   },
   {
    "duration": 30,
    "start_time": "2023-07-13T11:42:11.005Z"
   },
   {
    "duration": 13,
    "start_time": "2023-07-13T11:42:11.037Z"
   },
   {
    "duration": 22,
    "start_time": "2023-07-13T11:42:11.052Z"
   },
   {
    "duration": 7776,
    "start_time": "2023-07-13T13:00:55.519Z"
   },
   {
    "duration": 2347,
    "start_time": "2023-07-13T13:01:03.297Z"
   },
   {
    "duration": 1553,
    "start_time": "2023-07-13T13:01:05.646Z"
   },
   {
    "duration": 3381,
    "start_time": "2023-07-13T13:01:07.201Z"
   },
   {
    "duration": 141,
    "start_time": "2023-07-13T13:01:10.584Z"
   },
   {
    "duration": 82,
    "start_time": "2023-07-13T13:01:10.727Z"
   },
   {
    "duration": 137,
    "start_time": "2023-07-13T13:01:10.811Z"
   },
   {
    "duration": 282,
    "start_time": "2023-07-13T13:01:10.955Z"
   },
   {
    "duration": 23360,
    "start_time": "2023-07-13T13:01:11.239Z"
   },
   {
    "duration": 19,
    "start_time": "2023-07-13T13:01:34.601Z"
   },
   {
    "duration": 74,
    "start_time": "2023-07-13T13:01:34.622Z"
   },
   {
    "duration": 23562,
    "start_time": "2023-07-13T13:01:34.699Z"
   },
   {
    "duration": 18,
    "start_time": "2023-07-13T13:01:58.263Z"
   },
   {
    "duration": 80,
    "start_time": "2023-07-13T13:01:58.284Z"
   },
   {
    "duration": 22996,
    "start_time": "2023-07-13T13:01:58.366Z"
   },
   {
    "duration": 18,
    "start_time": "2023-07-13T13:02:21.364Z"
   },
   {
    "duration": 97,
    "start_time": "2023-07-13T13:02:21.384Z"
   },
   {
    "duration": 37,
    "start_time": "2023-07-13T13:02:21.483Z"
   },
   {
    "duration": 39,
    "start_time": "2023-07-13T13:02:21.521Z"
   },
   {
    "duration": 28,
    "start_time": "2023-07-13T13:02:21.561Z"
   },
   {
    "duration": 78,
    "start_time": "2023-07-13T13:02:21.590Z"
   },
   {
    "duration": 137,
    "start_time": "2023-07-13T13:02:21.669Z"
   },
   {
    "duration": 57,
    "start_time": "2023-07-13T13:02:21.807Z"
   },
   {
    "duration": 412,
    "start_time": "2023-07-13T13:02:21.866Z"
   },
   {
    "duration": 454,
    "start_time": "2023-07-13T13:02:22.280Z"
   },
   {
    "duration": 372,
    "start_time": "2023-07-13T13:02:22.736Z"
   },
   {
    "duration": 363,
    "start_time": "2023-07-13T13:02:23.110Z"
   },
   {
    "duration": 268,
    "start_time": "2023-07-13T13:02:23.475Z"
   },
   {
    "duration": 469,
    "start_time": "2023-07-13T13:02:23.746Z"
   },
   {
    "duration": 237,
    "start_time": "2023-07-13T13:02:24.217Z"
   },
   {
    "duration": 71,
    "start_time": "2023-07-13T13:02:24.456Z"
   },
   {
    "duration": 42,
    "start_time": "2023-07-13T13:02:24.529Z"
   },
   {
    "duration": 34,
    "start_time": "2023-07-13T13:02:24.573Z"
   },
   {
    "duration": 81,
    "start_time": "2023-07-13T13:02:24.609Z"
   },
   {
    "duration": 13,
    "start_time": "2023-07-13T13:02:24.692Z"
   },
   {
    "duration": 7,
    "start_time": "2023-07-13T13:02:24.706Z"
   },
   {
    "duration": 12,
    "start_time": "2023-07-13T13:02:24.714Z"
   },
   {
    "duration": 62193,
    "start_time": "2023-07-13T13:02:24.729Z"
   },
   {
    "duration": 26531,
    "start_time": "2023-07-13T13:03:26.924Z"
   },
   {
    "duration": 13,
    "start_time": "2023-07-13T13:10:18.136Z"
   },
   {
    "duration": 117,
    "start_time": "2023-07-13T13:27:58.942Z"
   },
   {
    "duration": 2359,
    "start_time": "2023-07-13T13:29:49.443Z"
   },
   {
    "duration": 2347,
    "start_time": "2023-07-13T13:29:51.804Z"
   },
   {
    "duration": 2108,
    "start_time": "2023-07-13T13:29:54.153Z"
   },
   {
    "duration": 3172,
    "start_time": "2023-07-13T13:29:56.263Z"
   },
   {
    "duration": 134,
    "start_time": "2023-07-13T13:29:59.436Z"
   },
   {
    "duration": 85,
    "start_time": "2023-07-13T13:29:59.572Z"
   },
   {
    "duration": 140,
    "start_time": "2023-07-13T13:29:59.659Z"
   },
   {
    "duration": 287,
    "start_time": "2023-07-13T13:29:59.801Z"
   },
   {
    "duration": 23379,
    "start_time": "2023-07-13T13:30:00.090Z"
   },
   {
    "duration": 20,
    "start_time": "2023-07-13T13:30:23.472Z"
   },
   {
    "duration": 81,
    "start_time": "2023-07-13T13:30:23.494Z"
   },
   {
    "duration": 23645,
    "start_time": "2023-07-13T13:30:23.577Z"
   },
   {
    "duration": 19,
    "start_time": "2023-07-13T13:30:47.224Z"
   },
   {
    "duration": 108,
    "start_time": "2023-07-13T13:30:47.245Z"
   },
   {
    "duration": 23124,
    "start_time": "2023-07-13T13:30:47.355Z"
   },
   {
    "duration": 18,
    "start_time": "2023-07-13T13:31:10.481Z"
   },
   {
    "duration": 88,
    "start_time": "2023-07-13T13:31:10.500Z"
   },
   {
    "duration": 40,
    "start_time": "2023-07-13T13:31:10.590Z"
   },
   {
    "duration": 33,
    "start_time": "2023-07-13T13:31:10.632Z"
   },
   {
    "duration": 23,
    "start_time": "2023-07-13T13:31:10.667Z"
   },
   {
    "duration": 87,
    "start_time": "2023-07-13T13:31:10.692Z"
   },
   {
    "duration": 139,
    "start_time": "2023-07-13T13:31:10.781Z"
   },
   {
    "duration": 56,
    "start_time": "2023-07-13T13:31:10.922Z"
   },
   {
    "duration": 436,
    "start_time": "2023-07-13T13:31:10.980Z"
   },
   {
    "duration": 458,
    "start_time": "2023-07-13T13:31:11.418Z"
   },
   {
    "duration": 317,
    "start_time": "2023-07-13T13:31:11.878Z"
   },
   {
    "duration": 458,
    "start_time": "2023-07-13T13:31:12.196Z"
   },
   {
    "duration": 278,
    "start_time": "2023-07-13T13:31:12.658Z"
   },
   {
    "duration": 479,
    "start_time": "2023-07-13T13:31:12.938Z"
   },
   {
    "duration": 224,
    "start_time": "2023-07-13T13:31:13.418Z"
   },
   {
    "duration": 72,
    "start_time": "2023-07-13T13:31:13.645Z"
   },
   {
    "duration": 43,
    "start_time": "2023-07-13T13:31:13.719Z"
   },
   {
    "duration": 33,
    "start_time": "2023-07-13T13:31:13.764Z"
   },
   {
    "duration": 73,
    "start_time": "2023-07-13T13:31:13.800Z"
   },
   {
    "duration": 13,
    "start_time": "2023-07-13T13:31:13.875Z"
   },
   {
    "duration": 11,
    "start_time": "2023-07-13T13:31:13.890Z"
   },
   {
    "duration": 13,
    "start_time": "2023-07-13T13:31:13.903Z"
   },
   {
    "duration": 61723,
    "start_time": "2023-07-13T13:31:13.917Z"
   },
   {
    "duration": 31515,
    "start_time": "2023-07-13T13:32:15.642Z"
   },
   {
    "duration": 10627,
    "start_time": "2023-07-13T14:51:32.176Z"
   },
   {
    "duration": 2515,
    "start_time": "2023-07-13T14:51:42.806Z"
   },
   {
    "duration": 2042,
    "start_time": "2023-07-13T14:51:45.324Z"
   },
   {
    "duration": 1959,
    "start_time": "2023-07-13T14:51:47.369Z"
   },
   {
    "duration": 316,
    "start_time": "2023-07-13T14:51:49.336Z"
   },
   {
    "duration": 103,
    "start_time": "2023-07-13T14:51:49.655Z"
   },
   {
    "duration": 304,
    "start_time": "2023-07-13T14:51:49.761Z"
   },
   {
    "duration": 404,
    "start_time": "2023-07-13T14:51:50.068Z"
   },
   {
    "duration": 30780,
    "start_time": "2023-07-13T14:51:50.473Z"
   },
   {
    "duration": 40,
    "start_time": "2023-07-13T14:52:21.255Z"
   },
   {
    "duration": 101,
    "start_time": "2023-07-13T14:52:21.297Z"
   },
   {
    "duration": 26486,
    "start_time": "2023-07-13T14:52:21.400Z"
   },
   {
    "duration": 24,
    "start_time": "2023-07-13T14:52:47.888Z"
   },
   {
    "duration": 93,
    "start_time": "2023-07-13T14:52:47.917Z"
   },
   {
    "duration": 26305,
    "start_time": "2023-07-13T14:52:48.012Z"
   },
   {
    "duration": 37,
    "start_time": "2023-07-13T14:53:14.319Z"
   },
   {
    "duration": 151,
    "start_time": "2023-07-13T14:53:14.359Z"
   },
   {
    "duration": 64,
    "start_time": "2023-07-13T14:53:14.512Z"
   },
   {
    "duration": 41,
    "start_time": "2023-07-13T14:53:14.578Z"
   },
   {
    "duration": 50,
    "start_time": "2023-07-13T14:53:14.622Z"
   },
   {
    "duration": 123,
    "start_time": "2023-07-13T14:53:14.674Z"
   },
   {
    "duration": 211,
    "start_time": "2023-07-13T14:53:14.799Z"
   },
   {
    "duration": 92,
    "start_time": "2023-07-13T14:53:15.012Z"
   },
   {
    "duration": 549,
    "start_time": "2023-07-13T14:53:15.106Z"
   },
   {
    "duration": 577,
    "start_time": "2023-07-13T14:53:15.657Z"
   },
   {
    "duration": 461,
    "start_time": "2023-07-13T14:53:16.237Z"
   },
   {
    "duration": 480,
    "start_time": "2023-07-13T14:53:16.699Z"
   },
   {
    "duration": 353,
    "start_time": "2023-07-13T14:53:17.181Z"
   },
   {
    "duration": 563,
    "start_time": "2023-07-13T14:53:17.536Z"
   },
   {
    "duration": 344,
    "start_time": "2023-07-13T14:53:18.101Z"
   },
   {
    "duration": 124,
    "start_time": "2023-07-13T14:53:18.447Z"
   },
   {
    "duration": 38,
    "start_time": "2023-07-13T14:53:18.572Z"
   },
   {
    "duration": 51,
    "start_time": "2023-07-13T14:53:18.612Z"
   },
   {
    "duration": 113,
    "start_time": "2023-07-13T14:53:18.666Z"
   },
   {
    "duration": 18,
    "start_time": "2023-07-13T14:53:18.782Z"
   },
   {
    "duration": 22,
    "start_time": "2023-07-13T14:53:18.803Z"
   },
   {
    "duration": 72,
    "start_time": "2023-07-13T14:53:18.827Z"
   },
   {
    "duration": 71079,
    "start_time": "2023-07-13T14:53:18.902Z"
   },
   {
    "duration": 37084,
    "start_time": "2023-07-13T14:54:29.983Z"
   },
   {
    "duration": 7116,
    "start_time": "2023-07-14T06:02:22.627Z"
   },
   {
    "duration": 2034,
    "start_time": "2023-07-14T06:02:29.745Z"
   },
   {
    "duration": 1457,
    "start_time": "2023-07-14T06:02:31.781Z"
   },
   {
    "duration": 954,
    "start_time": "2023-07-14T06:02:33.240Z"
   },
   {
    "duration": 106,
    "start_time": "2023-07-14T06:02:34.196Z"
   },
   {
    "duration": 58,
    "start_time": "2023-07-14T06:02:34.304Z"
   },
   {
    "duration": 111,
    "start_time": "2023-07-14T06:02:34.363Z"
   },
   {
    "duration": 244,
    "start_time": "2023-07-14T06:02:34.475Z"
   },
   {
    "duration": 21910,
    "start_time": "2023-07-14T06:02:34.721Z"
   },
   {
    "duration": 14,
    "start_time": "2023-07-14T06:02:56.633Z"
   },
   {
    "duration": 58,
    "start_time": "2023-07-14T06:02:56.648Z"
   },
   {
    "duration": 21805,
    "start_time": "2023-07-14T06:02:56.708Z"
   },
   {
    "duration": 15,
    "start_time": "2023-07-14T06:03:18.514Z"
   },
   {
    "duration": 72,
    "start_time": "2023-07-14T06:03:18.532Z"
   },
   {
    "duration": 21306,
    "start_time": "2023-07-14T06:03:18.606Z"
   },
   {
    "duration": 15,
    "start_time": "2023-07-14T06:03:39.913Z"
   },
   {
    "duration": 80,
    "start_time": "2023-07-14T06:03:39.930Z"
   },
   {
    "duration": 31,
    "start_time": "2023-07-14T06:03:40.012Z"
   },
   {
    "duration": 20,
    "start_time": "2023-07-14T06:03:40.044Z"
   },
   {
    "duration": 33,
    "start_time": "2023-07-14T06:03:40.066Z"
   },
   {
    "duration": 63,
    "start_time": "2023-07-14T06:03:40.101Z"
   },
   {
    "duration": 101,
    "start_time": "2023-07-14T06:03:40.166Z"
   },
   {
    "duration": 46,
    "start_time": "2023-07-14T06:03:40.268Z"
   },
   {
    "duration": 331,
    "start_time": "2023-07-14T06:03:40.315Z"
   },
   {
    "duration": 357,
    "start_time": "2023-07-14T06:03:40.647Z"
   },
   {
    "duration": 294,
    "start_time": "2023-07-14T06:03:41.006Z"
   },
   {
    "duration": 319,
    "start_time": "2023-07-14T06:03:41.302Z"
   },
   {
    "duration": 224,
    "start_time": "2023-07-14T06:03:41.622Z"
   },
   {
    "duration": 398,
    "start_time": "2023-07-14T06:03:41.848Z"
   },
   {
    "duration": 210,
    "start_time": "2023-07-14T06:03:42.248Z"
   },
   {
    "duration": 81,
    "start_time": "2023-07-14T06:03:42.459Z"
   },
   {
    "duration": 27,
    "start_time": "2023-07-14T06:03:42.542Z"
   },
   {
    "duration": 49,
    "start_time": "2023-07-14T06:03:42.570Z"
   },
   {
    "duration": 46,
    "start_time": "2023-07-14T06:03:42.621Z"
   },
   {
    "duration": 12,
    "start_time": "2023-07-14T06:03:42.668Z"
   },
   {
    "duration": 7,
    "start_time": "2023-07-14T06:03:42.699Z"
   },
   {
    "duration": 30,
    "start_time": "2023-07-14T06:03:42.707Z"
   },
   {
    "duration": 43521,
    "start_time": "2023-07-14T06:03:42.738Z"
   },
   {
    "duration": 19440,
    "start_time": "2023-07-14T06:04:26.261Z"
   },
   {
    "duration": 11,
    "start_time": "2023-07-14T06:05:03.119Z"
   },
   {
    "duration": 46,
    "start_time": "2023-07-14T06:06:11.371Z"
   },
   {
    "duration": 2362,
    "start_time": "2023-07-14T06:06:18.566Z"
   },
   {
    "duration": 2090,
    "start_time": "2023-07-14T06:06:20.931Z"
   },
   {
    "duration": 2041,
    "start_time": "2023-07-14T06:06:23.023Z"
   },
   {
    "duration": 1011,
    "start_time": "2023-07-14T06:06:25.065Z"
   },
   {
    "duration": 111,
    "start_time": "2023-07-14T06:06:26.079Z"
   },
   {
    "duration": 60,
    "start_time": "2023-07-14T06:06:26.191Z"
   },
   {
    "duration": 112,
    "start_time": "2023-07-14T06:06:26.253Z"
   },
   {
    "duration": 240,
    "start_time": "2023-07-14T06:06:26.366Z"
   },
   {
    "duration": 3350,
    "start_time": "2023-07-14T06:06:26.608Z"
   },
   {
    "duration": 0,
    "start_time": "2023-07-14T06:06:29.961Z"
   },
   {
    "duration": 0,
    "start_time": "2023-07-14T06:06:29.962Z"
   },
   {
    "duration": 0,
    "start_time": "2023-07-14T06:06:29.964Z"
   },
   {
    "duration": 0,
    "start_time": "2023-07-14T06:06:29.965Z"
   },
   {
    "duration": 0,
    "start_time": "2023-07-14T06:06:29.966Z"
   },
   {
    "duration": 0,
    "start_time": "2023-07-14T06:06:29.968Z"
   },
   {
    "duration": 0,
    "start_time": "2023-07-14T06:06:29.969Z"
   },
   {
    "duration": 0,
    "start_time": "2023-07-14T06:06:29.970Z"
   },
   {
    "duration": 0,
    "start_time": "2023-07-14T06:06:29.972Z"
   },
   {
    "duration": 0,
    "start_time": "2023-07-14T06:06:29.973Z"
   },
   {
    "duration": 0,
    "start_time": "2023-07-14T06:06:29.974Z"
   },
   {
    "duration": 0,
    "start_time": "2023-07-14T06:06:29.975Z"
   },
   {
    "duration": 0,
    "start_time": "2023-07-14T06:06:29.976Z"
   },
   {
    "duration": 0,
    "start_time": "2023-07-14T06:06:29.978Z"
   },
   {
    "duration": 0,
    "start_time": "2023-07-14T06:06:29.979Z"
   },
   {
    "duration": 0,
    "start_time": "2023-07-14T06:06:29.981Z"
   },
   {
    "duration": 0,
    "start_time": "2023-07-14T06:06:29.982Z"
   },
   {
    "duration": 0,
    "start_time": "2023-07-14T06:06:29.984Z"
   },
   {
    "duration": 0,
    "start_time": "2023-07-14T06:06:29.985Z"
   },
   {
    "duration": 0,
    "start_time": "2023-07-14T06:06:29.986Z"
   },
   {
    "duration": 0,
    "start_time": "2023-07-14T06:06:29.987Z"
   },
   {
    "duration": 0,
    "start_time": "2023-07-14T06:06:29.989Z"
   },
   {
    "duration": 0,
    "start_time": "2023-07-14T06:06:29.990Z"
   },
   {
    "duration": 0,
    "start_time": "2023-07-14T06:06:29.991Z"
   },
   {
    "duration": 0,
    "start_time": "2023-07-14T06:06:29.992Z"
   },
   {
    "duration": 0,
    "start_time": "2023-07-14T06:06:29.993Z"
   },
   {
    "duration": 0,
    "start_time": "2023-07-14T06:06:29.995Z"
   },
   {
    "duration": 0,
    "start_time": "2023-07-14T06:06:29.996Z"
   },
   {
    "duration": 0,
    "start_time": "2023-07-14T06:06:29.997Z"
   },
   {
    "duration": 0,
    "start_time": "2023-07-14T06:06:29.999Z"
   },
   {
    "duration": 1,
    "start_time": "2023-07-14T06:06:30.000Z"
   },
   {
    "duration": 0,
    "start_time": "2023-07-14T06:06:30.002Z"
   },
   {
    "duration": 2249,
    "start_time": "2023-07-14T06:06:33.227Z"
   },
   {
    "duration": 2125,
    "start_time": "2023-07-14T06:06:35.478Z"
   },
   {
    "duration": 4,
    "start_time": "2023-07-14T06:06:37.606Z"
   },
   {
    "duration": 774,
    "start_time": "2023-07-14T06:06:37.612Z"
   },
   {
    "duration": 122,
    "start_time": "2023-07-14T06:06:38.389Z"
   },
   {
    "duration": 61,
    "start_time": "2023-07-14T06:06:38.513Z"
   },
   {
    "duration": 115,
    "start_time": "2023-07-14T06:06:38.576Z"
   },
   {
    "duration": 224,
    "start_time": "2023-07-14T06:06:38.693Z"
   },
   {
    "duration": 22385,
    "start_time": "2023-07-14T06:06:38.919Z"
   },
   {
    "duration": 14,
    "start_time": "2023-07-14T06:07:01.306Z"
   },
   {
    "duration": 101,
    "start_time": "2023-07-14T06:07:01.322Z"
   },
   {
    "duration": 21955,
    "start_time": "2023-07-14T06:07:01.424Z"
   },
   {
    "duration": 19,
    "start_time": "2023-07-14T06:07:23.381Z"
   },
   {
    "duration": 80,
    "start_time": "2023-07-14T06:07:23.404Z"
   },
   {
    "duration": 22148,
    "start_time": "2023-07-14T06:07:23.486Z"
   },
   {
    "duration": 14,
    "start_time": "2023-07-14T06:07:45.636Z"
   },
   {
    "duration": 87,
    "start_time": "2023-07-14T06:07:45.652Z"
   },
   {
    "duration": 35,
    "start_time": "2023-07-14T06:07:45.741Z"
   },
   {
    "duration": 29,
    "start_time": "2023-07-14T06:07:45.778Z"
   },
   {
    "duration": 27,
    "start_time": "2023-07-14T06:07:45.809Z"
   },
   {
    "duration": 72,
    "start_time": "2023-07-14T06:07:45.837Z"
   },
   {
    "duration": 121,
    "start_time": "2023-07-14T06:07:45.911Z"
   },
   {
    "duration": 66,
    "start_time": "2023-07-14T06:07:46.034Z"
   },
   {
    "duration": 367,
    "start_time": "2023-07-14T06:07:46.102Z"
   },
   {
    "duration": 397,
    "start_time": "2023-07-14T06:07:46.471Z"
   },
   {
    "duration": 320,
    "start_time": "2023-07-14T06:07:46.870Z"
   },
   {
    "duration": 347,
    "start_time": "2023-07-14T06:07:47.191Z"
   },
   {
    "duration": 236,
    "start_time": "2023-07-14T06:07:47.540Z"
   },
   {
    "duration": 419,
    "start_time": "2023-07-14T06:07:47.778Z"
   },
   {
    "duration": 192,
    "start_time": "2023-07-14T06:07:48.199Z"
   },
   {
    "duration": 78,
    "start_time": "2023-07-14T06:07:48.393Z"
   },
   {
    "duration": 37,
    "start_time": "2023-07-14T06:07:48.473Z"
   },
   {
    "duration": 32,
    "start_time": "2023-07-14T06:07:48.512Z"
   },
   {
    "duration": 56,
    "start_time": "2023-07-14T06:07:48.546Z"
   },
   {
    "duration": 12,
    "start_time": "2023-07-14T06:07:48.604Z"
   },
   {
    "duration": 6,
    "start_time": "2023-07-14T06:07:48.617Z"
   },
   {
    "duration": 9,
    "start_time": "2023-07-14T06:07:48.625Z"
   },
   {
    "duration": 57,
    "start_time": "2023-07-14T06:08:42.145Z"
   },
   {
    "duration": 1947,
    "start_time": "2023-07-14T06:09:48.811Z"
   },
   {
    "duration": 1988,
    "start_time": "2023-07-14T06:09:50.760Z"
   },
   {
    "duration": 1688,
    "start_time": "2023-07-14T06:09:52.750Z"
   },
   {
    "duration": 980,
    "start_time": "2023-07-14T06:09:54.439Z"
   },
   {
    "duration": 125,
    "start_time": "2023-07-14T06:09:55.422Z"
   },
   {
    "duration": 62,
    "start_time": "2023-07-14T06:09:55.549Z"
   },
   {
    "duration": 109,
    "start_time": "2023-07-14T06:09:55.613Z"
   },
   {
    "duration": 279,
    "start_time": "2023-07-14T06:09:55.723Z"
   },
   {
    "duration": 21790,
    "start_time": "2023-07-14T06:09:56.004Z"
   },
   {
    "duration": 15,
    "start_time": "2023-07-14T06:10:17.795Z"
   },
   {
    "duration": 69,
    "start_time": "2023-07-14T06:10:17.812Z"
   },
   {
    "duration": 21894,
    "start_time": "2023-07-14T06:10:17.883Z"
   },
   {
    "duration": 14,
    "start_time": "2023-07-14T06:10:39.779Z"
   },
   {
    "duration": 61,
    "start_time": "2023-07-14T06:10:39.800Z"
   },
   {
    "duration": 22247,
    "start_time": "2023-07-14T06:10:39.863Z"
   },
   {
    "duration": 13,
    "start_time": "2023-07-14T06:11:02.112Z"
   },
   {
    "duration": 107,
    "start_time": "2023-07-14T06:11:02.127Z"
   },
   {
    "duration": 33,
    "start_time": "2023-07-14T06:11:02.236Z"
   },
   {
    "duration": 31,
    "start_time": "2023-07-14T06:11:02.271Z"
   },
   {
    "duration": 28,
    "start_time": "2023-07-14T06:11:02.303Z"
   },
   {
    "duration": 77,
    "start_time": "2023-07-14T06:11:02.332Z"
   },
   {
    "duration": 102,
    "start_time": "2023-07-14T06:11:02.411Z"
   },
   {
    "duration": 61,
    "start_time": "2023-07-14T06:11:02.514Z"
   },
   {
    "duration": 374,
    "start_time": "2023-07-14T06:11:02.576Z"
   },
   {
    "duration": 369,
    "start_time": "2023-07-14T06:11:02.952Z"
   },
   {
    "duration": 230,
    "start_time": "2023-07-14T06:11:03.322Z"
   },
   {
    "duration": 391,
    "start_time": "2023-07-14T06:11:03.554Z"
   },
   {
    "duration": 220,
    "start_time": "2023-07-14T06:11:03.947Z"
   },
   {
    "duration": 374,
    "start_time": "2023-07-14T06:11:04.168Z"
   },
   {
    "duration": 205,
    "start_time": "2023-07-14T06:11:04.544Z"
   },
   {
    "duration": 85,
    "start_time": "2023-07-14T06:11:04.751Z"
   },
   {
    "duration": 30,
    "start_time": "2023-07-14T06:11:04.838Z"
   },
   {
    "duration": 49,
    "start_time": "2023-07-14T06:11:04.869Z"
   },
   {
    "duration": 53,
    "start_time": "2023-07-14T06:11:04.919Z"
   },
   {
    "duration": 14,
    "start_time": "2023-07-14T06:11:04.973Z"
   },
   {
    "duration": 55,
    "start_time": "2023-07-14T06:11:04.999Z"
   },
   {
    "duration": 73,
    "start_time": "2023-07-14T06:11:05.055Z"
   },
   {
    "duration": 46037,
    "start_time": "2023-07-14T06:11:05.129Z"
   },
   {
    "duration": 7136,
    "start_time": "2023-07-14T09:10:22.716Z"
   },
   {
    "duration": 2324,
    "start_time": "2023-07-14T09:10:29.854Z"
   },
   {
    "duration": 1626,
    "start_time": "2023-07-14T09:10:32.180Z"
   },
   {
    "duration": 2909,
    "start_time": "2023-07-14T09:10:33.808Z"
   },
   {
    "duration": 121,
    "start_time": "2023-07-14T09:10:36.719Z"
   },
   {
    "duration": 75,
    "start_time": "2023-07-14T09:10:36.841Z"
   },
   {
    "duration": 123,
    "start_time": "2023-07-14T09:10:36.918Z"
   },
   {
    "duration": 266,
    "start_time": "2023-07-14T09:10:37.042Z"
   },
   {
    "duration": 24448,
    "start_time": "2023-07-14T09:10:37.310Z"
   },
   {
    "duration": 30,
    "start_time": "2023-07-14T09:11:01.761Z"
   },
   {
    "duration": 166,
    "start_time": "2023-07-14T09:11:01.793Z"
   },
   {
    "duration": 22796,
    "start_time": "2023-07-14T09:11:01.962Z"
   },
   {
    "duration": 22,
    "start_time": "2023-07-14T09:11:24.760Z"
   },
   {
    "duration": 116,
    "start_time": "2023-07-14T09:11:24.786Z"
   },
   {
    "duration": 23490,
    "start_time": "2023-07-14T09:11:24.904Z"
   },
   {
    "duration": 16,
    "start_time": "2023-07-14T09:11:48.397Z"
   },
   {
    "duration": 87,
    "start_time": "2023-07-14T09:11:48.414Z"
   },
   {
    "duration": 37,
    "start_time": "2023-07-14T09:11:48.503Z"
   },
   {
    "duration": 39,
    "start_time": "2023-07-14T09:11:48.542Z"
   },
   {
    "duration": 20,
    "start_time": "2023-07-14T09:11:48.583Z"
   },
   {
    "duration": 93,
    "start_time": "2023-07-14T09:11:48.605Z"
   },
   {
    "duration": 107,
    "start_time": "2023-07-14T09:11:48.700Z"
   },
   {
    "duration": 59,
    "start_time": "2023-07-14T09:11:48.809Z"
   },
   {
    "duration": 529,
    "start_time": "2023-07-14T09:11:48.870Z"
   },
   {
    "duration": 512,
    "start_time": "2023-07-14T09:11:49.401Z"
   },
   {
    "duration": 315,
    "start_time": "2023-07-14T09:11:49.915Z"
   },
   {
    "duration": 435,
    "start_time": "2023-07-14T09:11:50.232Z"
   },
   {
    "duration": 343,
    "start_time": "2023-07-14T09:11:50.669Z"
   },
   {
    "duration": 450,
    "start_time": "2023-07-14T09:11:51.014Z"
   },
   {
    "duration": 242,
    "start_time": "2023-07-14T09:11:51.466Z"
   },
   {
    "duration": 98,
    "start_time": "2023-07-14T09:11:51.711Z"
   },
   {
    "duration": 39,
    "start_time": "2023-07-14T09:11:51.811Z"
   },
   {
    "duration": 55,
    "start_time": "2023-07-14T09:11:51.852Z"
   },
   {
    "duration": 97,
    "start_time": "2023-07-14T09:11:51.909Z"
   },
   {
    "duration": 18,
    "start_time": "2023-07-14T09:11:52.008Z"
   },
   {
    "duration": 23,
    "start_time": "2023-07-14T09:11:52.028Z"
   },
   {
    "duration": 33,
    "start_time": "2023-07-14T09:11:52.067Z"
   },
   {
    "duration": 80488,
    "start_time": "2023-07-14T09:11:52.102Z"
   },
   {
    "duration": 28975,
    "start_time": "2023-07-14T09:13:12.592Z"
   },
   {
    "duration": 7119,
    "start_time": "2023-07-14T10:52:10.144Z"
   },
   {
    "duration": 2197,
    "start_time": "2023-07-14T10:52:17.266Z"
   },
   {
    "duration": 1475,
    "start_time": "2023-07-14T10:52:19.467Z"
   },
   {
    "duration": 2987,
    "start_time": "2023-07-14T10:52:20.944Z"
   },
   {
    "duration": 148,
    "start_time": "2023-07-14T10:52:23.934Z"
   },
   {
    "duration": 116,
    "start_time": "2023-07-14T10:52:24.084Z"
   },
   {
    "duration": 190,
    "start_time": "2023-07-14T10:52:24.201Z"
   },
   {
    "duration": 276,
    "start_time": "2023-07-14T10:52:24.392Z"
   },
   {
    "duration": 21386,
    "start_time": "2023-07-14T10:52:24.670Z"
   },
   {
    "duration": 31,
    "start_time": "2023-07-14T10:52:46.059Z"
   },
   {
    "duration": 568,
    "start_time": "2023-07-14T10:52:46.091Z"
   },
   {
    "duration": 21619,
    "start_time": "2023-07-14T10:52:46.661Z"
   },
   {
    "duration": 14,
    "start_time": "2023-07-14T10:53:08.282Z"
   },
   {
    "duration": 94,
    "start_time": "2023-07-14T10:53:08.299Z"
   },
   {
    "duration": 20329,
    "start_time": "2023-07-14T10:53:08.396Z"
   },
   {
    "duration": 14,
    "start_time": "2023-07-14T10:53:28.726Z"
   },
   {
    "duration": 85,
    "start_time": "2023-07-14T10:53:28.741Z"
   },
   {
    "duration": 42,
    "start_time": "2023-07-14T10:53:28.828Z"
   },
   {
    "duration": 26,
    "start_time": "2023-07-14T10:53:28.872Z"
   },
   {
    "duration": 21,
    "start_time": "2023-07-14T10:53:28.900Z"
   },
   {
    "duration": 105,
    "start_time": "2023-07-14T10:53:28.923Z"
   },
   {
    "duration": 101,
    "start_time": "2023-07-14T10:53:29.030Z"
   },
   {
    "duration": 56,
    "start_time": "2023-07-14T10:53:29.133Z"
   },
   {
    "duration": 398,
    "start_time": "2023-07-14T10:53:29.190Z"
   },
   {
    "duration": 428,
    "start_time": "2023-07-14T10:53:29.590Z"
   },
   {
    "duration": 319,
    "start_time": "2023-07-14T10:53:30.019Z"
   },
   {
    "duration": 422,
    "start_time": "2023-07-14T10:53:30.340Z"
   },
   {
    "duration": 270,
    "start_time": "2023-07-14T10:53:30.764Z"
   },
   {
    "duration": 415,
    "start_time": "2023-07-14T10:53:31.036Z"
   },
   {
    "duration": 231,
    "start_time": "2023-07-14T10:53:31.453Z"
   },
   {
    "duration": 81,
    "start_time": "2023-07-14T10:53:31.687Z"
   },
   {
    "duration": 30,
    "start_time": "2023-07-14T10:53:31.769Z"
   },
   {
    "duration": 30,
    "start_time": "2023-07-14T10:53:31.801Z"
   },
   {
    "duration": 87,
    "start_time": "2023-07-14T10:53:31.833Z"
   },
   {
    "duration": 13,
    "start_time": "2023-07-14T10:53:31.921Z"
   },
   {
    "duration": 27,
    "start_time": "2023-07-14T10:53:31.936Z"
   },
   {
    "duration": 23,
    "start_time": "2023-07-14T10:53:31.965Z"
   },
   {
    "duration": 2058,
    "start_time": "2023-07-14T12:01:56.576Z"
   },
   {
    "duration": 2077,
    "start_time": "2023-07-14T12:01:58.636Z"
   },
   {
    "duration": 2524,
    "start_time": "2023-07-14T12:02:00.715Z"
   },
   {
    "duration": 9,
    "start_time": "2023-07-14T12:02:03.242Z"
   },
   {
    "duration": 4318,
    "start_time": "2023-07-14T12:02:10.640Z"
   },
   {
    "duration": 815,
    "start_time": "2023-07-14T12:02:20.459Z"
   },
   {
    "duration": 2122,
    "start_time": "2023-07-14T12:03:04.850Z"
   },
   {
    "duration": 2156,
    "start_time": "2023-07-14T12:03:06.974Z"
   },
   {
    "duration": 1306,
    "start_time": "2023-07-14T12:03:09.133Z"
   },
   {
    "duration": 9,
    "start_time": "2023-07-14T12:03:10.441Z"
   },
   {
    "duration": 2174,
    "start_time": "2023-07-14T12:03:10.455Z"
   },
   {
    "duration": 850,
    "start_time": "2023-07-14T12:03:12.631Z"
   },
   {
    "duration": 127,
    "start_time": "2023-07-14T12:03:13.482Z"
   },
   {
    "duration": 52,
    "start_time": "2023-07-14T12:03:13.610Z"
   },
   {
    "duration": 126,
    "start_time": "2023-07-14T12:03:13.664Z"
   },
   {
    "duration": 241,
    "start_time": "2023-07-14T12:03:13.792Z"
   },
   {
    "duration": 20548,
    "start_time": "2023-07-14T12:03:14.035Z"
   },
   {
    "duration": 14,
    "start_time": "2023-07-14T12:03:34.584Z"
   },
   {
    "duration": 84,
    "start_time": "2023-07-14T12:03:34.600Z"
   },
   {
    "duration": 8763,
    "start_time": "2023-07-14T12:03:34.687Z"
   },
   {
    "duration": 0,
    "start_time": "2023-07-14T12:03:43.452Z"
   },
   {
    "duration": 0,
    "start_time": "2023-07-14T12:03:43.453Z"
   },
   {
    "duration": 0,
    "start_time": "2023-07-14T12:03:43.454Z"
   },
   {
    "duration": 0,
    "start_time": "2023-07-14T12:03:43.455Z"
   },
   {
    "duration": 0,
    "start_time": "2023-07-14T12:03:43.457Z"
   },
   {
    "duration": 0,
    "start_time": "2023-07-14T12:03:43.458Z"
   },
   {
    "duration": 0,
    "start_time": "2023-07-14T12:03:43.459Z"
   },
   {
    "duration": 0,
    "start_time": "2023-07-14T12:03:43.460Z"
   },
   {
    "duration": 0,
    "start_time": "2023-07-14T12:03:43.461Z"
   },
   {
    "duration": 0,
    "start_time": "2023-07-14T12:03:43.462Z"
   },
   {
    "duration": 0,
    "start_time": "2023-07-14T12:03:43.463Z"
   },
   {
    "duration": 0,
    "start_time": "2023-07-14T12:03:43.464Z"
   },
   {
    "duration": 0,
    "start_time": "2023-07-14T12:03:43.465Z"
   },
   {
    "duration": 0,
    "start_time": "2023-07-14T12:03:43.465Z"
   },
   {
    "duration": 0,
    "start_time": "2023-07-14T12:03:43.466Z"
   },
   {
    "duration": 0,
    "start_time": "2023-07-14T12:03:43.467Z"
   },
   {
    "duration": 0,
    "start_time": "2023-07-14T12:03:43.469Z"
   },
   {
    "duration": 0,
    "start_time": "2023-07-14T12:03:43.469Z"
   },
   {
    "duration": 0,
    "start_time": "2023-07-14T12:03:43.470Z"
   },
   {
    "duration": 0,
    "start_time": "2023-07-14T12:03:43.472Z"
   },
   {
    "duration": 0,
    "start_time": "2023-07-14T12:03:43.473Z"
   },
   {
    "duration": 0,
    "start_time": "2023-07-14T12:03:43.475Z"
   },
   {
    "duration": 0,
    "start_time": "2023-07-14T12:03:43.476Z"
   },
   {
    "duration": 0,
    "start_time": "2023-07-14T12:03:43.477Z"
   },
   {
    "duration": 1,
    "start_time": "2023-07-14T12:03:43.477Z"
   },
   {
    "duration": 0,
    "start_time": "2023-07-14T12:03:43.479Z"
   },
   {
    "duration": 0,
    "start_time": "2023-07-14T12:03:43.480Z"
   },
   {
    "duration": 2026,
    "start_time": "2023-07-14T12:04:13.132Z"
   },
   {
    "duration": 2139,
    "start_time": "2023-07-14T12:04:15.161Z"
   },
   {
    "duration": 1256,
    "start_time": "2023-07-14T12:04:17.302Z"
   },
   {
    "duration": 10,
    "start_time": "2023-07-14T12:04:18.561Z"
   },
   {
    "duration": 2467,
    "start_time": "2023-07-14T12:04:18.573Z"
   },
   {
    "duration": 27,
    "start_time": "2023-07-14T12:04:21.042Z"
   },
   {
    "duration": 2065,
    "start_time": "2023-07-14T12:04:31.394Z"
   },
   {
    "duration": 2089,
    "start_time": "2023-07-14T12:04:33.462Z"
   },
   {
    "duration": 5,
    "start_time": "2023-07-14T12:04:35.554Z"
   },
   {
    "duration": 25,
    "start_time": "2023-07-14T12:04:35.561Z"
   },
   {
    "duration": 2291,
    "start_time": "2023-07-14T12:04:35.588Z"
   },
   {
    "duration": 15,
    "start_time": "2023-07-14T12:04:37.881Z"
   },
   {
    "duration": 2912,
    "start_time": "2023-07-14T12:04:37.898Z"
   },
   {
    "duration": 22,
    "start_time": "2023-07-14T12:04:40.812Z"
   },
   {
    "duration": 39,
    "start_time": "2023-07-14T12:04:40.836Z"
   },
   {
    "duration": 173,
    "start_time": "2023-07-14T12:04:40.877Z"
   },
   {
    "duration": 2239,
    "start_time": "2023-07-14T12:04:41.057Z"
   },
   {
    "duration": 0,
    "start_time": "2023-07-14T12:04:43.300Z"
   },
   {
    "duration": 0,
    "start_time": "2023-07-14T12:04:43.301Z"
   },
   {
    "duration": 0,
    "start_time": "2023-07-14T12:04:43.302Z"
   },
   {
    "duration": 0,
    "start_time": "2023-07-14T12:04:43.304Z"
   },
   {
    "duration": 0,
    "start_time": "2023-07-14T12:04:43.305Z"
   },
   {
    "duration": 0,
    "start_time": "2023-07-14T12:04:43.306Z"
   },
   {
    "duration": 0,
    "start_time": "2023-07-14T12:04:43.307Z"
   },
   {
    "duration": 0,
    "start_time": "2023-07-14T12:04:43.308Z"
   },
   {
    "duration": 0,
    "start_time": "2023-07-14T12:04:43.309Z"
   },
   {
    "duration": 0,
    "start_time": "2023-07-14T12:04:43.311Z"
   },
   {
    "duration": 0,
    "start_time": "2023-07-14T12:04:43.312Z"
   },
   {
    "duration": 0,
    "start_time": "2023-07-14T12:04:43.313Z"
   },
   {
    "duration": 0,
    "start_time": "2023-07-14T12:04:43.315Z"
   },
   {
    "duration": 0,
    "start_time": "2023-07-14T12:04:43.316Z"
   },
   {
    "duration": 0,
    "start_time": "2023-07-14T12:04:43.317Z"
   },
   {
    "duration": 0,
    "start_time": "2023-07-14T12:04:43.319Z"
   },
   {
    "duration": 0,
    "start_time": "2023-07-14T12:04:43.321Z"
   },
   {
    "duration": 0,
    "start_time": "2023-07-14T12:04:43.322Z"
   },
   {
    "duration": 0,
    "start_time": "2023-07-14T12:04:43.323Z"
   },
   {
    "duration": 0,
    "start_time": "2023-07-14T12:04:43.325Z"
   },
   {
    "duration": 0,
    "start_time": "2023-07-14T12:04:43.326Z"
   },
   {
    "duration": 0,
    "start_time": "2023-07-14T12:04:43.328Z"
   },
   {
    "duration": 0,
    "start_time": "2023-07-14T12:04:43.329Z"
   },
   {
    "duration": 0,
    "start_time": "2023-07-14T12:04:43.330Z"
   },
   {
    "duration": 0,
    "start_time": "2023-07-14T12:04:43.332Z"
   },
   {
    "duration": 0,
    "start_time": "2023-07-14T12:04:43.333Z"
   },
   {
    "duration": 0,
    "start_time": "2023-07-14T12:04:43.334Z"
   },
   {
    "duration": 0,
    "start_time": "2023-07-14T12:04:43.335Z"
   },
   {
    "duration": 0,
    "start_time": "2023-07-14T12:04:43.357Z"
   },
   {
    "duration": 0,
    "start_time": "2023-07-14T12:04:43.358Z"
   },
   {
    "duration": 1927,
    "start_time": "2023-07-14T12:06:20.226Z"
   },
   {
    "duration": 2054,
    "start_time": "2023-07-14T12:06:22.156Z"
   },
   {
    "duration": 1243,
    "start_time": "2023-07-14T12:06:24.213Z"
   },
   {
    "duration": 9,
    "start_time": "2023-07-14T12:06:25.458Z"
   },
   {
    "duration": 928,
    "start_time": "2023-07-14T12:06:25.469Z"
   },
   {
    "duration": 18,
    "start_time": "2023-07-14T12:06:26.399Z"
   },
   {
    "duration": 143,
    "start_time": "2023-07-14T12:06:26.418Z"
   },
   {
    "duration": 64,
    "start_time": "2023-07-14T12:06:26.563Z"
   },
   {
    "duration": 112,
    "start_time": "2023-07-14T12:06:26.629Z"
   },
   {
    "duration": 264,
    "start_time": "2023-07-14T12:06:26.743Z"
   },
   {
    "duration": 21920,
    "start_time": "2023-07-14T12:06:27.010Z"
   },
   {
    "duration": 19,
    "start_time": "2023-07-14T12:06:48.932Z"
   },
   {
    "duration": 85,
    "start_time": "2023-07-14T12:06:48.953Z"
   },
   {
    "duration": 20400,
    "start_time": "2023-07-14T12:06:49.043Z"
   },
   {
    "duration": 18,
    "start_time": "2023-07-14T12:07:09.445Z"
   },
   {
    "duration": 112,
    "start_time": "2023-07-14T12:07:09.465Z"
   },
   {
    "duration": 20313,
    "start_time": "2023-07-14T12:07:09.579Z"
   },
   {
    "duration": 14,
    "start_time": "2023-07-14T12:07:29.894Z"
   },
   {
    "duration": 107,
    "start_time": "2023-07-14T12:07:29.909Z"
   },
   {
    "duration": 42,
    "start_time": "2023-07-14T12:07:30.018Z"
   },
   {
    "duration": 78,
    "start_time": "2023-07-14T12:07:30.062Z"
   },
   {
    "duration": 121,
    "start_time": "2023-07-14T12:07:30.143Z"
   },
   {
    "duration": 130,
    "start_time": "2023-07-14T12:07:30.266Z"
   },
   {
    "duration": 283,
    "start_time": "2023-07-14T12:07:30.398Z"
   },
   {
    "duration": 209,
    "start_time": "2023-07-14T12:07:30.683Z"
   },
   {
    "duration": 496,
    "start_time": "2023-07-14T12:07:30.894Z"
   },
   {
    "duration": 422,
    "start_time": "2023-07-14T12:07:31.392Z"
   },
   {
    "duration": 262,
    "start_time": "2023-07-14T12:07:31.816Z"
   },
   {
    "duration": 418,
    "start_time": "2023-07-14T12:07:32.080Z"
   },
   {
    "duration": 265,
    "start_time": "2023-07-14T12:07:32.500Z"
   },
   {
    "duration": 393,
    "start_time": "2023-07-14T12:07:32.767Z"
   },
   {
    "duration": 210,
    "start_time": "2023-07-14T12:07:33.162Z"
   },
   {
    "duration": 65,
    "start_time": "2023-07-14T12:07:33.374Z"
   },
   {
    "duration": 126,
    "start_time": "2023-07-14T12:07:33.441Z"
   },
   {
    "duration": 141,
    "start_time": "2023-07-14T12:07:33.568Z"
   },
   {
    "duration": 70,
    "start_time": "2023-07-14T12:07:33.711Z"
   },
   {
    "duration": 15,
    "start_time": "2023-07-14T12:07:33.782Z"
   },
   {
    "duration": 23,
    "start_time": "2023-07-14T12:07:33.799Z"
   },
   {
    "duration": 31,
    "start_time": "2023-07-14T12:07:33.824Z"
   },
   {
    "duration": 71251,
    "start_time": "2023-07-14T12:07:33.857Z"
   },
   {
    "duration": 28443,
    "start_time": "2023-07-14T12:08:45.113Z"
   },
   {
    "duration": 11,
    "start_time": "2023-07-14T12:11:41.362Z"
   },
   {
    "duration": 2078,
    "start_time": "2023-07-14T12:12:07.774Z"
   },
   {
    "duration": 1966,
    "start_time": "2023-07-14T12:12:09.854Z"
   },
   {
    "duration": 731,
    "start_time": "2023-07-14T12:12:11.822Z"
   },
   {
    "duration": 0,
    "start_time": "2023-07-14T12:12:12.557Z"
   },
   {
    "duration": 0,
    "start_time": "2023-07-14T12:12:12.558Z"
   },
   {
    "duration": 0,
    "start_time": "2023-07-14T12:12:12.559Z"
   },
   {
    "duration": 0,
    "start_time": "2023-07-14T12:12:12.560Z"
   },
   {
    "duration": 0,
    "start_time": "2023-07-14T12:12:12.561Z"
   },
   {
    "duration": 0,
    "start_time": "2023-07-14T12:12:12.562Z"
   },
   {
    "duration": 0,
    "start_time": "2023-07-14T12:12:12.563Z"
   },
   {
    "duration": 0,
    "start_time": "2023-07-14T12:12:12.565Z"
   },
   {
    "duration": 0,
    "start_time": "2023-07-14T12:12:12.566Z"
   },
   {
    "duration": 0,
    "start_time": "2023-07-14T12:12:12.567Z"
   },
   {
    "duration": 0,
    "start_time": "2023-07-14T12:12:12.568Z"
   },
   {
    "duration": 0,
    "start_time": "2023-07-14T12:12:12.570Z"
   },
   {
    "duration": 0,
    "start_time": "2023-07-14T12:12:12.571Z"
   },
   {
    "duration": 0,
    "start_time": "2023-07-14T12:12:12.572Z"
   },
   {
    "duration": 0,
    "start_time": "2023-07-14T12:12:12.573Z"
   },
   {
    "duration": 0,
    "start_time": "2023-07-14T12:12:12.574Z"
   },
   {
    "duration": 0,
    "start_time": "2023-07-14T12:12:12.575Z"
   },
   {
    "duration": 0,
    "start_time": "2023-07-14T12:12:12.576Z"
   },
   {
    "duration": 0,
    "start_time": "2023-07-14T12:12:12.577Z"
   },
   {
    "duration": 0,
    "start_time": "2023-07-14T12:12:12.578Z"
   },
   {
    "duration": 0,
    "start_time": "2023-07-14T12:12:12.579Z"
   },
   {
    "duration": 0,
    "start_time": "2023-07-14T12:12:12.581Z"
   },
   {
    "duration": 0,
    "start_time": "2023-07-14T12:12:12.582Z"
   },
   {
    "duration": 0,
    "start_time": "2023-07-14T12:12:12.583Z"
   },
   {
    "duration": 0,
    "start_time": "2023-07-14T12:12:12.584Z"
   },
   {
    "duration": 0,
    "start_time": "2023-07-14T12:12:12.585Z"
   },
   {
    "duration": 0,
    "start_time": "2023-07-14T12:12:12.586Z"
   },
   {
    "duration": 0,
    "start_time": "2023-07-14T12:12:12.588Z"
   },
   {
    "duration": 0,
    "start_time": "2023-07-14T12:12:12.589Z"
   },
   {
    "duration": 0,
    "start_time": "2023-07-14T12:12:12.590Z"
   },
   {
    "duration": 0,
    "start_time": "2023-07-14T12:12:12.591Z"
   },
   {
    "duration": 0,
    "start_time": "2023-07-14T12:12:12.592Z"
   },
   {
    "duration": 0,
    "start_time": "2023-07-14T12:12:12.592Z"
   },
   {
    "duration": 0,
    "start_time": "2023-07-14T12:12:12.593Z"
   },
   {
    "duration": 0,
    "start_time": "2023-07-14T12:12:12.657Z"
   },
   {
    "duration": 0,
    "start_time": "2023-07-14T12:12:12.658Z"
   },
   {
    "duration": 0,
    "start_time": "2023-07-14T12:12:12.659Z"
   },
   {
    "duration": 0,
    "start_time": "2023-07-14T12:12:12.660Z"
   },
   {
    "duration": 0,
    "start_time": "2023-07-14T12:12:12.661Z"
   },
   {
    "duration": 0,
    "start_time": "2023-07-14T12:12:12.662Z"
   },
   {
    "duration": 1973,
    "start_time": "2023-07-14T12:12:25.621Z"
   },
   {
    "duration": 2069,
    "start_time": "2023-07-14T12:12:27.597Z"
   },
   {
    "duration": 2414,
    "start_time": "2023-07-14T12:12:29.668Z"
   },
   {
    "duration": 9,
    "start_time": "2023-07-14T12:12:32.083Z"
   },
   {
    "duration": 3018,
    "start_time": "2023-07-14T12:12:32.094Z"
   },
   {
    "duration": 17,
    "start_time": "2023-07-14T12:12:35.113Z"
   },
   {
    "duration": 138,
    "start_time": "2023-07-14T12:12:35.132Z"
   },
   {
    "duration": 63,
    "start_time": "2023-07-14T12:12:35.272Z"
   },
   {
    "duration": 120,
    "start_time": "2023-07-14T12:12:35.337Z"
   },
   {
    "duration": 266,
    "start_time": "2023-07-14T12:12:35.459Z"
   },
   {
    "duration": 20566,
    "start_time": "2023-07-14T12:12:35.727Z"
   },
   {
    "duration": 16,
    "start_time": "2023-07-14T12:12:56.295Z"
   },
   {
    "duration": 65,
    "start_time": "2023-07-14T12:12:56.313Z"
   },
   {
    "duration": 20513,
    "start_time": "2023-07-14T12:12:56.382Z"
   },
   {
    "duration": 15,
    "start_time": "2023-07-14T12:13:16.897Z"
   },
   {
    "duration": 78,
    "start_time": "2023-07-14T12:13:16.914Z"
   },
   {
    "duration": 20785,
    "start_time": "2023-07-14T12:13:16.994Z"
   },
   {
    "duration": 14,
    "start_time": "2023-07-14T12:13:37.781Z"
   },
   {
    "duration": 74,
    "start_time": "2023-07-14T12:13:37.797Z"
   },
   {
    "duration": 30,
    "start_time": "2023-07-14T12:13:37.873Z"
   },
   {
    "duration": 22,
    "start_time": "2023-07-14T12:13:37.905Z"
   },
   {
    "duration": 37,
    "start_time": "2023-07-14T12:13:37.929Z"
   },
   {
    "duration": 60,
    "start_time": "2023-07-14T12:13:37.968Z"
   },
   {
    "duration": 112,
    "start_time": "2023-07-14T12:13:38.030Z"
   },
   {
    "duration": 52,
    "start_time": "2023-07-14T12:13:38.144Z"
   },
   {
    "duration": 442,
    "start_time": "2023-07-14T12:13:38.198Z"
   },
   {
    "duration": 483,
    "start_time": "2023-07-14T12:13:38.642Z"
   },
   {
    "duration": 287,
    "start_time": "2023-07-14T12:13:39.127Z"
   },
   {
    "duration": 411,
    "start_time": "2023-07-14T12:13:39.416Z"
   },
   {
    "duration": 255,
    "start_time": "2023-07-14T12:13:39.829Z"
   },
   {
    "duration": 394,
    "start_time": "2023-07-14T12:13:40.086Z"
   },
   {
    "duration": 211,
    "start_time": "2023-07-14T12:13:40.482Z"
   },
   {
    "duration": 81,
    "start_time": "2023-07-14T12:13:40.696Z"
   },
   {
    "duration": 31,
    "start_time": "2023-07-14T12:13:40.779Z"
   },
   {
    "duration": 49,
    "start_time": "2023-07-14T12:13:40.812Z"
   },
   {
    "duration": 64,
    "start_time": "2023-07-14T12:13:40.863Z"
   },
   {
    "duration": 31,
    "start_time": "2023-07-14T12:13:40.928Z"
   },
   {
    "duration": 7,
    "start_time": "2023-07-14T12:13:40.961Z"
   },
   {
    "duration": 24,
    "start_time": "2023-07-14T12:13:40.969Z"
   },
   {
    "duration": 74786,
    "start_time": "2023-07-14T12:13:40.995Z"
   },
   {
    "duration": 30274,
    "start_time": "2023-07-14T12:14:55.784Z"
   },
   {
    "duration": 14,
    "start_time": "2023-07-14T12:15:26.059Z"
   },
   {
    "duration": 186,
    "start_time": "2023-07-14T12:15:26.075Z"
   },
   {
    "duration": 0,
    "start_time": "2023-07-14T12:15:26.262Z"
   },
   {
    "duration": 101,
    "start_time": "2023-07-14T12:16:12.398Z"
   },
   {
    "duration": 110,
    "start_time": "2023-07-14T12:16:22.924Z"
   },
   {
    "duration": 81,
    "start_time": "2023-07-14T12:16:42.834Z"
   },
   {
    "duration": 35,
    "start_time": "2023-07-14T12:17:08.393Z"
   },
   {
    "duration": 2011,
    "start_time": "2023-07-14T12:22:23.938Z"
   },
   {
    "duration": 2028,
    "start_time": "2023-07-14T12:22:25.951Z"
   },
   {
    "duration": 1835,
    "start_time": "2023-07-14T12:22:27.981Z"
   },
   {
    "duration": 9,
    "start_time": "2023-07-14T12:22:29.817Z"
   },
   {
    "duration": 3017,
    "start_time": "2023-07-14T12:22:29.828Z"
   },
   {
    "duration": 15,
    "start_time": "2023-07-14T12:22:32.847Z"
   },
   {
    "duration": 153,
    "start_time": "2023-07-14T12:22:32.864Z"
   },
   {
    "duration": 61,
    "start_time": "2023-07-14T12:22:33.018Z"
   },
   {
    "duration": 111,
    "start_time": "2023-07-14T12:22:33.081Z"
   },
   {
    "duration": 274,
    "start_time": "2023-07-14T12:22:33.194Z"
   },
   {
    "duration": 20640,
    "start_time": "2023-07-14T12:22:33.470Z"
   },
   {
    "duration": 16,
    "start_time": "2023-07-14T12:22:54.112Z"
   },
   {
    "duration": 68,
    "start_time": "2023-07-14T12:22:54.130Z"
   },
   {
    "duration": 20505,
    "start_time": "2023-07-14T12:22:54.202Z"
   },
   {
    "duration": 14,
    "start_time": "2023-07-14T12:23:14.709Z"
   },
   {
    "duration": 77,
    "start_time": "2023-07-14T12:23:14.725Z"
   },
   {
    "duration": 20383,
    "start_time": "2023-07-14T12:23:14.804Z"
   },
   {
    "duration": 15,
    "start_time": "2023-07-14T12:23:35.189Z"
   },
   {
    "duration": 84,
    "start_time": "2023-07-14T12:23:35.206Z"
   },
   {
    "duration": 33,
    "start_time": "2023-07-14T12:23:35.292Z"
   },
   {
    "duration": 35,
    "start_time": "2023-07-14T12:23:35.327Z"
   },
   {
    "duration": 25,
    "start_time": "2023-07-14T12:23:35.363Z"
   },
   {
    "duration": 67,
    "start_time": "2023-07-14T12:23:35.390Z"
   },
   {
    "duration": 104,
    "start_time": "2023-07-14T12:23:35.459Z"
   },
   {
    "duration": 45,
    "start_time": "2023-07-14T12:23:35.565Z"
   },
   {
    "duration": 392,
    "start_time": "2023-07-14T12:23:35.612Z"
   },
   {
    "duration": 387,
    "start_time": "2023-07-14T12:23:36.006Z"
   },
   {
    "duration": 277,
    "start_time": "2023-07-14T12:23:36.395Z"
   },
   {
    "duration": 401,
    "start_time": "2023-07-14T12:23:36.673Z"
   },
   {
    "duration": 256,
    "start_time": "2023-07-14T12:23:37.076Z"
   },
   {
    "duration": 403,
    "start_time": "2023-07-14T12:23:37.334Z"
   },
   {
    "duration": 207,
    "start_time": "2023-07-14T12:23:37.738Z"
   },
   {
    "duration": 71,
    "start_time": "2023-07-14T12:23:37.947Z"
   },
   {
    "duration": 43,
    "start_time": "2023-07-14T12:23:38.020Z"
   },
   {
    "duration": 30,
    "start_time": "2023-07-14T12:23:38.065Z"
   },
   {
    "duration": 78,
    "start_time": "2023-07-14T12:23:38.097Z"
   },
   {
    "duration": 13,
    "start_time": "2023-07-14T12:23:38.178Z"
   },
   {
    "duration": 6,
    "start_time": "2023-07-14T12:23:38.193Z"
   },
   {
    "duration": 17,
    "start_time": "2023-07-14T12:23:38.201Z"
   },
   {
    "duration": 71049,
    "start_time": "2023-07-14T12:23:38.220Z"
   },
   {
    "duration": 26586,
    "start_time": "2023-07-14T12:24:49.273Z"
   },
   {
    "duration": 12,
    "start_time": "2023-07-14T12:26:14.440Z"
   },
   {
    "duration": 104,
    "start_time": "2023-07-14T12:26:18.497Z"
   },
   {
    "duration": 2029,
    "start_time": "2023-07-14T12:28:09.478Z"
   },
   {
    "duration": 2050,
    "start_time": "2023-07-14T12:28:11.509Z"
   },
   {
    "duration": 1948,
    "start_time": "2023-07-14T12:28:13.562Z"
   },
   {
    "duration": 9,
    "start_time": "2023-07-14T12:28:15.512Z"
   },
   {
    "duration": 2980,
    "start_time": "2023-07-14T12:28:15.523Z"
   },
   {
    "duration": 17,
    "start_time": "2023-07-14T12:28:18.505Z"
   },
   {
    "duration": 206,
    "start_time": "2023-07-14T12:28:18.524Z"
   },
   {
    "duration": 69,
    "start_time": "2023-07-14T12:28:18.732Z"
   },
   {
    "duration": 215,
    "start_time": "2023-07-14T12:28:18.803Z"
   },
   {
    "duration": 257,
    "start_time": "2023-07-14T12:28:19.020Z"
   },
   {
    "duration": 20551,
    "start_time": "2023-07-14T12:28:19.279Z"
   },
   {
    "duration": 27,
    "start_time": "2023-07-14T12:28:39.832Z"
   },
   {
    "duration": 66,
    "start_time": "2023-07-14T12:28:39.861Z"
   },
   {
    "duration": 20655,
    "start_time": "2023-07-14T12:28:39.931Z"
   },
   {
    "duration": 22,
    "start_time": "2023-07-14T12:29:00.588Z"
   },
   {
    "duration": 110,
    "start_time": "2023-07-14T12:29:00.611Z"
   },
   {
    "duration": 20467,
    "start_time": "2023-07-14T12:29:00.722Z"
   },
   {
    "duration": 21,
    "start_time": "2023-07-14T12:29:21.191Z"
   },
   {
    "duration": 84,
    "start_time": "2023-07-14T12:29:21.213Z"
   },
   {
    "duration": 37,
    "start_time": "2023-07-14T12:29:21.299Z"
   },
   {
    "duration": 60,
    "start_time": "2023-07-14T12:29:21.338Z"
   },
   {
    "duration": 29,
    "start_time": "2023-07-14T12:29:21.400Z"
   },
   {
    "duration": 66,
    "start_time": "2023-07-14T12:29:21.431Z"
   },
   {
    "duration": 167,
    "start_time": "2023-07-14T12:29:21.499Z"
   },
   {
    "duration": 63,
    "start_time": "2023-07-14T12:29:21.667Z"
   },
   {
    "duration": 376,
    "start_time": "2023-07-14T12:29:21.732Z"
   },
   {
    "duration": 406,
    "start_time": "2023-07-14T12:29:22.110Z"
   },
   {
    "duration": 259,
    "start_time": "2023-07-14T12:29:22.518Z"
   },
   {
    "duration": 403,
    "start_time": "2023-07-14T12:29:22.779Z"
   },
   {
    "duration": 272,
    "start_time": "2023-07-14T12:29:23.184Z"
   },
   {
    "duration": 400,
    "start_time": "2023-07-14T12:29:23.458Z"
   },
   {
    "duration": 309,
    "start_time": "2023-07-14T12:29:23.861Z"
   },
   {
    "duration": 68,
    "start_time": "2023-07-14T12:29:24.171Z"
   },
   {
    "duration": 35,
    "start_time": "2023-07-14T12:29:24.241Z"
   },
   {
    "duration": 33,
    "start_time": "2023-07-14T12:29:24.277Z"
   },
   {
    "duration": 76,
    "start_time": "2023-07-14T12:29:24.312Z"
   },
   {
    "duration": 14,
    "start_time": "2023-07-14T12:29:24.390Z"
   },
   {
    "duration": 7,
    "start_time": "2023-07-14T12:29:24.406Z"
   },
   {
    "duration": 47,
    "start_time": "2023-07-14T12:29:24.414Z"
   },
   {
    "duration": 70155,
    "start_time": "2023-07-14T12:29:24.463Z"
   },
   {
    "duration": 46842,
    "start_time": "2023-07-14T12:30:34.621Z"
   },
   {
    "duration": 13,
    "start_time": "2023-07-14T12:33:42.643Z"
   },
   {
    "duration": 98,
    "start_time": "2023-07-14T12:34:02.249Z"
   },
   {
    "duration": 2120,
    "start_time": "2023-07-14T12:34:31.854Z"
   },
   {
    "duration": 2040,
    "start_time": "2023-07-14T12:34:33.977Z"
   },
   {
    "duration": 1918,
    "start_time": "2023-07-14T12:34:36.019Z"
   },
   {
    "duration": 9,
    "start_time": "2023-07-14T12:34:37.940Z"
   },
   {
    "duration": 3039,
    "start_time": "2023-07-14T12:34:37.951Z"
   },
   {
    "duration": 17,
    "start_time": "2023-07-14T12:34:40.992Z"
   },
   {
    "duration": 125,
    "start_time": "2023-07-14T12:34:41.011Z"
   },
   {
    "duration": 80,
    "start_time": "2023-07-14T12:34:41.139Z"
   },
   {
    "duration": 108,
    "start_time": "2023-07-14T12:34:41.221Z"
   },
   {
    "duration": 252,
    "start_time": "2023-07-14T12:34:41.331Z"
   },
   {
    "duration": 21135,
    "start_time": "2023-07-14T12:34:41.585Z"
   },
   {
    "duration": 15,
    "start_time": "2023-07-14T12:35:02.722Z"
   },
   {
    "duration": 80,
    "start_time": "2023-07-14T12:35:02.738Z"
   },
   {
    "duration": 20934,
    "start_time": "2023-07-14T12:35:02.822Z"
   },
   {
    "duration": 13,
    "start_time": "2023-07-14T12:35:23.758Z"
   },
   {
    "duration": 66,
    "start_time": "2023-07-14T12:35:23.773Z"
   },
   {
    "duration": 20831,
    "start_time": "2023-07-14T12:35:23.840Z"
   },
   {
    "duration": 17,
    "start_time": "2023-07-14T12:35:44.673Z"
   },
   {
    "duration": 75,
    "start_time": "2023-07-14T12:35:44.692Z"
   },
   {
    "duration": 31,
    "start_time": "2023-07-14T12:35:44.769Z"
   },
   {
    "duration": 37,
    "start_time": "2023-07-14T12:35:44.802Z"
   },
   {
    "duration": 24,
    "start_time": "2023-07-14T12:35:44.841Z"
   },
   {
    "duration": 61,
    "start_time": "2023-07-14T12:35:44.867Z"
   },
   {
    "duration": 119,
    "start_time": "2023-07-14T12:35:44.930Z"
   },
   {
    "duration": 50,
    "start_time": "2023-07-14T12:35:45.051Z"
   },
   {
    "duration": 417,
    "start_time": "2023-07-14T12:35:45.103Z"
   },
   {
    "duration": 418,
    "start_time": "2023-07-14T12:35:45.522Z"
   },
   {
    "duration": 276,
    "start_time": "2023-07-14T12:35:45.942Z"
   },
   {
    "duration": 401,
    "start_time": "2023-07-14T12:35:46.221Z"
   },
   {
    "duration": 266,
    "start_time": "2023-07-14T12:35:46.623Z"
   },
   {
    "duration": 447,
    "start_time": "2023-07-14T12:35:46.891Z"
   },
   {
    "duration": 224,
    "start_time": "2023-07-14T12:35:47.341Z"
   },
   {
    "duration": 68,
    "start_time": "2023-07-14T12:35:47.567Z"
   },
   {
    "duration": 48,
    "start_time": "2023-07-14T12:35:47.637Z"
   },
   {
    "duration": 33,
    "start_time": "2023-07-14T12:35:47.687Z"
   },
   {
    "duration": 93,
    "start_time": "2023-07-14T12:35:47.722Z"
   },
   {
    "duration": 13,
    "start_time": "2023-07-14T12:35:47.817Z"
   },
   {
    "duration": 29,
    "start_time": "2023-07-14T12:35:47.831Z"
   },
   {
    "duration": 35,
    "start_time": "2023-07-14T12:35:47.861Z"
   },
   {
    "duration": 69945,
    "start_time": "2023-07-14T12:35:47.898Z"
   },
   {
    "duration": 26915,
    "start_time": "2023-07-14T12:36:57.846Z"
   },
   {
    "duration": 115,
    "start_time": "2023-07-14T12:39:16.369Z"
   },
   {
    "duration": 11,
    "start_time": "2023-07-14T12:39:29.535Z"
   },
   {
    "duration": 10,
    "start_time": "2023-07-14T12:39:37.565Z"
   },
   {
    "duration": 2059,
    "start_time": "2023-07-14T12:40:12.965Z"
   },
   {
    "duration": 1997,
    "start_time": "2023-07-14T12:40:15.026Z"
   },
   {
    "duration": 1914,
    "start_time": "2023-07-14T12:40:17.025Z"
   },
   {
    "duration": 10,
    "start_time": "2023-07-14T12:40:18.942Z"
   },
   {
    "duration": 2973,
    "start_time": "2023-07-14T12:40:18.955Z"
   },
   {
    "duration": 27,
    "start_time": "2023-07-14T12:40:21.930Z"
   },
   {
    "duration": 109,
    "start_time": "2023-07-14T12:40:21.958Z"
   },
   {
    "duration": 57,
    "start_time": "2023-07-14T12:40:22.070Z"
   },
   {
    "duration": 128,
    "start_time": "2023-07-14T12:40:22.129Z"
   },
   {
    "duration": 252,
    "start_time": "2023-07-14T12:40:22.259Z"
   },
   {
    "duration": 20885,
    "start_time": "2023-07-14T12:40:22.513Z"
   },
   {
    "duration": 14,
    "start_time": "2023-07-14T12:40:43.400Z"
   },
   {
    "duration": 61,
    "start_time": "2023-07-14T12:40:43.416Z"
   },
   {
    "duration": 20676,
    "start_time": "2023-07-14T12:40:43.481Z"
   },
   {
    "duration": 16,
    "start_time": "2023-07-14T12:41:04.160Z"
   },
   {
    "duration": 83,
    "start_time": "2023-07-14T12:41:04.178Z"
   },
   {
    "duration": 20671,
    "start_time": "2023-07-14T12:41:04.263Z"
   },
   {
    "duration": 22,
    "start_time": "2023-07-14T12:41:24.935Z"
   },
   {
    "duration": 59,
    "start_time": "2023-07-14T12:41:24.960Z"
   },
   {
    "duration": 50,
    "start_time": "2023-07-14T12:41:25.020Z"
   },
   {
    "duration": 22,
    "start_time": "2023-07-14T12:41:25.071Z"
   },
   {
    "duration": 23,
    "start_time": "2023-07-14T12:41:25.094Z"
   },
   {
    "duration": 72,
    "start_time": "2023-07-14T12:41:25.119Z"
   },
   {
    "duration": 113,
    "start_time": "2023-07-14T12:41:25.193Z"
   },
   {
    "duration": 53,
    "start_time": "2023-07-14T12:41:25.308Z"
   },
   {
    "duration": 398,
    "start_time": "2023-07-14T12:41:25.363Z"
   },
   {
    "duration": 381,
    "start_time": "2023-07-14T12:41:25.763Z"
   },
   {
    "duration": 337,
    "start_time": "2023-07-14T12:41:26.145Z"
   },
   {
    "duration": 389,
    "start_time": "2023-07-14T12:41:26.483Z"
   },
   {
    "duration": 255,
    "start_time": "2023-07-14T12:41:26.874Z"
   },
   {
    "duration": 417,
    "start_time": "2023-07-14T12:41:27.130Z"
   },
   {
    "duration": 203,
    "start_time": "2023-07-14T12:41:27.557Z"
   },
   {
    "duration": 68,
    "start_time": "2023-07-14T12:41:27.762Z"
   },
   {
    "duration": 45,
    "start_time": "2023-07-14T12:41:27.832Z"
   },
   {
    "duration": 33,
    "start_time": "2023-07-14T12:41:27.879Z"
   },
   {
    "duration": 91,
    "start_time": "2023-07-14T12:41:27.913Z"
   },
   {
    "duration": 14,
    "start_time": "2023-07-14T12:41:28.006Z"
   },
   {
    "duration": 11,
    "start_time": "2023-07-14T12:41:28.022Z"
   },
   {
    "duration": 51,
    "start_time": "2023-07-14T12:41:28.035Z"
   },
   {
    "duration": 66669,
    "start_time": "2023-07-14T12:41:28.088Z"
   },
   {
    "duration": 28499,
    "start_time": "2023-07-14T12:42:34.760Z"
   },
   {
    "duration": 13,
    "start_time": "2023-07-14T12:43:07.163Z"
   },
   {
    "duration": 93,
    "start_time": "2023-07-14T12:43:12.230Z"
   },
   {
    "duration": 52,
    "start_time": "2023-07-14T12:43:27.396Z"
   },
   {
    "duration": 2114,
    "start_time": "2023-07-14T12:43:37.369Z"
   },
   {
    "duration": 1971,
    "start_time": "2023-07-14T12:43:39.485Z"
   },
   {
    "duration": 1865,
    "start_time": "2023-07-14T12:43:41.458Z"
   },
   {
    "duration": 9,
    "start_time": "2023-07-14T12:43:43.325Z"
   },
   {
    "duration": 2997,
    "start_time": "2023-07-14T12:43:43.338Z"
   },
   {
    "duration": 26,
    "start_time": "2023-07-14T12:43:46.337Z"
   },
   {
    "duration": 146,
    "start_time": "2023-07-14T12:43:46.365Z"
   },
   {
    "duration": 64,
    "start_time": "2023-07-14T12:43:46.512Z"
   },
   {
    "duration": 112,
    "start_time": "2023-07-14T12:43:46.578Z"
   },
   {
    "duration": 258,
    "start_time": "2023-07-14T12:43:46.692Z"
   },
   {
    "duration": 20767,
    "start_time": "2023-07-14T12:43:46.957Z"
   },
   {
    "duration": 14,
    "start_time": "2023-07-14T12:44:07.726Z"
   },
   {
    "duration": 63,
    "start_time": "2023-07-14T12:44:07.741Z"
   },
   {
    "duration": 21052,
    "start_time": "2023-07-14T12:44:07.807Z"
   },
   {
    "duration": 19,
    "start_time": "2023-07-14T12:44:28.861Z"
   },
   {
    "duration": 89,
    "start_time": "2023-07-14T12:44:28.882Z"
   },
   {
    "duration": 20797,
    "start_time": "2023-07-14T12:44:28.974Z"
   },
   {
    "duration": 15,
    "start_time": "2023-07-14T12:44:49.773Z"
   },
   {
    "duration": 76,
    "start_time": "2023-07-14T12:44:49.790Z"
   },
   {
    "duration": 32,
    "start_time": "2023-07-14T12:44:49.868Z"
   },
   {
    "duration": 20,
    "start_time": "2023-07-14T12:44:49.902Z"
   },
   {
    "duration": 40,
    "start_time": "2023-07-14T12:44:49.923Z"
   },
   {
    "duration": 62,
    "start_time": "2023-07-14T12:44:49.965Z"
   },
   {
    "duration": 106,
    "start_time": "2023-07-14T12:44:50.029Z"
   },
   {
    "duration": 59,
    "start_time": "2023-07-14T12:44:50.137Z"
   },
   {
    "duration": 392,
    "start_time": "2023-07-14T12:44:50.198Z"
   },
   {
    "duration": 423,
    "start_time": "2023-07-14T12:44:50.592Z"
   },
   {
    "duration": 283,
    "start_time": "2023-07-14T12:44:51.017Z"
   },
   {
    "duration": 389,
    "start_time": "2023-07-14T12:44:51.302Z"
   },
   {
    "duration": 255,
    "start_time": "2023-07-14T12:44:51.692Z"
   },
   {
    "duration": 394,
    "start_time": "2023-07-14T12:44:51.948Z"
   },
   {
    "duration": 212,
    "start_time": "2023-07-14T12:44:52.344Z"
   },
   {
    "duration": 67,
    "start_time": "2023-07-14T12:44:52.558Z"
   },
   {
    "duration": 41,
    "start_time": "2023-07-14T12:44:52.626Z"
   },
   {
    "duration": 31,
    "start_time": "2023-07-14T12:44:52.669Z"
   },
   {
    "duration": 86,
    "start_time": "2023-07-14T12:44:52.701Z"
   },
   {
    "duration": 13,
    "start_time": "2023-07-14T12:44:52.789Z"
   },
   {
    "duration": 10,
    "start_time": "2023-07-14T12:44:52.804Z"
   },
   {
    "duration": 28,
    "start_time": "2023-07-14T12:44:52.815Z"
   },
   {
    "duration": 70066,
    "start_time": "2023-07-14T12:44:52.845Z"
   },
   {
    "duration": 28849,
    "start_time": "2023-07-14T12:46:02.915Z"
   },
   {
    "duration": 12,
    "start_time": "2023-07-14T12:46:36.736Z"
   },
   {
    "duration": 101,
    "start_time": "2023-07-14T12:46:40.571Z"
   },
   {
    "duration": 1968,
    "start_time": "2023-07-14T12:59:35.586Z"
   },
   {
    "duration": 2019,
    "start_time": "2023-07-14T12:59:37.556Z"
   },
   {
    "duration": 2004,
    "start_time": "2023-07-14T12:59:39.577Z"
   },
   {
    "duration": 8,
    "start_time": "2023-07-14T12:59:41.584Z"
   },
   {
    "duration": 2980,
    "start_time": "2023-07-14T12:59:41.594Z"
   },
   {
    "duration": 17,
    "start_time": "2023-07-14T12:59:44.575Z"
   },
   {
    "duration": 134,
    "start_time": "2023-07-14T12:59:44.593Z"
   },
   {
    "duration": 59,
    "start_time": "2023-07-14T12:59:44.729Z"
   },
   {
    "duration": 112,
    "start_time": "2023-07-14T12:59:44.790Z"
   },
   {
    "duration": 249,
    "start_time": "2023-07-14T12:59:44.904Z"
   },
   {
    "duration": 20776,
    "start_time": "2023-07-14T12:59:45.154Z"
   },
   {
    "duration": 24,
    "start_time": "2023-07-14T13:00:05.932Z"
   },
   {
    "duration": 71,
    "start_time": "2023-07-14T13:00:05.958Z"
   },
   {
    "duration": 20904,
    "start_time": "2023-07-14T13:00:06.031Z"
   },
   {
    "duration": 24,
    "start_time": "2023-07-14T13:00:26.936Z"
   },
   {
    "duration": 68,
    "start_time": "2023-07-14T13:00:26.962Z"
   },
   {
    "duration": 21062,
    "start_time": "2023-07-14T13:00:27.032Z"
   },
   {
    "duration": 15,
    "start_time": "2023-07-14T13:00:48.096Z"
   },
   {
    "duration": 72,
    "start_time": "2023-07-14T13:00:48.112Z"
   },
   {
    "duration": 30,
    "start_time": "2023-07-14T13:00:48.185Z"
   },
   {
    "duration": 21,
    "start_time": "2023-07-14T13:00:48.217Z"
   },
   {
    "duration": 20,
    "start_time": "2023-07-14T13:00:48.256Z"
   },
   {
    "duration": 57,
    "start_time": "2023-07-14T13:00:48.278Z"
   },
   {
    "duration": 127,
    "start_time": "2023-07-14T13:00:48.337Z"
   },
   {
    "duration": 46,
    "start_time": "2023-07-14T13:00:48.465Z"
   },
   {
    "duration": 419,
    "start_time": "2023-07-14T13:00:48.513Z"
   },
   {
    "duration": 512,
    "start_time": "2023-07-14T13:00:48.934Z"
   },
   {
    "duration": 284,
    "start_time": "2023-07-14T13:00:49.449Z"
   },
   {
    "duration": 425,
    "start_time": "2023-07-14T13:00:49.735Z"
   },
   {
    "duration": 262,
    "start_time": "2023-07-14T13:00:50.161Z"
   },
   {
    "duration": 423,
    "start_time": "2023-07-14T13:00:50.425Z"
   },
   {
    "duration": 206,
    "start_time": "2023-07-14T13:00:50.850Z"
   },
   {
    "duration": 67,
    "start_time": "2023-07-14T13:00:51.058Z"
   },
   {
    "duration": 46,
    "start_time": "2023-07-14T13:00:51.127Z"
   },
   {
    "duration": 33,
    "start_time": "2023-07-14T13:00:51.175Z"
   },
   {
    "duration": 84,
    "start_time": "2023-07-14T13:00:51.210Z"
   },
   {
    "duration": 13,
    "start_time": "2023-07-14T13:00:51.296Z"
   },
   {
    "duration": 73,
    "start_time": "2023-07-14T13:00:51.311Z"
   },
   {
    "duration": 19,
    "start_time": "2023-07-14T13:00:51.386Z"
   },
   {
    "duration": 68200,
    "start_time": "2023-07-14T13:00:51.407Z"
   },
   {
    "duration": 34259,
    "start_time": "2023-07-14T13:01:59.609Z"
   },
   {
    "duration": 12,
    "start_time": "2023-07-14T13:03:36.490Z"
   },
   {
    "duration": 11158,
    "start_time": "2023-07-14T13:03:40.424Z"
   },
   {
    "duration": 114,
    "start_time": "2023-07-14T13:03:58.943Z"
   },
   {
    "duration": 21,
    "start_time": "2023-07-14T13:04:01.218Z"
   },
   {
    "duration": 11,
    "start_time": "2023-07-14T13:11:41.680Z"
   },
   {
    "duration": 13,
    "start_time": "2023-07-14T13:11:49.280Z"
   },
   {
    "duration": 7387,
    "start_time": "2023-07-17T04:31:55.541Z"
   },
   {
    "duration": 2031,
    "start_time": "2023-07-17T04:32:02.930Z"
   },
   {
    "duration": 1433,
    "start_time": "2023-07-17T04:32:04.963Z"
   },
   {
    "duration": 9,
    "start_time": "2023-07-17T04:32:06.398Z"
   },
   {
    "duration": 3337,
    "start_time": "2023-07-17T04:32:06.413Z"
   },
   {
    "duration": 23,
    "start_time": "2023-07-17T04:32:09.752Z"
   },
   {
    "duration": 199,
    "start_time": "2023-07-17T04:32:09.777Z"
   },
   {
    "duration": 61,
    "start_time": "2023-07-17T04:32:09.978Z"
   },
   {
    "duration": 117,
    "start_time": "2023-07-17T04:32:10.041Z"
   },
   {
    "duration": 244,
    "start_time": "2023-07-17T04:32:10.161Z"
   },
   {
    "duration": 21748,
    "start_time": "2023-07-17T04:32:10.407Z"
   },
   {
    "duration": 15,
    "start_time": "2023-07-17T04:32:32.157Z"
   },
   {
    "duration": 143,
    "start_time": "2023-07-17T04:32:32.174Z"
   },
   {
    "duration": 21294,
    "start_time": "2023-07-17T04:32:32.319Z"
   },
   {
    "duration": 17,
    "start_time": "2023-07-17T04:32:53.615Z"
   },
   {
    "duration": 61,
    "start_time": "2023-07-17T04:32:53.634Z"
   },
   {
    "duration": 22155,
    "start_time": "2023-07-17T04:32:53.697Z"
   },
   {
    "duration": 14,
    "start_time": "2023-07-17T04:33:15.853Z"
   },
   {
    "duration": 74,
    "start_time": "2023-07-17T04:33:15.869Z"
   },
   {
    "duration": 31,
    "start_time": "2023-07-17T04:33:15.945Z"
   },
   {
    "duration": 36,
    "start_time": "2023-07-17T04:33:15.978Z"
   },
   {
    "duration": 38,
    "start_time": "2023-07-17T04:33:16.016Z"
   },
   {
    "duration": 59,
    "start_time": "2023-07-17T04:33:16.056Z"
   },
   {
    "duration": 106,
    "start_time": "2023-07-17T04:33:16.116Z"
   },
   {
    "duration": 60,
    "start_time": "2023-07-17T04:33:16.223Z"
   },
   {
    "duration": 413,
    "start_time": "2023-07-17T04:33:16.285Z"
   },
   {
    "duration": 419,
    "start_time": "2023-07-17T04:33:16.700Z"
   },
   {
    "duration": 373,
    "start_time": "2023-07-17T04:33:17.123Z"
   },
   {
    "duration": 335,
    "start_time": "2023-07-17T04:33:17.498Z"
   },
   {
    "duration": 284,
    "start_time": "2023-07-17T04:33:17.835Z"
   },
   {
    "duration": 422,
    "start_time": "2023-07-17T04:33:18.121Z"
   },
   {
    "duration": 196,
    "start_time": "2023-07-17T04:33:18.545Z"
   },
   {
    "duration": 77,
    "start_time": "2023-07-17T04:33:18.742Z"
   },
   {
    "duration": 27,
    "start_time": "2023-07-17T04:33:18.820Z"
   },
   {
    "duration": 31,
    "start_time": "2023-07-17T04:33:18.848Z"
   },
   {
    "duration": 80,
    "start_time": "2023-07-17T04:33:18.881Z"
   },
   {
    "duration": 13,
    "start_time": "2023-07-17T04:33:18.963Z"
   },
   {
    "duration": 45,
    "start_time": "2023-07-17T04:33:18.978Z"
   },
   {
    "duration": 33,
    "start_time": "2023-07-17T04:33:19.025Z"
   },
   {
    "duration": 2204,
    "start_time": "2023-07-17T04:33:43.243Z"
   },
   {
    "duration": 2130,
    "start_time": "2023-07-17T04:33:45.450Z"
   },
   {
    "duration": 1866,
    "start_time": "2023-07-17T04:33:47.582Z"
   },
   {
    "duration": 9,
    "start_time": "2023-07-17T04:33:49.451Z"
   },
   {
    "duration": 3174,
    "start_time": "2023-07-17T04:33:49.462Z"
   },
   {
    "duration": 17,
    "start_time": "2023-07-17T04:33:52.638Z"
   },
   {
    "duration": 138,
    "start_time": "2023-07-17T04:33:52.657Z"
   },
   {
    "duration": 65,
    "start_time": "2023-07-17T04:33:52.797Z"
   },
   {
    "duration": 121,
    "start_time": "2023-07-17T04:33:52.864Z"
   },
   {
    "duration": 252,
    "start_time": "2023-07-17T04:33:52.988Z"
   },
   {
    "duration": 23171,
    "start_time": "2023-07-17T04:33:53.242Z"
   },
   {
    "duration": 17,
    "start_time": "2023-07-17T04:34:16.415Z"
   },
   {
    "duration": 62,
    "start_time": "2023-07-17T04:34:16.433Z"
   },
   {
    "duration": 22935,
    "start_time": "2023-07-17T04:34:16.497Z"
   },
   {
    "duration": 16,
    "start_time": "2023-07-17T04:34:39.434Z"
   },
   {
    "duration": 75,
    "start_time": "2023-07-17T04:34:39.452Z"
   },
   {
    "duration": 23022,
    "start_time": "2023-07-17T04:34:39.529Z"
   },
   {
    "duration": 15,
    "start_time": "2023-07-17T04:35:02.553Z"
   },
   {
    "duration": 101,
    "start_time": "2023-07-17T04:35:02.570Z"
   },
   {
    "duration": 33,
    "start_time": "2023-07-17T04:35:02.673Z"
   },
   {
    "duration": 53,
    "start_time": "2023-07-17T04:35:02.712Z"
   },
   {
    "duration": 51,
    "start_time": "2023-07-17T04:35:02.768Z"
   },
   {
    "duration": 97,
    "start_time": "2023-07-17T04:35:02.821Z"
   },
   {
    "duration": 109,
    "start_time": "2023-07-17T04:35:02.920Z"
   },
   {
    "duration": 59,
    "start_time": "2023-07-17T04:35:03.031Z"
   },
   {
    "duration": 434,
    "start_time": "2023-07-17T04:35:03.091Z"
   },
   {
    "duration": 446,
    "start_time": "2023-07-17T04:35:03.527Z"
   },
   {
    "duration": 299,
    "start_time": "2023-07-17T04:35:03.976Z"
   },
   {
    "duration": 400,
    "start_time": "2023-07-17T04:35:04.277Z"
   },
   {
    "duration": 283,
    "start_time": "2023-07-17T04:35:04.679Z"
   },
   {
    "duration": 418,
    "start_time": "2023-07-17T04:35:04.964Z"
   },
   {
    "duration": 192,
    "start_time": "2023-07-17T04:35:05.384Z"
   },
   {
    "duration": 86,
    "start_time": "2023-07-17T04:35:05.578Z"
   },
   {
    "duration": 180,
    "start_time": "2023-07-17T04:35:05.666Z"
   },
   {
    "duration": 44,
    "start_time": "2023-07-17T04:35:05.848Z"
   },
   {
    "duration": 62,
    "start_time": "2023-07-17T04:35:05.893Z"
   },
   {
    "duration": 14,
    "start_time": "2023-07-17T04:35:05.957Z"
   },
   {
    "duration": 37,
    "start_time": "2023-07-17T04:35:05.973Z"
   },
   {
    "duration": 18,
    "start_time": "2023-07-17T04:35:06.012Z"
   },
   {
    "duration": 52,
    "start_time": "2023-07-17T04:38:14.897Z"
   },
   {
    "duration": 2489,
    "start_time": "2023-07-17T04:40:28.445Z"
   },
   {
    "duration": 90,
    "start_time": "2023-07-17T04:40:40.446Z"
   },
   {
    "duration": 2281,
    "start_time": "2023-07-17T04:41:11.419Z"
   },
   {
    "duration": 2200,
    "start_time": "2023-07-17T04:41:13.703Z"
   },
   {
    "duration": 1436,
    "start_time": "2023-07-17T04:41:15.905Z"
   },
   {
    "duration": 11,
    "start_time": "2023-07-17T04:41:17.344Z"
   },
   {
    "duration": 3278,
    "start_time": "2023-07-17T04:41:17.357Z"
   },
   {
    "duration": 17,
    "start_time": "2023-07-17T04:41:20.637Z"
   },
   {
    "duration": 145,
    "start_time": "2023-07-17T04:41:20.656Z"
   },
   {
    "duration": 62,
    "start_time": "2023-07-17T04:41:20.802Z"
   },
   {
    "duration": 115,
    "start_time": "2023-07-17T04:41:20.866Z"
   },
   {
    "duration": 341,
    "start_time": "2023-07-17T04:41:20.984Z"
   },
   {
    "duration": 24893,
    "start_time": "2023-07-17T04:41:21.327Z"
   },
   {
    "duration": 17,
    "start_time": "2023-07-17T04:41:46.222Z"
   },
   {
    "duration": 61,
    "start_time": "2023-07-17T04:41:46.241Z"
   },
   {
    "duration": 23062,
    "start_time": "2023-07-17T04:41:46.304Z"
   },
   {
    "duration": 17,
    "start_time": "2023-07-17T04:42:09.368Z"
   },
   {
    "duration": 116,
    "start_time": "2023-07-17T04:42:09.388Z"
   },
   {
    "duration": 23008,
    "start_time": "2023-07-17T04:42:09.506Z"
   },
   {
    "duration": 18,
    "start_time": "2023-07-17T04:42:32.517Z"
   },
   {
    "duration": 88,
    "start_time": "2023-07-17T04:42:32.537Z"
   },
   {
    "duration": 35,
    "start_time": "2023-07-17T04:42:32.627Z"
   },
   {
    "duration": 33,
    "start_time": "2023-07-17T04:42:32.664Z"
   },
   {
    "duration": 37,
    "start_time": "2023-07-17T04:42:32.713Z"
   },
   {
    "duration": 161,
    "start_time": "2023-07-17T04:42:32.752Z"
   },
   {
    "duration": 106,
    "start_time": "2023-07-17T04:42:32.915Z"
   },
   {
    "duration": 55,
    "start_time": "2023-07-17T04:42:33.023Z"
   },
   {
    "duration": 433,
    "start_time": "2023-07-17T04:42:33.080Z"
   },
   {
    "duration": 467,
    "start_time": "2023-07-17T04:42:33.515Z"
   },
   {
    "duration": 295,
    "start_time": "2023-07-17T04:42:33.985Z"
   },
   {
    "duration": 426,
    "start_time": "2023-07-17T04:42:34.282Z"
   },
   {
    "duration": 290,
    "start_time": "2023-07-17T04:42:34.713Z"
   },
   {
    "duration": 410,
    "start_time": "2023-07-17T04:42:35.005Z"
   },
   {
    "duration": 200,
    "start_time": "2023-07-17T04:42:35.417Z"
   },
   {
    "duration": 74,
    "start_time": "2023-07-17T04:42:35.620Z"
   },
   {
    "duration": 38,
    "start_time": "2023-07-17T04:42:35.696Z"
   },
   {
    "duration": 44,
    "start_time": "2023-07-17T04:42:35.736Z"
   },
   {
    "duration": 64,
    "start_time": "2023-07-17T04:42:35.781Z"
   },
   {
    "duration": 131,
    "start_time": "2023-07-17T04:42:35.846Z"
   },
   {
    "duration": 34,
    "start_time": "2023-07-17T04:42:35.979Z"
   },
   {
    "duration": 8,
    "start_time": "2023-07-17T04:42:52.643Z"
   },
   {
    "duration": 514,
    "start_time": "2023-07-17T04:42:54.787Z"
   },
   {
    "duration": 37357,
    "start_time": "2023-07-17T04:43:13.269Z"
   },
   {
    "duration": 12,
    "start_time": "2023-07-17T04:43:56.691Z"
   },
   {
    "duration": 13,
    "start_time": "2023-07-17T04:44:09.146Z"
   },
   {
    "duration": 2754,
    "start_time": "2023-07-17T04:44:23.906Z"
   },
   {
    "duration": 2540,
    "start_time": "2023-07-17T04:44:58.602Z"
   },
   {
    "duration": 9,
    "start_time": "2023-07-17T04:48:20.716Z"
   },
   {
    "duration": 2179,
    "start_time": "2023-07-17T04:48:48.358Z"
   },
   {
    "duration": 14,
    "start_time": "2023-07-17T04:48:57.896Z"
   },
   {
    "duration": 10,
    "start_time": "2023-07-17T04:49:20.154Z"
   },
   {
    "duration": 12,
    "start_time": "2023-07-17T04:49:32.522Z"
   },
   {
    "duration": 4,
    "start_time": "2023-07-17T04:49:47.253Z"
   },
   {
    "duration": 3,
    "start_time": "2023-07-17T04:49:54.110Z"
   },
   {
    "duration": 25,
    "start_time": "2023-07-17T04:50:29.488Z"
   },
   {
    "duration": 26,
    "start_time": "2023-07-17T04:52:21.363Z"
   },
   {
    "duration": 5,
    "start_time": "2023-07-17T04:58:44.264Z"
   },
   {
    "duration": 6,
    "start_time": "2023-07-17T04:59:10.202Z"
   },
   {
    "duration": 19,
    "start_time": "2023-07-17T04:59:20.237Z"
   },
   {
    "duration": 66,
    "start_time": "2023-07-17T08:51:28.286Z"
   },
   {
    "duration": 7347,
    "start_time": "2023-07-17T08:51:42.495Z"
   },
   {
    "duration": 2267,
    "start_time": "2023-07-17T08:51:49.846Z"
   },
   {
    "duration": 51,
    "start_time": "2023-07-17T08:51:52.115Z"
   },
   {
    "duration": 0,
    "start_time": "2023-07-17T08:51:52.169Z"
   },
   {
    "duration": 0,
    "start_time": "2023-07-17T08:51:52.171Z"
   },
   {
    "duration": 0,
    "start_time": "2023-07-17T08:51:52.172Z"
   },
   {
    "duration": 0,
    "start_time": "2023-07-17T08:51:52.173Z"
   },
   {
    "duration": 0,
    "start_time": "2023-07-17T08:51:52.174Z"
   },
   {
    "duration": 0,
    "start_time": "2023-07-17T08:51:52.175Z"
   },
   {
    "duration": 0,
    "start_time": "2023-07-17T08:51:52.176Z"
   },
   {
    "duration": 0,
    "start_time": "2023-07-17T08:51:52.177Z"
   },
   {
    "duration": 0,
    "start_time": "2023-07-17T08:51:52.178Z"
   },
   {
    "duration": 0,
    "start_time": "2023-07-17T08:51:52.180Z"
   },
   {
    "duration": 0,
    "start_time": "2023-07-17T08:51:52.181Z"
   },
   {
    "duration": 0,
    "start_time": "2023-07-17T08:51:52.182Z"
   },
   {
    "duration": 0,
    "start_time": "2023-07-17T08:51:52.183Z"
   },
   {
    "duration": 0,
    "start_time": "2023-07-17T08:51:52.184Z"
   },
   {
    "duration": 0,
    "start_time": "2023-07-17T08:51:52.185Z"
   },
   {
    "duration": 0,
    "start_time": "2023-07-17T08:51:52.186Z"
   },
   {
    "duration": 0,
    "start_time": "2023-07-17T08:51:52.187Z"
   },
   {
    "duration": 1,
    "start_time": "2023-07-17T08:51:52.188Z"
   },
   {
    "duration": 0,
    "start_time": "2023-07-17T08:51:52.190Z"
   },
   {
    "duration": 0,
    "start_time": "2023-07-17T08:51:52.191Z"
   },
   {
    "duration": 0,
    "start_time": "2023-07-17T08:51:52.192Z"
   },
   {
    "duration": 0,
    "start_time": "2023-07-17T08:51:52.193Z"
   },
   {
    "duration": 0,
    "start_time": "2023-07-17T08:51:52.194Z"
   },
   {
    "duration": 0,
    "start_time": "2023-07-17T08:51:52.196Z"
   },
   {
    "duration": 0,
    "start_time": "2023-07-17T08:51:52.197Z"
   },
   {
    "duration": 0,
    "start_time": "2023-07-17T08:51:52.252Z"
   },
   {
    "duration": 0,
    "start_time": "2023-07-17T08:51:52.254Z"
   },
   {
    "duration": 0,
    "start_time": "2023-07-17T08:51:52.255Z"
   },
   {
    "duration": 0,
    "start_time": "2023-07-17T08:51:52.256Z"
   },
   {
    "duration": 0,
    "start_time": "2023-07-17T08:51:52.256Z"
   },
   {
    "duration": 0,
    "start_time": "2023-07-17T08:51:52.258Z"
   },
   {
    "duration": 0,
    "start_time": "2023-07-17T08:51:52.259Z"
   },
   {
    "duration": 0,
    "start_time": "2023-07-17T08:51:52.260Z"
   },
   {
    "duration": 0,
    "start_time": "2023-07-17T08:51:52.261Z"
   },
   {
    "duration": 0,
    "start_time": "2023-07-17T08:51:52.262Z"
   },
   {
    "duration": 0,
    "start_time": "2023-07-17T08:51:52.263Z"
   },
   {
    "duration": 0,
    "start_time": "2023-07-17T08:51:52.264Z"
   },
   {
    "duration": 0,
    "start_time": "2023-07-17T08:51:52.265Z"
   },
   {
    "duration": 0,
    "start_time": "2023-07-17T08:51:52.266Z"
   },
   {
    "duration": 0,
    "start_time": "2023-07-17T08:51:52.268Z"
   },
   {
    "duration": 0,
    "start_time": "2023-07-17T08:51:52.269Z"
   },
   {
    "duration": 0,
    "start_time": "2023-07-17T08:51:52.270Z"
   },
   {
    "duration": 0,
    "start_time": "2023-07-17T08:51:52.272Z"
   },
   {
    "duration": 0,
    "start_time": "2023-07-17T08:51:52.274Z"
   },
   {
    "duration": 0,
    "start_time": "2023-07-17T08:51:52.275Z"
   },
   {
    "duration": 2339,
    "start_time": "2023-07-17T08:52:50.315Z"
   },
   {
    "duration": 2535,
    "start_time": "2023-07-17T08:52:52.656Z"
   },
   {
    "duration": 1590,
    "start_time": "2023-07-17T08:52:55.194Z"
   },
   {
    "duration": 10,
    "start_time": "2023-07-17T08:52:56.786Z"
   },
   {
    "duration": 1294,
    "start_time": "2023-07-17T08:52:56.798Z"
   },
   {
    "duration": 20,
    "start_time": "2023-07-17T08:52:58.094Z"
   },
   {
    "duration": 144,
    "start_time": "2023-07-17T08:52:58.115Z"
   },
   {
    "duration": 70,
    "start_time": "2023-07-17T08:52:58.263Z"
   },
   {
    "duration": 176,
    "start_time": "2023-07-17T08:52:58.336Z"
   },
   {
    "duration": 287,
    "start_time": "2023-07-17T08:52:58.514Z"
   },
   {
    "duration": 23149,
    "start_time": "2023-07-17T08:52:58.803Z"
   },
   {
    "duration": 16,
    "start_time": "2023-07-17T08:53:21.954Z"
   },
   {
    "duration": 59,
    "start_time": "2023-07-17T08:53:21.972Z"
   },
   {
    "duration": 23251,
    "start_time": "2023-07-17T08:53:22.035Z"
   },
   {
    "duration": 18,
    "start_time": "2023-07-17T08:53:45.288Z"
   },
   {
    "duration": 244,
    "start_time": "2023-07-17T08:53:45.310Z"
   },
   {
    "duration": 23221,
    "start_time": "2023-07-17T08:53:45.556Z"
   },
   {
    "duration": 16,
    "start_time": "2023-07-17T08:54:08.779Z"
   },
   {
    "duration": 77,
    "start_time": "2023-07-17T08:54:08.797Z"
   },
   {
    "duration": 36,
    "start_time": "2023-07-17T08:54:08.875Z"
   },
   {
    "duration": 40,
    "start_time": "2023-07-17T08:54:08.913Z"
   },
   {
    "duration": 33,
    "start_time": "2023-07-17T08:54:08.955Z"
   },
   {
    "duration": 71,
    "start_time": "2023-07-17T08:54:08.989Z"
   },
   {
    "duration": 107,
    "start_time": "2023-07-17T08:54:09.062Z"
   },
   {
    "duration": 53,
    "start_time": "2023-07-17T08:54:09.172Z"
   },
   {
    "duration": 502,
    "start_time": "2023-07-17T08:54:09.227Z"
   },
   {
    "duration": 442,
    "start_time": "2023-07-17T08:54:09.731Z"
   },
   {
    "duration": 319,
    "start_time": "2023-07-17T08:54:10.175Z"
   },
   {
    "duration": 445,
    "start_time": "2023-07-17T08:54:10.496Z"
   },
   {
    "duration": 289,
    "start_time": "2023-07-17T08:54:10.942Z"
   },
   {
    "duration": 442,
    "start_time": "2023-07-17T08:54:11.232Z"
   },
   {
    "duration": 217,
    "start_time": "2023-07-17T08:54:11.676Z"
   },
   {
    "duration": 82,
    "start_time": "2023-07-17T08:54:11.895Z"
   },
   {
    "duration": 30,
    "start_time": "2023-07-17T08:54:11.978Z"
   },
   {
    "duration": 57,
    "start_time": "2023-07-17T08:54:12.010Z"
   },
   {
    "duration": 83,
    "start_time": "2023-07-17T08:54:12.069Z"
   },
   {
    "duration": 17,
    "start_time": "2023-07-17T08:54:12.154Z"
   },
   {
    "duration": 8,
    "start_time": "2023-07-17T08:54:12.172Z"
   },
   {
    "duration": 14,
    "start_time": "2023-07-17T08:54:12.182Z"
   },
   {
    "duration": 546,
    "start_time": "2023-07-17T08:54:12.198Z"
   },
   {
    "duration": 41025,
    "start_time": "2023-07-17T08:54:12.747Z"
   },
   {
    "duration": 13,
    "start_time": "2023-07-17T08:55:12.987Z"
   },
   {
    "duration": 12,
    "start_time": "2023-07-17T08:55:25.933Z"
   },
   {
    "duration": 11,
    "start_time": "2023-07-17T08:55:35.764Z"
   },
   {
    "duration": 22,
    "start_time": "2023-07-17T08:55:41.979Z"
   },
   {
    "duration": 368487,
    "start_time": "2023-07-17T08:55:48.070Z"
   },
   {
    "duration": 307523,
    "start_time": "2023-07-17T09:02:11.054Z"
   },
   {
    "duration": 2565,
    "start_time": "2023-07-17T09:23:11.633Z"
   },
   {
    "duration": 2596,
    "start_time": "2023-07-17T09:23:14.200Z"
   },
   {
    "duration": 1776,
    "start_time": "2023-07-17T09:23:16.799Z"
   },
   {
    "duration": 10,
    "start_time": "2023-07-17T09:23:18.577Z"
   },
   {
    "duration": 1191,
    "start_time": "2023-07-17T09:23:18.591Z"
   },
   {
    "duration": 19,
    "start_time": "2023-07-17T09:23:19.784Z"
   },
   {
    "duration": 142,
    "start_time": "2023-07-17T09:23:19.805Z"
   },
   {
    "duration": 71,
    "start_time": "2023-07-17T09:23:19.951Z"
   },
   {
    "duration": 178,
    "start_time": "2023-07-17T09:23:20.025Z"
   },
   {
    "duration": 335,
    "start_time": "2023-07-17T09:23:20.205Z"
   },
   {
    "duration": 23816,
    "start_time": "2023-07-17T09:23:20.542Z"
   },
   {
    "duration": 16,
    "start_time": "2023-07-17T09:23:44.360Z"
   },
   {
    "duration": 54,
    "start_time": "2023-07-17T09:23:44.378Z"
   },
   {
    "duration": 24682,
    "start_time": "2023-07-17T09:23:44.437Z"
   },
   {
    "duration": 19,
    "start_time": "2023-07-17T09:24:09.121Z"
   },
   {
    "duration": 77,
    "start_time": "2023-07-17T09:24:09.152Z"
   },
   {
    "duration": 23491,
    "start_time": "2023-07-17T09:24:09.231Z"
   },
   {
    "duration": 18,
    "start_time": "2023-07-17T09:24:32.724Z"
   },
   {
    "duration": 101,
    "start_time": "2023-07-17T09:24:32.752Z"
   },
   {
    "duration": 34,
    "start_time": "2023-07-17T09:24:32.856Z"
   },
   {
    "duration": 23,
    "start_time": "2023-07-17T09:24:32.892Z"
   },
   {
    "duration": 53,
    "start_time": "2023-07-17T09:24:32.917Z"
   },
   {
    "duration": 128,
    "start_time": "2023-07-17T09:24:32.972Z"
   },
   {
    "duration": 129,
    "start_time": "2023-07-17T09:24:33.103Z"
   },
   {
    "duration": 63,
    "start_time": "2023-07-17T09:24:33.234Z"
   },
   {
    "duration": 460,
    "start_time": "2023-07-17T09:24:33.299Z"
   },
   {
    "duration": 459,
    "start_time": "2023-07-17T09:24:33.762Z"
   },
   {
    "duration": 303,
    "start_time": "2023-07-17T09:24:34.223Z"
   },
   {
    "duration": 467,
    "start_time": "2023-07-17T09:24:34.529Z"
   },
   {
    "duration": 294,
    "start_time": "2023-07-17T09:24:34.998Z"
   },
   {
    "duration": 508,
    "start_time": "2023-07-17T09:24:35.294Z"
   },
   {
    "duration": 221,
    "start_time": "2023-07-17T09:24:35.804Z"
   },
   {
    "duration": 85,
    "start_time": "2023-07-17T09:24:36.028Z"
   },
   {
    "duration": 38,
    "start_time": "2023-07-17T09:24:36.115Z"
   },
   {
    "duration": 34,
    "start_time": "2023-07-17T09:24:36.155Z"
   },
   {
    "duration": 90,
    "start_time": "2023-07-17T09:24:36.191Z"
   },
   {
    "duration": 17,
    "start_time": "2023-07-17T09:24:36.283Z"
   },
   {
    "duration": 9,
    "start_time": "2023-07-17T09:24:36.302Z"
   },
   {
    "duration": 39,
    "start_time": "2023-07-17T09:24:36.313Z"
   },
   {
    "duration": 577,
    "start_time": "2023-07-17T09:24:36.354Z"
   },
   {
    "duration": 53154,
    "start_time": "2023-07-17T09:24:44.120Z"
   },
   {
    "duration": 206,
    "start_time": "2023-07-17T09:27:54.006Z"
   },
   {
    "duration": 18,
    "start_time": "2023-07-17T09:28:30.154Z"
   },
   {
    "duration": 187861,
    "start_time": "2023-07-17T09:30:33.459Z"
   },
   {
    "duration": 2297814,
    "start_time": "2023-07-17T09:33:52.175Z"
   },
   {
    "duration": 13,
    "start_time": "2023-07-17T10:12:09.991Z"
   },
   {
    "duration": 24,
    "start_time": "2023-07-17T10:12:10.006Z"
   },
   {
    "duration": 28,
    "start_time": "2023-07-17T10:12:10.032Z"
   },
   {
    "duration": 426098,
    "start_time": "2023-07-17T10:12:10.062Z"
   },
   {
    "duration": 3,
    "start_time": "2023-07-17T10:30:16.907Z"
   },
   {
    "duration": 214,
    "start_time": "2023-07-17T10:35:09.974Z"
   },
   {
    "duration": 305,
    "start_time": "2023-07-17T10:35:47.508Z"
   },
   {
    "duration": 9,
    "start_time": "2023-07-17T10:35:53.580Z"
   },
   {
    "duration": 12,
    "start_time": "2023-07-17T10:37:24.038Z"
   },
   {
    "duration": 3872,
    "start_time": "2023-07-17T10:42:44.961Z"
   },
   {
    "duration": 71,
    "start_time": "2023-07-17T10:43:27.767Z"
   },
   {
    "duration": 73,
    "start_time": "2023-07-17T11:35:58.457Z"
   },
   {
    "duration": 2434,
    "start_time": "2023-07-17T11:36:20.780Z"
   },
   {
    "duration": 2475,
    "start_time": "2023-07-17T11:36:23.218Z"
   },
   {
    "duration": 1528,
    "start_time": "2023-07-17T11:36:25.696Z"
   },
   {
    "duration": 10,
    "start_time": "2023-07-17T11:36:27.226Z"
   },
   {
    "duration": 1285,
    "start_time": "2023-07-17T11:36:27.239Z"
   },
   {
    "duration": 34,
    "start_time": "2023-07-17T11:36:28.526Z"
   },
   {
    "duration": 145,
    "start_time": "2023-07-17T11:36:28.562Z"
   },
   {
    "duration": 79,
    "start_time": "2023-07-17T11:36:28.710Z"
   },
   {
    "duration": 126,
    "start_time": "2023-07-17T11:36:28.791Z"
   },
   {
    "duration": 307,
    "start_time": "2023-07-17T11:36:28.920Z"
   },
   {
    "duration": 24830,
    "start_time": "2023-07-17T11:36:29.229Z"
   },
   {
    "duration": 17,
    "start_time": "2023-07-17T11:36:54.061Z"
   },
   {
    "duration": 81,
    "start_time": "2023-07-17T11:36:54.079Z"
   },
   {
    "duration": 23974,
    "start_time": "2023-07-17T11:36:54.164Z"
   },
   {
    "duration": 22,
    "start_time": "2023-07-17T11:37:18.140Z"
   },
   {
    "duration": 86,
    "start_time": "2023-07-17T11:37:18.167Z"
   },
   {
    "duration": 24946,
    "start_time": "2023-07-17T11:37:18.255Z"
   },
   {
    "duration": 16,
    "start_time": "2023-07-17T11:37:43.204Z"
   },
   {
    "duration": 81,
    "start_time": "2023-07-17T11:37:43.222Z"
   },
   {
    "duration": 65,
    "start_time": "2023-07-17T11:37:43.305Z"
   },
   {
    "duration": 38,
    "start_time": "2023-07-17T11:37:43.372Z"
   },
   {
    "duration": 24,
    "start_time": "2023-07-17T11:37:43.412Z"
   },
   {
    "duration": 82,
    "start_time": "2023-07-17T11:37:43.453Z"
   },
   {
    "duration": 121,
    "start_time": "2023-07-17T11:37:43.537Z"
   },
   {
    "duration": 159,
    "start_time": "2023-07-17T11:37:43.659Z"
   },
   {
    "duration": 431,
    "start_time": "2023-07-17T11:37:43.820Z"
   },
   {
    "duration": 478,
    "start_time": "2023-07-17T11:37:44.252Z"
   },
   {
    "duration": 347,
    "start_time": "2023-07-17T11:37:44.733Z"
   },
   {
    "duration": 469,
    "start_time": "2023-07-17T11:37:45.083Z"
   },
   {
    "duration": 283,
    "start_time": "2023-07-17T11:37:45.553Z"
   },
   {
    "duration": 490,
    "start_time": "2023-07-17T11:37:45.838Z"
   },
   {
    "duration": 243,
    "start_time": "2023-07-17T11:37:46.330Z"
   },
   {
    "duration": 88,
    "start_time": "2023-07-17T11:37:46.575Z"
   },
   {
    "duration": 34,
    "start_time": "2023-07-17T11:37:46.665Z"
   },
   {
    "duration": 60,
    "start_time": "2023-07-17T11:37:46.700Z"
   },
   {
    "duration": 72,
    "start_time": "2023-07-17T11:37:46.762Z"
   },
   {
    "duration": 36,
    "start_time": "2023-07-17T11:37:46.836Z"
   },
   {
    "duration": 13,
    "start_time": "2023-07-17T11:37:46.874Z"
   },
   {
    "duration": 43,
    "start_time": "2023-07-17T11:37:46.889Z"
   },
   {
    "duration": 534,
    "start_time": "2023-07-17T11:38:51.286Z"
   },
   {
    "duration": 52995,
    "start_time": "2023-07-17T11:41:01.382Z"
   },
   {
    "duration": 11,
    "start_time": "2023-07-17T11:42:13.911Z"
   },
   {
    "duration": 23,
    "start_time": "2023-07-17T11:42:15.215Z"
   },
   {
    "duration": 2008023,
    "start_time": "2023-07-17T11:42:17.452Z"
   },
   {
    "duration": 218,
    "start_time": "2023-07-17T12:38:30.460Z"
   },
   {
    "duration": 9,
    "start_time": "2023-07-17T12:38:34.411Z"
   },
   {
    "duration": 70,
    "start_time": "2023-07-17T12:38:36.069Z"
   },
   {
    "duration": 857,
    "start_time": "2023-07-17T12:38:38.620Z"
   },
   {
    "duration": 8646,
    "start_time": "2023-07-17T16:39:00.162Z"
   },
   {
    "duration": 1971,
    "start_time": "2023-07-17T16:39:08.811Z"
   },
   {
    "duration": 1427,
    "start_time": "2023-07-17T16:39:10.784Z"
   },
   {
    "duration": 9,
    "start_time": "2023-07-17T16:39:12.214Z"
   },
   {
    "duration": 1188,
    "start_time": "2023-07-17T16:39:12.225Z"
   },
   {
    "duration": 17,
    "start_time": "2023-07-17T16:39:13.415Z"
   },
   {
    "duration": 544,
    "start_time": "2023-07-17T16:39:13.433Z"
   },
   {
    "duration": 247,
    "start_time": "2023-07-17T16:39:13.978Z"
   },
   {
    "duration": 919,
    "start_time": "2023-07-17T16:39:14.227Z"
   },
   {
    "duration": 764,
    "start_time": "2023-07-17T16:39:15.148Z"
   },
   {
    "duration": 22071,
    "start_time": "2023-07-17T16:39:15.914Z"
   },
   {
    "duration": 15,
    "start_time": "2023-07-17T16:39:37.987Z"
   },
   {
    "duration": 64,
    "start_time": "2023-07-17T16:39:38.004Z"
   },
   {
    "duration": 22048,
    "start_time": "2023-07-17T16:39:38.071Z"
   },
   {
    "duration": 18,
    "start_time": "2023-07-17T16:40:00.121Z"
   },
   {
    "duration": 82,
    "start_time": "2023-07-17T16:40:00.152Z"
   },
   {
    "duration": 21645,
    "start_time": "2023-07-17T16:40:00.235Z"
   },
   {
    "duration": 15,
    "start_time": "2023-07-17T16:40:21.882Z"
   },
   {
    "duration": 83,
    "start_time": "2023-07-17T16:40:21.899Z"
   },
   {
    "duration": 31,
    "start_time": "2023-07-17T16:40:21.984Z"
   },
   {
    "duration": 21,
    "start_time": "2023-07-17T16:40:22.017Z"
   },
   {
    "duration": 21,
    "start_time": "2023-07-17T16:40:22.053Z"
   },
   {
    "duration": 101,
    "start_time": "2023-07-17T16:40:22.076Z"
   },
   {
    "duration": 100,
    "start_time": "2023-07-17T16:40:22.179Z"
   },
   {
    "duration": 47,
    "start_time": "2023-07-17T16:40:22.281Z"
   },
   {
    "duration": 417,
    "start_time": "2023-07-17T16:40:22.330Z"
   },
   {
    "duration": 399,
    "start_time": "2023-07-17T16:40:22.749Z"
   },
   {
    "duration": 280,
    "start_time": "2023-07-17T16:40:23.151Z"
   },
   {
    "duration": 420,
    "start_time": "2023-07-17T16:40:23.433Z"
   },
   {
    "duration": 293,
    "start_time": "2023-07-17T16:40:23.855Z"
   },
   {
    "duration": 405,
    "start_time": "2023-07-17T16:40:24.151Z"
   },
   {
    "duration": 220,
    "start_time": "2023-07-17T16:40:24.557Z"
   },
   {
    "duration": 76,
    "start_time": "2023-07-17T16:40:24.779Z"
   },
   {
    "duration": 38,
    "start_time": "2023-07-17T16:40:24.857Z"
   },
   {
    "duration": 37,
    "start_time": "2023-07-17T16:40:24.897Z"
   },
   {
    "duration": 82,
    "start_time": "2023-07-17T16:40:24.936Z"
   },
   {
    "duration": 15,
    "start_time": "2023-07-17T16:40:25.019Z"
   },
   {
    "duration": 23,
    "start_time": "2023-07-17T16:40:25.035Z"
   },
   {
    "duration": 35,
    "start_time": "2023-07-17T16:40:25.061Z"
   },
   {
    "duration": 528,
    "start_time": "2023-07-17T16:40:25.098Z"
   },
   {
    "duration": 42735,
    "start_time": "2023-07-17T16:40:25.631Z"
   },
   {
    "duration": 13,
    "start_time": "2023-07-17T16:41:08.368Z"
   },
   {
    "duration": 2073012,
    "start_time": "2023-07-17T16:41:08.383Z"
   },
   {
    "duration": 13,
    "start_time": "2023-07-17T17:15:41.397Z"
   },
   {
    "duration": 17,
    "start_time": "2023-07-17T17:15:41.412Z"
   },
   {
    "duration": 41,
    "start_time": "2023-07-17T17:15:41.431Z"
   },
   {
    "duration": 2103614,
    "start_time": "2023-07-17T17:15:41.474Z"
   },
   {
    "duration": 9,
    "start_time": "2023-07-17T17:50:45.309Z"
   },
   {
    "duration": 118,
    "start_time": "2023-07-17T17:50:45.321Z"
   },
   {
    "duration": 913,
    "start_time": "2023-07-17T17:50:45.440Z"
   },
   {
    "duration": 28,
    "start_time": "2023-07-17T17:50:46.364Z"
   },
   {
    "duration": 8291,
    "start_time": "2023-07-18T08:29:04.237Z"
   },
   {
    "duration": 2514,
    "start_time": "2023-07-18T08:29:12.531Z"
   },
   {
    "duration": 19,
    "start_time": "2023-07-18T08:29:50.743Z"
   },
   {
    "duration": 70,
    "start_time": "2023-07-18T08:29:53.906Z"
   },
   {
    "duration": 2745,
    "start_time": "2023-07-18T08:30:13.649Z"
   },
   {
    "duration": 2573,
    "start_time": "2023-07-18T08:30:16.397Z"
   },
   {
    "duration": 1517,
    "start_time": "2023-07-18T08:30:20.958Z"
   },
   {
    "duration": 10,
    "start_time": "2023-07-18T08:30:22.482Z"
   },
   {
    "duration": 1481,
    "start_time": "2023-07-18T08:30:27.263Z"
   },
   {
    "duration": 15,
    "start_time": "2023-07-18T08:30:32.015Z"
   },
   {
    "duration": 197,
    "start_time": "2023-07-18T08:30:33.449Z"
   },
   {
    "duration": 62,
    "start_time": "2023-07-18T08:30:40.748Z"
   },
   {
    "duration": 182,
    "start_time": "2023-07-18T08:30:43.850Z"
   },
   {
    "duration": 287,
    "start_time": "2023-07-18T08:30:54.047Z"
   },
   {
    "duration": 25041,
    "start_time": "2023-07-18T08:32:15.580Z"
   },
   {
    "duration": 45,
    "start_time": "2023-07-18T08:32:49.426Z"
   },
   {
    "duration": 59,
    "start_time": "2023-07-18T08:32:51.293Z"
   },
   {
    "duration": 26204,
    "start_time": "2023-07-18T08:32:51.572Z"
   },
   {
    "duration": 21,
    "start_time": "2023-07-18T08:33:17.790Z"
   },
   {
    "duration": 159,
    "start_time": "2023-07-18T08:33:17.812Z"
   },
   {
    "duration": 25724,
    "start_time": "2023-07-18T08:33:17.983Z"
   },
   {
    "duration": 14,
    "start_time": "2023-07-18T08:33:43.709Z"
   },
   {
    "duration": 129,
    "start_time": "2023-07-18T08:33:43.737Z"
   },
   {
    "duration": 39,
    "start_time": "2023-07-18T08:33:43.872Z"
   },
   {
    "duration": 29,
    "start_time": "2023-07-18T08:33:43.912Z"
   },
   {
    "duration": 71,
    "start_time": "2023-07-18T08:33:43.943Z"
   },
   {
    "duration": 77,
    "start_time": "2023-07-18T08:33:44.015Z"
   },
   {
    "duration": 226,
    "start_time": "2023-07-18T08:33:44.094Z"
   },
   {
    "duration": 94,
    "start_time": "2023-07-18T08:33:44.322Z"
   },
   {
    "duration": 500,
    "start_time": "2023-07-18T08:33:44.418Z"
   },
   {
    "duration": 560,
    "start_time": "2023-07-18T08:33:44.920Z"
   },
   {
    "duration": 336,
    "start_time": "2023-07-18T08:33:45.482Z"
   },
   {
    "duration": 10354,
    "start_time": "2023-07-19T06:27:22.348Z"
   },
   {
    "duration": 1986,
    "start_time": "2023-07-19T06:27:32.705Z"
   },
   {
    "duration": 1366,
    "start_time": "2023-07-19T06:27:34.693Z"
   },
   {
    "duration": 9,
    "start_time": "2023-07-19T06:27:36.061Z"
   },
   {
    "duration": 1060,
    "start_time": "2023-07-19T06:27:36.073Z"
   },
   {
    "duration": 16,
    "start_time": "2023-07-19T06:27:37.135Z"
   },
   {
    "duration": 158,
    "start_time": "2023-07-19T06:27:37.153Z"
   },
   {
    "duration": 56,
    "start_time": "2023-07-19T06:27:37.312Z"
   },
   {
    "duration": 115,
    "start_time": "2023-07-19T06:27:37.369Z"
   },
   {
    "duration": 227,
    "start_time": "2023-07-19T06:27:37.486Z"
   },
   {
    "duration": 22231,
    "start_time": "2023-07-19T06:27:37.715Z"
   },
   {
    "duration": 14,
    "start_time": "2023-07-19T06:27:59.948Z"
   },
   {
    "duration": 60,
    "start_time": "2023-07-19T06:27:59.964Z"
   },
   {
    "duration": 22869,
    "start_time": "2023-07-19T06:28:00.026Z"
   },
   {
    "duration": 24,
    "start_time": "2023-07-19T06:28:22.897Z"
   },
   {
    "duration": 56,
    "start_time": "2023-07-19T06:28:22.922Z"
   },
   {
    "duration": 23814,
    "start_time": "2023-07-19T06:28:22.980Z"
   },
   {
    "duration": 14,
    "start_time": "2023-07-19T06:28:46.796Z"
   },
   {
    "duration": 66,
    "start_time": "2023-07-19T06:28:46.823Z"
   },
   {
    "duration": 51,
    "start_time": "2023-07-19T06:28:46.890Z"
   },
   {
    "duration": 22,
    "start_time": "2023-07-19T06:28:46.943Z"
   },
   {
    "duration": 46,
    "start_time": "2023-07-19T06:28:46.966Z"
   },
   {
    "duration": 65,
    "start_time": "2023-07-19T06:28:47.014Z"
   },
   {
    "duration": 132,
    "start_time": "2023-07-19T06:28:47.081Z"
   },
   {
    "duration": 55,
    "start_time": "2023-07-19T06:28:47.220Z"
   },
   {
    "duration": 503,
    "start_time": "2023-07-19T06:28:56.604Z"
   },
   {
    "duration": 370,
    "start_time": "2023-07-19T06:29:25.892Z"
   },
   {
    "duration": 419,
    "start_time": "2023-07-19T06:32:33.692Z"
   },
   {
    "duration": 398,
    "start_time": "2023-07-19T06:32:55.085Z"
   },
   {
    "duration": 723,
    "start_time": "2023-07-19T06:33:06.769Z"
   },
   {
    "duration": 298,
    "start_time": "2023-07-19T06:41:07.406Z"
   },
   {
    "duration": 666,
    "start_time": "2023-07-19T06:41:13.596Z"
   },
   {
    "duration": 803,
    "start_time": "2023-07-19T06:41:19.255Z"
   },
   {
    "duration": 369,
    "start_time": "2023-07-19T06:41:26.257Z"
   },
   {
    "duration": 161,
    "start_time": "2023-07-19T06:41:36.357Z"
   },
   {
    "duration": 172,
    "start_time": "2023-07-19T06:41:47.204Z"
   },
   {
    "duration": 481,
    "start_time": "2023-07-19T06:43:52.200Z"
   },
   {
    "duration": 367,
    "start_time": "2023-07-19T06:43:56.556Z"
   },
   {
    "duration": 358,
    "start_time": "2023-07-19T06:44:14.499Z"
   },
   {
    "duration": 362,
    "start_time": "2023-07-19T06:44:27.857Z"
   },
   {
    "duration": 357,
    "start_time": "2023-07-19T06:44:41.116Z"
   },
   {
    "duration": 174,
    "start_time": "2023-07-19T06:46:28.171Z"
   },
   {
    "duration": 2125,
    "start_time": "2023-07-19T09:28:30.956Z"
   },
   {
    "duration": 2065,
    "start_time": "2023-07-19T09:28:33.083Z"
   },
   {
    "duration": 1214,
    "start_time": "2023-07-19T09:28:35.150Z"
   },
   {
    "duration": 8,
    "start_time": "2023-07-19T09:28:36.367Z"
   },
   {
    "duration": 938,
    "start_time": "2023-07-19T09:28:36.376Z"
   },
   {
    "duration": 25,
    "start_time": "2023-07-19T09:28:37.315Z"
   },
   {
    "duration": 170,
    "start_time": "2023-07-19T09:28:37.342Z"
   },
   {
    "duration": 83,
    "start_time": "2023-07-19T09:28:37.514Z"
   },
   {
    "duration": 154,
    "start_time": "2023-07-19T09:28:37.600Z"
   },
   {
    "duration": 259,
    "start_time": "2023-07-19T09:28:37.756Z"
   },
   {
    "duration": 23594,
    "start_time": "2023-07-19T09:28:38.016Z"
   },
   {
    "duration": 29,
    "start_time": "2023-07-19T09:29:01.611Z"
   },
   {
    "duration": 127,
    "start_time": "2023-07-19T09:29:01.641Z"
   },
   {
    "duration": 23249,
    "start_time": "2023-07-19T09:29:01.770Z"
   },
   {
    "duration": 16,
    "start_time": "2023-07-19T09:29:25.034Z"
   },
   {
    "duration": 63,
    "start_time": "2023-07-19T09:29:25.051Z"
   },
   {
    "duration": 23348,
    "start_time": "2023-07-19T09:29:25.116Z"
   },
   {
    "duration": 14,
    "start_time": "2023-07-19T09:29:48.465Z"
   },
   {
    "duration": 85,
    "start_time": "2023-07-19T09:29:48.480Z"
   },
   {
    "duration": 31,
    "start_time": "2023-07-19T09:29:48.567Z"
   },
   {
    "duration": 41,
    "start_time": "2023-07-19T09:29:48.600Z"
   },
   {
    "duration": 36,
    "start_time": "2023-07-19T09:29:48.642Z"
   },
   {
    "duration": 59,
    "start_time": "2023-07-19T09:29:48.680Z"
   },
   {
    "duration": 105,
    "start_time": "2023-07-19T09:29:48.740Z"
   },
   {
    "duration": 56,
    "start_time": "2023-07-19T09:29:48.846Z"
   },
   {
    "duration": 642,
    "start_time": "2023-07-19T09:29:48.903Z"
   },
   {
    "duration": 309,
    "start_time": "2023-07-19T09:29:49.546Z"
   },
   {
    "duration": 236,
    "start_time": "2023-07-19T09:29:49.859Z"
   },
   {
    "duration": 155,
    "start_time": "2023-07-19T09:29:50.097Z"
   },
   {
    "duration": 81,
    "start_time": "2023-07-19T09:29:50.253Z"
   },
   {
    "duration": 27,
    "start_time": "2023-07-19T09:29:50.336Z"
   },
   {
    "duration": 73,
    "start_time": "2023-07-19T09:29:50.365Z"
   },
   {
    "duration": 64,
    "start_time": "2023-07-19T09:30:06.882Z"
   },
   {
    "duration": 12,
    "start_time": "2023-07-19T09:30:16.055Z"
   },
   {
    "duration": 8,
    "start_time": "2023-07-19T09:30:18.843Z"
   },
   {
    "duration": 7,
    "start_time": "2023-07-19T09:30:44.586Z"
   },
   {
    "duration": 416,
    "start_time": "2023-07-19T09:30:52.649Z"
   },
   {
    "duration": 173,
    "start_time": "2023-07-19T09:31:48.960Z"
   },
   {
    "duration": 38371,
    "start_time": "2023-07-19T09:32:35.791Z"
   },
   {
    "duration": 47624,
    "start_time": "2023-07-19T09:34:25.205Z"
   },
   {
    "duration": 14,
    "start_time": "2023-07-19T09:36:13.148Z"
   },
   {
    "duration": 1792303,
    "start_time": "2023-07-19T09:37:06.855Z"
   },
   {
    "duration": 10,
    "start_time": "2023-07-19T10:08:36.186Z"
   },
   {
    "duration": 12,
    "start_time": "2023-07-19T10:09:42.183Z"
   },
   {
    "duration": 19,
    "start_time": "2023-07-19T10:09:43.664Z"
   },
   {
    "duration": 43701,
    "start_time": "2023-07-19T10:10:06.427Z"
   },
   {
    "duration": 147,
    "start_time": "2023-07-19T10:26:51.970Z"
   },
   {
    "duration": 6,
    "start_time": "2023-07-19T10:26:55.058Z"
   },
   {
    "duration": 59,
    "start_time": "2023-07-19T10:26:56.281Z"
   },
   {
    "duration": 727,
    "start_time": "2023-07-19T10:27:01.403Z"
   },
   {
    "duration": 306,
    "start_time": "2023-07-19T10:29:39.378Z"
   },
   {
    "duration": 7977,
    "start_time": "2023-07-20T02:46:42.572Z"
   },
   {
    "duration": 2062,
    "start_time": "2023-07-20T02:46:50.551Z"
   },
   {
    "duration": 1159,
    "start_time": "2023-07-20T02:46:52.614Z"
   },
   {
    "duration": 8,
    "start_time": "2023-07-20T02:46:53.775Z"
   },
   {
    "duration": 1210,
    "start_time": "2023-07-20T02:46:53.785Z"
   },
   {
    "duration": 24,
    "start_time": "2023-07-20T02:46:54.996Z"
   },
   {
    "duration": 145,
    "start_time": "2023-07-20T02:46:55.022Z"
   },
   {
    "duration": 73,
    "start_time": "2023-07-20T02:46:55.168Z"
   },
   {
    "duration": 134,
    "start_time": "2023-07-20T02:46:55.242Z"
   },
   {
    "duration": 241,
    "start_time": "2023-07-20T02:46:55.379Z"
   },
   {
    "duration": 20008,
    "start_time": "2023-07-20T02:46:55.622Z"
   },
   {
    "duration": 16,
    "start_time": "2023-07-20T02:47:15.631Z"
   },
   {
    "duration": 69,
    "start_time": "2023-07-20T02:47:15.648Z"
   },
   {
    "duration": 19485,
    "start_time": "2023-07-20T02:47:15.718Z"
   },
   {
    "duration": 21,
    "start_time": "2023-07-20T02:47:35.204Z"
   },
   {
    "duration": 108,
    "start_time": "2023-07-20T02:47:35.226Z"
   },
   {
    "duration": 20335,
    "start_time": "2023-07-20T02:47:35.335Z"
   },
   {
    "duration": 14,
    "start_time": "2023-07-20T02:47:55.672Z"
   },
   {
    "duration": 78,
    "start_time": "2023-07-20T02:47:55.687Z"
   },
   {
    "duration": 32,
    "start_time": "2023-07-20T02:47:55.766Z"
   },
   {
    "duration": 32,
    "start_time": "2023-07-20T02:47:55.800Z"
   },
   {
    "duration": 48,
    "start_time": "2023-07-20T02:47:55.833Z"
   },
   {
    "duration": 54,
    "start_time": "2023-07-20T02:47:55.883Z"
   },
   {
    "duration": 107,
    "start_time": "2023-07-20T02:47:55.938Z"
   },
   {
    "duration": 46,
    "start_time": "2023-07-20T02:47:56.047Z"
   },
   {
    "duration": 652,
    "start_time": "2023-07-20T02:47:56.094Z"
   },
   {
    "duration": 312,
    "start_time": "2023-07-20T02:47:56.747Z"
   },
   {
    "duration": 250,
    "start_time": "2023-07-20T02:47:57.062Z"
   },
   {
    "duration": 164,
    "start_time": "2023-07-20T02:47:57.314Z"
   },
   {
    "duration": 70,
    "start_time": "2023-07-20T02:47:57.480Z"
   },
   {
    "duration": 7134,
    "start_time": "2023-07-20T05:09:10.185Z"
   },
   {
    "duration": 2059,
    "start_time": "2023-07-20T05:09:17.321Z"
   },
   {
    "duration": 1364,
    "start_time": "2023-07-20T05:09:19.382Z"
   },
   {
    "duration": 13,
    "start_time": "2023-07-20T05:09:20.749Z"
   },
   {
    "duration": 2935,
    "start_time": "2023-07-20T05:09:20.764Z"
   },
   {
    "duration": 16,
    "start_time": "2023-07-20T05:09:23.701Z"
   },
   {
    "duration": 134,
    "start_time": "2023-07-20T05:09:23.719Z"
   },
   {
    "duration": 61,
    "start_time": "2023-07-20T05:09:23.855Z"
   },
   {
    "duration": 129,
    "start_time": "2023-07-20T05:09:23.918Z"
   },
   {
    "duration": 318,
    "start_time": "2023-07-20T05:09:24.062Z"
   },
   {
    "duration": 21720,
    "start_time": "2023-07-20T05:09:24.382Z"
   },
   {
    "duration": 14,
    "start_time": "2023-07-20T05:09:46.104Z"
   },
   {
    "duration": 67,
    "start_time": "2023-07-20T05:09:46.120Z"
   },
   {
    "duration": 21608,
    "start_time": "2023-07-20T05:09:46.189Z"
   },
   {
    "duration": 14,
    "start_time": "2023-07-20T05:10:07.799Z"
   },
   {
    "duration": 73,
    "start_time": "2023-07-20T05:10:07.815Z"
   },
   {
    "duration": 21436,
    "start_time": "2023-07-20T05:10:07.889Z"
   },
   {
    "duration": 15,
    "start_time": "2023-07-20T05:10:29.327Z"
   },
   {
    "duration": 70,
    "start_time": "2023-07-20T05:10:29.344Z"
   },
   {
    "duration": 45,
    "start_time": "2023-07-20T05:10:29.416Z"
   },
   {
    "duration": 22,
    "start_time": "2023-07-20T05:10:29.463Z"
   },
   {
    "duration": 23,
    "start_time": "2023-07-20T05:10:29.486Z"
   },
   {
    "duration": 71,
    "start_time": "2023-07-20T05:10:29.511Z"
   },
   {
    "duration": 111,
    "start_time": "2023-07-20T05:10:29.584Z"
   },
   {
    "duration": 47,
    "start_time": "2023-07-20T05:10:29.696Z"
   },
   {
    "duration": 841,
    "start_time": "2023-07-20T05:13:04.065Z"
   },
   {
    "duration": 374,
    "start_time": "2023-07-20T05:13:15.529Z"
   },
   {
    "duration": 242,
    "start_time": "2023-07-20T05:13:23.453Z"
   },
   {
    "duration": 251,
    "start_time": "2023-07-20T05:14:25.787Z"
   },
   {
    "duration": 78,
    "start_time": "2023-07-20T05:14:40.548Z"
   },
   {
    "duration": 269,
    "start_time": "2023-07-20T05:15:22.872Z"
   },
   {
    "duration": 273,
    "start_time": "2023-07-20T05:16:32.048Z"
   },
   {
    "duration": 351,
    "start_time": "2023-07-20T05:17:12.115Z"
   },
   {
    "duration": 259,
    "start_time": "2023-07-20T05:18:44.675Z"
   },
   {
    "duration": 330,
    "start_time": "2023-07-20T05:18:54.045Z"
   },
   {
    "duration": 223,
    "start_time": "2023-07-20T05:21:33.036Z"
   },
   {
    "duration": 113,
    "start_time": "2023-07-20T05:21:47.037Z"
   },
   {
    "duration": 64,
    "start_time": "2023-07-20T05:21:55.789Z"
   },
   {
    "duration": 31,
    "start_time": "2023-07-20T05:22:49.349Z"
   },
   {
    "duration": 35,
    "start_time": "2023-07-20T05:23:18.044Z"
   },
   {
    "duration": 69,
    "start_time": "2023-07-20T05:23:25.614Z"
   },
   {
    "duration": 12,
    "start_time": "2023-07-20T05:23:31.797Z"
   },
   {
    "duration": 7,
    "start_time": "2023-07-20T05:23:34.500Z"
   },
   {
    "duration": 9,
    "start_time": "2023-07-20T05:23:37.108Z"
   },
   {
    "duration": 393,
    "start_time": "2023-07-20T05:23:41.206Z"
   },
   {
    "duration": 169,
    "start_time": "2023-07-20T05:23:56.868Z"
   },
   {
    "duration": 32423,
    "start_time": "2023-07-20T05:23:59.836Z"
   },
   {
    "duration": 13,
    "start_time": "2023-07-20T05:25:13.826Z"
   },
   {
    "duration": 1478592,
    "start_time": "2023-07-20T05:25:48.426Z"
   },
   {
    "duration": 14,
    "start_time": "2023-07-20T06:00:40.304Z"
   },
   {
    "duration": 21,
    "start_time": "2023-07-20T06:00:42.161Z"
   },
   {
    "duration": 37397,
    "start_time": "2023-07-20T06:00:45.177Z"
   },
   {
    "duration": 154,
    "start_time": "2023-07-20T06:03:58.069Z"
   },
   {
    "duration": 7,
    "start_time": "2023-07-20T06:04:03.493Z"
   },
   {
    "duration": 67,
    "start_time": "2023-07-20T06:04:05.592Z"
   },
   {
    "duration": 608,
    "start_time": "2023-07-20T06:04:09.084Z"
   },
   {
    "duration": 6907,
    "start_time": "2024-05-26T12:04:50.177Z"
   },
   {
    "duration": 2368,
    "start_time": "2024-05-26T12:04:59.017Z"
   },
   {
    "duration": 1415,
    "start_time": "2024-05-26T12:05:47.787Z"
   },
   {
    "duration": 9,
    "start_time": "2024-05-26T12:05:59.059Z"
   },
   {
    "duration": 3016,
    "start_time": "2024-05-26T12:06:08.667Z"
   },
   {
    "duration": 17,
    "start_time": "2024-05-26T12:06:16.755Z"
   },
   {
    "duration": 145,
    "start_time": "2024-05-26T12:06:19.146Z"
   },
   {
    "duration": 66,
    "start_time": "2024-05-26T12:06:35.851Z"
   },
   {
    "duration": 142,
    "start_time": "2024-05-26T12:06:40.140Z"
   },
   {
    "duration": 287,
    "start_time": "2024-05-26T12:06:45.718Z"
   },
   {
    "duration": 22009,
    "start_time": "2024-05-26T12:06:52.133Z"
   },
   {
    "duration": 19,
    "start_time": "2024-05-26T12:07:19.436Z"
   },
   {
    "duration": 56,
    "start_time": "2024-05-26T12:07:22.542Z"
   },
   {
    "duration": 22443,
    "start_time": "2024-05-26T12:07:23.597Z"
   },
   {
    "duration": 22,
    "start_time": "2024-05-26T12:07:46.042Z"
   },
   {
    "duration": 81,
    "start_time": "2024-05-26T12:07:51.879Z"
   },
   {
    "duration": 22190,
    "start_time": "2024-05-26T12:07:52.508Z"
   },
   {
    "duration": 19,
    "start_time": "2024-05-26T12:08:14.700Z"
   },
   {
    "duration": 63,
    "start_time": "2024-05-26T12:08:17.772Z"
   },
   {
    "duration": 37,
    "start_time": "2024-05-26T12:08:18.300Z"
   },
   {
    "duration": 29,
    "start_time": "2024-05-26T12:08:19.269Z"
   },
   {
    "duration": 22,
    "start_time": "2024-05-26T12:08:19.796Z"
   },
   {
    "duration": 66,
    "start_time": "2024-05-26T12:08:21.069Z"
   },
   {
    "duration": 132,
    "start_time": "2024-05-26T12:08:21.716Z"
   },
   {
    "duration": 46,
    "start_time": "2024-05-26T12:08:23.005Z"
   },
   {
    "duration": 884,
    "start_time": "2024-05-26T12:08:30.333Z"
   },
   {
    "duration": 153,
    "start_time": "2024-05-26T12:09:01.560Z"
   },
   {
    "duration": 704,
    "start_time": "2024-05-26T12:09:14.581Z"
   },
   {
    "duration": 241,
    "start_time": "2024-05-26T12:09:19.285Z"
   },
   {
    "duration": 368,
    "start_time": "2024-05-26T12:09:23.853Z"
   },
   {
    "duration": 279,
    "start_time": "2024-05-26T12:09:31.422Z"
   },
   {
    "duration": 258,
    "start_time": "2024-05-26T12:09:37.126Z"
   },
   {
    "duration": 226,
    "start_time": "2024-05-26T12:09:41.853Z"
   },
   {
    "duration": 64,
    "start_time": "2024-05-26T12:09:55.247Z"
   },
   {
    "duration": 58,
    "start_time": "2024-05-26T12:10:01.542Z"
   },
   {
    "duration": 27,
    "start_time": "2024-05-26T12:10:58.799Z"
   },
   {
    "duration": 30,
    "start_time": "2024-05-26T12:11:31.184Z"
   },
   {
    "duration": 71,
    "start_time": "2024-05-26T12:11:33.064Z"
   },
   {
    "duration": 12,
    "start_time": "2024-05-26T12:11:35.768Z"
   },
   {
    "duration": 7,
    "start_time": "2024-05-26T12:11:37.464Z"
   },
   {
    "duration": 8,
    "start_time": "2024-05-26T12:11:38.327Z"
   },
   {
    "duration": 388,
    "start_time": "2024-05-26T12:11:52.440Z"
   },
   {
    "duration": 201,
    "start_time": "2024-05-26T12:11:57.656Z"
   },
   {
    "duration": 32367,
    "start_time": "2024-05-26T12:12:01.624Z"
   },
   {
    "duration": 33589,
    "start_time": "2024-05-26T12:12:57.877Z"
   },
   {
    "duration": 12,
    "start_time": "2024-05-26T12:13:51.025Z"
   },
   {
    "duration": 2474,
    "start_time": "2024-05-26T12:14:26.441Z"
   },
   {
    "duration": 2512,
    "start_time": "2024-05-26T12:14:28.917Z"
   },
   {
    "duration": 1249,
    "start_time": "2024-05-26T12:14:31.430Z"
   },
   {
    "duration": 10,
    "start_time": "2024-05-26T12:14:32.681Z"
   },
   {
    "duration": 1024,
    "start_time": "2024-05-26T12:14:32.693Z"
   },
   {
    "duration": 16,
    "start_time": "2024-05-26T12:14:33.719Z"
   },
   {
    "duration": 160,
    "start_time": "2024-05-26T12:14:33.737Z"
   },
   {
    "duration": 83,
    "start_time": "2024-05-26T12:14:33.898Z"
   },
   {
    "duration": 154,
    "start_time": "2024-05-26T12:14:33.983Z"
   },
   {
    "duration": 297,
    "start_time": "2024-05-26T12:14:34.139Z"
   },
   {
    "duration": 21880,
    "start_time": "2024-05-26T12:14:34.437Z"
   },
   {
    "duration": 20,
    "start_time": "2024-05-26T12:14:56.319Z"
   },
   {
    "duration": 68,
    "start_time": "2024-05-26T12:14:56.341Z"
   },
   {
    "duration": 22088,
    "start_time": "2024-05-26T12:14:56.412Z"
   },
   {
    "duration": 18,
    "start_time": "2024-05-26T12:15:18.502Z"
   },
   {
    "duration": 77,
    "start_time": "2024-05-26T12:15:18.521Z"
   },
   {
    "duration": 22123,
    "start_time": "2024-05-26T12:15:18.599Z"
   },
   {
    "duration": 19,
    "start_time": "2024-05-26T12:15:40.723Z"
   },
   {
    "duration": 98,
    "start_time": "2024-05-26T12:15:40.743Z"
   },
   {
    "duration": 40,
    "start_time": "2024-05-26T12:15:40.843Z"
   },
   {
    "duration": 35,
    "start_time": "2024-05-26T12:15:40.884Z"
   },
   {
    "duration": 41,
    "start_time": "2024-05-26T12:15:40.921Z"
   },
   {
    "duration": 87,
    "start_time": "2024-05-26T12:15:40.964Z"
   },
   {
    "duration": 159,
    "start_time": "2024-05-26T12:15:41.053Z"
   },
   {
    "duration": 56,
    "start_time": "2024-05-26T12:15:41.214Z"
   },
   {
    "duration": 863,
    "start_time": "2024-05-26T12:15:41.272Z"
   },
   {
    "duration": 264,
    "start_time": "2024-05-26T12:15:42.137Z"
   },
   {
    "duration": 281,
    "start_time": "2024-05-26T12:15:42.403Z"
   },
   {
    "duration": 295,
    "start_time": "2024-05-26T12:15:42.688Z"
   },
   {
    "duration": 266,
    "start_time": "2024-05-26T12:15:42.985Z"
   },
   {
    "duration": 231,
    "start_time": "2024-05-26T12:15:43.253Z"
   },
   {
    "duration": 76,
    "start_time": "2024-05-26T12:15:43.486Z"
   },
   {
    "duration": 60,
    "start_time": "2024-05-26T12:15:43.563Z"
   },
   {
    "duration": 40,
    "start_time": "2024-05-26T12:15:43.625Z"
   },
   {
    "duration": 31,
    "start_time": "2024-05-26T12:15:43.667Z"
   },
   {
    "duration": 82,
    "start_time": "2024-05-26T12:15:43.700Z"
   },
   {
    "duration": 11,
    "start_time": "2024-05-26T12:15:43.784Z"
   },
   {
    "duration": 16,
    "start_time": "2024-05-26T12:15:43.796Z"
   },
   {
    "duration": 17,
    "start_time": "2024-05-26T12:15:43.813Z"
   },
   {
    "duration": 414,
    "start_time": "2024-05-26T12:15:43.831Z"
   },
   {
    "duration": 173,
    "start_time": "2024-05-26T12:15:44.249Z"
   },
   {
    "duration": 33489,
    "start_time": "2024-05-26T12:15:44.424Z"
   },
   {
    "duration": 11,
    "start_time": "2024-05-26T12:16:17.915Z"
   },
   {
    "duration": 1602259,
    "start_time": "2024-05-26T12:16:17.928Z"
   },
   {
    "duration": 11,
    "start_time": "2024-05-26T12:43:00.189Z"
   },
   {
    "duration": 13,
    "start_time": "2024-05-26T12:49:00.209Z"
   },
   {
    "duration": 22,
    "start_time": "2024-05-26T12:49:00.904Z"
   },
   {
    "duration": 39012,
    "start_time": "2024-05-26T12:49:01.673Z"
   },
   {
    "duration": 158,
    "start_time": "2024-05-26T12:50:05.481Z"
   },
   {
    "duration": 8,
    "start_time": "2024-05-26T12:50:07.833Z"
   },
   {
    "duration": 69,
    "start_time": "2024-05-26T12:50:08.930Z"
   },
   {
    "duration": 666,
    "start_time": "2024-05-26T12:50:09.905Z"
   }
  ],
  "kernelspec": {
   "display_name": "Python 3 (ipykernel)",
   "language": "python",
   "name": "python3"
  },
  "language_info": {
   "codemirror_mode": {
    "name": "ipython",
    "version": 3
   },
   "file_extension": ".py",
   "mimetype": "text/x-python",
   "name": "python",
   "nbconvert_exporter": "python",
   "pygments_lexer": "ipython3",
   "version": "3.9.5"
  },
  "toc": {
   "base_numbering": 1,
   "nav_menu": {
    "height": "11.3333px",
    "width": "160px"
   },
   "number_sections": true,
   "sideBar": true,
   "skip_h1_title": true,
   "title_cell": "Table of Contents",
   "title_sidebar": "Contents",
   "toc_cell": false,
   "toc_position": {},
   "toc_section_display": true,
   "toc_window_display": false
  }
 },
 "nbformat": 4,
 "nbformat_minor": 2
}
