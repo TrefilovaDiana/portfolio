{
 "cells": [
  {
   "cell_type": "markdown",
   "id": "5b44b6a4",
   "metadata": {},
   "source": [
    "# Исследование надежности заемщиков"
   ]
  },
  {
   "cell_type": "markdown",
   "id": "7e329924",
   "metadata": {},
   "source": [
    "# Задача"
   ]
  },
  {
   "cell_type": "markdown",
   "id": "758cc7ad",
   "metadata": {},
   "source": [
    "На основе статистики о платёжеспособности клиентов исследовать влияет ли семейное положение и количество детей клиента на факт возврата кредита в срок."
   ]
  },
  {
   "cell_type": "markdown",
   "id": "a9582171",
   "metadata": {},
   "source": [
    "# План"
   ]
  },
  {
   "cell_type": "markdown",
   "id": "9cc6efac",
   "metadata": {},
   "source": [
    "**1. Проведение обзора данных.**\n",
    "\n",
    "**2. Проведение предобработки данных.**\n",
    "\n",
    "**3. Проверить, есть ли зависимость между количеством детей и возвратом кредита в срок.**\n",
    "\n",
    "**4. Проверить, есть ли зависимость между семейным положением и возвратом кредита в срок.**\n",
    "\n",
    "**5. Проверить, есть ли зависимость между уровнем дохода и возвратом кредита в срок.**\n",
    "\n",
    "**6. Проверить, как разные цели кредита влияют на его возврат в срок.**\n",
    "\n",
    "**7. Выводы.**"
   ]
  },
  {
   "cell_type": "markdown",
   "id": "5a6e5031",
   "metadata": {},
   "source": [
    "## Обзор данных"
   ]
  },
  {
   "cell_type": "code",
   "execution_count": 1,
   "id": "5e5e65d2",
   "metadata": {},
   "outputs": [],
   "source": [
    "import pandas as pd"
   ]
  },
  {
   "cell_type": "code",
   "execution_count": 2,
   "id": "7878d304",
   "metadata": {},
   "outputs": [],
   "source": [
    "data = pd.read_csv('/datasets/data.csv')"
   ]
  },
  {
   "cell_type": "code",
   "execution_count": 3,
   "id": "cf35d367",
   "metadata": {},
   "outputs": [
    {
     "data": {
      "text/html": [
       "<div>\n",
       "<style scoped>\n",
       "    .dataframe tbody tr th:only-of-type {\n",
       "        vertical-align: middle;\n",
       "    }\n",
       "\n",
       "    .dataframe tbody tr th {\n",
       "        vertical-align: top;\n",
       "    }\n",
       "\n",
       "    .dataframe thead th {\n",
       "        text-align: right;\n",
       "    }\n",
       "</style>\n",
       "<table border=\"1\" class=\"dataframe\">\n",
       "  <thead>\n",
       "    <tr style=\"text-align: right;\">\n",
       "      <th></th>\n",
       "      <th>children</th>\n",
       "      <th>days_employed</th>\n",
       "      <th>dob_years</th>\n",
       "      <th>education</th>\n",
       "      <th>education_id</th>\n",
       "      <th>family_status</th>\n",
       "      <th>family_status_id</th>\n",
       "      <th>gender</th>\n",
       "      <th>income_type</th>\n",
       "      <th>debt</th>\n",
       "      <th>total_income</th>\n",
       "      <th>purpose</th>\n",
       "    </tr>\n",
       "  </thead>\n",
       "  <tbody>\n",
       "    <tr>\n",
       "      <th>0</th>\n",
       "      <td>1</td>\n",
       "      <td>-8437.673028</td>\n",
       "      <td>42</td>\n",
       "      <td>высшее</td>\n",
       "      <td>0</td>\n",
       "      <td>женат / замужем</td>\n",
       "      <td>0</td>\n",
       "      <td>F</td>\n",
       "      <td>сотрудник</td>\n",
       "      <td>0</td>\n",
       "      <td>253875.639453</td>\n",
       "      <td>покупка жилья</td>\n",
       "    </tr>\n",
       "    <tr>\n",
       "      <th>1</th>\n",
       "      <td>1</td>\n",
       "      <td>-4024.803754</td>\n",
       "      <td>36</td>\n",
       "      <td>среднее</td>\n",
       "      <td>1</td>\n",
       "      <td>женат / замужем</td>\n",
       "      <td>0</td>\n",
       "      <td>F</td>\n",
       "      <td>сотрудник</td>\n",
       "      <td>0</td>\n",
       "      <td>112080.014102</td>\n",
       "      <td>приобретение автомобиля</td>\n",
       "    </tr>\n",
       "    <tr>\n",
       "      <th>2</th>\n",
       "      <td>0</td>\n",
       "      <td>-5623.422610</td>\n",
       "      <td>33</td>\n",
       "      <td>Среднее</td>\n",
       "      <td>1</td>\n",
       "      <td>женат / замужем</td>\n",
       "      <td>0</td>\n",
       "      <td>M</td>\n",
       "      <td>сотрудник</td>\n",
       "      <td>0</td>\n",
       "      <td>145885.952297</td>\n",
       "      <td>покупка жилья</td>\n",
       "    </tr>\n",
       "    <tr>\n",
       "      <th>3</th>\n",
       "      <td>3</td>\n",
       "      <td>-4124.747207</td>\n",
       "      <td>32</td>\n",
       "      <td>среднее</td>\n",
       "      <td>1</td>\n",
       "      <td>женат / замужем</td>\n",
       "      <td>0</td>\n",
       "      <td>M</td>\n",
       "      <td>сотрудник</td>\n",
       "      <td>0</td>\n",
       "      <td>267628.550329</td>\n",
       "      <td>дополнительное образование</td>\n",
       "    </tr>\n",
       "    <tr>\n",
       "      <th>4</th>\n",
       "      <td>0</td>\n",
       "      <td>340266.072047</td>\n",
       "      <td>53</td>\n",
       "      <td>среднее</td>\n",
       "      <td>1</td>\n",
       "      <td>гражданский брак</td>\n",
       "      <td>1</td>\n",
       "      <td>F</td>\n",
       "      <td>пенсионер</td>\n",
       "      <td>0</td>\n",
       "      <td>158616.077870</td>\n",
       "      <td>сыграть свадьбу</td>\n",
       "    </tr>\n",
       "  </tbody>\n",
       "</table>\n",
       "</div>"
      ],
      "text/plain": [
       "   children  days_employed  dob_years education  education_id  \\\n",
       "0         1   -8437.673028         42    высшее             0   \n",
       "1         1   -4024.803754         36   среднее             1   \n",
       "2         0   -5623.422610         33   Среднее             1   \n",
       "3         3   -4124.747207         32   среднее             1   \n",
       "4         0  340266.072047         53   среднее             1   \n",
       "\n",
       "      family_status  family_status_id gender income_type  debt   total_income  \\\n",
       "0   женат / замужем                 0      F   сотрудник     0  253875.639453   \n",
       "1   женат / замужем                 0      F   сотрудник     0  112080.014102   \n",
       "2   женат / замужем                 0      M   сотрудник     0  145885.952297   \n",
       "3   женат / замужем                 0      M   сотрудник     0  267628.550329   \n",
       "4  гражданский брак                 1      F   пенсионер     0  158616.077870   \n",
       "\n",
       "                      purpose  \n",
       "0               покупка жилья  \n",
       "1     приобретение автомобиля  \n",
       "2               покупка жилья  \n",
       "3  дополнительное образование  \n",
       "4             сыграть свадьбу  "
      ]
     },
     "execution_count": 3,
     "metadata": {},
     "output_type": "execute_result"
    }
   ],
   "source": [
    "data.head()"
   ]
  },
  {
   "cell_type": "code",
   "execution_count": 4,
   "id": "fc134955",
   "metadata": {},
   "outputs": [
    {
     "name": "stdout",
     "output_type": "stream",
     "text": [
      "<class 'pandas.core.frame.DataFrame'>\n",
      "RangeIndex: 21525 entries, 0 to 21524\n",
      "Data columns (total 12 columns):\n",
      " #   Column            Non-Null Count  Dtype  \n",
      "---  ------            --------------  -----  \n",
      " 0   children          21525 non-null  int64  \n",
      " 1   days_employed     19351 non-null  float64\n",
      " 2   dob_years         21525 non-null  int64  \n",
      " 3   education         21525 non-null  object \n",
      " 4   education_id      21525 non-null  int64  \n",
      " 5   family_status     21525 non-null  object \n",
      " 6   family_status_id  21525 non-null  int64  \n",
      " 7   gender            21525 non-null  object \n",
      " 8   income_type       21525 non-null  object \n",
      " 9   debt              21525 non-null  int64  \n",
      " 10  total_income      19351 non-null  float64\n",
      " 11  purpose           21525 non-null  object \n",
      "dtypes: float64(2), int64(5), object(5)\n",
      "memory usage: 2.0+ MB\n"
     ]
    }
   ],
   "source": [
    "data.info()"
   ]
  },
  {
   "cell_type": "markdown",
   "id": "cd8d0296",
   "metadata": {},
   "source": [
    "Количество значений в столбцах различается. Значит, в данных есть пропущенные значения."
   ]
  },
  {
   "cell_type": "markdown",
   "id": "2fc524bb",
   "metadata": {},
   "source": [
    "## Предобработка данных"
   ]
  },
  {
   "cell_type": "markdown",
   "id": "7fcc72f2",
   "metadata": {},
   "source": [
    "### Удаление пропусков"
   ]
  },
  {
   "cell_type": "code",
   "execution_count": 5,
   "id": "5af92168",
   "metadata": {},
   "outputs": [
    {
     "data": {
      "text/plain": [
       "children               0\n",
       "days_employed       2174\n",
       "dob_years              0\n",
       "education              0\n",
       "education_id           0\n",
       "family_status          0\n",
       "family_status_id       0\n",
       "gender                 0\n",
       "income_type            0\n",
       "debt                   0\n",
       "total_income        2174\n",
       "purpose                0\n",
       "dtype: int64"
      ]
     },
     "execution_count": 5,
     "metadata": {},
     "output_type": "execute_result"
    }
   ],
   "source": [
    "# Подсчет пропусков\n",
    "data.isna().sum()"
   ]
  },
  {
   "cell_type": "markdown",
   "id": "92c131c7",
   "metadata": {},
   "source": [
    "Столбец total_income хранит данные о доходах. На сумму дохода сильнее всего влияет тип занятости, поэтому заполним пропуски в этом столбце медианным значением по каждому типу из столбца income_type."
   ]
  },
  {
   "cell_type": "code",
   "execution_count": 6,
   "id": "b3c8121f",
   "metadata": {},
   "outputs": [
    {
     "data": {
      "text/plain": [
       "0"
      ]
     },
     "execution_count": 6,
     "metadata": {},
     "output_type": "execute_result"
    }
   ],
   "source": [
    "for t in data['income_type'].unique():\n",
    "    data.loc[(data['income_type'] == t) & (data['total_income'].isna()), 'total_income'] = \\\n",
    "    data.loc[(data['income_type'] == t), 'total_income'].median()\n",
    "data['total_income'].isna().sum()"
   ]
  },
  {
   "cell_type": "markdown",
   "id": "020fb7b4",
   "metadata": {},
   "source": [
    "### Обработка аномальных значений"
   ]
  },
  {
   "cell_type": "markdown",
   "id": "bfbcb7e8",
   "metadata": {},
   "source": [
    "В столбце days_employed встречается отрицательное количество дней трудового стажа. Заменим все отрицательные значения положительными с помощью метода abs()."
   ]
  },
  {
   "cell_type": "code",
   "execution_count": 7,
   "id": "7c761d29",
   "metadata": {},
   "outputs": [
    {
     "data": {
      "text/plain": [
       "0          8437.673028\n",
       "1          4024.803754\n",
       "2          5623.422610\n",
       "3          4124.747207\n",
       "4        340266.072047\n",
       "             ...      \n",
       "21520      4529.316663\n",
       "21521    343937.404131\n",
       "21522      2113.346888\n",
       "21523      3112.481705\n",
       "21524      1984.507589\n",
       "Name: days_employed, Length: 21525, dtype: float64"
      ]
     },
     "execution_count": 7,
     "metadata": {},
     "output_type": "execute_result"
    }
   ],
   "source": [
    "data['days_employed'] = data['days_employed'].abs()\n",
    "data['days_employed']"
   ]
  },
  {
   "cell_type": "markdown",
   "id": "f0f723f0",
   "metadata": {},
   "source": [
    "Для каждого типа занятости проверим медианное значение трудового стажа days_employed в днях."
   ]
  },
  {
   "cell_type": "code",
   "execution_count": 8,
   "id": "75f213ca",
   "metadata": {},
   "outputs": [
    {
     "data": {
      "text/plain": [
       "income_type\n",
       "безработный        366413.652744\n",
       "в декрете            3296.759962\n",
       "госслужащий          2689.368353\n",
       "компаньон            1547.382223\n",
       "пенсионер          365213.306266\n",
       "предприниматель       520.848083\n",
       "сотрудник            1574.202821\n",
       "студент               578.751554\n",
       "Name: days_employed, dtype: float64"
      ]
     },
     "execution_count": 8,
     "metadata": {},
     "output_type": "execute_result"
    }
   ],
   "source": [
    "data.groupby('income_type')['days_employed'].median()"
   ]
  },
  {
   "cell_type": "markdown",
   "id": "7df085fc",
   "metadata": {},
   "source": [
    "У двух типов (безработные и пенсионеры) получатся аномально большие значения. Исправить такие значения сложно, поэтому оставим их как есть, но будем иметь ввиду при поведении исследования."
   ]
  },
  {
   "cell_type": "code",
   "execution_count": 9,
   "id": "52d6aabf",
   "metadata": {},
   "outputs": [
    {
     "data": {
      "text/plain": [
       "array([ 1,  0,  3,  2, -1,  4, 20,  5])"
      ]
     },
     "execution_count": 9,
     "metadata": {},
     "output_type": "execute_result"
    }
   ],
   "source": [
    "# проверим столбец children\n",
    "data['children'].unique()"
   ]
  },
  {
   "cell_type": "markdown",
   "id": "7a89a9a4",
   "metadata": {},
   "source": [
    "В столбце children есть два аномальных значения: -1 и 20. Удалим строки, в которых они встречаются."
   ]
  },
  {
   "cell_type": "code",
   "execution_count": 10,
   "id": "0a00e096",
   "metadata": {},
   "outputs": [],
   "source": [
    "data = data.loc[(data['children'] != -1) & (data['children'] != 20)]"
   ]
  },
  {
   "cell_type": "code",
   "execution_count": 11,
   "id": "958d152b",
   "metadata": {},
   "outputs": [
    {
     "data": {
      "text/plain": [
       "array([1, 0, 3, 2, 4, 5])"
      ]
     },
     "execution_count": 11,
     "metadata": {},
     "output_type": "execute_result"
    }
   ],
   "source": [
    "data['children'].unique()"
   ]
  },
  {
   "cell_type": "markdown",
   "id": "29817c21",
   "metadata": {},
   "source": [
    "### Удаление пропусков (продолжение)"
   ]
  },
  {
   "cell_type": "code",
   "execution_count": 12,
   "id": "b2e9f329",
   "metadata": {},
   "outputs": [
    {
     "data": {
      "text/plain": [
       "0"
      ]
     },
     "execution_count": 12,
     "metadata": {},
     "output_type": "execute_result"
    }
   ],
   "source": [
    "for t in data['income_type'].unique():\n",
    "    data.loc[(data['income_type'] == t) & (data['days_employed'].isna()), 'days_employed'] = \\\n",
    "    data.loc[(data['income_type'] == t), 'days_employed'].median()\n",
    "data['days_employed'].isna().sum()"
   ]
  },
  {
   "cell_type": "code",
   "execution_count": 13,
   "id": "0d03a51e",
   "metadata": {},
   "outputs": [
    {
     "data": {
      "text/plain": [
       "children            0\n",
       "days_employed       0\n",
       "dob_years           0\n",
       "education           0\n",
       "education_id        0\n",
       "family_status       0\n",
       "family_status_id    0\n",
       "gender              0\n",
       "income_type         0\n",
       "debt                0\n",
       "total_income        0\n",
       "purpose             0\n",
       "dtype: int64"
      ]
     },
     "execution_count": 13,
     "metadata": {},
     "output_type": "execute_result"
    }
   ],
   "source": [
    "data.isna().sum()"
   ]
  },
  {
   "cell_type": "markdown",
   "id": "e6331b36",
   "metadata": {},
   "source": [
    "От пропусков и аномальных значений избавились."
   ]
  },
  {
   "cell_type": "markdown",
   "id": "cc91cd7e",
   "metadata": {},
   "source": [
    "### Изменение типов данных"
   ]
  },
  {
   "cell_type": "code",
   "execution_count": 14,
   "id": "40d3da4c",
   "metadata": {},
   "outputs": [],
   "source": [
    "# приведем столбц total_income к целочисленному типу\n",
    "data['total_income'] = data['total_income'].astype('int')"
   ]
  },
  {
   "cell_type": "markdown",
   "id": "50e23907",
   "metadata": {},
   "source": [
    "### Обработка дубликатов"
   ]
  },
  {
   "cell_type": "code",
   "execution_count": 15,
   "id": "9efe6a70",
   "metadata": {},
   "outputs": [
    {
     "data": {
      "text/plain": [
       "array(['высшее', 'среднее', 'Среднее', 'СРЕДНЕЕ', 'ВЫСШЕЕ',\n",
       "       'неоконченное высшее', 'начальное', 'Высшее',\n",
       "       'НЕОКОНЧЕННОЕ ВЫСШЕЕ', 'Неоконченное высшее', 'НАЧАЛЬНОЕ',\n",
       "       'Начальное', 'Ученая степень', 'УЧЕНАЯ СТЕПЕНЬ', 'ученая степень'],\n",
       "      dtype=object)"
      ]
     },
     "execution_count": 15,
     "metadata": {},
     "output_type": "execute_result"
    }
   ],
   "source": [
    "data['education'].unique()"
   ]
  },
  {
   "cell_type": "markdown",
   "id": "e68119a6",
   "metadata": {},
   "source": [
    "Одно и то же образование написано в нескольких вариантах. Приведем все названия к нижнему регистру."
   ]
  },
  {
   "cell_type": "code",
   "execution_count": 16,
   "id": "3764696b",
   "metadata": {},
   "outputs": [],
   "source": [
    "data['education'] = data['education'].str.lower()"
   ]
  },
  {
   "cell_type": "code",
   "execution_count": 17,
   "id": "08f4e205",
   "metadata": {},
   "outputs": [
    {
     "data": {
      "text/plain": [
       "array(['высшее', 'среднее', 'неоконченное высшее', 'начальное',\n",
       "       'ученая степень'], dtype=object)"
      ]
     },
     "execution_count": 17,
     "metadata": {},
     "output_type": "execute_result"
    }
   ],
   "source": [
    "data['education'].unique()"
   ]
  },
  {
   "cell_type": "code",
   "execution_count": 18,
   "id": "7385854f",
   "metadata": {},
   "outputs": [
    {
     "data": {
      "text/plain": [
       "array(['женат / замужем', 'гражданский брак', 'вдовец / вдова',\n",
       "       'в разводе', 'Не женат / не замужем'], dtype=object)"
      ]
     },
     "execution_count": 18,
     "metadata": {},
     "output_type": "execute_result"
    }
   ],
   "source": [
    "data['family_status'].unique()"
   ]
  },
  {
   "cell_type": "code",
   "execution_count": 19,
   "id": "e0c4b25f",
   "metadata": {},
   "outputs": [
    {
     "data": {
      "text/plain": [
       "array(['F', 'M', 'XNA'], dtype=object)"
      ]
     },
     "execution_count": 19,
     "metadata": {},
     "output_type": "execute_result"
    }
   ],
   "source": [
    "data['gender'].unique()"
   ]
  },
  {
   "cell_type": "code",
   "execution_count": 20,
   "id": "e8638604",
   "metadata": {},
   "outputs": [
    {
     "data": {
      "text/plain": [
       "array(['сотрудник', 'пенсионер', 'компаньон', 'госслужащий',\n",
       "       'безработный', 'предприниматель', 'студент', 'в декрете'],\n",
       "      dtype=object)"
      ]
     },
     "execution_count": 20,
     "metadata": {},
     "output_type": "execute_result"
    }
   ],
   "source": [
    "data['income_type'].unique()"
   ]
  },
  {
   "cell_type": "code",
   "execution_count": 21,
   "id": "2cc48ed1",
   "metadata": {},
   "outputs": [
    {
     "data": {
      "text/plain": [
       "71"
      ]
     },
     "execution_count": 21,
     "metadata": {},
     "output_type": "execute_result"
    }
   ],
   "source": [
    "# Считаем кол-во явных дубликатов\n",
    "data.duplicated().sum()"
   ]
  },
  {
   "cell_type": "code",
   "execution_count": 22,
   "id": "9b0e3200",
   "metadata": {},
   "outputs": [
    {
     "data": {
      "text/plain": [
       "0"
      ]
     },
     "execution_count": 22,
     "metadata": {},
     "output_type": "execute_result"
    }
   ],
   "source": [
    "data = data.drop_duplicates()\n",
    "data.duplicated().sum()"
   ]
  },
  {
   "cell_type": "markdown",
   "id": "68b3fd89",
   "metadata": {},
   "source": [
    "### Категоризация данных"
   ]
  },
  {
   "cell_type": "markdown",
   "id": "f24c0d8e",
   "metadata": {},
   "source": [
    "Нам предложено на основании диапазонов, указанных ниже, добавить столбец с категориями дохода:\n",
    "\n",
    "- 0–30000 — `'E'`;\n",
    "- 30001–50000 — `'D'`;\n",
    "- 50001–200000 — `'C'`;\n",
    "- 200001–1000000 — `'B'`;\n",
    "- 1000001 и выше — `'A'`."
   ]
  },
  {
   "cell_type": "code",
   "execution_count": 23,
   "id": "61283f7b",
   "metadata": {},
   "outputs": [],
   "source": [
    "def categorize_income(income):\n",
    "    if income <= 30000:\n",
    "        return 'E'\n",
    "    if 30001 <= income <= 50000:\n",
    "        return 'D'\n",
    "    if 50001 <= income <= 200000:\n",
    "        return 'C'\n",
    "    if 200001 <= income <= 1000000:\n",
    "        return 'B'\n",
    "    return 'A'"
   ]
  },
  {
   "cell_type": "code",
   "execution_count": 24,
   "id": "15aa0ac8",
   "metadata": {},
   "outputs": [],
   "source": [
    "data['total_income_category'] = data['total_income'].apply(categorize_income)"
   ]
  },
  {
   "cell_type": "markdown",
   "id": "b4714b13",
   "metadata": {},
   "source": [
    "Также предложено на основании столбца purpose сформировать новый столбец, в который войдут следующие категории:\n",
    "\n",
    "- `'операции с автомобилем'`,\n",
    "- `'операции с недвижимостью'`,\n",
    "- `'проведение свадьбы'`,\n",
    "- `'получение образования'`."
   ]
  },
  {
   "cell_type": "code",
   "execution_count": 25,
   "id": "273ecdf6",
   "metadata": {},
   "outputs": [
    {
     "data": {
      "text/plain": [
       "array(['покупка жилья', 'приобретение автомобиля',\n",
       "       'дополнительное образование', 'сыграть свадьбу',\n",
       "       'операции с жильем', 'образование', 'на проведение свадьбы',\n",
       "       'покупка жилья для семьи', 'покупка недвижимости',\n",
       "       'покупка коммерческой недвижимости', 'покупка жилой недвижимости',\n",
       "       'строительство собственной недвижимости', 'недвижимость',\n",
       "       'строительство недвижимости', 'на покупку подержанного автомобиля',\n",
       "       'на покупку своего автомобиля',\n",
       "       'операции с коммерческой недвижимостью',\n",
       "       'строительство жилой недвижимости', 'жилье',\n",
       "       'операции со своей недвижимостью', 'автомобили',\n",
       "       'заняться образованием', 'сделка с подержанным автомобилем',\n",
       "       'получение образования', 'автомобиль', 'свадьба',\n",
       "       'получение дополнительного образования', 'покупка своего жилья',\n",
       "       'операции с недвижимостью', 'получение высшего образования',\n",
       "       'свой автомобиль', 'сделка с автомобилем',\n",
       "       'профильное образование', 'высшее образование',\n",
       "       'покупка жилья для сдачи', 'на покупку автомобиля', 'ремонт жилью',\n",
       "       'заняться высшим образованием'], dtype=object)"
      ]
     },
     "execution_count": 25,
     "metadata": {},
     "output_type": "execute_result"
    }
   ],
   "source": [
    "data['purpose'].unique()"
   ]
  },
  {
   "cell_type": "code",
   "execution_count": 26,
   "id": "1a6f363a",
   "metadata": {},
   "outputs": [],
   "source": [
    "def categorize_purpose(purpose):\n",
    "    if 'авто' in purpose:\n",
    "        return 'операции с автомобилем'\n",
    "    if ('жиль' in purpose or 'недвижимост' in purpose):\n",
    "        return 'операции с недвижимостью'\n",
    "    if 'свадьб' in purpose:\n",
    "        return 'проведение свадьбы'\n",
    "    if 'образован' in purpose:\n",
    "        return 'получение образования'\n",
    "    return 'неопределен'"
   ]
  },
  {
   "cell_type": "code",
   "execution_count": 27,
   "id": "61d2dc5a",
   "metadata": {},
   "outputs": [],
   "source": [
    "data['purpose_category'] = data['purpose'].apply(categorize_purpose)"
   ]
  },
  {
   "cell_type": "markdown",
   "id": "252675c3",
   "metadata": {},
   "source": [
    "## Проверим, есть ли зависимость между количеством детей и возвратом кредита в срок."
   ]
  },
  {
   "cell_type": "code",
   "execution_count": 28,
   "id": "feaf2ca9",
   "metadata": {},
   "outputs": [
    {
     "data": {
      "text/html": [
       "<div>\n",
       "<style scoped>\n",
       "    .dataframe tbody tr th:only-of-type {\n",
       "        vertical-align: middle;\n",
       "    }\n",
       "\n",
       "    .dataframe tbody tr th {\n",
       "        vertical-align: top;\n",
       "    }\n",
       "\n",
       "    .dataframe thead th {\n",
       "        text-align: right;\n",
       "    }\n",
       "</style>\n",
       "<table border=\"1\" class=\"dataframe\">\n",
       "  <thead>\n",
       "    <tr style=\"text-align: right;\">\n",
       "      <th></th>\n",
       "      <th>count_borrower</th>\n",
       "      <th>debt</th>\n",
       "      <th>no debt</th>\n",
       "      <th>ratio</th>\n",
       "    </tr>\n",
       "    <tr>\n",
       "      <th>children</th>\n",
       "      <th></th>\n",
       "      <th></th>\n",
       "      <th></th>\n",
       "      <th></th>\n",
       "    </tr>\n",
       "  </thead>\n",
       "  <tbody>\n",
       "    <tr>\n",
       "      <th>0</th>\n",
       "      <td>14091</td>\n",
       "      <td>1063.0</td>\n",
       "      <td>13028.0</td>\n",
       "      <td>7.543822</td>\n",
       "    </tr>\n",
       "    <tr>\n",
       "      <th>1</th>\n",
       "      <td>4808</td>\n",
       "      <td>444.0</td>\n",
       "      <td>4364.0</td>\n",
       "      <td>9.234609</td>\n",
       "    </tr>\n",
       "    <tr>\n",
       "      <th>2</th>\n",
       "      <td>2052</td>\n",
       "      <td>194.0</td>\n",
       "      <td>1858.0</td>\n",
       "      <td>9.454191</td>\n",
       "    </tr>\n",
       "    <tr>\n",
       "      <th>3</th>\n",
       "      <td>330</td>\n",
       "      <td>27.0</td>\n",
       "      <td>303.0</td>\n",
       "      <td>8.181818</td>\n",
       "    </tr>\n",
       "    <tr>\n",
       "      <th>4</th>\n",
       "      <td>41</td>\n",
       "      <td>4.0</td>\n",
       "      <td>37.0</td>\n",
       "      <td>9.756098</td>\n",
       "    </tr>\n",
       "    <tr>\n",
       "      <th>5</th>\n",
       "      <td>9</td>\n",
       "      <td>NaN</td>\n",
       "      <td>9.0</td>\n",
       "      <td>NaN</td>\n",
       "    </tr>\n",
       "  </tbody>\n",
       "</table>\n",
       "</div>"
      ],
      "text/plain": [
       "          count_borrower    debt  no debt     ratio\n",
       "children                                           \n",
       "0                  14091  1063.0  13028.0  7.543822\n",
       "1                   4808   444.0   4364.0  9.234609\n",
       "2                   2052   194.0   1858.0  9.454191\n",
       "3                    330    27.0    303.0  8.181818\n",
       "4                     41     4.0     37.0  9.756098\n",
       "5                      9     NaN      9.0       NaN"
      ]
     },
     "execution_count": 28,
     "metadata": {},
     "output_type": "execute_result"
    }
   ],
   "source": [
    "#Построим сводную таблицу по количеству детей и посчитаем процент должников\n",
    "def debt_type(debt):\n",
    "    if debt == 0:\n",
    "        return 'no debt'\n",
    "    return 'debt'\n",
    "\n",
    "data['count_borrower'] = 'count_borrower'\n",
    "data['debt_type'] = data['debt'].apply(debt_type)\n",
    "data_pivot1 = data.pivot_table(index='children', columns='count_borrower', values= 'debt', aggfunc='count')\n",
    "data_pivot2 = data.pivot_table(index='children', columns='debt_type', values= 'debt', aggfunc='count')\n",
    "data_pivot = data_pivot1.merge(data_pivot2, on='children', how='left')\n",
    "data_pivot['ratio'] = data_pivot['debt'] / data_pivot['count_borrower'] * 100\n",
    "data_pivot"
   ]
  },
  {
   "cell_type": "markdown",
   "id": "18dd988e",
   "metadata": {},
   "source": [
    "**Вывод:**\n",
    "\n",
    "Больше всего заемщиков с количеством детей 0, 1 и 2. В категории '0' заемщиков в два разва больше, чем в категориях '1' и '2' вместе взятых. Процент должников в категории '0' составляет 7,5%, в категории '1' - 9,2%, в категории '2' - 9,5%. Т.е. чем больше у заемщика детей, тем выше риск допустить просрочку."
   ]
  },
  {
   "cell_type": "markdown",
   "id": "edec9cdd",
   "metadata": {},
   "source": [
    "## Проверим, есть ли зависимость между семейным положением и возвратом кредита в срок."
   ]
  },
  {
   "cell_type": "code",
   "execution_count": 29,
   "id": "bfd421df",
   "metadata": {},
   "outputs": [
    {
     "data": {
      "text/html": [
       "<div>\n",
       "<style scoped>\n",
       "    .dataframe tbody tr th:only-of-type {\n",
       "        vertical-align: middle;\n",
       "    }\n",
       "\n",
       "    .dataframe tbody tr th {\n",
       "        vertical-align: top;\n",
       "    }\n",
       "\n",
       "    .dataframe thead th {\n",
       "        text-align: right;\n",
       "    }\n",
       "</style>\n",
       "<table border=\"1\" class=\"dataframe\">\n",
       "  <thead>\n",
       "    <tr style=\"text-align: right;\">\n",
       "      <th></th>\n",
       "      <th>count_borrower</th>\n",
       "      <th>debt</th>\n",
       "      <th>no debt</th>\n",
       "      <th>ratio</th>\n",
       "    </tr>\n",
       "    <tr>\n",
       "      <th>family_status</th>\n",
       "      <th></th>\n",
       "      <th></th>\n",
       "      <th></th>\n",
       "      <th></th>\n",
       "    </tr>\n",
       "  </thead>\n",
       "  <tbody>\n",
       "    <tr>\n",
       "      <th>Не женат / не замужем</th>\n",
       "      <td>2796</td>\n",
       "      <td>273</td>\n",
       "      <td>2523</td>\n",
       "      <td>9.763948</td>\n",
       "    </tr>\n",
       "    <tr>\n",
       "      <th>в разводе</th>\n",
       "      <td>1189</td>\n",
       "      <td>84</td>\n",
       "      <td>1105</td>\n",
       "      <td>7.064760</td>\n",
       "    </tr>\n",
       "    <tr>\n",
       "      <th>вдовец / вдова</th>\n",
       "      <td>951</td>\n",
       "      <td>63</td>\n",
       "      <td>888</td>\n",
       "      <td>6.624606</td>\n",
       "    </tr>\n",
       "    <tr>\n",
       "      <th>гражданский брак</th>\n",
       "      <td>4134</td>\n",
       "      <td>385</td>\n",
       "      <td>3749</td>\n",
       "      <td>9.313014</td>\n",
       "    </tr>\n",
       "    <tr>\n",
       "      <th>женат / замужем</th>\n",
       "      <td>12261</td>\n",
       "      <td>927</td>\n",
       "      <td>11334</td>\n",
       "      <td>7.560558</td>\n",
       "    </tr>\n",
       "  </tbody>\n",
       "</table>\n",
       "</div>"
      ],
      "text/plain": [
       "                       count_borrower  debt  no debt     ratio\n",
       "family_status                                                 \n",
       "Не женат / не замужем            2796   273     2523  9.763948\n",
       "в разводе                        1189    84     1105  7.064760\n",
       "вдовец / вдова                    951    63      888  6.624606\n",
       "гражданский брак                 4134   385     3749  9.313014\n",
       "женат / замужем                 12261   927    11334  7.560558"
      ]
     },
     "execution_count": 29,
     "metadata": {},
     "output_type": "execute_result"
    }
   ],
   "source": [
    "#Построим сводную таблицу по семейному положению и посчитаем процент должников\n",
    "data_pivot_ststus1 = data.pivot_table(index='family_status', columns='count_borrower', values= 'debt', aggfunc='count')\n",
    "data_pivot_ststus2 = data.pivot_table(index='family_status', columns='debt_type', values= 'debt', aggfunc='count')\n",
    "data_pivot_ststus = data_pivot_ststus1.merge(data_pivot_ststus2, on='family_status', how='left')\n",
    "data_pivot_ststus['ratio'] = data_pivot_ststus['debt'] / data_pivot_ststus['count_borrower'] * 100\n",
    "data_pivot_ststus"
   ]
  },
  {
   "cell_type": "markdown",
   "id": "f8856674",
   "metadata": {},
   "source": [
    "**Вывод:**\n",
    "\n",
    "Больше всего заемщиков со статусами 'женат / замужем', 'гражданский брак' и 'Не женат / не замужем'. В категории 'женат / замужем' процент должников составляет 7,6%, в категории 'гражданский брак' - 9,3%, в категории 'Не женат / не замужем' - 9,7%. У категорий 'в разводе ' и 'вдовец / вдова' число заемщиков намного меньше, но и процент должников там тоже меньше.\n",
    "\n",
    "Итак, можно сделать вывод, что самыми рискованными категориями заемщиков являются 'гражданский брак' и 'Не женат / не замужем'. Самая многочисленная категория 'женат / замужем' является менее рискованной."
   ]
  },
  {
   "cell_type": "markdown",
   "id": "9f21c133",
   "metadata": {},
   "source": [
    "## Проверим, есть ли зависимость между уровнем дохода и возвратом кредита в срок."
   ]
  },
  {
   "cell_type": "code",
   "execution_count": 30,
   "id": "4d5b4f95",
   "metadata": {},
   "outputs": [
    {
     "data": {
      "text/html": [
       "<div>\n",
       "<style scoped>\n",
       "    .dataframe tbody tr th:only-of-type {\n",
       "        vertical-align: middle;\n",
       "    }\n",
       "\n",
       "    .dataframe tbody tr th {\n",
       "        vertical-align: top;\n",
       "    }\n",
       "\n",
       "    .dataframe thead th {\n",
       "        text-align: right;\n",
       "    }\n",
       "</style>\n",
       "<table border=\"1\" class=\"dataframe\">\n",
       "  <thead>\n",
       "    <tr style=\"text-align: right;\">\n",
       "      <th></th>\n",
       "      <th>count_borrower</th>\n",
       "      <th>debt</th>\n",
       "      <th>no debt</th>\n",
       "      <th>ratio</th>\n",
       "    </tr>\n",
       "    <tr>\n",
       "      <th>total_income_category</th>\n",
       "      <th></th>\n",
       "      <th></th>\n",
       "      <th></th>\n",
       "      <th></th>\n",
       "    </tr>\n",
       "  </thead>\n",
       "  <tbody>\n",
       "    <tr>\n",
       "      <th>A</th>\n",
       "      <td>25</td>\n",
       "      <td>2</td>\n",
       "      <td>23</td>\n",
       "      <td>8.000000</td>\n",
       "    </tr>\n",
       "    <tr>\n",
       "      <th>B</th>\n",
       "      <td>5014</td>\n",
       "      <td>354</td>\n",
       "      <td>4660</td>\n",
       "      <td>7.060231</td>\n",
       "    </tr>\n",
       "    <tr>\n",
       "      <th>C</th>\n",
       "      <td>15921</td>\n",
       "      <td>1353</td>\n",
       "      <td>14568</td>\n",
       "      <td>8.498210</td>\n",
       "    </tr>\n",
       "    <tr>\n",
       "      <th>D</th>\n",
       "      <td>349</td>\n",
       "      <td>21</td>\n",
       "      <td>328</td>\n",
       "      <td>6.017192</td>\n",
       "    </tr>\n",
       "    <tr>\n",
       "      <th>E</th>\n",
       "      <td>22</td>\n",
       "      <td>2</td>\n",
       "      <td>20</td>\n",
       "      <td>9.090909</td>\n",
       "    </tr>\n",
       "  </tbody>\n",
       "</table>\n",
       "</div>"
      ],
      "text/plain": [
       "                       count_borrower  debt  no debt     ratio\n",
       "total_income_category                                         \n",
       "A                                  25     2       23  8.000000\n",
       "B                                5014   354     4660  7.060231\n",
       "C                               15921  1353    14568  8.498210\n",
       "D                                 349    21      328  6.017192\n",
       "E                                  22     2       20  9.090909"
      ]
     },
     "execution_count": 30,
     "metadata": {},
     "output_type": "execute_result"
    }
   ],
   "source": [
    "#Построим сводную таблицу по категориям дохода и посчитаем процент должников\n",
    "data_pivot_income_category1 = data.pivot_table(index='total_income_category', columns='count_borrower', values= 'debt', aggfunc='count')\n",
    "data_pivot_income_category2 = data.pivot_table(index='total_income_category', columns='debt_type', values= 'debt', aggfunc='count')\n",
    "data_pivot_income_category = data_pivot_income_category1.merge(data_pivot_income_category2, on='total_income_category', how='left')\n",
    "data_pivot_income_category['ratio'] = data_pivot_income_category['debt'] / data_pivot_income_category['count_borrower'] * 100\n",
    "data_pivot_income_category"
   ]
  },
  {
   "cell_type": "markdown",
   "id": "9493247a",
   "metadata": {},
   "source": [
    "**Вывод:**\n",
    "\n",
    "Больше всего заемщиков с уровнем дохода 'С' и 'B'. В категории 'С' процент должников составляет 8,5%, а в категории 'B' - 7,1%. Следовательно, более рискованной будет категория заемщиков 'С', она же является самой многочисленной. А в категории 'B' меньше риска."
   ]
  },
  {
   "cell_type": "markdown",
   "id": "ae6fe1ba",
   "metadata": {},
   "source": [
    "## Проверим, как разные цели кредита влияют на его возврат в срок."
   ]
  },
  {
   "cell_type": "code",
   "execution_count": 31,
   "id": "314a7f0b",
   "metadata": {},
   "outputs": [
    {
     "data": {
      "text/html": [
       "<div>\n",
       "<style scoped>\n",
       "    .dataframe tbody tr th:only-of-type {\n",
       "        vertical-align: middle;\n",
       "    }\n",
       "\n",
       "    .dataframe tbody tr th {\n",
       "        vertical-align: top;\n",
       "    }\n",
       "\n",
       "    .dataframe thead th {\n",
       "        text-align: right;\n",
       "    }\n",
       "</style>\n",
       "<table border=\"1\" class=\"dataframe\">\n",
       "  <thead>\n",
       "    <tr style=\"text-align: right;\">\n",
       "      <th></th>\n",
       "      <th>count_borrower</th>\n",
       "      <th>debt</th>\n",
       "      <th>no debt</th>\n",
       "      <th>ratio</th>\n",
       "    </tr>\n",
       "    <tr>\n",
       "      <th>purpose_category</th>\n",
       "      <th></th>\n",
       "      <th></th>\n",
       "      <th></th>\n",
       "      <th></th>\n",
       "    </tr>\n",
       "  </thead>\n",
       "  <tbody>\n",
       "    <tr>\n",
       "      <th>операции с автомобилем</th>\n",
       "      <td>4279</td>\n",
       "      <td>400</td>\n",
       "      <td>3879</td>\n",
       "      <td>9.347978</td>\n",
       "    </tr>\n",
       "    <tr>\n",
       "      <th>операции с недвижимостью</th>\n",
       "      <td>10751</td>\n",
       "      <td>780</td>\n",
       "      <td>9971</td>\n",
       "      <td>7.255139</td>\n",
       "    </tr>\n",
       "    <tr>\n",
       "      <th>получение образования</th>\n",
       "      <td>3988</td>\n",
       "      <td>369</td>\n",
       "      <td>3619</td>\n",
       "      <td>9.252758</td>\n",
       "    </tr>\n",
       "    <tr>\n",
       "      <th>проведение свадьбы</th>\n",
       "      <td>2313</td>\n",
       "      <td>183</td>\n",
       "      <td>2130</td>\n",
       "      <td>7.911803</td>\n",
       "    </tr>\n",
       "  </tbody>\n",
       "</table>\n",
       "</div>"
      ],
      "text/plain": [
       "                          count_borrower  debt  no debt     ratio\n",
       "purpose_category                                                 \n",
       "операции с автомобилем              4279   400     3879  9.347978\n",
       "операции с недвижимостью           10751   780     9971  7.255139\n",
       "получение образования               3988   369     3619  9.252758\n",
       "проведение свадьбы                  2313   183     2130  7.911803"
      ]
     },
     "execution_count": 31,
     "metadata": {},
     "output_type": "execute_result"
    }
   ],
   "source": [
    "#Построим сводную таблицу по категориям целей кредита и посчитаем процент должников\n",
    "data_pivot_purpose_category1 = data.pivot_table(index='purpose_category', columns='count_borrower', values= 'debt', aggfunc='count')\n",
    "data_pivot_purpose_category2 = data.pivot_table(index='purpose_category', columns='debt_type', values= 'debt', aggfunc='count')\n",
    "data_pivot_purpose_category = data_pivot_purpose_category1.merge(data_pivot_purpose_category2, on='purpose_category', how='left')\n",
    "data_pivot_purpose_category['ratio'] = data_pivot_purpose_category['debt'] / data_pivot_purpose_category['count_borrower'] * 100\n",
    "data_pivot_purpose_category"
   ]
  },
  {
   "cell_type": "markdown",
   "id": "d9d2b895",
   "metadata": {},
   "source": [
    "**Вывод:**\n",
    "\n",
    "Самые многочисленные категории 'операции с недвижимостью', 'операции с автомобилем', 'получение образования'. Процент должников в них составляет 7,3%, 9,4% и 9,3% соответственно. Из чего можно сделать вывод, что наименее рискованной является самая многочисленная категория 'операции с недвижимостью', а категории 'операции с автомобилем', 'получение образования' будут самыми рискованными."
   ]
  },
  {
   "cell_type": "markdown",
   "id": "fc01f114",
   "metadata": {},
   "source": [
    "## Выводы"
   ]
  },
  {
   "cell_type": "markdown",
   "id": "3dc4a425",
   "metadata": {},
   "source": [
    "Мы получили от банка статистику о платежеспособности клиентов.\n",
    "\n",
    "Наша цель: выяснить, влияет ли семейное положение и количество детей клиента на факт погашения кредита в срок.\n",
    "\n",
    "На этапе предобработки данных мы устранили аномальные значения, пропуски и дубликаты.\n",
    "\n",
    "В ходе исследования мы выяснили:\n",
    "\n",
    "1) Чем больше у заемщика детей, тем выше риск допустить просрочку.\n",
    "\n",
    "2) Самыми рискованными категориями заемщиков являются 'гражданский брак' и 'Не женат / не замужем'. Самая многочисленная категория 'женат / замужем' является менее рискованной.\n",
    "\n",
    "3) Более рискованной будет категория заемщиков 'С', она же является самой многочисленной. А в категории 'B' меньше риска.\n",
    "\n",
    "4) Менее рискованной является самая многочисленная категория 'операции с недвижимостью', а категории 'операции с автомобилем', 'получение образования' будут самыми рискованными."
   ]
  }
 ],
 "metadata": {
  "ExecuteTimeLog": [
   {
    "duration": 392,
    "start_time": "2024-04-26T09:16:00.598Z"
   },
   {
    "duration": 263,
    "start_time": "2024-04-26T09:16:10.001Z"
   },
   {
    "duration": 17,
    "start_time": "2024-04-26T09:16:41.034Z"
   },
   {
    "duration": 15,
    "start_time": "2024-04-26T09:16:56.426Z"
   },
   {
    "duration": 11,
    "start_time": "2024-04-26T09:18:41.523Z"
   },
   {
    "duration": 58,
    "start_time": "2024-04-26T09:21:10.200Z"
   },
   {
    "duration": 7,
    "start_time": "2024-04-26T09:23:38.049Z"
   },
   {
    "duration": 39,
    "start_time": "2024-04-26T09:23:45.972Z"
   },
   {
    "duration": 6,
    "start_time": "2024-04-26T09:23:49.200Z"
   },
   {
    "duration": 430,
    "start_time": "2024-04-26T09:25:50.961Z"
   },
   {
    "duration": 78,
    "start_time": "2024-04-26T09:25:51.393Z"
   },
   {
    "duration": 19,
    "start_time": "2024-04-26T09:25:51.473Z"
   },
   {
    "duration": 15,
    "start_time": "2024-04-26T09:25:51.494Z"
   },
   {
    "duration": 14,
    "start_time": "2024-04-26T09:25:51.511Z"
   },
   {
    "duration": 38,
    "start_time": "2024-04-26T09:25:55.659Z"
   },
   {
    "duration": 6,
    "start_time": "2024-04-26T09:26:00.652Z"
   },
   {
    "duration": 8,
    "start_time": "2024-04-26T09:26:31.979Z"
   },
   {
    "duration": 5,
    "start_time": "2024-04-26T09:28:21.013Z"
   },
   {
    "duration": 7,
    "start_time": "2024-04-26T09:29:34.125Z"
   },
   {
    "duration": 5,
    "start_time": "2024-04-26T09:29:43.888Z"
   },
   {
    "duration": 37,
    "start_time": "2024-04-26T09:31:54.328Z"
   },
   {
    "duration": 13,
    "start_time": "2024-04-26T09:32:03.904Z"
   },
   {
    "duration": 4,
    "start_time": "2024-04-26T09:37:35.110Z"
   },
   {
    "duration": 19,
    "start_time": "2024-04-26T09:39:08.960Z"
   },
   {
    "duration": 5,
    "start_time": "2024-04-26T09:40:10.681Z"
   },
   {
    "duration": 12,
    "start_time": "2024-04-26T09:41:54.410Z"
   },
   {
    "duration": 7,
    "start_time": "2024-04-26T09:41:58.921Z"
   },
   {
    "duration": 6,
    "start_time": "2024-04-26T09:42:29.015Z"
   },
   {
    "duration": 5,
    "start_time": "2024-04-26T09:42:51.740Z"
   },
   {
    "duration": 5,
    "start_time": "2024-04-26T09:43:09.860Z"
   },
   {
    "duration": 6,
    "start_time": "2024-04-26T09:43:33.029Z"
   },
   {
    "duration": 18,
    "start_time": "2024-04-26T09:47:12.320Z"
   },
   {
    "duration": 32,
    "start_time": "2024-04-26T09:47:25.032Z"
   },
   {
    "duration": 3,
    "start_time": "2024-04-26T09:49:57.638Z"
   },
   {
    "duration": 10,
    "start_time": "2024-04-26T09:50:04.259Z"
   },
   {
    "duration": 5,
    "start_time": "2024-04-26T09:51:49.293Z"
   },
   {
    "duration": 4,
    "start_time": "2024-04-26T09:51:58.076Z"
   },
   {
    "duration": 8,
    "start_time": "2024-04-26T09:52:16.008Z"
   },
   {
    "duration": 43,
    "start_time": "2024-04-26T09:57:39.763Z"
   },
   {
    "duration": 33,
    "start_time": "2024-04-26T10:00:31.583Z"
   },
   {
    "duration": 32,
    "start_time": "2024-04-26T10:03:40.281Z"
   },
   {
    "duration": 34,
    "start_time": "2024-04-26T10:07:03.780Z"
   },
   {
    "duration": 454,
    "start_time": "2024-04-26T10:10:13.744Z"
   },
   {
    "duration": 80,
    "start_time": "2024-04-26T10:10:14.199Z"
   },
   {
    "duration": 19,
    "start_time": "2024-04-26T10:10:14.280Z"
   },
   {
    "duration": 16,
    "start_time": "2024-04-26T10:10:14.301Z"
   },
   {
    "duration": 11,
    "start_time": "2024-04-26T10:10:14.319Z"
   },
   {
    "duration": 70,
    "start_time": "2024-04-26T10:10:14.332Z"
   },
   {
    "duration": 6,
    "start_time": "2024-04-26T10:10:14.403Z"
   },
   {
    "duration": 27,
    "start_time": "2024-04-26T10:10:14.411Z"
   },
   {
    "duration": 13,
    "start_time": "2024-04-26T10:10:14.439Z"
   },
   {
    "duration": 18,
    "start_time": "2024-04-26T10:10:14.453Z"
   },
   {
    "duration": 7,
    "start_time": "2024-04-26T10:10:14.472Z"
   },
   {
    "duration": 74,
    "start_time": "2024-04-26T10:10:14.481Z"
   },
   {
    "duration": 10,
    "start_time": "2024-04-26T10:10:14.557Z"
   },
   {
    "duration": 6,
    "start_time": "2024-04-26T10:10:14.571Z"
   },
   {
    "duration": 14,
    "start_time": "2024-04-26T10:10:14.579Z"
   },
   {
    "duration": 18,
    "start_time": "2024-04-26T10:10:14.595Z"
   },
   {
    "duration": 21,
    "start_time": "2024-04-26T10:10:14.615Z"
   },
   {
    "duration": 33,
    "start_time": "2024-04-26T10:10:14.637Z"
   },
   {
    "duration": 29,
    "start_time": "2024-04-26T10:10:14.672Z"
   },
   {
    "duration": 31,
    "start_time": "2024-04-26T10:10:14.703Z"
   },
   {
    "duration": 58,
    "start_time": "2024-04-26T10:10:14.737Z"
   },
   {
    "duration": 35,
    "start_time": "2024-04-26T10:10:14.797Z"
   },
   {
    "duration": 5,
    "start_time": "2024-04-26T10:10:14.834Z"
   },
   {
    "duration": 41,
    "start_time": "2024-04-26T10:10:14.840Z"
   },
   {
    "duration": 21,
    "start_time": "2024-04-26T10:10:14.883Z"
   },
   {
    "duration": 8,
    "start_time": "2024-04-26T10:10:14.906Z"
   },
   {
    "duration": 16,
    "start_time": "2024-04-26T10:10:14.916Z"
   },
   {
    "duration": 56,
    "start_time": "2024-04-26T10:10:14.934Z"
   },
   {
    "duration": 38,
    "start_time": "2024-04-26T10:10:14.992Z"
   },
   {
    "duration": 92,
    "start_time": "2024-04-26T10:10:15.031Z"
   },
   {
    "duration": 34,
    "start_time": "2024-04-26T10:10:17.642Z"
   }
  ],
  "kernelspec": {
   "display_name": "Python 3 (ipykernel)",
   "language": "python",
   "name": "python3"
  },
  "language_info": {
   "codemirror_mode": {
    "name": "ipython",
    "version": 3
   },
   "file_extension": ".py",
   "mimetype": "text/x-python",
   "name": "python",
   "nbconvert_exporter": "python",
   "pygments_lexer": "ipython3",
   "version": "3.9.5"
  },
  "toc": {
   "base_numbering": 1,
   "nav_menu": {},
   "number_sections": true,
   "sideBar": true,
   "skip_h1_title": true,
   "title_cell": "Table of Contents",
   "title_sidebar": "Contents",
   "toc_cell": false,
   "toc_position": {},
   "toc_section_display": true,
   "toc_window_display": false
  }
 },
 "nbformat": 4,
 "nbformat_minor": 5
}
