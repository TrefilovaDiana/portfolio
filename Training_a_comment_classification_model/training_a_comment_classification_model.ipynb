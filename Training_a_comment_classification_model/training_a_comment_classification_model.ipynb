{
 "cells": [
  {
   "cell_type": "markdown",
   "metadata": {},
   "source": [
    "# Обучение модели классификации комментариев"
   ]
  },
  {
   "cell_type": "markdown",
   "metadata": {},
   "source": [
    "Интернет-магазин запускает новый сервис. Теперь пользователи могут редактировать и дополнять описания товаров, как в вики-сообществах. То есть клиенты предлагают свои правки и комментируют изменения других. Требуется инструмент, который будет искать токсичные комментарии и отправлять их на модерацию.\n",
    "\n",
    "Нужно обучить модель классифицировать комментарии на позитивные и негативные. В нашем распоряжении набор данных с разметкой о токсичности правок.\n",
    "\n",
    "Нужно построить модель со значением метрики качества *F1* не меньше 0.75. "
   ]
  },
  {
   "cell_type": "markdown",
   "metadata": {},
   "source": [
    "# План"
   ]
  },
  {
   "cell_type": "markdown",
   "metadata": {},
   "source": [
    "**1. Подготовка данных.**\n",
    "\n",
    "    1.1.  Загрузка данных.\n",
    "    1.2. Лемматизация текста.\n",
    "    1.3. Устранение стоп-слов.\n",
    "\n",
    "**2. Обучение.**\n",
    "\n",
    "    2.1. Логистическая регрессия.\n",
    "    2.2. LightGBM.\n",
    "\n",
    "**3. Выводы.**"
   ]
  },
  {
   "cell_type": "markdown",
   "metadata": {},
   "source": [
    "## Подготовка"
   ]
  },
  {
   "cell_type": "code",
   "execution_count": 1,
   "metadata": {},
   "outputs": [
    {
     "name": "stdout",
     "output_type": "stream",
     "text": [
      "Requirement already satisfied: spacy in /opt/conda/lib/python3.9/site-packages (3.2.0)\n",
      "Requirement already satisfied: srsly<3.0.0,>=2.4.1 in /opt/conda/lib/python3.9/site-packages (from spacy) (2.4.4)\n",
      "Requirement already satisfied: typer<0.5.0,>=0.3.0 in /opt/conda/lib/python3.9/site-packages (from spacy) (0.4.2)\n",
      "Requirement already satisfied: pathy>=0.3.5 in /opt/conda/lib/python3.9/site-packages (from spacy) (0.6.2)\n",
      "Requirement already satisfied: spacy-loggers<2.0.0,>=1.0.0 in /opt/conda/lib/python3.9/site-packages (from spacy) (1.0.3)\n",
      "Requirement already satisfied: catalogue<2.1.0,>=2.0.6 in /opt/conda/lib/python3.9/site-packages (from spacy) (2.0.8)\n",
      "Requirement already satisfied: murmurhash<1.1.0,>=0.28.0 in /opt/conda/lib/python3.9/site-packages (from spacy) (1.0.8)\n",
      "Requirement already satisfied: langcodes<4.0.0,>=3.2.0 in /opt/conda/lib/python3.9/site-packages (from spacy) (3.3.0)\n",
      "Requirement already satisfied: preshed<3.1.0,>=3.0.2 in /opt/conda/lib/python3.9/site-packages (from spacy) (3.0.7)\n",
      "Requirement already satisfied: spacy-legacy<3.1.0,>=3.0.8 in /opt/conda/lib/python3.9/site-packages (from spacy) (3.0.10)\n",
      "Requirement already satisfied: packaging>=20.0 in /opt/conda/lib/python3.9/site-packages (from spacy) (21.3)\n",
      "Requirement already satisfied: blis<0.8.0,>=0.4.0 in /opt/conda/lib/python3.9/site-packages (from spacy) (0.7.8)\n",
      "Requirement already satisfied: wasabi<1.1.0,>=0.8.1 in /opt/conda/lib/python3.9/site-packages (from spacy) (0.10.1)\n",
      "Requirement already satisfied: cymem<2.1.0,>=2.0.2 in /opt/conda/lib/python3.9/site-packages (from spacy) (2.0.6)\n",
      "Requirement already satisfied: numpy>=1.15.0 in /opt/conda/lib/python3.9/site-packages (from spacy) (1.21.1)\n",
      "Requirement already satisfied: thinc<8.1.0,>=8.0.12 in /opt/conda/lib/python3.9/site-packages (from spacy) (8.0.17)\n",
      "Requirement already satisfied: tqdm<5.0.0,>=4.38.0 in /opt/conda/lib/python3.9/site-packages (from spacy) (4.61.2)\n",
      "Requirement already satisfied: jinja2 in /opt/conda/lib/python3.9/site-packages (from spacy) (3.0.1)\n",
      "Requirement already satisfied: pydantic!=1.8,!=1.8.1,<1.9.0,>=1.7.4 in /opt/conda/lib/python3.9/site-packages (from spacy) (1.8.2)\n",
      "Requirement already satisfied: setuptools in /opt/conda/lib/python3.9/site-packages (from spacy) (49.6.0.post20210108)\n",
      "Requirement already satisfied: requests<3.0.0,>=2.13.0 in /opt/conda/lib/python3.9/site-packages (from spacy) (2.25.1)\n",
      "Requirement already satisfied: pyparsing!=3.0.5,>=2.0.2 in /opt/conda/lib/python3.9/site-packages (from packaging>=20.0->spacy) (2.4.7)\n",
      "Requirement already satisfied: smart-open<6.0.0,>=5.2.1 in /opt/conda/lib/python3.9/site-packages (from pathy>=0.3.5->spacy) (5.2.1)\n",
      "Requirement already satisfied: typing-extensions>=3.7.4.3 in /opt/conda/lib/python3.9/site-packages (from pydantic!=1.8,!=1.8.1,<1.9.0,>=1.7.4->spacy) (4.3.0)\n",
      "Requirement already satisfied: certifi>=2017.4.17 in /opt/conda/lib/python3.9/site-packages (from requests<3.0.0,>=2.13.0->spacy) (2022.6.15)\n",
      "Requirement already satisfied: urllib3<1.27,>=1.21.1 in /opt/conda/lib/python3.9/site-packages (from requests<3.0.0,>=2.13.0->spacy) (1.26.6)\n",
      "Requirement already satisfied: chardet<5,>=3.0.2 in /opt/conda/lib/python3.9/site-packages (from requests<3.0.0,>=2.13.0->spacy) (4.0.0)\n",
      "Requirement already satisfied: idna<3,>=2.5 in /opt/conda/lib/python3.9/site-packages (from requests<3.0.0,>=2.13.0->spacy) (2.10)\n",
      "Requirement already satisfied: click<9.0.0,>=7.1.1 in /opt/conda/lib/python3.9/site-packages (from typer<0.5.0,>=0.3.0->spacy) (8.1.3)\n",
      "Requirement already satisfied: MarkupSafe>=2.0 in /opt/conda/lib/python3.9/site-packages (from jinja2->spacy) (2.1.1)\n",
      "Requirement already satisfied: protobuf==3.20.0 in /opt/conda/lib/python3.9/site-packages (3.20.0)\n"
     ]
    }
   ],
   "source": [
    "!pip install spacy\n",
    "!pip install protobuf==3.20.0"
   ]
  },
  {
   "cell_type": "code",
   "execution_count": 2,
   "metadata": {},
   "outputs": [],
   "source": [
    "# импорт библиотек\n",
    "import pandas as pd\n",
    "import spacy\n",
    "import re\n",
    "from sklearn.feature_extraction.text import TfidfVectorizer\n",
    "import nltk\n",
    "from nltk.corpus import stopwords\n",
    "from sklearn.model_selection import train_test_split\n",
    "import numpy as np\n",
    "from sklearn.linear_model import LogisticRegression\n",
    "from sklearn.metrics import f1_score\n",
    "import matplotlib.pyplot as plt\n",
    "import scipy.sparse\n",
    "from sklearn.model_selection import GridSearchCV\n",
    "import lightgbm as lgb"
   ]
  },
  {
   "cell_type": "markdown",
   "metadata": {},
   "source": [
    "### Загрузим данные"
   ]
  },
  {
   "cell_type": "code",
   "execution_count": 3,
   "metadata": {},
   "outputs": [
    {
     "data": {
      "text/html": [
       "<div>\n",
       "<style scoped>\n",
       "    .dataframe tbody tr th:only-of-type {\n",
       "        vertical-align: middle;\n",
       "    }\n",
       "\n",
       "    .dataframe tbody tr th {\n",
       "        vertical-align: top;\n",
       "    }\n",
       "\n",
       "    .dataframe thead th {\n",
       "        text-align: right;\n",
       "    }\n",
       "</style>\n",
       "<table border=\"1\" class=\"dataframe\">\n",
       "  <thead>\n",
       "    <tr style=\"text-align: right;\">\n",
       "      <th></th>\n",
       "      <th>text</th>\n",
       "      <th>toxic</th>\n",
       "    </tr>\n",
       "  </thead>\n",
       "  <tbody>\n",
       "    <tr>\n",
       "      <th>126790</th>\n",
       "      <td>Please don't be condescending here, this is a ...</td>\n",
       "      <td>0</td>\n",
       "    </tr>\n",
       "    <tr>\n",
       "      <th>127800</th>\n",
       "      <td>Supplimentary question\\nThere's a korean tilti...</td>\n",
       "      <td>0</td>\n",
       "    </tr>\n",
       "    <tr>\n",
       "      <th>52601</th>\n",
       "      <td>Oh boo hoo stop your damn whining!172.168.138.9</td>\n",
       "      <td>1</td>\n",
       "    </tr>\n",
       "    <tr>\n",
       "      <th>21361</th>\n",
       "      <td>Graeme Bartlet MUST die</td>\n",
       "      <td>1</td>\n",
       "    </tr>\n",
       "    <tr>\n",
       "      <th>59143</th>\n",
       "      <td>\"\\n\\n NPOV \\n\\nI wish to protest in the strong...</td>\n",
       "      <td>0</td>\n",
       "    </tr>\n",
       "  </tbody>\n",
       "</table>\n",
       "</div>"
      ],
      "text/plain": [
       "                                                     text  toxic\n",
       "126790  Please don't be condescending here, this is a ...      0\n",
       "127800  Supplimentary question\\nThere's a korean tilti...      0\n",
       "52601     Oh boo hoo stop your damn whining!172.168.138.9      1\n",
       "21361                             Graeme Bartlet MUST die      1\n",
       "59143   \"\\n\\n NPOV \\n\\nI wish to protest in the strong...      0"
      ]
     },
     "execution_count": 3,
     "metadata": {},
     "output_type": "execute_result"
    }
   ],
   "source": [
    "comments_data = pd.read_csv('/datasets/toxic_comments.csv', index_col=0)\n",
    "comments_data.sample(5)"
   ]
  },
  {
   "cell_type": "code",
   "execution_count": 4,
   "metadata": {},
   "outputs": [
    {
     "name": "stdout",
     "output_type": "stream",
     "text": [
      "<class 'pandas.core.frame.DataFrame'>\n",
      "Int64Index: 159292 entries, 0 to 159450\n",
      "Data columns (total 2 columns):\n",
      " #   Column  Non-Null Count   Dtype \n",
      "---  ------  --------------   ----- \n",
      " 0   text    159292 non-null  object\n",
      " 1   toxic   159292 non-null  int64 \n",
      "dtypes: int64(1), object(1)\n",
      "memory usage: 3.6+ MB\n"
     ]
    }
   ],
   "source": [
    "comments_data.info()"
   ]
  },
  {
   "cell_type": "code",
   "execution_count": 5,
   "metadata": {},
   "outputs": [
    {
     "data": {
      "text/plain": [
       "0"
      ]
     },
     "execution_count": 5,
     "metadata": {},
     "output_type": "execute_result"
    }
   ],
   "source": [
    "comments_data.duplicated().sum()"
   ]
  },
  {
   "cell_type": "code",
   "execution_count": 6,
   "metadata": {},
   "outputs": [
    {
     "data": {
      "text/plain": [
       "array([0, 1])"
      ]
     },
     "execution_count": 6,
     "metadata": {},
     "output_type": "execute_result"
    }
   ],
   "source": [
    "comments_data['toxic'].unique()"
   ]
  },
  {
   "cell_type": "code",
   "execution_count": 7,
   "metadata": {},
   "outputs": [
    {
     "name": "stdout",
     "output_type": "stream",
     "text": [
      "89.83878663084147\n",
      "10.161213369158526\n"
     ]
    }
   ],
   "source": [
    "# Исследуем баланс классов\n",
    "print(comments_data.loc[comments_data['toxic'] == 0, 'toxic'].count()/len(comments_data)*100)\n",
    "print(comments_data.loc[comments_data['toxic'] == 1, 'toxic'].count()/len(comments_data)*100)"
   ]
  },
  {
   "cell_type": "code",
   "execution_count": 8,
   "metadata": {},
   "outputs": [
    {
     "data": {
      "image/png": "[encoded data removed]",
      "text/plain": [
       "<Figure size 432x288 with 1 Axes>"
      ]
     },
     "metadata": {
      "needs_background": "light"
     },
     "output_type": "display_data"
    }
   ],
   "source": [
    "plt.hist(comments_data['toxic'], facecolor='green');"
   ]
  },
  {
   "cell_type": "code",
   "execution_count": 9,
   "metadata": {},
   "outputs": [],
   "source": [
    "comments_data['text'] = comments_data['text'].str.lower()"
   ]
  },
  {
   "cell_type": "markdown",
   "metadata": {},
   "source": [
    "Данные загрузили. Пропусков и дубликатов нет.\n",
    "\n",
    "Присутствует сильный дисбаланс классов: прмеров с классом 0 - 90%, а с классом 1 - 10%."
   ]
  },
  {
   "cell_type": "markdown",
   "metadata": {},
   "source": [
    "### Лемматизируем текст"
   ]
  },
  {
   "cell_type": "code",
   "execution_count": 10,
   "metadata": {},
   "outputs": [],
   "source": [
    "nlp = spacy.load(\"en_core_web_sm\")"
   ]
  },
  {
   "cell_type": "code",
   "execution_count": 11,
   "metadata": {},
   "outputs": [],
   "source": [
    "def lemmatize(text):\n",
    "    doc = nlp(text)\n",
    "    return \" \".join([token.lemma_ for token in doc])"
   ]
  },
  {
   "cell_type": "code",
   "execution_count": 12,
   "metadata": {},
   "outputs": [],
   "source": [
    "def clear_text(text):\n",
    "    t = re.sub(r'[^a-zA-Z ]', ' ', text)\n",
    "    t = t.split()\n",
    "    t = \" \".join(t)\n",
    "    return t"
   ]
  },
  {
   "cell_type": "code",
   "execution_count": 13,
   "metadata": {},
   "outputs": [
    {
     "name": "stdout",
     "output_type": "stream",
     "text": [
      "CPU times: user 2.04 s, sys: 6.88 ms, total: 2.04 s\n",
      "Wall time: 2.05 s\n"
     ]
    },
    {
     "data": {
      "text/plain": [
       "75652     uh you do realize that neither excalibur nor k...\n",
       "101521    thx for lol you are a steaming shocking pile o...\n",
       "125424    actually it is not known commonly as revelatio...\n",
       "33691     good god if this article is biased it s in fav...\n",
       "120858    i don t know what that last comment means this...\n",
       "Name: text, dtype: object"
      ]
     },
     "execution_count": 13,
     "metadata": {},
     "output_type": "execute_result"
    }
   ],
   "source": [
    "%%time\n",
    "lem_comments_data = comments_data['text'].apply(clear_text)\n",
    "lem_comments_data.sample(5)"
   ]
  },
  {
   "cell_type": "code",
   "execution_count": 14,
   "metadata": {},
   "outputs": [
    {
     "data": {
      "text/plain": [
       "0      good samaritan hospital thanks for the copyedi...\n",
       "1                                        hi look at this\n",
       "2            my hog is size soft with a nice chubb chubb\n",
       "3      tad please communicate with amaury or an admin...\n",
       "4      ps ie if there was no money involved would the...\n",
       "                             ...                        \n",
       "995    it will be really cool if someone can get the ...\n",
       "996    the assertion that holodomor is a term used ex...\n",
       "997    mount everest if it s a scientific fact that m...\n",
       "998    i am reading it and have it watchlisted but th...\n",
       "999    my edits are personal opinion what does that e...\n",
       "Name: text, Length: 1000, dtype: object"
      ]
     },
     "execution_count": 14,
     "metadata": {},
     "output_type": "execute_result"
    }
   ],
   "source": [
    "#Пример работы лемматизации\n",
    "test = lem_comments_data.sample(1000).reset_index(drop=True)\n",
    "test"
   ]
  },
  {
   "cell_type": "code",
   "execution_count": null,
   "metadata": {},
   "outputs": [],
   "source": [
    "%%time\n",
    "test = test.apply(lemmatize)\n",
    "test.sample(5)"
   ]
  },
  {
   "cell_type": "code",
   "execution_count": null,
   "metadata": {},
   "outputs": [],
   "source": [
    "%%time\n",
    "lem_comments_data = lem_comments_data.apply(lemmatize)\n",
    "lem_comments_data.sample(5)"
   ]
  },
  {
   "cell_type": "markdown",
   "metadata": {},
   "source": [
    "Сохраним обработанные данные в файлах, чтобы не повоторять обработку каждый раз при перезапуске кода."
   ]
  },
  {
   "cell_type": "code",
   "execution_count": null,
   "metadata": {},
   "outputs": [],
   "source": [
    "pd.Series(lem_comments_data).to_csv('final_lem_comments_data', index = False, header=True)"
   ]
  },
  {
   "cell_type": "markdown",
   "metadata": {},
   "source": [
    "### Избавимся от стоп-слов"
   ]
  },
  {
   "cell_type": "code",
   "execution_count": 10,
   "metadata": {},
   "outputs": [
    {
     "data": {
      "text/html": [
       "<div>\n",
       "<style scoped>\n",
       "    .dataframe tbody tr th:only-of-type {\n",
       "        vertical-align: middle;\n",
       "    }\n",
       "\n",
       "    .dataframe tbody tr th {\n",
       "        vertical-align: top;\n",
       "    }\n",
       "\n",
       "    .dataframe thead th {\n",
       "        text-align: right;\n",
       "    }\n",
       "</style>\n",
       "<table border=\"1\" class=\"dataframe\">\n",
       "  <thead>\n",
       "    <tr style=\"text-align: right;\">\n",
       "      <th></th>\n",
       "      <th>text</th>\n",
       "    </tr>\n",
       "  </thead>\n",
       "  <tbody>\n",
       "    <tr>\n",
       "      <th>135028</th>\n",
       "      <td>it say this user also use the hitchhiker s gui...</td>\n",
       "    </tr>\n",
       "    <tr>\n",
       "      <th>3870</th>\n",
       "      <td>when do you say if you need to message each ot...</td>\n",
       "    </tr>\n",
       "    <tr>\n",
       "      <th>110517</th>\n",
       "      <td>can you leave tawker this message from I I m s...</td>\n",
       "    </tr>\n",
       "    <tr>\n",
       "      <th>29263</th>\n",
       "      <td>unblock reason your reason here leave account ...</td>\n",
       "    </tr>\n",
       "    <tr>\n",
       "      <th>115692</th>\n",
       "      <td>it be badly write so no argument with its remo...</td>\n",
       "    </tr>\n",
       "  </tbody>\n",
       "</table>\n",
       "</div>"
      ],
      "text/plain": [
       "                                                     text\n",
       "135028  it say this user also use the hitchhiker s gui...\n",
       "3870    when do you say if you need to message each ot...\n",
       "110517  can you leave tawker this message from I I m s...\n",
       "29263   unblock reason your reason here leave account ...\n",
       "115692  it be badly write so no argument with its remo..."
      ]
     },
     "execution_count": 10,
     "metadata": {},
     "output_type": "execute_result"
    }
   ],
   "source": [
    "lem_data = pd.read_csv('final_lem_comments_data').reset_index(drop=True)\n",
    "lem_data.sample(5)"
   ]
  },
  {
   "cell_type": "code",
   "execution_count": 11,
   "metadata": {},
   "outputs": [
    {
     "data": {
      "text/plain": [
       "0         0\n",
       "1         0\n",
       "2         0\n",
       "3         0\n",
       "4         0\n",
       "         ..\n",
       "159287    0\n",
       "159288    0\n",
       "159289    0\n",
       "159290    0\n",
       "159291    0\n",
       "Name: toxic, Length: 159292, dtype: int64"
      ]
     },
     "execution_count": 11,
     "metadata": {},
     "output_type": "execute_result"
    }
   ],
   "source": [
    "toxic_data = comments_data['toxic'].reset_index(drop=True)\n",
    "toxic_data"
   ]
  },
  {
   "cell_type": "code",
   "execution_count": 12,
   "metadata": {},
   "outputs": [
    {
     "name": "stdout",
     "output_type": "stream",
     "text": [
      "<class 'pandas.core.frame.DataFrame'>\n",
      "RangeIndex: 159292 entries, 0 to 159291\n",
      "Data columns (total 2 columns):\n",
      " #   Column  Non-Null Count   Dtype \n",
      "---  ------  --------------   ----- \n",
      " 0   text    159281 non-null  object\n",
      " 1   toxic   159292 non-null  int64 \n",
      "dtypes: int64(1), object(1)\n",
      "memory usage: 2.4+ MB\n"
     ]
    }
   ],
   "source": [
    "lem_data['toxic'] = toxic_data\n",
    "lem_data.info()"
   ]
  },
  {
   "cell_type": "code",
   "execution_count": 13,
   "metadata": {},
   "outputs": [
    {
     "data": {
      "text/plain": [
       "11"
      ]
     },
     "execution_count": 13,
     "metadata": {},
     "output_type": "execute_result"
    }
   ],
   "source": [
    "lem_data['text'].isna().sum()"
   ]
  },
  {
   "cell_type": "code",
   "execution_count": 14,
   "metadata": {},
   "outputs": [
    {
     "data": {
      "text/plain": [
       "0"
      ]
     },
     "execution_count": 14,
     "metadata": {},
     "output_type": "execute_result"
    }
   ],
   "source": [
    "lem_data = lem_data.loc[lem_data['text'].isna() == False]\n",
    "lem_data['text'].isna().sum()"
   ]
  },
  {
   "cell_type": "code",
   "execution_count": 15,
   "metadata": {},
   "outputs": [
    {
     "name": "stdout",
     "output_type": "stream",
     "text": [
      "(119460, 1)\n",
      "(119460,)\n",
      "(39821, 1)\n",
      "(39821,)\n"
     ]
    }
   ],
   "source": [
    "features = lem_data.drop('toxic', axis=1)\n",
    "target = lem_data['toxic']\n",
    "\n",
    "features_train, features_test, target_train, target_test = train_test_split(features, target, test_size=0.25, random_state=12345, stratify=target)\n",
    "\n",
    "print(features_train.shape)\n",
    "print(target_train.shape)\n",
    "print(features_test.shape)\n",
    "print(target_test.shape)"
   ]
  },
  {
   "cell_type": "code",
   "execution_count": 16,
   "metadata": {},
   "outputs": [
    {
     "data": {
      "text/plain": [
       "array(['opps my bad bitch fuck wikipedia bitch and david eppstein fuck wikipedia bitch and david eppstein fuck wikipedia bitch and david eppstein fuck wikipedia bitch and david eppstein fuck wikipedia bitch and david eppstein fuck wikipedia bitch and david eppstein fuck wikipedia bitch and david eppstein fuck wikipedia bitch and david eppstein fuck wikipedia bitch and david eppstein fuck wikipedia bitch and david eppstein fuck wikipedia bitch and david eppstein fuck wikipedia bitch and david eppstein fuck wikipedia bitch and david eppstein fuck wikipedia bitch and david eppstein',\n",
       "       'before you start rant about dangerous and worrisome thing you should know what you be talk about first the first section abraham form be very much form criticism form criticism be a method of biblical criticism that classifie unit of scripture by literary pattern and that attempt to trace each type to its period of oral transmission form criticism seek to determine a unit s original form and the historical context of the literary tradition all of these point be cover within that section also note that it be use to supplement the documentary hypothesis explain the origin of the pentateuch which mean that form criticism be a sub part of source criticism documentary hypothesis if you',\n",
       "       'your rfm provide you be willing I have decide to take on your mediation case please let I know there if this be acceptable to you omg plz',\n",
       "       ...,\n",
       "       'ps when you do reset the interval to eight hour please also set the time of the next update to utc when it should be eight hour after the utc update otherwise we ll still be off cycle with a utc update and it will take several day for the bot to move at minute increment to reset as above many thank',\n",
       "       'yes it look much well than before at the top of the page it say this article need additional citation for verification may be britannica encyclopedia could help add citation I dunno cheer',\n",
       "       'keep up the good work user fyunclick s edit be contrary to the outside source source such as espn the world almanac the encyclopedia britannica and the roland garros website all list the french pre champion fyunclick have go so far as to claim the tournament start in and blank the pre champions don t be discourage by his bad behavior continue to report it and note why what he be do be contrary to wikipedia which require that article reflect pluralistic point of view and mutliple major independent source fyunclick be clearly wrong yet have show no inclination to compromise admit mistake or the like thus be it up to other to point out his behavior which in the long term damage not just wikipedia but the education of those who use it'],\n",
       "      dtype=object)"
      ]
     },
     "execution_count": 16,
     "metadata": {},
     "output_type": "execute_result"
    }
   ],
   "source": [
    "corpus_train = features_train['text'].values\n",
    "corpus_train"
   ]
  },
  {
   "cell_type": "code",
   "execution_count": 17,
   "metadata": {},
   "outputs": [
    {
     "data": {
      "text/plain": [
       "array(['in addition please don t make change to verified fact in article and say in your description that the change be due to spelling and grammar fixup I m go to have to revert one of your change in the sasha grey article as it s already a resolve issue thank you cp',\n",
       "       'as well as all subpage and the main userpage of my prior account user dorftrottel preferably then restore it with a simple link to this talk page',\n",
       "       'there be an overlap between the function of a storage organ and a perennate organ but they be in principle different see raunki r plant life form for a classification of perennate organ resting bud be a perennate organ but not a storage organ the stem body of a cactus be generally regard as having be modify to act as a water storage organ but it s not a perennate organ in that it s not what the cactus die back to in an adverse period there could usefully be some cross referencing which I will attempt',\n",
       "       ...,\n",
       "       'regard joseph e prince please explain why you delete this page this be a verifiable story at imdb com under liberation saturday I delete joseph e prince under wp csd a because it list a person who be a high school and college athlete but do not participate at any professional level these do not seem to be assertion of notability to I in re read the delete article I do see that there be an assertion he be most note for short documentary liberation saturday which technically disqualify this article for speedy deletion that doesn t mean the subject be notable but if you wish I to restore it I will do so you may reasonably expect someone else to nominate it for deletion however be the subject of a documentary be not generally consider to confer notability note that the film do not have an article either when you recreate the article two day later and a different admin delete it the same a reason be give and that deletion be correct as it do not even assert notability another option be for I to restore the article to your own user space so you can work on it and get advice from other before move it to the main article space talk',\n",
       "       'imdb text most of this article be lift directly from imdb I m pretty sure that s not ok I d re write it but I m well at correct text than create it',\n",
       "       'ok I intend to make some change to the description in paragraph as soon as rickk stop revert they there be glaring inaccuracy for example the blithedale romance be not about an elixir of life et cetera what do you say rickk'],\n",
       "      dtype=object)"
      ]
     },
     "execution_count": 17,
     "metadata": {},
     "output_type": "execute_result"
    }
   ],
   "source": [
    "corpus_test = features_test['text'].values\n",
    "corpus_test"
   ]
  },
  {
   "cell_type": "code",
   "execution_count": 18,
   "metadata": {},
   "outputs": [],
   "source": [
    "stop_words = set(stopwords.words('english'))\n",
    "count_tf_idf = TfidfVectorizer(stop_words=list(stop_words), dtype=np.float32, max_features=15000)"
   ]
  },
  {
   "cell_type": "code",
   "execution_count": 19,
   "metadata": {
    "scrolled": true
   },
   "outputs": [
    {
     "data": {
      "text/plain": [
       "<119460x15000 sparse matrix of type '<class 'numpy.float32'>'\n",
       "\twith 2916069 stored elements in Compressed Sparse Row format>"
      ]
     },
     "execution_count": 19,
     "metadata": {},
     "output_type": "execute_result"
    }
   ],
   "source": [
    "tf_idf_data = count_tf_idf.fit_transform(corpus_train)\n",
    "tf_idf_data"
   ]
  },
  {
   "cell_type": "code",
   "execution_count": 20,
   "metadata": {
    "scrolled": true
   },
   "outputs": [
    {
     "data": {
      "text/html": [
       "<div>\n",
       "<style scoped>\n",
       "    .dataframe tbody tr th:only-of-type {\n",
       "        vertical-align: middle;\n",
       "    }\n",
       "\n",
       "    .dataframe tbody tr th {\n",
       "        vertical-align: top;\n",
       "    }\n",
       "\n",
       "    .dataframe thead th {\n",
       "        text-align: right;\n",
       "    }\n",
       "</style>\n",
       "<table border=\"1\" class=\"dataframe\">\n",
       "  <thead>\n",
       "    <tr style=\"text-align: right;\">\n",
       "      <th></th>\n",
       "      <th>aa</th>\n",
       "      <th>aaliyah</th>\n",
       "      <th>aap</th>\n",
       "      <th>aardvark</th>\n",
       "      <th>aaron</th>\n",
       "      <th>ab</th>\n",
       "      <th>aba</th>\n",
       "      <th>abandon</th>\n",
       "      <th>abandonment</th>\n",
       "      <th>abbas</th>\n",
       "      <th>...</th>\n",
       "      <th>zoe</th>\n",
       "      <th>zombie</th>\n",
       "      <th>zone</th>\n",
       "      <th>zoo</th>\n",
       "      <th>zoom</th>\n",
       "      <th>zora</th>\n",
       "      <th>zoroastrian</th>\n",
       "      <th>zu</th>\n",
       "      <th>zuck</th>\n",
       "      <th>zzzzzzzzzzzzzzzzzzzzzzzzzzzzzzzzzzzzzzzzzzzzzzzzzzzzzzzzzzzzzzzzzzzzzzzzzzzzzzzzzzzzzzzzzzzzzzzzzzzzzzzzzzzzzzzzzzzzzzzzzzzzzzzzzzzzzzzzzzzzzzzzzzzzzz</th>\n",
       "    </tr>\n",
       "  </thead>\n",
       "  <tbody>\n",
       "    <tr>\n",
       "      <th>34123</th>\n",
       "      <td>0.0</td>\n",
       "      <td>0.0</td>\n",
       "      <td>0.0</td>\n",
       "      <td>0.0</td>\n",
       "      <td>0.0</td>\n",
       "      <td>0.0</td>\n",
       "      <td>0.0</td>\n",
       "      <td>0.0</td>\n",
       "      <td>0.0</td>\n",
       "      <td>0.0</td>\n",
       "      <td>...</td>\n",
       "      <td>0.0</td>\n",
       "      <td>0.0</td>\n",
       "      <td>0.0</td>\n",
       "      <td>0.0</td>\n",
       "      <td>0.0</td>\n",
       "      <td>0.0</td>\n",
       "      <td>0.0</td>\n",
       "      <td>0.0</td>\n",
       "      <td>0.0</td>\n",
       "      <td>0.0</td>\n",
       "    </tr>\n",
       "    <tr>\n",
       "      <th>70519</th>\n",
       "      <td>0.0</td>\n",
       "      <td>0.0</td>\n",
       "      <td>0.0</td>\n",
       "      <td>0.0</td>\n",
       "      <td>0.0</td>\n",
       "      <td>0.0</td>\n",
       "      <td>0.0</td>\n",
       "      <td>0.0</td>\n",
       "      <td>0.0</td>\n",
       "      <td>0.0</td>\n",
       "      <td>...</td>\n",
       "      <td>0.0</td>\n",
       "      <td>0.0</td>\n",
       "      <td>0.0</td>\n",
       "      <td>0.0</td>\n",
       "      <td>0.0</td>\n",
       "      <td>0.0</td>\n",
       "      <td>0.0</td>\n",
       "      <td>0.0</td>\n",
       "      <td>0.0</td>\n",
       "      <td>0.0</td>\n",
       "    </tr>\n",
       "    <tr>\n",
       "      <th>81096</th>\n",
       "      <td>0.0</td>\n",
       "      <td>0.0</td>\n",
       "      <td>0.0</td>\n",
       "      <td>0.0</td>\n",
       "      <td>0.0</td>\n",
       "      <td>0.0</td>\n",
       "      <td>0.0</td>\n",
       "      <td>0.0</td>\n",
       "      <td>0.0</td>\n",
       "      <td>0.0</td>\n",
       "      <td>...</td>\n",
       "      <td>0.0</td>\n",
       "      <td>0.0</td>\n",
       "      <td>0.0</td>\n",
       "      <td>0.0</td>\n",
       "      <td>0.0</td>\n",
       "      <td>0.0</td>\n",
       "      <td>0.0</td>\n",
       "      <td>0.0</td>\n",
       "      <td>0.0</td>\n",
       "      <td>0.0</td>\n",
       "    </tr>\n",
       "    <tr>\n",
       "      <th>7678</th>\n",
       "      <td>0.0</td>\n",
       "      <td>0.0</td>\n",
       "      <td>0.0</td>\n",
       "      <td>0.0</td>\n",
       "      <td>0.0</td>\n",
       "      <td>0.0</td>\n",
       "      <td>0.0</td>\n",
       "      <td>0.0</td>\n",
       "      <td>0.0</td>\n",
       "      <td>0.0</td>\n",
       "      <td>...</td>\n",
       "      <td>0.0</td>\n",
       "      <td>0.0</td>\n",
       "      <td>0.0</td>\n",
       "      <td>0.0</td>\n",
       "      <td>0.0</td>\n",
       "      <td>0.0</td>\n",
       "      <td>0.0</td>\n",
       "      <td>0.0</td>\n",
       "      <td>0.0</td>\n",
       "      <td>0.0</td>\n",
       "    </tr>\n",
       "    <tr>\n",
       "      <th>23518</th>\n",
       "      <td>0.0</td>\n",
       "      <td>0.0</td>\n",
       "      <td>0.0</td>\n",
       "      <td>0.0</td>\n",
       "      <td>0.0</td>\n",
       "      <td>0.0</td>\n",
       "      <td>0.0</td>\n",
       "      <td>0.0</td>\n",
       "      <td>0.0</td>\n",
       "      <td>0.0</td>\n",
       "      <td>...</td>\n",
       "      <td>0.0</td>\n",
       "      <td>0.0</td>\n",
       "      <td>0.0</td>\n",
       "      <td>0.0</td>\n",
       "      <td>0.0</td>\n",
       "      <td>0.0</td>\n",
       "      <td>0.0</td>\n",
       "      <td>0.0</td>\n",
       "      <td>0.0</td>\n",
       "      <td>0.0</td>\n",
       "    </tr>\n",
       "  </tbody>\n",
       "</table>\n",
       "<p>5 rows × 15000 columns</p>\n",
       "</div>"
      ],
      "text/plain": [
       "        aa  aaliyah  aap  aardvark  aaron   ab  aba  abandon  abandonment  \\\n",
       "34123  0.0      0.0  0.0       0.0    0.0  0.0  0.0      0.0          0.0   \n",
       "70519  0.0      0.0  0.0       0.0    0.0  0.0  0.0      0.0          0.0   \n",
       "81096  0.0      0.0  0.0       0.0    0.0  0.0  0.0      0.0          0.0   \n",
       "7678   0.0      0.0  0.0       0.0    0.0  0.0  0.0      0.0          0.0   \n",
       "23518  0.0      0.0  0.0       0.0    0.0  0.0  0.0      0.0          0.0   \n",
       "\n",
       "       abbas  ...  zoe  zombie  zone  zoo  zoom  zora  zoroastrian   zu  zuck  \\\n",
       "34123    0.0  ...  0.0     0.0   0.0  0.0   0.0   0.0          0.0  0.0   0.0   \n",
       "70519    0.0  ...  0.0     0.0   0.0  0.0   0.0   0.0          0.0  0.0   0.0   \n",
       "81096    0.0  ...  0.0     0.0   0.0  0.0   0.0   0.0          0.0  0.0   0.0   \n",
       "7678     0.0  ...  0.0     0.0   0.0  0.0   0.0   0.0          0.0  0.0   0.0   \n",
       "23518    0.0  ...  0.0     0.0   0.0  0.0   0.0   0.0          0.0  0.0   0.0   \n",
       "\n",
       "       zzzzzzzzzzzzzzzzzzzzzzzzzzzzzzzzzzzzzzzzzzzzzzzzzzzzzzzzzzzzzzzzzzzzzzzzzzzzzzzzzzzzzzzzzzzzzzzzzzzzzzzzzzzzzzzzzzzzzzzzzzzzzzzzzzzzzzzzzzzzzzzzzzzzzz  \n",
       "34123                                                0.0                                                                                                       \n",
       "70519                                                0.0                                                                                                       \n",
       "81096                                                0.0                                                                                                       \n",
       "7678                                                 0.0                                                                                                       \n",
       "23518                                                0.0                                                                                                       \n",
       "\n",
       "[5 rows x 15000 columns]"
      ]
     },
     "execution_count": 20,
     "metadata": {},
     "output_type": "execute_result"
    }
   ],
   "source": [
    "clear_train_data = pd.DataFrame.sparse.from_spmatrix(tf_idf_data, columns=count_tf_idf.get_feature_names())\n",
    "clear_train_data.sample(5)"
   ]
  },
  {
   "cell_type": "code",
   "execution_count": 21,
   "metadata": {},
   "outputs": [
    {
     "data": {
      "text/plain": [
       "<39821x15000 sparse matrix of type '<class 'numpy.float32'>'\n",
       "\twith 965913 stored elements in Compressed Sparse Row format>"
      ]
     },
     "execution_count": 21,
     "metadata": {},
     "output_type": "execute_result"
    }
   ],
   "source": [
    "tf_idf_test = count_tf_idf.transform(corpus_test)\n",
    "tf_idf_test"
   ]
  },
  {
   "cell_type": "code",
   "execution_count": 22,
   "metadata": {},
   "outputs": [
    {
     "data": {
      "text/html": [
       "<div>\n",
       "<style scoped>\n",
       "    .dataframe tbody tr th:only-of-type {\n",
       "        vertical-align: middle;\n",
       "    }\n",
       "\n",
       "    .dataframe tbody tr th {\n",
       "        vertical-align: top;\n",
       "    }\n",
       "\n",
       "    .dataframe thead th {\n",
       "        text-align: right;\n",
       "    }\n",
       "</style>\n",
       "<table border=\"1\" class=\"dataframe\">\n",
       "  <thead>\n",
       "    <tr style=\"text-align: right;\">\n",
       "      <th></th>\n",
       "      <th>aa</th>\n",
       "      <th>aaliyah</th>\n",
       "      <th>aap</th>\n",
       "      <th>aardvark</th>\n",
       "      <th>aaron</th>\n",
       "      <th>ab</th>\n",
       "      <th>aba</th>\n",
       "      <th>abandon</th>\n",
       "      <th>abandonment</th>\n",
       "      <th>abbas</th>\n",
       "      <th>...</th>\n",
       "      <th>zoe</th>\n",
       "      <th>zombie</th>\n",
       "      <th>zone</th>\n",
       "      <th>zoo</th>\n",
       "      <th>zoom</th>\n",
       "      <th>zora</th>\n",
       "      <th>zoroastrian</th>\n",
       "      <th>zu</th>\n",
       "      <th>zuck</th>\n",
       "      <th>zzzzzzzzzzzzzzzzzzzzzzzzzzzzzzzzzzzzzzzzzzzzzzzzzzzzzzzzzzzzzzzzzzzzzzzzzzzzzzzzzzzzzzzzzzzzzzzzzzzzzzzzzzzzzzzzzzzzzzzzzzzzzzzzzzzzzzzzzzzzzzzzzzzzzz</th>\n",
       "    </tr>\n",
       "  </thead>\n",
       "  <tbody>\n",
       "    <tr>\n",
       "      <th>19640</th>\n",
       "      <td>0.0</td>\n",
       "      <td>0.0</td>\n",
       "      <td>0.0</td>\n",
       "      <td>0.0</td>\n",
       "      <td>0.0</td>\n",
       "      <td>0.0</td>\n",
       "      <td>0.0</td>\n",
       "      <td>0.212507</td>\n",
       "      <td>0.0</td>\n",
       "      <td>0.0</td>\n",
       "      <td>...</td>\n",
       "      <td>0.0</td>\n",
       "      <td>0.0</td>\n",
       "      <td>0.0</td>\n",
       "      <td>0.0</td>\n",
       "      <td>0.0</td>\n",
       "      <td>0.0</td>\n",
       "      <td>0.0</td>\n",
       "      <td>0.0</td>\n",
       "      <td>0.0</td>\n",
       "      <td>0.0</td>\n",
       "    </tr>\n",
       "    <tr>\n",
       "      <th>25422</th>\n",
       "      <td>0.0</td>\n",
       "      <td>0.0</td>\n",
       "      <td>0.0</td>\n",
       "      <td>0.0</td>\n",
       "      <td>0.0</td>\n",
       "      <td>0.0</td>\n",
       "      <td>0.0</td>\n",
       "      <td>0.000000</td>\n",
       "      <td>0.0</td>\n",
       "      <td>0.0</td>\n",
       "      <td>...</td>\n",
       "      <td>0.0</td>\n",
       "      <td>0.0</td>\n",
       "      <td>0.0</td>\n",
       "      <td>0.0</td>\n",
       "      <td>0.0</td>\n",
       "      <td>0.0</td>\n",
       "      <td>0.0</td>\n",
       "      <td>0.0</td>\n",
       "      <td>0.0</td>\n",
       "      <td>0.0</td>\n",
       "    </tr>\n",
       "    <tr>\n",
       "      <th>19210</th>\n",
       "      <td>0.0</td>\n",
       "      <td>0.0</td>\n",
       "      <td>0.0</td>\n",
       "      <td>0.0</td>\n",
       "      <td>0.0</td>\n",
       "      <td>0.0</td>\n",
       "      <td>0.0</td>\n",
       "      <td>0.000000</td>\n",
       "      <td>0.0</td>\n",
       "      <td>0.0</td>\n",
       "      <td>...</td>\n",
       "      <td>0.0</td>\n",
       "      <td>0.0</td>\n",
       "      <td>0.0</td>\n",
       "      <td>0.0</td>\n",
       "      <td>0.0</td>\n",
       "      <td>0.0</td>\n",
       "      <td>0.0</td>\n",
       "      <td>0.0</td>\n",
       "      <td>0.0</td>\n",
       "      <td>0.0</td>\n",
       "    </tr>\n",
       "    <tr>\n",
       "      <th>27972</th>\n",
       "      <td>0.0</td>\n",
       "      <td>0.0</td>\n",
       "      <td>0.0</td>\n",
       "      <td>0.0</td>\n",
       "      <td>0.0</td>\n",
       "      <td>0.0</td>\n",
       "      <td>0.0</td>\n",
       "      <td>0.000000</td>\n",
       "      <td>0.0</td>\n",
       "      <td>0.0</td>\n",
       "      <td>...</td>\n",
       "      <td>0.0</td>\n",
       "      <td>0.0</td>\n",
       "      <td>0.0</td>\n",
       "      <td>0.0</td>\n",
       "      <td>0.0</td>\n",
       "      <td>0.0</td>\n",
       "      <td>0.0</td>\n",
       "      <td>0.0</td>\n",
       "      <td>0.0</td>\n",
       "      <td>0.0</td>\n",
       "    </tr>\n",
       "    <tr>\n",
       "      <th>32010</th>\n",
       "      <td>0.0</td>\n",
       "      <td>0.0</td>\n",
       "      <td>0.0</td>\n",
       "      <td>0.0</td>\n",
       "      <td>0.0</td>\n",
       "      <td>0.0</td>\n",
       "      <td>0.0</td>\n",
       "      <td>0.000000</td>\n",
       "      <td>0.0</td>\n",
       "      <td>0.0</td>\n",
       "      <td>...</td>\n",
       "      <td>0.0</td>\n",
       "      <td>0.0</td>\n",
       "      <td>0.0</td>\n",
       "      <td>0.0</td>\n",
       "      <td>0.0</td>\n",
       "      <td>0.0</td>\n",
       "      <td>0.0</td>\n",
       "      <td>0.0</td>\n",
       "      <td>0.0</td>\n",
       "      <td>0.0</td>\n",
       "    </tr>\n",
       "  </tbody>\n",
       "</table>\n",
       "<p>5 rows × 15000 columns</p>\n",
       "</div>"
      ],
      "text/plain": [
       "        aa  aaliyah  aap  aardvark  aaron   ab  aba   abandon  abandonment  \\\n",
       "19640  0.0      0.0  0.0       0.0    0.0  0.0  0.0  0.212507          0.0   \n",
       "25422  0.0      0.0  0.0       0.0    0.0  0.0  0.0  0.000000          0.0   \n",
       "19210  0.0      0.0  0.0       0.0    0.0  0.0  0.0  0.000000          0.0   \n",
       "27972  0.0      0.0  0.0       0.0    0.0  0.0  0.0  0.000000          0.0   \n",
       "32010  0.0      0.0  0.0       0.0    0.0  0.0  0.0  0.000000          0.0   \n",
       "\n",
       "       abbas  ...  zoe  zombie  zone  zoo  zoom  zora  zoroastrian   zu  zuck  \\\n",
       "19640    0.0  ...  0.0     0.0   0.0  0.0   0.0   0.0          0.0  0.0   0.0   \n",
       "25422    0.0  ...  0.0     0.0   0.0  0.0   0.0   0.0          0.0  0.0   0.0   \n",
       "19210    0.0  ...  0.0     0.0   0.0  0.0   0.0   0.0          0.0  0.0   0.0   \n",
       "27972    0.0  ...  0.0     0.0   0.0  0.0   0.0   0.0          0.0  0.0   0.0   \n",
       "32010    0.0  ...  0.0     0.0   0.0  0.0   0.0   0.0          0.0  0.0   0.0   \n",
       "\n",
       "       zzzzzzzzzzzzzzzzzzzzzzzzzzzzzzzzzzzzzzzzzzzzzzzzzzzzzzzzzzzzzzzzzzzzzzzzzzzzzzzzzzzzzzzzzzzzzzzzzzzzzzzzzzzzzzzzzzzzzzzzzzzzzzzzzzzzzzzzzzzzzzzzzzzzzz  \n",
       "19640                                                0.0                                                                                                       \n",
       "25422                                                0.0                                                                                                       \n",
       "19210                                                0.0                                                                                                       \n",
       "27972                                                0.0                                                                                                       \n",
       "32010                                                0.0                                                                                                       \n",
       "\n",
       "[5 rows x 15000 columns]"
      ]
     },
     "execution_count": 22,
     "metadata": {},
     "output_type": "execute_result"
    }
   ],
   "source": [
    "clear_test_data = pd.DataFrame.sparse.from_spmatrix(tf_idf_test, columns=count_tf_idf.get_feature_names())\n",
    "clear_test_data.sample(5)"
   ]
  },
  {
   "cell_type": "markdown",
   "metadata": {},
   "source": [
    "## Обучение"
   ]
  },
  {
   "cell_type": "markdown",
   "metadata": {},
   "source": [
    "### Логистическая регрессия"
   ]
  },
  {
   "cell_type": "code",
   "execution_count": 23,
   "metadata": {},
   "outputs": [],
   "source": [
    "log_model = LogisticRegression(random_state=12345)\n",
    "log_parameters = {'C': [.01,.05,.1,.5,1,5,10], \\\n",
    "                  'class_weight':['balanced', None]}\n",
    "\n",
    "grid = GridSearchCV(log_model, \\\n",
    "                    param_grid=log_parameters, \\\n",
    "                    scoring='f1', \\\n",
    "                    n_jobs=-1, \\\n",
    "                   cv=2)\n",
    "\n",
    "features_temp = clear_train_data.sample(100).reset_index(drop=True)\n",
    "target_temp = target_train.sample(100).reset_index(drop=True)"
   ]
  },
  {
   "cell_type": "code",
   "execution_count": 35,
   "metadata": {},
   "outputs": [
    {
     "name": "stdout",
     "output_type": "stream",
     "text": [
      "CPU times: user 2min 18s, sys: 19 s, total: 2min 37s\n",
      "Wall time: 2min 37s\n"
     ]
    },
    {
     "data": {
      "text/plain": [
       "GridSearchCV(cv=2, estimator=LogisticRegression(random_state=12345), n_jobs=-1,\n",
       "             param_grid={'C': [0.01, 0.05, 0.1, 0.5, 1, 5, 10],\n",
       "                         'class_weight': ['balanced', None]},\n",
       "             scoring='f1')"
      ]
     },
     "execution_count": 35,
     "metadata": {},
     "output_type": "execute_result"
    }
   ],
   "source": [
    "%%time\n",
    "grid.fit(features_temp, target_temp)"
   ]
  },
  {
   "cell_type": "code",
   "execution_count": 24,
   "metadata": {
    "scrolled": true
   },
   "outputs": [
    {
     "name": "stdout",
     "output_type": "stream",
     "text": [
      "CPU times: user 20min 28s, sys: 4min 52s, total: 25min 21s\n",
      "Wall time: 25min 23s\n"
     ]
    },
    {
     "data": {
      "text/plain": [
       "GridSearchCV(cv=2, estimator=LogisticRegression(random_state=12345), n_jobs=-1,\n",
       "             param_grid={'C': [0.01, 0.05, 0.1, 0.5, 1, 5, 10],\n",
       "                         'class_weight': ['balanced', None]},\n",
       "             scoring='f1')"
      ]
     },
     "execution_count": 24,
     "metadata": {},
     "output_type": "execute_result"
    }
   ],
   "source": [
    "%%time\n",
    "grid.fit(clear_train_data, target_train)"
   ]
  },
  {
   "cell_type": "code",
   "execution_count": 25,
   "metadata": {},
   "outputs": [
    {
     "name": "stdout",
     "output_type": "stream",
     "text": [
      "{'C': 10, 'class_weight': None}\n",
      "0.7685681868848727\n"
     ]
    }
   ],
   "source": [
    "print(grid.best_params_)\n",
    "print(grid.best_score_)"
   ]
  },
  {
   "cell_type": "markdown",
   "metadata": {},
   "source": [
    "### LightGBM"
   ]
  },
  {
   "cell_type": "code",
   "execution_count": 26,
   "metadata": {},
   "outputs": [],
   "source": [
    "lgbm_model = lgb.LGBMClassifier()\n",
    "lgbm_parameters = {'class_weight ':['balanced', None]}\n",
    "\n",
    "grid_lgbm = GridSearchCV(lgbm_model, \\\n",
    "                         param_grid=lgbm_parameters, \\\n",
    "                         scoring='f1', \\\n",
    "                         n_jobs=-1, \\\n",
    "                         cv=2)"
   ]
  },
  {
   "cell_type": "code",
   "execution_count": 26,
   "metadata": {},
   "outputs": [
    {
     "name": "stdout",
     "output_type": "stream",
     "text": [
      "[LightGBM] [Warning] Unknown parameter: balanced\n",
      "[LightGBM] [Warning] Unknown parameter: class_weight\n",
      "[LightGBM] [Warning] Unknown parameter: balanced\n",
      "[LightGBM] [Warning] Unknown parameter: class_weight\n",
      "[LightGBM] [Warning] Unknown parameter: balanced\n",
      "[LightGBM] [Warning] Unknown parameter: class_weight\n",
      "[LightGBM] [Warning] Unknown parameter: balanced\n",
      "[LightGBM] [Warning] Unknown parameter: class_weight\n",
      "[LightGBM] [Warning] Unknown parameter: balanced\n",
      "[LightGBM] [Warning] Unknown parameter: class_weight\n",
      "[LightGBM] [Warning] Unknown parameter: balanced\n",
      "[LightGBM] [Warning] Unknown parameter: class_weight\n",
      "[LightGBM] [Warning] Unknown parameter: balanced\n",
      "[LightGBM] [Warning] Unknown parameter: class_weight\n",
      "CPU times: user 41.9 s, sys: 308 ms, total: 42.2 s\n",
      "Wall time: 42.2 s\n"
     ]
    },
    {
     "data": {
      "text/plain": [
       "GridSearchCV(cv=2, estimator=LGBMClassifier(), n_jobs=-1,\n",
       "             param_grid={'class_weight ': ['balanced', None],\n",
       "                         'max_depth': [None, 5, 6]},\n",
       "             scoring='f1')"
      ]
     },
     "execution_count": 26,
     "metadata": {},
     "output_type": "execute_result"
    }
   ],
   "source": [
    "%%time\n",
    "grid_lgbm.fit(features_temp, target_temp)"
   ]
  },
  {
   "cell_type": "code",
   "execution_count": 27,
   "metadata": {},
   "outputs": [
    {
     "name": "stdout",
     "output_type": "stream",
     "text": [
      "{'class_weight ': 'balanced', 'max_depth': None}\n",
      "0.0\n"
     ]
    }
   ],
   "source": [
    "print(grid_lgbm.best_params_)\n",
    "print(grid_lgbm.best_score_)"
   ]
  },
  {
   "cell_type": "code",
   "execution_count": null,
   "metadata": {},
   "outputs": [],
   "source": [
    "%%time\n",
    "grid_lgbm.fit(clear_train_data, target_train)"
   ]
  },
  {
   "cell_type": "code",
   "execution_count": 27,
   "metadata": {},
   "outputs": [
    {
     "data": {
      "text/plain": [
       "0.7819569364949579"
      ]
     },
     "execution_count": 27,
     "metadata": {},
     "output_type": "execute_result"
    }
   ],
   "source": [
    "predicted = grid.predict(clear_test_data)\n",
    "f1 = f1_score(target_test, predicted)\n",
    "f1"
   ]
  },
  {
   "cell_type": "markdown",
   "metadata": {},
   "source": [
    "## Выводы"
   ]
  },
  {
   "cell_type": "markdown",
   "metadata": {},
   "source": [
    "В ходе исследования была проделана следующая работа:\n",
    "1. Подготовка данных:\n",
    "- Данные были проверены на наличие пропусков и дубликатов. Их не было обнаружено.\n",
    "- В данных присутствует сильный дисбаланс классов: прмеров с классом 0 - 90%, а с классом 1 - 10%.\n",
    "- Мы провели лемматизацию текста, сохранив результаты в промежуточный файл.\n",
    "- Очистили данные от стоп-слов.\n",
    "- Провели TF-IDF преобразование, с ограничением в 15 000 признаков.\n",
    "2. Обучение модели:\n",
    "- Мы обучили модель логической регресии, и с помощью GridSearchCV подобрали лучшие гиперпараметры: C = 10, class_weight = None. На кросс-валидации модель показала значение f1-меры равное 0.77.\n",
    "3. Тестироввание модели:\n",
    "- На тестовой выборке модель показала значение f1-меры равное 0.78.\n",
    "\n",
    "Итак, нам удалось достичь значение f1-меры более 0.75."
   ]
  }
 ],
 "metadata": {
  "ExecuteTimeLog": [
   {
    "duration": 443,
    "start_time": "2023-08-02T11:29:10.252Z"
   },
   {
    "duration": 119,
    "start_time": "2023-08-02T11:30:24.952Z"
   },
   {
    "duration": 14,
    "start_time": "2023-08-02T11:30:35.298Z"
   },
   {
    "duration": 3315,
    "start_time": "2023-08-02T11:31:09.522Z"
   },
   {
    "duration": 36,
    "start_time": "2023-08-02T11:31:46.288Z"
   },
   {
    "duration": 3,
    "start_time": "2023-08-02T11:35:35.994Z"
   },
   {
    "duration": 441,
    "start_time": "2023-08-02T11:35:44.973Z"
   },
   {
    "duration": 920,
    "start_time": "2023-08-02T11:35:47.266Z"
   },
   {
    "duration": 36,
    "start_time": "2023-08-02T11:35:50.297Z"
   },
   {
    "duration": 7,
    "start_time": "2023-08-02T11:36:28.105Z"
   },
   {
    "duration": 78,
    "start_time": "2023-08-02T11:36:58.205Z"
   },
   {
    "duration": 9,
    "start_time": "2023-08-02T11:37:16.597Z"
   },
   {
    "duration": 13,
    "start_time": "2023-08-02T11:38:16.149Z"
   },
   {
    "duration": 257,
    "start_time": "2023-08-02T11:40:12.767Z"
   },
   {
    "duration": 7,
    "start_time": "2023-08-02T11:40:53.755Z"
   },
   {
    "duration": 213,
    "start_time": "2023-08-02T11:41:02.195Z"
   },
   {
    "duration": 243,
    "start_time": "2023-08-02T11:41:30.872Z"
   },
   {
    "duration": 5,
    "start_time": "2023-08-02T11:45:37.326Z"
   },
   {
    "duration": 4,
    "start_time": "2023-08-02T11:47:43.137Z"
   },
   {
    "duration": 836,
    "start_time": "2023-08-02T11:48:15.218Z"
   },
   {
    "duration": 11942,
    "start_time": "2023-08-02T11:54:29.298Z"
   },
   {
    "duration": 3383,
    "start_time": "2023-08-02T11:55:29.217Z"
   },
   {
    "duration": 412,
    "start_time": "2023-08-02T11:56:15.866Z"
   },
   {
    "duration": 113,
    "start_time": "2023-08-02T11:58:38.032Z"
   },
   {
    "duration": 6861,
    "start_time": "2023-08-02T11:59:22.812Z"
   },
   {
    "duration": 4697,
    "start_time": "2023-08-02T12:00:15.076Z"
   },
   {
    "duration": 3681,
    "start_time": "2023-08-02T12:00:27.909Z"
   },
   {
    "duration": 835,
    "start_time": "2023-08-02T12:00:34.133Z"
   },
   {
    "duration": 36,
    "start_time": "2023-08-02T12:00:36.851Z"
   },
   {
    "duration": 251,
    "start_time": "2023-08-02T12:00:39.134Z"
   },
   {
    "duration": 6,
    "start_time": "2023-08-02T12:00:41.087Z"
   },
   {
    "duration": 1037,
    "start_time": "2023-08-02T12:01:01.092Z"
   },
   {
    "duration": 509,
    "start_time": "2023-08-02T12:02:27.794Z"
   },
   {
    "duration": 535,
    "start_time": "2023-08-02T12:02:56.778Z"
   },
   {
    "duration": 7049,
    "start_time": "2023-08-03T05:09:18.954Z"
   },
   {
    "duration": 4033,
    "start_time": "2023-08-03T05:09:26.006Z"
   },
   {
    "duration": 4000,
    "start_time": "2023-08-03T05:09:30.041Z"
   },
   {
    "duration": 42,
    "start_time": "2023-08-03T05:09:34.043Z"
   },
   {
    "duration": 300,
    "start_time": "2023-08-03T05:09:34.092Z"
   },
   {
    "duration": 8,
    "start_time": "2023-08-03T05:09:34.394Z"
   },
   {
    "duration": 725,
    "start_time": "2023-08-03T05:09:38.898Z"
   },
   {
    "duration": 3,
    "start_time": "2023-08-03T05:10:44.241Z"
   },
   {
    "duration": 524,
    "start_time": "2023-08-03T05:11:53.716Z"
   },
   {
    "duration": 770,
    "start_time": "2023-08-03T05:12:19.883Z"
   },
   {
    "duration": 128,
    "start_time": "2023-08-03T05:16:11.799Z"
   },
   {
    "duration": 4438,
    "start_time": "2023-08-03T05:16:34.274Z"
   },
   {
    "duration": 4,
    "start_time": "2023-08-03T05:18:56.700Z"
   },
   {
    "duration": 3,
    "start_time": "2023-08-03T05:19:00.275Z"
   },
   {
    "duration": 3341,
    "start_time": "2023-08-03T05:19:02.475Z"
   },
   {
    "duration": 0,
    "start_time": "2023-08-03T05:21:35.569Z"
   },
   {
    "duration": 8,
    "start_time": "2023-08-03T05:22:11.777Z"
   },
   {
    "duration": 18,
    "start_time": "2023-08-03T05:23:48.420Z"
   },
   {
    "duration": 21515,
    "start_time": "2023-08-03T05:26:22.058Z"
   },
   {
    "duration": 903178,
    "start_time": "2023-08-03T05:31:06.709Z"
   },
   {
    "duration": 669,
    "start_time": "2023-08-03T05:46:09.889Z"
   },
   {
    "duration": 4382,
    "start_time": "2023-08-03T05:50:20.911Z"
   },
   {
    "duration": 4143,
    "start_time": "2023-08-03T05:50:25.296Z"
   },
   {
    "duration": 798,
    "start_time": "2023-08-03T05:50:29.440Z"
   },
   {
    "duration": 39,
    "start_time": "2023-08-03T05:50:30.240Z"
   },
   {
    "duration": 259,
    "start_time": "2023-08-03T05:50:30.281Z"
   },
   {
    "duration": 27,
    "start_time": "2023-08-03T05:50:30.541Z"
   },
   {
    "duration": 18,
    "start_time": "2023-08-03T05:50:30.569Z"
   },
   {
    "duration": 34,
    "start_time": "2023-08-03T05:50:30.589Z"
   },
   {
    "duration": 329,
    "start_time": "2023-08-03T05:50:37.716Z"
   },
   {
    "duration": 3,
    "start_time": "2023-08-03T05:50:57.784Z"
   },
   {
    "duration": 39,
    "start_time": "2023-08-03T05:51:02.279Z"
   },
   {
    "duration": 3772700,
    "start_time": "2023-08-03T05:52:47.172Z"
   },
   {
    "duration": 9249,
    "start_time": "2023-08-03T06:55:39.881Z"
   },
   {
    "duration": 9,
    "start_time": "2023-08-03T06:55:54.688Z"
   },
   {
    "duration": 13,
    "start_time": "2023-08-03T06:56:26.366Z"
   },
   {
    "duration": 3001,
    "start_time": "2023-08-03T06:56:58.673Z"
   },
   {
    "duration": 111554,
    "start_time": "2023-08-03T06:57:40.787Z"
   },
   {
    "duration": 7538,
    "start_time": "2023-08-03T12:45:53.586Z"
   },
   {
    "duration": 4229,
    "start_time": "2023-08-03T12:46:01.129Z"
   },
   {
    "duration": 4470,
    "start_time": "2023-08-03T12:46:05.361Z"
   },
   {
    "duration": 33,
    "start_time": "2023-08-03T12:46:09.834Z"
   },
   {
    "duration": 246,
    "start_time": "2023-08-03T12:46:09.870Z"
   },
   {
    "duration": 5,
    "start_time": "2023-08-03T12:46:10.118Z"
   },
   {
    "duration": 749,
    "start_time": "2023-08-03T12:46:10.124Z"
   },
   {
    "duration": 3,
    "start_time": "2023-08-03T12:46:10.875Z"
   },
   {
    "duration": 64,
    "start_time": "2023-08-03T12:46:10.879Z"
   },
   {
    "duration": 103,
    "start_time": "2023-08-03T12:46:10.944Z"
   },
   {
    "duration": 355,
    "start_time": "2023-08-03T12:46:11.049Z"
   },
   {
    "duration": 9,
    "start_time": "2023-08-03T12:46:43.932Z"
   },
   {
    "duration": 24,
    "start_time": "2023-08-03T12:46:47.378Z"
   },
   {
    "duration": 468476,
    "start_time": "2023-08-03T15:04:21.685Z"
   },
   {
    "duration": 470932,
    "start_time": "2023-08-03T15:12:10.163Z"
   },
   {
    "duration": 1393476,
    "start_time": "2023-08-03T15:20:01.097Z"
   },
   {
    "duration": 1970,
    "start_time": "2023-08-03T16:55:23.254Z"
   },
   {
    "duration": 996,
    "start_time": "2023-08-03T16:56:41.392Z"
   },
   {
    "duration": 944,
    "start_time": "2023-08-03T16:57:08.332Z"
   },
   {
    "duration": 127,
    "start_time": "2023-08-03T16:58:40.865Z"
   },
   {
    "duration": 24,
    "start_time": "2023-08-03T16:58:48.946Z"
   },
   {
    "duration": 25,
    "start_time": "2023-08-03T16:59:02.714Z"
   },
   {
    "duration": 595,
    "start_time": "2023-08-03T16:59:05.295Z"
   },
   {
    "duration": 535,
    "start_time": "2023-08-03T16:59:21.709Z"
   },
   {
    "duration": 285,
    "start_time": "2023-08-03T16:59:43.524Z"
   },
   {
    "duration": 288,
    "start_time": "2023-08-03T17:00:10.928Z"
   },
   {
    "duration": 21292,
    "start_time": "2023-08-04T08:30:29.550Z"
   },
   {
    "duration": 4197,
    "start_time": "2023-08-04T08:30:50.845Z"
   },
   {
    "duration": 3304,
    "start_time": "2023-08-04T08:30:55.044Z"
   },
   {
    "duration": 38,
    "start_time": "2023-08-04T08:30:58.350Z"
   },
   {
    "duration": 262,
    "start_time": "2023-08-04T08:30:58.391Z"
   },
   {
    "duration": 5,
    "start_time": "2023-08-04T08:31:01.793Z"
   },
   {
    "duration": 30,
    "start_time": "2023-08-04T08:31:10.744Z"
   },
   {
    "duration": 673,
    "start_time": "2023-08-04T08:31:25.544Z"
   },
   {
    "duration": 590,
    "start_time": "2023-08-04T08:33:49.413Z"
   },
   {
    "duration": 411,
    "start_time": "2023-08-04T08:34:13.085Z"
   },
   {
    "duration": 475,
    "start_time": "2023-08-04T08:34:31.429Z"
   },
   {
    "duration": 178,
    "start_time": "2023-08-04T08:36:14.178Z"
   },
   {
    "duration": 7,
    "start_time": "2023-08-04T08:36:54.938Z"
   },
   {
    "duration": 344,
    "start_time": "2023-08-04T08:42:15.138Z"
   },
   {
    "duration": 4,
    "start_time": "2023-08-04T08:44:37.039Z"
   },
   {
    "duration": 25,
    "start_time": "2023-08-04T08:46:31.302Z"
   },
   {
    "duration": 23,
    "start_time": "2023-08-04T08:46:48.374Z"
   },
   {
    "duration": 22,
    "start_time": "2023-08-04T08:47:07.781Z"
   },
   {
    "duration": 27,
    "start_time": "2023-08-04T08:47:19.910Z"
   },
   {
    "duration": 26,
    "start_time": "2023-08-04T08:47:31.493Z"
   },
   {
    "duration": 25,
    "start_time": "2023-08-04T08:48:20.463Z"
   },
   {
    "duration": 23,
    "start_time": "2023-08-04T08:48:34.316Z"
   },
   {
    "duration": 410,
    "start_time": "2023-08-04T08:52:07.867Z"
   },
   {
    "duration": 243,
    "start_time": "2023-08-04T08:52:17.748Z"
   },
   {
    "duration": 25,
    "start_time": "2023-08-04T08:53:06.287Z"
   },
   {
    "duration": 23,
    "start_time": "2023-08-04T08:56:44.830Z"
   },
   {
    "duration": 4,
    "start_time": "2023-08-04T08:56:50.211Z"
   },
   {
    "duration": 4,
    "start_time": "2023-08-04T08:57:08.393Z"
   },
   {
    "duration": 1153,
    "start_time": "2023-08-04T10:14:30.368Z"
   },
   {
    "duration": 1243,
    "start_time": "2023-08-04T10:14:43.359Z"
   },
   {
    "duration": 20,
    "start_time": "2023-08-04T10:16:52.203Z"
   },
   {
    "duration": 5,
    "start_time": "2023-08-04T10:17:08.404Z"
   },
   {
    "duration": 1186,
    "start_time": "2023-08-04T10:17:24.356Z"
   },
   {
    "duration": 64,
    "start_time": "2023-08-04T10:18:04.842Z"
   },
   {
    "duration": 4334,
    "start_time": "2023-08-04T10:18:07.950Z"
   },
   {
    "duration": 4318,
    "start_time": "2023-08-04T10:18:12.287Z"
   },
   {
    "duration": 3250,
    "start_time": "2023-08-04T10:18:16.607Z"
   },
   {
    "duration": 38,
    "start_time": "2023-08-04T10:18:19.859Z"
   },
   {
    "duration": 265,
    "start_time": "2023-08-04T10:18:19.899Z"
   },
   {
    "duration": 5,
    "start_time": "2023-08-04T10:18:23.626Z"
   },
   {
    "duration": 29,
    "start_time": "2023-08-04T10:18:26.530Z"
   },
   {
    "duration": 354,
    "start_time": "2023-08-04T10:18:32.547Z"
   },
   {
    "duration": 692,
    "start_time": "2023-08-04T10:18:45.177Z"
   },
   {
    "duration": 359,
    "start_time": "2023-08-04T10:18:47.609Z"
   },
   {
    "duration": 414,
    "start_time": "2023-08-04T10:18:49.825Z"
   },
   {
    "duration": 1193,
    "start_time": "2023-08-04T10:18:52.633Z"
   },
   {
    "duration": 51,
    "start_time": "2023-08-04T10:19:31.306Z"
   },
   {
    "duration": 4512,
    "start_time": "2023-08-04T10:19:41.500Z"
   },
   {
    "duration": 4237,
    "start_time": "2023-08-04T10:19:46.015Z"
   },
   {
    "duration": 3238,
    "start_time": "2023-08-04T10:19:50.253Z"
   },
   {
    "duration": 35,
    "start_time": "2023-08-04T10:19:53.493Z"
   },
   {
    "duration": 289,
    "start_time": "2023-08-04T10:19:53.531Z"
   },
   {
    "duration": 5,
    "start_time": "2023-08-04T10:19:53.822Z"
   },
   {
    "duration": 45,
    "start_time": "2023-08-04T10:19:53.828Z"
   },
   {
    "duration": 638,
    "start_time": "2023-08-04T10:19:53.875Z"
   },
   {
    "duration": 356,
    "start_time": "2023-08-04T10:19:56.032Z"
   },
   {
    "duration": 383,
    "start_time": "2023-08-04T10:19:59.720Z"
   },
   {
    "duration": 1198,
    "start_time": "2023-08-04T10:20:02.752Z"
   },
   {
    "duration": 49,
    "start_time": "2023-08-04T10:20:31.663Z"
   },
   {
    "duration": 8,
    "start_time": "2023-08-04T10:21:02.367Z"
   },
   {
    "duration": 4326,
    "start_time": "2023-08-04T10:21:56.835Z"
   },
   {
    "duration": 4327,
    "start_time": "2023-08-04T10:22:01.163Z"
   },
   {
    "duration": 3214,
    "start_time": "2023-08-04T10:22:05.492Z"
   },
   {
    "duration": 35,
    "start_time": "2023-08-04T10:22:08.708Z"
   },
   {
    "duration": 248,
    "start_time": "2023-08-04T10:22:08.746Z"
   },
   {
    "duration": 5,
    "start_time": "2023-08-04T10:22:08.996Z"
   },
   {
    "duration": 64,
    "start_time": "2023-08-04T10:22:09.002Z"
   },
   {
    "duration": 571,
    "start_time": "2023-08-04T10:22:09.068Z"
   },
   {
    "duration": 422,
    "start_time": "2023-08-04T10:22:09.640Z"
   },
   {
    "duration": 251,
    "start_time": "2023-08-04T10:22:10.064Z"
   },
   {
    "duration": 1153,
    "start_time": "2023-08-04T10:22:10.317Z"
   },
   {
    "duration": 4696,
    "start_time": "2023-08-04T10:36:14.333Z"
   },
   {
    "duration": 4471,
    "start_time": "2023-08-04T10:36:19.031Z"
   },
   {
    "duration": 3350,
    "start_time": "2023-08-04T10:36:23.504Z"
   },
   {
    "duration": 39,
    "start_time": "2023-08-04T10:36:26.857Z"
   },
   {
    "duration": 268,
    "start_time": "2023-08-04T10:36:26.900Z"
   },
   {
    "duration": 5,
    "start_time": "2023-08-04T10:36:27.170Z"
   },
   {
    "duration": 33,
    "start_time": "2023-08-04T10:36:27.178Z"
   },
   {
    "duration": 660,
    "start_time": "2023-08-04T10:36:30.869Z"
   },
   {
    "duration": 410,
    "start_time": "2023-08-04T10:36:33.725Z"
   },
   {
    "duration": 594,
    "start_time": "2023-08-04T10:36:36.126Z"
   },
   {
    "duration": 1147,
    "start_time": "2023-08-04T10:36:39.445Z"
   },
   {
    "duration": 4300,
    "start_time": "2023-08-04T10:41:34.178Z"
   },
   {
    "duration": 4237,
    "start_time": "2023-08-04T10:41:38.481Z"
   },
   {
    "duration": 3300,
    "start_time": "2023-08-04T10:41:42.720Z"
   },
   {
    "duration": 36,
    "start_time": "2023-08-04T10:41:46.023Z"
   },
   {
    "duration": 250,
    "start_time": "2023-08-04T10:41:46.060Z"
   },
   {
    "duration": 5,
    "start_time": "2023-08-04T10:41:46.312Z"
   },
   {
    "duration": 39,
    "start_time": "2023-08-04T10:41:46.319Z"
   },
   {
    "duration": 567,
    "start_time": "2023-08-04T10:41:46.367Z"
   },
   {
    "duration": 380,
    "start_time": "2023-08-04T10:41:46.936Z"
   },
   {
    "duration": 328,
    "start_time": "2023-08-04T10:41:47.318Z"
   },
   {
    "duration": 1203,
    "start_time": "2023-08-04T10:41:47.648Z"
   },
   {
    "duration": 352,
    "start_time": "2023-08-04T10:41:50.639Z"
   },
   {
    "duration": 3,
    "start_time": "2023-08-04T10:42:26.838Z"
   },
   {
    "duration": 4932,
    "start_time": "2023-08-04T10:43:11.976Z"
   },
   {
    "duration": 4863,
    "start_time": "2023-08-04T10:43:16.911Z"
   },
   {
    "duration": 3357,
    "start_time": "2023-08-04T10:43:21.776Z"
   },
   {
    "duration": 37,
    "start_time": "2023-08-04T10:43:25.135Z"
   },
   {
    "duration": 268,
    "start_time": "2023-08-04T10:43:25.174Z"
   },
   {
    "duration": 5,
    "start_time": "2023-08-04T10:43:25.444Z"
   },
   {
    "duration": 53,
    "start_time": "2023-08-04T10:43:25.451Z"
   },
   {
    "duration": 657,
    "start_time": "2023-08-04T10:43:25.506Z"
   },
   {
    "duration": 386,
    "start_time": "2023-08-04T10:43:26.167Z"
   },
   {
    "duration": 264,
    "start_time": "2023-08-04T10:43:26.556Z"
   },
   {
    "duration": 424,
    "start_time": "2023-08-04T10:43:49.789Z"
   },
   {
    "duration": 5016,
    "start_time": "2023-08-04T10:44:12.436Z"
   },
   {
    "duration": 701,
    "start_time": "2023-08-04T11:36:01.680Z"
   },
   {
    "duration": 4404,
    "start_time": "2023-08-04T11:40:46.334Z"
   },
   {
    "duration": 4360,
    "start_time": "2023-08-04T11:40:50.740Z"
   },
   {
    "duration": 3251,
    "start_time": "2023-08-04T11:40:55.102Z"
   },
   {
    "duration": 33,
    "start_time": "2023-08-04T11:40:58.355Z"
   },
   {
    "duration": 254,
    "start_time": "2023-08-04T11:40:58.390Z"
   },
   {
    "duration": 5,
    "start_time": "2023-08-04T11:40:58.646Z"
   },
   {
    "duration": 39,
    "start_time": "2023-08-04T11:40:58.653Z"
   },
   {
    "duration": 549,
    "start_time": "2023-08-04T11:40:58.695Z"
   },
   {
    "duration": 1041,
    "start_time": "2023-08-04T11:41:06.345Z"
   },
   {
    "duration": 333,
    "start_time": "2023-08-04T11:41:10.018Z"
   },
   {
    "duration": 396,
    "start_time": "2023-08-04T11:41:18.025Z"
   },
   {
    "duration": 403,
    "start_time": "2023-08-04T11:41:20.401Z"
   },
   {
    "duration": 413,
    "start_time": "2023-08-04T11:41:23.089Z"
   },
   {
    "duration": 5,
    "start_time": "2023-08-04T11:41:34.978Z"
   },
   {
    "duration": 4422,
    "start_time": "2023-08-04T11:42:11.803Z"
   },
   {
    "duration": 4270,
    "start_time": "2023-08-04T11:42:16.228Z"
   },
   {
    "duration": 3310,
    "start_time": "2023-08-04T11:42:20.500Z"
   },
   {
    "duration": 37,
    "start_time": "2023-08-04T11:42:23.813Z"
   },
   {
    "duration": 292,
    "start_time": "2023-08-04T11:42:23.852Z"
   },
   {
    "duration": 6,
    "start_time": "2023-08-04T11:42:24.146Z"
   },
   {
    "duration": 56,
    "start_time": "2023-08-04T11:42:24.155Z"
   },
   {
    "duration": 549,
    "start_time": "2023-08-04T11:42:24.214Z"
   },
   {
    "duration": 5,
    "start_time": "2023-08-04T11:42:28.584Z"
   },
   {
    "duration": 929,
    "start_time": "2023-08-04T11:42:31.615Z"
   },
   {
    "duration": 4471,
    "start_time": "2023-08-04T11:43:04.124Z"
   },
   {
    "duration": 4227,
    "start_time": "2023-08-04T11:43:08.598Z"
   },
   {
    "duration": 3290,
    "start_time": "2023-08-04T11:43:12.827Z"
   },
   {
    "duration": 45,
    "start_time": "2023-08-04T11:43:16.120Z"
   },
   {
    "duration": 273,
    "start_time": "2023-08-04T11:43:16.168Z"
   },
   {
    "duration": 4,
    "start_time": "2023-08-04T11:43:16.443Z"
   },
   {
    "duration": 41,
    "start_time": "2023-08-04T11:43:16.449Z"
   },
   {
    "duration": 547,
    "start_time": "2023-08-04T11:43:16.492Z"
   },
   {
    "duration": 5,
    "start_time": "2023-08-04T11:43:17.041Z"
   },
   {
    "duration": 779,
    "start_time": "2023-08-04T11:43:20.903Z"
   },
   {
    "duration": 4801,
    "start_time": "2023-08-04T11:43:53.329Z"
   },
   {
    "duration": 4570,
    "start_time": "2023-08-04T11:43:58.133Z"
   },
   {
    "duration": 3362,
    "start_time": "2023-08-04T11:44:02.705Z"
   },
   {
    "duration": 36,
    "start_time": "2023-08-04T11:44:06.069Z"
   },
   {
    "duration": 264,
    "start_time": "2023-08-04T11:44:06.107Z"
   },
   {
    "duration": 5,
    "start_time": "2023-08-04T11:44:06.373Z"
   },
   {
    "duration": 47,
    "start_time": "2023-08-04T11:44:06.379Z"
   },
   {
    "duration": 534,
    "start_time": "2023-08-04T11:44:06.428Z"
   },
   {
    "duration": 4,
    "start_time": "2023-08-04T11:44:06.966Z"
   },
   {
    "duration": 659,
    "start_time": "2023-08-04T11:44:06.973Z"
   },
   {
    "duration": 4561,
    "start_time": "2023-08-04T11:44:50.296Z"
   },
   {
    "duration": 4258,
    "start_time": "2023-08-04T11:44:54.860Z"
   },
   {
    "duration": 3343,
    "start_time": "2023-08-04T11:44:59.120Z"
   },
   {
    "duration": 39,
    "start_time": "2023-08-04T11:45:02.465Z"
   },
   {
    "duration": 295,
    "start_time": "2023-08-04T11:45:02.506Z"
   },
   {
    "duration": 6,
    "start_time": "2023-08-04T11:45:02.802Z"
   },
   {
    "duration": 76,
    "start_time": "2023-08-04T11:45:02.810Z"
   },
   {
    "duration": 651,
    "start_time": "2023-08-04T11:45:02.889Z"
   },
   {
    "duration": 4,
    "start_time": "2023-08-04T11:45:03.542Z"
   },
   {
    "duration": 554,
    "start_time": "2023-08-04T11:45:03.549Z"
   },
   {
    "duration": 4704,
    "start_time": "2023-08-04T11:45:39.792Z"
   },
   {
    "duration": 4563,
    "start_time": "2023-08-04T11:45:44.499Z"
   },
   {
    "duration": 3445,
    "start_time": "2023-08-04T11:45:49.064Z"
   },
   {
    "duration": 37,
    "start_time": "2023-08-04T11:45:52.512Z"
   },
   {
    "duration": 329,
    "start_time": "2023-08-04T11:45:52.551Z"
   },
   {
    "duration": 6,
    "start_time": "2023-08-04T11:45:52.882Z"
   },
   {
    "duration": 54,
    "start_time": "2023-08-04T11:45:52.890Z"
   },
   {
    "duration": 535,
    "start_time": "2023-08-04T11:45:52.945Z"
   },
   {
    "duration": 5,
    "start_time": "2023-08-04T11:45:58.076Z"
   },
   {
    "duration": 408,
    "start_time": "2023-08-04T11:46:01.580Z"
   },
   {
    "duration": 4442,
    "start_time": "2023-08-04T11:46:04.731Z"
   },
   {
    "duration": 561,
    "start_time": "2023-08-04T11:46:19.708Z"
   },
   {
    "duration": 440,
    "start_time": "2023-08-04T11:46:22.396Z"
   },
   {
    "duration": 486,
    "start_time": "2023-08-04T11:46:27.699Z"
   },
   {
    "duration": 4679,
    "start_time": "2023-08-04T11:49:02.883Z"
   },
   {
    "duration": 4390,
    "start_time": "2023-08-04T11:49:07.565Z"
   },
   {
    "duration": 3370,
    "start_time": "2023-08-04T11:49:11.957Z"
   },
   {
    "duration": 36,
    "start_time": "2023-08-04T11:49:15.329Z"
   },
   {
    "duration": 262,
    "start_time": "2023-08-04T11:49:15.367Z"
   },
   {
    "duration": 5,
    "start_time": "2023-08-04T11:49:15.631Z"
   },
   {
    "duration": 32,
    "start_time": "2023-08-04T11:49:38.295Z"
   },
   {
    "duration": 683,
    "start_time": "2023-08-04T11:49:45.111Z"
   },
   {
    "duration": 326,
    "start_time": "2023-08-04T11:49:47.774Z"
   },
   {
    "duration": 251,
    "start_time": "2023-08-04T11:49:50.446Z"
   },
   {
    "duration": 415,
    "start_time": "2023-08-04T11:49:52.535Z"
   },
   {
    "duration": 5,
    "start_time": "2023-08-04T11:49:55.262Z"
   },
   {
    "duration": 4446,
    "start_time": "2023-08-04T11:49:56.471Z"
   },
   {
    "duration": 440,
    "start_time": "2023-08-04T11:50:02.158Z"
   },
   {
    "duration": 4568,
    "start_time": "2023-08-04T11:50:41.862Z"
   },
   {
    "duration": 4315,
    "start_time": "2023-08-04T11:50:46.432Z"
   },
   {
    "duration": 3299,
    "start_time": "2023-08-04T11:50:50.749Z"
   },
   {
    "duration": 40,
    "start_time": "2023-08-04T11:50:54.050Z"
   },
   {
    "duration": 262,
    "start_time": "2023-08-04T11:50:54.093Z"
   },
   {
    "duration": 12,
    "start_time": "2023-08-04T11:50:54.358Z"
   },
   {
    "duration": 35,
    "start_time": "2023-08-04T11:50:54.372Z"
   },
   {
    "duration": 334,
    "start_time": "2023-08-04T11:50:54.454Z"
   },
   {
    "duration": 0,
    "start_time": "2023-08-04T11:50:54.790Z"
   },
   {
    "duration": 0,
    "start_time": "2023-08-04T11:50:54.791Z"
   },
   {
    "duration": 0,
    "start_time": "2023-08-04T11:50:54.793Z"
   },
   {
    "duration": 0,
    "start_time": "2023-08-04T11:50:54.794Z"
   },
   {
    "duration": 0,
    "start_time": "2023-08-04T11:50:54.795Z"
   },
   {
    "duration": 0,
    "start_time": "2023-08-04T11:50:54.796Z"
   },
   {
    "duration": 0,
    "start_time": "2023-08-04T11:50:54.797Z"
   },
   {
    "duration": 0,
    "start_time": "2023-08-04T11:50:54.798Z"
   },
   {
    "duration": 0,
    "start_time": "2023-08-04T11:50:54.799Z"
   },
   {
    "duration": 0,
    "start_time": "2023-08-04T11:50:54.800Z"
   },
   {
    "duration": 582,
    "start_time": "2023-08-04T11:51:00.392Z"
   },
   {
    "duration": 327,
    "start_time": "2023-08-04T11:51:00.977Z"
   },
   {
    "duration": 300,
    "start_time": "2023-08-04T11:51:01.306Z"
   },
   {
    "duration": 401,
    "start_time": "2023-08-04T11:51:01.609Z"
   },
   {
    "duration": 57,
    "start_time": "2023-08-04T11:51:02.011Z"
   },
   {
    "duration": 4824,
    "start_time": "2023-08-04T11:51:02.071Z"
   },
   {
    "duration": 441,
    "start_time": "2023-08-04T11:51:06.898Z"
   },
   {
    "duration": 4630,
    "start_time": "2023-08-04T11:52:14.880Z"
   },
   {
    "duration": 4489,
    "start_time": "2023-08-04T11:52:19.514Z"
   },
   {
    "duration": 3405,
    "start_time": "2023-08-04T11:52:24.006Z"
   },
   {
    "duration": 39,
    "start_time": "2023-08-04T11:52:27.416Z"
   },
   {
    "duration": 259,
    "start_time": "2023-08-04T11:52:27.458Z"
   },
   {
    "duration": 7,
    "start_time": "2023-08-04T11:52:27.719Z"
   },
   {
    "duration": 52,
    "start_time": "2023-08-04T11:52:27.728Z"
   },
   {
    "duration": 574,
    "start_time": "2023-08-04T11:52:27.782Z"
   },
   {
    "duration": 281,
    "start_time": "2023-08-04T11:52:28.359Z"
   },
   {
    "duration": 239,
    "start_time": "2023-08-04T11:52:28.644Z"
   },
   {
    "duration": 6,
    "start_time": "2023-08-04T11:52:28.886Z"
   },
   {
    "duration": 392,
    "start_time": "2023-08-04T11:52:28.893Z"
   },
   {
    "duration": 4375,
    "start_time": "2023-08-04T11:52:29.287Z"
   },
   {
    "duration": 410,
    "start_time": "2023-08-04T11:52:33.664Z"
   },
   {
    "duration": 4588,
    "start_time": "2023-08-04T11:53:00.000Z"
   },
   {
    "duration": 4788,
    "start_time": "2023-08-04T11:53:04.591Z"
   },
   {
    "duration": 3418,
    "start_time": "2023-08-04T11:53:09.381Z"
   },
   {
    "duration": 46,
    "start_time": "2023-08-04T11:53:12.801Z"
   },
   {
    "duration": 280,
    "start_time": "2023-08-04T11:53:12.850Z"
   },
   {
    "duration": 5,
    "start_time": "2023-08-04T11:53:13.132Z"
   },
   {
    "duration": 52,
    "start_time": "2023-08-04T11:53:13.139Z"
   },
   {
    "duration": 592,
    "start_time": "2023-08-04T11:53:13.193Z"
   },
   {
    "duration": 495,
    "start_time": "2023-08-04T11:53:13.787Z"
   },
   {
    "duration": 255,
    "start_time": "2023-08-04T11:53:14.284Z"
   },
   {
    "duration": 5,
    "start_time": "2023-08-04T11:53:14.541Z"
   },
   {
    "duration": 357,
    "start_time": "2023-08-04T11:53:14.548Z"
   },
   {
    "duration": 3545,
    "start_time": "2023-08-04T11:53:14.908Z"
   },
   {
    "duration": 428,
    "start_time": "2023-08-04T11:53:18.457Z"
   },
   {
    "duration": 4648,
    "start_time": "2023-08-04T11:54:37.212Z"
   },
   {
    "duration": 4711,
    "start_time": "2023-08-04T11:54:41.863Z"
   },
   {
    "duration": 3717,
    "start_time": "2023-08-04T11:54:46.577Z"
   },
   {
    "duration": 37,
    "start_time": "2023-08-04T11:54:50.296Z"
   },
   {
    "duration": 280,
    "start_time": "2023-08-04T11:54:50.335Z"
   },
   {
    "duration": 4,
    "start_time": "2023-08-04T11:54:50.617Z"
   },
   {
    "duration": 53,
    "start_time": "2023-08-04T11:54:50.623Z"
   },
   {
    "duration": 767,
    "start_time": "2023-08-04T11:54:50.678Z"
   },
   {
    "duration": 281,
    "start_time": "2023-08-04T11:54:51.447Z"
   },
   {
    "duration": 253,
    "start_time": "2023-08-04T11:54:51.730Z"
   },
   {
    "duration": 4,
    "start_time": "2023-08-04T11:54:51.986Z"
   },
   {
    "duration": 393,
    "start_time": "2023-08-04T11:54:51.992Z"
   },
   {
    "duration": 3714,
    "start_time": "2023-08-04T11:54:52.386Z"
   },
   {
    "duration": 336,
    "start_time": "2023-08-04T11:54:56.102Z"
   },
   {
    "duration": 4674,
    "start_time": "2023-08-04T11:55:18.827Z"
   },
   {
    "duration": 4643,
    "start_time": "2023-08-04T11:55:23.504Z"
   },
   {
    "duration": 3605,
    "start_time": "2023-08-04T11:55:28.149Z"
   },
   {
    "duration": 41,
    "start_time": "2023-08-04T11:55:31.756Z"
   },
   {
    "duration": 315,
    "start_time": "2023-08-04T11:55:31.798Z"
   },
   {
    "duration": 5,
    "start_time": "2023-08-04T11:55:32.115Z"
   },
   {
    "duration": 633,
    "start_time": "2023-08-04T11:55:32.122Z"
   },
   {
    "duration": 342,
    "start_time": "2023-08-04T11:55:32.757Z"
   },
   {
    "duration": 333,
    "start_time": "2023-08-04T11:55:33.101Z"
   },
   {
    "duration": 5,
    "start_time": "2023-08-04T11:55:33.437Z"
   },
   {
    "duration": 342,
    "start_time": "2023-08-04T11:55:35.584Z"
   },
   {
    "duration": 3796,
    "start_time": "2023-08-04T11:55:38.904Z"
   },
   {
    "duration": 329,
    "start_time": "2023-08-04T11:55:45.408Z"
   },
   {
    "duration": 4754,
    "start_time": "2023-08-04T11:56:41.940Z"
   },
   {
    "duration": 4566,
    "start_time": "2023-08-04T11:56:46.697Z"
   },
   {
    "duration": 3623,
    "start_time": "2023-08-04T11:56:51.265Z"
   },
   {
    "duration": 40,
    "start_time": "2023-08-04T11:56:54.891Z"
   },
   {
    "duration": 268,
    "start_time": "2023-08-04T11:56:54.934Z"
   },
   {
    "duration": 5,
    "start_time": "2023-08-04T11:56:55.204Z"
   },
   {
    "duration": 48,
    "start_time": "2023-08-04T11:56:55.210Z"
   },
   {
    "duration": 640,
    "start_time": "2023-08-04T11:56:57.986Z"
   },
   {
    "duration": 241,
    "start_time": "2023-08-04T11:56:59.390Z"
   },
   {
    "duration": 361,
    "start_time": "2023-08-04T11:57:01.279Z"
   },
   {
    "duration": 6,
    "start_time": "2023-08-04T11:57:02.958Z"
   },
   {
    "duration": 336,
    "start_time": "2023-08-04T11:57:04.198Z"
   },
   {
    "duration": 3590,
    "start_time": "2023-08-04T11:57:05.422Z"
   },
   {
    "duration": 212,
    "start_time": "2023-08-04T11:57:10.526Z"
   },
   {
    "duration": 2039,
    "start_time": "2023-08-04T11:57:11.654Z"
   },
   {
    "duration": 4664,
    "start_time": "2023-08-04T11:57:45.704Z"
   },
   {
    "duration": 4702,
    "start_time": "2023-08-04T11:57:50.374Z"
   },
   {
    "duration": 3603,
    "start_time": "2023-08-04T11:57:55.086Z"
   },
   {
    "duration": 34,
    "start_time": "2023-08-04T11:57:58.691Z"
   },
   {
    "duration": 281,
    "start_time": "2023-08-04T11:57:58.728Z"
   },
   {
    "duration": 6,
    "start_time": "2023-08-04T11:57:59.011Z"
   },
   {
    "duration": 30,
    "start_time": "2023-08-04T11:57:59.018Z"
   },
   {
    "duration": 571,
    "start_time": "2023-08-04T11:57:59.050Z"
   },
   {
    "duration": 353,
    "start_time": "2023-08-04T11:57:59.622Z"
   },
   {
    "duration": 365,
    "start_time": "2023-08-04T11:57:59.981Z"
   },
   {
    "duration": 6,
    "start_time": "2023-08-04T11:58:00.348Z"
   },
   {
    "duration": 386,
    "start_time": "2023-08-04T11:58:00.374Z"
   },
   {
    "duration": 3856,
    "start_time": "2023-08-04T11:58:00.761Z"
   },
   {
    "duration": 141,
    "start_time": "2023-08-04T11:58:04.619Z"
   },
   {
    "duration": 1374,
    "start_time": "2023-08-04T11:58:04.762Z"
   },
   {
    "duration": 144,
    "start_time": "2023-08-04T11:58:06.138Z"
   },
   {
    "duration": 4670,
    "start_time": "2023-08-04T11:58:37.911Z"
   },
   {
    "duration": 4700,
    "start_time": "2023-08-04T11:58:42.584Z"
   },
   {
    "duration": 3612,
    "start_time": "2023-08-04T11:58:47.286Z"
   },
   {
    "duration": 45,
    "start_time": "2023-08-04T11:58:50.901Z"
   },
   {
    "duration": 303,
    "start_time": "2023-08-04T11:58:50.952Z"
   },
   {
    "duration": 11,
    "start_time": "2023-08-04T11:58:51.257Z"
   },
   {
    "duration": 39,
    "start_time": "2023-08-04T11:58:51.274Z"
   },
   {
    "duration": 613,
    "start_time": "2023-08-04T11:58:51.316Z"
   },
   {
    "duration": 278,
    "start_time": "2023-08-04T11:58:51.930Z"
   },
   {
    "duration": 286,
    "start_time": "2023-08-04T11:58:52.210Z"
   },
   {
    "duration": 4,
    "start_time": "2023-08-04T11:58:52.498Z"
   },
   {
    "duration": 367,
    "start_time": "2023-08-04T11:58:52.504Z"
   },
   {
    "duration": 3668,
    "start_time": "2023-08-04T11:58:52.873Z"
   },
   {
    "duration": 124,
    "start_time": "2023-08-04T11:58:56.544Z"
   },
   {
    "duration": 1324,
    "start_time": "2023-08-04T11:58:56.670Z"
   },
   {
    "duration": 122,
    "start_time": "2023-08-04T11:58:57.996Z"
   },
   {
    "duration": 1192,
    "start_time": "2023-08-04T11:58:58.120Z"
   },
   {
    "duration": 10,
    "start_time": "2023-08-04T12:01:33.271Z"
   },
   {
    "duration": 5,
    "start_time": "2023-08-04T12:05:19.354Z"
   },
   {
    "duration": 4758,
    "start_time": "2023-08-04T12:06:31.335Z"
   },
   {
    "duration": 4366,
    "start_time": "2023-08-04T12:06:36.096Z"
   },
   {
    "duration": 3626,
    "start_time": "2023-08-04T12:06:40.464Z"
   },
   {
    "duration": 38,
    "start_time": "2023-08-04T12:06:44.093Z"
   },
   {
    "duration": 303,
    "start_time": "2023-08-04T12:06:44.135Z"
   },
   {
    "duration": 5,
    "start_time": "2023-08-04T12:06:44.439Z"
   },
   {
    "duration": 58,
    "start_time": "2023-08-04T12:06:44.446Z"
   },
   {
    "duration": 755,
    "start_time": "2023-08-04T12:06:44.507Z"
   },
   {
    "duration": 391,
    "start_time": "2023-08-04T12:06:45.268Z"
   },
   {
    "duration": 433,
    "start_time": "2023-08-04T12:06:45.661Z"
   },
   {
    "duration": 5,
    "start_time": "2023-08-04T12:06:46.096Z"
   },
   {
    "duration": 354,
    "start_time": "2023-08-04T12:06:46.103Z"
   },
   {
    "duration": 3557,
    "start_time": "2023-08-04T12:06:46.459Z"
   },
   {
    "duration": 127,
    "start_time": "2023-08-04T12:06:50.020Z"
   },
   {
    "duration": 1365,
    "start_time": "2023-08-04T12:06:50.149Z"
   },
   {
    "duration": 129,
    "start_time": "2023-08-04T12:06:51.516Z"
   },
   {
    "duration": 1225,
    "start_time": "2023-08-04T12:06:51.647Z"
   },
   {
    "duration": 4736,
    "start_time": "2023-08-04T12:07:34.309Z"
   },
   {
    "duration": 5139,
    "start_time": "2023-08-04T12:07:39.047Z"
   },
   {
    "duration": 3630,
    "start_time": "2023-08-04T12:07:44.193Z"
   },
   {
    "duration": 37,
    "start_time": "2023-08-04T12:07:47.825Z"
   },
   {
    "duration": 262,
    "start_time": "2023-08-04T12:07:47.865Z"
   },
   {
    "duration": 5,
    "start_time": "2023-08-04T12:07:48.129Z"
   },
   {
    "duration": 54,
    "start_time": "2023-08-04T12:07:48.136Z"
   },
   {
    "duration": 607,
    "start_time": "2023-08-04T12:07:48.192Z"
   },
   {
    "duration": 479,
    "start_time": "2023-08-04T12:07:48.801Z"
   },
   {
    "duration": 371,
    "start_time": "2023-08-04T12:07:49.282Z"
   },
   {
    "duration": 6,
    "start_time": "2023-08-04T12:07:49.655Z"
   },
   {
    "duration": 173,
    "start_time": "2023-08-04T12:07:49.666Z"
   },
   {
    "duration": 1375,
    "start_time": "2023-08-04T12:07:49.841Z"
   },
   {
    "duration": 75,
    "start_time": "2023-08-04T12:07:51.219Z"
   },
   {
    "duration": 855,
    "start_time": "2023-08-04T12:07:51.297Z"
   },
   {
    "duration": 85,
    "start_time": "2023-08-04T12:07:52.154Z"
   },
   {
    "duration": 701,
    "start_time": "2023-08-04T12:07:52.241Z"
   },
   {
    "duration": 4863,
    "start_time": "2023-08-04T12:09:11.514Z"
   },
   {
    "duration": 4678,
    "start_time": "2023-08-04T12:09:16.383Z"
   },
   {
    "duration": 3854,
    "start_time": "2023-08-04T12:09:21.063Z"
   },
   {
    "duration": 42,
    "start_time": "2023-08-04T12:09:24.920Z"
   },
   {
    "duration": 350,
    "start_time": "2023-08-04T12:09:24.965Z"
   },
   {
    "duration": 6,
    "start_time": "2023-08-04T12:09:25.317Z"
   },
   {
    "duration": 83,
    "start_time": "2023-08-04T12:09:25.325Z"
   },
   {
    "duration": 623,
    "start_time": "2023-08-04T12:09:25.711Z"
   },
   {
    "duration": 370,
    "start_time": "2023-08-04T12:09:27.178Z"
   },
   {
    "duration": 267,
    "start_time": "2023-08-04T12:09:30.597Z"
   },
   {
    "duration": 7,
    "start_time": "2023-08-04T12:09:32.399Z"
   },
   {
    "duration": 173,
    "start_time": "2023-08-04T12:09:33.159Z"
   },
   {
    "duration": 1640,
    "start_time": "2023-08-04T12:09:33.873Z"
   },
   {
    "duration": 82,
    "start_time": "2023-08-04T12:09:35.515Z"
   },
   {
    "duration": 621,
    "start_time": "2023-08-04T12:09:35.599Z"
   },
   {
    "duration": 71,
    "start_time": "2023-08-04T12:09:36.222Z"
   },
   {
    "duration": 630,
    "start_time": "2023-08-04T12:09:36.295Z"
   },
   {
    "duration": 876,
    "start_time": "2023-08-04T12:09:41.166Z"
   },
   {
    "duration": 6873,
    "start_time": "2023-08-05T06:24:03.066Z"
   },
   {
    "duration": 5187,
    "start_time": "2023-08-05T06:24:09.942Z"
   },
   {
    "duration": 2319,
    "start_time": "2023-08-05T06:24:15.131Z"
   },
   {
    "duration": 37,
    "start_time": "2023-08-05T06:24:17.451Z"
   },
   {
    "duration": 259,
    "start_time": "2023-08-05T06:24:17.491Z"
   },
   {
    "duration": 6,
    "start_time": "2023-08-05T06:24:17.751Z"
   },
   {
    "duration": 730,
    "start_time": "2023-08-05T06:24:17.759Z"
   },
   {
    "duration": 4,
    "start_time": "2023-08-05T06:24:18.491Z"
   },
   {
    "duration": 5,
    "start_time": "2023-08-05T06:24:18.497Z"
   },
   {
    "duration": 22,
    "start_time": "2023-08-05T06:24:18.503Z"
   },
   {
    "duration": 108000,
    "start_time": "2023-08-05T06:24:25.110Z"
   },
   {
    "duration": 109449,
    "start_time": "2023-08-05T06:26:18.916Z"
   },
   {
    "duration": 330630,
    "start_time": "2023-08-05T06:28:08.368Z"
   },
   {
    "duration": 750,
    "start_time": "2023-08-05T06:40:38.676Z"
   },
   {
    "duration": 302,
    "start_time": "2023-08-05T06:40:40.960Z"
   },
   {
    "duration": 302,
    "start_time": "2023-08-05T06:40:43.291Z"
   },
   {
    "duration": 209,
    "start_time": "2023-08-05T06:41:02.520Z"
   },
   {
    "duration": 204,
    "start_time": "2023-08-05T06:41:08.116Z"
   },
   {
    "duration": 262,
    "start_time": "2023-08-05T06:41:15.925Z"
   },
   {
    "duration": 163,
    "start_time": "2023-08-05T06:41:25.731Z"
   },
   {
    "duration": 177,
    "start_time": "2023-08-05T06:41:30.880Z"
   },
   {
    "duration": 108,
    "start_time": "2023-08-05T06:41:37.423Z"
   },
   {
    "duration": 76,
    "start_time": "2023-08-05T06:41:43.275Z"
   },
   {
    "duration": 7,
    "start_time": "2023-08-05T06:41:45.587Z"
   },
   {
    "duration": 278,
    "start_time": "2023-08-05T06:41:47.338Z"
   },
   {
    "duration": 3038,
    "start_time": "2023-08-05T06:41:48.158Z"
   },
   {
    "duration": 90,
    "start_time": "2023-08-05T06:41:52.699Z"
   },
   {
    "duration": 967,
    "start_time": "2023-08-05T06:41:54.130Z"
   },
   {
    "duration": 100,
    "start_time": "2023-08-05T06:41:55.595Z"
   },
   {
    "duration": 944,
    "start_time": "2023-08-05T06:41:56.856Z"
   },
   {
    "duration": 4472,
    "start_time": "2023-08-05T06:43:16.037Z"
   },
   {
    "duration": 6177,
    "start_time": "2023-08-05T06:43:20.511Z"
   },
   {
    "duration": 2862,
    "start_time": "2023-08-05T06:43:26.690Z"
   },
   {
    "duration": 45,
    "start_time": "2023-08-05T06:43:29.553Z"
   },
   {
    "duration": 352,
    "start_time": "2023-08-05T06:43:29.601Z"
   },
   {
    "duration": 7,
    "start_time": "2023-08-05T06:43:29.954Z"
   },
   {
    "duration": 32,
    "start_time": "2023-08-05T06:43:29.963Z"
   },
   {
    "duration": 234,
    "start_time": "2023-08-05T06:43:29.997Z"
   },
   {
    "duration": 165,
    "start_time": "2023-08-05T06:43:30.233Z"
   },
   {
    "duration": 121,
    "start_time": "2023-08-05T06:43:30.400Z"
   },
   {
    "duration": 6,
    "start_time": "2023-08-05T06:43:30.522Z"
   },
   {
    "duration": 332,
    "start_time": "2023-08-05T06:43:30.530Z"
   },
   {
    "duration": 3679,
    "start_time": "2023-08-05T06:43:30.865Z"
   },
   {
    "duration": 107,
    "start_time": "2023-08-05T06:43:34.553Z"
   },
   {
    "duration": 1109,
    "start_time": "2023-08-05T06:43:34.662Z"
   },
   {
    "duration": 105,
    "start_time": "2023-08-05T06:43:35.777Z"
   },
   {
    "duration": 16,
    "start_time": "2023-08-05T06:43:35.885Z"
   },
   {
    "duration": 0,
    "start_time": "2023-08-05T06:43:35.903Z"
   },
   {
    "duration": 0,
    "start_time": "2023-08-05T06:43:35.905Z"
   },
   {
    "duration": 918,
    "start_time": "2023-08-05T06:43:46.289Z"
   },
   {
    "duration": 4750,
    "start_time": "2023-08-05T07:16:03.972Z"
   },
   {
    "duration": 4037,
    "start_time": "2023-08-05T07:16:08.724Z"
   },
   {
    "duration": 944,
    "start_time": "2023-08-05T07:16:12.766Z"
   },
   {
    "duration": 50,
    "start_time": "2023-08-05T07:16:13.711Z"
   },
   {
    "duration": 274,
    "start_time": "2023-08-05T07:16:13.764Z"
   },
   {
    "duration": 6,
    "start_time": "2023-08-05T07:16:14.041Z"
   },
   {
    "duration": 49,
    "start_time": "2023-08-05T07:16:14.049Z"
   },
   {
    "duration": 604,
    "start_time": "2023-08-05T07:16:20.887Z"
   },
   {
    "duration": 254,
    "start_time": "2023-08-05T07:16:22.349Z"
   },
   {
    "duration": 244,
    "start_time": "2023-08-05T07:16:23.426Z"
   },
   {
    "duration": 10,
    "start_time": "2023-08-05T07:16:28.735Z"
   },
   {
    "duration": 295,
    "start_time": "2023-08-05T07:16:29.495Z"
   },
   {
    "duration": 3519,
    "start_time": "2023-08-05T07:16:30.600Z"
   },
   {
    "duration": 112,
    "start_time": "2023-08-05T07:16:35.000Z"
   },
   {
    "duration": 913,
    "start_time": "2023-08-05T07:16:36.193Z"
   },
   {
    "duration": 87,
    "start_time": "2023-08-05T07:16:37.481Z"
   },
   {
    "duration": 918,
    "start_time": "2023-08-05T07:16:38.263Z"
   },
   {
    "duration": 5958,
    "start_time": "2023-08-05T07:19:39.029Z"
   },
   {
    "duration": 6273,
    "start_time": "2023-08-05T07:19:44.991Z"
   },
   {
    "duration": 3200,
    "start_time": "2023-08-05T07:19:51.267Z"
   },
   {
    "duration": 32,
    "start_time": "2023-08-05T07:19:54.471Z"
   },
   {
    "duration": 306,
    "start_time": "2023-08-05T07:19:54.507Z"
   },
   {
    "duration": 7,
    "start_time": "2023-08-05T07:19:54.815Z"
   },
   {
    "duration": 1070,
    "start_time": "2023-08-05T07:19:54.824Z"
   },
   {
    "duration": 3,
    "start_time": "2023-08-05T07:19:55.897Z"
   },
   {
    "duration": 19,
    "start_time": "2023-08-05T07:19:55.901Z"
   },
   {
    "duration": 34,
    "start_time": "2023-08-05T07:19:55.922Z"
   },
   {
    "duration": 61889,
    "start_time": "2023-08-05T07:19:55.957Z"
   },
   {
    "duration": 56940,
    "start_time": "2023-08-05T07:20:57.853Z"
   },
   {
    "duration": 168919,
    "start_time": "2023-08-05T07:21:54.795Z"
   },
   {
    "duration": 373,
    "start_time": "2023-08-05T07:24:43.717Z"
   },
   {
    "duration": 227,
    "start_time": "2023-08-05T07:24:44.092Z"
   },
   {
    "duration": 236,
    "start_time": "2023-08-05T07:24:44.321Z"
   },
   {
    "duration": 324,
    "start_time": "2023-08-05T07:24:44.559Z"
   },
   {
    "duration": 135,
    "start_time": "2023-08-05T07:24:44.885Z"
   },
   {
    "duration": 102,
    "start_time": "2023-08-05T07:24:45.022Z"
   },
   {
    "duration": 9,
    "start_time": "2023-08-05T07:24:45.126Z"
   },
   {
    "duration": 178,
    "start_time": "2023-08-05T07:24:45.136Z"
   },
   {
    "duration": 1537,
    "start_time": "2023-08-05T07:24:45.316Z"
   },
   {
    "duration": 49,
    "start_time": "2023-08-05T07:24:46.861Z"
   },
   {
    "duration": 489,
    "start_time": "2023-08-05T07:24:46.912Z"
   },
   {
    "duration": 46,
    "start_time": "2023-08-05T07:24:47.404Z"
   },
   {
    "duration": 472,
    "start_time": "2023-08-05T07:24:47.451Z"
   },
   {
    "duration": 5281,
    "start_time": "2023-08-05T07:26:53.978Z"
   },
   {
    "duration": 7233,
    "start_time": "2023-08-05T07:26:59.264Z"
   },
   {
    "duration": 2802,
    "start_time": "2023-08-05T07:27:06.499Z"
   },
   {
    "duration": 26,
    "start_time": "2023-08-05T07:27:09.302Z"
   },
   {
    "duration": 314,
    "start_time": "2023-08-05T07:27:09.330Z"
   },
   {
    "duration": 6,
    "start_time": "2023-08-05T07:27:09.653Z"
   },
   {
    "duration": 840,
    "start_time": "2023-08-05T07:27:09.662Z"
   },
   {
    "duration": 4,
    "start_time": "2023-08-05T07:27:10.504Z"
   },
   {
    "duration": 4,
    "start_time": "2023-08-05T07:27:10.511Z"
   },
   {
    "duration": 19,
    "start_time": "2023-08-05T07:27:10.517Z"
   },
   {
    "duration": 31397,
    "start_time": "2023-08-05T07:27:10.539Z"
   },
   {
    "duration": 29472,
    "start_time": "2023-08-05T07:27:41.945Z"
   },
   {
    "duration": 88053,
    "start_time": "2023-08-05T07:28:11.419Z"
   },
   {
    "duration": 396,
    "start_time": "2023-08-05T07:29:39.496Z"
   },
   {
    "duration": 174,
    "start_time": "2023-08-05T07:29:39.894Z"
   },
   {
    "duration": 150,
    "start_time": "2023-08-05T07:29:40.071Z"
   },
   {
    "duration": 94,
    "start_time": "2023-08-05T07:29:40.223Z"
   },
   {
    "duration": 77,
    "start_time": "2023-08-05T07:29:40.319Z"
   },
   {
    "duration": 85,
    "start_time": "2023-08-05T07:29:40.399Z"
   },
   {
    "duration": 8,
    "start_time": "2023-08-05T07:29:40.486Z"
   },
   {
    "duration": 81,
    "start_time": "2023-08-05T07:29:40.496Z"
   },
   {
    "duration": 729,
    "start_time": "2023-08-05T07:29:40.580Z"
   },
   {
    "duration": 35,
    "start_time": "2023-08-05T07:29:41.311Z"
   },
   {
    "duration": 257,
    "start_time": "2023-08-05T07:29:41.348Z"
   },
   {
    "duration": 33,
    "start_time": "2023-08-05T07:29:41.607Z"
   },
   {
    "duration": 253,
    "start_time": "2023-08-05T07:29:41.644Z"
   },
   {
    "duration": 22534,
    "start_time": "2023-08-05T07:29:51.664Z"
   },
   {
    "duration": 25496,
    "start_time": "2023-08-05T07:30:24.514Z"
   },
   {
    "duration": 556,
    "start_time": "2023-08-05T07:31:59.711Z"
   },
   {
    "duration": 22,
    "start_time": "2023-08-05T07:32:11.609Z"
   },
   {
    "duration": 22,
    "start_time": "2023-08-05T07:32:22.379Z"
   },
   {
    "duration": 4,
    "start_time": "2023-08-05T07:32:35.915Z"
   },
   {
    "duration": 39,
    "start_time": "2023-08-05T07:33:06.613Z"
   },
   {
    "duration": 5,
    "start_time": "2023-08-05T07:33:33.625Z"
   },
   {
    "duration": 15,
    "start_time": "2023-08-05T07:33:39.537Z"
   },
   {
    "duration": 24015,
    "start_time": "2023-08-05T07:33:42.998Z"
   },
   {
    "duration": 4037,
    "start_time": "2023-08-05T08:08:52.658Z"
   },
   {
    "duration": 3490,
    "start_time": "2023-08-05T08:08:56.697Z"
   },
   {
    "duration": 849,
    "start_time": "2023-08-05T08:09:00.189Z"
   },
   {
    "duration": 25,
    "start_time": "2023-08-05T08:09:01.040Z"
   },
   {
    "duration": 253,
    "start_time": "2023-08-05T08:09:01.067Z"
   },
   {
    "duration": 5,
    "start_time": "2023-08-05T08:09:01.322Z"
   },
   {
    "duration": 47,
    "start_time": "2023-08-05T08:09:01.328Z"
   },
   {
    "duration": 280,
    "start_time": "2023-08-05T08:09:01.377Z"
   },
   {
    "duration": 72,
    "start_time": "2023-08-05T08:09:02.517Z"
   },
   {
    "duration": 51,
    "start_time": "2023-08-05T08:09:04.022Z"
   },
   {
    "duration": 4,
    "start_time": "2023-08-05T08:09:08.997Z"
   },
   {
    "duration": 65,
    "start_time": "2023-08-05T08:09:12.789Z"
   },
   {
    "duration": 23,
    "start_time": "2023-08-05T08:09:22.726Z"
   },
   {
    "duration": 24,
    "start_time": "2023-08-05T08:09:23.765Z"
   },
   {
    "duration": 805,
    "start_time": "2023-08-05T08:09:34.629Z"
   },
   {
    "duration": 583,
    "start_time": "2023-08-05T08:09:46.013Z"
   },
   {
    "duration": 212,
    "start_time": "2023-08-05T08:09:55.125Z"
   },
   {
    "duration": 194,
    "start_time": "2023-08-05T08:10:00.189Z"
   },
   {
    "duration": 20206,
    "start_time": "2023-08-05T08:10:06.733Z"
   },
   {
    "duration": 20389,
    "start_time": "2023-08-05T08:10:40.949Z"
   },
   {
    "duration": 1327542,
    "start_time": "2023-08-05T08:11:48.275Z"
   },
   {
    "duration": 29415,
    "start_time": "2023-08-07T03:26:52.281Z"
   },
   {
    "duration": 4139,
    "start_time": "2023-08-07T03:27:21.700Z"
   },
   {
    "duration": 3656,
    "start_time": "2023-08-07T03:27:25.841Z"
   },
   {
    "duration": 32,
    "start_time": "2023-08-07T03:27:29.499Z"
   },
   {
    "duration": 235,
    "start_time": "2023-08-07T03:27:29.533Z"
   },
   {
    "duration": 8,
    "start_time": "2023-08-07T03:27:29.769Z"
   },
   {
    "duration": 27,
    "start_time": "2023-08-07T03:27:29.779Z"
   },
   {
    "duration": 223,
    "start_time": "2023-08-07T03:27:29.809Z"
   },
   {
    "duration": 128,
    "start_time": "2023-08-07T03:27:30.034Z"
   },
   {
    "duration": 124,
    "start_time": "2023-08-07T03:27:30.164Z"
   },
   {
    "duration": 6,
    "start_time": "2023-08-07T03:27:30.290Z"
   },
   {
    "duration": 153,
    "start_time": "2023-08-07T03:27:30.299Z"
   },
   {
    "duration": 51,
    "start_time": "2023-08-07T03:27:30.454Z"
   },
   {
    "duration": 70,
    "start_time": "2023-08-07T03:27:30.507Z"
   },
   {
    "duration": 910,
    "start_time": "2023-08-07T03:27:30.579Z"
   },
   {
    "duration": 245,
    "start_time": "2023-08-07T03:27:31.491Z"
   },
   {
    "duration": 245,
    "start_time": "2023-08-07T03:27:31.738Z"
   },
   {
    "duration": 4561,
    "start_time": "2023-08-07T03:28:04.485Z"
   },
   {
    "duration": 3971,
    "start_time": "2023-08-07T03:28:09.050Z"
   },
   {
    "duration": 847,
    "start_time": "2023-08-07T03:28:13.023Z"
   },
   {
    "duration": 35,
    "start_time": "2023-08-07T03:28:13.872Z"
   },
   {
    "duration": 245,
    "start_time": "2023-08-07T03:28:13.910Z"
   },
   {
    "duration": 5,
    "start_time": "2023-08-07T03:28:14.156Z"
   },
   {
    "duration": 22,
    "start_time": "2023-08-07T03:28:14.163Z"
   },
   {
    "duration": 858,
    "start_time": "2023-08-07T03:28:16.316Z"
   },
   {
    "duration": 69,
    "start_time": "2023-08-07T03:28:17.175Z"
   },
   {
    "duration": 70,
    "start_time": "2023-08-07T03:28:17.245Z"
   },
   {
    "duration": 4,
    "start_time": "2023-08-07T03:28:17.317Z"
   },
   {
    "duration": 81,
    "start_time": "2023-08-07T03:28:17.323Z"
   },
   {
    "duration": 37,
    "start_time": "2023-08-07T03:28:17.406Z"
   },
   {
    "duration": 32,
    "start_time": "2023-08-07T03:28:17.445Z"
   },
   {
    "duration": 849,
    "start_time": "2023-08-07T03:28:17.479Z"
   },
   {
    "duration": 237,
    "start_time": "2023-08-07T03:28:18.330Z"
   },
   {
    "duration": 243,
    "start_time": "2023-08-07T03:28:18.569Z"
   },
   {
    "duration": 11,
    "start_time": "2023-08-07T03:28:18.814Z"
   },
   {
    "duration": 30798,
    "start_time": "2023-08-07T03:28:18.827Z"
   },
   {
    "duration": 0,
    "start_time": "2023-08-07T03:28:49.627Z"
   },
   {
    "duration": 0,
    "start_time": "2023-08-07T03:28:49.629Z"
   },
   {
    "duration": 10,
    "start_time": "2023-08-07T03:40:59.777Z"
   },
   {
    "duration": 13,
    "start_time": "2023-08-07T03:41:05.300Z"
   },
   {
    "duration": 5567,
    "start_time": "2023-08-07T03:41:22.652Z"
   },
   {
    "duration": 4023,
    "start_time": "2023-08-07T03:41:28.222Z"
   },
   {
    "duration": 870,
    "start_time": "2023-08-07T03:41:32.247Z"
   },
   {
    "duration": 33,
    "start_time": "2023-08-07T03:41:33.120Z"
   },
   {
    "duration": 248,
    "start_time": "2023-08-07T03:41:33.155Z"
   },
   {
    "duration": 6,
    "start_time": "2023-08-07T03:41:33.405Z"
   },
   {
    "duration": 49,
    "start_time": "2023-08-07T03:41:33.413Z"
   },
   {
    "duration": 193,
    "start_time": "2023-08-07T03:41:33.464Z"
   },
   {
    "duration": 48,
    "start_time": "2023-08-07T03:41:33.659Z"
   },
   {
    "duration": 55,
    "start_time": "2023-08-07T03:41:33.709Z"
   },
   {
    "duration": 5,
    "start_time": "2023-08-07T03:41:33.766Z"
   },
   {
    "duration": 87,
    "start_time": "2023-08-07T03:41:33.772Z"
   },
   {
    "duration": 43,
    "start_time": "2023-08-07T03:41:33.862Z"
   },
   {
    "duration": 30,
    "start_time": "2023-08-07T03:41:33.907Z"
   },
   {
    "duration": 939,
    "start_time": "2023-08-07T03:41:33.939Z"
   },
   {
    "duration": 245,
    "start_time": "2023-08-07T03:41:34.880Z"
   },
   {
    "duration": 249,
    "start_time": "2023-08-07T03:41:35.127Z"
   },
   {
    "duration": 7,
    "start_time": "2023-08-07T03:41:35.378Z"
   },
   {
    "duration": 21790,
    "start_time": "2023-08-07T03:41:35.387Z"
   },
   {
    "duration": 1228410,
    "start_time": "2023-08-07T03:41:57.179Z"
   },
   {
    "duration": 55,
    "start_time": "2023-08-07T04:02:25.592Z"
   },
   {
    "duration": 7,
    "start_time": "2023-08-07T04:05:56.861Z"
   },
   {
    "duration": 182,
    "start_time": "2023-08-07T04:06:17.270Z"
   },
   {
    "duration": 118,
    "start_time": "2023-08-07T04:06:55.873Z"
   },
   {
    "duration": 106,
    "start_time": "2023-08-07T04:07:56.487Z"
   },
   {
    "duration": 10,
    "start_time": "2023-08-07T04:18:36.413Z"
   },
   {
    "duration": 6546,
    "start_time": "2023-08-07T06:18:25.669Z"
   },
   {
    "duration": 4039,
    "start_time": "2023-08-07T06:18:44.741Z"
   },
   {
    "duration": 3241,
    "start_time": "2023-08-07T06:19:24.093Z"
   },
   {
    "duration": 784,
    "start_time": "2023-08-07T06:19:54.597Z"
   },
   {
    "duration": 795,
    "start_time": "2023-08-07T06:20:02.412Z"
   },
   {
    "duration": 34,
    "start_time": "2023-08-07T06:20:14.707Z"
   },
   {
    "duration": 211,
    "start_time": "2023-08-07T06:20:20.244Z"
   },
   {
    "duration": 5,
    "start_time": "2023-08-07T06:20:23.355Z"
   },
   {
    "duration": 332,
    "start_time": "2023-08-07T06:36:02.274Z"
   },
   {
    "duration": 9,
    "start_time": "2023-08-07T06:36:14.586Z"
   },
   {
    "duration": 730,
    "start_time": "2023-08-07T06:41:09.788Z"
   },
   {
    "duration": 163,
    "start_time": "2023-08-07T06:41:16.385Z"
   },
   {
    "duration": 161,
    "start_time": "2023-08-07T06:41:25.203Z"
   },
   {
    "duration": 157,
    "start_time": "2023-08-07T06:41:31.156Z"
   },
   {
    "duration": 134,
    "start_time": "2023-08-07T06:41:45.876Z"
   },
   {
    "duration": 3,
    "start_time": "2023-08-07T06:42:55.051Z"
   },
   {
    "duration": 125,
    "start_time": "2023-08-07T06:44:01.290Z"
   },
   {
    "duration": 148,
    "start_time": "2023-08-07T06:44:14.236Z"
   },
   {
    "duration": 134,
    "start_time": "2023-08-07T06:44:25.000Z"
   },
   {
    "duration": 238,
    "start_time": "2023-08-07T06:44:54.096Z"
   },
   {
    "duration": 167,
    "start_time": "2023-08-07T06:45:16.248Z"
   },
   {
    "duration": 137,
    "start_time": "2023-08-07T06:45:21.273Z"
   },
   {
    "duration": 129,
    "start_time": "2023-08-07T06:45:28.681Z"
   },
   {
    "duration": 470,
    "start_time": "2023-08-07T06:51:33.312Z"
   },
   {
    "duration": 3,
    "start_time": "2023-08-07T06:51:34.887Z"
   },
   {
    "duration": 4,
    "start_time": "2023-08-07T06:51:35.671Z"
   },
   {
    "duration": 134,
    "start_time": "2023-08-07T06:53:34.156Z"
   },
   {
    "duration": 135,
    "start_time": "2023-08-07T06:53:44.053Z"
   },
   {
    "duration": 301,
    "start_time": "2023-08-07T07:00:56.171Z"
   },
   {
    "duration": 496,
    "start_time": "2023-08-07T07:00:59.397Z"
   },
   {
    "duration": 4,
    "start_time": "2023-08-07T07:01:00.716Z"
   },
   {
    "duration": 4,
    "start_time": "2023-08-07T07:01:01.654Z"
   },
   {
    "duration": 165,
    "start_time": "2023-08-07T07:01:10.485Z"
   },
   {
    "duration": 877013,
    "start_time": "2023-08-07T07:04:06.361Z"
   },
   {
    "duration": 1980,
    "start_time": "2023-08-07T07:19:50.025Z"
   },
   {
    "duration": 429105,
    "start_time": "2023-08-07T07:19:57.718Z"
   },
   {
    "duration": 11,
    "start_time": "2023-08-07T07:28:24.348Z"
   },
   {
    "duration": 15391,
    "start_time": "2023-08-07T07:28:26.796Z"
   },
   {
    "duration": 11,
    "start_time": "2023-08-07T07:29:16.690Z"
   },
   {
    "duration": 147981,
    "start_time": "2023-08-07T07:29:19.938Z"
   },
   {
    "duration": 2311915,
    "start_time": "2023-08-07T07:32:18.093Z"
   },
   {
    "duration": 3221,
    "start_time": "2023-08-07T08:24:41.624Z"
   },
   {
    "duration": 1060,
    "start_time": "2023-08-07T08:44:22.764Z"
   },
   {
    "duration": 907,
    "start_time": "2023-08-07T08:44:28.155Z"
   },
   {
    "duration": 6,
    "start_time": "2023-08-07T08:45:07.155Z"
   },
   {
    "duration": 50,
    "start_time": "2023-08-07T08:47:45.168Z"
   },
   {
    "duration": 5,
    "start_time": "2023-08-07T08:47:50.104Z"
   },
   {
    "duration": 185,
    "start_time": "2023-08-07T08:49:13.680Z"
   },
   {
    "duration": 5,
    "start_time": "2023-08-07T08:53:30.007Z"
   },
   {
    "duration": 177,
    "start_time": "2023-08-07T08:53:37.199Z"
   },
   {
    "duration": 180,
    "start_time": "2023-08-07T08:55:18.125Z"
   },
   {
    "duration": 1246,
    "start_time": "2023-08-07T09:25:26.623Z"
   },
   {
    "duration": 34,
    "start_time": "2023-08-07T09:25:39.622Z"
   },
   {
    "duration": 39,
    "start_time": "2023-08-07T09:26:05.712Z"
   },
   {
    "duration": 6,
    "start_time": "2023-08-07T09:26:47.028Z"
   },
   {
    "duration": 19,
    "start_time": "2023-08-07T09:28:08.492Z"
   },
   {
    "duration": 43,
    "start_time": "2023-08-07T09:28:21.277Z"
   },
   {
    "duration": 37,
    "start_time": "2023-08-07T09:28:38.592Z"
   },
   {
    "duration": 34,
    "start_time": "2023-08-07T09:28:58.689Z"
   },
   {
    "duration": 77,
    "start_time": "2023-08-07T09:29:55.560Z"
   },
   {
    "duration": 32,
    "start_time": "2023-08-07T09:30:06.831Z"
   },
   {
    "duration": 12,
    "start_time": "2023-08-07T09:33:20.856Z"
   },
   {
    "duration": 971,
    "start_time": "2023-08-07T09:33:54.573Z"
   },
   {
    "duration": 9,
    "start_time": "2023-08-07T09:33:57.212Z"
   },
   {
    "duration": 6,
    "start_time": "2023-08-07T09:34:33.320Z"
   },
   {
    "duration": 32,
    "start_time": "2023-08-07T09:34:38.609Z"
   },
   {
    "duration": 27,
    "start_time": "2023-08-07T09:35:50.569Z"
   },
   {
    "duration": 109,
    "start_time": "2023-08-07T09:37:11.408Z"
   },
   {
    "duration": 65,
    "start_time": "2023-08-07T09:37:24.728Z"
   },
   {
    "duration": 4,
    "start_time": "2023-08-07T09:37:28.808Z"
   },
   {
    "duration": 4,
    "start_time": "2023-08-07T09:37:35.224Z"
   },
   {
    "duration": 7130,
    "start_time": "2023-08-07T09:37:39.946Z"
   },
   {
    "duration": 7371,
    "start_time": "2023-08-07T09:38:02.031Z"
   },
   {
    "duration": 21,
    "start_time": "2023-08-07T09:39:46.381Z"
   },
   {
    "duration": 7157,
    "start_time": "2023-08-07T09:40:00.679Z"
   },
   {
    "duration": 24,
    "start_time": "2023-08-07T09:40:28.153Z"
   },
   {
    "duration": 4397,
    "start_time": "2023-08-07T09:41:44.278Z"
   },
   {
    "duration": 4620,
    "start_time": "2023-08-07T09:41:48.678Z"
   },
   {
    "duration": 3540,
    "start_time": "2023-08-07T09:41:53.300Z"
   },
   {
    "duration": 39,
    "start_time": "2023-08-07T09:41:56.842Z"
   },
   {
    "duration": 253,
    "start_time": "2023-08-07T09:41:56.884Z"
   },
   {
    "duration": 4,
    "start_time": "2023-08-07T09:41:57.139Z"
   },
   {
    "duration": 24,
    "start_time": "2023-08-07T09:41:57.145Z"
   },
   {
    "duration": 159,
    "start_time": "2023-08-07T09:41:57.170Z"
   },
   {
    "duration": 298,
    "start_time": "2023-08-07T09:41:57.331Z"
   },
   {
    "duration": 553,
    "start_time": "2023-08-07T09:42:30.514Z"
   },
   {
    "duration": 4,
    "start_time": "2023-08-07T09:42:31.581Z"
   },
   {
    "duration": 5,
    "start_time": "2023-08-07T09:42:32.185Z"
   },
   {
    "duration": 1998,
    "start_time": "2023-08-07T09:42:46.562Z"
   },
   {
    "duration": 11,
    "start_time": "2023-08-07T09:42:50.330Z"
   },
   {
    "duration": 14,
    "start_time": "2023-08-07T09:43:03.361Z"
   },
   {
    "duration": 10,
    "start_time": "2023-08-07T09:43:35.853Z"
   },
   {
    "duration": 1475,
    "start_time": "2023-08-07T09:43:48.129Z"
   },
   {
    "duration": 7,
    "start_time": "2023-08-07T09:44:01.009Z"
   },
   {
    "duration": 39,
    "start_time": "2023-08-07T09:44:04.217Z"
   },
   {
    "duration": 26,
    "start_time": "2023-08-07T09:44:08.232Z"
   },
   {
    "duration": 68,
    "start_time": "2023-08-07T09:44:09.889Z"
   },
   {
    "duration": 4,
    "start_time": "2023-08-07T09:44:12.464Z"
   },
   {
    "duration": 5,
    "start_time": "2023-08-07T09:44:16.888Z"
   },
   {
    "duration": 6584,
    "start_time": "2023-08-07T09:44:23.450Z"
   },
   {
    "duration": 6902,
    "start_time": "2023-08-07T09:45:22.352Z"
   },
   {
    "duration": 45,
    "start_time": "2023-08-07T09:48:27.502Z"
   },
   {
    "duration": 6426,
    "start_time": "2023-08-07T09:48:45.199Z"
   },
   {
    "duration": 4,
    "start_time": "2023-08-07T10:42:20.786Z"
   },
   {
    "duration": 6884,
    "start_time": "2023-08-07T10:42:43.966Z"
   },
   {
    "duration": 7223,
    "start_time": "2023-08-07T10:43:03.489Z"
   },
   {
    "duration": 6989,
    "start_time": "2023-08-07T10:43:20.620Z"
   },
   {
    "duration": 1886,
    "start_time": "2023-08-07T10:48:15.716Z"
   },
   {
    "duration": 1816,
    "start_time": "2023-08-07T10:48:23.180Z"
   },
   {
    "duration": 31,
    "start_time": "2023-08-07T10:51:12.557Z"
   },
   {
    "duration": 22,
    "start_time": "2023-08-07T10:51:29.632Z"
   },
   {
    "duration": 18,
    "start_time": "2023-08-07T10:51:45.930Z"
   },
   {
    "duration": 4,
    "start_time": "2023-08-07T10:52:14.071Z"
   },
   {
    "duration": 112,
    "start_time": "2023-08-07T10:52:20.118Z"
   },
   {
    "duration": 6,
    "start_time": "2023-08-07T10:52:31.033Z"
   },
   {
    "duration": 132429,
    "start_time": "2023-08-07T10:55:46.104Z"
   },
   {
    "duration": 4,
    "start_time": "2023-08-07T11:14:07.074Z"
   },
   {
    "duration": 3,
    "start_time": "2023-08-07T11:18:42.430Z"
   },
   {
    "duration": 4,
    "start_time": "2023-08-07T11:32:54.692Z"
   },
   {
    "duration": 14467,
    "start_time": "2023-08-07T11:38:37.511Z"
   },
   {
    "duration": 72092,
    "start_time": "2023-08-07T11:39:15.608Z"
   },
   {
    "duration": 2227,
    "start_time": "2023-08-07T11:40:49.926Z"
   },
   {
    "duration": 3372,
    "start_time": "2023-08-07T11:41:01.252Z"
   },
   {
    "duration": 2300,
    "start_time": "2023-08-07T11:41:17.273Z"
   },
   {
    "duration": 102978,
    "start_time": "2023-08-07T11:42:28.195Z"
   },
   {
    "duration": 23816,
    "start_time": "2023-08-07T11:44:35.218Z"
   },
   {
    "duration": 64681,
    "start_time": "2023-08-07T11:45:13.194Z"
   },
   {
    "duration": 2224,
    "start_time": "2023-08-07T11:47:05.301Z"
   },
   {
    "duration": 63526,
    "start_time": "2023-08-07T11:47:19.141Z"
   },
   {
    "duration": 4,
    "start_time": "2023-08-07T11:49:04.603Z"
   },
   {
    "duration": 2332,
    "start_time": "2023-08-07T11:49:57.265Z"
   },
   {
    "duration": 57704,
    "start_time": "2023-08-07T11:50:00.965Z"
   },
   {
    "duration": 3,
    "start_time": "2023-08-07T11:51:05.477Z"
   },
   {
    "duration": 527561,
    "start_time": "2023-08-07T11:51:51.408Z"
   },
   {
    "duration": 3,
    "start_time": "2023-08-07T12:01:58.217Z"
   },
   {
    "duration": 2018,
    "start_time": "2023-08-07T12:03:59.636Z"
   },
   {
    "duration": 1246,
    "start_time": "2023-08-07T12:04:20.921Z"
   },
   {
    "duration": 1624038,
    "start_time": "2023-08-07T12:04:25.723Z"
   },
   {
    "duration": 7,
    "start_time": "2023-08-07T13:17:44.055Z"
   },
   {
    "duration": 386,
    "start_time": "2023-08-07T13:19:50.357Z"
   },
   {
    "duration": 6815,
    "start_time": "2023-08-08T05:58:56.854Z"
   },
   {
    "duration": 4817,
    "start_time": "2023-08-08T05:59:17.439Z"
   },
   {
    "duration": 2348,
    "start_time": "2023-08-08T05:59:25.142Z"
   },
   {
    "duration": 40,
    "start_time": "2023-08-08T05:59:32.286Z"
   },
   {
    "duration": 242,
    "start_time": "2023-08-08T05:59:33.614Z"
   },
   {
    "duration": 5,
    "start_time": "2023-08-08T05:59:34.550Z"
   },
   {
    "duration": 9,
    "start_time": "2023-08-08T05:59:35.390Z"
   },
   {
    "duration": 144,
    "start_time": "2023-08-08T05:59:37.662Z"
   },
   {
    "duration": 304,
    "start_time": "2023-08-08T05:59:38.734Z"
   },
   {
    "duration": 483,
    "start_time": "2023-08-08T05:59:43.765Z"
   },
   {
    "duration": 3,
    "start_time": "2023-08-08T05:59:44.863Z"
   },
   {
    "duration": 3,
    "start_time": "2023-08-08T05:59:45.573Z"
   },
   {
    "duration": 2053,
    "start_time": "2023-08-08T05:59:49.599Z"
   },
   {
    "duration": 16,
    "start_time": "2023-08-08T05:59:52.502Z"
   },
   {
    "duration": 1101,
    "start_time": "2023-08-08T06:00:13.548Z"
   },
   {
    "duration": 6,
    "start_time": "2023-08-08T06:02:59.080Z"
   },
   {
    "duration": 41,
    "start_time": "2023-08-08T06:03:01.393Z"
   },
   {
    "duration": 32,
    "start_time": "2023-08-08T06:03:04.240Z"
   },
   {
    "duration": 79,
    "start_time": "2023-08-08T06:03:05.768Z"
   },
   {
    "duration": 74,
    "start_time": "2023-08-08T06:05:09.255Z"
   },
   {
    "duration": 5,
    "start_time": "2023-08-08T06:05:44.461Z"
   },
   {
    "duration": 5,
    "start_time": "2023-08-08T06:06:07.663Z"
   },
   {
    "duration": 6,
    "start_time": "2023-08-08T06:06:20.197Z"
   },
   {
    "duration": 5836,
    "start_time": "2023-08-08T06:09:24.642Z"
   },
   {
    "duration": 2127,
    "start_time": "2023-08-08T06:10:02.162Z"
   },
   {
    "duration": 1206,
    "start_time": "2023-08-08T06:10:16.626Z"
   },
   {
    "duration": 1987,
    "start_time": "2023-08-08T06:10:26.297Z"
   },
   {
    "duration": 1839,
    "start_time": "2023-08-08T06:11:43.343Z"
   },
   {
    "duration": 2015,
    "start_time": "2023-08-08T06:11:51.872Z"
   },
   {
    "duration": 1841,
    "start_time": "2023-08-08T06:12:23.687Z"
   },
   {
    "duration": 1563,
    "start_time": "2023-08-08T06:12:34.068Z"
   },
   {
    "duration": 1808,
    "start_time": "2023-08-08T06:12:41.645Z"
   },
   {
    "duration": 95,
    "start_time": "2023-08-08T06:13:26.170Z"
   },
   {
    "duration": 1469,
    "start_time": "2023-08-08T06:14:43.069Z"
   },
   {
    "duration": 157882,
    "start_time": "2023-08-08T06:15:10.228Z"
   },
   {
    "duration": 4,
    "start_time": "2023-08-08T06:18:14.625Z"
   },
   {
    "duration": 1652173,
    "start_time": "2023-08-08T06:18:40.744Z"
   },
   {
    "duration": 4,
    "start_time": "2023-08-08T06:46:24.769Z"
   },
   {
    "duration": 50,
    "start_time": "2023-08-08T06:53:28.137Z"
   },
   {
    "duration": 3,
    "start_time": "2023-08-08T06:54:17.389Z"
   },
   {
    "duration": 5,
    "start_time": "2023-08-08T07:00:01.696Z"
   },
   {
    "duration": 4348,
    "start_time": "2023-08-08T07:06:23.692Z"
   },
   {
    "duration": 5043,
    "start_time": "2023-08-08T07:06:31.115Z"
   },
   {
    "duration": 2343,
    "start_time": "2023-08-08T07:06:38.602Z"
   },
   {
    "duration": 42,
    "start_time": "2023-08-08T07:06:43.138Z"
   },
   {
    "duration": 247,
    "start_time": "2023-08-08T07:06:44.954Z"
   },
   {
    "duration": 6,
    "start_time": "2023-08-08T07:06:45.955Z"
   },
   {
    "duration": 11,
    "start_time": "2023-08-08T07:06:46.962Z"
   },
   {
    "duration": 171,
    "start_time": "2023-08-08T07:06:49.338Z"
   },
   {
    "duration": 317,
    "start_time": "2023-08-08T07:06:50.514Z"
   },
   {
    "duration": 1180,
    "start_time": "2023-08-08T07:07:06.274Z"
   },
   {
    "duration": 8,
    "start_time": "2023-08-08T07:07:09.154Z"
   },
   {
    "duration": 35,
    "start_time": "2023-08-08T07:07:10.466Z"
   },
   {
    "duration": 30,
    "start_time": "2023-08-08T07:07:11.970Z"
   },
   {
    "duration": 74,
    "start_time": "2023-08-08T07:07:13.762Z"
   },
   {
    "duration": 72,
    "start_time": "2023-08-08T07:07:15.450Z"
   },
   {
    "duration": 5,
    "start_time": "2023-08-08T07:07:17.131Z"
   },
   {
    "duration": 5,
    "start_time": "2023-08-08T07:07:19.515Z"
   },
   {
    "duration": 5,
    "start_time": "2023-08-08T07:07:21.569Z"
   },
   {
    "duration": 5243,
    "start_time": "2023-08-08T07:07:26.410Z"
   },
   {
    "duration": 1591,
    "start_time": "2023-08-08T07:07:31.656Z"
   },
   {
    "duration": 1734,
    "start_time": "2023-08-08T07:07:34.609Z"
   },
   {
    "duration": 1874,
    "start_time": "2023-08-08T07:07:37.089Z"
   },
   {
    "duration": 4,
    "start_time": "2023-08-08T07:07:51.953Z"
   },
   {
    "duration": 1362,
    "start_time": "2023-08-08T07:07:55.754Z"
   },
   {
    "duration": 3,
    "start_time": "2023-08-08T07:07:59.577Z"
   },
   {
    "duration": 42194,
    "start_time": "2023-08-08T07:08:24.737Z"
   },
   {
    "duration": 5,
    "start_time": "2023-08-08T07:10:59.853Z"
   },
   {
    "duration": 175,
    "start_time": "2023-08-08T07:12:17.629Z"
   },
   {
    "duration": 10,
    "start_time": "2023-08-08T07:12:44.819Z"
   },
   {
    "duration": 4448,
    "start_time": "2023-08-08T07:13:39.642Z"
   },
   {
    "duration": 5053,
    "start_time": "2023-08-08T07:13:44.093Z"
   },
   {
    "duration": 2340,
    "start_time": "2023-08-08T07:13:49.148Z"
   },
   {
    "duration": 43,
    "start_time": "2023-08-08T07:13:51.491Z"
   },
   {
    "duration": 247,
    "start_time": "2023-08-08T07:13:53.002Z"
   },
   {
    "duration": 5,
    "start_time": "2023-08-08T07:13:54.186Z"
   },
   {
    "duration": 11,
    "start_time": "2023-08-08T07:13:56.786Z"
   },
   {
    "duration": 178,
    "start_time": "2023-08-08T07:13:58.426Z"
   },
   {
    "duration": 351,
    "start_time": "2023-08-08T07:13:59.266Z"
   },
   {
    "duration": 967,
    "start_time": "2023-08-08T07:14:06.906Z"
   },
   {
    "duration": 9,
    "start_time": "2023-08-08T07:14:08.674Z"
   },
   {
    "duration": 40,
    "start_time": "2023-08-08T07:14:14.241Z"
   },
   {
    "duration": 34,
    "start_time": "2023-08-08T07:14:16.010Z"
   },
   {
    "duration": 71,
    "start_time": "2023-08-08T07:14:16.817Z"
   },
   {
    "duration": 84,
    "start_time": "2023-08-08T07:14:17.473Z"
   },
   {
    "duration": 6,
    "start_time": "2023-08-08T07:14:19.241Z"
   },
   {
    "duration": 6,
    "start_time": "2023-08-08T07:14:20.882Z"
   },
   {
    "duration": 6,
    "start_time": "2023-08-08T07:14:22.546Z"
   },
   {
    "duration": 5155,
    "start_time": "2023-08-08T07:14:29.017Z"
   },
   {
    "duration": 1615,
    "start_time": "2023-08-08T07:14:34.175Z"
   },
   {
    "duration": 1763,
    "start_time": "2023-08-08T07:14:35.792Z"
   },
   {
    "duration": 1938,
    "start_time": "2023-08-08T07:14:37.557Z"
   },
   {
    "duration": 1276,
    "start_time": "2023-08-08T07:14:43.161Z"
   },
   {
    "duration": 3,
    "start_time": "2023-08-08T07:15:08.153Z"
   },
   {
    "duration": 4288,
    "start_time": "2023-08-08T07:18:25.964Z"
   },
   {
    "duration": 4828,
    "start_time": "2023-08-08T07:18:30.254Z"
   },
   {
    "duration": 2426,
    "start_time": "2023-08-08T07:18:35.085Z"
   },
   {
    "duration": 39,
    "start_time": "2023-08-08T07:18:37.514Z"
   },
   {
    "duration": 268,
    "start_time": "2023-08-08T07:18:37.555Z"
   },
   {
    "duration": 6,
    "start_time": "2023-08-08T07:18:37.825Z"
   },
   {
    "duration": 12,
    "start_time": "2023-08-08T07:18:39.550Z"
   },
   {
    "duration": 150,
    "start_time": "2023-08-08T07:18:40.163Z"
   },
   {
    "duration": 325,
    "start_time": "2023-08-08T07:18:41.910Z"
   },
   {
    "duration": 1057,
    "start_time": "2023-08-08T07:18:49.699Z"
   },
   {
    "duration": 9,
    "start_time": "2023-08-08T07:18:51.499Z"
   },
   {
    "duration": 45,
    "start_time": "2023-08-08T07:18:53.203Z"
   },
   {
    "duration": 32,
    "start_time": "2023-08-08T07:18:53.970Z"
   },
   {
    "duration": 67,
    "start_time": "2023-08-08T07:18:54.690Z"
   },
   {
    "duration": 90,
    "start_time": "2023-08-08T07:18:55.396Z"
   },
   {
    "duration": 5,
    "start_time": "2023-08-08T07:18:57.248Z"
   },
   {
    "duration": 5,
    "start_time": "2023-08-08T07:18:58.152Z"
   },
   {
    "duration": 6,
    "start_time": "2023-08-08T07:19:00.058Z"
   },
   {
    "duration": 5534,
    "start_time": "2023-08-08T07:19:03.099Z"
   },
   {
    "duration": 1697,
    "start_time": "2023-08-08T07:19:09.331Z"
   },
   {
    "duration": 1742,
    "start_time": "2023-08-08T07:19:15.378Z"
   },
   {
    "duration": 1932,
    "start_time": "2023-08-08T07:19:17.635Z"
   },
   {
    "duration": 1433,
    "start_time": "2023-08-08T07:19:21.098Z"
   },
   {
    "duration": 1523538,
    "start_time": "2023-08-08T07:19:31.772Z"
   },
   {
    "duration": 4,
    "start_time": "2023-08-08T07:45:03.145Z"
   },
   {
    "duration": 381,
    "start_time": "2023-08-08T07:45:13.849Z"
   },
   {
    "duration": 1256,
    "start_time": "2023-08-08T07:45:49.201Z"
   }
  ],
  "kernelspec": {
   "display_name": "Python 3 (ipykernel)",
   "language": "python",
   "name": "python3"
  },
  "language_info": {
   "codemirror_mode": {
    "name": "ipython",
    "version": 3
   },
   "file_extension": ".py",
   "mimetype": "text/x-python",
   "name": "python",
   "nbconvert_exporter": "python",
   "pygments_lexer": "ipython3",
   "version": "3.9.5"
  },
  "toc": {
   "base_numbering": 1,
   "nav_menu": {
    "height": "190px",
    "width": "381px"
   },
   "number_sections": true,
   "sideBar": true,
   "skip_h1_title": true,
   "title_cell": "Содержание",
   "title_sidebar": "Contents",
   "toc_cell": true,
   "toc_position": {
    "height": "calc(100% - 180px)",
    "left": "10px",
    "top": "150px",
    "width": "302.391px"
   },
   "toc_section_display": true,
   "toc_window_display": false
  }
 },
 "nbformat": 4,
 "nbformat_minor": 2
}
