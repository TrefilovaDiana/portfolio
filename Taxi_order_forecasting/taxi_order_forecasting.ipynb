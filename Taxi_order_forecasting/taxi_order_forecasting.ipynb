{
 "cells": [
  {
   "cell_type": "markdown",
   "metadata": {},
   "source": [
    "#  Прогнозирование заказов такси"
   ]
  },
  {
   "cell_type": "markdown",
   "metadata": {},
   "source": [
    "Компания такси собрала исторические данные о заказах такси в аэропортах. Чтобы привлекать больше водителей в период пиковой нагрузки, нужно спрогнозировать количество заказов такси на следующий час. Строится модель для такого предсказания.\n",
    "\n",
    "Значение метрики *RMSE* на тестовой выборке должно быть не больше 48."
   ]
  },
  {
   "cell_type": "markdown",
   "metadata": {},
   "source": [
    "# План"
   ]
  },
  {
   "cell_type": "markdown",
   "metadata": {},
   "source": [
    "**1. Загрузка данных и их ресемплирование по одному часу.**\n",
    "\n",
    "**2. Анализ данных.**\n",
    "\n",
    "**3. Обучение разных моделей с различными гиперпараметрами.**\n",
    "\n",
    "**4. Проверка данных на тестовой выборке.**\n",
    "\n",
    "**5. Выводы.**"
   ]
  },
  {
   "cell_type": "markdown",
   "metadata": {},
   "source": [
    "## Загрузка данных и их ресемплирование по одному часу"
   ]
  },
  {
   "cell_type": "code",
   "execution_count": 1,
   "metadata": {},
   "outputs": [],
   "source": [
    "import pandas as pd\n",
    "import matplotlib.pyplot as plt\n",
    "from statsmodels.tsa.seasonal import seasonal_decompose\n",
    "from sklearn.model_selection import train_test_split\n",
    "from sklearn.linear_model import LinearRegression\n",
    "from sklearn.metrics import mean_squared_error\n",
    "from sklearn.tree import DecisionTreeRegressor\n",
    "from sklearn.ensemble import RandomForestRegressor\n",
    "from sklearn.dummy import DummyRegressor"
   ]
  },
  {
   "cell_type": "markdown",
   "metadata": {},
   "source": [
    "### Загрузим данные"
   ]
  },
  {
   "cell_type": "code",
   "execution_count": 2,
   "metadata": {},
   "outputs": [
    {
     "data": {
      "text/html": [
       "<div>\n",
       "<style scoped>\n",
       "    .dataframe tbody tr th:only-of-type {\n",
       "        vertical-align: middle;\n",
       "    }\n",
       "\n",
       "    .dataframe tbody tr th {\n",
       "        vertical-align: top;\n",
       "    }\n",
       "\n",
       "    .dataframe thead th {\n",
       "        text-align: right;\n",
       "    }\n",
       "</style>\n",
       "<table border=\"1\" class=\"dataframe\">\n",
       "  <thead>\n",
       "    <tr style=\"text-align: right;\">\n",
       "      <th></th>\n",
       "      <th>datetime</th>\n",
       "      <th>num_orders</th>\n",
       "    </tr>\n",
       "  </thead>\n",
       "  <tbody>\n",
       "    <tr>\n",
       "      <th>0</th>\n",
       "      <td>2018-03-01 00:00:00</td>\n",
       "      <td>9</td>\n",
       "    </tr>\n",
       "    <tr>\n",
       "      <th>1</th>\n",
       "      <td>2018-03-01 00:10:00</td>\n",
       "      <td>14</td>\n",
       "    </tr>\n",
       "    <tr>\n",
       "      <th>2</th>\n",
       "      <td>2018-03-01 00:20:00</td>\n",
       "      <td>28</td>\n",
       "    </tr>\n",
       "    <tr>\n",
       "      <th>3</th>\n",
       "      <td>2018-03-01 00:30:00</td>\n",
       "      <td>20</td>\n",
       "    </tr>\n",
       "    <tr>\n",
       "      <th>4</th>\n",
       "      <td>2018-03-01 00:40:00</td>\n",
       "      <td>32</td>\n",
       "    </tr>\n",
       "  </tbody>\n",
       "</table>\n",
       "</div>"
      ],
      "text/plain": [
       "              datetime  num_orders\n",
       "0  2018-03-01 00:00:00           9\n",
       "1  2018-03-01 00:10:00          14\n",
       "2  2018-03-01 00:20:00          28\n",
       "3  2018-03-01 00:30:00          20\n",
       "4  2018-03-01 00:40:00          32"
      ]
     },
     "execution_count": 2,
     "metadata": {},
     "output_type": "execute_result"
    }
   ],
   "source": [
    "taxi_data = pd.read_csv('/datasets/taxi.csv')\n",
    "taxi_data.head()"
   ]
  },
  {
   "cell_type": "code",
   "execution_count": 3,
   "metadata": {},
   "outputs": [
    {
     "name": "stdout",
     "output_type": "stream",
     "text": [
      "<class 'pandas.core.frame.DataFrame'>\n",
      "RangeIndex: 26496 entries, 0 to 26495\n",
      "Data columns (total 2 columns):\n",
      " #   Column      Non-Null Count  Dtype \n",
      "---  ------      --------------  ----- \n",
      " 0   datetime    26496 non-null  object\n",
      " 1   num_orders  26496 non-null  int64 \n",
      "dtypes: int64(1), object(1)\n",
      "memory usage: 414.1+ KB\n"
     ]
    }
   ],
   "source": [
    "taxi_data.info()"
   ]
  },
  {
   "cell_type": "markdown",
   "metadata": {},
   "source": [
    "Пропусков в данных нет."
   ]
  },
  {
   "cell_type": "markdown",
   "metadata": {},
   "source": [
    "### Проверим данные на наличие дубликатов"
   ]
  },
  {
   "cell_type": "code",
   "execution_count": 4,
   "metadata": {},
   "outputs": [
    {
     "data": {
      "text/plain": [
       "0"
      ]
     },
     "execution_count": 4,
     "metadata": {},
     "output_type": "execute_result"
    }
   ],
   "source": [
    "taxi_data.duplicated().sum()"
   ]
  },
  {
   "cell_type": "markdown",
   "metadata": {},
   "source": [
    "Дубликатов нет."
   ]
  },
  {
   "cell_type": "markdown",
   "metadata": {},
   "source": [
    "### Выполним ресемплирование данных по 1 часу"
   ]
  },
  {
   "cell_type": "code",
   "execution_count": 5,
   "metadata": {},
   "outputs": [
    {
     "data": {
      "text/html": [
       "<div>\n",
       "<style scoped>\n",
       "    .dataframe tbody tr th:only-of-type {\n",
       "        vertical-align: middle;\n",
       "    }\n",
       "\n",
       "    .dataframe tbody tr th {\n",
       "        vertical-align: top;\n",
       "    }\n",
       "\n",
       "    .dataframe thead th {\n",
       "        text-align: right;\n",
       "    }\n",
       "</style>\n",
       "<table border=\"1\" class=\"dataframe\">\n",
       "  <thead>\n",
       "    <tr style=\"text-align: right;\">\n",
       "      <th></th>\n",
       "      <th>num_orders</th>\n",
       "    </tr>\n",
       "    <tr>\n",
       "      <th>datetime</th>\n",
       "      <th></th>\n",
       "    </tr>\n",
       "  </thead>\n",
       "  <tbody>\n",
       "    <tr>\n",
       "      <th>2018-03-01 00:00:00</th>\n",
       "      <td>9</td>\n",
       "    </tr>\n",
       "    <tr>\n",
       "      <th>2018-03-01 00:10:00</th>\n",
       "      <td>14</td>\n",
       "    </tr>\n",
       "    <tr>\n",
       "      <th>2018-03-01 00:20:00</th>\n",
       "      <td>28</td>\n",
       "    </tr>\n",
       "    <tr>\n",
       "      <th>2018-03-01 00:30:00</th>\n",
       "      <td>20</td>\n",
       "    </tr>\n",
       "    <tr>\n",
       "      <th>2018-03-01 00:40:00</th>\n",
       "      <td>32</td>\n",
       "    </tr>\n",
       "  </tbody>\n",
       "</table>\n",
       "</div>"
      ],
      "text/plain": [
       "                     num_orders\n",
       "datetime                       \n",
       "2018-03-01 00:00:00           9\n",
       "2018-03-01 00:10:00          14\n",
       "2018-03-01 00:20:00          28\n",
       "2018-03-01 00:30:00          20\n",
       "2018-03-01 00:40:00          32"
      ]
     },
     "execution_count": 5,
     "metadata": {},
     "output_type": "execute_result"
    }
   ],
   "source": [
    "taxi_data = pd.read_csv('/datasets/taxi.csv', index_col=[0], parse_dates=[0])\n",
    "taxi_data.head()"
   ]
  },
  {
   "cell_type": "code",
   "execution_count": 6,
   "metadata": {},
   "outputs": [
    {
     "data": {
      "text/html": [
       "<div>\n",
       "<style scoped>\n",
       "    .dataframe tbody tr th:only-of-type {\n",
       "        vertical-align: middle;\n",
       "    }\n",
       "\n",
       "    .dataframe tbody tr th {\n",
       "        vertical-align: top;\n",
       "    }\n",
       "\n",
       "    .dataframe thead th {\n",
       "        text-align: right;\n",
       "    }\n",
       "</style>\n",
       "<table border=\"1\" class=\"dataframe\">\n",
       "  <thead>\n",
       "    <tr style=\"text-align: right;\">\n",
       "      <th></th>\n",
       "      <th>num_orders</th>\n",
       "    </tr>\n",
       "    <tr>\n",
       "      <th>datetime</th>\n",
       "      <th></th>\n",
       "    </tr>\n",
       "  </thead>\n",
       "  <tbody>\n",
       "    <tr>\n",
       "      <th>2018-03-01 00:00:00</th>\n",
       "      <td>124</td>\n",
       "    </tr>\n",
       "    <tr>\n",
       "      <th>2018-03-01 01:00:00</th>\n",
       "      <td>85</td>\n",
       "    </tr>\n",
       "    <tr>\n",
       "      <th>2018-03-01 02:00:00</th>\n",
       "      <td>71</td>\n",
       "    </tr>\n",
       "    <tr>\n",
       "      <th>2018-03-01 03:00:00</th>\n",
       "      <td>66</td>\n",
       "    </tr>\n",
       "    <tr>\n",
       "      <th>2018-03-01 04:00:00</th>\n",
       "      <td>43</td>\n",
       "    </tr>\n",
       "  </tbody>\n",
       "</table>\n",
       "</div>"
      ],
      "text/plain": [
       "                     num_orders\n",
       "datetime                       \n",
       "2018-03-01 00:00:00         124\n",
       "2018-03-01 01:00:00          85\n",
       "2018-03-01 02:00:00          71\n",
       "2018-03-01 03:00:00          66\n",
       "2018-03-01 04:00:00          43"
      ]
     },
     "execution_count": 6,
     "metadata": {},
     "output_type": "execute_result"
    }
   ],
   "source": [
    "taxi_data.sort_index(inplace=True)\n",
    "taxi_data = taxi_data.resample('1H').sum()\n",
    "taxi_data.head()"
   ]
  },
  {
   "cell_type": "code",
   "execution_count": 7,
   "metadata": {},
   "outputs": [
    {
     "name": "stdout",
     "output_type": "stream",
     "text": [
      "<class 'pandas.core.frame.DataFrame'>\n",
      "DatetimeIndex: 4416 entries, 2018-03-01 00:00:00 to 2018-08-31 23:00:00\n",
      "Freq: H\n",
      "Data columns (total 1 columns):\n",
      " #   Column      Non-Null Count  Dtype\n",
      "---  ------      --------------  -----\n",
      " 0   num_orders  4416 non-null   int64\n",
      "dtypes: int64(1)\n",
      "memory usage: 69.0 KB\n"
     ]
    }
   ],
   "source": [
    "taxi_data.info()"
   ]
  },
  {
   "cell_type": "markdown",
   "metadata": {},
   "source": [
    "## Анализ"
   ]
  },
  {
   "cell_type": "code",
   "execution_count": 8,
   "metadata": {},
   "outputs": [
    {
     "data": {
      "image/png": "[encoded data removed]",
      "text/plain": [
       "<Figure size 720x504 with 1 Axes>"
      ]
     },
     "metadata": {
      "needs_background": "light"
     },
     "output_type": "display_data"
    }
   ],
   "source": [
    "taxi_data.plot(figsize=(10,7));"
   ]
  },
  {
   "cell_type": "markdown",
   "metadata": {},
   "source": [
    "По графику построенному на всех данных сложно выявить закономерности. Посторим графики тренда и сезонности."
   ]
  },
  {
   "cell_type": "code",
   "execution_count": 9,
   "metadata": {},
   "outputs": [
    {
     "data": {
      "image/png": "[encoded data removed]",
      "text/plain": [
       "<Figure size 1080x504 with 1 Axes>"
      ]
     },
     "metadata": {
      "needs_background": "light"
     },
     "output_type": "display_data"
    }
   ],
   "source": [
    "decomposed = seasonal_decompose(taxi_data)\n",
    "decomposed.seasonal['2018-03-01 00:00:00':'2018-03-07 00:00:00'].plot(figsize=(15,7));"
   ]
  },
  {
   "cell_type": "markdown",
   "metadata": {},
   "source": [
    "Итак пографику сезонности видно, что есть пик по кол-ву заказов такси в полночь и в 16:00-17:00."
   ]
  },
  {
   "cell_type": "code",
   "execution_count": 10,
   "metadata": {},
   "outputs": [
    {
     "data": {
      "image/png": "[encoded data removed]",
      "text/plain": [
       "<Figure size 1080x504 with 1 Axes>"
      ]
     },
     "metadata": {
      "needs_background": "light"
     },
     "output_type": "display_data"
    }
   ],
   "source": [
    "decomposed.trend.plot(figsize=(15,7));"
   ]
  },
  {
   "cell_type": "markdown",
   "metadata": {},
   "source": [
    "График тренда показывает, что со временем кол-во заказов такси растет."
   ]
  },
  {
   "cell_type": "markdown",
   "metadata": {},
   "source": [
    "### Добавим признаки: месяц, день недели, день, час, отстающие значения и скользящее среднее"
   ]
  },
  {
   "cell_type": "code",
   "execution_count": 11,
   "metadata": {},
   "outputs": [],
   "source": [
    "def make_features(data, max_lag, rolling_mean_size):\n",
    "    data['month'] = data.index.month\n",
    "    data['day'] = data.index.day\n",
    "    data['dayofweek'] = data.index.dayofweek\n",
    "    data['hour'] = data.index.hour\n",
    "    \n",
    "    for lag in range(1, max_lag + 1):\n",
    "        data['lag_{}'.format(lag)] = data['num_orders'].shift(lag)\n",
    "        \n",
    "    data['rolling_mean'] = data['num_orders'].shift().rolling(rolling_mean_size).mean()\n",
    "    \n",
    "    return data"
   ]
  },
  {
   "cell_type": "code",
   "execution_count": 12,
   "metadata": {},
   "outputs": [
    {
     "data": {
      "text/html": [
       "<div>\n",
       "<style scoped>\n",
       "    .dataframe tbody tr th:only-of-type {\n",
       "        vertical-align: middle;\n",
       "    }\n",
       "\n",
       "    .dataframe tbody tr th {\n",
       "        vertical-align: top;\n",
       "    }\n",
       "\n",
       "    .dataframe thead th {\n",
       "        text-align: right;\n",
       "    }\n",
       "</style>\n",
       "<table border=\"1\" class=\"dataframe\">\n",
       "  <thead>\n",
       "    <tr style=\"text-align: right;\">\n",
       "      <th></th>\n",
       "      <th>num_orders</th>\n",
       "      <th>month</th>\n",
       "      <th>day</th>\n",
       "      <th>dayofweek</th>\n",
       "      <th>hour</th>\n",
       "      <th>lag_1</th>\n",
       "      <th>lag_2</th>\n",
       "      <th>lag_3</th>\n",
       "      <th>lag_4</th>\n",
       "      <th>lag_5</th>\n",
       "      <th>...</th>\n",
       "      <th>lag_16</th>\n",
       "      <th>lag_17</th>\n",
       "      <th>lag_18</th>\n",
       "      <th>lag_19</th>\n",
       "      <th>lag_20</th>\n",
       "      <th>lag_21</th>\n",
       "      <th>lag_22</th>\n",
       "      <th>lag_23</th>\n",
       "      <th>lag_24</th>\n",
       "      <th>rolling_mean</th>\n",
       "    </tr>\n",
       "    <tr>\n",
       "      <th>datetime</th>\n",
       "      <th></th>\n",
       "      <th></th>\n",
       "      <th></th>\n",
       "      <th></th>\n",
       "      <th></th>\n",
       "      <th></th>\n",
       "      <th></th>\n",
       "      <th></th>\n",
       "      <th></th>\n",
       "      <th></th>\n",
       "      <th></th>\n",
       "      <th></th>\n",
       "      <th></th>\n",
       "      <th></th>\n",
       "      <th></th>\n",
       "      <th></th>\n",
       "      <th></th>\n",
       "      <th></th>\n",
       "      <th></th>\n",
       "      <th></th>\n",
       "      <th></th>\n",
       "    </tr>\n",
       "  </thead>\n",
       "  <tbody>\n",
       "    <tr>\n",
       "      <th>2018-03-01 00:00:00</th>\n",
       "      <td>124</td>\n",
       "      <td>3</td>\n",
       "      <td>1</td>\n",
       "      <td>3</td>\n",
       "      <td>0</td>\n",
       "      <td>NaN</td>\n",
       "      <td>NaN</td>\n",
       "      <td>NaN</td>\n",
       "      <td>NaN</td>\n",
       "      <td>NaN</td>\n",
       "      <td>...</td>\n",
       "      <td>NaN</td>\n",
       "      <td>NaN</td>\n",
       "      <td>NaN</td>\n",
       "      <td>NaN</td>\n",
       "      <td>NaN</td>\n",
       "      <td>NaN</td>\n",
       "      <td>NaN</td>\n",
       "      <td>NaN</td>\n",
       "      <td>NaN</td>\n",
       "      <td>NaN</td>\n",
       "    </tr>\n",
       "    <tr>\n",
       "      <th>2018-03-01 01:00:00</th>\n",
       "      <td>85</td>\n",
       "      <td>3</td>\n",
       "      <td>1</td>\n",
       "      <td>3</td>\n",
       "      <td>1</td>\n",
       "      <td>124.0</td>\n",
       "      <td>NaN</td>\n",
       "      <td>NaN</td>\n",
       "      <td>NaN</td>\n",
       "      <td>NaN</td>\n",
       "      <td>...</td>\n",
       "      <td>NaN</td>\n",
       "      <td>NaN</td>\n",
       "      <td>NaN</td>\n",
       "      <td>NaN</td>\n",
       "      <td>NaN</td>\n",
       "      <td>NaN</td>\n",
       "      <td>NaN</td>\n",
       "      <td>NaN</td>\n",
       "      <td>NaN</td>\n",
       "      <td>NaN</td>\n",
       "    </tr>\n",
       "    <tr>\n",
       "      <th>2018-03-01 02:00:00</th>\n",
       "      <td>71</td>\n",
       "      <td>3</td>\n",
       "      <td>1</td>\n",
       "      <td>3</td>\n",
       "      <td>2</td>\n",
       "      <td>85.0</td>\n",
       "      <td>124.0</td>\n",
       "      <td>NaN</td>\n",
       "      <td>NaN</td>\n",
       "      <td>NaN</td>\n",
       "      <td>...</td>\n",
       "      <td>NaN</td>\n",
       "      <td>NaN</td>\n",
       "      <td>NaN</td>\n",
       "      <td>NaN</td>\n",
       "      <td>NaN</td>\n",
       "      <td>NaN</td>\n",
       "      <td>NaN</td>\n",
       "      <td>NaN</td>\n",
       "      <td>NaN</td>\n",
       "      <td>NaN</td>\n",
       "    </tr>\n",
       "    <tr>\n",
       "      <th>2018-03-01 03:00:00</th>\n",
       "      <td>66</td>\n",
       "      <td>3</td>\n",
       "      <td>1</td>\n",
       "      <td>3</td>\n",
       "      <td>3</td>\n",
       "      <td>71.0</td>\n",
       "      <td>85.0</td>\n",
       "      <td>124.0</td>\n",
       "      <td>NaN</td>\n",
       "      <td>NaN</td>\n",
       "      <td>...</td>\n",
       "      <td>NaN</td>\n",
       "      <td>NaN</td>\n",
       "      <td>NaN</td>\n",
       "      <td>NaN</td>\n",
       "      <td>NaN</td>\n",
       "      <td>NaN</td>\n",
       "      <td>NaN</td>\n",
       "      <td>NaN</td>\n",
       "      <td>NaN</td>\n",
       "      <td>NaN</td>\n",
       "    </tr>\n",
       "    <tr>\n",
       "      <th>2018-03-01 04:00:00</th>\n",
       "      <td>43</td>\n",
       "      <td>3</td>\n",
       "      <td>1</td>\n",
       "      <td>3</td>\n",
       "      <td>4</td>\n",
       "      <td>66.0</td>\n",
       "      <td>71.0</td>\n",
       "      <td>85.0</td>\n",
       "      <td>124.0</td>\n",
       "      <td>NaN</td>\n",
       "      <td>...</td>\n",
       "      <td>NaN</td>\n",
       "      <td>NaN</td>\n",
       "      <td>NaN</td>\n",
       "      <td>NaN</td>\n",
       "      <td>NaN</td>\n",
       "      <td>NaN</td>\n",
       "      <td>NaN</td>\n",
       "      <td>NaN</td>\n",
       "      <td>NaN</td>\n",
       "      <td>NaN</td>\n",
       "    </tr>\n",
       "  </tbody>\n",
       "</table>\n",
       "<p>5 rows × 30 columns</p>\n",
       "</div>"
      ],
      "text/plain": [
       "                     num_orders  month  day  dayofweek  hour  lag_1  lag_2  \\\n",
       "datetime                                                                     \n",
       "2018-03-01 00:00:00         124      3    1          3     0    NaN    NaN   \n",
       "2018-03-01 01:00:00          85      3    1          3     1  124.0    NaN   \n",
       "2018-03-01 02:00:00          71      3    1          3     2   85.0  124.0   \n",
       "2018-03-01 03:00:00          66      3    1          3     3   71.0   85.0   \n",
       "2018-03-01 04:00:00          43      3    1          3     4   66.0   71.0   \n",
       "\n",
       "                     lag_3  lag_4  lag_5  ...  lag_16  lag_17  lag_18  lag_19  \\\n",
       "datetime                                  ...                                   \n",
       "2018-03-01 00:00:00    NaN    NaN    NaN  ...     NaN     NaN     NaN     NaN   \n",
       "2018-03-01 01:00:00    NaN    NaN    NaN  ...     NaN     NaN     NaN     NaN   \n",
       "2018-03-01 02:00:00    NaN    NaN    NaN  ...     NaN     NaN     NaN     NaN   \n",
       "2018-03-01 03:00:00  124.0    NaN    NaN  ...     NaN     NaN     NaN     NaN   \n",
       "2018-03-01 04:00:00   85.0  124.0    NaN  ...     NaN     NaN     NaN     NaN   \n",
       "\n",
       "                     lag_20  lag_21  lag_22  lag_23  lag_24  rolling_mean  \n",
       "datetime                                                                   \n",
       "2018-03-01 00:00:00     NaN     NaN     NaN     NaN     NaN           NaN  \n",
       "2018-03-01 01:00:00     NaN     NaN     NaN     NaN     NaN           NaN  \n",
       "2018-03-01 02:00:00     NaN     NaN     NaN     NaN     NaN           NaN  \n",
       "2018-03-01 03:00:00     NaN     NaN     NaN     NaN     NaN           NaN  \n",
       "2018-03-01 04:00:00     NaN     NaN     NaN     NaN     NaN           NaN  \n",
       "\n",
       "[5 rows x 30 columns]"
      ]
     },
     "execution_count": 12,
     "metadata": {},
     "output_type": "execute_result"
    }
   ],
   "source": [
    "make_features(taxi_data, 24, 24)\n",
    "taxi_data.head()"
   ]
  },
  {
   "cell_type": "markdown",
   "metadata": {},
   "source": [
    "## Обучение"
   ]
  },
  {
   "cell_type": "code",
   "execution_count": 13,
   "metadata": {},
   "outputs": [],
   "source": [
    "train, ost = train_test_split(taxi_data, shuffle=False, test_size=0.2)\n",
    "train = train.dropna()\n",
    "valid, test = train_test_split(ost, shuffle=False, test_size=0.5)\n",
    "\n",
    "features_train = train.drop('num_orders', axis=1)\n",
    "target_train = train['num_orders']\n",
    "features_test = test.drop('num_orders', axis=1)\n",
    "target_test = test['num_orders']\n",
    "features_valid = valid.drop('num_orders', axis=1)\n",
    "target_valid = valid['num_orders']"
   ]
  },
  {
   "cell_type": "markdown",
   "metadata": {},
   "source": [
    "### Построим модель линейной регрессии"
   ]
  },
  {
   "cell_type": "code",
   "execution_count": 14,
   "metadata": {},
   "outputs": [
    {
     "data": {
      "text/plain": [
       "34.15452226495236"
      ]
     },
     "execution_count": 14,
     "metadata": {},
     "output_type": "execute_result"
    }
   ],
   "source": [
    "linear_model = LinearRegression().fit(features_train, target_train)\n",
    "linear_predict = linear_model.predict(features_valid)\n",
    "mean_squared_error(target_valid, linear_predict) ** 0.5"
   ]
  },
  {
   "cell_type": "markdown",
   "metadata": {},
   "source": [
    "### Построим модель дерева решений"
   ]
  },
  {
   "cell_type": "code",
   "execution_count": 15,
   "metadata": {},
   "outputs": [
    {
     "name": "stdout",
     "output_type": "stream",
     "text": [
      "depth: None rmse: 44.05898966312944\n",
      "depth: 2 rmse: 45.43095291282149\n",
      "depth: 3 rmse: 43.436300598620576\n",
      "depth: 4 rmse: 41.26138784749863\n",
      "depth: 5 rmse: 38.409271134535\n",
      "depth: 6 rmse: 37.22642327018365\n",
      "\n",
      "depth: 6 rmse: 37.22642327018365\n"
     ]
    }
   ],
   "source": [
    "best_tree_model = DecisionTreeRegressor(random_state=12345, max_depth=1)\n",
    "best_depth1 = 0\n",
    "best_rmse1 = 100\n",
    "\n",
    "i_depth = [None] + [i for i in range(2, 7)]\n",
    "\n",
    "for i in i_depth:\n",
    "    \n",
    "    tree_model = DecisionTreeRegressor(random_state=12345, max_depth=i).fit(features_train, target_train)\n",
    "    tree_predict = tree_model.predict(features_valid)\n",
    "    rmse = mean_squared_error(target_valid, tree_predict) ** 0.5\n",
    "    print('depth:', i, 'rmse:', rmse)\n",
    "    \n",
    "    if rmse < best_rmse1:\n",
    "        best_tree_model = tree_model\n",
    "        best_depth1 = i\n",
    "        best_rmse1 = rmse\n",
    "\n",
    "print()\n",
    "print('depth:', best_depth1, 'rmse:', best_rmse1)"
   ]
  },
  {
   "cell_type": "markdown",
   "metadata": {},
   "source": [
    "### построим модель случайного леса"
   ]
  },
  {
   "cell_type": "code",
   "execution_count": 16,
   "metadata": {},
   "outputs": [
    {
     "name": "stdout",
     "output_type": "stream",
     "text": [
      "est: 100 depth: None rmse: 31.953764413304974\n",
      "est: 100 depth: 2 rmse: 44.543317350454025\n",
      "est: 100 depth: 3 rmse: 42.33694255853554\n",
      "est: 100 depth: 4 rmse: 39.59433116364446\n",
      "est: 100 depth: 5 rmse: 37.32795996693212\n",
      "est: 100 depth: 6 rmse: 35.41288360765323\n",
      "est: 150 depth: None rmse: 32.02972608753993\n",
      "est: 150 depth: 2 rmse: 44.43789478069827\n",
      "est: 150 depth: 3 rmse: 42.35686529867893\n",
      "est: 150 depth: 4 rmse: 39.59180816664569\n",
      "est: 150 depth: 5 rmse: 37.28947334333391\n",
      "est: 150 depth: 6 rmse: 35.51153339175364\n",
      "\n",
      "est: 100 depth: None rmse: 31.953764413304974\n"
     ]
    }
   ],
   "source": [
    "best_forest_model = RandomForestRegressor(random_state=12345, n_estimators=1, max_depth=1)\n",
    "best_est = 0\n",
    "best_depth2 = 0\n",
    "best_rmse2 = 100\n",
    "\n",
    "for est in range(100, 151, 50):\n",
    "    for depth in i_depth:\n",
    "        forest_model = RandomForestRegressor(random_state=12345, n_estimators=est, max_depth=depth).fit(features_train, target_train)\n",
    "        forest_predict = forest_model.predict(features_valid)\n",
    "        rmse = mean_squared_error(target_valid, forest_predict) ** 0.5\n",
    "        print('est:', est, 'depth:', depth, 'rmse:', rmse)\n",
    "        if rmse < best_rmse2:\n",
    "            best_forest_model = forest_model\n",
    "            best_est = est\n",
    "            best_depth2 = depth\n",
    "            best_rmse2 = rmse\n",
    "        \n",
    "print()\n",
    "print('est:', best_est, 'depth:', best_depth2, 'rmse:', best_rmse2)"
   ]
  },
  {
   "cell_type": "markdown",
   "metadata": {},
   "source": [
    "### константная модель"
   ]
  },
  {
   "cell_type": "code",
   "execution_count": 17,
   "metadata": {},
   "outputs": [
    {
     "data": {
      "text/plain": [
       "87.57804156155322"
      ]
     },
     "execution_count": 17,
     "metadata": {},
     "output_type": "execute_result"
    }
   ],
   "source": [
    "dummy_model = DummyRegressor(strategy=\"mean\").fit(features_train, target_train)\n",
    "dummy_predict = dummy_model.predict(features_test)\n",
    "mean_squared_error(target_test, dummy_predict) ** 0.5"
   ]
  },
  {
   "cell_type": "markdown",
   "metadata": {},
   "source": [
    "Выберем модель линейной регрессии."
   ]
  },
  {
   "cell_type": "markdown",
   "metadata": {},
   "source": [
    "## Тестирование"
   ]
  },
  {
   "cell_type": "code",
   "execution_count": 18,
   "metadata": {},
   "outputs": [
    {
     "data": {
      "text/plain": [
       "46.47889291054053"
      ]
     },
     "execution_count": 18,
     "metadata": {},
     "output_type": "execute_result"
    }
   ],
   "source": [
    "predict = linear_model.predict(features_test)\n",
    "mean_squared_error(target_test, predict) ** 0.5"
   ]
  },
  {
   "cell_type": "markdown",
   "metadata": {},
   "source": [
    "## Выводы"
   ]
  },
  {
   "cell_type": "markdown",
   "metadata": {},
   "source": [
    "В ходе исследования была проделана следующая работа:\n",
    "\n",
    "- данные были проверены на наличие пропусков, их не было обнаружено;\n",
    "- дубликаты не обнаружены;\n",
    "- выполнено ресемплирование данных по 1 часу;\n",
    "- проведен анализ данных. По графику сезонности видно, что есть пик по кол-ву заказов такси в полночь и в 16:00-17:00. График тренда показывает, что со временем кол-во заказов такси растет;\n",
    "- для прогноза были построены следующие модели: модель линейной регрессии, rmse - 34.1, модель дерева решений - 37.2, модель случайного леса - 32. Мы выбрали модель линейной регрессии. При тестировании она показала rmse - 46.5.\n",
    "- Также была проверена константная модель, она показала rmse 87.5."
   ]
  }
 ],
 "metadata": {
  "ExecuteTimeLog": [
   {
    "duration": 413,
    "start_time": "2023-07-25T09:38:58.837Z"
   },
   {
    "duration": 161,
    "start_time": "2023-07-25T09:42:55.836Z"
   },
   {
    "duration": 15,
    "start_time": "2023-07-25T09:43:12.184Z"
   },
   {
    "duration": 81,
    "start_time": "2023-07-25T09:44:52.821Z"
   },
   {
    "duration": 10,
    "start_time": "2023-07-25T09:45:46.961Z"
   },
   {
    "duration": 13,
    "start_time": "2023-07-25T09:45:53.666Z"
   },
   {
    "duration": 10,
    "start_time": "2023-07-25T09:48:37.450Z"
   },
   {
    "duration": 12,
    "start_time": "2023-07-25T09:49:08.191Z"
   },
   {
    "duration": 9,
    "start_time": "2023-07-25T09:49:24.990Z"
   },
   {
    "duration": 12,
    "start_time": "2023-07-25T09:50:10.019Z"
   },
   {
    "duration": 106,
    "start_time": "2023-07-25T09:50:50.655Z"
   },
   {
    "duration": 61,
    "start_time": "2023-07-25T09:50:57.723Z"
   },
   {
    "duration": 11,
    "start_time": "2023-07-25T09:51:08.179Z"
   },
   {
    "duration": 684,
    "start_time": "2023-07-25T09:52:38.241Z"
   },
   {
    "duration": 11,
    "start_time": "2023-07-25T09:53:23.648Z"
   },
   {
    "duration": 14,
    "start_time": "2023-07-25T09:54:33.965Z"
   },
   {
    "duration": 12,
    "start_time": "2023-07-25T09:54:45.157Z"
   },
   {
    "duration": 273,
    "start_time": "2023-07-25T09:56:26.550Z"
   },
   {
    "duration": 331,
    "start_time": "2023-07-25T09:56:34.255Z"
   },
   {
    "duration": 265,
    "start_time": "2023-07-25T09:56:47.553Z"
   },
   {
    "duration": 320,
    "start_time": "2023-07-25T09:58:09.905Z"
   },
   {
    "duration": 3,
    "start_time": "2023-07-25T10:02:59.413Z"
   },
   {
    "duration": 318,
    "start_time": "2023-07-25T10:03:44.505Z"
   },
   {
    "duration": 531,
    "start_time": "2023-07-25T10:04:09.827Z"
   },
   {
    "duration": 53,
    "start_time": "2023-07-25T10:04:49.895Z"
   },
   {
    "duration": 113,
    "start_time": "2023-07-25T10:04:57.359Z"
   },
   {
    "duration": 13,
    "start_time": "2023-07-25T10:05:00.875Z"
   },
   {
    "duration": 112,
    "start_time": "2023-07-25T10:05:38.183Z"
   },
   {
    "duration": 11,
    "start_time": "2023-07-25T10:05:46.322Z"
   },
   {
    "duration": 10,
    "start_time": "2023-07-25T10:08:11.303Z"
   },
   {
    "duration": 11,
    "start_time": "2023-07-25T10:09:48.036Z"
   },
   {
    "duration": 1326,
    "start_time": "2023-07-25T10:10:02.567Z"
   },
   {
    "duration": 60,
    "start_time": "2023-07-25T10:10:03.896Z"
   },
   {
    "duration": 17,
    "start_time": "2023-07-25T10:10:03.959Z"
   },
   {
    "duration": 18,
    "start_time": "2023-07-25T10:10:03.979Z"
   },
   {
    "duration": 51,
    "start_time": "2023-07-25T10:10:04.000Z"
   },
   {
    "duration": 25,
    "start_time": "2023-07-25T10:10:04.053Z"
   },
   {
    "duration": 15,
    "start_time": "2023-07-25T10:10:04.080Z"
   },
   {
    "duration": 384,
    "start_time": "2023-07-25T10:10:04.097Z"
   },
   {
    "duration": 114,
    "start_time": "2023-07-25T10:10:08.979Z"
   },
   {
    "duration": 12,
    "start_time": "2023-07-25T10:14:32.303Z"
   },
   {
    "duration": 12,
    "start_time": "2023-07-25T10:15:16.133Z"
   },
   {
    "duration": 23,
    "start_time": "2023-07-25T10:16:07.729Z"
   },
   {
    "duration": 9,
    "start_time": "2023-07-25T10:16:31.065Z"
   },
   {
    "duration": 3,
    "start_time": "2023-07-25T10:16:58.359Z"
   },
   {
    "duration": 54,
    "start_time": "2023-07-25T10:16:58.364Z"
   },
   {
    "duration": 12,
    "start_time": "2023-07-25T10:16:58.420Z"
   },
   {
    "duration": 26,
    "start_time": "2023-07-25T10:16:58.434Z"
   },
   {
    "duration": 38,
    "start_time": "2023-07-25T10:16:58.462Z"
   },
   {
    "duration": 12,
    "start_time": "2023-07-25T10:16:58.503Z"
   },
   {
    "duration": 34,
    "start_time": "2023-07-25T10:16:58.517Z"
   },
   {
    "duration": 310,
    "start_time": "2023-07-25T10:17:02.341Z"
   },
   {
    "duration": 6,
    "start_time": "2023-07-25T10:17:06.339Z"
   },
   {
    "duration": 1034,
    "start_time": "2023-07-25T10:17:10.754Z"
   },
   {
    "duration": 338,
    "start_time": "2023-07-25T10:17:50.562Z"
   },
   {
    "duration": 15,
    "start_time": "2023-07-25T10:18:05.482Z"
   },
   {
    "duration": 281,
    "start_time": "2023-07-25T10:18:10.525Z"
   },
   {
    "duration": 331,
    "start_time": "2023-07-25T10:18:38.842Z"
   },
   {
    "duration": 15,
    "start_time": "2023-07-25T10:21:31.238Z"
   },
   {
    "duration": 932,
    "start_time": "2023-07-25T10:21:38.294Z"
   },
   {
    "duration": 307,
    "start_time": "2023-07-25T10:22:38.449Z"
   },
   {
    "duration": 191,
    "start_time": "2023-07-25T10:23:22.341Z"
   },
   {
    "duration": 1990,
    "start_time": "2023-07-25T10:23:45.603Z"
   },
   {
    "duration": 209,
    "start_time": "2023-07-25T10:23:58.989Z"
   },
   {
    "duration": 292,
    "start_time": "2023-07-25T10:25:12.342Z"
   },
   {
    "duration": 231,
    "start_time": "2023-07-25T10:27:16.844Z"
   },
   {
    "duration": 12,
    "start_time": "2023-07-25T10:28:36.838Z"
   },
   {
    "duration": 174,
    "start_time": "2023-07-25T10:28:47.088Z"
   },
   {
    "duration": 268,
    "start_time": "2023-07-25T10:29:01.154Z"
   },
   {
    "duration": 2099,
    "start_time": "2023-07-25T10:29:14.482Z"
   },
   {
    "duration": 359,
    "start_time": "2023-07-25T10:29:18.875Z"
   },
   {
    "duration": 256,
    "start_time": "2023-07-25T10:29:26.046Z"
   },
   {
    "duration": 6,
    "start_time": "2023-07-25T10:34:23.926Z"
   },
   {
    "duration": 22,
    "start_time": "2023-07-25T10:34:46.938Z"
   },
   {
    "duration": 11,
    "start_time": "2023-07-25T10:54:52.480Z"
   },
   {
    "duration": 421,
    "start_time": "2023-07-25T10:55:06.753Z"
   },
   {
    "duration": 12,
    "start_time": "2023-07-25T10:55:13.679Z"
   },
   {
    "duration": 13,
    "start_time": "2023-07-25T11:01:39.665Z"
   },
   {
    "duration": 4,
    "start_time": "2023-07-25T11:02:24.362Z"
   },
   {
    "duration": 29,
    "start_time": "2023-07-25T11:02:30.667Z"
   },
   {
    "duration": 12,
    "start_time": "2023-07-25T11:06:58.075Z"
   },
   {
    "duration": 142,
    "start_time": "2023-07-25T11:10:36.562Z"
   },
   {
    "duration": 28,
    "start_time": "2023-07-25T11:10:40.309Z"
   },
   {
    "duration": 83,
    "start_time": "2023-07-25T11:11:01.583Z"
   },
   {
    "duration": 80,
    "start_time": "2023-07-25T11:13:05.279Z"
   },
   {
    "duration": 82,
    "start_time": "2023-07-25T11:13:14.784Z"
   },
   {
    "duration": 10751,
    "start_time": "2023-07-25T11:15:41.908Z"
   },
   {
    "duration": 10695,
    "start_time": "2023-07-25T11:16:59.305Z"
   },
   {
    "duration": 35,
    "start_time": "2023-07-25T11:18:58.098Z"
   },
   {
    "duration": 35,
    "start_time": "2023-07-25T11:24:44.263Z"
   },
   {
    "duration": 329,
    "start_time": "2023-07-25T11:25:02.706Z"
   },
   {
    "duration": 4,
    "start_time": "2023-07-25T11:25:07.951Z"
   },
   {
    "duration": 6,
    "start_time": "2023-07-25T11:25:14.439Z"
   },
   {
    "duration": 1912,
    "start_time": "2023-07-25T11:29:22.260Z"
   },
   {
    "duration": 86,
    "start_time": "2023-07-25T11:29:24.175Z"
   },
   {
    "duration": 20,
    "start_time": "2023-07-25T11:29:24.264Z"
   },
   {
    "duration": 25,
    "start_time": "2023-07-25T11:29:24.287Z"
   },
   {
    "duration": 74,
    "start_time": "2023-07-25T11:29:24.316Z"
   },
   {
    "duration": 23,
    "start_time": "2023-07-25T11:29:24.393Z"
   },
   {
    "duration": 73,
    "start_time": "2023-07-25T11:29:24.419Z"
   },
   {
    "duration": 379,
    "start_time": "2023-07-25T11:29:24.494Z"
   },
   {
    "duration": 230,
    "start_time": "2023-07-25T11:29:24.876Z"
   },
   {
    "duration": 428,
    "start_time": "2023-07-25T11:29:25.109Z"
   },
   {
    "duration": 6,
    "start_time": "2023-07-25T11:29:25.539Z"
   },
   {
    "duration": 40,
    "start_time": "2023-07-25T11:29:25.547Z"
   },
   {
    "duration": 14,
    "start_time": "2023-07-25T11:29:25.590Z"
   },
   {
    "duration": 35,
    "start_time": "2023-07-25T11:29:25.606Z"
   },
   {
    "duration": 161,
    "start_time": "2023-07-25T11:29:25.644Z"
   },
   {
    "duration": 128,
    "start_time": "2023-07-25T11:29:25.808Z"
   },
   {
    "duration": 0,
    "start_time": "2023-07-25T11:29:25.939Z"
   },
   {
    "duration": 10926,
    "start_time": "2023-07-25T11:29:39.464Z"
   },
   {
    "duration": 15,
    "start_time": "2023-07-25T11:29:50.394Z"
   },
   {
    "duration": 68,
    "start_time": "2023-07-25T11:29:50.413Z"
   },
   {
    "duration": 5,
    "start_time": "2023-07-25T12:12:54.232Z"
   },
   {
    "duration": 1694,
    "start_time": "2023-07-25T12:13:07.308Z"
   },
   {
    "duration": 56,
    "start_time": "2023-07-25T12:13:09.009Z"
   },
   {
    "duration": 25,
    "start_time": "2023-07-25T12:13:09.066Z"
   },
   {
    "duration": 20,
    "start_time": "2023-07-25T12:13:09.093Z"
   },
   {
    "duration": 35,
    "start_time": "2023-07-25T12:13:09.117Z"
   },
   {
    "duration": 47,
    "start_time": "2023-07-25T12:13:09.154Z"
   },
   {
    "duration": 15,
    "start_time": "2023-07-25T12:13:09.203Z"
   },
   {
    "duration": 342,
    "start_time": "2023-07-25T12:13:09.220Z"
   },
   {
    "duration": 254,
    "start_time": "2023-07-25T12:13:09.566Z"
   },
   {
    "duration": 423,
    "start_time": "2023-07-25T12:13:09.822Z"
   },
   {
    "duration": 5,
    "start_time": "2023-07-25T12:13:10.247Z"
   },
   {
    "duration": 50,
    "start_time": "2023-07-25T12:13:10.254Z"
   },
   {
    "duration": 16,
    "start_time": "2023-07-25T12:13:10.305Z"
   },
   {
    "duration": 12,
    "start_time": "2023-07-25T12:13:23.730Z"
   },
   {
    "duration": 102,
    "start_time": "2023-07-25T12:13:36.036Z"
   },
   {
    "duration": 10889,
    "start_time": "2023-07-25T12:13:47.923Z"
   },
   {
    "duration": 7,
    "start_time": "2023-07-25T12:14:04.043Z"
   },
   {
    "duration": 25,
    "start_time": "2023-07-25T12:14:11.434Z"
   },
   {
    "duration": 4,
    "start_time": "2023-07-25T12:15:05.152Z"
   },
   {
    "duration": 104,
    "start_time": "2023-07-25T12:15:05.158Z"
   },
   {
    "duration": 15,
    "start_time": "2023-07-25T12:15:05.264Z"
   },
   {
    "duration": 15,
    "start_time": "2023-07-25T12:15:05.282Z"
   },
   {
    "duration": 47,
    "start_time": "2023-07-25T12:15:05.299Z"
   },
   {
    "duration": 31,
    "start_time": "2023-07-25T12:15:05.348Z"
   },
   {
    "duration": 34,
    "start_time": "2023-07-25T12:15:05.381Z"
   },
   {
    "duration": 300,
    "start_time": "2023-07-25T12:15:05.420Z"
   },
   {
    "duration": 218,
    "start_time": "2023-07-25T12:15:05.722Z"
   },
   {
    "duration": 310,
    "start_time": "2023-07-25T12:15:05.942Z"
   },
   {
    "duration": 4,
    "start_time": "2023-07-25T12:15:06.254Z"
   },
   {
    "duration": 50,
    "start_time": "2023-07-25T12:15:09.609Z"
   },
   {
    "duration": 20,
    "start_time": "2023-07-25T12:15:14.000Z"
   },
   {
    "duration": 289,
    "start_time": "2023-07-25T12:15:16.583Z"
   },
   {
    "duration": 254,
    "start_time": "2023-07-25T12:15:18.962Z"
   },
   {
    "duration": 34210,
    "start_time": "2023-07-25T12:15:23.446Z"
   },
   {
    "duration": 6,
    "start_time": "2023-07-25T12:16:04.359Z"
   },
   {
    "duration": 48,
    "start_time": "2023-07-25T12:16:06.895Z"
   },
   {
    "duration": 1819,
    "start_time": "2023-07-25T12:16:35.490Z"
   },
   {
    "duration": 66,
    "start_time": "2023-07-25T12:16:37.319Z"
   },
   {
    "duration": 109,
    "start_time": "2023-07-25T12:16:37.387Z"
   },
   {
    "duration": 19,
    "start_time": "2023-07-25T12:16:37.498Z"
   },
   {
    "duration": 31,
    "start_time": "2023-07-25T12:16:37.520Z"
   },
   {
    "duration": 44,
    "start_time": "2023-07-25T12:16:37.553Z"
   },
   {
    "duration": 21,
    "start_time": "2023-07-25T12:16:37.599Z"
   },
   {
    "duration": 401,
    "start_time": "2023-07-25T12:16:37.622Z"
   },
   {
    "duration": 228,
    "start_time": "2023-07-25T12:16:38.025Z"
   },
   {
    "duration": 462,
    "start_time": "2023-07-25T12:16:38.255Z"
   },
   {
    "duration": 6,
    "start_time": "2023-07-25T12:16:38.719Z"
   },
   {
    "duration": 74,
    "start_time": "2023-07-25T12:16:41.160Z"
   },
   {
    "duration": 14,
    "start_time": "2023-07-25T12:16:43.849Z"
   },
   {
    "duration": 185,
    "start_time": "2023-07-25T12:16:45.898Z"
   },
   {
    "duration": 264,
    "start_time": "2023-07-25T12:16:48.352Z"
   },
   {
    "duration": 34747,
    "start_time": "2023-07-25T12:16:51.312Z"
   },
   {
    "duration": 30,
    "start_time": "2023-07-25T12:17:26.061Z"
   },
   {
    "duration": 16,
    "start_time": "2023-07-25T12:17:30.464Z"
   },
   {
    "duration": 44,
    "start_time": "2023-07-25T12:17:32.856Z"
   },
   {
    "duration": 15,
    "start_time": "2023-07-25T12:17:51.247Z"
   },
   {
    "duration": 1929,
    "start_time": "2023-07-25T12:18:36.149Z"
   },
   {
    "duration": 69,
    "start_time": "2023-07-25T12:18:38.085Z"
   },
   {
    "duration": 21,
    "start_time": "2023-07-25T12:18:38.156Z"
   },
   {
    "duration": 23,
    "start_time": "2023-07-25T12:18:38.182Z"
   },
   {
    "duration": 33,
    "start_time": "2023-07-25T12:18:38.223Z"
   },
   {
    "duration": 14,
    "start_time": "2023-07-25T12:18:38.258Z"
   },
   {
    "duration": 25,
    "start_time": "2023-07-25T12:18:38.273Z"
   },
   {
    "duration": 339,
    "start_time": "2023-07-25T12:18:38.300Z"
   },
   {
    "duration": 240,
    "start_time": "2023-07-25T12:18:38.640Z"
   },
   {
    "duration": 443,
    "start_time": "2023-07-25T12:18:38.884Z"
   },
   {
    "duration": 4,
    "start_time": "2023-07-25T12:18:39.329Z"
   },
   {
    "duration": 96,
    "start_time": "2023-07-25T12:18:39.335Z"
   },
   {
    "duration": 12,
    "start_time": "2023-07-25T12:18:39.433Z"
   },
   {
    "duration": 147,
    "start_time": "2023-07-25T12:18:39.447Z"
   },
   {
    "duration": 253,
    "start_time": "2023-07-25T12:18:39.600Z"
   },
   {
    "duration": 34008,
    "start_time": "2023-07-25T12:18:39.854Z"
   },
   {
    "duration": 5,
    "start_time": "2023-07-25T12:19:13.867Z"
   },
   {
    "duration": 12,
    "start_time": "2023-07-25T12:19:13.875Z"
   },
   {
    "duration": 1580,
    "start_time": "2024-05-27T11:16:05.172Z"
   },
   {
    "duration": 164,
    "start_time": "2024-05-27T11:16:17.197Z"
   },
   {
    "duration": 15,
    "start_time": "2024-05-27T11:16:18.679Z"
   },
   {
    "duration": 13,
    "start_time": "2024-05-27T11:16:22.965Z"
   },
   {
    "duration": 50,
    "start_time": "2024-05-27T11:16:28.357Z"
   },
   {
    "duration": 16,
    "start_time": "2024-05-27T11:16:30.381Z"
   },
   {
    "duration": 11,
    "start_time": "2024-05-27T11:16:33.598Z"
   },
   {
    "duration": 253,
    "start_time": "2024-05-27T11:16:40.933Z"
   },
   {
    "duration": 169,
    "start_time": "2024-05-27T11:18:55.496Z"
   },
   {
    "duration": 174,
    "start_time": "2024-05-27T11:19:37.433Z"
   },
   {
    "duration": 320,
    "start_time": "2024-05-27T11:19:42.521Z"
   },
   {
    "duration": 3,
    "start_time": "2024-05-27T11:19:55.801Z"
   },
   {
    "duration": 40,
    "start_time": "2024-05-27T11:20:03.786Z"
   },
   {
    "duration": 11,
    "start_time": "2024-05-27T11:20:39.754Z"
   },
   {
    "duration": 201,
    "start_time": "2024-05-27T11:20:45.371Z"
   },
   {
    "duration": 209,
    "start_time": "2024-05-27T11:20:50.650Z"
   },
   {
    "duration": 30176,
    "start_time": "2024-05-27T11:20:59.523Z"
   },
   {
    "duration": 6,
    "start_time": "2024-05-27T11:21:45.475Z"
   },
   {
    "duration": 10,
    "start_time": "2024-05-27T11:22:11.620Z"
   },
   {
    "duration": 1371,
    "start_time": "2024-05-27T11:22:54.035Z"
   },
   {
    "duration": 57,
    "start_time": "2024-05-27T11:22:55.408Z"
   },
   {
    "duration": 12,
    "start_time": "2024-05-27T11:22:55.466Z"
   },
   {
    "duration": 17,
    "start_time": "2024-05-27T11:22:55.479Z"
   },
   {
    "duration": 28,
    "start_time": "2024-05-27T11:22:55.498Z"
   },
   {
    "duration": 12,
    "start_time": "2024-05-27T11:22:55.528Z"
   },
   {
    "duration": 32,
    "start_time": "2024-05-27T11:22:55.541Z"
   },
   {
    "duration": 255,
    "start_time": "2024-05-27T11:22:55.574Z"
   },
   {
    "duration": 172,
    "start_time": "2024-05-27T11:22:55.831Z"
   },
   {
    "duration": 328,
    "start_time": "2024-05-27T11:22:56.005Z"
   },
   {
    "duration": 4,
    "start_time": "2024-05-27T11:22:56.335Z"
   },
   {
    "duration": 49,
    "start_time": "2024-05-27T11:22:56.340Z"
   },
   {
    "duration": 13,
    "start_time": "2024-05-27T11:22:56.391Z"
   },
   {
    "duration": 164,
    "start_time": "2024-05-27T11:22:56.407Z"
   },
   {
    "duration": 218,
    "start_time": "2024-05-27T11:22:56.572Z"
   },
   {
    "duration": 30102,
    "start_time": "2024-05-27T11:22:56.791Z"
   },
   {
    "duration": 6,
    "start_time": "2024-05-27T11:23:26.894Z"
   },
   {
    "duration": 13,
    "start_time": "2024-05-27T11:23:26.901Z"
   }
  ],
  "kernelspec": {
   "display_name": "Python 3 (ipykernel)",
   "language": "python",
   "name": "python3"
  },
  "language_info": {
   "codemirror_mode": {
    "name": "ipython",
    "version": 3
   },
   "file_extension": ".py",
   "mimetype": "text/x-python",
   "name": "python",
   "nbconvert_exporter": "python",
   "pygments_lexer": "ipython3",
   "version": "3.9.5"
  },
  "toc": {
   "base_numbering": 1,
   "nav_menu": {},
   "number_sections": true,
   "sideBar": true,
   "skip_h1_title": true,
   "title_cell": "Содержание",
   "title_sidebar": "Contents",
   "toc_cell": true,
   "toc_position": {
    "height": "calc(100% - 180px)",
    "left": "10px",
    "top": "150px",
    "width": "199px"
   },
   "toc_section_display": true,
   "toc_window_display": true
  }
 },
 "nbformat": 4,
 "nbformat_minor": 2
}
