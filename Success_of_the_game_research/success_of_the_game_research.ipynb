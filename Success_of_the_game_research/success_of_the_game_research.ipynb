{
 "cells": [
  {
   "cell_type": "markdown",
   "metadata": {},
   "source": [
    "# Исследование закономерностей, определяющих успех игры"
   ]
  },
  {
   "cell_type": "markdown",
   "metadata": {},
   "source": [
    "# Задача\n",
    "Из открытых источников доступны исторические данные за 2016 год о продажах компьютерных игр, оценки пользователей и экспертов, жанры и платформы (например, Xbox или PlayStation). Нам нужно выявить определяющие успешность игры закономерности."
   ]
  },
  {
   "cell_type": "markdown",
   "metadata": {},
   "source": [
    "# План\n",
    "**1. Проведение обзора данных.**\n",
    "\n",
    "**2. Проведение предобработки данных.**\n",
    "\n",
    "**3. Проведение исследовательского анализа данных.**\n",
    "- Посмотрим, сколько игр выпускалось в разные годы.\n",
    "- Посмотрим, как менялись продажи по платформам. Выберем платформы с наибольшими суммарными продажами и построим распределение по годам.\n",
    "- Возьмем данные за соответствующий актуальный период.\n",
    "- Выберем несколько потенциально прибыльных платформ.\n",
    "- Построим график «ящик с усами» по глобальным продажам игр в разбивке по платформам.\n",
    "- Посмотрим, как влияют на продажи внутри одной популярной платформы отзывы пользователей и критиков. Построим диаграмму рассеяния и посчитаем корреляцию между отзывами и продажами.\n",
    "- Соотнесем выводы с продажами игр на других платформах.\n",
    "- Посмотрим на общее распределение игр по жанрам.\n",
    "\n",
    "**4. Составление портрета пользователя каждого региона.**\n",
    "\n",
    "**5. Проверка гипотез.**\n",
    "- Средние пользовательские рейтинги платформ Xbox One и PC одинаковые;\n",
    "- Средние пользовательские рейтинги жанров Action и Sports разные.\n",
    "\n",
    "**6. Выводы.**"
   ]
  },
  {
   "cell_type": "markdown",
   "metadata": {},
   "source": [
    "## Обзор данных"
   ]
  },
  {
   "cell_type": "code",
   "execution_count": 1,
   "metadata": {},
   "outputs": [],
   "source": [
    "import pandas as pd\n",
    "import matplotlib.pyplot as plt\n",
    "from scipy import stats as st"
   ]
  },
  {
   "cell_type": "code",
   "execution_count": 2,
   "metadata": {},
   "outputs": [
    {
     "data": {
      "text/html": [
       "<div>\n",
       "<style scoped>\n",
       "    .dataframe tbody tr th:only-of-type {\n",
       "        vertical-align: middle;\n",
       "    }\n",
       "\n",
       "    .dataframe tbody tr th {\n",
       "        vertical-align: top;\n",
       "    }\n",
       "\n",
       "    .dataframe thead th {\n",
       "        text-align: right;\n",
       "    }\n",
       "</style>\n",
       "<table border=\"1\" class=\"dataframe\">\n",
       "  <thead>\n",
       "    <tr style=\"text-align: right;\">\n",
       "      <th></th>\n",
       "      <th>Name</th>\n",
       "      <th>Platform</th>\n",
       "      <th>Year_of_Release</th>\n",
       "      <th>Genre</th>\n",
       "      <th>NA_sales</th>\n",
       "      <th>EU_sales</th>\n",
       "      <th>JP_sales</th>\n",
       "      <th>Other_sales</th>\n",
       "      <th>Critic_Score</th>\n",
       "      <th>User_Score</th>\n",
       "      <th>Rating</th>\n",
       "    </tr>\n",
       "  </thead>\n",
       "  <tbody>\n",
       "    <tr>\n",
       "      <th>0</th>\n",
       "      <td>Wii Sports</td>\n",
       "      <td>Wii</td>\n",
       "      <td>2006.0</td>\n",
       "      <td>Sports</td>\n",
       "      <td>41.36</td>\n",
       "      <td>28.96</td>\n",
       "      <td>3.77</td>\n",
       "      <td>8.45</td>\n",
       "      <td>76.0</td>\n",
       "      <td>8</td>\n",
       "      <td>E</td>\n",
       "    </tr>\n",
       "    <tr>\n",
       "      <th>1</th>\n",
       "      <td>Super Mario Bros.</td>\n",
       "      <td>NES</td>\n",
       "      <td>1985.0</td>\n",
       "      <td>Platform</td>\n",
       "      <td>29.08</td>\n",
       "      <td>3.58</td>\n",
       "      <td>6.81</td>\n",
       "      <td>0.77</td>\n",
       "      <td>NaN</td>\n",
       "      <td>NaN</td>\n",
       "      <td>NaN</td>\n",
       "    </tr>\n",
       "    <tr>\n",
       "      <th>2</th>\n",
       "      <td>Mario Kart Wii</td>\n",
       "      <td>Wii</td>\n",
       "      <td>2008.0</td>\n",
       "      <td>Racing</td>\n",
       "      <td>15.68</td>\n",
       "      <td>12.76</td>\n",
       "      <td>3.79</td>\n",
       "      <td>3.29</td>\n",
       "      <td>82.0</td>\n",
       "      <td>8.3</td>\n",
       "      <td>E</td>\n",
       "    </tr>\n",
       "    <tr>\n",
       "      <th>3</th>\n",
       "      <td>Wii Sports Resort</td>\n",
       "      <td>Wii</td>\n",
       "      <td>2009.0</td>\n",
       "      <td>Sports</td>\n",
       "      <td>15.61</td>\n",
       "      <td>10.93</td>\n",
       "      <td>3.28</td>\n",
       "      <td>2.95</td>\n",
       "      <td>80.0</td>\n",
       "      <td>8</td>\n",
       "      <td>E</td>\n",
       "    </tr>\n",
       "    <tr>\n",
       "      <th>4</th>\n",
       "      <td>Pokemon Red/Pokemon Blue</td>\n",
       "      <td>GB</td>\n",
       "      <td>1996.0</td>\n",
       "      <td>Role-Playing</td>\n",
       "      <td>11.27</td>\n",
       "      <td>8.89</td>\n",
       "      <td>10.22</td>\n",
       "      <td>1.00</td>\n",
       "      <td>NaN</td>\n",
       "      <td>NaN</td>\n",
       "      <td>NaN</td>\n",
       "    </tr>\n",
       "    <tr>\n",
       "      <th>...</th>\n",
       "      <td>...</td>\n",
       "      <td>...</td>\n",
       "      <td>...</td>\n",
       "      <td>...</td>\n",
       "      <td>...</td>\n",
       "      <td>...</td>\n",
       "      <td>...</td>\n",
       "      <td>...</td>\n",
       "      <td>...</td>\n",
       "      <td>...</td>\n",
       "      <td>...</td>\n",
       "    </tr>\n",
       "    <tr>\n",
       "      <th>16710</th>\n",
       "      <td>Samurai Warriors: Sanada Maru</td>\n",
       "      <td>PS3</td>\n",
       "      <td>2016.0</td>\n",
       "      <td>Action</td>\n",
       "      <td>0.00</td>\n",
       "      <td>0.00</td>\n",
       "      <td>0.01</td>\n",
       "      <td>0.00</td>\n",
       "      <td>NaN</td>\n",
       "      <td>NaN</td>\n",
       "      <td>NaN</td>\n",
       "    </tr>\n",
       "    <tr>\n",
       "      <th>16711</th>\n",
       "      <td>LMA Manager 2007</td>\n",
       "      <td>X360</td>\n",
       "      <td>2006.0</td>\n",
       "      <td>Sports</td>\n",
       "      <td>0.00</td>\n",
       "      <td>0.01</td>\n",
       "      <td>0.00</td>\n",
       "      <td>0.00</td>\n",
       "      <td>NaN</td>\n",
       "      <td>NaN</td>\n",
       "      <td>NaN</td>\n",
       "    </tr>\n",
       "    <tr>\n",
       "      <th>16712</th>\n",
       "      <td>Haitaka no Psychedelica</td>\n",
       "      <td>PSV</td>\n",
       "      <td>2016.0</td>\n",
       "      <td>Adventure</td>\n",
       "      <td>0.00</td>\n",
       "      <td>0.00</td>\n",
       "      <td>0.01</td>\n",
       "      <td>0.00</td>\n",
       "      <td>NaN</td>\n",
       "      <td>NaN</td>\n",
       "      <td>NaN</td>\n",
       "    </tr>\n",
       "    <tr>\n",
       "      <th>16713</th>\n",
       "      <td>Spirits &amp; Spells</td>\n",
       "      <td>GBA</td>\n",
       "      <td>2003.0</td>\n",
       "      <td>Platform</td>\n",
       "      <td>0.01</td>\n",
       "      <td>0.00</td>\n",
       "      <td>0.00</td>\n",
       "      <td>0.00</td>\n",
       "      <td>NaN</td>\n",
       "      <td>NaN</td>\n",
       "      <td>NaN</td>\n",
       "    </tr>\n",
       "    <tr>\n",
       "      <th>16714</th>\n",
       "      <td>Winning Post 8 2016</td>\n",
       "      <td>PSV</td>\n",
       "      <td>2016.0</td>\n",
       "      <td>Simulation</td>\n",
       "      <td>0.00</td>\n",
       "      <td>0.00</td>\n",
       "      <td>0.01</td>\n",
       "      <td>0.00</td>\n",
       "      <td>NaN</td>\n",
       "      <td>NaN</td>\n",
       "      <td>NaN</td>\n",
       "    </tr>\n",
       "  </tbody>\n",
       "</table>\n",
       "<p>16715 rows × 11 columns</p>\n",
       "</div>"
      ],
      "text/plain": [
       "                                Name Platform  Year_of_Release         Genre  \\\n",
       "0                         Wii Sports      Wii           2006.0        Sports   \n",
       "1                  Super Mario Bros.      NES           1985.0      Platform   \n",
       "2                     Mario Kart Wii      Wii           2008.0        Racing   \n",
       "3                  Wii Sports Resort      Wii           2009.0        Sports   \n",
       "4           Pokemon Red/Pokemon Blue       GB           1996.0  Role-Playing   \n",
       "...                              ...      ...              ...           ...   \n",
       "16710  Samurai Warriors: Sanada Maru      PS3           2016.0        Action   \n",
       "16711               LMA Manager 2007     X360           2006.0        Sports   \n",
       "16712        Haitaka no Psychedelica      PSV           2016.0     Adventure   \n",
       "16713               Spirits & Spells      GBA           2003.0      Platform   \n",
       "16714            Winning Post 8 2016      PSV           2016.0    Simulation   \n",
       "\n",
       "       NA_sales  EU_sales  JP_sales  Other_sales  Critic_Score User_Score  \\\n",
       "0         41.36     28.96      3.77         8.45          76.0          8   \n",
       "1         29.08      3.58      6.81         0.77           NaN        NaN   \n",
       "2         15.68     12.76      3.79         3.29          82.0        8.3   \n",
       "3         15.61     10.93      3.28         2.95          80.0          8   \n",
       "4         11.27      8.89     10.22         1.00           NaN        NaN   \n",
       "...         ...       ...       ...          ...           ...        ...   \n",
       "16710      0.00      0.00      0.01         0.00           NaN        NaN   \n",
       "16711      0.00      0.01      0.00         0.00           NaN        NaN   \n",
       "16712      0.00      0.00      0.01         0.00           NaN        NaN   \n",
       "16713      0.01      0.00      0.00         0.00           NaN        NaN   \n",
       "16714      0.00      0.00      0.01         0.00           NaN        NaN   \n",
       "\n",
       "      Rating  \n",
       "0          E  \n",
       "1        NaN  \n",
       "2          E  \n",
       "3          E  \n",
       "4        NaN  \n",
       "...      ...  \n",
       "16710    NaN  \n",
       "16711    NaN  \n",
       "16712    NaN  \n",
       "16713    NaN  \n",
       "16714    NaN  \n",
       "\n",
       "[16715 rows x 11 columns]"
      ]
     },
     "execution_count": 2,
     "metadata": {},
     "output_type": "execute_result"
    }
   ],
   "source": [
    "games_data = pd.read_csv('/datasets/games.csv')\n",
    "games_data"
   ]
  },
  {
   "cell_type": "code",
   "execution_count": 3,
   "metadata": {},
   "outputs": [
    {
     "name": "stdout",
     "output_type": "stream",
     "text": [
      "<class 'pandas.core.frame.DataFrame'>\n",
      "RangeIndex: 16715 entries, 0 to 16714\n",
      "Data columns (total 11 columns):\n",
      " #   Column           Non-Null Count  Dtype  \n",
      "---  ------           --------------  -----  \n",
      " 0   Name             16713 non-null  object \n",
      " 1   Platform         16715 non-null  object \n",
      " 2   Year_of_Release  16446 non-null  float64\n",
      " 3   Genre            16713 non-null  object \n",
      " 4   NA_sales         16715 non-null  float64\n",
      " 5   EU_sales         16715 non-null  float64\n",
      " 6   JP_sales         16715 non-null  float64\n",
      " 7   Other_sales      16715 non-null  float64\n",
      " 8   Critic_Score     8137 non-null   float64\n",
      " 9   User_Score       10014 non-null  object \n",
      " 10  Rating           9949 non-null   object \n",
      "dtypes: float64(6), object(5)\n",
      "memory usage: 1.4+ MB\n"
     ]
    }
   ],
   "source": [
    "games_data.info()"
   ]
  },
  {
   "cell_type": "markdown",
   "metadata": {},
   "source": [
    "В некоторых столбцах есть пропуски.\n",
    "\n",
    "Также нужно привести названия столбцов к нижнему регистру и привести данные к нужным типам."
   ]
  },
  {
   "cell_type": "markdown",
   "metadata": {},
   "source": [
    "## Предобработка данных"
   ]
  },
  {
   "cell_type": "markdown",
   "metadata": {},
   "source": [
    "### Заменим названия столбцов (приведем к нижнему регистру)"
   ]
  },
  {
   "cell_type": "code",
   "execution_count": 4,
   "metadata": {},
   "outputs": [
    {
     "name": "stdout",
     "output_type": "stream",
     "text": [
      "<class 'pandas.core.frame.DataFrame'>\n",
      "RangeIndex: 16715 entries, 0 to 16714\n",
      "Data columns (total 11 columns):\n",
      " #   Column           Non-Null Count  Dtype  \n",
      "---  ------           --------------  -----  \n",
      " 0   name             16713 non-null  object \n",
      " 1   platform         16715 non-null  object \n",
      " 2   year_of_release  16446 non-null  float64\n",
      " 3   genre            16713 non-null  object \n",
      " 4   na_sales         16715 non-null  float64\n",
      " 5   eu_sales         16715 non-null  float64\n",
      " 6   jp_sales         16715 non-null  float64\n",
      " 7   other_sales      16715 non-null  float64\n",
      " 8   critic_score     8137 non-null   float64\n",
      " 9   user_score       10014 non-null  object \n",
      " 10  rating           9949 non-null   object \n",
      "dtypes: float64(6), object(5)\n",
      "memory usage: 1.4+ MB\n"
     ]
    }
   ],
   "source": [
    "games_data = games_data.rename(columns={'Name': 'name', 'Platform': 'platform', 'Year_of_Release': 'year_of_release',\\\n",
    "                                        'Genre': 'genre', 'NA_sales': 'na_sales', 'EU_sales': 'eu_sales',\\\n",
    "                                        'JP_sales': 'jp_sales', 'Other_sales': 'other_sales', 'Critic_Score': 'critic_score',\\\n",
    "                                        'User_Score': 'user_score', 'Rating': 'rating'})\n",
    "games_data.info()"
   ]
  },
  {
   "cell_type": "markdown",
   "metadata": {},
   "source": [
    "### Обработаем пропуски"
   ]
  },
  {
   "cell_type": "code",
   "execution_count": 5,
   "metadata": {},
   "outputs": [
    {
     "data": {
      "text/plain": [
       "name                  2\n",
       "platform              0\n",
       "year_of_release     269\n",
       "genre                 2\n",
       "na_sales              0\n",
       "eu_sales              0\n",
       "jp_sales              0\n",
       "other_sales           0\n",
       "critic_score       8578\n",
       "user_score         6701\n",
       "rating             6766\n",
       "dtype: int64"
      ]
     },
     "execution_count": 5,
     "metadata": {},
     "output_type": "execute_result"
    }
   ],
   "source": [
    "# Определим, в каких столбцах есть пропуски\n",
    "games_data.isna().sum()"
   ]
  },
  {
   "cell_type": "code",
   "execution_count": 6,
   "metadata": {},
   "outputs": [
    {
     "data": {
      "text/plain": [
       "name               0.000120\n",
       "platform           0.000000\n",
       "year_of_release    0.016093\n",
       "genre              0.000120\n",
       "na_sales           0.000000\n",
       "eu_sales           0.000000\n",
       "jp_sales           0.000000\n",
       "other_sales        0.000000\n",
       "critic_score       0.513192\n",
       "user_score         0.400897\n",
       "rating             0.404786\n",
       "dtype: float64"
      ]
     },
     "execution_count": 6,
     "metadata": {},
     "output_type": "execute_result"
    }
   ],
   "source": [
    "# Посчитаем долю пропусков по столбцам\n",
    "games_data.isna().sum() / len(games_data)"
   ]
  },
  {
   "cell_type": "code",
   "execution_count": 7,
   "metadata": {},
   "outputs": [],
   "source": [
    "# В столбце name - название игры, 269 пропусков. Заменим их на значение \"Неизвестно\"\n",
    "games_data['name'] = games_data['name'].fillna(value='Неизвестно')"
   ]
  },
  {
   "cell_type": "code",
   "execution_count": 8,
   "metadata": {},
   "outputs": [
    {
     "name": "stdout",
     "output_type": "stream",
     "text": [
      "<class 'pandas.core.frame.DataFrame'>\n",
      "Int64Index: 16446 entries, 0 to 16714\n",
      "Data columns (total 11 columns):\n",
      " #   Column           Non-Null Count  Dtype  \n",
      "---  ------           --------------  -----  \n",
      " 0   name             16446 non-null  object \n",
      " 1   platform         16446 non-null  object \n",
      " 2   year_of_release  16446 non-null  float64\n",
      " 3   genre            16444 non-null  object \n",
      " 4   na_sales         16446 non-null  float64\n",
      " 5   eu_sales         16446 non-null  float64\n",
      " 6   jp_sales         16446 non-null  float64\n",
      " 7   other_sales      16446 non-null  float64\n",
      " 8   critic_score     7983 non-null   float64\n",
      " 9   user_score       9839 non-null   object \n",
      " 10  rating           9768 non-null   object \n",
      "dtypes: float64(6), object(5)\n",
      "memory usage: 1.5+ MB\n"
     ]
    }
   ],
   "source": [
    "# В столбце year_of_release - год выпуска, 269 пропусков. Удалим эти строки\n",
    "games_data = games_data.loc[games_data['year_of_release'].isna() == False]\n",
    "games_data.info()"
   ]
  },
  {
   "cell_type": "code",
   "execution_count": 9,
   "metadata": {},
   "outputs": [],
   "source": [
    "# В столбце genre - жанр игры, 2 пропуска. Заменим их на значение \"Неизвестно\"\n",
    "games_data['genre'] = games_data['genre'].fillna(value='Неизвестно')"
   ]
  },
  {
   "cell_type": "code",
   "execution_count": 10,
   "metadata": {},
   "outputs": [],
   "source": [
    "# В столбце critic_score - оценка критиков, очень много пропусков, 50%\n",
    "# заменим их на значение -1, чтобы выделить в отдельную группу\n",
    "games_data['critic_score'] = games_data['critic_score'].fillna(value=-1)"
   ]
  },
  {
   "cell_type": "code",
   "execution_count": 11,
   "metadata": {},
   "outputs": [],
   "source": [
    "# В столбце user_score - оценка пользователей, очень много пропусков, 40%, заменим их на значение -1\n",
    "# Значение tbd - \"уточняется\" заменим на значение -2\n",
    "games_data.loc[games_data['user_score'] == 'tbd', 'user_score'] = -2\n",
    "games_data['user_score'] = games_data['user_score'].fillna(value=-1)"
   ]
  },
  {
   "cell_type": "code",
   "execution_count": 12,
   "metadata": {},
   "outputs": [],
   "source": [
    "# В столбце rating - рейтинг от организации ESRB, очень много пропусков, 40%, заменим их на значение \"Неизвестно\"\n",
    "games_data['rating'] = games_data['rating'].fillna(value=\"Неизвестно\")"
   ]
  },
  {
   "cell_type": "code",
   "execution_count": 13,
   "metadata": {},
   "outputs": [
    {
     "data": {
      "text/plain": [
       "name               0\n",
       "platform           0\n",
       "year_of_release    0\n",
       "genre              0\n",
       "na_sales           0\n",
       "eu_sales           0\n",
       "jp_sales           0\n",
       "other_sales        0\n",
       "critic_score       0\n",
       "user_score         0\n",
       "rating             0\n",
       "dtype: int64"
      ]
     },
     "execution_count": 13,
     "metadata": {},
     "output_type": "execute_result"
    }
   ],
   "source": [
    "games_data.isna().sum()"
   ]
  },
  {
   "cell_type": "markdown",
   "metadata": {},
   "source": [
    "### Преобразуем данные в нужные типы"
   ]
  },
  {
   "cell_type": "markdown",
   "metadata": {},
   "source": [
    "Приведем столбец year_of_release - год выпуска к типу int, т.к. год это целое число.\n",
    "\n",
    "Приведем столбец critic_score - оценка критиков (максимум 100) к типу int, т.к. оценка задется от 0 до 100 целым числом."
   ]
  },
  {
   "cell_type": "code",
   "execution_count": 14,
   "metadata": {},
   "outputs": [
    {
     "name": "stdout",
     "output_type": "stream",
     "text": [
      "<class 'pandas.core.frame.DataFrame'>\n",
      "Int64Index: 16446 entries, 0 to 16714\n",
      "Data columns (total 11 columns):\n",
      " #   Column           Non-Null Count  Dtype  \n",
      "---  ------           --------------  -----  \n",
      " 0   name             16446 non-null  object \n",
      " 1   platform         16446 non-null  object \n",
      " 2   year_of_release  16446 non-null  float64\n",
      " 3   genre            16446 non-null  object \n",
      " 4   na_sales         16446 non-null  float64\n",
      " 5   eu_sales         16446 non-null  float64\n",
      " 6   jp_sales         16446 non-null  float64\n",
      " 7   other_sales      16446 non-null  float64\n",
      " 8   critic_score     16446 non-null  float64\n",
      " 9   user_score       16446 non-null  object \n",
      " 10  rating           16446 non-null  object \n",
      "dtypes: float64(6), object(5)\n",
      "memory usage: 1.5+ MB\n"
     ]
    }
   ],
   "source": [
    "games_data.info()"
   ]
  },
  {
   "cell_type": "code",
   "execution_count": 15,
   "metadata": {},
   "outputs": [],
   "source": [
    "games_data['year_of_release'] = games_data['year_of_release'].astype('int')\n",
    "games_data['critic_score'] = games_data['critic_score'].astype('int')\n",
    "games_data['user_score'] = games_data['user_score'].astype('float')"
   ]
  },
  {
   "cell_type": "code",
   "execution_count": 16,
   "metadata": {},
   "outputs": [
    {
     "name": "stdout",
     "output_type": "stream",
     "text": [
      "<class 'pandas.core.frame.DataFrame'>\n",
      "Int64Index: 16446 entries, 0 to 16714\n",
      "Data columns (total 11 columns):\n",
      " #   Column           Non-Null Count  Dtype  \n",
      "---  ------           --------------  -----  \n",
      " 0   name             16446 non-null  object \n",
      " 1   platform         16446 non-null  object \n",
      " 2   year_of_release  16446 non-null  int64  \n",
      " 3   genre            16446 non-null  object \n",
      " 4   na_sales         16446 non-null  float64\n",
      " 5   eu_sales         16446 non-null  float64\n",
      " 6   jp_sales         16446 non-null  float64\n",
      " 7   other_sales      16446 non-null  float64\n",
      " 8   critic_score     16446 non-null  int64  \n",
      " 9   user_score       16446 non-null  float64\n",
      " 10  rating           16446 non-null  object \n",
      "dtypes: float64(5), int64(2), object(4)\n",
      "memory usage: 1.5+ MB\n"
     ]
    }
   ],
   "source": [
    "games_data.info()"
   ]
  },
  {
   "cell_type": "markdown",
   "metadata": {},
   "source": [
    "### Посчитаем суммарные продажи во всех регионах и запишем их в отдельный столбец."
   ]
  },
  {
   "cell_type": "code",
   "execution_count": 17,
   "metadata": {},
   "outputs": [
    {
     "data": {
      "text/html": [
       "<div>\n",
       "<style scoped>\n",
       "    .dataframe tbody tr th:only-of-type {\n",
       "        vertical-align: middle;\n",
       "    }\n",
       "\n",
       "    .dataframe tbody tr th {\n",
       "        vertical-align: top;\n",
       "    }\n",
       "\n",
       "    .dataframe thead th {\n",
       "        text-align: right;\n",
       "    }\n",
       "</style>\n",
       "<table border=\"1\" class=\"dataframe\">\n",
       "  <thead>\n",
       "    <tr style=\"text-align: right;\">\n",
       "      <th></th>\n",
       "      <th>name</th>\n",
       "      <th>platform</th>\n",
       "      <th>year_of_release</th>\n",
       "      <th>genre</th>\n",
       "      <th>na_sales</th>\n",
       "      <th>eu_sales</th>\n",
       "      <th>jp_sales</th>\n",
       "      <th>other_sales</th>\n",
       "      <th>critic_score</th>\n",
       "      <th>user_score</th>\n",
       "      <th>rating</th>\n",
       "      <th>total_sales</th>\n",
       "    </tr>\n",
       "  </thead>\n",
       "  <tbody>\n",
       "    <tr>\n",
       "      <th>0</th>\n",
       "      <td>Wii Sports</td>\n",
       "      <td>Wii</td>\n",
       "      <td>2006</td>\n",
       "      <td>Sports</td>\n",
       "      <td>41.36</td>\n",
       "      <td>28.96</td>\n",
       "      <td>3.77</td>\n",
       "      <td>8.45</td>\n",
       "      <td>76</td>\n",
       "      <td>8.0</td>\n",
       "      <td>E</td>\n",
       "      <td>82.54</td>\n",
       "    </tr>\n",
       "    <tr>\n",
       "      <th>1</th>\n",
       "      <td>Super Mario Bros.</td>\n",
       "      <td>NES</td>\n",
       "      <td>1985</td>\n",
       "      <td>Platform</td>\n",
       "      <td>29.08</td>\n",
       "      <td>3.58</td>\n",
       "      <td>6.81</td>\n",
       "      <td>0.77</td>\n",
       "      <td>-1</td>\n",
       "      <td>-1.0</td>\n",
       "      <td>Неизвестно</td>\n",
       "      <td>40.24</td>\n",
       "    </tr>\n",
       "    <tr>\n",
       "      <th>2</th>\n",
       "      <td>Mario Kart Wii</td>\n",
       "      <td>Wii</td>\n",
       "      <td>2008</td>\n",
       "      <td>Racing</td>\n",
       "      <td>15.68</td>\n",
       "      <td>12.76</td>\n",
       "      <td>3.79</td>\n",
       "      <td>3.29</td>\n",
       "      <td>82</td>\n",
       "      <td>8.3</td>\n",
       "      <td>E</td>\n",
       "      <td>35.52</td>\n",
       "    </tr>\n",
       "    <tr>\n",
       "      <th>3</th>\n",
       "      <td>Wii Sports Resort</td>\n",
       "      <td>Wii</td>\n",
       "      <td>2009</td>\n",
       "      <td>Sports</td>\n",
       "      <td>15.61</td>\n",
       "      <td>10.93</td>\n",
       "      <td>3.28</td>\n",
       "      <td>2.95</td>\n",
       "      <td>80</td>\n",
       "      <td>8.0</td>\n",
       "      <td>E</td>\n",
       "      <td>32.77</td>\n",
       "    </tr>\n",
       "    <tr>\n",
       "      <th>4</th>\n",
       "      <td>Pokemon Red/Pokemon Blue</td>\n",
       "      <td>GB</td>\n",
       "      <td>1996</td>\n",
       "      <td>Role-Playing</td>\n",
       "      <td>11.27</td>\n",
       "      <td>8.89</td>\n",
       "      <td>10.22</td>\n",
       "      <td>1.00</td>\n",
       "      <td>-1</td>\n",
       "      <td>-1.0</td>\n",
       "      <td>Неизвестно</td>\n",
       "      <td>31.38</td>\n",
       "    </tr>\n",
       "  </tbody>\n",
       "</table>\n",
       "</div>"
      ],
      "text/plain": [
       "                       name platform  year_of_release         genre  na_sales  \\\n",
       "0                Wii Sports      Wii             2006        Sports     41.36   \n",
       "1         Super Mario Bros.      NES             1985      Platform     29.08   \n",
       "2            Mario Kart Wii      Wii             2008        Racing     15.68   \n",
       "3         Wii Sports Resort      Wii             2009        Sports     15.61   \n",
       "4  Pokemon Red/Pokemon Blue       GB             1996  Role-Playing     11.27   \n",
       "\n",
       "   eu_sales  jp_sales  other_sales  critic_score  user_score      rating  \\\n",
       "0     28.96      3.77         8.45            76         8.0           E   \n",
       "1      3.58      6.81         0.77            -1        -1.0  Неизвестно   \n",
       "2     12.76      3.79         3.29            82         8.3           E   \n",
       "3     10.93      3.28         2.95            80         8.0           E   \n",
       "4      8.89     10.22         1.00            -1        -1.0  Неизвестно   \n",
       "\n",
       "   total_sales  \n",
       "0        82.54  \n",
       "1        40.24  \n",
       "2        35.52  \n",
       "3        32.77  \n",
       "4        31.38  "
      ]
     },
     "execution_count": 17,
     "metadata": {},
     "output_type": "execute_result"
    }
   ],
   "source": [
    "games_data['total_sales'] = games_data['na_sales'] + games_data['eu_sales'] + games_data['jp_sales'] + games_data['other_sales']\n",
    "games_data.head()"
   ]
  },
  {
   "cell_type": "markdown",
   "metadata": {},
   "source": [
    "### Проверим данные на наличие дубликактов"
   ]
  },
  {
   "cell_type": "code",
   "execution_count": 18,
   "metadata": {},
   "outputs": [
    {
     "data": {
      "text/plain": [
       "0"
      ]
     },
     "execution_count": 18,
     "metadata": {},
     "output_type": "execute_result"
    }
   ],
   "source": [
    "games_data.duplicated().sum()"
   ]
  },
  {
   "cell_type": "code",
   "execution_count": 19,
   "metadata": {},
   "outputs": [
    {
     "data": {
      "text/plain": [
       "array(['Wii', 'NES', 'GB', 'DS', 'X360', 'PS3', 'PS2', 'SNES', 'GBA',\n",
       "       'PS4', '3DS', 'N64', 'PS', 'XB', 'PC', '2600', 'PSP', 'XOne',\n",
       "       'WiiU', 'GC', 'GEN', 'DC', 'PSV', 'SAT', 'SCD', 'WS', 'NG', 'TG16',\n",
       "       '3DO', 'GG', 'PCFX'], dtype=object)"
      ]
     },
     "execution_count": 19,
     "metadata": {},
     "output_type": "execute_result"
    }
   ],
   "source": [
    "games_data['platform'].unique()"
   ]
  },
  {
   "cell_type": "code",
   "execution_count": 20,
   "metadata": {},
   "outputs": [
    {
     "data": {
      "text/plain": [
       "array(['Sports', 'Platform', 'Racing', 'Role-Playing', 'Puzzle', 'Misc',\n",
       "       'Shooter', 'Simulation', 'Action', 'Fighting', 'Adventure',\n",
       "       'Strategy', 'Неизвестно'], dtype=object)"
      ]
     },
     "execution_count": 20,
     "metadata": {},
     "output_type": "execute_result"
    }
   ],
   "source": [
    "games_data['genre'].unique()"
   ]
  },
  {
   "cell_type": "code",
   "execution_count": 21,
   "metadata": {},
   "outputs": [
    {
     "data": {
      "text/plain": [
       "array(['E', 'Неизвестно', 'M', 'T', 'E10+', 'K-A', 'AO', 'EC', 'RP'],\n",
       "      dtype=object)"
      ]
     },
     "execution_count": 21,
     "metadata": {},
     "output_type": "execute_result"
    }
   ],
   "source": [
    "games_data['rating'].unique()"
   ]
  },
  {
   "cell_type": "markdown",
   "metadata": {},
   "source": [
    "Дубликатов не обнаружили."
   ]
  },
  {
   "cell_type": "markdown",
   "metadata": {},
   "source": [
    "**Промежуточные выводы**"
   ]
  },
  {
   "cell_type": "markdown",
   "metadata": {},
   "source": [
    "- В столбцах critic_score, user_score и rating обнаружилось много пропусков по 40-50%. Такие пропуски мы обозначили как -1 и \"Неизвестно\", чтобы при исследовании данных они были выделены в отдельную группу.\n",
    "- Преобразовали некоторые типы данных.\n",
    "- Привели столбцы к нижнему регистру.\n",
    "- Дубликаты не обнаружили."
   ]
  },
  {
   "cell_type": "markdown",
   "metadata": {},
   "source": [
    "## Исследовательский анализ данных"
   ]
  },
  {
   "cell_type": "markdown",
   "metadata": {},
   "source": [
    "### Посмотрим, сколько игр выпускалось в разные годы"
   ]
  },
  {
   "cell_type": "code",
   "execution_count": 22,
   "metadata": {},
   "outputs": [
    {
     "data": {
      "image/png": "[encoded data removed]",
      "text/plain": [
       "<Figure size 1080x576 with 1 Axes>"
      ]
     },
     "metadata": {
      "needs_background": "light"
     },
     "output_type": "display_data"
    }
   ],
   "source": [
    "number_of_games_by_year = games_data.groupby('year_of_release')['name'].count()\n",
    "number_of_games_by_year.plot(figsize=(15,8), grid=True, title='Количество выпущенных игр по годам');"
   ]
  },
  {
   "cell_type": "markdown",
   "metadata": {},
   "source": [
    "С каждым годом количество игр менялось. С 1980 по 1993 год выпускалось мало игр - от 9 до 62. Далее с каждым годом выпускалось все больше игр до 2009 года - до 1427 игр. Затем пошел спад примерно до 600 игр в год.\n",
    "\n",
    "Для исследования возьмем данные начиная с 2012 года."
   ]
  },
  {
   "cell_type": "markdown",
   "metadata": {},
   "source": [
    "### Посмотрим, как менялись продажи по платформам. Выберем платформы с наибольшими суммарными продажами и построим распределение по годам."
   ]
  },
  {
   "cell_type": "code",
   "execution_count": 23,
   "metadata": {},
   "outputs": [
    {
     "data": {
      "text/html": [
       "<div>\n",
       "<style scoped>\n",
       "    .dataframe tbody tr th:only-of-type {\n",
       "        vertical-align: middle;\n",
       "    }\n",
       "\n",
       "    .dataframe tbody tr th {\n",
       "        vertical-align: top;\n",
       "    }\n",
       "\n",
       "    .dataframe thead th {\n",
       "        text-align: right;\n",
       "    }\n",
       "</style>\n",
       "<table border=\"1\" class=\"dataframe\">\n",
       "  <thead>\n",
       "    <tr style=\"text-align: right;\">\n",
       "      <th></th>\n",
       "      <th>platform</th>\n",
       "      <th>total_sales</th>\n",
       "    </tr>\n",
       "  </thead>\n",
       "  <tbody>\n",
       "    <tr>\n",
       "      <th>0</th>\n",
       "      <td>PS2</td>\n",
       "      <td>1233.56</td>\n",
       "    </tr>\n",
       "    <tr>\n",
       "      <th>1</th>\n",
       "      <td>X360</td>\n",
       "      <td>961.24</td>\n",
       "    </tr>\n",
       "    <tr>\n",
       "      <th>2</th>\n",
       "      <td>PS3</td>\n",
       "      <td>931.34</td>\n",
       "    </tr>\n",
       "    <tr>\n",
       "      <th>3</th>\n",
       "      <td>Wii</td>\n",
       "      <td>891.18</td>\n",
       "    </tr>\n",
       "    <tr>\n",
       "      <th>4</th>\n",
       "      <td>DS</td>\n",
       "      <td>802.78</td>\n",
       "    </tr>\n",
       "  </tbody>\n",
       "</table>\n",
       "</div>"
      ],
      "text/plain": [
       "  platform  total_sales\n",
       "0      PS2      1233.56\n",
       "1     X360       961.24\n",
       "2      PS3       931.34\n",
       "3      Wii       891.18\n",
       "4       DS       802.78"
      ]
     },
     "execution_count": 23,
     "metadata": {},
     "output_type": "execute_result"
    }
   ],
   "source": [
    "# Посмотрим на 5 платформ с самыми высокими продажами\n",
    "platform_sales_by_year = games_data.groupby(['platform'])['total_sales'].sum().sort_values(ascending=False).reset_index()\n",
    "platform_sales_by_year.head(5)"
   ]
  },
  {
   "cell_type": "code",
   "execution_count": 24,
   "metadata": {},
   "outputs": [
    {
     "data": {
      "image/png": "[encoded data removed]",
      "text/plain": [
       "<Figure size 1080x576 with 1 Axes>"
      ]
     },
     "metadata": {
      "needs_background": "light"
     },
     "output_type": "display_data"
    }
   ],
   "source": [
    "# Для каждой такой платформы построим грфик распределения продаж по годам\n",
    "platforms = ['PS2', 'X360', 'PS3', 'Wii', 'DS']\n",
    "for i in range(0,5):\n",
    "    games_data.loc[games_data['platform'] == platforms[i]].groupby('year_of_release')['total_sales'].sum().plot(figsize=(15,8), grid=True, title='Распределение продаж по годам', alpha=0.7)\n",
    "plt.legend(['PS2', 'X360', 'PS3', 'Wii', 'DS']);"
   ]
  },
  {
   "cell_type": "markdown",
   "metadata": {},
   "source": [
    "Все эти платформы существовали примерно в одно время, и у каждой примерно по 5 точек высоких продаж."
   ]
  },
  {
   "cell_type": "code",
   "execution_count": 25,
   "metadata": {},
   "outputs": [
    {
     "data": {
      "text/plain": [
       "7.0"
      ]
     },
     "execution_count": 25,
     "metadata": {},
     "output_type": "execute_result"
    }
   ],
   "source": [
    "# Выясним сколько в среднем существует платформа\n",
    "(games_data.groupby('platform')['year_of_release'].max() - games_data.groupby('platform')['year_of_release'].min() + 1).median()"
   ]
  },
  {
   "cell_type": "markdown",
   "metadata": {},
   "source": [
    "В среднем платформа существует в течение 7 лет."
   ]
  },
  {
   "cell_type": "markdown",
   "metadata": {},
   "source": [
    "### Возьмем данные за соответствующий актуальный период"
   ]
  },
  {
   "cell_type": "code",
   "execution_count": 26,
   "metadata": {},
   "outputs": [],
   "source": [
    "clean_games_data = games_data.query('year_of_release >= 2012')"
   ]
  },
  {
   "cell_type": "markdown",
   "metadata": {},
   "source": [
    "Не учитываем в работе данные за предыдущие годы."
   ]
  },
  {
   "cell_type": "markdown",
   "metadata": {},
   "source": [
    "### Выберем несколько потенциально прибыльных платформ."
   ]
  },
  {
   "cell_type": "code",
   "execution_count": 27,
   "metadata": {},
   "outputs": [
    {
     "data": {
      "image/png": "[encoded data removed]",
      "text/plain": [
       "<Figure size 1080x720 with 1 Axes>"
      ]
     },
     "metadata": {
      "needs_background": "light"
     },
     "output_type": "display_data"
    }
   ],
   "source": [
    "my_colors = ['black', 'red', 'yellow', 'green', 'mediumpurple', 'paleturquoise', 'c', 'navy', 'wheat', 'violet', 'gray']\n",
    "clean_games_data.pivot_table(index='year_of_release', columns='platform', values='total_sales', aggfunc='sum').plot(figsize=(15,10), grid=True, title='Распределение продаж платформ по годам', alpha=1, color=my_colors);"
   ]
  },
  {
   "cell_type": "markdown",
   "metadata": {},
   "source": [
    "По графику видно, что по продажам лидируют следующие платформы: PS3, PS4, X360, XOne, 3DS.\n",
    "\n",
    "По сути у всех платформ продажи сначала растут, а потом падают, у кого-то резче, у кого-то плавнее."
   ]
  },
  {
   "cell_type": "markdown",
   "metadata": {},
   "source": [
    "### Построим график «ящик с усами» по глобальным продажам игр в разбивке по платформам."
   ]
  },
  {
   "cell_type": "code",
   "execution_count": 28,
   "metadata": {},
   "outputs": [
    {
     "data": {
      "text/plain": [
       "array(['PS3', 'X360', 'PS4', '3DS', 'DS', 'XOne', 'WiiU', 'Wii', 'PC',\n",
       "       'PSV', 'PSP'], dtype=object)"
      ]
     },
     "execution_count": 28,
     "metadata": {},
     "output_type": "execute_result"
    }
   ],
   "source": [
    "clean_games_data['platform'].unique()"
   ]
  },
  {
   "cell_type": "code",
   "execution_count": 29,
   "metadata": {},
   "outputs": [
    {
     "data": {
      "image/png": "[encoded data removed]",
      "text/plain": [
       "<Figure size 432x288 with 1 Axes>"
      ]
     },
     "metadata": {
      "needs_background": "light"
     },
     "output_type": "display_data"
    },
    {
     "data": {
      "image/png": "[encoded data removed]",
      "text/plain": [
       "<Figure size 432x288 with 1 Axes>"
      ]
     },
     "metadata": {
      "needs_background": "light"
     },
     "output_type": "display_data"
    },
    {
     "data": {
      "image/png": "[encoded data removed]",
      "text/plain": [
       "<Figure size 432x288 with 1 Axes>"
      ]
     },
     "metadata": {
      "needs_background": "light"
     },
     "output_type": "display_data"
    },
    {
     "data": {
      "image/png": "[encoded data removed]",
      "text/plain": [
       "<Figure size 432x288 with 1 Axes>"
      ]
     },
     "metadata": {
      "needs_background": "light"
     },
     "output_type": "display_data"
    },
    {
     "data": {
      "image/png": "[encoded data removed]",
      "text/plain": [
       "<Figure size 432x288 with 1 Axes>"
      ]
     },
     "metadata": {
      "needs_background": "light"
     },
     "output_type": "display_data"
    },
    {
     "data": {
      "image/png": "[encoded data removed]",
      "text/plain": [
       "<Figure size 432x288 with 1 Axes>"
      ]
     },
     "metadata": {
      "needs_background": "light"
     },
     "output_type": "display_data"
    },
    {
     "data": {
      "image/png": "[encoded data removed]",
      "text/plain": [
       "<Figure size 432x288 with 1 Axes>"
      ]
     },
     "metadata": {
      "needs_background": "light"
     },
     "output_type": "display_data"
    },
    {
     "data": {
      "image/png": "[encoded data removed]",
      "text/plain": [
       "<Figure size 432x288 with 1 Axes>"
      ]
     },
     "metadata": {
      "needs_background": "light"
     },
     "output_type": "display_data"
    },
    {
     "data": {
      "image/png": "[encoded data removed]",
      "text/plain": [
       "<Figure size 432x288 with 1 Axes>"
      ]
     },
     "metadata": {
      "needs_background": "light"
     },
     "output_type": "display_data"
    },
    {
     "data": {
      "image/png": "[encoded data removed]",
      "text/plain": [
       "<Figure size 432x288 with 1 Axes>"
      ]
     },
     "metadata": {
      "needs_background": "light"
     },
     "output_type": "display_data"
    },
    {
     "data": {
      "image/png": "[encoded data removed]",
      "text/plain": [
       "<Figure size 432x288 with 1 Axes>"
      ]
     },
     "metadata": {
      "needs_background": "light"
     },
     "output_type": "display_data"
    }
   ],
   "source": [
    "for i in clean_games_data['platform'].unique():\n",
    "    plt.title(i)\n",
    "    plt.show(pd.DataFrame(clean_games_data.loc[clean_games_data['platform'] == i, 'total_sales']).boxplot());\n",
    "    "
   ]
  },
  {
   "cell_type": "code",
   "execution_count": 30,
   "metadata": {},
   "outputs": [
    {
     "data": {
      "image/png": "[encoded data removed]",
      "text/plain": [
       "<Figure size 432x288 with 1 Axes>"
      ]
     },
     "metadata": {
      "needs_background": "light"
     },
     "output_type": "display_data"
    },
    {
     "data": {
      "image/png": "[encoded data removed]",
      "text/plain": [
       "<Figure size 432x288 with 1 Axes>"
      ]
     },
     "metadata": {
      "needs_background": "light"
     },
     "output_type": "display_data"
    },
    {
     "data": {
      "image/png": "[encoded data removed]",
      "text/plain": [
       "<Figure size 432x288 with 1 Axes>"
      ]
     },
     "metadata": {
      "needs_background": "light"
     },
     "output_type": "display_data"
    },
    {
     "data": {
      "image/png": "[encoded data removed]",
      "text/plain": [
       "<Figure size 432x288 with 1 Axes>"
      ]
     },
     "metadata": {
      "needs_background": "light"
     },
     "output_type": "display_data"
    },
    {
     "data": {
      "image/png": "[encoded data removed]",
      "text/plain": [
       "<Figure size 432x288 with 1 Axes>"
      ]
     },
     "metadata": {
      "needs_background": "light"
     },
     "output_type": "display_data"
    },
    {
     "data": {
      "image/png": "[encoded data removed]",
      "text/plain": [
       "<Figure size 432x288 with 1 Axes>"
      ]
     },
     "metadata": {
      "needs_background": "light"
     },
     "output_type": "display_data"
    },
    {
     "data": {
      "image/png": "[encoded data removed]",
      "text/plain": [
       "<Figure size 432x288 with 1 Axes>"
      ]
     },
     "metadata": {
      "needs_background": "light"
     },
     "output_type": "display_data"
    },
    {
     "data": {
      "image/png": "[encoded data removed]",
      "text/plain": [
       "<Figure size 432x288 with 1 Axes>"
      ]
     },
     "metadata": {
      "needs_background": "light"
     },
     "output_type": "display_data"
    },
    {
     "data": {
      "image/png": "[encoded data removed]",
      "text/plain": [
       "<Figure size 432x288 with 1 Axes>"
      ]
     },
     "metadata": {
      "needs_background": "light"
     },
     "output_type": "display_data"
    },
    {
     "data": {
      "image/png": "[encoded data removed]",
      "text/plain": [
       "<Figure size 432x288 with 1 Axes>"
      ]
     },
     "metadata": {
      "needs_background": "light"
     },
     "output_type": "display_data"
    },
    {
     "data": {
      "image/png": "[encoded data removed]",
      "text/plain": [
       "<Figure size 432x288 with 1 Axes>"
      ]
     },
     "metadata": {
      "needs_background": "light"
     },
     "output_type": "display_data"
    }
   ],
   "source": [
    "for i in clean_games_data['platform'].unique():\n",
    "    plt.title(i)\n",
    "    plt.ylim([0,2])\n",
    "    plt.show(pd.DataFrame(clean_games_data.loc[clean_games_data['platform'] == i, 'total_sales']).boxplot());"
   ]
  },
  {
   "cell_type": "markdown",
   "metadata": {},
   "source": [
    "По графикам видно, что для всех топ-платформ характерное значение продаж для игр (медиана) от 0,03 до 0,3 млн. Самое высокое медианное значение у платформы X360.\n",
    "\n",
    "Нормальные значения находятся в пределах от 0 до 2 млн. И опять же самый высокий показатель нормальных значений у платформы X360, а также у платформы PS4, XOne, Wii. А вот у платформ PSV и PSP показатели уже намного ниже, в пределах 0,25 млн."
   ]
  },
  {
   "cell_type": "markdown",
   "metadata": {},
   "source": [
    "### Посмотрим, как влияют на продажи внутри одной популярной платформы отзывы пользователей и критиков. Построим диаграмму рассеяния и посчитаем корреляцию между отзывами и продажами."
   ]
  },
  {
   "cell_type": "code",
   "execution_count": 31,
   "metadata": {},
   "outputs": [
    {
     "data": {
      "image/png": "[encoded data removed]",
      "text/plain": [
       "<Figure size 1080x720 with 1 Axes>"
      ]
     },
     "metadata": {
      "needs_background": "light"
     },
     "output_type": "display_data"
    }
   ],
   "source": [
    "# Рассмотрим платформу PS4\n",
    "clean_games_data.loc[clean_games_data['platform'] == 'PS4'].plot(x='total_sales', y='user_score', kind='scatter',\\\n",
    "                                                                 alpha=0.2, figsize=(15,10), grid=True,\\\n",
    "                                                                 title='PS4. Зависимость продаж от оценки пользователей');"
   ]
  },
  {
   "cell_type": "code",
   "execution_count": 32,
   "metadata": {},
   "outputs": [
    {
     "data": {
      "image/png": "[encoded data removed]",
      "text/plain": [
       "<Figure size 1080x720 with 1 Axes>"
      ]
     },
     "metadata": {
      "needs_background": "light"
     },
     "output_type": "display_data"
    }
   ],
   "source": [
    "clean_games_data.loc[clean_games_data['platform'] == 'PS4'].plot(x='total_sales', y='critic_score', kind='scatter',\\\n",
    "                                                                 alpha=0.2, figsize=(15,10), grid=True,\\\n",
    "                                                                 title='PS4. Зависимость продаж от оценки критиков');"
   ]
  },
  {
   "cell_type": "code",
   "execution_count": 33,
   "metadata": {},
   "outputs": [
    {
     "name": "stdout",
     "output_type": "stream",
     "text": [
      "0.2480102413897163\n"
     ]
    },
    {
     "data": {
      "text/plain": [
       "0.18378920295333098"
      ]
     },
     "execution_count": 33,
     "metadata": {},
     "output_type": "execute_result"
    }
   ],
   "source": [
    "print(clean_games_data['total_sales'].corr(clean_games_data['critic_score']))\n",
    "clean_games_data['total_sales'].corr(clean_games_data['user_score'])"
   ]
  },
  {
   "cell_type": "markdown",
   "metadata": {},
   "source": [
    "По диаграммам рассеяния и коэффициенту корреляции видно, что есть слабая прямая зависимость между оценками критиков/пользователей и продажами."
   ]
  },
  {
   "cell_type": "markdown",
   "metadata": {},
   "source": [
    "### Соотнесем выводы с продажами игр на других платформах"
   ]
  },
  {
   "cell_type": "code",
   "execution_count": 34,
   "metadata": {},
   "outputs": [
    {
     "data": {
      "image/png": "[encoded data removed]",
      "text/plain": [
       "<Figure size 1080x720 with 1 Axes>"
      ]
     },
     "metadata": {
      "needs_background": "light"
     },
     "output_type": "display_data"
    }
   ],
   "source": [
    "# Рассмотрим аналогичные графики еще для нескольких платформ\n",
    "clean_games_data.loc[clean_games_data['platform'] == 'XOne'].plot(x='total_sales', y='user_score', kind='scatter', alpha=0.2,\\\n",
    "                                                                  figsize=(15,10), grid=True,\\\n",
    "                                                                  title='XOne. Зависимость продаж от оценки пользователей');"
   ]
  },
  {
   "cell_type": "code",
   "execution_count": 35,
   "metadata": {},
   "outputs": [
    {
     "data": {
      "image/png": "[encoded data removed]",
      "text/plain": [
       "<Figure size 1080x720 with 1 Axes>"
      ]
     },
     "metadata": {
      "needs_background": "light"
     },
     "output_type": "display_data"
    }
   ],
   "source": [
    "clean_games_data.loc[clean_games_data['platform'] == 'XOne'].plot(x='total_sales', y='critic_score', kind='scatter',\\\n",
    "                                                                  alpha=0.2, figsize=(15,10), grid=True,\\\n",
    "                                                                  title='XOne. Зависимость продаж от оценки критиков');"
   ]
  },
  {
   "cell_type": "code",
   "execution_count": 36,
   "metadata": {},
   "outputs": [
    {
     "data": {
      "image/png": "[encoded data removed]",
      "text/plain": [
       "<Figure size 1080x720 with 1 Axes>"
      ]
     },
     "metadata": {
      "needs_background": "light"
     },
     "output_type": "display_data"
    }
   ],
   "source": [
    "clean_games_data.loc[clean_games_data['platform'] == 'PC'].plot(x='total_sales', y='user_score', kind='scatter',\\\n",
    "                                                                alpha=0.2, figsize=(15,10), grid=True,\\\n",
    "                                                                title='PC. Зависимость продаж от оценки пользователей');"
   ]
  },
  {
   "cell_type": "code",
   "execution_count": 37,
   "metadata": {},
   "outputs": [
    {
     "data": {
      "image/png": "[encoded data removed]",
      "text/plain": [
       "<Figure size 1080x720 with 1 Axes>"
      ]
     },
     "metadata": {
      "needs_background": "light"
     },
     "output_type": "display_data"
    }
   ],
   "source": [
    "clean_games_data.loc[clean_games_data['platform'] == 'PC'].plot(x='total_sales', y='critic_score', kind='scatter',\\\n",
    "                                                                alpha=0.2, figsize=(15,10), grid=True,\\\n",
    "                                                                title='PC. Зависимость продаж от оценки критиков');"
   ]
  },
  {
   "cell_type": "markdown",
   "metadata": {},
   "source": [
    "По графикам и коэффициенту корреляции можно сказать, что на других платформах также будет слабая зависимость продаж от оценок."
   ]
  },
  {
   "cell_type": "markdown",
   "metadata": {},
   "source": [
    "### Посмотрим на общее распределение игр по жанрам"
   ]
  },
  {
   "cell_type": "code",
   "execution_count": 38,
   "metadata": {},
   "outputs": [
    {
     "data": {
      "image/png": "[encoded data removed]",
      "text/plain": [
       "<Figure size 1080x720 with 1 Axes>"
      ]
     },
     "metadata": {
      "needs_background": "light"
     },
     "output_type": "display_data"
    }
   ],
   "source": [
    "# Распределение игр по жанрам\n",
    "genre_data = clean_games_data.pivot_table(index='genre', values='name', aggfunc='count').reset_index()\n",
    "genre_data.columns = ['genre', 'count']\n",
    "genre_data.plot(x='genre', y='count', kind='bar', figsize=(15,10), title='Распределение игр по жанрам');"
   ]
  },
  {
   "cell_type": "code",
   "execution_count": 39,
   "metadata": {},
   "outputs": [
    {
     "data": {
      "image/png": "[encoded data removed]",
      "text/plain": [
       "<Figure size 1080x720 with 1 Axes>"
      ]
     },
     "metadata": {
      "needs_background": "light"
     },
     "output_type": "display_data"
    }
   ],
   "source": [
    "genre_sale_data = clean_games_data.pivot_table(index='genre', values='total_sales', aggfunc='median').reset_index()\n",
    "genre_sale_data.plot(x='genre', y='total_sales', kind='bar', figsize=(15,10), title='Распределение прибыли по жанрам');"
   ]
  },
  {
   "cell_type": "markdown",
   "metadata": {},
   "source": [
    "Больше всего игр в жанре Action. Затем идут Role-Playing, Adventure, Sports и Shooter. Меньше всего в жанрах Puzzle, Strategy, Fighting, Simelation, Platform и Racing.\n",
    "\n",
    "Самые прибыльный жанр Shooter. Затем Sports и Platform. Самые непибыльные Adventure, Puzzle и Strategy.\n",
    "\n",
    "Итак, больше всего выпускают игр в жанре Action, но прибыльность у него средняя, чуть больше 1 млн. Также выпускают достаточно много игр в жанре Role-Playing, и прибыльность у них тоже средняя.\n",
    "\n",
    "Игр в жанре Adventure много, но прибыль у них самая низкая.\n",
    "\n",
    "Игр в жанре Sports и Shooter среднее количество, и прибыль у них достаточно высокая.\n",
    "\n",
    "У игр в жанре Platform достачно хорошая прибыль, а вот выпускают их мало."
   ]
  },
  {
   "cell_type": "markdown",
   "metadata": {},
   "source": [
    "## Составим портрет пользователя каждого региона"
   ]
  },
  {
   "cell_type": "markdown",
   "metadata": {},
   "source": [
    "**Определим для пользователя каждого региона (NA, EU, JP):**\n",
    "- Самые популярные платформы (топ-5).\n",
    "- Самые популярные жанры (топ-5).\n",
    "- Влияет ли рейтинг ESRB на продажи в отдельном регионе/"
   ]
  },
  {
   "cell_type": "code",
   "execution_count": 40,
   "metadata": {},
   "outputs": [
    {
     "data": {
      "text/html": [
       "<div>\n",
       "<style scoped>\n",
       "    .dataframe tbody tr th:only-of-type {\n",
       "        vertical-align: middle;\n",
       "    }\n",
       "\n",
       "    .dataframe tbody tr th {\n",
       "        vertical-align: top;\n",
       "    }\n",
       "\n",
       "    .dataframe thead th {\n",
       "        text-align: right;\n",
       "    }\n",
       "</style>\n",
       "<table border=\"1\" class=\"dataframe\">\n",
       "  <thead>\n",
       "    <tr style=\"text-align: right;\">\n",
       "      <th></th>\n",
       "      <th>platform</th>\n",
       "      <th>na_sales</th>\n",
       "      <th>total_sales</th>\n",
       "      <th>proportion</th>\n",
       "    </tr>\n",
       "  </thead>\n",
       "  <tbody>\n",
       "    <tr>\n",
       "      <th>0</th>\n",
       "      <td>X360</td>\n",
       "      <td>140.05</td>\n",
       "      <td>961.24</td>\n",
       "      <td>14.6</td>\n",
       "    </tr>\n",
       "    <tr>\n",
       "      <th>1</th>\n",
       "      <td>PS4</td>\n",
       "      <td>108.74</td>\n",
       "      <td>314.14</td>\n",
       "      <td>34.6</td>\n",
       "    </tr>\n",
       "    <tr>\n",
       "      <th>2</th>\n",
       "      <td>PS3</td>\n",
       "      <td>103.38</td>\n",
       "      <td>931.34</td>\n",
       "      <td>11.1</td>\n",
       "    </tr>\n",
       "    <tr>\n",
       "      <th>3</th>\n",
       "      <td>XOne</td>\n",
       "      <td>93.12</td>\n",
       "      <td>159.32</td>\n",
       "      <td>58.4</td>\n",
       "    </tr>\n",
       "    <tr>\n",
       "      <th>4</th>\n",
       "      <td>3DS</td>\n",
       "      <td>55.31</td>\n",
       "      <td>257.81</td>\n",
       "      <td>21.5</td>\n",
       "    </tr>\n",
       "  </tbody>\n",
       "</table>\n",
       "</div>"
      ],
      "text/plain": [
       "  platform  na_sales  total_sales  proportion\n",
       "0     X360    140.05       961.24        14.6\n",
       "1      PS4    108.74       314.14        34.6\n",
       "2      PS3    103.38       931.34        11.1\n",
       "3     XOne     93.12       159.32        58.4\n",
       "4      3DS     55.31       257.81        21.5"
      ]
     },
     "execution_count": 40,
     "metadata": {},
     "output_type": "execute_result"
    }
   ],
   "source": [
    "# Самые популярные платформы в Северной Америке\n",
    "#region_data = clean_games_data.pivot_table(index='platform', values=['na_sales', 'eu_sales', 'jp_sales'], aggfunc='sum').reset_index()\n",
    "na_sales_data = clean_games_data.pivot_table(index='platform', values='na_sales', aggfunc='sum').sort_values('na_sales', ascending=False).reset_index()\n",
    "na_sales_data = na_sales_data.merge(platform_sales_by_year, on='platform', how='left')\n",
    "na_sales_data = na_sales_data.head()\n",
    "na_sales_data['proportion'] = round(na_sales_data['na_sales'] / na_sales_data['total_sales'] * 100, 1)\n",
    "na_sales_data"
   ]
  },
  {
   "cell_type": "code",
   "execution_count": 41,
   "metadata": {},
   "outputs": [
    {
     "data": {
      "text/html": [
       "<div>\n",
       "<style scoped>\n",
       "    .dataframe tbody tr th:only-of-type {\n",
       "        vertical-align: middle;\n",
       "    }\n",
       "\n",
       "    .dataframe tbody tr th {\n",
       "        vertical-align: top;\n",
       "    }\n",
       "\n",
       "    .dataframe thead th {\n",
       "        text-align: right;\n",
       "    }\n",
       "</style>\n",
       "<table border=\"1\" class=\"dataframe\">\n",
       "  <thead>\n",
       "    <tr style=\"text-align: right;\">\n",
       "      <th></th>\n",
       "      <th>platform</th>\n",
       "      <th>eu_sales</th>\n",
       "      <th>total_sales</th>\n",
       "      <th>proportion</th>\n",
       "    </tr>\n",
       "  </thead>\n",
       "  <tbody>\n",
       "    <tr>\n",
       "      <th>0</th>\n",
       "      <td>PS4</td>\n",
       "      <td>141.09</td>\n",
       "      <td>314.14</td>\n",
       "      <td>44.9</td>\n",
       "    </tr>\n",
       "    <tr>\n",
       "      <th>1</th>\n",
       "      <td>PS3</td>\n",
       "      <td>106.86</td>\n",
       "      <td>931.34</td>\n",
       "      <td>11.5</td>\n",
       "    </tr>\n",
       "    <tr>\n",
       "      <th>2</th>\n",
       "      <td>X360</td>\n",
       "      <td>74.52</td>\n",
       "      <td>961.24</td>\n",
       "      <td>7.8</td>\n",
       "    </tr>\n",
       "    <tr>\n",
       "      <th>3</th>\n",
       "      <td>XOne</td>\n",
       "      <td>51.59</td>\n",
       "      <td>159.32</td>\n",
       "      <td>32.4</td>\n",
       "    </tr>\n",
       "    <tr>\n",
       "      <th>4</th>\n",
       "      <td>3DS</td>\n",
       "      <td>42.64</td>\n",
       "      <td>257.81</td>\n",
       "      <td>16.5</td>\n",
       "    </tr>\n",
       "  </tbody>\n",
       "</table>\n",
       "</div>"
      ],
      "text/plain": [
       "  platform  eu_sales  total_sales  proportion\n",
       "0      PS4    141.09       314.14        44.9\n",
       "1      PS3    106.86       931.34        11.5\n",
       "2     X360     74.52       961.24         7.8\n",
       "3     XOne     51.59       159.32        32.4\n",
       "4      3DS     42.64       257.81        16.5"
      ]
     },
     "execution_count": 41,
     "metadata": {},
     "output_type": "execute_result"
    }
   ],
   "source": [
    "# Самые популярные платформы в Европе\n",
    "eu_sales_data = clean_games_data.pivot_table(index='platform', values='eu_sales', aggfunc='sum').sort_values('eu_sales', ascending=False).reset_index()\n",
    "eu_sales_data = eu_sales_data.merge(platform_sales_by_year, on='platform', how='left')\n",
    "eu_sales_data = eu_sales_data.head()\n",
    "eu_sales_data['proportion'] = round(eu_sales_data['eu_sales'] / eu_sales_data['total_sales'] * 100, 1)\n",
    "eu_sales_data"
   ]
  },
  {
   "cell_type": "code",
   "execution_count": 42,
   "metadata": {},
   "outputs": [
    {
     "data": {
      "text/html": [
       "<div>\n",
       "<style scoped>\n",
       "    .dataframe tbody tr th:only-of-type {\n",
       "        vertical-align: middle;\n",
       "    }\n",
       "\n",
       "    .dataframe tbody tr th {\n",
       "        vertical-align: top;\n",
       "    }\n",
       "\n",
       "    .dataframe thead th {\n",
       "        text-align: right;\n",
       "    }\n",
       "</style>\n",
       "<table border=\"1\" class=\"dataframe\">\n",
       "  <thead>\n",
       "    <tr style=\"text-align: right;\">\n",
       "      <th></th>\n",
       "      <th>platform</th>\n",
       "      <th>jp_sales</th>\n",
       "      <th>total_sales</th>\n",
       "      <th>proportion</th>\n",
       "    </tr>\n",
       "  </thead>\n",
       "  <tbody>\n",
       "    <tr>\n",
       "      <th>0</th>\n",
       "      <td>3DS</td>\n",
       "      <td>87.79</td>\n",
       "      <td>257.81</td>\n",
       "      <td>34.1</td>\n",
       "    </tr>\n",
       "    <tr>\n",
       "      <th>1</th>\n",
       "      <td>PS3</td>\n",
       "      <td>35.29</td>\n",
       "      <td>931.34</td>\n",
       "      <td>3.8</td>\n",
       "    </tr>\n",
       "    <tr>\n",
       "      <th>2</th>\n",
       "      <td>PSV</td>\n",
       "      <td>21.04</td>\n",
       "      <td>53.81</td>\n",
       "      <td>39.1</td>\n",
       "    </tr>\n",
       "    <tr>\n",
       "      <th>3</th>\n",
       "      <td>PS4</td>\n",
       "      <td>15.96</td>\n",
       "      <td>314.14</td>\n",
       "      <td>5.1</td>\n",
       "    </tr>\n",
       "    <tr>\n",
       "      <th>4</th>\n",
       "      <td>WiiU</td>\n",
       "      <td>13.01</td>\n",
       "      <td>82.19</td>\n",
       "      <td>15.8</td>\n",
       "    </tr>\n",
       "  </tbody>\n",
       "</table>\n",
       "</div>"
      ],
      "text/plain": [
       "  platform  jp_sales  total_sales  proportion\n",
       "0      3DS     87.79       257.81        34.1\n",
       "1      PS3     35.29       931.34         3.8\n",
       "2      PSV     21.04        53.81        39.1\n",
       "3      PS4     15.96       314.14         5.1\n",
       "4     WiiU     13.01        82.19        15.8"
      ]
     },
     "execution_count": 42,
     "metadata": {},
     "output_type": "execute_result"
    }
   ],
   "source": [
    "# Самые популярные платформы в Японии\n",
    "jp_sales_data = clean_games_data.pivot_table(index='platform', values='jp_sales', aggfunc='sum').sort_values('jp_sales', ascending=False).reset_index()\n",
    "jp_sales_data = jp_sales_data.merge(platform_sales_by_year, on='platform', how='left')\n",
    "jp_sales_data = jp_sales_data.head()\n",
    "jp_sales_data['proportion'] = round(jp_sales_data['jp_sales'] / jp_sales_data['total_sales'] * 100, 1)\n",
    "jp_sales_data"
   ]
  },
  {
   "cell_type": "markdown",
   "metadata": {},
   "source": [
    "В целом популярные платформы совпадают во всех трех регионах, за исключением Японии: там популярны платформы PSV, WiiU, а не XOne и X360.\n",
    "\n",
    "Основная прибыль приходится на Северную Америку. На втором месте по прибыли Европа, на третьем Япония.\n",
    "\n",
    "В Северной Америке больше всего любят XOne, в Европе - PS4, в Японии - PSV."
   ]
  },
  {
   "cell_type": "code",
   "execution_count": 43,
   "metadata": {},
   "outputs": [
    {
     "data": {
      "text/html": [
       "<div>\n",
       "<style scoped>\n",
       "    .dataframe tbody tr th:only-of-type {\n",
       "        vertical-align: middle;\n",
       "    }\n",
       "\n",
       "    .dataframe tbody tr th {\n",
       "        vertical-align: top;\n",
       "    }\n",
       "\n",
       "    .dataframe thead th {\n",
       "        text-align: right;\n",
       "    }\n",
       "</style>\n",
       "<table border=\"1\" class=\"dataframe\">\n",
       "  <thead>\n",
       "    <tr style=\"text-align: right;\">\n",
       "      <th></th>\n",
       "      <th>genre</th>\n",
       "      <th>na_sales</th>\n",
       "    </tr>\n",
       "  </thead>\n",
       "  <tbody>\n",
       "    <tr>\n",
       "      <th>0</th>\n",
       "      <td>Action</td>\n",
       "      <td>177.84</td>\n",
       "    </tr>\n",
       "    <tr>\n",
       "      <th>1</th>\n",
       "      <td>Shooter</td>\n",
       "      <td>144.77</td>\n",
       "    </tr>\n",
       "    <tr>\n",
       "      <th>2</th>\n",
       "      <td>Sports</td>\n",
       "      <td>81.53</td>\n",
       "    </tr>\n",
       "    <tr>\n",
       "      <th>3</th>\n",
       "      <td>Role-Playing</td>\n",
       "      <td>64.00</td>\n",
       "    </tr>\n",
       "    <tr>\n",
       "      <th>4</th>\n",
       "      <td>Misc</td>\n",
       "      <td>38.19</td>\n",
       "    </tr>\n",
       "  </tbody>\n",
       "</table>\n",
       "</div>"
      ],
      "text/plain": [
       "          genre  na_sales\n",
       "0        Action    177.84\n",
       "1       Shooter    144.77\n",
       "2        Sports     81.53\n",
       "3  Role-Playing     64.00\n",
       "4          Misc     38.19"
      ]
     },
     "execution_count": 43,
     "metadata": {},
     "output_type": "execute_result"
    }
   ],
   "source": [
    "# Самые популярные жанры в Северной Америке\n",
    "na_genre_data = clean_games_data.pivot_table(index='genre', values='na_sales', aggfunc='sum').sort_values('na_sales', ascending=False).reset_index()\n",
    "na_genre_data = na_genre_data.head()\n",
    "na_genre_data"
   ]
  },
  {
   "cell_type": "code",
   "execution_count": 44,
   "metadata": {},
   "outputs": [
    {
     "data": {
      "text/html": [
       "<div>\n",
       "<style scoped>\n",
       "    .dataframe tbody tr th:only-of-type {\n",
       "        vertical-align: middle;\n",
       "    }\n",
       "\n",
       "    .dataframe tbody tr th {\n",
       "        vertical-align: top;\n",
       "    }\n",
       "\n",
       "    .dataframe thead th {\n",
       "        text-align: right;\n",
       "    }\n",
       "</style>\n",
       "<table border=\"1\" class=\"dataframe\">\n",
       "  <thead>\n",
       "    <tr style=\"text-align: right;\">\n",
       "      <th></th>\n",
       "      <th>genre</th>\n",
       "      <th>eu_sales</th>\n",
       "    </tr>\n",
       "  </thead>\n",
       "  <tbody>\n",
       "    <tr>\n",
       "      <th>0</th>\n",
       "      <td>Action</td>\n",
       "      <td>159.34</td>\n",
       "    </tr>\n",
       "    <tr>\n",
       "      <th>1</th>\n",
       "      <td>Shooter</td>\n",
       "      <td>113.47</td>\n",
       "    </tr>\n",
       "    <tr>\n",
       "      <th>2</th>\n",
       "      <td>Sports</td>\n",
       "      <td>69.09</td>\n",
       "    </tr>\n",
       "    <tr>\n",
       "      <th>3</th>\n",
       "      <td>Role-Playing</td>\n",
       "      <td>48.53</td>\n",
       "    </tr>\n",
       "    <tr>\n",
       "      <th>4</th>\n",
       "      <td>Racing</td>\n",
       "      <td>27.29</td>\n",
       "    </tr>\n",
       "  </tbody>\n",
       "</table>\n",
       "</div>"
      ],
      "text/plain": [
       "          genre  eu_sales\n",
       "0        Action    159.34\n",
       "1       Shooter    113.47\n",
       "2        Sports     69.09\n",
       "3  Role-Playing     48.53\n",
       "4        Racing     27.29"
      ]
     },
     "execution_count": 44,
     "metadata": {},
     "output_type": "execute_result"
    }
   ],
   "source": [
    "# Самые популярные жанры в Европе\n",
    "eu_genre_data = clean_games_data.pivot_table(index='genre', values='eu_sales', aggfunc='sum').sort_values('eu_sales', ascending=False).reset_index()\n",
    "eu_genre_data = eu_genre_data.head()\n",
    "eu_genre_data"
   ]
  },
  {
   "cell_type": "code",
   "execution_count": 45,
   "metadata": {},
   "outputs": [
    {
     "data": {
      "text/html": [
       "<div>\n",
       "<style scoped>\n",
       "    .dataframe tbody tr th:only-of-type {\n",
       "        vertical-align: middle;\n",
       "    }\n",
       "\n",
       "    .dataframe tbody tr th {\n",
       "        vertical-align: top;\n",
       "    }\n",
       "\n",
       "    .dataframe thead th {\n",
       "        text-align: right;\n",
       "    }\n",
       "</style>\n",
       "<table border=\"1\" class=\"dataframe\">\n",
       "  <thead>\n",
       "    <tr style=\"text-align: right;\">\n",
       "      <th></th>\n",
       "      <th>genre</th>\n",
       "      <th>jp_sales</th>\n",
       "    </tr>\n",
       "  </thead>\n",
       "  <tbody>\n",
       "    <tr>\n",
       "      <th>0</th>\n",
       "      <td>Role-Playing</td>\n",
       "      <td>65.44</td>\n",
       "    </tr>\n",
       "    <tr>\n",
       "      <th>1</th>\n",
       "      <td>Action</td>\n",
       "      <td>52.80</td>\n",
       "    </tr>\n",
       "    <tr>\n",
       "      <th>2</th>\n",
       "      <td>Misc</td>\n",
       "      <td>12.86</td>\n",
       "    </tr>\n",
       "    <tr>\n",
       "      <th>3</th>\n",
       "      <td>Simulation</td>\n",
       "      <td>10.41</td>\n",
       "    </tr>\n",
       "    <tr>\n",
       "      <th>4</th>\n",
       "      <td>Fighting</td>\n",
       "      <td>9.44</td>\n",
       "    </tr>\n",
       "  </tbody>\n",
       "</table>\n",
       "</div>"
      ],
      "text/plain": [
       "          genre  jp_sales\n",
       "0  Role-Playing     65.44\n",
       "1        Action     52.80\n",
       "2          Misc     12.86\n",
       "3    Simulation     10.41\n",
       "4      Fighting      9.44"
      ]
     },
     "execution_count": 45,
     "metadata": {},
     "output_type": "execute_result"
    }
   ],
   "source": [
    "# Самые популярные жанры в Японии\n",
    "jp_genre_data = clean_games_data.pivot_table(index='genre', values='jp_sales', aggfunc='sum').sort_values('jp_sales', ascending=False).reset_index()\n",
    "jp_genre_data = jp_genre_data.head()\n",
    "jp_genre_data"
   ]
  },
  {
   "cell_type": "markdown",
   "metadata": {},
   "source": [
    "В Северной Америке и Европе предпочтение по жанрам полностью совпадает, там любят такие жанры как Action, Shooter, Sports, Role-Playing, Misc и Racing.\n",
    "\n",
    "В Японии предпочтения несколько отличаются, больше всего там любят Role-Playing, а еще Simulation и Fighting. И также как в Америке и Европе Action и Misc."
   ]
  },
  {
   "cell_type": "code",
   "execution_count": 46,
   "metadata": {},
   "outputs": [
    {
     "data": {
      "text/html": [
       "<div>\n",
       "<style scoped>\n",
       "    .dataframe tbody tr th:only-of-type {\n",
       "        vertical-align: middle;\n",
       "    }\n",
       "\n",
       "    .dataframe tbody tr th {\n",
       "        vertical-align: top;\n",
       "    }\n",
       "\n",
       "    .dataframe thead th {\n",
       "        text-align: right;\n",
       "    }\n",
       "</style>\n",
       "<table border=\"1\" class=\"dataframe\">\n",
       "  <thead>\n",
       "    <tr style=\"text-align: right;\">\n",
       "      <th></th>\n",
       "      <th>rating</th>\n",
       "      <th>eu_sales</th>\n",
       "      <th>jp_sales</th>\n",
       "      <th>na_sales</th>\n",
       "    </tr>\n",
       "  </thead>\n",
       "  <tbody>\n",
       "    <tr>\n",
       "      <th>0</th>\n",
       "      <td>M</td>\n",
       "      <td>193.96</td>\n",
       "      <td>21.20</td>\n",
       "      <td>231.57</td>\n",
       "    </tr>\n",
       "    <tr>\n",
       "      <th>1</th>\n",
       "      <td>E</td>\n",
       "      <td>113.03</td>\n",
       "      <td>28.33</td>\n",
       "      <td>114.37</td>\n",
       "    </tr>\n",
       "    <tr>\n",
       "      <th>2</th>\n",
       "      <td>Неизвестно</td>\n",
       "      <td>91.50</td>\n",
       "      <td>108.84</td>\n",
       "      <td>103.31</td>\n",
       "    </tr>\n",
       "    <tr>\n",
       "      <th>3</th>\n",
       "      <td>E10+</td>\n",
       "      <td>55.37</td>\n",
       "      <td>8.19</td>\n",
       "      <td>75.70</td>\n",
       "    </tr>\n",
       "    <tr>\n",
       "      <th>4</th>\n",
       "      <td>T</td>\n",
       "      <td>52.96</td>\n",
       "      <td>26.02</td>\n",
       "      <td>66.02</td>\n",
       "    </tr>\n",
       "  </tbody>\n",
       "</table>\n",
       "</div>"
      ],
      "text/plain": [
       "       rating  eu_sales  jp_sales  na_sales\n",
       "0           M    193.96     21.20    231.57\n",
       "1           E    113.03     28.33    114.37\n",
       "2  Неизвестно     91.50    108.84    103.31\n",
       "3        E10+     55.37      8.19     75.70\n",
       "4           T     52.96     26.02     66.02"
      ]
     },
     "execution_count": 46,
     "metadata": {},
     "output_type": "execute_result"
    }
   ],
   "source": [
    "# Влияните рейтинга на продажи\n",
    "rating_data = clean_games_data.pivot_table(index='rating', values=['na_sales', 'eu_sales', 'jp_sales'], aggfunc='sum').sort_values('na_sales', ascending=False).reset_index()\n",
    "rating_data"
   ]
  },
  {
   "cell_type": "markdown",
   "metadata": {},
   "source": [
    "Рейтинг определенно влияет на продажи, у рейтингов T и E10+ низкие показатели. У остальных рейтингов показатели продаж достаточно высокие. Но, следует обратить внимание, что на неизвестный рейтинг приходится очень много продаж, поэтому, если восстановить данные о рейтинге, картина для рейтингов T и E10+ может поменяться.\n",
    "\n",
    "И в Европе, и в Северной Америке, и в Японии самые прибыльные рейтинг E, М и Неизвестная категоря."
   ]
  },
  {
   "cell_type": "markdown",
   "metadata": {},
   "source": [
    "## Проверим гипотезы"
   ]
  },
  {
   "cell_type": "markdown",
   "metadata": {},
   "source": [
    "### Средние пользовательские рейтинги платформ Xbox One и PC одинаковые;"
   ]
  },
  {
   "cell_type": "markdown",
   "metadata": {},
   "source": [
    "Сформулируем гипотезу:\n",
    "\n",
    "H0: средние равны\n",
    "\n",
    "H1: средние не равны"
   ]
  },
  {
   "cell_type": "code",
   "execution_count": 47,
   "metadata": {},
   "outputs": [
    {
     "data": {
      "text/html": [
       "<div>\n",
       "<style scoped>\n",
       "    .dataframe tbody tr th:only-of-type {\n",
       "        vertical-align: middle;\n",
       "    }\n",
       "\n",
       "    .dataframe tbody tr th {\n",
       "        vertical-align: top;\n",
       "    }\n",
       "\n",
       "    .dataframe thead th {\n",
       "        text-align: right;\n",
       "    }\n",
       "</style>\n",
       "<table border=\"1\" class=\"dataframe\">\n",
       "  <thead>\n",
       "    <tr style=\"text-align: right;\">\n",
       "      <th></th>\n",
       "      <th>index1</th>\n",
       "      <th>xone_user_score</th>\n",
       "      <th>index2</th>\n",
       "      <th>pc_user_score</th>\n",
       "    </tr>\n",
       "  </thead>\n",
       "  <tbody>\n",
       "    <tr>\n",
       "      <th>0</th>\n",
       "      <td>165.0</td>\n",
       "      <td>7.9</td>\n",
       "      <td>192</td>\n",
       "      <td>4.0</td>\n",
       "    </tr>\n",
       "    <tr>\n",
       "      <th>1</th>\n",
       "      <td>179.0</td>\n",
       "      <td>5.4</td>\n",
       "      <td>458</td>\n",
       "      <td>3.9</td>\n",
       "    </tr>\n",
       "    <tr>\n",
       "      <th>2</th>\n",
       "      <td>242.0</td>\n",
       "      <td>6.4</td>\n",
       "      <td>688</td>\n",
       "      <td>7.9</td>\n",
       "    </tr>\n",
       "    <tr>\n",
       "      <th>3</th>\n",
       "      <td>270.0</td>\n",
       "      <td>6.2</td>\n",
       "      <td>959</td>\n",
       "      <td>4.8</td>\n",
       "    </tr>\n",
       "    <tr>\n",
       "      <th>4</th>\n",
       "      <td>373.0</td>\n",
       "      <td>4.1</td>\n",
       "      <td>1095</td>\n",
       "      <td>7.9</td>\n",
       "    </tr>\n",
       "    <tr>\n",
       "      <th>...</th>\n",
       "      <td>...</td>\n",
       "      <td>...</td>\n",
       "      <td>...</td>\n",
       "      <td>...</td>\n",
       "    </tr>\n",
       "    <tr>\n",
       "      <th>201</th>\n",
       "      <td>NaN</td>\n",
       "      <td>6.8</td>\n",
       "      <td>16463</td>\n",
       "      <td>6.8</td>\n",
       "    </tr>\n",
       "    <tr>\n",
       "      <th>202</th>\n",
       "      <td>NaN</td>\n",
       "      <td>6.8</td>\n",
       "      <td>16509</td>\n",
       "      <td>7.9</td>\n",
       "    </tr>\n",
       "    <tr>\n",
       "      <th>203</th>\n",
       "      <td>NaN</td>\n",
       "      <td>6.8</td>\n",
       "      <td>16518</td>\n",
       "      <td>1.4</td>\n",
       "    </tr>\n",
       "    <tr>\n",
       "      <th>204</th>\n",
       "      <td>NaN</td>\n",
       "      <td>6.8</td>\n",
       "      <td>16584</td>\n",
       "      <td>7.9</td>\n",
       "    </tr>\n",
       "    <tr>\n",
       "      <th>205</th>\n",
       "      <td>NaN</td>\n",
       "      <td>6.8</td>\n",
       "      <td>16692</td>\n",
       "      <td>7.6</td>\n",
       "    </tr>\n",
       "  </tbody>\n",
       "</table>\n",
       "<p>206 rows × 4 columns</p>\n",
       "</div>"
      ],
      "text/plain": [
       "     index1  xone_user_score  index2  pc_user_score\n",
       "0     165.0              7.9     192            4.0\n",
       "1     179.0              5.4     458            3.9\n",
       "2     242.0              6.4     688            7.9\n",
       "3     270.0              6.2     959            4.8\n",
       "4     373.0              4.1    1095            7.9\n",
       "..      ...              ...     ...            ...\n",
       "201     NaN              6.8   16463            6.8\n",
       "202     NaN              6.8   16509            7.9\n",
       "203     NaN              6.8   16518            1.4\n",
       "204     NaN              6.8   16584            7.9\n",
       "205     NaN              6.8   16692            7.6\n",
       "\n",
       "[206 rows x 4 columns]"
      ]
     },
     "execution_count": 47,
     "metadata": {},
     "output_type": "execute_result"
    }
   ],
   "source": [
    "xone = clean_games_data.loc[(clean_games_data['platform'] == 'XOne') &\\\n",
    "                            (clean_games_data['user_score'] != -1) &\\\n",
    "                            (clean_games_data['user_score'] != -2), 'user_score'].reset_index()\n",
    "pc = clean_games_data.loc[(clean_games_data['platform'] == 'PC') &\\\n",
    "                          (clean_games_data['user_score'] != -1) &\\\n",
    "                          (clean_games_data['user_score'] != -2), 'user_score'].reset_index()\n",
    "xone_pc = xone.merge(pc, left_index=True, right_index=True, how='outer')\n",
    "xone_pc.columns = ['index1', 'xone_user_score', 'index2', 'pc_user_score']\n",
    "xone_pc['xone_user_score'] = xone_pc['xone_user_score'].fillna(value=xone_pc['xone_user_score'].median())\n",
    "xone_pc"
   ]
  },
  {
   "cell_type": "code",
   "execution_count": 48,
   "metadata": {},
   "outputs": [
    {
     "name": "stdout",
     "output_type": "stream",
     "text": [
      "p-значение: 0.3953151345702436\n",
      "Не получилось отвергнуть нулевую гипотезу\n"
     ]
    }
   ],
   "source": [
    "alpha = 0.05\n",
    "\n",
    "results = st.ttest_ind(xone_pc['xone_user_score'], xone_pc['pc_user_score'], equal_var = False)\n",
    "\n",
    "# выведите на экран получившееся p-значение\n",
    "print('p-значение:', results.pvalue)\n",
    "\n",
    "if results.pvalue < alpha:\n",
    "    print('Отвергаем нулевую гипотезу')\n",
    "else:\n",
    "    print('Не получилось отвергнуть нулевую гипотезу')"
   ]
  },
  {
   "cell_type": "markdown",
   "metadata": {},
   "source": [
    "H0: 'средние равны' - не получилось отвергнуть."
   ]
  },
  {
   "cell_type": "markdown",
   "metadata": {},
   "source": [
    "### Средние пользовательские рейтинги жанров Action и Sports разные."
   ]
  },
  {
   "cell_type": "markdown",
   "metadata": {},
   "source": [
    "Сформулируем гипотезу:\n",
    "\n",
    "H0: средние равны\n",
    "\n",
    "H1: средние не равны"
   ]
  },
  {
   "cell_type": "code",
   "execution_count": 49,
   "metadata": {},
   "outputs": [
    {
     "data": {
      "text/html": [
       "<div>\n",
       "<style scoped>\n",
       "    .dataframe tbody tr th:only-of-type {\n",
       "        vertical-align: middle;\n",
       "    }\n",
       "\n",
       "    .dataframe tbody tr th {\n",
       "        vertical-align: top;\n",
       "    }\n",
       "\n",
       "    .dataframe thead th {\n",
       "        text-align: right;\n",
       "    }\n",
       "</style>\n",
       "<table border=\"1\" class=\"dataframe\">\n",
       "  <thead>\n",
       "    <tr style=\"text-align: right;\">\n",
       "      <th></th>\n",
       "      <th>index1</th>\n",
       "      <th>action_user_score</th>\n",
       "      <th>index2</th>\n",
       "      <th>sports_user_score</th>\n",
       "    </tr>\n",
       "  </thead>\n",
       "  <tbody>\n",
       "    <tr>\n",
       "      <th>0</th>\n",
       "      <td>16</td>\n",
       "      <td>8.2</td>\n",
       "      <td>77.0</td>\n",
       "      <td>4.3</td>\n",
       "    </tr>\n",
       "    <tr>\n",
       "      <th>1</th>\n",
       "      <td>23</td>\n",
       "      <td>8.1</td>\n",
       "      <td>94.0</td>\n",
       "      <td>5.0</td>\n",
       "    </tr>\n",
       "    <tr>\n",
       "      <th>2</th>\n",
       "      <td>42</td>\n",
       "      <td>8.3</td>\n",
       "      <td>126.0</td>\n",
       "      <td>4.3</td>\n",
       "    </tr>\n",
       "    <tr>\n",
       "      <th>3</th>\n",
       "      <td>81</td>\n",
       "      <td>6.6</td>\n",
       "      <td>143.0</td>\n",
       "      <td>5.7</td>\n",
       "    </tr>\n",
       "    <tr>\n",
       "      <th>4</th>\n",
       "      <td>127</td>\n",
       "      <td>6.9</td>\n",
       "      <td>264.0</td>\n",
       "      <td>4.5</td>\n",
       "    </tr>\n",
       "    <tr>\n",
       "      <th>...</th>\n",
       "      <td>...</td>\n",
       "      <td>...</td>\n",
       "      <td>...</td>\n",
       "      <td>...</td>\n",
       "    </tr>\n",
       "    <tr>\n",
       "      <th>518</th>\n",
       "      <td>16597</td>\n",
       "      <td>6.0</td>\n",
       "      <td>NaN</td>\n",
       "      <td>5.7</td>\n",
       "    </tr>\n",
       "    <tr>\n",
       "      <th>519</th>\n",
       "      <td>16652</td>\n",
       "      <td>8.5</td>\n",
       "      <td>NaN</td>\n",
       "      <td>5.7</td>\n",
       "    </tr>\n",
       "    <tr>\n",
       "      <th>520</th>\n",
       "      <td>16654</td>\n",
       "      <td>5.1</td>\n",
       "      <td>NaN</td>\n",
       "      <td>5.7</td>\n",
       "    </tr>\n",
       "    <tr>\n",
       "      <th>521</th>\n",
       "      <td>16660</td>\n",
       "      <td>6.7</td>\n",
       "      <td>NaN</td>\n",
       "      <td>5.7</td>\n",
       "    </tr>\n",
       "    <tr>\n",
       "      <th>522</th>\n",
       "      <td>16692</td>\n",
       "      <td>7.6</td>\n",
       "      <td>NaN</td>\n",
       "      <td>5.7</td>\n",
       "    </tr>\n",
       "  </tbody>\n",
       "</table>\n",
       "<p>523 rows × 4 columns</p>\n",
       "</div>"
      ],
      "text/plain": [
       "     index1  action_user_score  index2  sports_user_score\n",
       "0        16                8.2    77.0                4.3\n",
       "1        23                8.1    94.0                5.0\n",
       "2        42                8.3   126.0                4.3\n",
       "3        81                6.6   143.0                5.7\n",
       "4       127                6.9   264.0                4.5\n",
       "..      ...                ...     ...                ...\n",
       "518   16597                6.0     NaN                5.7\n",
       "519   16652                8.5     NaN                5.7\n",
       "520   16654                5.1     NaN                5.7\n",
       "521   16660                6.7     NaN                5.7\n",
       "522   16692                7.6     NaN                5.7\n",
       "\n",
       "[523 rows x 4 columns]"
      ]
     },
     "execution_count": 49,
     "metadata": {},
     "output_type": "execute_result"
    }
   ],
   "source": [
    "action = clean_games_data.loc[(clean_games_data['genre'] == 'Action') &\\\n",
    "                              (clean_games_data['user_score'] != -1) &\\\n",
    "                              (clean_games_data['user_score'] != -2), 'user_score'].reset_index()\n",
    "sports = clean_games_data.loc[(clean_games_data['genre'] == 'Sports') &\\\n",
    "                              (clean_games_data['user_score'] != -1) &\\\n",
    "                              (clean_games_data['user_score'] != -2), 'user_score'].reset_index()\n",
    "action_sports = action.merge(sports, left_index=True, right_index=True, how='outer')\n",
    "action_sports.columns = ['index1', 'action_user_score', 'index2', 'sports_user_score']\n",
    "action_sports['sports_user_score'] = action_sports['sports_user_score'].fillna(value=action_sports['sports_user_score'].median())\n",
    "action_sports"
   ]
  },
  {
   "cell_type": "code",
   "execution_count": 50,
   "metadata": {},
   "outputs": [
    {
     "name": "stdout",
     "output_type": "stream",
     "text": [
      "p-значение: 2.6187768804683573e-51\n",
      "Отвергаем нулевую гипотезу\n"
     ]
    }
   ],
   "source": [
    "results2 = st.ttest_ind(action_sports['action_user_score'], action_sports['sports_user_score'], equal_var = False)\n",
    "\n",
    "# выведите на экран получившееся p-значение\n",
    "print('p-значение:', results2.pvalue)\n",
    "\n",
    "if results2.pvalue < alpha:\n",
    "    print('Отвергаем нулевую гипотезу')\n",
    "else:\n",
    "    print('Не получилось отвергнуть нулевую гипотезу')"
   ]
  },
  {
   "cell_type": "markdown",
   "metadata": {},
   "source": [
    "H0: 'средние равны' - отвергаем."
   ]
  },
  {
   "cell_type": "markdown",
   "metadata": {},
   "source": [
    "## Вывод"
   ]
  },
  {
   "cell_type": "markdown",
   "metadata": {},
   "source": [
    "В ходе исследования нам удалось выяснить, что на успешность игры влияют следующие факторы:\n",
    "- Самый прибыльный жанр Shooter. Затем Sports и Platform.\n",
    "- Самые популярные платформы в Европе и Северной Америке PS4, PS3, X360, XOne, 3DS. В Японии - 3DS, PS3, PSV, PS4, WiiU.\n",
    "- В Северной Америке и Европе предпочтения по жанрам полностью совпадают, там любят такие жанры как Action, Shooter, Sports, Role-Playing, Misc и Racing. В Японии больше всего любят Role-Playing, а еще Simulation и Fighting. И также как в Америке и Европе Action и Misc.\n",
    "- И в Европе, и в Северной Америке, и в Японии самые прибыльные рейтинги E и М.\n",
    "- Самые лучшие средние показатели продаж у платформ X360, PS4, XOne и Wii."
   ]
  },
  {
   "cell_type": "code",
   "execution_count": null,
   "metadata": {},
   "outputs": [],
   "source": []
  }
 ],
 "metadata": {
  "ExecuteTimeLog": [
   {
    "duration": 423,
    "start_time": "2023-04-10T08:53:55.643Z"
   },
   {
    "duration": 116,
    "start_time": "2023-04-10T08:54:39.188Z"
   },
   {
    "duration": 15,
    "start_time": "2023-04-10T08:55:05.595Z"
   },
   {
    "duration": 72,
    "start_time": "2023-04-10T09:17:04.164Z"
   },
   {
    "duration": 3,
    "start_time": "2023-04-10T09:17:09.590Z"
   },
   {
    "duration": 242,
    "start_time": "2023-04-10T09:17:09.595Z"
   },
   {
    "duration": 15,
    "start_time": "2023-04-10T09:17:09.839Z"
   },
   {
    "duration": 14,
    "start_time": "2023-04-10T09:17:13.186Z"
   },
   {
    "duration": 22,
    "start_time": "2023-04-10T09:17:33.121Z"
   },
   {
    "duration": 25,
    "start_time": "2023-04-10T09:17:59.724Z"
   },
   {
    "duration": 27,
    "start_time": "2023-04-10T09:18:32.639Z"
   },
   {
    "duration": 25,
    "start_time": "2023-04-10T09:23:00.540Z"
   },
   {
    "duration": 12,
    "start_time": "2023-04-10T09:24:41.697Z"
   },
   {
    "duration": 13,
    "start_time": "2023-04-10T09:25:11.568Z"
   },
   {
    "duration": 14,
    "start_time": "2023-04-10T09:25:16.464Z"
   },
   {
    "duration": 16,
    "start_time": "2023-04-10T09:25:45.624Z"
   },
   {
    "duration": 5,
    "start_time": "2023-04-10T09:32:49.807Z"
   },
   {
    "duration": 4,
    "start_time": "2023-04-10T09:41:17.100Z"
   },
   {
    "duration": 15,
    "start_time": "2023-04-10T09:41:26.892Z"
   },
   {
    "duration": 15,
    "start_time": "2023-04-10T09:54:53.652Z"
   },
   {
    "duration": 9,
    "start_time": "2023-04-10T09:55:05.074Z"
   },
   {
    "duration": 18,
    "start_time": "2023-04-10T09:59:07.349Z"
   },
   {
    "duration": 6,
    "start_time": "2023-04-10T10:00:25.076Z"
   },
   {
    "duration": 9,
    "start_time": "2023-04-10T10:01:23.100Z"
   },
   {
    "duration": 13,
    "start_time": "2023-04-10T10:01:26.296Z"
   },
   {
    "duration": 9,
    "start_time": "2023-04-10T10:01:28.554Z"
   },
   {
    "duration": 14,
    "start_time": "2023-04-10T10:01:39.770Z"
   },
   {
    "duration": 6,
    "start_time": "2023-04-10T10:01:49.204Z"
   },
   {
    "duration": 7,
    "start_time": "2023-04-10T10:02:46.616Z"
   },
   {
    "duration": 28,
    "start_time": "2023-04-10T10:03:31.601Z"
   },
   {
    "duration": 6,
    "start_time": "2023-04-10T10:05:25.816Z"
   },
   {
    "duration": 3,
    "start_time": "2023-04-10T10:07:34.801Z"
   },
   {
    "duration": 71,
    "start_time": "2023-04-10T10:07:34.806Z"
   },
   {
    "duration": 15,
    "start_time": "2023-04-10T10:07:34.879Z"
   },
   {
    "duration": 28,
    "start_time": "2023-04-10T10:07:34.896Z"
   },
   {
    "duration": 10,
    "start_time": "2023-04-10T10:07:37.563Z"
   },
   {
    "duration": 5,
    "start_time": "2023-04-10T10:07:42.770Z"
   },
   {
    "duration": 17,
    "start_time": "2023-04-10T10:07:45.242Z"
   },
   {
    "duration": 5,
    "start_time": "2023-04-10T10:07:47.874Z"
   },
   {
    "duration": 14,
    "start_time": "2023-04-10T10:08:45.717Z"
   },
   {
    "duration": 3,
    "start_time": "2023-04-10T10:08:56.780Z"
   },
   {
    "duration": 117,
    "start_time": "2023-04-10T10:08:56.785Z"
   },
   {
    "duration": 14,
    "start_time": "2023-04-10T10:08:56.904Z"
   },
   {
    "duration": 19,
    "start_time": "2023-04-10T10:08:56.920Z"
   },
   {
    "duration": 19,
    "start_time": "2023-04-10T10:08:56.941Z"
   },
   {
    "duration": 13,
    "start_time": "2023-04-10T10:08:59.316Z"
   },
   {
    "duration": 5,
    "start_time": "2023-04-10T10:09:03.818Z"
   },
   {
    "duration": 20,
    "start_time": "2023-04-10T10:09:06.807Z"
   },
   {
    "duration": 5,
    "start_time": "2023-04-10T10:09:09.515Z"
   },
   {
    "duration": 10,
    "start_time": "2023-04-10T10:09:40.856Z"
   },
   {
    "duration": 5,
    "start_time": "2023-04-10T10:12:53.734Z"
   },
   {
    "duration": 11,
    "start_time": "2023-04-10T10:15:01.002Z"
   },
   {
    "duration": 6,
    "start_time": "2023-04-10T10:15:30.502Z"
   },
   {
    "duration": 6,
    "start_time": "2023-04-10T10:16:27.826Z"
   },
   {
    "duration": 13,
    "start_time": "2023-04-10T10:16:36.553Z"
   },
   {
    "duration": 20,
    "start_time": "2023-04-10T10:56:10.760Z"
   },
   {
    "duration": 4,
    "start_time": "2023-04-10T10:56:18.062Z"
   },
   {
    "duration": 7,
    "start_time": "2023-04-10T10:56:41.318Z"
   },
   {
    "duration": 26,
    "start_time": "2023-04-10T10:56:45.254Z"
   },
   {
    "duration": 451,
    "start_time": "2023-04-10T10:58:05.808Z"
   },
   {
    "duration": 76,
    "start_time": "2023-04-10T10:58:06.262Z"
   },
   {
    "duration": 15,
    "start_time": "2023-04-10T10:58:06.340Z"
   },
   {
    "duration": 22,
    "start_time": "2023-04-10T10:58:06.359Z"
   },
   {
    "duration": 13,
    "start_time": "2023-04-10T10:58:06.383Z"
   },
   {
    "duration": 14,
    "start_time": "2023-04-10T10:58:06.424Z"
   },
   {
    "duration": 6,
    "start_time": "2023-04-10T10:58:06.440Z"
   },
   {
    "duration": 25,
    "start_time": "2023-04-10T10:58:06.448Z"
   },
   {
    "duration": 6,
    "start_time": "2023-04-10T10:58:06.475Z"
   },
   {
    "duration": 39,
    "start_time": "2023-04-10T10:58:06.485Z"
   },
   {
    "duration": 6,
    "start_time": "2023-04-10T10:58:06.526Z"
   },
   {
    "duration": 8,
    "start_time": "2023-04-10T10:58:06.534Z"
   },
   {
    "duration": 10,
    "start_time": "2023-04-10T10:58:06.544Z"
   },
   {
    "duration": 19,
    "start_time": "2023-04-10T10:58:06.557Z"
   },
   {
    "duration": 27,
    "start_time": "2023-04-10T10:58:10.064Z"
   },
   {
    "duration": 26,
    "start_time": "2023-04-10T10:58:35.765Z"
   },
   {
    "duration": 485,
    "start_time": "2023-04-10T10:59:02.781Z"
   },
   {
    "duration": 74,
    "start_time": "2023-04-10T10:59:03.269Z"
   },
   {
    "duration": 17,
    "start_time": "2023-04-10T10:59:03.346Z"
   },
   {
    "duration": 16,
    "start_time": "2023-04-10T10:59:03.365Z"
   },
   {
    "duration": 10,
    "start_time": "2023-04-10T10:59:03.384Z"
   },
   {
    "duration": 12,
    "start_time": "2023-04-10T10:59:03.423Z"
   },
   {
    "duration": 20,
    "start_time": "2023-04-10T10:59:03.437Z"
   },
   {
    "duration": 47,
    "start_time": "2023-04-10T10:59:03.459Z"
   },
   {
    "duration": 16,
    "start_time": "2023-04-10T10:59:03.508Z"
   },
   {
    "duration": 14,
    "start_time": "2023-04-10T10:59:03.526Z"
   },
   {
    "duration": 20,
    "start_time": "2023-04-10T10:59:03.542Z"
   },
   {
    "duration": 12,
    "start_time": "2023-04-10T10:59:03.565Z"
   },
   {
    "duration": 45,
    "start_time": "2023-04-10T10:59:30.603Z"
   },
   {
    "duration": 20,
    "start_time": "2023-04-10T10:59:42.186Z"
   },
   {
    "duration": 39,
    "start_time": "2023-04-10T11:00:01.476Z"
   },
   {
    "duration": 32,
    "start_time": "2023-04-10T11:00:45.221Z"
   },
   {
    "duration": 3,
    "start_time": "2023-04-10T11:00:50.349Z"
   },
   {
    "duration": 107,
    "start_time": "2023-04-10T11:00:50.382Z"
   },
   {
    "duration": 30,
    "start_time": "2023-04-10T11:00:50.493Z"
   },
   {
    "duration": 24,
    "start_time": "2023-04-10T11:00:50.526Z"
   },
   {
    "duration": 32,
    "start_time": "2023-04-10T11:00:50.553Z"
   },
   {
    "duration": 37,
    "start_time": "2023-04-10T11:00:50.589Z"
   },
   {
    "duration": 28,
    "start_time": "2023-04-10T11:00:50.628Z"
   },
   {
    "duration": 69,
    "start_time": "2023-04-10T11:00:50.659Z"
   },
   {
    "duration": 17,
    "start_time": "2023-04-10T11:00:50.731Z"
   },
   {
    "duration": 36,
    "start_time": "2023-04-10T11:00:50.751Z"
   },
   {
    "duration": 64,
    "start_time": "2023-04-10T11:00:50.790Z"
   },
   {
    "duration": 41,
    "start_time": "2023-04-10T11:00:50.856Z"
   },
   {
    "duration": 41,
    "start_time": "2023-04-10T11:00:50.899Z"
   },
   {
    "duration": 42,
    "start_time": "2023-04-10T11:00:50.943Z"
   },
   {
    "duration": 45,
    "start_time": "2023-04-10T11:00:53.418Z"
   },
   {
    "duration": 411,
    "start_time": "2023-04-10T11:01:21.179Z"
   },
   {
    "duration": 96,
    "start_time": "2023-04-10T11:01:21.592Z"
   },
   {
    "duration": 22,
    "start_time": "2023-04-10T11:01:21.690Z"
   },
   {
    "duration": 58,
    "start_time": "2023-04-10T11:01:21.722Z"
   },
   {
    "duration": 18,
    "start_time": "2023-04-10T11:01:21.784Z"
   },
   {
    "duration": 40,
    "start_time": "2023-04-10T11:01:21.804Z"
   },
   {
    "duration": 20,
    "start_time": "2023-04-10T11:01:21.847Z"
   },
   {
    "duration": 34,
    "start_time": "2023-04-10T11:01:21.870Z"
   },
   {
    "duration": 6,
    "start_time": "2023-04-10T11:01:21.907Z"
   },
   {
    "duration": 18,
    "start_time": "2023-04-10T11:01:21.915Z"
   },
   {
    "duration": 5,
    "start_time": "2023-04-10T11:01:21.936Z"
   },
   {
    "duration": 13,
    "start_time": "2023-04-10T11:01:21.944Z"
   },
   {
    "duration": 18,
    "start_time": "2023-04-10T11:01:21.960Z"
   },
   {
    "duration": 16,
    "start_time": "2023-04-10T11:01:21.982Z"
   },
   {
    "duration": 98,
    "start_time": "2023-04-10T11:01:24.430Z"
   },
   {
    "duration": 32,
    "start_time": "2023-04-10T11:02:12.119Z"
   },
   {
    "duration": 5,
    "start_time": "2023-04-10T11:02:34.583Z"
   },
   {
    "duration": 15,
    "start_time": "2023-04-10T11:09:10.449Z"
   },
   {
    "duration": 48,
    "start_time": "2023-04-10T11:09:20.306Z"
   },
   {
    "duration": 396,
    "start_time": "2023-04-10T11:09:44.709Z"
   },
   {
    "duration": 91,
    "start_time": "2023-04-10T11:09:45.110Z"
   },
   {
    "duration": 17,
    "start_time": "2023-04-10T11:09:45.203Z"
   },
   {
    "duration": 24,
    "start_time": "2023-04-10T11:09:45.222Z"
   },
   {
    "duration": 10,
    "start_time": "2023-04-10T11:09:45.248Z"
   },
   {
    "duration": 13,
    "start_time": "2023-04-10T11:09:45.259Z"
   },
   {
    "duration": 7,
    "start_time": "2023-04-10T11:09:45.275Z"
   },
   {
    "duration": 57,
    "start_time": "2023-04-10T11:09:45.284Z"
   },
   {
    "duration": 4,
    "start_time": "2023-04-10T11:09:45.344Z"
   },
   {
    "duration": 6,
    "start_time": "2023-04-10T11:09:45.350Z"
   },
   {
    "duration": 11,
    "start_time": "2023-04-10T11:09:45.358Z"
   },
   {
    "duration": 6,
    "start_time": "2023-04-10T11:09:45.372Z"
   },
   {
    "duration": 13,
    "start_time": "2023-04-10T11:09:45.379Z"
   },
   {
    "duration": 44,
    "start_time": "2023-04-10T11:09:45.395Z"
   },
   {
    "duration": 47,
    "start_time": "2023-04-10T11:09:49.439Z"
   },
   {
    "duration": 6,
    "start_time": "2023-04-10T11:10:02.839Z"
   },
   {
    "duration": 17,
    "start_time": "2023-04-10T11:10:18.725Z"
   },
   {
    "duration": 19,
    "start_time": "2023-04-10T11:15:25.832Z"
   },
   {
    "duration": 8,
    "start_time": "2023-04-10T11:20:33.169Z"
   },
   {
    "duration": 619,
    "start_time": "2023-04-10T11:21:33.494Z"
   },
   {
    "duration": 234,
    "start_time": "2023-04-10T11:21:41.727Z"
   },
   {
    "duration": 192,
    "start_time": "2023-04-10T11:21:47.499Z"
   },
   {
    "duration": 409,
    "start_time": "2023-04-11T04:25:53.387Z"
   },
   {
    "duration": 225,
    "start_time": "2023-04-11T04:25:53.798Z"
   },
   {
    "duration": 17,
    "start_time": "2023-04-11T04:25:54.025Z"
   },
   {
    "duration": 20,
    "start_time": "2023-04-11T04:25:54.043Z"
   },
   {
    "duration": 9,
    "start_time": "2023-04-11T04:25:54.066Z"
   },
   {
    "duration": 11,
    "start_time": "2023-04-11T04:25:54.077Z"
   },
   {
    "duration": 5,
    "start_time": "2023-04-11T04:25:54.090Z"
   },
   {
    "duration": 16,
    "start_time": "2023-04-11T04:25:54.097Z"
   },
   {
    "duration": 3,
    "start_time": "2023-04-11T04:25:54.115Z"
   },
   {
    "duration": 5,
    "start_time": "2023-04-11T04:25:54.120Z"
   },
   {
    "duration": 11,
    "start_time": "2023-04-11T04:25:54.127Z"
   },
   {
    "duration": 11,
    "start_time": "2023-04-11T04:25:54.139Z"
   },
   {
    "duration": 34,
    "start_time": "2023-04-11T04:25:54.152Z"
   },
   {
    "duration": 13,
    "start_time": "2023-04-11T04:25:54.188Z"
   },
   {
    "duration": 6,
    "start_time": "2023-04-11T04:25:54.203Z"
   },
   {
    "duration": 21,
    "start_time": "2023-04-11T04:25:54.210Z"
   },
   {
    "duration": 14,
    "start_time": "2023-04-11T04:25:54.232Z"
   },
   {
    "duration": 585,
    "start_time": "2023-04-11T04:25:58.293Z"
   },
   {
    "duration": 157,
    "start_time": "2023-04-11T04:30:25.745Z"
   },
   {
    "duration": 129,
    "start_time": "2023-04-11T04:30:36.768Z"
   },
   {
    "duration": 183,
    "start_time": "2023-04-11T04:43:21.575Z"
   },
   {
    "duration": 8,
    "start_time": "2023-04-11T04:44:33.662Z"
   },
   {
    "duration": 139,
    "start_time": "2023-04-11T04:45:31.172Z"
   },
   {
    "duration": 161,
    "start_time": "2023-04-11T04:45:41.381Z"
   },
   {
    "duration": 76,
    "start_time": "2023-04-11T04:55:35.496Z"
   },
   {
    "duration": 9,
    "start_time": "2023-04-11T04:55:53.672Z"
   },
   {
    "duration": 12,
    "start_time": "2023-04-11T04:57:20.374Z"
   },
   {
    "duration": 12,
    "start_time": "2023-04-11T04:57:56.133Z"
   },
   {
    "duration": 19,
    "start_time": "2023-04-11T04:58:27.117Z"
   },
   {
    "duration": 6,
    "start_time": "2023-04-11T04:58:52.653Z"
   },
   {
    "duration": 149,
    "start_time": "2023-04-11T04:59:21.923Z"
   },
   {
    "duration": 130,
    "start_time": "2023-04-11T05:04:03.118Z"
   },
   {
    "duration": 79,
    "start_time": "2023-04-11T05:04:55.341Z"
   },
   {
    "duration": 151,
    "start_time": "2023-04-11T05:05:03.628Z"
   },
   {
    "duration": 141,
    "start_time": "2023-04-11T05:10:15.606Z"
   },
   {
    "duration": 152,
    "start_time": "2023-04-11T05:10:31.006Z"
   },
   {
    "duration": 141,
    "start_time": "2023-04-11T05:24:32.981Z"
   },
   {
    "duration": 9,
    "start_time": "2023-04-11T05:28:29.071Z"
   },
   {
    "duration": 118,
    "start_time": "2023-04-11T06:33:16.708Z"
   },
   {
    "duration": 112,
    "start_time": "2023-04-11T06:33:32.932Z"
   },
   {
    "duration": 11,
    "start_time": "2023-04-11T06:34:08.012Z"
   },
   {
    "duration": 13,
    "start_time": "2023-04-11T06:36:25.289Z"
   },
   {
    "duration": 28,
    "start_time": "2023-04-11T06:37:11.537Z"
   },
   {
    "duration": 177,
    "start_time": "2023-04-11T06:40:00.782Z"
   },
   {
    "duration": 28,
    "start_time": "2023-04-11T06:40:07.653Z"
   },
   {
    "duration": 97,
    "start_time": "2023-04-11T06:40:27.020Z"
   },
   {
    "duration": 468,
    "start_time": "2023-04-12T04:48:46.279Z"
   },
   {
    "duration": 286,
    "start_time": "2023-04-12T04:48:46.749Z"
   },
   {
    "duration": 15,
    "start_time": "2023-04-12T04:48:47.036Z"
   },
   {
    "duration": 16,
    "start_time": "2023-04-12T04:48:47.054Z"
   },
   {
    "duration": 10,
    "start_time": "2023-04-12T04:48:47.072Z"
   },
   {
    "duration": 41,
    "start_time": "2023-04-12T04:48:47.088Z"
   },
   {
    "duration": 7,
    "start_time": "2023-04-12T04:48:47.134Z"
   },
   {
    "duration": 22,
    "start_time": "2023-04-12T04:48:47.143Z"
   },
   {
    "duration": 4,
    "start_time": "2023-04-12T04:48:47.167Z"
   },
   {
    "duration": 7,
    "start_time": "2023-04-12T04:48:47.173Z"
   },
   {
    "duration": 9,
    "start_time": "2023-04-12T04:48:47.181Z"
   },
   {
    "duration": 39,
    "start_time": "2023-04-12T04:48:47.196Z"
   },
   {
    "duration": 14,
    "start_time": "2023-04-12T04:48:47.237Z"
   },
   {
    "duration": 15,
    "start_time": "2023-04-12T04:48:47.253Z"
   },
   {
    "duration": 7,
    "start_time": "2023-04-12T04:48:47.269Z"
   },
   {
    "duration": 14,
    "start_time": "2023-04-12T04:48:47.277Z"
   },
   {
    "duration": 50,
    "start_time": "2023-04-12T04:48:47.293Z"
   },
   {
    "duration": 698,
    "start_time": "2023-04-12T04:48:47.345Z"
   },
   {
    "duration": 59,
    "start_time": "2023-04-12T04:49:10.814Z"
   },
   {
    "duration": 27,
    "start_time": "2023-04-12T04:50:26.553Z"
   },
   {
    "duration": 37,
    "start_time": "2023-04-12T04:50:38.809Z"
   },
   {
    "duration": 23,
    "start_time": "2023-04-12T05:00:52.135Z"
   },
   {
    "duration": 116,
    "start_time": "2023-04-12T05:01:18.581Z"
   },
   {
    "duration": 16,
    "start_time": "2023-04-12T05:01:22.115Z"
   },
   {
    "duration": 27,
    "start_time": "2023-04-12T05:01:36.310Z"
   },
   {
    "duration": 32,
    "start_time": "2023-04-12T05:01:59.609Z"
   },
   {
    "duration": 9,
    "start_time": "2023-04-12T05:05:22.478Z"
   },
   {
    "duration": 225,
    "start_time": "2023-04-12T05:10:10.812Z"
   },
   {
    "duration": 291,
    "start_time": "2023-04-12T05:11:12.461Z"
   },
   {
    "duration": 227,
    "start_time": "2023-04-12T05:11:34.740Z"
   },
   {
    "duration": 226,
    "start_time": "2023-04-12T05:11:40.213Z"
   },
   {
    "duration": 277,
    "start_time": "2023-04-12T05:13:21.963Z"
   },
   {
    "duration": 281,
    "start_time": "2023-04-12T05:13:27.815Z"
   },
   {
    "duration": 11,
    "start_time": "2023-04-12T05:27:08.923Z"
   },
   {
    "duration": 8,
    "start_time": "2023-04-12T05:27:38.966Z"
   },
   {
    "duration": 4,
    "start_time": "2023-04-12T05:28:16.965Z"
   },
   {
    "duration": 7,
    "start_time": "2023-04-12T05:29:33.223Z"
   },
   {
    "duration": 10,
    "start_time": "2023-04-12T05:29:49.734Z"
   },
   {
    "duration": 8,
    "start_time": "2023-04-12T05:29:58.632Z"
   },
   {
    "duration": 12,
    "start_time": "2023-04-12T05:30:43.657Z"
   },
   {
    "duration": 11,
    "start_time": "2023-04-12T05:44:51.260Z"
   },
   {
    "duration": 8,
    "start_time": "2023-04-12T05:45:02.635Z"
   },
   {
    "duration": 8,
    "start_time": "2023-04-12T05:45:20.532Z"
   },
   {
    "duration": 14,
    "start_time": "2023-04-12T05:45:33.118Z"
   },
   {
    "duration": 16,
    "start_time": "2023-04-12T05:46:36.168Z"
   },
   {
    "duration": 22,
    "start_time": "2023-04-12T05:46:52.530Z"
   },
   {
    "duration": 22,
    "start_time": "2023-04-12T05:46:58.015Z"
   },
   {
    "duration": 12,
    "start_time": "2023-04-12T05:48:28.117Z"
   },
   {
    "duration": 25,
    "start_time": "2023-04-12T05:51:13.016Z"
   },
   {
    "duration": 2511,
    "start_time": "2023-04-12T05:52:20.933Z"
   },
   {
    "duration": 23,
    "start_time": "2023-04-12T05:52:34.214Z"
   },
   {
    "duration": 2108,
    "start_time": "2023-04-12T05:53:00.351Z"
   },
   {
    "duration": 15,
    "start_time": "2023-04-12T05:53:31.926Z"
   },
   {
    "duration": 1982,
    "start_time": "2023-04-12T05:53:59.018Z"
   },
   {
    "duration": 20,
    "start_time": "2023-04-12T05:54:18.513Z"
   },
   {
    "duration": 16,
    "start_time": "2023-04-12T05:54:41.149Z"
   },
   {
    "duration": 30,
    "start_time": "2023-04-12T05:55:28.628Z"
   },
   {
    "duration": 25,
    "start_time": "2023-04-12T05:55:48.451Z"
   },
   {
    "duration": 105,
    "start_time": "2023-04-12T05:55:54.030Z"
   },
   {
    "duration": 10,
    "start_time": "2023-04-12T05:55:57.638Z"
   },
   {
    "duration": 9,
    "start_time": "2023-04-12T05:56:04.132Z"
   },
   {
    "duration": 92,
    "start_time": "2023-04-12T05:59:42.479Z"
   },
   {
    "duration": 208,
    "start_time": "2023-04-12T06:00:57.776Z"
   },
   {
    "duration": 97,
    "start_time": "2023-04-12T06:01:04.469Z"
   },
   {
    "duration": 78,
    "start_time": "2023-04-12T06:01:21.797Z"
   },
   {
    "duration": 6,
    "start_time": "2023-04-12T08:30:23.200Z"
   },
   {
    "duration": 8,
    "start_time": "2023-04-12T08:30:31.630Z"
   },
   {
    "duration": 18,
    "start_time": "2023-04-12T08:30:45.718Z"
   },
   {
    "duration": 10,
    "start_time": "2023-04-12T08:30:56.966Z"
   },
   {
    "duration": 9,
    "start_time": "2023-04-12T08:31:18.104Z"
   },
   {
    "duration": 9,
    "start_time": "2023-04-12T08:31:25.413Z"
   },
   {
    "duration": 32,
    "start_time": "2023-04-12T08:42:53.024Z"
   },
   {
    "duration": 7,
    "start_time": "2023-04-12T08:43:20.814Z"
   },
   {
    "duration": 535,
    "start_time": "2023-04-12T08:51:26.516Z"
   },
   {
    "duration": 497,
    "start_time": "2023-04-12T08:51:37.157Z"
   },
   {
    "duration": 596,
    "start_time": "2023-04-12T08:51:42.675Z"
   },
   {
    "duration": 555,
    "start_time": "2023-04-12T08:51:51.910Z"
   },
   {
    "duration": 8,
    "start_time": "2023-04-12T08:52:40.405Z"
   },
   {
    "duration": 499,
    "start_time": "2023-04-12T08:52:42.126Z"
   },
   {
    "duration": 492,
    "start_time": "2023-04-12T08:56:04.879Z"
   },
   {
    "duration": 195,
    "start_time": "2023-04-12T08:56:38.422Z"
   },
   {
    "duration": 518,
    "start_time": "2023-04-12T08:56:46.767Z"
   },
   {
    "duration": 486,
    "start_time": "2023-04-12T08:57:15.870Z"
   },
   {
    "duration": 634,
    "start_time": "2023-04-12T08:57:38.812Z"
   },
   {
    "duration": 704,
    "start_time": "2023-04-12T08:57:46.045Z"
   },
   {
    "duration": 593,
    "start_time": "2023-04-12T08:57:56.381Z"
   },
   {
    "duration": 639,
    "start_time": "2023-04-12T08:58:02.574Z"
   },
   {
    "duration": 472,
    "start_time": "2023-04-12T09:00:27.514Z"
   },
   {
    "duration": 560,
    "start_time": "2023-04-12T09:00:50.209Z"
   },
   {
    "duration": 616,
    "start_time": "2023-04-12T09:08:06.580Z"
   },
   {
    "duration": 466,
    "start_time": "2023-04-12T09:11:37.908Z"
   },
   {
    "duration": 467,
    "start_time": "2023-04-12T09:13:11.737Z"
   },
   {
    "duration": 448,
    "start_time": "2023-04-12T09:14:33.512Z"
   },
   {
    "duration": 18,
    "start_time": "2023-04-12T10:07:31.330Z"
   },
   {
    "duration": 14,
    "start_time": "2023-04-12T10:08:06.950Z"
   },
   {
    "duration": 11,
    "start_time": "2023-04-12T10:08:14.479Z"
   },
   {
    "duration": 118,
    "start_time": "2023-04-12T10:08:31.342Z"
   },
   {
    "duration": 9,
    "start_time": "2023-04-12T10:08:51.622Z"
   },
   {
    "duration": 130,
    "start_time": "2023-04-12T10:10:23.786Z"
   },
   {
    "duration": 16,
    "start_time": "2023-04-12T10:59:11.123Z"
   },
   {
    "duration": 146,
    "start_time": "2023-04-12T10:59:18.728Z"
   },
   {
    "duration": 134,
    "start_time": "2023-04-12T10:59:25.812Z"
   },
   {
    "duration": 141,
    "start_time": "2023-04-12T10:59:30.280Z"
   },
   {
    "duration": 164,
    "start_time": "2023-04-12T10:59:50.240Z"
   },
   {
    "duration": 221,
    "start_time": "2023-04-12T11:00:53.503Z"
   },
   {
    "duration": 437,
    "start_time": "2023-04-12T11:01:04.360Z"
   },
   {
    "duration": 293,
    "start_time": "2023-04-12T11:01:23.622Z"
   },
   {
    "duration": 274,
    "start_time": "2023-04-12T11:01:34.034Z"
   },
   {
    "duration": 156,
    "start_time": "2023-04-12T11:01:42.621Z"
   },
   {
    "duration": 167,
    "start_time": "2023-04-12T11:02:14.006Z"
   },
   {
    "duration": 186,
    "start_time": "2023-04-12T11:02:28.533Z"
   },
   {
    "duration": 191,
    "start_time": "2023-04-12T11:03:06.741Z"
   },
   {
    "duration": 205,
    "start_time": "2023-04-12T11:03:12.444Z"
   },
   {
    "duration": 244,
    "start_time": "2023-04-12T11:03:23.019Z"
   },
   {
    "duration": 182,
    "start_time": "2023-04-12T11:03:30.140Z"
   },
   {
    "duration": 219,
    "start_time": "2023-04-12T11:05:20.308Z"
   },
   {
    "duration": 188,
    "start_time": "2023-04-12T11:06:03.256Z"
   },
   {
    "duration": 171,
    "start_time": "2023-04-12T11:06:41.241Z"
   },
   {
    "duration": 167,
    "start_time": "2023-04-12T11:06:48.224Z"
   },
   {
    "duration": 186,
    "start_time": "2023-04-12T11:07:27.337Z"
   },
   {
    "duration": 8,
    "start_time": "2023-04-12T11:09:07.468Z"
   },
   {
    "duration": 263,
    "start_time": "2023-04-12T11:27:28.499Z"
   },
   {
    "duration": 187,
    "start_time": "2023-04-12T11:30:43.799Z"
   },
   {
    "duration": 16,
    "start_time": "2023-04-12T11:31:02.072Z"
   },
   {
    "duration": 852,
    "start_time": "2023-04-12T11:33:49.460Z"
   },
   {
    "duration": 204,
    "start_time": "2023-04-12T11:34:01.115Z"
   },
   {
    "duration": 151,
    "start_time": "2023-04-12T11:35:28.457Z"
   },
   {
    "duration": 43,
    "start_time": "2023-04-12T11:38:22.934Z"
   },
   {
    "duration": 17,
    "start_time": "2023-04-12T11:38:29.558Z"
   },
   {
    "duration": 22,
    "start_time": "2023-04-12T11:43:49.752Z"
   },
   {
    "duration": 16,
    "start_time": "2023-04-12T11:44:37.064Z"
   },
   {
    "duration": 186,
    "start_time": "2023-04-12T11:45:27.317Z"
   },
   {
    "duration": 85,
    "start_time": "2023-04-12T11:45:45.768Z"
   },
   {
    "duration": 147,
    "start_time": "2023-04-12T11:45:48.992Z"
   },
   {
    "duration": 186,
    "start_time": "2023-04-12T11:46:00.541Z"
   },
   {
    "duration": 138,
    "start_time": "2023-04-12T11:46:05.965Z"
   },
   {
    "duration": 133,
    "start_time": "2023-04-12T11:49:21.473Z"
   },
   {
    "duration": 223,
    "start_time": "2023-04-12T11:49:28.500Z"
   },
   {
    "duration": 245,
    "start_time": "2023-04-12T11:49:39.604Z"
   },
   {
    "duration": 165,
    "start_time": "2023-04-12T11:50:24.300Z"
   },
   {
    "duration": 171,
    "start_time": "2023-04-12T11:50:32.702Z"
   },
   {
    "duration": 243,
    "start_time": "2023-04-12T11:50:37.401Z"
   },
   {
    "duration": 12,
    "start_time": "2023-04-12T11:52:50.548Z"
   },
   {
    "duration": 15,
    "start_time": "2023-04-12T11:52:52.802Z"
   },
   {
    "duration": 164,
    "start_time": "2023-04-12T11:53:21.259Z"
   },
   {
    "duration": 220,
    "start_time": "2023-04-12T11:53:38.307Z"
   },
   {
    "duration": 228,
    "start_time": "2023-04-12T11:53:47.475Z"
   },
   {
    "duration": 247,
    "start_time": "2023-04-12T11:54:03.466Z"
   },
   {
    "duration": 261,
    "start_time": "2023-04-12T11:54:21.831Z"
   },
   {
    "duration": 253,
    "start_time": "2023-04-12T11:54:27.475Z"
   },
   {
    "duration": 454,
    "start_time": "2023-04-12T11:54:48.535Z"
   },
   {
    "duration": 247,
    "start_time": "2023-04-12T11:55:12.473Z"
   },
   {
    "duration": 20,
    "start_time": "2023-04-12T11:55:46.198Z"
   },
   {
    "duration": 19,
    "start_time": "2023-04-12T11:56:30.912Z"
   },
   {
    "duration": 28,
    "start_time": "2023-04-12T11:57:08.352Z"
   },
   {
    "duration": 4390,
    "start_time": "2023-04-12T11:57:19.866Z"
   },
   {
    "duration": 330,
    "start_time": "2023-04-12T11:57:31.616Z"
   },
   {
    "duration": 242,
    "start_time": "2023-04-12T11:57:47.270Z"
   },
   {
    "duration": 17,
    "start_time": "2023-04-12T11:59:00.518Z"
   },
   {
    "duration": 24,
    "start_time": "2023-04-12T12:02:16.370Z"
   },
   {
    "duration": 25,
    "start_time": "2023-04-12T12:05:08.917Z"
   },
   {
    "duration": 19,
    "start_time": "2023-04-12T12:05:33.221Z"
   },
   {
    "duration": 17,
    "start_time": "2023-04-12T12:06:36.243Z"
   },
   {
    "duration": 3174,
    "start_time": "2023-04-12T12:07:19.282Z"
   },
   {
    "duration": 259,
    "start_time": "2023-04-12T12:07:51.345Z"
   },
   {
    "duration": 352,
    "start_time": "2023-04-12T12:29:32.319Z"
   },
   {
    "duration": 24,
    "start_time": "2023-04-12T12:29:39.607Z"
   },
   {
    "duration": 32,
    "start_time": "2023-04-12T12:30:23.278Z"
   },
   {
    "duration": 483,
    "start_time": "2023-04-12T12:31:41.271Z"
   },
   {
    "duration": 37,
    "start_time": "2023-04-12T12:31:52.235Z"
   },
   {
    "duration": 32,
    "start_time": "2023-04-12T12:32:41.963Z"
   },
   {
    "duration": 298,
    "start_time": "2023-04-12T12:38:51.715Z"
   },
   {
    "duration": 579,
    "start_time": "2023-04-12T12:39:03.027Z"
   },
   {
    "duration": 19,
    "start_time": "2023-04-12T12:39:44.049Z"
   },
   {
    "duration": 26,
    "start_time": "2023-04-12T12:40:22.881Z"
   },
   {
    "duration": 36,
    "start_time": "2023-04-12T12:40:59.648Z"
   },
   {
    "duration": 27,
    "start_time": "2023-04-12T12:41:10.976Z"
   },
   {
    "duration": 24,
    "start_time": "2023-04-12T12:41:19.794Z"
   },
   {
    "duration": 30,
    "start_time": "2023-04-12T12:43:16.837Z"
   },
   {
    "duration": 27,
    "start_time": "2023-04-12T12:44:19.748Z"
   },
   {
    "duration": 44,
    "start_time": "2023-04-12T12:45:58.563Z"
   },
   {
    "duration": 27,
    "start_time": "2023-04-12T12:48:17.735Z"
   },
   {
    "duration": 24,
    "start_time": "2023-04-12T12:50:24.716Z"
   },
   {
    "duration": 37,
    "start_time": "2023-04-12T12:50:40.565Z"
   },
   {
    "duration": 26,
    "start_time": "2023-04-12T12:50:49.059Z"
   },
   {
    "duration": 444,
    "start_time": "2023-04-12T12:51:09.056Z"
   },
   {
    "duration": 82,
    "start_time": "2023-04-12T12:51:09.502Z"
   },
   {
    "duration": 15,
    "start_time": "2023-04-12T12:51:09.586Z"
   },
   {
    "duration": 24,
    "start_time": "2023-04-12T12:51:09.604Z"
   },
   {
    "duration": 11,
    "start_time": "2023-04-12T12:51:09.630Z"
   },
   {
    "duration": 11,
    "start_time": "2023-04-12T12:51:09.644Z"
   },
   {
    "duration": 32,
    "start_time": "2023-04-12T12:51:09.657Z"
   },
   {
    "duration": 17,
    "start_time": "2023-04-12T12:51:09.691Z"
   },
   {
    "duration": 7,
    "start_time": "2023-04-12T12:51:09.710Z"
   },
   {
    "duration": 7,
    "start_time": "2023-04-12T12:51:09.720Z"
   },
   {
    "duration": 15,
    "start_time": "2023-04-12T12:51:09.729Z"
   },
   {
    "duration": 6,
    "start_time": "2023-04-12T12:51:09.746Z"
   },
   {
    "duration": 33,
    "start_time": "2023-04-12T12:51:09.755Z"
   },
   {
    "duration": 13,
    "start_time": "2023-04-12T12:51:09.790Z"
   },
   {
    "duration": 12,
    "start_time": "2023-04-12T12:51:09.805Z"
   },
   {
    "duration": 26,
    "start_time": "2023-04-12T12:51:09.819Z"
   },
   {
    "duration": 17,
    "start_time": "2023-04-12T12:51:09.846Z"
   },
   {
    "duration": 465,
    "start_time": "2023-04-12T12:51:09.865Z"
   },
   {
    "duration": 12,
    "start_time": "2023-04-12T12:51:10.332Z"
   },
   {
    "duration": 352,
    "start_time": "2023-04-12T12:51:10.345Z"
   },
   {
    "duration": 13,
    "start_time": "2023-04-12T12:51:10.699Z"
   },
   {
    "duration": 14,
    "start_time": "2023-04-12T12:51:10.715Z"
   },
   {
    "duration": 590,
    "start_time": "2023-04-12T12:51:10.733Z"
   },
   {
    "duration": 187,
    "start_time": "2023-04-12T12:51:11.325Z"
   },
   {
    "duration": 182,
    "start_time": "2023-04-12T12:51:11.514Z"
   },
   {
    "duration": 175,
    "start_time": "2023-04-12T12:51:11.698Z"
   },
   {
    "duration": 16,
    "start_time": "2023-04-12T12:51:11.875Z"
   },
   {
    "duration": 233,
    "start_time": "2023-04-12T12:51:11.895Z"
   },
   {
    "duration": 233,
    "start_time": "2023-04-12T12:51:12.129Z"
   },
   {
    "duration": 105,
    "start_time": "2023-04-12T12:51:16.443Z"
   },
   {
    "duration": 41,
    "start_time": "2023-04-12T12:52:53.290Z"
   },
   {
    "duration": 29,
    "start_time": "2023-04-12T12:53:35.048Z"
   },
   {
    "duration": 30,
    "start_time": "2023-04-12T12:54:11.880Z"
   },
   {
    "duration": 40,
    "start_time": "2023-04-12T12:55:10.232Z"
   },
   {
    "duration": 31,
    "start_time": "2023-04-12T12:55:26.783Z"
   },
   {
    "duration": 30,
    "start_time": "2023-04-12T12:55:32.207Z"
   },
   {
    "duration": 45,
    "start_time": "2023-04-12T12:55:48.021Z"
   },
   {
    "duration": 30,
    "start_time": "2023-04-12T12:55:58.430Z"
   },
   {
    "duration": 2572,
    "start_time": "2023-04-12T13:10:07.813Z"
   },
   {
    "duration": 22,
    "start_time": "2023-04-12T13:11:14.051Z"
   },
   {
    "duration": 24,
    "start_time": "2023-04-12T13:11:32.148Z"
   },
   {
    "duration": 22,
    "start_time": "2023-04-12T13:12:57.929Z"
   },
   {
    "duration": 17,
    "start_time": "2023-04-12T13:30:16.569Z"
   },
   {
    "duration": 17,
    "start_time": "2023-04-12T13:30:59.772Z"
   },
   {
    "duration": 17,
    "start_time": "2023-04-12T13:31:13.107Z"
   },
   {
    "duration": 16,
    "start_time": "2023-04-12T13:32:12.179Z"
   },
   {
    "duration": 18,
    "start_time": "2023-04-12T13:32:42.786Z"
   },
   {
    "duration": 16,
    "start_time": "2023-04-12T13:37:02.629Z"
   },
   {
    "duration": 16,
    "start_time": "2023-04-12T13:37:39.971Z"
   },
   {
    "duration": 15,
    "start_time": "2023-04-12T13:37:51.495Z"
   },
   {
    "duration": 19,
    "start_time": "2023-04-12T13:39:05.034Z"
   },
   {
    "duration": 412,
    "start_time": "2023-04-12T14:18:59.304Z"
   },
   {
    "duration": 13,
    "start_time": "2023-04-12T14:19:57.871Z"
   },
   {
    "duration": 47,
    "start_time": "2023-04-12T14:20:11.854Z"
   },
   {
    "duration": 11,
    "start_time": "2023-04-12T14:20:19.351Z"
   },
   {
    "duration": 5,
    "start_time": "2023-04-12T14:21:04.694Z"
   },
   {
    "duration": 5,
    "start_time": "2023-04-12T14:21:12.781Z"
   },
   {
    "duration": 11,
    "start_time": "2023-04-12T14:21:33.422Z"
   },
   {
    "duration": 11,
    "start_time": "2023-04-12T14:21:52.317Z"
   },
   {
    "duration": 11,
    "start_time": "2023-04-12T14:21:59.444Z"
   },
   {
    "duration": 9,
    "start_time": "2023-04-12T14:28:56.283Z"
   },
   {
    "duration": 10,
    "start_time": "2023-04-12T14:29:30.914Z"
   },
   {
    "duration": 5,
    "start_time": "2023-04-12T14:32:05.260Z"
   },
   {
    "duration": 7,
    "start_time": "2023-04-12T14:33:03.671Z"
   },
   {
    "duration": 14,
    "start_time": "2023-04-12T14:33:51.118Z"
   },
   {
    "duration": 13,
    "start_time": "2023-04-12T14:35:27.812Z"
   },
   {
    "duration": 15,
    "start_time": "2023-04-12T14:35:42.884Z"
   },
   {
    "duration": 10,
    "start_time": "2023-04-12T14:36:10.659Z"
   },
   {
    "duration": 10,
    "start_time": "2023-04-12T14:36:19.914Z"
   },
   {
    "duration": 93,
    "start_time": "2023-04-12T14:36:27.178Z"
   },
   {
    "duration": 19,
    "start_time": "2023-04-12T14:38:27.953Z"
   },
   {
    "duration": 0,
    "start_time": "2023-04-12T14:39:14.396Z"
   },
   {
    "duration": 21,
    "start_time": "2023-04-12T14:39:22.196Z"
   },
   {
    "duration": 14,
    "start_time": "2023-04-12T14:39:37.811Z"
   },
   {
    "duration": 23,
    "start_time": "2023-04-12T14:41:38.636Z"
   },
   {
    "duration": 449,
    "start_time": "2023-04-12T14:41:53.570Z"
   },
   {
    "duration": 94,
    "start_time": "2023-04-12T14:41:54.021Z"
   },
   {
    "duration": 15,
    "start_time": "2023-04-12T14:41:54.117Z"
   },
   {
    "duration": 26,
    "start_time": "2023-04-12T14:41:54.134Z"
   },
   {
    "duration": 10,
    "start_time": "2023-04-12T14:41:54.162Z"
   },
   {
    "duration": 30,
    "start_time": "2023-04-12T14:41:54.174Z"
   },
   {
    "duration": 6,
    "start_time": "2023-04-12T14:41:54.205Z"
   },
   {
    "duration": 23,
    "start_time": "2023-04-12T14:41:54.213Z"
   },
   {
    "duration": 6,
    "start_time": "2023-04-12T14:41:54.238Z"
   },
   {
    "duration": 10,
    "start_time": "2023-04-12T14:41:54.247Z"
   },
   {
    "duration": 97,
    "start_time": "2023-04-12T14:41:54.258Z"
   },
   {
    "duration": 0,
    "start_time": "2023-04-12T14:41:54.357Z"
   },
   {
    "duration": 0,
    "start_time": "2023-04-12T14:41:54.358Z"
   },
   {
    "duration": 0,
    "start_time": "2023-04-12T14:41:54.359Z"
   },
   {
    "duration": 0,
    "start_time": "2023-04-12T14:41:54.360Z"
   },
   {
    "duration": 0,
    "start_time": "2023-04-12T14:41:54.361Z"
   },
   {
    "duration": 0,
    "start_time": "2023-04-12T14:41:54.362Z"
   },
   {
    "duration": 0,
    "start_time": "2023-04-12T14:41:54.363Z"
   },
   {
    "duration": 0,
    "start_time": "2023-04-12T14:41:54.366Z"
   },
   {
    "duration": 0,
    "start_time": "2023-04-12T14:41:54.367Z"
   },
   {
    "duration": 0,
    "start_time": "2023-04-12T14:41:54.368Z"
   },
   {
    "duration": 0,
    "start_time": "2023-04-12T14:41:54.388Z"
   },
   {
    "duration": 0,
    "start_time": "2023-04-12T14:41:54.389Z"
   },
   {
    "duration": 0,
    "start_time": "2023-04-12T14:41:54.390Z"
   },
   {
    "duration": 0,
    "start_time": "2023-04-12T14:41:54.392Z"
   },
   {
    "duration": 0,
    "start_time": "2023-04-12T14:41:54.393Z"
   },
   {
    "duration": 0,
    "start_time": "2023-04-12T14:41:54.394Z"
   },
   {
    "duration": 0,
    "start_time": "2023-04-12T14:41:54.395Z"
   },
   {
    "duration": 0,
    "start_time": "2023-04-12T14:41:54.396Z"
   },
   {
    "duration": 0,
    "start_time": "2023-04-12T14:41:54.397Z"
   },
   {
    "duration": 0,
    "start_time": "2023-04-12T14:41:54.398Z"
   },
   {
    "duration": 0,
    "start_time": "2023-04-12T14:41:54.399Z"
   },
   {
    "duration": 0,
    "start_time": "2023-04-12T14:41:54.400Z"
   },
   {
    "duration": 0,
    "start_time": "2023-04-12T14:41:54.401Z"
   },
   {
    "duration": 0,
    "start_time": "2023-04-12T14:41:54.402Z"
   },
   {
    "duration": 0,
    "start_time": "2023-04-12T14:41:54.403Z"
   },
   {
    "duration": 3,
    "start_time": "2023-04-12T14:42:11.785Z"
   },
   {
    "duration": 78,
    "start_time": "2023-04-12T14:42:11.789Z"
   },
   {
    "duration": 18,
    "start_time": "2023-04-12T14:42:11.869Z"
   },
   {
    "duration": 14,
    "start_time": "2023-04-12T14:42:11.889Z"
   },
   {
    "duration": 9,
    "start_time": "2023-04-12T14:42:11.905Z"
   },
   {
    "duration": 32,
    "start_time": "2023-04-12T14:42:11.915Z"
   },
   {
    "duration": 7,
    "start_time": "2023-04-12T14:42:11.948Z"
   },
   {
    "duration": 20,
    "start_time": "2023-04-12T14:42:11.957Z"
   },
   {
    "duration": 8,
    "start_time": "2023-04-12T14:42:11.980Z"
   },
   {
    "duration": 20,
    "start_time": "2023-04-12T14:42:11.990Z"
   },
   {
    "duration": 18,
    "start_time": "2023-04-12T14:42:12.012Z"
   },
   {
    "duration": 0,
    "start_time": "2023-04-12T14:42:12.032Z"
   },
   {
    "duration": 0,
    "start_time": "2023-04-12T14:42:12.033Z"
   },
   {
    "duration": 0,
    "start_time": "2023-04-12T14:42:12.034Z"
   },
   {
    "duration": 0,
    "start_time": "2023-04-12T14:42:12.035Z"
   },
   {
    "duration": 0,
    "start_time": "2023-04-12T14:42:12.036Z"
   },
   {
    "duration": 0,
    "start_time": "2023-04-12T14:42:12.037Z"
   },
   {
    "duration": 0,
    "start_time": "2023-04-12T14:42:12.038Z"
   },
   {
    "duration": 0,
    "start_time": "2023-04-12T14:42:12.039Z"
   },
   {
    "duration": 0,
    "start_time": "2023-04-12T14:42:12.040Z"
   },
   {
    "duration": 0,
    "start_time": "2023-04-12T14:42:12.040Z"
   },
   {
    "duration": 0,
    "start_time": "2023-04-12T14:42:12.042Z"
   },
   {
    "duration": 0,
    "start_time": "2023-04-12T14:42:12.043Z"
   },
   {
    "duration": 0,
    "start_time": "2023-04-12T14:42:12.044Z"
   },
   {
    "duration": 0,
    "start_time": "2023-04-12T14:42:12.045Z"
   },
   {
    "duration": 0,
    "start_time": "2023-04-12T14:42:12.045Z"
   },
   {
    "duration": 0,
    "start_time": "2023-04-12T14:42:12.046Z"
   },
   {
    "duration": 0,
    "start_time": "2023-04-12T14:42:12.047Z"
   },
   {
    "duration": 0,
    "start_time": "2023-04-12T14:42:12.048Z"
   },
   {
    "duration": 0,
    "start_time": "2023-04-12T14:42:12.049Z"
   },
   {
    "duration": 0,
    "start_time": "2023-04-12T14:42:12.050Z"
   },
   {
    "duration": 0,
    "start_time": "2023-04-12T14:42:12.051Z"
   },
   {
    "duration": 0,
    "start_time": "2023-04-12T14:42:12.052Z"
   },
   {
    "duration": 0,
    "start_time": "2023-04-12T14:42:12.053Z"
   },
   {
    "duration": 0,
    "start_time": "2023-04-12T14:42:12.055Z"
   },
   {
    "duration": 0,
    "start_time": "2023-04-12T14:42:12.055Z"
   },
   {
    "duration": 15,
    "start_time": "2023-04-12T14:43:38.213Z"
   },
   {
    "duration": 25,
    "start_time": "2023-04-12T14:44:21.537Z"
   },
   {
    "duration": 446,
    "start_time": "2023-04-12T14:44:34.058Z"
   },
   {
    "duration": 81,
    "start_time": "2023-04-12T14:44:34.506Z"
   },
   {
    "duration": 17,
    "start_time": "2023-04-12T14:44:34.589Z"
   },
   {
    "duration": 29,
    "start_time": "2023-04-12T14:44:34.609Z"
   },
   {
    "duration": 10,
    "start_time": "2023-04-12T14:44:34.640Z"
   },
   {
    "duration": 19,
    "start_time": "2023-04-12T14:44:34.652Z"
   },
   {
    "duration": 16,
    "start_time": "2023-04-12T14:44:34.673Z"
   },
   {
    "duration": 28,
    "start_time": "2023-04-12T14:44:34.691Z"
   },
   {
    "duration": 5,
    "start_time": "2023-04-12T14:44:34.721Z"
   },
   {
    "duration": 11,
    "start_time": "2023-04-12T14:44:34.729Z"
   },
   {
    "duration": 31,
    "start_time": "2023-04-12T14:44:34.742Z"
   },
   {
    "duration": 14,
    "start_time": "2023-04-12T14:44:34.774Z"
   },
   {
    "duration": 31,
    "start_time": "2023-04-12T14:44:34.790Z"
   },
   {
    "duration": 16,
    "start_time": "2023-04-12T14:44:34.823Z"
   },
   {
    "duration": 7,
    "start_time": "2023-04-12T14:44:34.841Z"
   },
   {
    "duration": 22,
    "start_time": "2023-04-12T14:44:34.849Z"
   },
   {
    "duration": 22,
    "start_time": "2023-04-12T14:44:34.873Z"
   },
   {
    "duration": 482,
    "start_time": "2023-04-12T14:44:34.896Z"
   },
   {
    "duration": 18,
    "start_time": "2023-04-12T14:44:35.380Z"
   },
   {
    "duration": 257,
    "start_time": "2023-04-12T14:44:35.400Z"
   },
   {
    "duration": 10,
    "start_time": "2023-04-12T14:44:35.659Z"
   },
   {
    "duration": 21,
    "start_time": "2023-04-12T14:44:35.670Z"
   },
   {
    "duration": 506,
    "start_time": "2023-04-12T14:44:35.693Z"
   },
   {
    "duration": 174,
    "start_time": "2023-04-12T14:44:36.201Z"
   },
   {
    "duration": 190,
    "start_time": "2023-04-12T14:44:36.376Z"
   },
   {
    "duration": 174,
    "start_time": "2023-04-12T14:44:36.568Z"
   },
   {
    "duration": 7,
    "start_time": "2023-04-12T14:44:36.744Z"
   },
   {
    "duration": 250,
    "start_time": "2023-04-12T14:44:36.754Z"
   },
   {
    "duration": 240,
    "start_time": "2023-04-12T14:44:37.006Z"
   },
   {
    "duration": 24,
    "start_time": "2023-04-12T14:44:37.248Z"
   },
   {
    "duration": 33,
    "start_time": "2023-04-12T14:44:37.273Z"
   },
   {
    "duration": 21,
    "start_time": "2023-04-12T14:44:37.308Z"
   },
   {
    "duration": 16,
    "start_time": "2023-04-12T14:44:37.331Z"
   },
   {
    "duration": 50,
    "start_time": "2023-04-12T14:44:37.349Z"
   },
   {
    "duration": 15,
    "start_time": "2023-04-12T14:44:37.401Z"
   },
   {
    "duration": 19,
    "start_time": "2023-04-12T14:44:37.418Z"
   },
   {
    "duration": 24,
    "start_time": "2023-04-12T14:44:40.823Z"
   },
   {
    "duration": 22,
    "start_time": "2023-04-12T14:45:11.672Z"
   },
   {
    "duration": 23,
    "start_time": "2023-04-12T14:45:21.639Z"
   },
   {
    "duration": 450,
    "start_time": "2023-04-12T14:46:18.854Z"
   },
   {
    "duration": 7,
    "start_time": "2023-04-12T14:52:44.758Z"
   },
   {
    "duration": 20,
    "start_time": "2023-04-12T14:55:53.403Z"
   },
   {
    "duration": 15,
    "start_time": "2023-04-12T14:56:04.586Z"
   },
   {
    "duration": 19,
    "start_time": "2023-04-12T14:56:22.578Z"
   },
   {
    "duration": 27,
    "start_time": "2023-04-12T14:56:52.101Z"
   },
   {
    "duration": 16,
    "start_time": "2023-04-12T14:57:09.353Z"
   },
   {
    "duration": 26,
    "start_time": "2023-04-12T14:57:15.432Z"
   },
   {
    "duration": 8,
    "start_time": "2023-04-12T14:58:07.720Z"
   },
   {
    "duration": 5,
    "start_time": "2023-04-12T14:58:31.615Z"
   },
   {
    "duration": 7,
    "start_time": "2023-04-12T14:58:35.982Z"
   },
   {
    "duration": 426,
    "start_time": "2023-04-12T15:09:36.303Z"
   },
   {
    "duration": 93,
    "start_time": "2023-04-12T15:09:36.731Z"
   },
   {
    "duration": 27,
    "start_time": "2023-04-12T15:09:36.826Z"
   },
   {
    "duration": 39,
    "start_time": "2023-04-12T15:09:36.855Z"
   },
   {
    "duration": 11,
    "start_time": "2023-04-12T15:09:36.896Z"
   },
   {
    "duration": 15,
    "start_time": "2023-04-12T15:09:36.909Z"
   },
   {
    "duration": 5,
    "start_time": "2023-04-12T15:09:36.926Z"
   },
   {
    "duration": 22,
    "start_time": "2023-04-12T15:09:36.934Z"
   },
   {
    "duration": 31,
    "start_time": "2023-04-12T15:09:36.957Z"
   },
   {
    "duration": 6,
    "start_time": "2023-04-12T15:09:36.992Z"
   },
   {
    "duration": 34,
    "start_time": "2023-04-12T15:09:37.001Z"
   },
   {
    "duration": 6,
    "start_time": "2023-04-12T15:09:37.037Z"
   },
   {
    "duration": 18,
    "start_time": "2023-04-12T15:09:37.045Z"
   },
   {
    "duration": 40,
    "start_time": "2023-04-12T15:09:37.065Z"
   },
   {
    "duration": 13,
    "start_time": "2023-04-12T15:09:37.107Z"
   },
   {
    "duration": 16,
    "start_time": "2023-04-12T15:09:37.122Z"
   },
   {
    "duration": 26,
    "start_time": "2023-04-12T15:09:37.140Z"
   },
   {
    "duration": 480,
    "start_time": "2023-04-12T15:09:37.168Z"
   },
   {
    "duration": 15,
    "start_time": "2023-04-12T15:09:37.650Z"
   },
   {
    "duration": 264,
    "start_time": "2023-04-12T15:09:37.667Z"
   },
   {
    "duration": 10,
    "start_time": "2023-04-12T15:09:37.932Z"
   },
   {
    "duration": 10,
    "start_time": "2023-04-12T15:09:37.944Z"
   },
   {
    "duration": 563,
    "start_time": "2023-04-12T15:09:37.956Z"
   },
   {
    "duration": 193,
    "start_time": "2023-04-12T15:09:38.521Z"
   },
   {
    "duration": 184,
    "start_time": "2023-04-12T15:09:38.716Z"
   },
   {
    "duration": 179,
    "start_time": "2023-04-12T15:09:38.902Z"
   },
   {
    "duration": 8,
    "start_time": "2023-04-12T15:09:39.086Z"
   },
   {
    "duration": 249,
    "start_time": "2023-04-12T15:09:39.098Z"
   },
   {
    "duration": 248,
    "start_time": "2023-04-12T15:09:39.349Z"
   },
   {
    "duration": 24,
    "start_time": "2023-04-12T15:09:39.598Z"
   },
   {
    "duration": 23,
    "start_time": "2023-04-12T15:09:39.624Z"
   },
   {
    "duration": 52,
    "start_time": "2023-04-12T15:09:39.649Z"
   },
   {
    "duration": 16,
    "start_time": "2023-04-12T15:09:39.702Z"
   },
   {
    "duration": 19,
    "start_time": "2023-04-12T15:09:39.720Z"
   },
   {
    "duration": 58,
    "start_time": "2023-04-12T15:09:39.741Z"
   },
   {
    "duration": 19,
    "start_time": "2023-04-12T15:09:39.800Z"
   },
   {
    "duration": 25,
    "start_time": "2023-04-12T15:09:39.821Z"
   },
   {
    "duration": 520,
    "start_time": "2023-04-12T15:09:39.848Z"
   },
   {
    "duration": 33,
    "start_time": "2023-04-12T15:09:40.370Z"
   },
   {
    "duration": 6,
    "start_time": "2023-04-12T15:10:16.613Z"
   },
   {
    "duration": 359,
    "start_time": "2023-04-14T04:46:42.918Z"
   },
   {
    "duration": 212,
    "start_time": "2023-04-14T04:46:43.279Z"
   },
   {
    "duration": 14,
    "start_time": "2023-04-14T04:46:43.493Z"
   },
   {
    "duration": 14,
    "start_time": "2023-04-14T04:46:46.266Z"
   },
   {
    "duration": 67,
    "start_time": "2023-04-14T04:47:16.066Z"
   },
   {
    "duration": 76,
    "start_time": "2023-04-14T04:47:42.121Z"
   },
   {
    "duration": 82,
    "start_time": "2023-04-14T04:48:32.408Z"
   },
   {
    "duration": 75,
    "start_time": "2023-04-14T04:50:01.142Z"
   },
   {
    "duration": 2,
    "start_time": "2023-04-14T04:51:21.446Z"
   },
   {
    "duration": 75,
    "start_time": "2023-04-14T04:51:21.450Z"
   },
   {
    "duration": 11,
    "start_time": "2023-04-14T04:51:21.527Z"
   },
   {
    "duration": 19,
    "start_time": "2023-04-14T04:51:21.540Z"
   },
   {
    "duration": 19,
    "start_time": "2023-04-14T04:51:21.561Z"
   },
   {
    "duration": 17,
    "start_time": "2023-04-14T04:51:21.581Z"
   },
   {
    "duration": 5,
    "start_time": "2023-04-14T04:51:21.599Z"
   },
   {
    "duration": 23,
    "start_time": "2023-04-14T04:51:21.605Z"
   },
   {
    "duration": 4,
    "start_time": "2023-04-14T04:51:21.630Z"
   },
   {
    "duration": 411,
    "start_time": "2023-04-14T04:51:38.749Z"
   },
   {
    "duration": 77,
    "start_time": "2023-04-14T04:51:39.162Z"
   },
   {
    "duration": 14,
    "start_time": "2023-04-14T04:51:39.241Z"
   },
   {
    "duration": 14,
    "start_time": "2023-04-14T04:51:39.257Z"
   },
   {
    "duration": 10,
    "start_time": "2023-04-14T04:51:39.283Z"
   },
   {
    "duration": 21,
    "start_time": "2023-04-14T04:51:39.295Z"
   },
   {
    "duration": 4,
    "start_time": "2023-04-14T04:51:39.318Z"
   },
   {
    "duration": 18,
    "start_time": "2023-04-14T04:51:39.324Z"
   },
   {
    "duration": 5,
    "start_time": "2023-04-14T04:51:39.344Z"
   },
   {
    "duration": 5,
    "start_time": "2023-04-14T04:52:03.667Z"
   },
   {
    "duration": 7,
    "start_time": "2023-04-14T04:53:53.010Z"
   },
   {
    "duration": 5,
    "start_time": "2023-04-14T04:54:12.122Z"
   },
   {
    "duration": 10,
    "start_time": "2023-04-14T04:54:14.471Z"
   },
   {
    "duration": 17,
    "start_time": "2023-04-14T04:55:46.312Z"
   },
   {
    "duration": 440,
    "start_time": "2023-04-14T04:57:09.597Z"
   },
   {
    "duration": 79,
    "start_time": "2023-04-14T04:57:11.461Z"
   },
   {
    "duration": 17,
    "start_time": "2023-04-14T04:57:14.276Z"
   },
   {
    "duration": 415,
    "start_time": "2023-04-14T04:57:39.598Z"
   },
   {
    "duration": 78,
    "start_time": "2023-04-14T04:57:40.016Z"
   },
   {
    "duration": 14,
    "start_time": "2023-04-14T04:57:40.096Z"
   },
   {
    "duration": 21,
    "start_time": "2023-04-14T04:57:40.112Z"
   },
   {
    "duration": 18,
    "start_time": "2023-04-14T04:57:40.135Z"
   },
   {
    "duration": 30,
    "start_time": "2023-04-14T04:57:40.154Z"
   },
   {
    "duration": 5,
    "start_time": "2023-04-14T04:57:44.507Z"
   },
   {
    "duration": 17,
    "start_time": "2023-04-14T04:57:48.460Z"
   },
   {
    "duration": 4,
    "start_time": "2023-04-14T04:57:53.523Z"
   },
   {
    "duration": 4,
    "start_time": "2023-04-14T04:57:57.203Z"
   },
   {
    "duration": 6,
    "start_time": "2023-04-14T04:58:31.604Z"
   },
   {
    "duration": 4,
    "start_time": "2023-04-14T04:58:35.930Z"
   },
   {
    "duration": 8,
    "start_time": "2023-04-14T04:58:37.642Z"
   },
   {
    "duration": 12,
    "start_time": "2023-04-14T04:59:39.041Z"
   },
   {
    "duration": 7,
    "start_time": "2023-04-14T04:59:42.041Z"
   },
   {
    "duration": 13,
    "start_time": "2023-04-14T04:59:44.601Z"
   },
   {
    "duration": 15,
    "start_time": "2023-04-14T04:59:52.857Z"
   },
   {
    "duration": 14,
    "start_time": "2023-04-14T05:01:11.952Z"
   },
   {
    "duration": 8,
    "start_time": "2023-04-14T05:01:52.135Z"
   },
   {
    "duration": 5,
    "start_time": "2023-04-14T05:02:25.310Z"
   },
   {
    "duration": 6,
    "start_time": "2023-04-14T05:02:53.702Z"
   },
   {
    "duration": 116,
    "start_time": "2023-04-14T05:03:17.349Z"
   },
   {
    "duration": 15,
    "start_time": "2023-04-14T05:03:26.181Z"
   },
   {
    "duration": 719,
    "start_time": "2023-04-14T05:13:09.695Z"
   },
   {
    "duration": 12,
    "start_time": "2023-04-14T05:13:20.640Z"
   },
   {
    "duration": 219,
    "start_time": "2023-04-14T05:13:24.264Z"
   },
   {
    "duration": 11,
    "start_time": "2023-04-14T05:13:43.417Z"
   },
   {
    "duration": 8,
    "start_time": "2023-04-14T05:13:48.143Z"
   },
   {
    "duration": 5,
    "start_time": "2023-04-14T05:14:20.376Z"
   },
   {
    "duration": 82,
    "start_time": "2023-04-14T05:14:35.215Z"
   },
   {
    "duration": 397,
    "start_time": "2023-04-14T05:14:51.031Z"
   },
   {
    "duration": 5,
    "start_time": "2023-04-14T05:15:31.151Z"
   },
   {
    "duration": 383,
    "start_time": "2023-04-14T05:15:33.263Z"
   },
   {
    "duration": 7,
    "start_time": "2023-04-14T05:16:00.709Z"
   },
   {
    "duration": 339,
    "start_time": "2023-04-14T05:16:03.166Z"
   },
   {
    "duration": 301,
    "start_time": "2023-04-14T05:16:59.053Z"
   },
   {
    "duration": 340,
    "start_time": "2023-04-14T05:17:10.598Z"
   },
   {
    "duration": 325,
    "start_time": "2023-04-14T05:17:30.197Z"
   },
   {
    "duration": 316,
    "start_time": "2023-04-14T05:18:17.675Z"
   },
   {
    "duration": 325,
    "start_time": "2023-04-14T05:19:01.702Z"
   },
   {
    "duration": 337,
    "start_time": "2023-04-14T05:19:15.266Z"
   },
   {
    "duration": 130,
    "start_time": "2023-04-14T05:23:09.926Z"
   },
   {
    "duration": 5,
    "start_time": "2023-04-14T05:28:58.133Z"
   },
   {
    "duration": 306,
    "start_time": "2023-04-14T05:31:20.763Z"
   },
   {
    "duration": 104,
    "start_time": "2023-04-14T05:31:41.101Z"
   },
   {
    "duration": 19,
    "start_time": "2023-04-14T05:31:54.635Z"
   },
   {
    "duration": 344,
    "start_time": "2023-04-14T05:32:05.666Z"
   },
   {
    "duration": 368,
    "start_time": "2023-04-14T05:32:16.198Z"
   },
   {
    "duration": 1329,
    "start_time": "2023-04-14T05:32:39.161Z"
   },
   {
    "duration": 212,
    "start_time": "2023-04-14T05:33:57.800Z"
   },
   {
    "duration": 1274,
    "start_time": "2023-04-14T05:34:27.297Z"
   },
   {
    "duration": 1342,
    "start_time": "2023-04-14T05:35:12.797Z"
   },
   {
    "duration": 1249,
    "start_time": "2023-04-14T05:35:32.366Z"
   },
   {
    "duration": 1280,
    "start_time": "2023-04-14T05:35:40.278Z"
   },
   {
    "duration": 1085,
    "start_time": "2023-04-14T05:35:47.901Z"
   },
   {
    "duration": 108,
    "start_time": "2023-04-14T05:38:08.790Z"
   },
   {
    "duration": 228,
    "start_time": "2023-04-14T05:38:14.694Z"
   },
   {
    "duration": 178,
    "start_time": "2023-04-14T05:38:33.969Z"
   },
   {
    "duration": 5,
    "start_time": "2023-04-14T05:38:54.834Z"
   },
   {
    "duration": 147,
    "start_time": "2023-04-14T05:39:09.082Z"
   },
   {
    "duration": 168,
    "start_time": "2023-04-14T05:45:14.469Z"
   },
   {
    "duration": 178,
    "start_time": "2023-04-14T05:45:23.445Z"
   },
   {
    "duration": 8,
    "start_time": "2023-04-14T05:45:26.805Z"
   },
   {
    "duration": 175,
    "start_time": "2023-04-14T05:45:41.002Z"
   },
   {
    "duration": 198,
    "start_time": "2023-04-14T05:45:51.105Z"
   },
   {
    "duration": 9,
    "start_time": "2023-04-14T05:46:10.309Z"
   },
   {
    "duration": 168,
    "start_time": "2023-04-14T05:47:45.736Z"
   },
   {
    "duration": 196,
    "start_time": "2023-04-14T05:49:56.668Z"
   },
   {
    "duration": 181,
    "start_time": "2023-04-14T05:50:25.645Z"
   },
   {
    "duration": 174,
    "start_time": "2023-04-14T05:50:33.131Z"
   },
   {
    "duration": 152,
    "start_time": "2023-04-14T05:51:28.323Z"
   },
   {
    "duration": 164,
    "start_time": "2023-04-14T05:51:53.858Z"
   },
   {
    "duration": 213,
    "start_time": "2023-04-14T05:53:35.343Z"
   },
   {
    "duration": 319,
    "start_time": "2023-04-14T05:53:38.232Z"
   },
   {
    "duration": 276,
    "start_time": "2023-04-14T05:56:05.309Z"
   },
   {
    "duration": 91,
    "start_time": "2023-04-14T06:07:24.510Z"
   },
   {
    "duration": 417,
    "start_time": "2023-04-14T06:07:51.259Z"
   },
   {
    "duration": 98,
    "start_time": "2023-04-14T06:07:51.678Z"
   },
   {
    "duration": 24,
    "start_time": "2023-04-14T06:07:51.778Z"
   },
   {
    "duration": 42,
    "start_time": "2023-04-14T06:07:51.804Z"
   },
   {
    "duration": 8,
    "start_time": "2023-04-14T06:07:51.848Z"
   },
   {
    "duration": 46,
    "start_time": "2023-04-14T06:07:51.858Z"
   },
   {
    "duration": 26,
    "start_time": "2023-04-14T06:07:51.910Z"
   },
   {
    "duration": 24,
    "start_time": "2023-04-14T06:07:51.938Z"
   },
   {
    "duration": 74,
    "start_time": "2023-04-14T06:07:51.963Z"
   },
   {
    "duration": 43,
    "start_time": "2023-04-14T06:07:52.042Z"
   },
   {
    "duration": 51,
    "start_time": "2023-04-14T06:07:52.091Z"
   },
   {
    "duration": 108,
    "start_time": "2023-04-14T06:07:52.143Z"
   },
   {
    "duration": 66,
    "start_time": "2023-04-14T06:07:52.253Z"
   },
   {
    "duration": 78,
    "start_time": "2023-04-14T06:07:52.321Z"
   },
   {
    "duration": 73,
    "start_time": "2023-04-14T06:07:52.400Z"
   },
   {
    "duration": 63,
    "start_time": "2023-04-14T06:07:52.474Z"
   },
   {
    "duration": 67,
    "start_time": "2023-04-14T06:07:52.539Z"
   },
   {
    "duration": 33,
    "start_time": "2023-04-14T06:07:52.610Z"
   },
   {
    "duration": 5,
    "start_time": "2023-04-14T06:07:52.645Z"
   },
   {
    "duration": 17,
    "start_time": "2023-04-14T06:07:52.651Z"
   },
   {
    "duration": 33,
    "start_time": "2023-04-14T06:07:52.670Z"
   },
   {
    "duration": 466,
    "start_time": "2023-04-14T06:07:52.705Z"
   },
   {
    "duration": 36,
    "start_time": "2023-04-14T06:07:53.173Z"
   },
   {
    "duration": 265,
    "start_time": "2023-04-14T06:07:53.210Z"
   },
   {
    "duration": 24,
    "start_time": "2023-04-14T06:07:53.477Z"
   },
   {
    "duration": 31,
    "start_time": "2023-04-14T06:07:53.505Z"
   },
   {
    "duration": 403,
    "start_time": "2023-04-14T06:07:53.537Z"
   },
   {
    "duration": 4,
    "start_time": "2023-04-14T06:07:53.944Z"
   },
   {
    "duration": 1334,
    "start_time": "2023-04-14T06:07:53.950Z"
   },
   {
    "duration": 188,
    "start_time": "2023-04-14T06:07:55.286Z"
   },
   {
    "duration": 258,
    "start_time": "2023-04-14T06:07:55.476Z"
   },
   {
    "duration": 7,
    "start_time": "2023-04-14T06:07:55.736Z"
   },
   {
    "duration": 196,
    "start_time": "2023-04-14T06:07:55.744Z"
   },
   {
    "duration": 188,
    "start_time": "2023-04-14T06:07:55.942Z"
   },
   {
    "duration": 185,
    "start_time": "2023-04-14T06:07:56.132Z"
   },
   {
    "duration": 158,
    "start_time": "2023-04-14T06:07:56.319Z"
   },
   {
    "duration": 213,
    "start_time": "2023-04-14T06:07:56.483Z"
   },
   {
    "duration": 215,
    "start_time": "2023-04-14T06:07:56.697Z"
   },
   {
    "duration": 22,
    "start_time": "2023-04-14T06:07:56.915Z"
   },
   {
    "duration": 59,
    "start_time": "2023-04-14T06:07:56.938Z"
   },
   {
    "duration": 55,
    "start_time": "2023-04-14T06:07:57.003Z"
   },
   {
    "duration": 85,
    "start_time": "2023-04-14T06:07:57.059Z"
   },
   {
    "duration": 97,
    "start_time": "2023-04-14T06:07:57.145Z"
   },
   {
    "duration": 22,
    "start_time": "2023-04-14T06:07:57.244Z"
   },
   {
    "duration": 16,
    "start_time": "2023-04-14T06:15:24.061Z"
   },
   {
    "duration": 26,
    "start_time": "2023-04-14T06:19:40.213Z"
   },
   {
    "duration": 15,
    "start_time": "2023-04-14T06:31:36.634Z"
   },
   {
    "duration": 102,
    "start_time": "2023-04-14T06:31:45.339Z"
   },
   {
    "duration": 11,
    "start_time": "2023-04-14T06:32:13.081Z"
   },
   {
    "duration": 19,
    "start_time": "2023-04-14T06:33:35.303Z"
   },
   {
    "duration": 13,
    "start_time": "2023-04-14T06:33:49.831Z"
   },
   {
    "duration": 13,
    "start_time": "2023-04-14T06:34:11.408Z"
   },
   {
    "duration": 26,
    "start_time": "2023-04-14T06:34:31.070Z"
   },
   {
    "duration": 21,
    "start_time": "2023-04-14T06:35:04.437Z"
   },
   {
    "duration": 483,
    "start_time": "2023-04-14T06:35:10.429Z"
   },
   {
    "duration": 17,
    "start_time": "2023-04-14T06:35:42.908Z"
   },
   {
    "duration": 10,
    "start_time": "2023-04-14T06:37:27.731Z"
   },
   {
    "duration": 11,
    "start_time": "2023-04-14T06:37:33.714Z"
   },
   {
    "duration": 30,
    "start_time": "2023-04-14T06:37:43.483Z"
   },
   {
    "duration": 5,
    "start_time": "2023-04-14T06:37:47.738Z"
   },
   {
    "duration": 180,
    "start_time": "2023-04-14T06:38:41.176Z"
   },
   {
    "duration": 386,
    "start_time": "2023-04-14T06:49:42.331Z"
   },
   {
    "duration": 77,
    "start_time": "2023-04-14T06:49:42.719Z"
   },
   {
    "duration": 16,
    "start_time": "2023-04-14T06:49:42.801Z"
   },
   {
    "duration": 18,
    "start_time": "2023-04-14T06:49:42.820Z"
   },
   {
    "duration": 9,
    "start_time": "2023-04-14T06:49:42.840Z"
   },
   {
    "duration": 22,
    "start_time": "2023-04-14T06:49:42.850Z"
   },
   {
    "duration": 6,
    "start_time": "2023-04-14T06:49:42.874Z"
   },
   {
    "duration": 52,
    "start_time": "2023-04-14T06:49:42.882Z"
   },
   {
    "duration": 4,
    "start_time": "2023-04-14T06:49:42.935Z"
   },
   {
    "duration": 15,
    "start_time": "2023-04-14T06:49:42.942Z"
   },
   {
    "duration": 10,
    "start_time": "2023-04-14T06:49:42.958Z"
   },
   {
    "duration": 14,
    "start_time": "2023-04-14T06:49:42.970Z"
   },
   {
    "duration": 31,
    "start_time": "2023-04-14T06:49:42.988Z"
   },
   {
    "duration": 18,
    "start_time": "2023-04-14T06:49:43.020Z"
   },
   {
    "duration": 6,
    "start_time": "2023-04-14T06:49:43.040Z"
   },
   {
    "duration": 16,
    "start_time": "2023-04-14T06:49:43.048Z"
   },
   {
    "duration": 15,
    "start_time": "2023-04-14T06:49:43.066Z"
   },
   {
    "duration": 32,
    "start_time": "2023-04-14T06:49:43.082Z"
   },
   {
    "duration": 22,
    "start_time": "2023-04-14T06:49:43.115Z"
   },
   {
    "duration": 10,
    "start_time": "2023-04-14T06:49:43.139Z"
   },
   {
    "duration": 14,
    "start_time": "2023-04-14T06:49:43.150Z"
   },
   {
    "duration": 458,
    "start_time": "2023-04-14T06:49:43.165Z"
   },
   {
    "duration": 10,
    "start_time": "2023-04-14T06:49:43.625Z"
   },
   {
    "duration": 247,
    "start_time": "2023-04-14T06:49:43.636Z"
   },
   {
    "duration": 19,
    "start_time": "2023-04-14T06:49:43.884Z"
   },
   {
    "duration": 17,
    "start_time": "2023-04-14T06:49:43.907Z"
   },
   {
    "duration": 369,
    "start_time": "2023-04-14T06:49:43.925Z"
   },
   {
    "duration": 9,
    "start_time": "2023-04-14T06:49:44.299Z"
   },
   {
    "duration": 1290,
    "start_time": "2023-04-14T06:49:44.312Z"
   },
   {
    "duration": 180,
    "start_time": "2023-04-14T06:49:45.609Z"
   },
   {
    "duration": 252,
    "start_time": "2023-04-14T06:49:45.790Z"
   },
   {
    "duration": 7,
    "start_time": "2023-04-14T06:49:46.044Z"
   },
   {
    "duration": 189,
    "start_time": "2023-04-14T06:49:46.053Z"
   },
   {
    "duration": 181,
    "start_time": "2023-04-14T06:49:46.244Z"
   },
   {
    "duration": 186,
    "start_time": "2023-04-14T06:49:46.427Z"
   },
   {
    "duration": 163,
    "start_time": "2023-04-14T06:49:46.615Z"
   },
   {
    "duration": 208,
    "start_time": "2023-04-14T06:49:46.780Z"
   },
   {
    "duration": 206,
    "start_time": "2023-04-14T06:49:46.992Z"
   },
   {
    "duration": 26,
    "start_time": "2023-04-14T06:49:47.199Z"
   },
   {
    "duration": 23,
    "start_time": "2023-04-14T06:49:47.226Z"
   },
   {
    "duration": 23,
    "start_time": "2023-04-14T06:49:47.250Z"
   },
   {
    "duration": 55,
    "start_time": "2023-04-14T06:49:47.274Z"
   },
   {
    "duration": 19,
    "start_time": "2023-04-14T06:49:47.331Z"
   },
   {
    "duration": 15,
    "start_time": "2023-04-14T06:49:47.352Z"
   },
   {
    "duration": 42,
    "start_time": "2023-04-14T06:49:47.368Z"
   },
   {
    "duration": 25,
    "start_time": "2023-04-14T06:49:47.412Z"
   },
   {
    "duration": 506,
    "start_time": "2023-04-14T06:49:47.438Z"
   },
   {
    "duration": 24,
    "start_time": "2023-04-14T06:49:47.946Z"
   },
   {
    "duration": 8,
    "start_time": "2023-04-14T06:49:51.806Z"
   },
   {
    "duration": 396,
    "start_time": "2023-04-17T10:39:08.999Z"
   },
   {
    "duration": 440,
    "start_time": "2023-04-17T10:39:09.397Z"
   },
   {
    "duration": 15,
    "start_time": "2023-04-17T10:39:09.839Z"
   },
   {
    "duration": 16,
    "start_time": "2023-04-17T10:39:09.855Z"
   },
   {
    "duration": 16,
    "start_time": "2023-04-17T10:39:09.873Z"
   },
   {
    "duration": 22,
    "start_time": "2023-04-17T10:39:09.890Z"
   },
   {
    "duration": 5,
    "start_time": "2023-04-17T10:39:09.913Z"
   },
   {
    "duration": 27,
    "start_time": "2023-04-17T10:39:09.919Z"
   },
   {
    "duration": 4,
    "start_time": "2023-04-17T10:39:09.947Z"
   },
   {
    "duration": 8,
    "start_time": "2023-04-17T10:39:09.953Z"
   },
   {
    "duration": 24,
    "start_time": "2023-04-17T10:39:09.962Z"
   },
   {
    "duration": 5,
    "start_time": "2023-04-17T10:39:09.988Z"
   },
   {
    "duration": 13,
    "start_time": "2023-04-17T10:39:09.994Z"
   },
   {
    "duration": 18,
    "start_time": "2023-04-17T10:39:10.009Z"
   },
   {
    "duration": 8,
    "start_time": "2023-04-17T10:39:10.029Z"
   },
   {
    "duration": 18,
    "start_time": "2023-04-17T10:39:10.038Z"
   },
   {
    "duration": 43,
    "start_time": "2023-04-17T10:39:10.058Z"
   },
   {
    "duration": 15,
    "start_time": "2023-04-17T10:39:10.102Z"
   },
   {
    "duration": 5,
    "start_time": "2023-04-17T10:39:10.119Z"
   },
   {
    "duration": 5,
    "start_time": "2023-04-17T10:39:10.126Z"
   },
   {
    "duration": 5,
    "start_time": "2023-04-17T10:39:10.133Z"
   },
   {
    "duration": 592,
    "start_time": "2023-04-17T10:39:10.139Z"
   },
   {
    "duration": 12,
    "start_time": "2023-04-17T10:39:10.733Z"
   },
   {
    "duration": 235,
    "start_time": "2023-04-17T10:39:10.746Z"
   },
   {
    "duration": 10,
    "start_time": "2023-04-17T10:39:10.984Z"
   },
   {
    "duration": 6,
    "start_time": "2023-04-17T10:39:10.995Z"
   },
   {
    "duration": 354,
    "start_time": "2023-04-17T10:39:11.003Z"
   },
   {
    "duration": 5,
    "start_time": "2023-04-17T10:39:11.358Z"
   },
   {
    "duration": 288,
    "start_time": "2023-04-17T10:39:13.965Z"
   },
   {
    "duration": 1057,
    "start_time": "2023-04-17T10:39:49.372Z"
   },
   {
    "duration": 279,
    "start_time": "2023-04-17T10:42:49.800Z"
   },
   {
    "duration": 288,
    "start_time": "2023-04-17T10:43:40.967Z"
   },
   {
    "duration": 278,
    "start_time": "2023-04-17T10:43:51.326Z"
   },
   {
    "duration": 276,
    "start_time": "2023-04-17T10:45:07.919Z"
   },
   {
    "duration": 134,
    "start_time": "2023-04-17T10:46:55.484Z"
   },
   {
    "duration": 430,
    "start_time": "2023-04-17T10:47:07.738Z"
   },
   {
    "duration": 305,
    "start_time": "2023-04-17T10:47:22.210Z"
   },
   {
    "duration": 1227,
    "start_time": "2023-04-17T10:48:21.962Z"
   },
   {
    "duration": 1142,
    "start_time": "2023-04-17T10:49:31.096Z"
   },
   {
    "duration": 277,
    "start_time": "2023-04-17T10:49:35.072Z"
   },
   {
    "duration": 1190,
    "start_time": "2023-04-17T10:50:01.280Z"
   },
   {
    "duration": 2209,
    "start_time": "2023-04-17T10:50:17.086Z"
   },
   {
    "duration": 1188,
    "start_time": "2023-04-17T10:50:21.975Z"
   },
   {
    "duration": 1089,
    "start_time": "2023-04-17T10:50:42.798Z"
   },
   {
    "duration": 1193,
    "start_time": "2023-04-17T10:51:21.622Z"
   },
   {
    "duration": 281,
    "start_time": "2023-04-17T10:51:42.357Z"
   },
   {
    "duration": 1211,
    "start_time": "2023-04-17T10:53:48.051Z"
   },
   {
    "duration": 1094,
    "start_time": "2023-04-17T10:56:46.152Z"
   },
   {
    "duration": 1245,
    "start_time": "2023-04-17T10:57:17.582Z"
   },
   {
    "duration": 59,
    "start_time": "2023-04-17T11:01:18.185Z"
   },
   {
    "duration": 412,
    "start_time": "2023-04-17T11:01:40.221Z"
   },
   {
    "duration": 78,
    "start_time": "2023-04-17T11:01:40.635Z"
   },
   {
    "duration": 14,
    "start_time": "2023-04-17T11:01:40.715Z"
   },
   {
    "duration": 15,
    "start_time": "2023-04-17T11:01:40.731Z"
   },
   {
    "duration": 15,
    "start_time": "2023-04-17T11:01:40.748Z"
   },
   {
    "duration": 27,
    "start_time": "2023-04-17T11:01:40.764Z"
   },
   {
    "duration": 5,
    "start_time": "2023-04-17T11:01:40.793Z"
   },
   {
    "duration": 26,
    "start_time": "2023-04-17T11:01:40.799Z"
   },
   {
    "duration": 4,
    "start_time": "2023-04-17T11:01:40.827Z"
   },
   {
    "duration": 18,
    "start_time": "2023-04-17T11:01:40.833Z"
   },
   {
    "duration": 15,
    "start_time": "2023-04-17T11:01:40.853Z"
   },
   {
    "duration": 6,
    "start_time": "2023-04-17T11:01:40.869Z"
   },
   {
    "duration": 14,
    "start_time": "2023-04-17T11:01:40.876Z"
   },
   {
    "duration": 14,
    "start_time": "2023-04-17T11:01:40.893Z"
   },
   {
    "duration": 7,
    "start_time": "2023-04-17T11:01:40.909Z"
   },
   {
    "duration": 12,
    "start_time": "2023-04-17T11:01:40.918Z"
   },
   {
    "duration": 16,
    "start_time": "2023-04-17T11:01:40.932Z"
   },
   {
    "duration": 44,
    "start_time": "2023-04-17T11:01:40.950Z"
   },
   {
    "duration": 5,
    "start_time": "2023-04-17T11:01:40.996Z"
   },
   {
    "duration": 13,
    "start_time": "2023-04-17T11:01:41.002Z"
   },
   {
    "duration": 8,
    "start_time": "2023-04-17T11:01:41.017Z"
   },
   {
    "duration": 436,
    "start_time": "2023-04-17T11:01:41.027Z"
   },
   {
    "duration": 13,
    "start_time": "2023-04-17T11:01:41.464Z"
   },
   {
    "duration": 245,
    "start_time": "2023-04-17T11:01:41.486Z"
   },
   {
    "duration": 10,
    "start_time": "2023-04-17T11:01:41.732Z"
   },
   {
    "duration": 5,
    "start_time": "2023-04-17T11:01:41.744Z"
   },
   {
    "duration": 358,
    "start_time": "2023-04-17T11:01:41.751Z"
   },
   {
    "duration": 5,
    "start_time": "2023-04-17T11:01:42.111Z"
   },
   {
    "duration": 1212,
    "start_time": "2023-04-17T11:01:42.118Z"
   },
   {
    "duration": 1278,
    "start_time": "2023-04-17T11:01:43.332Z"
   },
   {
    "duration": 175,
    "start_time": "2023-04-17T11:01:44.612Z"
   },
   {
    "duration": 248,
    "start_time": "2023-04-17T11:01:44.789Z"
   },
   {
    "duration": 7,
    "start_time": "2023-04-17T11:01:45.039Z"
   },
   {
    "duration": 180,
    "start_time": "2023-04-17T11:01:45.048Z"
   },
   {
    "duration": 181,
    "start_time": "2023-04-17T11:01:45.230Z"
   },
   {
    "duration": 165,
    "start_time": "2023-04-17T11:01:45.412Z"
   },
   {
    "duration": 168,
    "start_time": "2023-04-17T11:01:45.584Z"
   },
   {
    "duration": 208,
    "start_time": "2023-04-17T11:01:45.754Z"
   },
   {
    "duration": 198,
    "start_time": "2023-04-17T11:01:45.963Z"
   },
   {
    "duration": 31,
    "start_time": "2023-04-17T11:01:46.163Z"
   },
   {
    "duration": 20,
    "start_time": "2023-04-17T11:01:46.198Z"
   },
   {
    "duration": 34,
    "start_time": "2023-04-17T11:01:46.220Z"
   },
   {
    "duration": 21,
    "start_time": "2023-04-17T11:01:46.256Z"
   },
   {
    "duration": 22,
    "start_time": "2023-04-17T11:01:46.279Z"
   },
   {
    "duration": 14,
    "start_time": "2023-04-17T11:01:46.303Z"
   },
   {
    "duration": 16,
    "start_time": "2023-04-17T11:01:46.318Z"
   },
   {
    "duration": 23,
    "start_time": "2023-04-17T11:01:46.336Z"
   },
   {
    "duration": 480,
    "start_time": "2023-04-17T11:01:46.386Z"
   },
   {
    "duration": 29,
    "start_time": "2023-04-17T11:01:46.868Z"
   },
   {
    "duration": 5,
    "start_time": "2023-04-17T11:01:50.449Z"
   },
   {
    "duration": 396,
    "start_time": "2024-05-02T09:14:34.975Z"
   },
   {
    "duration": 75,
    "start_time": "2024-05-02T09:14:35.373Z"
   },
   {
    "duration": 14,
    "start_time": "2024-05-02T09:14:35.450Z"
   },
   {
    "duration": 41,
    "start_time": "2024-05-02T09:14:35.466Z"
   },
   {
    "duration": 29,
    "start_time": "2024-05-02T09:14:35.509Z"
   },
   {
    "duration": 29,
    "start_time": "2024-05-02T09:14:35.540Z"
   },
   {
    "duration": 9,
    "start_time": "2024-05-02T09:14:35.571Z"
   },
   {
    "duration": 54,
    "start_time": "2024-05-02T09:14:35.581Z"
   },
   {
    "duration": 5,
    "start_time": "2024-05-02T09:14:35.637Z"
   },
   {
    "duration": 29,
    "start_time": "2024-05-02T09:14:35.643Z"
   },
   {
    "duration": 46,
    "start_time": "2024-05-02T09:14:35.674Z"
   },
   {
    "duration": 19,
    "start_time": "2024-05-02T09:14:35.721Z"
   },
   {
    "duration": 25,
    "start_time": "2024-05-02T09:14:35.741Z"
   },
   {
    "duration": 22,
    "start_time": "2024-05-02T09:14:35.768Z"
   },
   {
    "duration": 16,
    "start_time": "2024-05-02T09:14:35.792Z"
   },
   {
    "duration": 35,
    "start_time": "2024-05-02T09:14:35.810Z"
   },
   {
    "duration": 24,
    "start_time": "2024-05-02T09:14:35.847Z"
   },
   {
    "duration": 23,
    "start_time": "2024-05-02T09:14:35.873Z"
   },
   {
    "duration": 12,
    "start_time": "2024-05-02T09:14:35.897Z"
   },
   {
    "duration": 23,
    "start_time": "2024-05-02T09:14:35.910Z"
   },
   {
    "duration": 17,
    "start_time": "2024-05-02T09:14:35.934Z"
   },
   {
    "duration": 412,
    "start_time": "2024-05-02T09:15:11.475Z"
   },
   {
    "duration": 164,
    "start_time": "2024-05-02T09:15:19.179Z"
   },
   {
    "duration": 156,
    "start_time": "2024-05-02T09:15:26.460Z"
   },
   {
    "duration": 11,
    "start_time": "2024-05-02T09:15:58.587Z"
   },
   {
    "duration": 226,
    "start_time": "2024-05-02T09:16:04.757Z"
   },
   {
    "duration": 282,
    "start_time": "2024-05-02T09:16:10.077Z"
   },
   {
    "duration": 227,
    "start_time": "2024-05-02T09:16:15.469Z"
   },
   {
    "duration": 247,
    "start_time": "2024-05-02T09:16:25.189Z"
   },
   {
    "duration": 263,
    "start_time": "2024-05-02T09:16:35.605Z"
   },
   {
    "duration": 173,
    "start_time": "2024-05-02T09:16:43.532Z"
   },
   {
    "duration": 9,
    "start_time": "2024-05-02T09:17:34.799Z"
   },
   {
    "duration": 6,
    "start_time": "2024-05-02T09:17:52.799Z"
   },
   {
    "duration": 301,
    "start_time": "2024-05-02T09:18:39.505Z"
   },
   {
    "duration": 5,
    "start_time": "2024-05-02T09:19:19.094Z"
   },
   {
    "duration": 1140,
    "start_time": "2024-05-02T09:19:24.429Z"
   },
   {
    "duration": 1232,
    "start_time": "2024-05-02T09:19:34.686Z"
   },
   {
    "duration": 160,
    "start_time": "2024-05-02T09:20:35.561Z"
   },
   {
    "duration": 192,
    "start_time": "2024-05-02T09:20:44.094Z"
   },
   {
    "duration": 181,
    "start_time": "2024-05-02T09:20:57.094Z"
   },
   {
    "duration": 7,
    "start_time": "2024-05-02T09:21:03.199Z"
   },
   {
    "duration": 154,
    "start_time": "2024-05-02T09:21:33.583Z"
   },
   {
    "duration": 191,
    "start_time": "2024-05-02T09:21:42.311Z"
   },
   {
    "duration": 256,
    "start_time": "2024-05-02T09:21:56.719Z"
   },
   {
    "duration": 189,
    "start_time": "2024-05-02T09:22:08.967Z"
   },
   {
    "duration": 166,
    "start_time": "2024-05-02T09:22:25.224Z"
   },
   {
    "duration": 215,
    "start_time": "2024-05-02T09:22:47.841Z"
   },
   {
    "duration": 210,
    "start_time": "2024-05-02T09:23:14.707Z"
   },
   {
    "duration": 20,
    "start_time": "2024-05-02T09:23:40.953Z"
   },
   {
    "duration": 20,
    "start_time": "2024-05-02T09:23:43.376Z"
   },
   {
    "duration": 22,
    "start_time": "2024-05-02T09:23:44.826Z"
   },
   {
    "duration": 14,
    "start_time": "2024-05-02T09:23:48.835Z"
   },
   {
    "duration": 14,
    "start_time": "2024-05-02T09:23:49.569Z"
   },
   {
    "duration": 15,
    "start_time": "2024-05-02T09:23:51.768Z"
   },
   {
    "duration": 16,
    "start_time": "2024-05-02T09:24:01.009Z"
   },
   {
    "duration": 21,
    "start_time": "2024-05-02T09:24:14.033Z"
   },
   {
    "duration": 390,
    "start_time": "2024-05-02T09:24:34.128Z"
   },
   {
    "duration": 5,
    "start_time": "2024-05-02T09:24:46.841Z"
   },
   {
    "duration": 23,
    "start_time": "2024-05-02T09:25:20.641Z"
   },
   {
    "duration": 4,
    "start_time": "2024-05-02T09:25:22.906Z"
   },
   {
    "duration": 1192,
    "start_time": "2024-05-02T09:25:48.090Z"
   },
   {
    "duration": 76,
    "start_time": "2024-05-02T09:25:49.283Z"
   },
   {
    "duration": 14,
    "start_time": "2024-05-02T09:25:49.361Z"
   },
   {
    "duration": 16,
    "start_time": "2024-05-02T09:25:49.376Z"
   },
   {
    "duration": 25,
    "start_time": "2024-05-02T09:25:49.394Z"
   },
   {
    "duration": 13,
    "start_time": "2024-05-02T09:25:49.420Z"
   },
   {
    "duration": 5,
    "start_time": "2024-05-02T09:25:49.435Z"
   },
   {
    "duration": 29,
    "start_time": "2024-05-02T09:25:49.442Z"
   },
   {
    "duration": 5,
    "start_time": "2024-05-02T09:25:49.473Z"
   },
   {
    "duration": 5,
    "start_time": "2024-05-02T09:25:49.480Z"
   },
   {
    "duration": 13,
    "start_time": "2024-05-02T09:25:49.486Z"
   },
   {
    "duration": 4,
    "start_time": "2024-05-02T09:25:49.514Z"
   },
   {
    "duration": 12,
    "start_time": "2024-05-02T09:25:49.520Z"
   },
   {
    "duration": 14,
    "start_time": "2024-05-02T09:25:49.536Z"
   },
   {
    "duration": 7,
    "start_time": "2024-05-02T09:25:49.551Z"
   },
   {
    "duration": 20,
    "start_time": "2024-05-02T09:25:49.559Z"
   },
   {
    "duration": 44,
    "start_time": "2024-05-02T09:25:49.581Z"
   },
   {
    "duration": 14,
    "start_time": "2024-05-02T09:25:49.626Z"
   },
   {
    "duration": 5,
    "start_time": "2024-05-02T09:25:49.641Z"
   },
   {
    "duration": 5,
    "start_time": "2024-05-02T09:25:49.647Z"
   },
   {
    "duration": 8,
    "start_time": "2024-05-02T09:25:49.654Z"
   },
   {
    "duration": 221,
    "start_time": "2024-05-02T09:25:49.664Z"
   },
   {
    "duration": 11,
    "start_time": "2024-05-02T09:25:49.887Z"
   },
   {
    "duration": 305,
    "start_time": "2024-05-02T09:25:49.899Z"
   },
   {
    "duration": 10,
    "start_time": "2024-05-02T09:25:50.206Z"
   },
   {
    "duration": 31,
    "start_time": "2024-05-02T09:25:50.217Z"
   },
   {
    "duration": 304,
    "start_time": "2024-05-02T09:25:50.250Z"
   },
   {
    "duration": 4,
    "start_time": "2024-05-02T09:25:50.556Z"
   },
   {
    "duration": 1482,
    "start_time": "2024-05-02T09:25:50.562Z"
   },
   {
    "duration": 1231,
    "start_time": "2024-05-02T09:25:52.046Z"
   },
   {
    "duration": 191,
    "start_time": "2024-05-02T09:25:53.279Z"
   },
   {
    "duration": 199,
    "start_time": "2024-05-02T09:25:53.472Z"
   },
   {
    "duration": 6,
    "start_time": "2024-05-02T09:25:53.673Z"
   },
   {
    "duration": 224,
    "start_time": "2024-05-02T09:25:53.680Z"
   },
   {
    "duration": 195,
    "start_time": "2024-05-02T09:25:53.905Z"
   },
   {
    "duration": 181,
    "start_time": "2024-05-02T09:25:54.102Z"
   },
   {
    "duration": 186,
    "start_time": "2024-05-02T09:25:54.285Z"
   },
   {
    "duration": 235,
    "start_time": "2024-05-02T09:25:54.473Z"
   },
   {
    "duration": 310,
    "start_time": "2024-05-02T09:25:54.710Z"
   },
   {
    "duration": 26,
    "start_time": "2024-05-02T09:25:55.021Z"
   },
   {
    "duration": 18,
    "start_time": "2024-05-02T09:25:55.050Z"
   },
   {
    "duration": 49,
    "start_time": "2024-05-02T09:25:55.070Z"
   },
   {
    "duration": 14,
    "start_time": "2024-05-02T09:25:55.121Z"
   },
   {
    "duration": 14,
    "start_time": "2024-05-02T09:25:55.137Z"
   },
   {
    "duration": 14,
    "start_time": "2024-05-02T09:25:55.153Z"
   },
   {
    "duration": 52,
    "start_time": "2024-05-02T09:25:55.169Z"
   },
   {
    "duration": 21,
    "start_time": "2024-05-02T09:25:55.223Z"
   },
   {
    "duration": 23,
    "start_time": "2024-05-02T09:25:55.245Z"
   },
   {
    "duration": 28,
    "start_time": "2024-05-02T09:25:55.269Z"
   },
   {
    "duration": 5,
    "start_time": "2024-05-02T09:25:55.298Z"
   },
   {
    "duration": 250,
    "start_time": "2024-05-02T09:28:17.931Z"
   },
   {
    "duration": 1226,
    "start_time": "2024-05-02T09:30:09.258Z"
   },
   {
    "duration": 86,
    "start_time": "2024-05-02T09:30:10.485Z"
   },
   {
    "duration": 15,
    "start_time": "2024-05-02T09:30:10.573Z"
   },
   {
    "duration": 39,
    "start_time": "2024-05-02T09:30:10.589Z"
   },
   {
    "duration": 10,
    "start_time": "2024-05-02T09:30:10.630Z"
   },
   {
    "duration": 21,
    "start_time": "2024-05-02T09:30:10.642Z"
   },
   {
    "duration": 7,
    "start_time": "2024-05-02T09:30:10.664Z"
   },
   {
    "duration": 18,
    "start_time": "2024-05-02T09:30:10.672Z"
   },
   {
    "duration": 26,
    "start_time": "2024-05-02T09:30:10.691Z"
   },
   {
    "duration": 10,
    "start_time": "2024-05-02T09:30:10.719Z"
   },
   {
    "duration": 27,
    "start_time": "2024-05-02T09:30:10.731Z"
   },
   {
    "duration": 14,
    "start_time": "2024-05-02T09:30:10.759Z"
   },
   {
    "duration": 15,
    "start_time": "2024-05-02T09:30:10.774Z"
   },
   {
    "duration": 15,
    "start_time": "2024-05-02T09:30:10.791Z"
   },
   {
    "duration": 8,
    "start_time": "2024-05-02T09:30:10.807Z"
   },
   {
    "duration": 21,
    "start_time": "2024-05-02T09:30:10.816Z"
   },
   {
    "duration": 32,
    "start_time": "2024-05-02T09:30:10.839Z"
   },
   {
    "duration": 14,
    "start_time": "2024-05-02T09:30:10.873Z"
   },
   {
    "duration": 5,
    "start_time": "2024-05-02T09:30:10.888Z"
   },
   {
    "duration": 6,
    "start_time": "2024-05-02T09:30:10.895Z"
   },
   {
    "duration": 15,
    "start_time": "2024-05-02T09:30:10.903Z"
   },
   {
    "duration": 210,
    "start_time": "2024-05-02T09:30:10.919Z"
   },
   {
    "duration": 13,
    "start_time": "2024-05-02T09:30:11.130Z"
   },
   {
    "duration": 295,
    "start_time": "2024-05-02T09:30:11.145Z"
   },
   {
    "duration": 9,
    "start_time": "2024-05-02T09:30:11.442Z"
   },
   {
    "duration": 26,
    "start_time": "2024-05-02T09:30:11.452Z"
   },
   {
    "duration": 312,
    "start_time": "2024-05-02T09:30:11.479Z"
   },
   {
    "duration": 5,
    "start_time": "2024-05-02T09:30:11.793Z"
   },
   {
    "duration": 1270,
    "start_time": "2024-05-02T09:30:11.816Z"
   },
   {
    "duration": 1318,
    "start_time": "2024-05-02T09:30:13.088Z"
   },
   {
    "duration": 201,
    "start_time": "2024-05-02T09:30:14.414Z"
   },
   {
    "duration": 806,
    "start_time": "2024-05-02T09:30:14.616Z"
   },
   {
    "duration": 7,
    "start_time": "2024-05-02T09:30:15.424Z"
   },
   {
    "duration": 240,
    "start_time": "2024-05-02T09:30:15.433Z"
   },
   {
    "duration": 215,
    "start_time": "2024-05-02T09:30:15.675Z"
   },
   {
    "duration": 193,
    "start_time": "2024-05-02T09:30:15.891Z"
   },
   {
    "duration": 199,
    "start_time": "2024-05-02T09:30:16.085Z"
   },
   {
    "duration": 227,
    "start_time": "2024-05-02T09:30:16.286Z"
   },
   {
    "duration": 314,
    "start_time": "2024-05-02T09:30:16.515Z"
   },
   {
    "duration": 23,
    "start_time": "2024-05-02T09:30:16.830Z"
   },
   {
    "duration": 29,
    "start_time": "2024-05-02T09:30:16.856Z"
   },
   {
    "duration": 35,
    "start_time": "2024-05-02T09:30:16.887Z"
   },
   {
    "duration": 16,
    "start_time": "2024-05-02T09:30:16.924Z"
   },
   {
    "duration": 24,
    "start_time": "2024-05-02T09:30:16.941Z"
   },
   {
    "duration": 14,
    "start_time": "2024-05-02T09:30:16.967Z"
   },
   {
    "duration": 36,
    "start_time": "2024-05-02T09:30:16.983Z"
   },
   {
    "duration": 24,
    "start_time": "2024-05-02T09:30:17.020Z"
   },
   {
    "duration": 6,
    "start_time": "2024-05-02T09:30:17.045Z"
   },
   {
    "duration": 21,
    "start_time": "2024-05-02T09:30:17.053Z"
   },
   {
    "duration": 5,
    "start_time": "2024-05-02T09:30:17.076Z"
   },
   {
    "duration": 1229,
    "start_time": "2024-05-02T09:30:54.959Z"
   },
   {
    "duration": 1184,
    "start_time": "2024-05-02T09:31:16.296Z"
   },
   {
    "duration": 86,
    "start_time": "2024-05-02T09:31:17.482Z"
   },
   {
    "duration": 15,
    "start_time": "2024-05-02T09:31:17.570Z"
   },
   {
    "duration": 36,
    "start_time": "2024-05-02T09:31:17.586Z"
   },
   {
    "duration": 13,
    "start_time": "2024-05-02T09:31:17.625Z"
   },
   {
    "duration": 18,
    "start_time": "2024-05-02T09:31:17.640Z"
   },
   {
    "duration": 6,
    "start_time": "2024-05-02T09:31:17.660Z"
   },
   {
    "duration": 22,
    "start_time": "2024-05-02T09:31:17.667Z"
   },
   {
    "duration": 4,
    "start_time": "2024-05-02T09:31:17.690Z"
   },
   {
    "duration": 4,
    "start_time": "2024-05-02T09:31:17.715Z"
   },
   {
    "duration": 12,
    "start_time": "2024-05-02T09:31:17.720Z"
   },
   {
    "duration": 8,
    "start_time": "2024-05-02T09:31:17.733Z"
   },
   {
    "duration": 11,
    "start_time": "2024-05-02T09:31:17.742Z"
   },
   {
    "duration": 12,
    "start_time": "2024-05-02T09:31:17.756Z"
   },
   {
    "duration": 7,
    "start_time": "2024-05-02T09:31:17.770Z"
   },
   {
    "duration": 40,
    "start_time": "2024-05-02T09:31:17.778Z"
   },
   {
    "duration": 18,
    "start_time": "2024-05-02T09:31:17.820Z"
   },
   {
    "duration": 15,
    "start_time": "2024-05-02T09:31:17.840Z"
   },
   {
    "duration": 37,
    "start_time": "2024-05-02T09:31:17.857Z"
   },
   {
    "duration": 45,
    "start_time": "2024-05-02T09:31:17.897Z"
   },
   {
    "duration": 9,
    "start_time": "2024-05-02T09:31:17.943Z"
   },
   {
    "duration": 204,
    "start_time": "2024-05-02T09:31:17.954Z"
   },
   {
    "duration": 12,
    "start_time": "2024-05-02T09:31:18.160Z"
   },
   {
    "duration": 298,
    "start_time": "2024-05-02T09:31:18.174Z"
   },
   {
    "duration": 10,
    "start_time": "2024-05-02T09:31:18.474Z"
   },
   {
    "duration": 6,
    "start_time": "2024-05-02T09:31:18.485Z"
   },
   {
    "duration": 314,
    "start_time": "2024-05-02T09:31:18.493Z"
   },
   {
    "duration": 7,
    "start_time": "2024-05-02T09:31:18.810Z"
   },
   {
    "duration": 1196,
    "start_time": "2024-05-02T09:31:18.819Z"
   },
   {
    "duration": 1300,
    "start_time": "2024-05-02T09:31:20.017Z"
   },
   {
    "duration": 198,
    "start_time": "2024-05-02T09:31:21.319Z"
   },
   {
    "duration": 190,
    "start_time": "2024-05-02T09:31:21.518Z"
   },
   {
    "duration": 9,
    "start_time": "2024-05-02T09:31:21.709Z"
   },
   {
    "duration": 200,
    "start_time": "2024-05-02T09:31:21.720Z"
   },
   {
    "duration": 201,
    "start_time": "2024-05-02T09:31:21.921Z"
   },
   {
    "duration": 192,
    "start_time": "2024-05-02T09:31:22.124Z"
   },
   {
    "duration": 203,
    "start_time": "2024-05-02T09:31:22.318Z"
   },
   {
    "duration": 234,
    "start_time": "2024-05-02T09:31:22.523Z"
   },
   {
    "duration": 308,
    "start_time": "2024-05-02T09:31:22.759Z"
   },
   {
    "duration": 23,
    "start_time": "2024-05-02T09:31:23.069Z"
   },
   {
    "duration": 27,
    "start_time": "2024-05-02T09:31:23.095Z"
   },
   {
    "duration": 24,
    "start_time": "2024-05-02T09:31:23.124Z"
   },
   {
    "duration": 15,
    "start_time": "2024-05-02T09:31:23.150Z"
   },
   {
    "duration": 22,
    "start_time": "2024-05-02T09:31:23.166Z"
   },
   {
    "duration": 28,
    "start_time": "2024-05-02T09:31:23.189Z"
   },
   {
    "duration": 25,
    "start_time": "2024-05-02T09:31:23.218Z"
   },
   {
    "duration": 20,
    "start_time": "2024-05-02T09:31:23.245Z"
   },
   {
    "duration": 42,
    "start_time": "2024-05-02T09:31:23.266Z"
   },
   {
    "duration": 85,
    "start_time": "2024-05-02T09:31:23.309Z"
   },
   {
    "duration": 23,
    "start_time": "2024-05-02T09:31:23.396Z"
   }
  ],
  "kernelspec": {
   "display_name": "Python 3 (ipykernel)",
   "language": "python",
   "name": "python3"
  },
  "language_info": {
   "codemirror_mode": {
    "name": "ipython",
    "version": 3
   },
   "file_extension": ".py",
   "mimetype": "text/x-python",
   "name": "python",
   "nbconvert_exporter": "python",
   "pygments_lexer": "ipython3",
   "version": "3.9.5"
  },
  "toc": {
   "base_numbering": 1,
   "nav_menu": {},
   "number_sections": true,
   "sideBar": true,
   "skip_h1_title": true,
   "title_cell": "Table of Contents",
   "title_sidebar": "Contents",
   "toc_cell": false,
   "toc_position": {
    "height": "calc(100% - 180px)",
    "left": "10px",
    "top": "150px",
    "width": "384px"
   },
   "toc_section_display": true,
   "toc_window_display": false
  }
 },
 "nbformat": 4,
 "nbformat_minor": 2
}
