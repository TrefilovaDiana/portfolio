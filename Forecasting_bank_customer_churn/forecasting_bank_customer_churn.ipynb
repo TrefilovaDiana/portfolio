{
 "cells": [
  {
   "cell_type": "markdown",
   "metadata": {},
   "source": [
    "# Прогнозирование оттока клиента Банка"
   ]
  },
  {
   "cell_type": "markdown",
   "metadata": {},
   "source": [
    "# Задача\n",
    "Из «Бета-Банка» стали уходить клиенты. Каждый месяц. Немного, но заметно. Банковские маркетологи посчитали: сохранять текущих клиентов дешевле, чем привлекать новых.\n",
    "\n",
    "Нужно спрогнозировать, уйдёт клиент из банка в ближайшее время или нет. Нам предоставлены исторические данные о поведении клиентов и расторжении договоров с банком. \n",
    "\n",
    "Нужно построить модель с предельно большим значением *F1*-меры. Требуется довести метрику до 0.59."
   ]
  },
  {
   "cell_type": "markdown",
   "metadata": {},
   "source": [
    "# План"
   ]
  },
  {
   "cell_type": "markdown",
   "metadata": {},
   "source": [
    "**1. Подготовка данных.**\n",
    "\n",
    "**2. Исследование задачи.**\n",
    "\n",
    "**3. Борьба с дисбалансом.**\n",
    "\n",
    "**4. Тестирование модели.**\n",
    "\n",
    "**5. Выводы.**"
   ]
  },
  {
   "cell_type": "markdown",
   "metadata": {},
   "source": [
    "## Подготовка данных"
   ]
  },
  {
   "cell_type": "code",
   "execution_count": 1,
   "metadata": {},
   "outputs": [],
   "source": [
    "import pandas as pd\n",
    "from sklearn.model_selection import train_test_split\n",
    "from sklearn.ensemble import RandomForestClassifier\n",
    "from sklearn.linear_model import LogisticRegression\n",
    "from sklearn.metrics import f1_score\n",
    "from sklearn.utils import shuffle\n",
    "import numpy as np\n",
    "from sklearn.metrics import roc_auc_score\n",
    "from sklearn.preprocessing import StandardScaler\n",
    "import warnings\n",
    "\n",
    "warnings.filterwarnings('ignore')"
   ]
  },
  {
   "cell_type": "code",
   "execution_count": 2,
   "metadata": {},
   "outputs": [
    {
     "data": {
      "text/html": [
       "<div>\n",
       "<style scoped>\n",
       "    .dataframe tbody tr th:only-of-type {\n",
       "        vertical-align: middle;\n",
       "    }\n",
       "\n",
       "    .dataframe tbody tr th {\n",
       "        vertical-align: top;\n",
       "    }\n",
       "\n",
       "    .dataframe thead th {\n",
       "        text-align: right;\n",
       "    }\n",
       "</style>\n",
       "<table border=\"1\" class=\"dataframe\">\n",
       "  <thead>\n",
       "    <tr style=\"text-align: right;\">\n",
       "      <th></th>\n",
       "      <th>RowNumber</th>\n",
       "      <th>CustomerId</th>\n",
       "      <th>Surname</th>\n",
       "      <th>CreditScore</th>\n",
       "      <th>Geography</th>\n",
       "      <th>Gender</th>\n",
       "      <th>Age</th>\n",
       "      <th>Tenure</th>\n",
       "      <th>Balance</th>\n",
       "      <th>NumOfProducts</th>\n",
       "      <th>HasCrCard</th>\n",
       "      <th>IsActiveMember</th>\n",
       "      <th>EstimatedSalary</th>\n",
       "      <th>Exited</th>\n",
       "    </tr>\n",
       "  </thead>\n",
       "  <tbody>\n",
       "    <tr>\n",
       "      <th>0</th>\n",
       "      <td>1</td>\n",
       "      <td>15634602</td>\n",
       "      <td>Hargrave</td>\n",
       "      <td>619</td>\n",
       "      <td>France</td>\n",
       "      <td>Female</td>\n",
       "      <td>42</td>\n",
       "      <td>2.0</td>\n",
       "      <td>0.00</td>\n",
       "      <td>1</td>\n",
       "      <td>1</td>\n",
       "      <td>1</td>\n",
       "      <td>101348.88</td>\n",
       "      <td>1</td>\n",
       "    </tr>\n",
       "    <tr>\n",
       "      <th>1</th>\n",
       "      <td>2</td>\n",
       "      <td>15647311</td>\n",
       "      <td>Hill</td>\n",
       "      <td>608</td>\n",
       "      <td>Spain</td>\n",
       "      <td>Female</td>\n",
       "      <td>41</td>\n",
       "      <td>1.0</td>\n",
       "      <td>83807.86</td>\n",
       "      <td>1</td>\n",
       "      <td>0</td>\n",
       "      <td>1</td>\n",
       "      <td>112542.58</td>\n",
       "      <td>0</td>\n",
       "    </tr>\n",
       "    <tr>\n",
       "      <th>2</th>\n",
       "      <td>3</td>\n",
       "      <td>15619304</td>\n",
       "      <td>Onio</td>\n",
       "      <td>502</td>\n",
       "      <td>France</td>\n",
       "      <td>Female</td>\n",
       "      <td>42</td>\n",
       "      <td>8.0</td>\n",
       "      <td>159660.80</td>\n",
       "      <td>3</td>\n",
       "      <td>1</td>\n",
       "      <td>0</td>\n",
       "      <td>113931.57</td>\n",
       "      <td>1</td>\n",
       "    </tr>\n",
       "    <tr>\n",
       "      <th>3</th>\n",
       "      <td>4</td>\n",
       "      <td>15701354</td>\n",
       "      <td>Boni</td>\n",
       "      <td>699</td>\n",
       "      <td>France</td>\n",
       "      <td>Female</td>\n",
       "      <td>39</td>\n",
       "      <td>1.0</td>\n",
       "      <td>0.00</td>\n",
       "      <td>2</td>\n",
       "      <td>0</td>\n",
       "      <td>0</td>\n",
       "      <td>93826.63</td>\n",
       "      <td>0</td>\n",
       "    </tr>\n",
       "    <tr>\n",
       "      <th>4</th>\n",
       "      <td>5</td>\n",
       "      <td>15737888</td>\n",
       "      <td>Mitchell</td>\n",
       "      <td>850</td>\n",
       "      <td>Spain</td>\n",
       "      <td>Female</td>\n",
       "      <td>43</td>\n",
       "      <td>2.0</td>\n",
       "      <td>125510.82</td>\n",
       "      <td>1</td>\n",
       "      <td>1</td>\n",
       "      <td>1</td>\n",
       "      <td>79084.10</td>\n",
       "      <td>0</td>\n",
       "    </tr>\n",
       "    <tr>\n",
       "      <th>...</th>\n",
       "      <td>...</td>\n",
       "      <td>...</td>\n",
       "      <td>...</td>\n",
       "      <td>...</td>\n",
       "      <td>...</td>\n",
       "      <td>...</td>\n",
       "      <td>...</td>\n",
       "      <td>...</td>\n",
       "      <td>...</td>\n",
       "      <td>...</td>\n",
       "      <td>...</td>\n",
       "      <td>...</td>\n",
       "      <td>...</td>\n",
       "      <td>...</td>\n",
       "    </tr>\n",
       "    <tr>\n",
       "      <th>9995</th>\n",
       "      <td>9996</td>\n",
       "      <td>15606229</td>\n",
       "      <td>Obijiaku</td>\n",
       "      <td>771</td>\n",
       "      <td>France</td>\n",
       "      <td>Male</td>\n",
       "      <td>39</td>\n",
       "      <td>5.0</td>\n",
       "      <td>0.00</td>\n",
       "      <td>2</td>\n",
       "      <td>1</td>\n",
       "      <td>0</td>\n",
       "      <td>96270.64</td>\n",
       "      <td>0</td>\n",
       "    </tr>\n",
       "    <tr>\n",
       "      <th>9996</th>\n",
       "      <td>9997</td>\n",
       "      <td>15569892</td>\n",
       "      <td>Johnstone</td>\n",
       "      <td>516</td>\n",
       "      <td>France</td>\n",
       "      <td>Male</td>\n",
       "      <td>35</td>\n",
       "      <td>10.0</td>\n",
       "      <td>57369.61</td>\n",
       "      <td>1</td>\n",
       "      <td>1</td>\n",
       "      <td>1</td>\n",
       "      <td>101699.77</td>\n",
       "      <td>0</td>\n",
       "    </tr>\n",
       "    <tr>\n",
       "      <th>9997</th>\n",
       "      <td>9998</td>\n",
       "      <td>15584532</td>\n",
       "      <td>Liu</td>\n",
       "      <td>709</td>\n",
       "      <td>France</td>\n",
       "      <td>Female</td>\n",
       "      <td>36</td>\n",
       "      <td>7.0</td>\n",
       "      <td>0.00</td>\n",
       "      <td>1</td>\n",
       "      <td>0</td>\n",
       "      <td>1</td>\n",
       "      <td>42085.58</td>\n",
       "      <td>1</td>\n",
       "    </tr>\n",
       "    <tr>\n",
       "      <th>9998</th>\n",
       "      <td>9999</td>\n",
       "      <td>15682355</td>\n",
       "      <td>Sabbatini</td>\n",
       "      <td>772</td>\n",
       "      <td>Germany</td>\n",
       "      <td>Male</td>\n",
       "      <td>42</td>\n",
       "      <td>3.0</td>\n",
       "      <td>75075.31</td>\n",
       "      <td>2</td>\n",
       "      <td>1</td>\n",
       "      <td>0</td>\n",
       "      <td>92888.52</td>\n",
       "      <td>1</td>\n",
       "    </tr>\n",
       "    <tr>\n",
       "      <th>9999</th>\n",
       "      <td>10000</td>\n",
       "      <td>15628319</td>\n",
       "      <td>Walker</td>\n",
       "      <td>792</td>\n",
       "      <td>France</td>\n",
       "      <td>Female</td>\n",
       "      <td>28</td>\n",
       "      <td>NaN</td>\n",
       "      <td>130142.79</td>\n",
       "      <td>1</td>\n",
       "      <td>1</td>\n",
       "      <td>0</td>\n",
       "      <td>38190.78</td>\n",
       "      <td>0</td>\n",
       "    </tr>\n",
       "  </tbody>\n",
       "</table>\n",
       "<p>10000 rows × 14 columns</p>\n",
       "</div>"
      ],
      "text/plain": [
       "      RowNumber  CustomerId    Surname  CreditScore Geography  Gender  Age  \\\n",
       "0             1    15634602   Hargrave          619    France  Female   42   \n",
       "1             2    15647311       Hill          608     Spain  Female   41   \n",
       "2             3    15619304       Onio          502    France  Female   42   \n",
       "3             4    15701354       Boni          699    France  Female   39   \n",
       "4             5    15737888   Mitchell          850     Spain  Female   43   \n",
       "...         ...         ...        ...          ...       ...     ...  ...   \n",
       "9995       9996    15606229   Obijiaku          771    France    Male   39   \n",
       "9996       9997    15569892  Johnstone          516    France    Male   35   \n",
       "9997       9998    15584532        Liu          709    France  Female   36   \n",
       "9998       9999    15682355  Sabbatini          772   Germany    Male   42   \n",
       "9999      10000    15628319     Walker          792    France  Female   28   \n",
       "\n",
       "      Tenure    Balance  NumOfProducts  HasCrCard  IsActiveMember  \\\n",
       "0        2.0       0.00              1          1               1   \n",
       "1        1.0   83807.86              1          0               1   \n",
       "2        8.0  159660.80              3          1               0   \n",
       "3        1.0       0.00              2          0               0   \n",
       "4        2.0  125510.82              1          1               1   \n",
       "...      ...        ...            ...        ...             ...   \n",
       "9995     5.0       0.00              2          1               0   \n",
       "9996    10.0   57369.61              1          1               1   \n",
       "9997     7.0       0.00              1          0               1   \n",
       "9998     3.0   75075.31              2          1               0   \n",
       "9999     NaN  130142.79              1          1               0   \n",
       "\n",
       "      EstimatedSalary  Exited  \n",
       "0           101348.88       1  \n",
       "1           112542.58       0  \n",
       "2           113931.57       1  \n",
       "3            93826.63       0  \n",
       "4            79084.10       0  \n",
       "...               ...     ...  \n",
       "9995         96270.64       0  \n",
       "9996        101699.77       0  \n",
       "9997         42085.58       1  \n",
       "9998         92888.52       1  \n",
       "9999         38190.78       0  \n",
       "\n",
       "[10000 rows x 14 columns]"
      ]
     },
     "execution_count": 2,
     "metadata": {},
     "output_type": "execute_result"
    }
   ],
   "source": [
    "churn_data = pd.read_csv('/datasets/Churn.csv')\n",
    "churn_data"
   ]
  },
  {
   "cell_type": "code",
   "execution_count": 3,
   "metadata": {},
   "outputs": [
    {
     "name": "stdout",
     "output_type": "stream",
     "text": [
      "<class 'pandas.core.frame.DataFrame'>\n",
      "RangeIndex: 10000 entries, 0 to 9999\n",
      "Data columns (total 14 columns):\n",
      " #   Column           Non-Null Count  Dtype  \n",
      "---  ------           --------------  -----  \n",
      " 0   RowNumber        10000 non-null  int64  \n",
      " 1   CustomerId       10000 non-null  int64  \n",
      " 2   Surname          10000 non-null  object \n",
      " 3   CreditScore      10000 non-null  int64  \n",
      " 4   Geography        10000 non-null  object \n",
      " 5   Gender           10000 non-null  object \n",
      " 6   Age              10000 non-null  int64  \n",
      " 7   Tenure           9091 non-null   float64\n",
      " 8   Balance          10000 non-null  float64\n",
      " 9   NumOfProducts    10000 non-null  int64  \n",
      " 10  HasCrCard        10000 non-null  int64  \n",
      " 11  IsActiveMember   10000 non-null  int64  \n",
      " 12  EstimatedSalary  10000 non-null  float64\n",
      " 13  Exited           10000 non-null  int64  \n",
      "dtypes: float64(3), int64(8), object(3)\n",
      "memory usage: 1.1+ MB\n"
     ]
    }
   ],
   "source": [
    "churn_data.info()"
   ]
  },
  {
   "cell_type": "markdown",
   "metadata": {},
   "source": [
    "**Промежуточные выводы**\n",
    "\n",
    "Итак, нам нужно устранить пропуски в столбце Tenure, поправить названия столбцов, а также проверить данные на наличие дубликатов."
   ]
  },
  {
   "cell_type": "code",
   "execution_count": 4,
   "metadata": {},
   "outputs": [],
   "source": [
    "#Исправим названия столбцов\n",
    "churn_data = churn_data.rename(columns={'RowNumber':'row_number', 'CustomerId':'customer_id', \\\n",
    "                                        'CreditScore':'credit_score', 'NumOfProducts':'num_of_products', \\\n",
    "                                        'HasCrCard':'has_cr_card', 'IsActiveMember':'is_active_member', \\\n",
    "                                        'EstimatedSalary':'estimated_salary'})\n",
    "churn_data.columns = churn_data.columns.str.lower()"
   ]
  },
  {
   "cell_type": "code",
   "execution_count": 5,
   "metadata": {},
   "outputs": [],
   "source": [
    "#Избавимся от пропусков в столбце tenure\n",
    "#Из всех данных на пропуски приходится 9%, поэтому мы можем удалить эти строки\n",
    "churn_data = churn_data.loc[churn_data['tenure'].isna() == False]"
   ]
  },
  {
   "cell_type": "code",
   "execution_count": 6,
   "metadata": {},
   "outputs": [
    {
     "name": "stdout",
     "output_type": "stream",
     "text": [
      "<class 'pandas.core.frame.DataFrame'>\n",
      "Int64Index: 9091 entries, 0 to 9998\n",
      "Data columns (total 14 columns):\n",
      " #   Column            Non-Null Count  Dtype  \n",
      "---  ------            --------------  -----  \n",
      " 0   row_number        9091 non-null   int64  \n",
      " 1   customer_id       9091 non-null   int64  \n",
      " 2   surname           9091 non-null   object \n",
      " 3   credit_score      9091 non-null   int64  \n",
      " 4   geography         9091 non-null   object \n",
      " 5   gender            9091 non-null   object \n",
      " 6   age               9091 non-null   int64  \n",
      " 7   tenure            9091 non-null   float64\n",
      " 8   balance           9091 non-null   float64\n",
      " 9   num_of_products   9091 non-null   int64  \n",
      " 10  has_cr_card       9091 non-null   int64  \n",
      " 11  is_active_member  9091 non-null   int64  \n",
      " 12  estimated_salary  9091 non-null   float64\n",
      " 13  exited            9091 non-null   int64  \n",
      "dtypes: float64(3), int64(8), object(3)\n",
      "memory usage: 1.0+ MB\n"
     ]
    }
   ],
   "source": [
    "churn_data.info()"
   ]
  },
  {
   "cell_type": "code",
   "execution_count": 7,
   "metadata": {},
   "outputs": [
    {
     "name": "stdout",
     "output_type": "stream",
     "text": [
      "0\n",
      "['France' 'Spain' 'Germany']\n",
      "['Female' 'Male']\n"
     ]
    }
   ],
   "source": [
    "#Проверим данные на наличие дубликатов\n",
    "print(churn_data.duplicated().sum())\n",
    "print(churn_data['geography'].unique())\n",
    "print(churn_data['gender'].unique())"
   ]
  },
  {
   "cell_type": "markdown",
   "metadata": {},
   "source": [
    "**Промежуточные выводы**\n",
    "\n",
    "Мы устранили пропуски в столбце Tenure, поправили названия столбцов. Дубликаты в данных не обнаружены."
   ]
  },
  {
   "cell_type": "markdown",
   "metadata": {},
   "source": [
    "## Исследование задачи"
   ]
  },
  {
   "cell_type": "code",
   "execution_count": 8,
   "metadata": {},
   "outputs": [
    {
     "name": "stdout",
     "output_type": "stream",
     "text": [
      "79.60620393796061\n",
      "20.393796062039378\n"
     ]
    }
   ],
   "source": [
    "#Изучим баланс классов\n",
    "print(churn_data.loc[churn_data['exited'] == 0, 'exited'].count()/len(churn_data)*100)\n",
    "print(churn_data.loc[churn_data['exited'] == 1, 'exited'].count()/len(churn_data)*100)"
   ]
  },
  {
   "cell_type": "markdown",
   "metadata": {},
   "source": [
    "**Промежуточные выводы**\n",
    "\n",
    "Наши данные не сбалансированны: на класс \"0\" приходится 80% данных, а на класс \"1\" - 20%."
   ]
  },
  {
   "cell_type": "code",
   "execution_count": 9,
   "metadata": {},
   "outputs": [
    {
     "name": "stdout",
     "output_type": "stream",
     "text": [
      "(5454, 11)\n",
      "(5454,)\n",
      "(1818, 11)\n",
      "(1818,)\n",
      "(1819, 11)\n",
      "(1819,)\n"
     ]
    }
   ],
   "source": [
    "#Столбцы RowNumber — индекс строки в данных, CustomerId — уникальный идентификатор клиента,\n",
    "#Surname — фамилия в ислледовании не помогут, так что удалим их\n",
    "\n",
    "clear_churn_data = churn_data.drop(['row_number', 'customer_id', 'surname'], axis=1)\n",
    "\n",
    "#Обучим модель без учета дисбаланса\n",
    "data_ohe = pd.get_dummies(clear_churn_data, drop_first=True)\n",
    "target = data_ohe['exited']\n",
    "features = data_ohe.drop('exited', axis=1)\n",
    "\n",
    "features_train, features_ost, target_train, target_ost = train_test_split(features, target, test_size=0.4, \\\n",
    "                                                                          random_state=12345, stratify=target)\n",
    "features_valid, features_test, target_valid, target_test = train_test_split(features_ost, target_ost, \\\n",
    "                                                                            test_size=0.5, random_state=12345, \\\n",
    "                                                                            stratify=target_ost)\n",
    "print(features_train.shape)\n",
    "print(target_train.shape)\n",
    "print(features_valid.shape)\n",
    "print(target_valid.shape)\n",
    "print(features_test.shape)\n",
    "print(target_test.shape)"
   ]
  },
  {
   "cell_type": "code",
   "execution_count": 10,
   "metadata": {},
   "outputs": [
    {
     "name": "stdout",
     "output_type": "stream",
     "text": [
      "<class 'pandas.core.frame.DataFrame'>\n",
      "Int64Index: 9091 entries, 0 to 9998\n",
      "Data columns (total 12 columns):\n",
      " #   Column             Non-Null Count  Dtype  \n",
      "---  ------             --------------  -----  \n",
      " 0   credit_score       9091 non-null   int64  \n",
      " 1   age                9091 non-null   int64  \n",
      " 2   tenure             9091 non-null   float64\n",
      " 3   balance            9091 non-null   float64\n",
      " 4   num_of_products    9091 non-null   int64  \n",
      " 5   has_cr_card        9091 non-null   int64  \n",
      " 6   is_active_member   9091 non-null   int64  \n",
      " 7   estimated_salary   9091 non-null   float64\n",
      " 8   exited             9091 non-null   int64  \n",
      " 9   geography_Germany  9091 non-null   uint8  \n",
      " 10  geography_Spain    9091 non-null   uint8  \n",
      " 11  gender_Male        9091 non-null   uint8  \n",
      "dtypes: float64(3), int64(6), uint8(3)\n",
      "memory usage: 736.9 KB\n"
     ]
    }
   ],
   "source": [
    "data_ohe.info()"
   ]
  },
  {
   "cell_type": "code",
   "execution_count": 11,
   "metadata": {},
   "outputs": [
    {
     "data": {
      "text/html": [
       "<div>\n",
       "<style scoped>\n",
       "    .dataframe tbody tr th:only-of-type {\n",
       "        vertical-align: middle;\n",
       "    }\n",
       "\n",
       "    .dataframe tbody tr th {\n",
       "        vertical-align: top;\n",
       "    }\n",
       "\n",
       "    .dataframe thead th {\n",
       "        text-align: right;\n",
       "    }\n",
       "</style>\n",
       "<table border=\"1\" class=\"dataframe\">\n",
       "  <thead>\n",
       "    <tr style=\"text-align: right;\">\n",
       "      <th></th>\n",
       "      <th>credit_score</th>\n",
       "      <th>age</th>\n",
       "      <th>tenure</th>\n",
       "      <th>balance</th>\n",
       "      <th>num_of_products</th>\n",
       "      <th>has_cr_card</th>\n",
       "      <th>is_active_member</th>\n",
       "      <th>estimated_salary</th>\n",
       "      <th>geography_Germany</th>\n",
       "      <th>geography_Spain</th>\n",
       "      <th>gender_Male</th>\n",
       "    </tr>\n",
       "  </thead>\n",
       "  <tbody>\n",
       "    <tr>\n",
       "      <th>9723</th>\n",
       "      <td>-1.292898</td>\n",
       "      <td>-0.660843</td>\n",
       "      <td>0.686341</td>\n",
       "      <td>0.786636</td>\n",
       "      <td>-0.910943</td>\n",
       "      <td>0</td>\n",
       "      <td>0</td>\n",
       "      <td>-0.223548</td>\n",
       "      <td>0</td>\n",
       "      <td>0</td>\n",
       "      <td>1</td>\n",
       "    </tr>\n",
       "    <tr>\n",
       "      <th>1224</th>\n",
       "      <td>-1.563714</td>\n",
       "      <td>0.778434</td>\n",
       "      <td>1.034232</td>\n",
       "      <td>0.833795</td>\n",
       "      <td>-0.910943</td>\n",
       "      <td>1</td>\n",
       "      <td>0</td>\n",
       "      <td>1.383021</td>\n",
       "      <td>0</td>\n",
       "      <td>1</td>\n",
       "      <td>0</td>\n",
       "    </tr>\n",
       "    <tr>\n",
       "      <th>8377</th>\n",
       "      <td>1.581914</td>\n",
       "      <td>0.106771</td>\n",
       "      <td>-0.357331</td>\n",
       "      <td>-1.222967</td>\n",
       "      <td>0.789359</td>\n",
       "      <td>1</td>\n",
       "      <td>1</td>\n",
       "      <td>-0.308331</td>\n",
       "      <td>0</td>\n",
       "      <td>1</td>\n",
       "      <td>1</td>\n",
       "    </tr>\n",
       "    <tr>\n",
       "      <th>8014</th>\n",
       "      <td>0.842379</td>\n",
       "      <td>0.010820</td>\n",
       "      <td>-1.053112</td>\n",
       "      <td>0.807063</td>\n",
       "      <td>-0.910943</td>\n",
       "      <td>1</td>\n",
       "      <td>1</td>\n",
       "      <td>-0.430980</td>\n",
       "      <td>0</td>\n",
       "      <td>1</td>\n",
       "      <td>0</td>\n",
       "    </tr>\n",
       "    <tr>\n",
       "      <th>2491</th>\n",
       "      <td>-0.397123</td>\n",
       "      <td>-1.236554</td>\n",
       "      <td>-0.357331</td>\n",
       "      <td>-1.222967</td>\n",
       "      <td>0.789359</td>\n",
       "      <td>1</td>\n",
       "      <td>1</td>\n",
       "      <td>1.392642</td>\n",
       "      <td>0</td>\n",
       "      <td>1</td>\n",
       "      <td>0</td>\n",
       "    </tr>\n",
       "  </tbody>\n",
       "</table>\n",
       "</div>"
      ],
      "text/plain": [
       "      credit_score       age    tenure   balance  num_of_products  \\\n",
       "9723     -1.292898 -0.660843  0.686341  0.786636        -0.910943   \n",
       "1224     -1.563714  0.778434  1.034232  0.833795        -0.910943   \n",
       "8377      1.581914  0.106771 -0.357331 -1.222967         0.789359   \n",
       "8014      0.842379  0.010820 -1.053112  0.807063        -0.910943   \n",
       "2491     -0.397123 -1.236554 -0.357331 -1.222967         0.789359   \n",
       "\n",
       "      has_cr_card  is_active_member  estimated_salary  geography_Germany  \\\n",
       "9723            0                 0         -0.223548                  0   \n",
       "1224            1                 0          1.383021                  0   \n",
       "8377            1                 1         -0.308331                  0   \n",
       "8014            1                 1         -0.430980                  0   \n",
       "2491            1                 1          1.392642                  0   \n",
       "\n",
       "      geography_Spain  gender_Male  \n",
       "9723                0            1  \n",
       "1224                1            0  \n",
       "8377                1            1  \n",
       "8014                1            0  \n",
       "2491                1            0  "
      ]
     },
     "execution_count": 11,
     "metadata": {},
     "output_type": "execute_result"
    }
   ],
   "source": [
    "#Масштабируем данные\n",
    "numeric = ['credit_score', 'age', 'tenure', 'balance', 'num_of_products', 'estimated_salary']\n",
    "\n",
    "scaler = StandardScaler()\n",
    "scaler.fit(features_train[numeric])\n",
    "\n",
    "features_train[numeric] = scaler.transform(features_train[numeric])\n",
    "features_valid[numeric] = scaler.transform(features_valid[numeric])\n",
    "features_test[numeric] = scaler.transform(features_test[numeric])\n",
    "\n",
    "features_train.head()"
   ]
  },
  {
   "cell_type": "code",
   "execution_count": 12,
   "metadata": {},
   "outputs": [
    {
     "name": "stdout",
     "output_type": "stream",
     "text": [
      "Глубина: 26\n",
      "Кол-во деревьев: 41\n",
      "f1: 0.6134185303514377\n"
     ]
    }
   ],
   "source": [
    "#Рассмотрим случайный лес\n",
    "random_forest_model = None\n",
    "best_result = 0\n",
    "best_est = 0\n",
    "best_depth = 0\n",
    "\n",
    "for depth in range(1, 100, 5):\n",
    "    for est in range(1, 100, 5):\n",
    "        model = RandomForestClassifier(n_estimators=est, max_depth=depth, random_state=12345)\n",
    "        model.fit(features_train, target_train)\n",
    "        result = model.score(features_valid, target_valid)\n",
    "        predicted_valid = model.predict(features_valid)\n",
    "        if f1_score(target_valid, predicted_valid) > best_result:\n",
    "            random_forest_model = model\n",
    "            best_result = f1_score(target_valid, predicted_valid)\n",
    "            best_depth = depth\n",
    "            best_est = est\n",
    "            \n",
    "print('Глубина:', best_depth)\n",
    "print('Кол-во деревьев:', best_est)\n",
    "print(\"f1:\", best_result)\n"
   ]
  },
  {
   "cell_type": "code",
   "execution_count": 13,
   "metadata": {},
   "outputs": [
    {
     "name": "stdout",
     "output_type": "stream",
     "text": [
      "Кол-во итераций: 100\n",
      "f1: 0.3306772908366534\n"
     ]
    }
   ],
   "source": [
    "# Рассмотрим логистическую регрессию\n",
    "regression_model = None\n",
    "best_result = 0\n",
    "best_iter = 0\n",
    "\n",
    "for i in range(100, 1000, 100):\n",
    "    model = LogisticRegression(random_state=12345, solver='lbfgs', max_iter=i) \n",
    "    model.fit(features_train, target_train)\n",
    "    result = model.score(features_valid, target_valid)\n",
    "    predicted_valid = model.predict(features_valid)\n",
    "    if f1_score(target_valid, predicted_valid) > best_result:\n",
    "        regression_model = model\n",
    "        best_result = f1_score(target_valid, predicted_valid)\n",
    "        best_iter = i\n",
    "            \n",
    "print('Кол-во итераций:', best_iter)\n",
    "print(\"f1:\", best_result)"
   ]
  },
  {
   "cell_type": "markdown",
   "metadata": {},
   "source": [
    "**Промежуточный вывод**\n",
    "\n",
    "Лучший результат показывает модель случайного леса с глубиной 26 и количеством деревьев 41."
   ]
  },
  {
   "cell_type": "code",
   "execution_count": 14,
   "metadata": {},
   "outputs": [
    {
     "name": "stdout",
     "output_type": "stream",
     "text": [
      "0.6134185303514377\n",
      "0.0\n"
     ]
    }
   ],
   "source": [
    "#Вычислим значение F1-меры\n",
    "predicted_valid = random_forest_model.predict(features_valid)\n",
    "print(f1_score(target_valid, predicted_valid))\n",
    "\n",
    "#Вычислим значение F1-меры для константной модели\n",
    "predicted_constant = pd.Series([0]*len(target_valid))\n",
    "print(f1_score(target_valid, predicted_constant))"
   ]
  },
  {
   "cell_type": "markdown",
   "metadata": {},
   "source": [
    "**Промежуточный вывод**\n",
    "\n",
    "Получили значение F1-меры 0.61."
   ]
  },
  {
   "cell_type": "markdown",
   "metadata": {},
   "source": [
    "**Выводы**\n",
    "\n",
    "Лучший результат показывает модель случайного леса с глубиной 26 и количеством деревьев 41.\n",
    "Значение F1-меры - 0.61."
   ]
  },
  {
   "cell_type": "markdown",
   "metadata": {},
   "source": [
    "## Борьба с дисбалансом"
   ]
  },
  {
   "cell_type": "code",
   "execution_count": 15,
   "metadata": {},
   "outputs": [
    {
     "name": "stdout",
     "output_type": "stream",
     "text": [
      "F1: 0.5704584040747029\n"
     ]
    }
   ],
   "source": [
    "#Сделаем веса классов сбалансированными\n",
    "model = RandomForestClassifier(random_state=12345, n_estimators=84, max_depth=19, class_weight='balanced')\n",
    "model.fit(features_train, target_train)\n",
    "predicted_valid = model.predict(features_valid)\n",
    "print(\"F1:\", f1_score(target_valid, predicted_valid))"
   ]
  },
  {
   "cell_type": "markdown",
   "metadata": {},
   "source": [
    "Значение F1-меры составило 0,57."
   ]
  },
  {
   "cell_type": "code",
   "execution_count": 16,
   "metadata": {},
   "outputs": [
    {
     "name": "stdout",
     "output_type": "stream",
     "text": [
      "F1: 0.6226138032305433\n"
     ]
    }
   ],
   "source": [
    "#Увеличим выборку\n",
    "def upsample(features, target, repeat):\n",
    "    features_zeros = features[target == 0]\n",
    "    features_ones = features[target == 1]\n",
    "    target_zeros = target[target == 0]\n",
    "    target_ones = target[target == 1]\n",
    "\n",
    "    features_upsampled = pd.concat([features_zeros] + [features_ones] * repeat)\n",
    "    target_upsampled = pd.concat([target_zeros] + [target_ones] * repeat)\n",
    "    \n",
    "    features_upsampled, target_upsampled = shuffle(\n",
    "        features_upsampled, target_upsampled, random_state=12345)\n",
    "    \n",
    "    return features_upsampled, target_upsampled\n",
    "\n",
    "features_upsampled, target_upsampled = upsample(features_train, target_train, 4)\n",
    "\n",
    "model = RandomForestClassifier(random_state=12345, n_estimators=84, max_depth=19)\n",
    "\n",
    "model.fit(features_upsampled, target_upsampled)\n",
    "predicted_valid = model.predict(features_valid)\n",
    "\n",
    "print(\"F1:\", f1_score(target_valid, predicted_valid))"
   ]
  },
  {
   "cell_type": "markdown",
   "metadata": {},
   "source": [
    "Значение F1-меры - 0,62."
   ]
  },
  {
   "cell_type": "code",
   "execution_count": 17,
   "metadata": {},
   "outputs": [
    {
     "name": "stdout",
     "output_type": "stream",
     "text": [
      "F1: 0.6112266112266113\n"
     ]
    }
   ],
   "source": [
    "#Уменьшим выборку\n",
    "def downsample(features, target, fraction):\n",
    "    features_zeros = features[target == 0]\n",
    "    features_ones = features[target == 1]\n",
    "    target_zeros = target[target == 0]\n",
    "    target_ones = target[target == 1]\n",
    "\n",
    "    features_downsampled = pd.concat(\n",
    "        [features_zeros.sample(frac=fraction, random_state=12345)] + [features_ones])\n",
    "    target_downsampled = pd.concat(\n",
    "        [target_zeros.sample(frac=fraction, random_state=12345)] + [target_ones])\n",
    "    \n",
    "    features_downsampled, target_downsampled = shuffle(\n",
    "        features_downsampled, target_downsampled, random_state=12345)\n",
    "    \n",
    "    return features_downsampled, target_downsampled\n",
    "\n",
    "features_downsampled, target_downsampled = downsample(features_train, target_train, 0.25)\n",
    "\n",
    "model = RandomForestClassifier(random_state=12345, n_estimators=84, max_depth=19)\n",
    "model.fit(features_downsampled, target_downsampled)\n",
    "predicted_valid = model.predict(features_valid)\n",
    "\n",
    "print(\"F1:\", f1_score(target_valid, predicted_valid))"
   ]
  },
  {
   "cell_type": "markdown",
   "metadata": {},
   "source": [
    "Значение F1-меры - 0,61."
   ]
  },
  {
   "cell_type": "code",
   "execution_count": 18,
   "metadata": {},
   "outputs": [
    {
     "name": "stdout",
     "output_type": "stream",
     "text": [
      "F1: 0.6254458977407847\n"
     ]
    }
   ],
   "source": [
    "#Уменьшим класс \"0\" и увеличим класс \"1\"\n",
    "def downsample(features, target, fraction, repeat):\n",
    "    features_zeros = features[target == 0]\n",
    "    features_ones = features[target == 1]\n",
    "    target_zeros = target[target == 0]\n",
    "    target_ones = target[target == 1]\n",
    "\n",
    "    features_downsampled = pd.concat(\n",
    "        [features_zeros.sample(frac=fraction, random_state=12345)] + [features_ones] * repeat)\n",
    "    target_downsampled = pd.concat(\n",
    "        [target_zeros.sample(frac=fraction, random_state=12345)] + [target_ones] * repeat)\n",
    "    \n",
    "    features_downsampled, target_downsampled = shuffle(\n",
    "        features_downsampled, target_downsampled, random_state=12345)\n",
    "    \n",
    "    return features_downsampled, target_downsampled\n",
    "\n",
    "features_downsampled, target_downsampled = downsample(features_train, target_train, 0.5, 2)\n",
    "\n",
    "model = RandomForestClassifier(random_state=12345, n_estimators=84, max_depth=19)\n",
    "model.fit(features_downsampled, target_downsampled)\n",
    "predicted_valid = model.predict(features_valid)\n",
    "\n",
    "print(\"F1:\", f1_score(target_valid, predicted_valid))"
   ]
  },
  {
   "cell_type": "markdown",
   "metadata": {},
   "source": [
    "Значение F1-меры - 0,63."
   ]
  },
  {
   "cell_type": "code",
   "execution_count": 19,
   "metadata": {},
   "outputs": [
    {
     "name": "stdout",
     "output_type": "stream",
     "text": [
      "0.2 0.5821782178217823\n",
      "0.21000000000000002 0.5865580448065173\n",
      "0.22000000000000003 0.5910509885535901\n",
      "0.23000000000000004 0.5963791267305645\n",
      "0.24000000000000005 0.6054644808743169\n",
      "0.25000000000000006 0.6136618141097424\n",
      "0.26000000000000006 0.6234357224118315\n",
      "0.2700000000000001 0.6242774566473988\n",
      "0.2800000000000001 0.6304604486422668\n",
      "0.2900000000000001 0.6352657004830917\n",
      "0.3000000000000001 0.6419753086419753\n",
      "0.3100000000000001 0.6465408805031446\n",
      "0.3200000000000001 0.647208121827411\n",
      "0.3300000000000001 0.65044814340589\n",
      "0.34000000000000014 0.6475195822454309\n",
      "0.35000000000000014 0.6453333333333334\n",
      "0.36000000000000015 0.6531165311653118\n",
      "0.37000000000000016 0.6602209944751382\n",
      "0.38000000000000017 0.6574202496532594\n",
      "0.3900000000000002 0.6448863636363636\n"
     ]
    }
   ],
   "source": [
    "#попробуем изменить порог классификации\n",
    "model = RandomForestClassifier(random_state=12345, n_estimators=84, max_depth=19)\n",
    "model.fit(features_train, target_train)\n",
    "probabilities_valid = model.predict_proba(features_valid)\n",
    "probabilities_one_valid = probabilities_valid[:, 1]\n",
    "\n",
    "for threshold in np.arange(0.2, 0.4, 0.01):\n",
    "    predicted_valid = probabilities_one_valid > threshold\n",
    "    f1 = f1_score(target_valid, predicted_valid)\n",
    "\n",
    "    print(threshold, f1)"
   ]
  },
  {
   "cell_type": "markdown",
   "metadata": {},
   "source": [
    "При пороге 0.37 значение F1-меры достигло 0.66."
   ]
  },
  {
   "cell_type": "markdown",
   "metadata": {},
   "source": [
    "**Промежуточные выводы**\n",
    "\n",
    "Лучшего результата удалось достичь с помощью изменения порога классификации. F1-мера достигла значения 0.66."
   ]
  },
  {
   "cell_type": "code",
   "execution_count": 20,
   "metadata": {},
   "outputs": [
    {
     "data": {
      "text/plain": [
       "0.7827105806790516"
      ]
     },
     "execution_count": 20,
     "metadata": {},
     "output_type": "execute_result"
    }
   ],
   "source": [
    "#Вычислим значение AUC-ROC\n",
    "predicted_valid = probabilities_one_valid > 0.37\n",
    "auc_roc = roc_auc_score(target_valid, predicted_valid)\n",
    "auc_roc"
   ]
  },
  {
   "cell_type": "markdown",
   "metadata": {},
   "source": [
    "**Промежуточные выводы**\n",
    "\n",
    "Лучшего результата удалось достич с помощью изменения порога классификации. F1-мера достигла значения 0.66.\n",
    "\n",
    "Значение AUC-ROC составило 0.78."
   ]
  },
  {
   "cell_type": "markdown",
   "metadata": {},
   "source": [
    "## Тестирование модели"
   ]
  },
  {
   "cell_type": "code",
   "execution_count": 21,
   "metadata": {},
   "outputs": [
    {
     "name": "stdout",
     "output_type": "stream",
     "text": [
      "0.6099290780141844\n"
     ]
    },
    {
     "data": {
      "text/plain": [
       "0.7046609506932138"
      ]
     },
     "execution_count": 21,
     "metadata": {},
     "output_type": "execute_result"
    }
   ],
   "source": [
    "probabilities_test = model.predict_proba(features_test)\n",
    "probabilities_one_test = probabilities_test[:, 1]\n",
    "predicted_test = probabilities_one_test > 0.37\n",
    "print(f1_score(target_test, predicted_test))\n",
    "roc_auc_score(target_test, model.predict(features_test))"
   ]
  },
  {
   "cell_type": "markdown",
   "metadata": {},
   "source": [
    "**Промежуточные выводы**\n",
    "\n",
    "На тестовой выборке значение F1-меры составило 0.61, а значение AUC-ROC - 0.71."
   ]
  },
  {
   "cell_type": "markdown",
   "metadata": {},
   "source": [
    "## Выводы"
   ]
  },
  {
   "cell_type": "markdown",
   "metadata": {},
   "source": [
    "В ходе построения модели предсказания ухода клиентов из банка, была проделана следующая работа:\n",
    "1. Проведена предобработка данных:\n",
    "    - Мы устранили пропуски в столбце Tenure - на них приходилось всего 9% данных, поправили названия столбцов. Дубликаты в данных не обнаружены.\n",
    "2. Провели исследование задачи:\n",
    "    - Выяснили, что данные не сбалансированны: на класс \"0\" приходится 80% данных, а на класс \"1\" - 20%.\n",
    "    - Исключили столбцы RowNumber, CustomerId, Surname т.к. для обучения модели они не помогут.\n",
    "    - Провели масштабирование данных.\n",
    "    - Обучили модель без учета дисбаланса, с использование дамми-ловушки.\n",
    "    - Рассмотрели 2 модели: случайный лес и логическую регрессию, проверили для каждой модели f1-меру. Лучший результат показала модель случайного леса  с глубиной 26 и количеством деревьев 41 - 0.61, ее мы и ииспользовали в дальнейшем.\n",
    "3. Проверили разные методы для борьбы с дисбалансом:\n",
    "    - С использованием метода балансировки весов классов мы получили значение f1-меры равное 0.57.\n",
    "    - Увеличив выборку с классом \"1\" в 4 раза мы получили значение f1-меры равное 0.62.\n",
    "    - Уменьшив выборку с классом \"0\" в 0.25 раз мы получили значение f1-меры равное 0,61.\n",
    "    - Увеличив выборку с классом \"1\" в 2 раза и уменьшив выборку с классом \"0\" в 2 раза мы получили значение f1-меры равное 0,63.\n",
    "    - Изменив порог классификации на 0.37 мы получили значение f1-меры равное 0.66. Значение AUC-ROC составило 0.78.\n",
    "4. Протестировали модель:\n",
    "    - Результаты предсказаний на тестовой выборке показали значение f1-меры равное 0.61. Также мы получили значение AUC-ROC - 0.71.\n",
    "В итоге нам удалось достичь значения f1-меры большее 0.59."
   ]
  }
 ],
 "metadata": {
  "ExecuteTimeLog": [
   {
    "duration": 4,
    "start_time": "2023-05-19T05:09:02.874Z"
   },
   {
    "duration": 398,
    "start_time": "2023-05-19T05:10:17.141Z"
   },
   {
    "duration": 35,
    "start_time": "2023-05-19T05:10:55.848Z"
   },
   {
    "duration": 42,
    "start_time": "2023-05-19T05:31:05.461Z"
   },
   {
    "duration": 10,
    "start_time": "2023-05-19T05:34:20.133Z"
   },
   {
    "duration": 23,
    "start_time": "2023-05-19T05:34:29.318Z"
   },
   {
    "duration": 15,
    "start_time": "2023-05-19T05:34:37.458Z"
   },
   {
    "duration": 45,
    "start_time": "2023-05-19T05:35:58.434Z"
   },
   {
    "duration": 46,
    "start_time": "2023-05-19T05:36:56.817Z"
   },
   {
    "duration": 47,
    "start_time": "2023-05-19T05:37:10.484Z"
   },
   {
    "duration": 1581,
    "start_time": "2023-05-19T05:38:42.977Z"
   },
   {
    "duration": 243,
    "start_time": "2023-05-19T05:38:53.714Z"
   },
   {
    "duration": 372,
    "start_time": "2023-05-19T05:39:17.799Z"
   },
   {
    "duration": 266,
    "start_time": "2023-05-19T05:41:21.701Z"
   },
   {
    "duration": 10,
    "start_time": "2023-05-19T05:42:40.217Z"
   },
   {
    "duration": 22,
    "start_time": "2023-05-19T05:42:49.037Z"
   },
   {
    "duration": 28,
    "start_time": "2023-05-19T05:43:19.923Z"
   },
   {
    "duration": 38,
    "start_time": "2023-05-19T05:44:25.106Z"
   },
   {
    "duration": 50,
    "start_time": "2023-05-19T05:44:54.729Z"
   },
   {
    "duration": 927,
    "start_time": "2023-05-19T05:45:33.399Z"
   },
   {
    "duration": 183,
    "start_time": "2023-05-19T05:45:34.332Z"
   },
   {
    "duration": 53,
    "start_time": "2023-05-19T05:45:34.518Z"
   },
   {
    "duration": 92,
    "start_time": "2023-05-19T05:45:34.579Z"
   },
   {
    "duration": 148,
    "start_time": "2023-05-19T05:45:34.683Z"
   },
   {
    "duration": 25,
    "start_time": "2023-05-19T05:45:42.174Z"
   },
   {
    "duration": 46,
    "start_time": "2023-05-19T05:45:50.420Z"
   },
   {
    "duration": 70,
    "start_time": "2023-05-19T05:53:26.821Z"
   },
   {
    "duration": 252,
    "start_time": "2023-05-19T05:54:38.399Z"
   },
   {
    "duration": 36,
    "start_time": "2023-05-19T05:54:51.513Z"
   },
   {
    "duration": 10,
    "start_time": "2023-05-19T06:29:03.093Z"
   },
   {
    "duration": 28,
    "start_time": "2023-05-19T06:29:13.747Z"
   },
   {
    "duration": 18,
    "start_time": "2023-05-19T06:34:14.738Z"
   },
   {
    "duration": 11,
    "start_time": "2023-05-19T06:39:50.426Z"
   },
   {
    "duration": 590,
    "start_time": "2023-05-19T06:41:32.063Z"
   },
   {
    "duration": 152,
    "start_time": "2023-05-19T06:41:32.661Z"
   },
   {
    "duration": 71,
    "start_time": "2023-05-19T06:41:32.822Z"
   },
   {
    "duration": 175,
    "start_time": "2023-05-19T06:41:32.900Z"
   },
   {
    "duration": 32,
    "start_time": "2023-05-19T06:41:33.078Z"
   },
   {
    "duration": 114,
    "start_time": "2023-05-19T06:41:33.112Z"
   },
   {
    "duration": 139,
    "start_time": "2023-05-19T06:41:33.229Z"
   },
   {
    "duration": 136,
    "start_time": "2023-05-19T06:41:33.371Z"
   },
   {
    "duration": 9,
    "start_time": "2023-05-19T06:41:44.658Z"
   },
   {
    "duration": 51,
    "start_time": "2023-05-19T06:41:55.435Z"
   },
   {
    "duration": 9,
    "start_time": "2023-05-19T06:42:01.993Z"
   },
   {
    "duration": 14,
    "start_time": "2023-05-19T06:42:07.996Z"
   },
   {
    "duration": 1229,
    "start_time": "2023-05-19T06:45:13.225Z"
   },
   {
    "duration": 198,
    "start_time": "2023-05-19T06:50:32.104Z"
   },
   {
    "duration": 50,
    "start_time": "2023-05-19T06:50:45.899Z"
   },
   {
    "duration": 33,
    "start_time": "2023-05-19T06:51:02.756Z"
   },
   {
    "duration": 30,
    "start_time": "2023-05-19T06:51:15.637Z"
   },
   {
    "duration": 49,
    "start_time": "2023-05-19T06:52:03.301Z"
   },
   {
    "duration": 22,
    "start_time": "2023-05-19T08:21:11.903Z"
   },
   {
    "duration": 162,
    "start_time": "2023-05-19T08:21:33.002Z"
   },
   {
    "duration": 41,
    "start_time": "2023-05-19T08:21:37.408Z"
   },
   {
    "duration": 15,
    "start_time": "2023-05-19T08:23:49.153Z"
   },
   {
    "duration": 52,
    "start_time": "2023-05-19T08:24:45.601Z"
   },
   {
    "duration": 538,
    "start_time": "2023-05-19T08:27:21.032Z"
   },
   {
    "duration": 418,
    "start_time": "2023-05-19T08:27:27.755Z"
   },
   {
    "duration": 38835,
    "start_time": "2023-05-19T08:27:39.031Z"
   },
   {
    "duration": 22,
    "start_time": "2023-05-19T08:30:23.599Z"
   },
   {
    "duration": 44932,
    "start_time": "2023-05-19T08:31:16.593Z"
   },
   {
    "duration": 47232,
    "start_time": "2023-05-19T08:32:50.370Z"
   },
   {
    "duration": 24292,
    "start_time": "2023-05-19T08:33:58.103Z"
   },
   {
    "duration": 33,
    "start_time": "2023-05-19T08:35:47.642Z"
   },
   {
    "duration": 4,
    "start_time": "2023-05-19T08:36:07.499Z"
   },
   {
    "duration": 34053,
    "start_time": "2023-05-19T08:36:48.884Z"
   },
   {
    "duration": 2934,
    "start_time": "2023-05-19T08:40:00.421Z"
   },
   {
    "duration": 141,
    "start_time": "2023-05-19T08:40:03.362Z"
   },
   {
    "duration": 34,
    "start_time": "2023-05-19T08:40:03.512Z"
   },
   {
    "duration": 103,
    "start_time": "2023-05-19T08:40:03.556Z"
   },
   {
    "duration": 163,
    "start_time": "2023-05-19T08:40:03.666Z"
   },
   {
    "duration": 126,
    "start_time": "2023-05-19T08:40:03.831Z"
   },
   {
    "duration": 44,
    "start_time": "2023-05-19T08:40:03.959Z"
   },
   {
    "duration": 76,
    "start_time": "2023-05-19T08:40:04.005Z"
   },
   {
    "duration": 542,
    "start_time": "2023-05-19T08:40:04.087Z"
   },
   {
    "duration": 510,
    "start_time": "2023-05-19T08:40:04.639Z"
   },
   {
    "duration": 22877,
    "start_time": "2023-05-19T08:40:39.871Z"
   },
   {
    "duration": 33552,
    "start_time": "2023-05-19T08:41:10.081Z"
   },
   {
    "duration": 5,
    "start_time": "2023-05-19T08:49:02.992Z"
   },
   {
    "duration": 14,
    "start_time": "2023-05-19T08:50:07.321Z"
   },
   {
    "duration": 101,
    "start_time": "2023-05-19T08:51:28.398Z"
   },
   {
    "duration": 76,
    "start_time": "2023-05-19T08:52:02.453Z"
   },
   {
    "duration": 83,
    "start_time": "2023-05-19T08:52:12.197Z"
   },
   {
    "duration": 98,
    "start_time": "2023-05-19T08:52:20.789Z"
   },
   {
    "duration": 95,
    "start_time": "2023-05-19T08:58:37.244Z"
   },
   {
    "duration": 106,
    "start_time": "2023-05-19T08:59:03.830Z"
   },
   {
    "duration": 77,
    "start_time": "2023-05-19T08:59:40.198Z"
   },
   {
    "duration": 30,
    "start_time": "2023-05-19T09:17:55.317Z"
   },
   {
    "duration": 561,
    "start_time": "2023-05-19T09:18:09.032Z"
   },
   {
    "duration": 130,
    "start_time": "2023-05-19T09:22:51.914Z"
   },
   {
    "duration": 3,
    "start_time": "2023-05-19T09:23:10.702Z"
   },
   {
    "duration": 1587,
    "start_time": "2023-05-19T09:23:15.499Z"
   },
   {
    "duration": 8,
    "start_time": "2023-05-19T09:25:28.723Z"
   },
   {
    "duration": 23,
    "start_time": "2023-05-19T09:25:38.417Z"
   },
   {
    "duration": 886,
    "start_time": "2023-05-19T09:26:49.936Z"
   },
   {
    "duration": 953,
    "start_time": "2023-05-19T09:26:59.158Z"
   },
   {
    "duration": 880,
    "start_time": "2023-05-19T09:27:07.201Z"
   },
   {
    "duration": 1025,
    "start_time": "2023-05-19T09:27:11.765Z"
   },
   {
    "duration": 1111,
    "start_time": "2023-05-19T09:27:23.709Z"
   },
   {
    "duration": 1150,
    "start_time": "2023-05-19T09:27:50.262Z"
   },
   {
    "duration": 12,
    "start_time": "2023-05-19T09:34:01.124Z"
   },
   {
    "duration": 364,
    "start_time": "2023-05-19T09:34:36.194Z"
   },
   {
    "duration": 378,
    "start_time": "2023-05-19T09:34:40.939Z"
   },
   {
    "duration": 567,
    "start_time": "2023-05-19T09:37:40.295Z"
   },
   {
    "duration": 517,
    "start_time": "2023-05-19T09:37:46.652Z"
   },
   {
    "duration": 603,
    "start_time": "2023-05-19T09:37:50.376Z"
   },
   {
    "duration": 711,
    "start_time": "2023-05-19T09:37:56.646Z"
   },
   {
    "duration": 779,
    "start_time": "2023-05-19T09:38:01.430Z"
   },
   {
    "duration": 881,
    "start_time": "2023-05-19T09:38:07.427Z"
   },
   {
    "duration": 731,
    "start_time": "2023-05-19T09:38:12.129Z"
   },
   {
    "duration": 832,
    "start_time": "2023-05-19T09:38:17.164Z"
   },
   {
    "duration": 925,
    "start_time": "2023-05-19T09:38:21.189Z"
   },
   {
    "duration": 740,
    "start_time": "2023-05-19T09:38:28.329Z"
   },
   {
    "duration": 950,
    "start_time": "2023-05-19T09:38:32.748Z"
   },
   {
    "duration": 988,
    "start_time": "2023-05-19T09:38:38.176Z"
   },
   {
    "duration": 896,
    "start_time": "2023-05-19T09:38:42.038Z"
   },
   {
    "duration": 879,
    "start_time": "2023-05-19T09:38:46.139Z"
   },
   {
    "duration": 754,
    "start_time": "2023-05-19T09:38:51.365Z"
   },
   {
    "duration": 800,
    "start_time": "2023-05-19T09:38:57.451Z"
   },
   {
    "duration": 1036,
    "start_time": "2023-05-19T09:41:19.160Z"
   },
   {
    "duration": 447,
    "start_time": "2023-05-19T09:41:29.794Z"
   },
   {
    "duration": 891,
    "start_time": "2023-05-19T09:41:38.568Z"
   },
   {
    "duration": 631,
    "start_time": "2023-05-19T09:44:14.831Z"
   },
   {
    "duration": 10,
    "start_time": "2023-05-19T09:44:36.837Z"
   },
   {
    "duration": 674,
    "start_time": "2023-05-19T09:44:41.534Z"
   },
   {
    "duration": 745,
    "start_time": "2023-05-19T09:44:59.868Z"
   },
   {
    "duration": 698,
    "start_time": "2023-05-19T09:45:11.706Z"
   },
   {
    "duration": 578,
    "start_time": "2023-05-19T09:45:26.918Z"
   },
   {
    "duration": 18,
    "start_time": "2023-05-19T09:50:36.371Z"
   },
   {
    "duration": 9,
    "start_time": "2023-05-19T09:54:26.305Z"
   },
   {
    "duration": 10,
    "start_time": "2023-05-19T09:57:19.053Z"
   },
   {
    "duration": 814,
    "start_time": "2023-05-19T09:58:41.981Z"
   },
   {
    "duration": 557,
    "start_time": "2023-05-19T09:59:08.637Z"
   },
   {
    "duration": 78,
    "start_time": "2023-05-19T10:02:42.393Z"
   },
   {
    "duration": 95,
    "start_time": "2023-05-19T10:03:48.799Z"
   },
   {
    "duration": 1582,
    "start_time": "2023-05-19T10:05:38.346Z"
   },
   {
    "duration": 96,
    "start_time": "2023-05-19T10:05:39.939Z"
   },
   {
    "duration": 24,
    "start_time": "2023-05-19T10:05:40.039Z"
   },
   {
    "duration": 83,
    "start_time": "2023-05-19T10:05:40.065Z"
   },
   {
    "duration": 167,
    "start_time": "2023-05-19T10:05:40.152Z"
   },
   {
    "duration": 35,
    "start_time": "2023-05-19T10:05:40.328Z"
   },
   {
    "duration": 101,
    "start_time": "2023-05-19T10:05:40.365Z"
   },
   {
    "duration": 99,
    "start_time": "2023-05-19T10:05:40.468Z"
   },
   {
    "duration": 529,
    "start_time": "2023-05-19T10:05:40.570Z"
   },
   {
    "duration": 19401,
    "start_time": "2023-05-19T10:05:41.102Z"
   },
   {
    "duration": 40159,
    "start_time": "2023-05-19T10:06:00.508Z"
   },
   {
    "duration": 161,
    "start_time": "2023-05-19T10:06:40.692Z"
   },
   {
    "duration": 584,
    "start_time": "2023-05-19T10:06:40.855Z"
   },
   {
    "duration": 1112,
    "start_time": "2023-05-19T10:06:41.442Z"
   },
   {
    "duration": 391,
    "start_time": "2023-05-19T10:06:42.564Z"
   },
   {
    "duration": 850,
    "start_time": "2023-05-19T10:06:42.957Z"
   },
   {
    "duration": 634,
    "start_time": "2023-05-19T10:06:43.810Z"
   },
   {
    "duration": 11,
    "start_time": "2023-05-19T10:06:44.452Z"
   },
   {
    "duration": 208,
    "start_time": "2023-05-19T10:07:20.811Z"
   },
   {
    "duration": 102,
    "start_time": "2023-05-19T10:07:26.095Z"
   },
   {
    "duration": 156,
    "start_time": "2023-05-19T10:10:09.772Z"
   },
   {
    "duration": 83,
    "start_time": "2023-05-19T10:10:23.530Z"
   },
   {
    "duration": 81,
    "start_time": "2023-05-19T10:10:34.347Z"
   },
   {
    "duration": 97,
    "start_time": "2023-05-19T10:10:39.666Z"
   },
   {
    "duration": 85,
    "start_time": "2023-05-19T10:10:43.729Z"
   },
   {
    "duration": 110,
    "start_time": "2023-05-19T10:10:48.138Z"
   },
   {
    "duration": 116,
    "start_time": "2023-05-19T10:10:51.677Z"
   },
   {
    "duration": 101,
    "start_time": "2023-05-19T10:10:55.489Z"
   },
   {
    "duration": 5000,
    "start_time": "2023-05-19T10:41:18.194Z"
   },
   {
    "duration": 503,
    "start_time": "2023-05-19T10:41:23.199Z"
   },
   {
    "duration": 102,
    "start_time": "2023-05-19T10:41:23.779Z"
   },
   {
    "duration": 16,
    "start_time": "2023-05-19T10:41:23.889Z"
   },
   {
    "duration": 74,
    "start_time": "2023-05-19T10:41:23.910Z"
   },
   {
    "duration": 99,
    "start_time": "2023-05-19T10:41:23.992Z"
   },
   {
    "duration": 37,
    "start_time": "2023-05-19T10:41:24.177Z"
   },
   {
    "duration": 9,
    "start_time": "2023-05-19T10:41:24.288Z"
   },
   {
    "duration": 2176,
    "start_time": "2023-05-19T10:41:24.303Z"
   },
   {
    "duration": 75902,
    "start_time": "2023-05-19T10:41:26.481Z"
   },
   {
    "duration": 59809,
    "start_time": "2023-05-19T10:42:42.386Z"
   },
   {
    "duration": 298,
    "start_time": "2023-05-19T10:43:42.199Z"
   },
   {
    "duration": 2101,
    "start_time": "2023-05-19T10:43:42.499Z"
   },
   {
    "duration": 4693,
    "start_time": "2023-05-19T10:43:44.604Z"
   },
   {
    "duration": 1901,
    "start_time": "2023-05-19T10:43:49.300Z"
   },
   {
    "duration": 3789,
    "start_time": "2023-05-19T10:43:51.210Z"
   },
   {
    "duration": 2568,
    "start_time": "2023-05-19T10:43:55.013Z"
   },
   {
    "duration": 88,
    "start_time": "2023-05-19T10:43:57.594Z"
   },
   {
    "duration": 243,
    "start_time": "2023-05-19T10:43:57.684Z"
   },
   {
    "duration": 1085,
    "start_time": "2023-05-20T09:10:51.864Z"
   },
   {
    "duration": 188,
    "start_time": "2023-05-20T09:10:52.951Z"
   },
   {
    "duration": 12,
    "start_time": "2023-05-20T09:10:53.140Z"
   },
   {
    "duration": 4,
    "start_time": "2023-05-20T09:10:53.154Z"
   },
   {
    "duration": 18,
    "start_time": "2023-05-20T09:10:53.159Z"
   },
   {
    "duration": 11,
    "start_time": "2023-05-20T09:10:53.178Z"
   },
   {
    "duration": 38,
    "start_time": "2023-05-20T09:10:53.190Z"
   },
   {
    "duration": 6,
    "start_time": "2023-05-20T09:10:53.229Z"
   },
   {
    "duration": 96,
    "start_time": "2023-05-20T09:10:57.552Z"
   },
   {
    "duration": 19,
    "start_time": "2023-05-20T09:11:06.782Z"
   },
   {
    "duration": 40,
    "start_time": "2023-05-20T09:11:42.591Z"
   },
   {
    "duration": 54,
    "start_time": "2023-05-20T09:12:38.589Z"
   },
   {
    "duration": 7,
    "start_time": "2023-05-20T09:17:56.103Z"
   },
   {
    "duration": 10,
    "start_time": "2023-05-20T09:22:16.777Z"
   },
   {
    "duration": 30,
    "start_time": "2023-05-20T09:26:07.222Z"
   },
   {
    "duration": 32,
    "start_time": "2023-05-20T09:26:18.341Z"
   },
   {
    "duration": 3319,
    "start_time": "2023-05-20T09:35:11.203Z"
   },
   {
    "duration": 27932,
    "start_time": "2023-05-20T09:35:25.658Z"
   },
   {
    "duration": 26803,
    "start_time": "2023-05-20T09:37:05.018Z"
   },
   {
    "duration": 2633,
    "start_time": "2023-05-20T09:37:46.992Z"
   },
   {
    "duration": 20,
    "start_time": "2023-05-20T09:39:22.471Z"
   },
   {
    "duration": 30164,
    "start_time": "2023-05-20T09:40:24.110Z"
   },
   {
    "duration": 31684,
    "start_time": "2023-05-20T09:42:48.226Z"
   },
   {
    "duration": 28744,
    "start_time": "2023-05-20T09:45:19.990Z"
   },
   {
    "duration": 45,
    "start_time": "2023-05-20T09:46:16.062Z"
   },
   {
    "duration": 28979,
    "start_time": "2023-05-20T09:46:31.749Z"
   },
   {
    "duration": 1865,
    "start_time": "2023-05-20T09:48:36.442Z"
   },
   {
    "duration": 1854,
    "start_time": "2023-05-20T09:48:55.459Z"
   },
   {
    "duration": 2681,
    "start_time": "2023-05-20T09:49:04.530Z"
   },
   {
    "duration": 18,
    "start_time": "2023-05-20T09:49:20.930Z"
   },
   {
    "duration": 161008,
    "start_time": "2023-05-20T09:50:05.068Z"
   },
   {
    "duration": 0,
    "start_time": "2023-05-20T10:01:23.869Z"
   },
   {
    "duration": 11,
    "start_time": "2023-05-20T10:01:36.785Z"
   },
   {
    "duration": 443116,
    "start_time": "2023-05-20T10:02:09.298Z"
   },
   {
    "duration": 1724,
    "start_time": "2023-05-20T10:11:18.783Z"
   },
   {
    "duration": 1674,
    "start_time": "2023-05-20T10:11:38.238Z"
   },
   {
    "duration": 92,
    "start_time": "2023-05-20T10:13:33.148Z"
   },
   {
    "duration": 466,
    "start_time": "2023-05-20T10:14:10.699Z"
   },
   {
    "duration": 660,
    "start_time": "2023-05-20T10:14:37.834Z"
   },
   {
    "duration": 722,
    "start_time": "2023-05-20T10:14:52.178Z"
   },
   {
    "duration": 287,
    "start_time": "2023-05-20T10:15:17.801Z"
   },
   {
    "duration": 8,
    "start_time": "2023-05-20T10:17:29.391Z"
   },
   {
    "duration": 8,
    "start_time": "2023-05-20T10:18:02.974Z"
   },
   {
    "duration": 5,
    "start_time": "2023-05-20T10:18:12.110Z"
   },
   {
    "duration": 1115,
    "start_time": "2023-05-20T14:49:40.353Z"
   },
   {
    "duration": 182,
    "start_time": "2023-05-20T14:49:41.470Z"
   },
   {
    "duration": 13,
    "start_time": "2023-05-20T14:49:41.654Z"
   },
   {
    "duration": 5,
    "start_time": "2023-05-20T14:49:41.668Z"
   },
   {
    "duration": 7,
    "start_time": "2023-05-20T14:49:41.675Z"
   },
   {
    "duration": 12,
    "start_time": "2023-05-20T14:49:41.683Z"
   },
   {
    "duration": 13,
    "start_time": "2023-05-20T14:49:41.697Z"
   },
   {
    "duration": 6,
    "start_time": "2023-05-20T14:49:41.712Z"
   },
   {
    "duration": 58,
    "start_time": "2023-05-20T14:49:41.720Z"
   },
   {
    "duration": 10,
    "start_time": "2023-05-20T14:49:41.780Z"
   },
   {
    "duration": 40,
    "start_time": "2023-05-20T14:49:41.792Z"
   },
   {
    "duration": 162902,
    "start_time": "2023-05-20T14:49:41.834Z"
   },
   {
    "duration": 2847,
    "start_time": "2023-05-20T14:52:24.737Z"
   },
   {
    "duration": 135,
    "start_time": "2023-05-20T14:52:27.684Z"
   },
   {
    "duration": 571,
    "start_time": "2023-05-20T14:52:27.821Z"
   },
   {
    "duration": 725,
    "start_time": "2023-05-20T14:52:28.394Z"
   },
   {
    "duration": 313,
    "start_time": "2023-05-20T14:52:29.120Z"
   },
   {
    "duration": 11,
    "start_time": "2023-05-20T14:53:25.664Z"
   },
   {
    "duration": 274,
    "start_time": "2023-05-20T14:56:51.364Z"
   },
   {
    "duration": 10,
    "start_time": "2023-05-20T15:00:47.047Z"
   },
   {
    "duration": 424,
    "start_time": "2023-05-20T15:03:43.238Z"
   },
   {
    "duration": 546,
    "start_time": "2023-05-20T15:04:01.507Z"
   },
   {
    "duration": 556,
    "start_time": "2023-05-20T15:04:39.754Z"
   },
   {
    "duration": 545,
    "start_time": "2023-05-20T15:04:46.698Z"
   },
   {
    "duration": 590,
    "start_time": "2023-05-20T15:04:54.090Z"
   },
   {
    "duration": 564,
    "start_time": "2023-05-20T15:05:35.048Z"
   },
   {
    "duration": 7,
    "start_time": "2023-05-20T15:07:09.934Z"
   },
   {
    "duration": 44,
    "start_time": "2023-05-20T15:09:46.702Z"
   },
   {
    "duration": 55,
    "start_time": "2023-05-20T15:14:56.997Z"
   },
   {
    "duration": 1036,
    "start_time": "2023-05-20T16:06:20.424Z"
   },
   {
    "duration": 61,
    "start_time": "2023-05-20T16:06:21.462Z"
   },
   {
    "duration": 16,
    "start_time": "2023-05-20T16:06:21.525Z"
   },
   {
    "duration": 5,
    "start_time": "2023-05-20T16:06:21.543Z"
   },
   {
    "duration": 7,
    "start_time": "2023-05-20T16:06:21.550Z"
   },
   {
    "duration": 21,
    "start_time": "2023-05-20T16:06:21.559Z"
   },
   {
    "duration": 11,
    "start_time": "2023-05-20T16:06:21.582Z"
   },
   {
    "duration": 5,
    "start_time": "2023-05-20T16:06:21.595Z"
   },
   {
    "duration": 24,
    "start_time": "2023-05-20T16:06:21.602Z"
   },
   {
    "duration": 46,
    "start_time": "2023-05-20T16:06:21.629Z"
   },
   {
    "duration": 49,
    "start_time": "2023-05-20T16:06:21.677Z"
   },
   {
    "duration": 170455,
    "start_time": "2023-05-20T16:06:21.728Z"
   },
   {
    "duration": 2094,
    "start_time": "2023-05-20T16:09:12.185Z"
   },
   {
    "duration": 130,
    "start_time": "2023-05-20T16:09:14.281Z"
   },
   {
    "duration": 558,
    "start_time": "2023-05-20T16:09:14.412Z"
   },
   {
    "duration": 708,
    "start_time": "2023-05-20T16:09:14.975Z"
   },
   {
    "duration": 285,
    "start_time": "2023-05-20T16:09:15.685Z"
   },
   {
    "duration": 456,
    "start_time": "2023-05-20T16:09:15.974Z"
   },
   {
    "duration": 543,
    "start_time": "2023-05-20T16:09:16.432Z"
   },
   {
    "duration": 5,
    "start_time": "2023-05-20T16:09:16.977Z"
   },
   {
    "duration": 48,
    "start_time": "2023-05-20T16:10:27.372Z"
   },
   {
    "duration": 1184,
    "start_time": "2023-05-20T18:22:58.966Z"
   },
   {
    "duration": 120,
    "start_time": "2023-05-20T18:23:00.154Z"
   },
   {
    "duration": 12,
    "start_time": "2023-05-20T18:23:00.276Z"
   },
   {
    "duration": 26,
    "start_time": "2023-05-20T18:23:00.289Z"
   },
   {
    "duration": 45,
    "start_time": "2023-05-20T18:23:00.327Z"
   },
   {
    "duration": 65,
    "start_time": "2023-05-20T18:23:00.374Z"
   },
   {
    "duration": 34,
    "start_time": "2023-05-20T18:23:00.446Z"
   },
   {
    "duration": 22,
    "start_time": "2023-05-20T18:23:00.481Z"
   },
   {
    "duration": 39,
    "start_time": "2023-05-20T18:23:00.507Z"
   },
   {
    "duration": 45,
    "start_time": "2023-05-20T18:23:00.548Z"
   },
   {
    "duration": 94,
    "start_time": "2023-05-20T18:23:00.594Z"
   },
   {
    "duration": 107854,
    "start_time": "2023-05-20T18:23:00.690Z"
   },
   {
    "duration": 0,
    "start_time": "2023-05-20T18:24:48.548Z"
   },
   {
    "duration": 0,
    "start_time": "2023-05-20T18:24:48.549Z"
   },
   {
    "duration": 0,
    "start_time": "2023-05-20T18:24:48.551Z"
   },
   {
    "duration": 0,
    "start_time": "2023-05-20T18:24:48.551Z"
   },
   {
    "duration": 0,
    "start_time": "2023-05-20T18:24:48.552Z"
   },
   {
    "duration": 0,
    "start_time": "2023-05-20T18:24:48.554Z"
   },
   {
    "duration": 0,
    "start_time": "2023-05-20T18:24:48.555Z"
   },
   {
    "duration": 0,
    "start_time": "2023-05-20T18:24:48.556Z"
   },
   {
    "duration": 0,
    "start_time": "2023-05-20T18:24:48.556Z"
   },
   {
    "duration": 1186,
    "start_time": "2023-05-20T18:25:14.658Z"
   },
   {
    "duration": 6294,
    "start_time": "2023-05-20T18:25:26.556Z"
   },
   {
    "duration": 11,
    "start_time": "2023-05-20T18:25:36.464Z"
   },
   {
    "duration": 2880,
    "start_time": "2023-05-20T18:25:53.570Z"
   },
   {
    "duration": 1866,
    "start_time": "2023-05-20T18:26:00.652Z"
   },
   {
    "duration": 14,
    "start_time": "2023-05-20T18:26:04.935Z"
   },
   {
    "duration": 650,
    "start_time": "2023-05-20T18:26:12.863Z"
   },
   {
    "duration": 883,
    "start_time": "2023-05-20T18:26:22.929Z"
   },
   {
    "duration": 403,
    "start_time": "2023-05-20T18:26:34.256Z"
   },
   {
    "duration": 540,
    "start_time": "2023-05-20T18:26:38.064Z"
   },
   {
    "duration": 704,
    "start_time": "2023-05-20T18:26:43.156Z"
   },
   {
    "duration": 5,
    "start_time": "2023-05-20T18:26:48.557Z"
   },
   {
    "duration": 42,
    "start_time": "2023-05-20T18:26:52.460Z"
   },
   {
    "duration": 6,
    "start_time": "2023-05-20T18:27:03.392Z"
   },
   {
    "duration": 152974,
    "start_time": "2023-05-20T18:28:09.264Z"
   },
   {
    "duration": 5,
    "start_time": "2023-05-20T18:32:04.265Z"
   },
   {
    "duration": 11,
    "start_time": "2023-05-20T18:32:07.278Z"
   },
   {
    "duration": 220,
    "start_time": "2023-05-20T18:32:37.957Z"
   },
   {
    "duration": 222,
    "start_time": "2023-05-20T18:32:39.883Z"
   },
   {
    "duration": 20,
    "start_time": "2023-05-20T18:32:41.702Z"
   },
   {
    "duration": 367,
    "start_time": "2023-05-20T18:33:13.873Z"
   },
   {
    "duration": 32,
    "start_time": "2023-05-20T18:33:16.394Z"
   },
   {
    "duration": 5,
    "start_time": "2023-05-21T06:40:17.641Z"
   },
   {
    "duration": 120,
    "start_time": "2023-05-21T06:42:12.269Z"
   },
   {
    "duration": 66,
    "start_time": "2023-05-21T06:42:44.960Z"
   },
   {
    "duration": 39,
    "start_time": "2023-05-21T06:42:54.773Z"
   },
   {
    "duration": 70,
    "start_time": "2023-05-21T06:46:25.365Z"
   },
   {
    "duration": 73,
    "start_time": "2023-05-21T06:46:37.415Z"
   },
   {
    "duration": 65,
    "start_time": "2023-05-21T06:47:06.687Z"
   },
   {
    "duration": 1046,
    "start_time": "2023-05-21T06:48:19.667Z"
   },
   {
    "duration": 61,
    "start_time": "2023-05-21T06:48:20.715Z"
   },
   {
    "duration": 14,
    "start_time": "2023-05-21T06:48:20.778Z"
   },
   {
    "duration": 48,
    "start_time": "2023-05-21T06:48:20.794Z"
   },
   {
    "duration": 33,
    "start_time": "2023-05-21T06:48:20.844Z"
   },
   {
    "duration": 49,
    "start_time": "2023-05-21T06:48:20.879Z"
   },
   {
    "duration": 12,
    "start_time": "2023-05-21T06:48:20.930Z"
   },
   {
    "duration": 14,
    "start_time": "2023-05-21T06:48:20.943Z"
   },
   {
    "duration": 39,
    "start_time": "2023-05-21T06:48:20.959Z"
   },
   {
    "duration": 10,
    "start_time": "2023-05-21T06:48:21.000Z"
   },
   {
    "duration": 36,
    "start_time": "2023-05-21T06:48:21.011Z"
   },
   {
    "duration": 132707,
    "start_time": "2023-05-21T06:48:21.048Z"
   },
   {
    "duration": 2666,
    "start_time": "2023-05-21T06:50:33.757Z"
   },
   {
    "duration": 113,
    "start_time": "2023-05-21T06:50:36.426Z"
   },
   {
    "duration": 627,
    "start_time": "2023-05-21T06:50:36.541Z"
   },
   {
    "duration": 805,
    "start_time": "2023-05-21T06:50:37.169Z"
   },
   {
    "duration": 338,
    "start_time": "2023-05-21T06:50:37.975Z"
   },
   {
    "duration": 481,
    "start_time": "2023-05-21T06:50:38.314Z"
   },
   {
    "duration": 597,
    "start_time": "2023-05-21T06:50:38.797Z"
   },
   {
    "duration": 5,
    "start_time": "2023-05-21T06:50:39.396Z"
   },
   {
    "duration": 74,
    "start_time": "2023-05-21T06:52:18.960Z"
   },
   {
    "duration": 1213,
    "start_time": "2024-05-21T06:07:56.346Z"
   },
   {
    "duration": 203,
    "start_time": "2024-05-21T06:08:01.858Z"
   },
   {
    "duration": 13,
    "start_time": "2024-05-21T06:08:18.843Z"
   },
   {
    "duration": 4,
    "start_time": "2024-05-21T06:08:39.957Z"
   },
   {
    "duration": 7,
    "start_time": "2024-05-21T06:08:44.587Z"
   },
   {
    "duration": 13,
    "start_time": "2024-05-21T06:08:49.403Z"
   },
   {
    "duration": 14,
    "start_time": "2024-05-21T06:08:56.283Z"
   },
   {
    "duration": 6,
    "start_time": "2024-05-21T06:09:17.626Z"
   },
   {
    "duration": 24,
    "start_time": "2024-05-21T06:09:53.483Z"
   },
   {
    "duration": 10,
    "start_time": "2024-05-21T06:10:19.779Z"
   },
   {
    "duration": 56,
    "start_time": "2024-05-21T06:10:30.859Z"
   },
   {
    "duration": 30,
    "start_time": "2024-05-21T06:10:40.716Z"
   },
   {
    "duration": 33,
    "start_time": "2024-05-21T06:10:49.964Z"
   },
   {
    "duration": 4,
    "start_time": "2024-05-21T06:13:12.078Z"
   },
   {
    "duration": 36,
    "start_time": "2024-05-21T06:13:16.814Z"
   },
   {
    "duration": 133039,
    "start_time": "2024-05-21T06:13:28.126Z"
   },
   {
    "duration": 4474,
    "start_time": "2024-05-21T06:15:48.895Z"
   },
   {
    "duration": 30,
    "start_time": "2024-05-21T06:16:10.519Z"
   },
   {
    "duration": 560,
    "start_time": "2024-05-21T06:17:15.896Z"
   },
   {
    "duration": 783,
    "start_time": "2024-05-21T06:17:39.545Z"
   },
   {
    "duration": 323,
    "start_time": "2024-05-21T06:17:54.441Z"
   },
   {
    "duration": 439,
    "start_time": "2024-05-21T06:18:18.033Z"
   },
   {
    "duration": 621,
    "start_time": "2024-05-21T06:18:23.970Z"
   },
   {
    "duration": 7,
    "start_time": "2024-05-21T06:18:53.057Z"
   },
   {
    "duration": 90,
    "start_time": "2024-05-21T06:19:03.018Z"
   },
   {
    "duration": 1171,
    "start_time": "2024-05-21T06:20:45.570Z"
   },
   {
    "duration": 65,
    "start_time": "2024-05-21T06:20:46.743Z"
   },
   {
    "duration": 13,
    "start_time": "2024-05-21T06:20:46.809Z"
   },
   {
    "duration": 6,
    "start_time": "2024-05-21T06:20:46.824Z"
   },
   {
    "duration": 9,
    "start_time": "2024-05-21T06:20:46.833Z"
   },
   {
    "duration": 21,
    "start_time": "2024-05-21T06:20:46.843Z"
   },
   {
    "duration": 11,
    "start_time": "2024-05-21T06:20:46.866Z"
   },
   {
    "duration": 6,
    "start_time": "2024-05-21T06:20:46.879Z"
   },
   {
    "duration": 26,
    "start_time": "2024-05-21T06:20:46.886Z"
   },
   {
    "duration": 10,
    "start_time": "2024-05-21T06:20:46.914Z"
   },
   {
    "duration": 68,
    "start_time": "2024-05-21T06:20:46.926Z"
   },
   {
    "duration": 132218,
    "start_time": "2024-05-21T06:20:46.996Z"
   },
   {
    "duration": 2549,
    "start_time": "2024-05-21T06:22:59.216Z"
   },
   {
    "duration": 192,
    "start_time": "2024-05-21T06:23:01.769Z"
   },
   {
    "duration": 561,
    "start_time": "2024-05-21T06:23:01.963Z"
   },
   {
    "duration": 772,
    "start_time": "2024-05-21T06:23:02.526Z"
   },
   {
    "duration": 310,
    "start_time": "2024-05-21T06:23:03.300Z"
   },
   {
    "duration": 466,
    "start_time": "2024-05-21T06:23:03.612Z"
   },
   {
    "duration": 596,
    "start_time": "2024-05-21T06:23:04.079Z"
   },
   {
    "duration": 6,
    "start_time": "2024-05-21T06:23:04.677Z"
   },
   {
    "duration": 89,
    "start_time": "2024-05-21T06:25:02.158Z"
   }
  ],
  "kernelspec": {
   "display_name": "Python 3 (ipykernel)",
   "language": "python",
   "name": "python3"
  },
  "language_info": {
   "codemirror_mode": {
    "name": "ipython",
    "version": 3
   },
   "file_extension": ".py",
   "mimetype": "text/x-python",
   "name": "python",
   "nbconvert_exporter": "python",
   "pygments_lexer": "ipython3",
   "version": "3.9.5"
  },
  "toc": {
   "base_numbering": 1,
   "nav_menu": {
    "height": "36px",
    "width": "272px"
   },
   "number_sections": true,
   "sideBar": true,
   "skip_h1_title": true,
   "title_cell": "Содержание",
   "title_sidebar": "Contents",
   "toc_cell": true,
   "toc_position": {
    "height": "calc(100% - 180px)",
    "left": "10px",
    "top": "150px",
    "width": "165px"
   },
   "toc_section_display": true,
   "toc_window_display": true
  }
 },
 "nbformat": 4,
 "nbformat_minor": 2
}
